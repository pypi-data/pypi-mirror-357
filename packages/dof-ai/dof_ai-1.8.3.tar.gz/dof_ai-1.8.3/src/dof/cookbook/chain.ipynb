{
 "cells": [
  {
   "cell_type": "code",
   "execution_count": 1,
   "metadata": {},
   "outputs": [
    {
     "name": "stdout",
     "output_type": "stream",
     "text": [
      "A robot is a machine that is capable of carrying out complex tasks automatically, often controlled by a computer program. Robots are designed to perform various functions, such as industrial manufacturing, exploration, assistance, and more. They can be programmed to operate autonomously or be controlled by humans.\n"
     ]
    }
   ],
   "source": [
    "from dof.llm import LLMService\n",
    "\n",
    "# Initialize the service\n",
    "llm = LLMService()\n",
    "messages = [\n",
    "    {\"role\": \"system\", \"content\": \"You are a helpful robotics assistant.\"},\n",
    "    {\"role\": \"user\", \"content\": \"What is a robot?\"},\n",
    "]\n",
    "response = llm.get_chat_completion(messages)\n",
    "print(response)\n"
   ]
  },
  {
   "cell_type": "code",
   "execution_count": null,
   "metadata": {},
   "outputs": [],
   "source": []
  }
 ],
 "metadata": {
  "kernelspec": {
   "display_name": ".venv",
   "language": "python",
   "name": "python3"
  },
  "language_info": {
   "codemirror_mode": {
    "name": "ipython",
    "version": 3
   },
   "file_extension": ".py",
   "mimetype": "text/x-python",
   "name": "python",
   "nbconvert_exporter": "python",
   "pygments_lexer": "ipython3",
   "version": "3.13.2"
  }
 },
 "nbformat": 4,
 "nbformat_minor": 2
}
