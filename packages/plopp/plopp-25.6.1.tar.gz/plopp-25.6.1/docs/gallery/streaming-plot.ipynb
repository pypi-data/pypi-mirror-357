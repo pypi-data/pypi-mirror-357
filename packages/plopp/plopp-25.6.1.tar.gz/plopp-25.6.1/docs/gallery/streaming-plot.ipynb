{
 "cells": [
  {
   "cell_type": "markdown",
   "id": "0",
   "metadata": {},
   "source": [
    "# Streaming events to a plot\n",
    "\n",
    "This notebook will illustrate how a plot can be continuously updated with new incoming data,\n",
    "without hogging the event loop, meaning that interacting with the plot (zooming, panning, ...) is possible while the data is streaming in.\n",
    "\n",
    "Working in other notebook cells is also possible while the plot is updating."
   ]
  },
  {
   "cell_type": "code",
   "execution_count": null,
   "id": "1",
   "metadata": {},
   "outputs": [],
   "source": [
    "import scipp as sc\n",
    "import plopp as pp\n",
    "import ipywidgets as ipw\n",
    "%matplotlib widget"
   ]
  },
  {
   "cell_type": "markdown",
   "id": "2",
   "metadata": {},
   "source": [
    "## Create a data generator\n",
    "\n",
    "We create an object which generates new data points when its `update` method is called."
   ]
  },
  {
   "cell_type": "code",
   "execution_count": null,
   "id": "3",
   "metadata": {},
   "outputs": [],
   "source": [
    "import numpy as np\n",
    "\n",
    "class DataGen:\n",
    "    \"\"\"A data generator which makes new data when asked\"\"\"\n",
    "    def __init__(self):\n",
    "        # Make an empty container with 300x300 bins\n",
    "        nx, ny = 300, 300\n",
    "        xmin, xmax = -10.0, 10.0\n",
    "        ymin, ymax = -10.0, 10.0\n",
    "        self.data = sc.DataArray(data=sc.zeros(sizes={'y': ny, 'x': nx}),\n",
    "                                 coords={'x': sc.linspace('x', xmin, xmax, nx+1, unit='m'),\n",
    "                                         'y': sc.linspace('y', ymin, ymax, ny+1, unit='m')})\n",
    "\n",
    "    def __call__(self, iteration: int=0):\n",
    "        # Generate new data when called\n",
    "        npoints = 100\n",
    "        x = sc.array(dims=['event'], values=np.random.normal(scale=2, size=npoints), unit='m')\n",
    "        y = sc.array(dims=['event'], values=np.random.normal(scale=2, size=npoints), unit='m')\n",
    "        new_events = sc.DataArray(\n",
    "            data=sc.ones(sizes=x.sizes, unit=\"\"),\n",
    "            coords={'x': x, 'y': y})\n",
    "        # Histogram and add to container\n",
    "        self.data += new_events.hist({xy: self.data.coords[xy] for xy in \"xy\"})\n",
    "        return self.data\n",
    "\n",
    "data = DataGen()"
   ]
  },
  {
   "cell_type": "markdown",
   "id": "4",
   "metadata": {},
   "source": [
    "## Connecting the data generator to a Play widget\n",
    "\n",
    "We now use `ipywidgets`'s [Play widget](https://ipywidgets.readthedocs.io/en/latest/examples/Widget%20List.html#play-animation-widget)\n",
    "to continuously send updates at regular intervals."
   ]
  },
  {
   "cell_type": "code",
   "execution_count": null,
   "id": "5",
   "metadata": {},
   "outputs": [],
   "source": [
    "# Create a play widget that fires every 100 ms\n",
    "play = ipw.Play(min=0, max=500, interval=100)\n",
    "\n",
    "# Wrap the widget in a widget node\n",
    "play_node = pp.widget_node(play)\n",
    "\n",
    "# Connect the widget to the data generator.\n",
    "# Note that `data` here is not a function, but our generator\n",
    "# class that has a `__call__` method defined.\n",
    "stream_node = pp.Node(data, iteration=play_node)\n",
    "\n",
    "# Plot on a figure\n",
    "fig = pp.imagefigure(stream_node, norm=\"log\", cbar=True)"
   ]
  },
  {
   "cell_type": "code",
   "execution_count": null,
   "id": "6",
   "metadata": {
    "nbsphinx": "hidden"
   },
   "outputs": [],
   "source": [
    "for _ in range(500):\n",
    "    play_node.notify_children(\"update\")\n",
    "fig.view.fit_to_data()"
   ]
  },
  {
   "cell_type": "code",
   "execution_count": null,
   "id": "7",
   "metadata": {},
   "outputs": [],
   "source": [
    "# Display figure a play widget\n",
    "ipw.VBox([fig, play])"
   ]
  },
  {
   "cell_type": "markdown",
   "id": "8",
   "metadata": {},
   "source": [
    "- After pressing play, data starts collecting on the plot.\n",
    "- Zooming and panning is still possible while the image is updating\n",
    "- Working elsewhere in the notebook is also not blocked by the updating plot"
   ]
  },
  {
   "cell_type": "code",
   "execution_count": null,
   "id": "9",
   "metadata": {},
   "outputs": [],
   "source": [
    "pp.show_graph(fig)"
   ]
  },
  {
   "cell_type": "code",
   "execution_count": null,
   "id": "10",
   "metadata": {
    "nbsphinx": "hidden"
   },
   "outputs": [],
   "source": [
    "# This cell is used to generate the thumbnail for the docs gallery.\n",
    "# It is hidden from the online documentation.\n",
    "fig.save('../_static/gallery/streaming-plot-thumbnail.png')"
   ]
  }
 ],
 "metadata": {
  "kernelspec": {
   "display_name": "Python 3 (ipykernel)",
   "language": "python",
   "name": "python3"
  },
  "language_info": {
   "codemirror_mode": {
    "name": "ipython",
    "version": 3
   },
   "file_extension": ".py",
   "mimetype": "text/x-python",
   "name": "python",
   "nbconvert_exporter": "python",
   "pygments_lexer": "ipython3"
  }
 },
 "nbformat": 4,
 "nbformat_minor": 5
}
