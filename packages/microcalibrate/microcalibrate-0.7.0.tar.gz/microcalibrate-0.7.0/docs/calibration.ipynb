{
 "cells": [
  {
   "cell_type": "markdown",
   "id": "b375e2dd",
   "metadata": {},
   "source": [
    "## Calibration\n",
    "\n",
    "The `Calibration` class provides a way to adjust weights of observations in a dataset to match specified target values. This is commonly used in survey research and policy modeling for rebalancing datasets to better represent desired population characteristics. \n",
    "\n",
    "The calibration process uses an optimization algorithm to find weights that minimize the distance from the original weights while achieving the target constraints.\n",
    "\n",
    "## Basic usage\n",
    "\n",
    "### Parameters\n",
    "\n",
    "`__init__(data, weights, targets)`\n",
    "\n",
    "- `data` (pd.DataFrame): The dataset to be calibrated. This should contain all the variables you want to use for calibration.\n",
    "- `weights` (np.ndarray): Initial weights for each observation in the dataset. Typically starts as an array of ones for equal weighting.\n",
    "- `targets` (np.ndarray): Target values that the calibration process should achieve. These correspond to the desired weighted sums.\n",
    "\n",
    "Calibration can be easily done by initializing the `Calibration` class, passing in the parameters above. Then `calibrate()` method performs the actual calibration using the reweight function. This method:\n",
    "- Adjusts the weights to better match the target values\n",
    "- May subsample the data for efficiency\n",
    "- Updates both `self.weights` and `self.data` with the calibrated results\n",
    "\n",
    "## Example\n",
    "\n",
    "Below is a complete example showing how to calibrate a dataset to match income targets for specific age groups:"
   ]
  },
  {
   "cell_type": "code",
   "execution_count": 1,
   "id": "vxj460xngvg",
   "metadata": {},
   "outputs": [
    {
     "name": "stdout",
     "output_type": "stream",
     "text": [
      "Original weights: [1. 1. 1. 1. 1. 1. 1. 1. 1. 1. 1. 1. 1. 1. 1. 1. 1. 1. 1. 1. 1. 1. 1. 1.\n",
      " 1. 1. 1. 1. 1. 1. 1. 1. 1. 1. 1. 1. 1. 1. 1. 1. 1. 1. 1. 1. 1. 1. 1. 1.\n",
      " 1. 1. 1. 1. 1. 1. 1. 1. 1. 1. 1. 1. 1. 1. 1. 1. 1. 1. 1. 1. 1. 1. 1. 1.\n",
      " 1. 1. 1. 1. 1. 1. 1. 1. 1. 1. 1. 1. 1. 1. 1. 1. 1. 1. 1. 1. 1. 1. 1. 1.\n",
      " 1. 1. 1. 1. 1. 1. 1. 1. 1. 1. 1. 1. 1. 1. 1. 1. 1. 1. 1. 1. 1. 1. 1. 1.\n",
      " 1.]\n",
      "Original targets: [7.37032429e+08 9.76779350e+05 4.36479914e+04]\n"
     ]
    }
   ],
   "source": [
    "from microcalibrate.calibration import Calibration\n",
    "import logging\n",
    "import numpy as np\n",
    "import pandas as pd\n",
    "import plotly.graph_objs as go\n",
    "from plotly.subplots import make_subplots\n",
    "\n",
    "logging.basicConfig(\n",
    "    level=logging.INFO,\n",
    ")\n",
    "\n",
    "# Create a sample dataset with age and income data\n",
    "random_generator = np.random.default_rng(0)\n",
    "data = pd.DataFrame({\n",
    "    \"age\": np.append(random_generator.integers(18, 70, size=120), 71), \n",
    "    \"income\": random_generator.normal(40000, 10000, size=121),\n",
    "})\n",
    "\n",
    "# Set initial weights (all one in this example)\n",
    "weights = np.ones(len(data))\n",
    "\n",
    "# Calculate target values: total income for age groups 20-30 and 40-50 (as an example) or employ existing targets\n",
    "targets_matrix = pd.DataFrame({\n",
    "    \"income_aged_20_30\": ((data[\"age\"] >= 20) & (data[\"age\"] <= 30)).astype(float) * data[\"income\"],\n",
    "    \"income_aged_40_50\": ((data[\"age\"] >= 40) & (data[\"age\"] <= 50)).astype(float) * data[\"income\"],\n",
    "    \"income_aged_71\" : (data[\"age\"] == 71).astype(float) * data[\"income\"],\n",
    "})\n",
    "\n",
    "# 15% higher than the sum of data with the original weights\n",
    "targets = np.array([\n",
    "    (targets_matrix[\"income_aged_20_30\"] * weights * 1000).sum(), \n",
    "    (targets_matrix[\"income_aged_40_50\"] * weights * 1.15).sum(), \n",
    "    (targets_matrix[\"income_aged_71\"] * weights * 1.15).sum()\n",
    "])\n",
    "\n",
    "print(f\"Original weights: {weights}\")\n",
    "print(f\"Original targets: {targets}\")"
   ]
  },
  {
   "cell_type": "code",
   "execution_count": 2,
   "id": "xfw94bs21yl",
   "metadata": {},
   "outputs": [
    {
     "name": "stderr",
     "output_type": "stream",
     "text": [
      "INFO:microcalibrate.calibration:Performing basic target assessment...\n",
      "WARNING:microcalibrate.calibration:Target income_aged_20_30 (7.37e+08) differs from initial estimate (7.37e+05) by 3.00 orders of magnitude.\n",
      "WARNING:microcalibrate.calibration:Target income_aged_71 is supported by only 0.83% of records in the loss matrix. This may make calibration unstable or ineffective.\n",
      "INFO:microcalibrate.reweight:Starting calibration process for targets ['income_aged_20_30' 'income_aged_40_50' 'income_aged_71']: [7.37032429e+08 9.76779350e+05 4.36479914e+04]\n",
      "INFO:microcalibrate.reweight:Original weights - mean: 1.0000, std: 0.0000\n",
      "INFO:microcalibrate.reweight:Initial weights after noise - mean: 1.0255, std: 0.0150\n",
      "Reweighting progress:   0%|          | 0/528 [00:00<?, ?epoch/s, loss=0.341, count_observations=121, weights_mean=1.03, weights_std=0.015, weights_min=1]INFO:microcalibrate.reweight:Within 10% from targets: 0.00% \n",
      "\n",
      "Reweighting progress:   0%|          | 1/528 [00:00<01:05,  7.99epoch/s, loss=0.333, count_observations=121, weights_mean=1.06, weights_std=0.0527, weights_min=1]INFO:microcalibrate.reweight:Within 10% from targets: 66.67% \n",
      "\n",
      "INFO:microcalibrate.reweight:Epoch   10: Loss = 0.332872, Change = 0.007766 (improving)\n",
      "Reweighting progress:   0%|          | 1/528 [00:00<01:05,  7.99epoch/s, loss=0.333, count_observations=121, weights_mean=1.09, weights_std=0.0935, weights_min=1]INFO:microcalibrate.reweight:Within 10% from targets: 66.67% \n",
      "\n",
      "INFO:microcalibrate.reweight:Epoch   20: Loss = 0.333005, Change = -0.000133 (worsening)\n",
      "Reweighting progress:   0%|          | 1/528 [00:00<01:05,  7.99epoch/s, loss=0.332, count_observations=121, weights_mean=1.11, weights_std=0.132, weights_min=1] INFO:microcalibrate.reweight:Within 10% from targets: 66.67% \n",
      "\n",
      "INFO:microcalibrate.reweight:Epoch   30: Loss = 0.332464, Change = 0.000541 (improving)\n",
      "Reweighting progress:   6%|▌         | 31/528 [00:00<00:03, 159.04epoch/s, loss=0.332, count_observations=121, weights_mean=1.13, weights_std=0.186, weights_min=1]INFO:microcalibrate.reweight:Within 10% from targets: 66.67% \n",
      "\n",
      "INFO:microcalibrate.reweight:Epoch   40: Loss = 0.332366, Change = 0.000098 (improving)\n",
      "Reweighting progress:   6%|▌         | 31/528 [00:00<00:03, 159.04epoch/s, loss=0.332, count_observations=121, weights_mean=1.15, weights_std=0.251, weights_min=1]INFO:microcalibrate.reweight:Within 10% from targets: 66.67% \n",
      "\n",
      "INFO:microcalibrate.reweight:Epoch   50: Loss = 0.332180, Change = 0.000186 (improving)\n",
      "Reweighting progress:  11%|█▏        | 60/528 [00:00<00:02, 214.09epoch/s, loss=0.332, count_observations=121, weights_mean=1.19, weights_std=0.328, weights_min=1]INFO:microcalibrate.reweight:Within 10% from targets: 66.67% \n",
      "\n",
      "INFO:microcalibrate.reweight:Epoch   60: Loss = 0.332039, Change = 0.000140 (improving)\n",
      "Reweighting progress:  11%|█▏        | 60/528 [00:00<00:02, 214.09epoch/s, loss=0.332, count_observations=121, weights_mean=1.23, weights_std=0.42, weights_min=1] INFO:microcalibrate.reweight:Within 10% from targets: 66.67% \n",
      "\n",
      "INFO:microcalibrate.reweight:Epoch   70: Loss = 0.331856, Change = 0.000183 (improving)\n",
      "Reweighting progress:  11%|█▏        | 60/528 [00:00<00:02, 214.09epoch/s, loss=0.332, count_observations=121, weights_mean=1.27, weights_std=0.53, weights_min=1]INFO:microcalibrate.reweight:Within 10% from targets: 66.67% \n",
      "\n",
      "INFO:microcalibrate.reweight:Epoch   80: Loss = 0.331652, Change = 0.000205 (improving)\n",
      "Reweighting progress:  11%|█▏        | 60/528 [00:00<00:02, 214.09epoch/s, loss=0.331, count_observations=121, weights_mean=1.33, weights_std=0.661, weights_min=1]INFO:microcalibrate.reweight:Within 10% from targets: 66.67% \n",
      "\n",
      "INFO:microcalibrate.reweight:Epoch   90: Loss = 0.331405, Change = 0.000247 (improving)\n",
      "Reweighting progress:  17%|█▋        | 91/528 [00:00<00:01, 244.55epoch/s, loss=0.331, count_observations=121, weights_mean=1.39, weights_std=0.821, weights_min=1]INFO:microcalibrate.reweight:Within 10% from targets: 66.67% \n",
      "\n",
      "INFO:microcalibrate.reweight:Epoch  100: Loss = 0.331107, Change = 0.000297 (improving)\n",
      "Reweighting progress:  17%|█▋        | 91/528 [00:00<00:01, 244.55epoch/s, loss=0.331, count_observations=121, weights_mean=1.47, weights_std=1.01, weights_min=1] INFO:microcalibrate.reweight:Within 10% from targets: 66.67% \n",
      "\n",
      "INFO:microcalibrate.reweight:Epoch  110: Loss = 0.330747, Change = 0.000361 (improving)\n",
      "Reweighting progress:  17%|█▋        | 91/528 [00:00<00:01, 244.55epoch/s, loss=0.33, count_observations=121, weights_mean=1.57, weights_std=1.25, weights_min=1] INFO:microcalibrate.reweight:Within 10% from targets: 66.67% \n",
      "\n",
      "INFO:microcalibrate.reweight:Epoch  120: Loss = 0.330305, Change = 0.000441 (improving)\n",
      "Reweighting progress:  23%|██▎       | 121/528 [00:00<00:01, 261.71epoch/s, loss=0.33, count_observations=121, weights_mean=1.7, weights_std=1.54, weights_min=1] INFO:microcalibrate.reweight:Within 10% from targets: 66.67% \n",
      "\n",
      "INFO:microcalibrate.reweight:Epoch  130: Loss = 0.329762, Change = 0.000544 (improving)\n",
      "Reweighting progress:  23%|██▎       | 121/528 [00:00<00:01, 261.71epoch/s, loss=0.329, count_observations=121, weights_mean=1.85, weights_std=1.91, weights_min=1]INFO:microcalibrate.reweight:Within 10% from targets: 66.67% \n",
      "\n",
      "INFO:microcalibrate.reweight:Epoch  140: Loss = 0.329088, Change = 0.000674 (improving)\n",
      "Reweighting progress:  23%|██▎       | 121/528 [00:00<00:01, 261.71epoch/s, loss=0.328, count_observations=121, weights_mean=2.04, weights_std=2.36, weights_min=1]INFO:microcalibrate.reweight:Within 10% from targets: 66.67% \n",
      "\n",
      "INFO:microcalibrate.reweight:Epoch  150: Loss = 0.328245, Change = 0.000842 (improving)\n",
      "Reweighting progress:  29%|██▉       | 152/528 [00:00<00:01, 275.27epoch/s, loss=0.327, count_observations=121, weights_mean=2.27, weights_std=2.94, weights_min=1]INFO:microcalibrate.reweight:Within 10% from targets: 66.67% \n",
      "\n",
      "INFO:microcalibrate.reweight:Epoch  160: Loss = 0.327186, Change = 0.001059 (improving)\n",
      "Reweighting progress:  29%|██▉       | 152/528 [00:00<00:01, 275.27epoch/s, loss=0.326, count_observations=121, weights_mean=2.58, weights_std=3.66, weights_min=1]INFO:microcalibrate.reweight:Within 10% from targets: 66.67% \n",
      "\n",
      "INFO:microcalibrate.reweight:Epoch  170: Loss = 0.325845, Change = 0.001341 (improving)\n",
      "Reweighting progress:  29%|██▉       | 152/528 [00:00<00:01, 275.27epoch/s, loss=0.324, count_observations=121, weights_mean=2.96, weights_std=4.59, weights_min=1]INFO:microcalibrate.reweight:Within 10% from targets: 66.67% \n",
      "\n",
      "INFO:microcalibrate.reweight:Epoch  180: Loss = 0.324135, Change = 0.001709 (improving)\n",
      "Reweighting progress:  34%|███▍      | 182/528 [00:00<00:01, 281.31epoch/s, loss=0.322, count_observations=121, weights_mean=3.46, weights_std=5.78, weights_min=1]INFO:microcalibrate.reweight:Within 10% from targets: 66.67% \n",
      "\n",
      "INFO:microcalibrate.reweight:Epoch  190: Loss = 0.321944, Change = 0.002192 (improving)\n",
      "Reweighting progress:  34%|███▍      | 182/528 [00:00<00:01, 281.31epoch/s, loss=0.319, count_observations=121, weights_mean=4.1, weights_std=7.33, weights_min=1] INFO:microcalibrate.reweight:Within 10% from targets: 66.67% \n",
      "\n",
      "INFO:microcalibrate.reweight:Epoch  200: Loss = 0.319117, Change = 0.002827 (improving)\n",
      "Reweighting progress:  34%|███▍      | 182/528 [00:00<00:01, 281.31epoch/s, loss=0.315, count_observations=121, weights_mean=4.94, weights_std=9.34, weights_min=1]INFO:microcalibrate.reweight:Within 10% from targets: 66.67% \n",
      "\n",
      "INFO:microcalibrate.reweight:Epoch  210: Loss = 0.315452, Change = 0.003664 (improving)\n",
      "Reweighting progress:  40%|████      | 212/528 [00:00<00:01, 284.88epoch/s, loss=0.311, count_observations=121, weights_mean=6.04, weights_std=12, weights_min=1]  INFO:microcalibrate.reweight:Within 10% from targets: 66.67% \n",
      "\n",
      "INFO:microcalibrate.reweight:Epoch  220: Loss = 0.310681, Change = 0.004771 (improving)\n",
      "Reweighting progress:  40%|████      | 212/528 [00:00<00:01, 284.88epoch/s, loss=0.304, count_observations=121, weights_mean=7.49, weights_std=15.5, weights_min=1]INFO:microcalibrate.reweight:Within 10% from targets: 66.67% \n",
      "\n",
      "INFO:microcalibrate.reweight:Epoch  230: Loss = 0.304447, Change = 0.006234 (improving)\n",
      "Reweighting progress:  40%|████      | 212/528 [00:00<00:01, 284.88epoch/s, loss=0.296, count_observations=121, weights_mean=9.41, weights_std=20.1, weights_min=1]INFO:microcalibrate.reweight:Within 10% from targets: 66.67% \n",
      "\n",
      "INFO:microcalibrate.reweight:Epoch  240: Loss = 0.296284, Change = 0.008163 (improving)\n",
      "Reweighting progress:  46%|████▌     | 242/528 [00:00<00:00, 286.83epoch/s, loss=0.286, count_observations=121, weights_mean=12, weights_std=26.2, weights_min=1]  INFO:microcalibrate.reweight:Within 10% from targets: 66.67% \n",
      "\n",
      "INFO:microcalibrate.reweight:Epoch  250: Loss = 0.285588, Change = 0.010695 (improving)\n",
      "Reweighting progress:  46%|████▌     | 242/528 [00:01<00:00, 286.83epoch/s, loss=0.272, count_observations=121, weights_mean=15.4, weights_std=34.4, weights_min=1]INFO:microcalibrate.reweight:Within 10% from targets: 66.67% \n",
      "\n",
      "INFO:microcalibrate.reweight:Epoch  260: Loss = 0.271602, Change = 0.013986 (improving)\n",
      "Reweighting progress:  46%|████▌     | 242/528 [00:01<00:00, 286.83epoch/s, loss=0.253, count_observations=121, weights_mean=20, weights_std=45.4, weights_min=1]  INFO:microcalibrate.reweight:Within 10% from targets: 66.67% \n",
      "\n",
      "INFO:microcalibrate.reweight:Epoch  270: Loss = 0.253410, Change = 0.018192 (improving)\n",
      "Reweighting progress:  52%|█████▏    | 272/528 [00:01<00:00, 290.64epoch/s, loss=0.23, count_observations=121, weights_mean=26.1, weights_std=60.2, weights_min=1]INFO:microcalibrate.reweight:Within 10% from targets: 66.67% \n",
      "\n",
      "INFO:microcalibrate.reweight:Epoch  280: Loss = 0.229991, Change = 0.023419 (improving)\n",
      "Reweighting progress:  52%|█████▏    | 272/528 [00:01<00:00, 290.64epoch/s, loss=0.2, count_observations=121, weights_mean=34.3, weights_std=79.9, weights_min=1] INFO:microcalibrate.reweight:Within 10% from targets: 66.67% \n",
      "\n",
      "INFO:microcalibrate.reweight:Epoch  290: Loss = 0.200385, Change = 0.029606 (improving)\n",
      "Reweighting progress:  52%|█████▏    | 272/528 [00:01<00:00, 290.64epoch/s, loss=0.164, count_observations=121, weights_mean=45.3, weights_std=106, weights_min=1]INFO:microcalibrate.reweight:Within 10% from targets: 66.67% \n",
      "\n",
      "INFO:microcalibrate.reweight:Epoch  300: Loss = 0.164079, Change = 0.036306 (improving)\n",
      "Reweighting progress:  57%|█████▋    | 302/528 [00:01<00:00, 247.22epoch/s, loss=0.122, count_observations=121, weights_mean=59.8, weights_std=141, weights_min=1]INFO:microcalibrate.reweight:Within 10% from targets: 66.67% \n",
      "\n",
      "INFO:microcalibrate.reweight:Epoch  310: Loss = 0.121770, Change = 0.042309 (improving)\n",
      "Reweighting progress:  57%|█████▋    | 302/528 [00:01<00:00, 247.22epoch/s, loss=0.0766, count_observations=121, weights_mean=78.4, weights_std=186, weights_min=1]INFO:microcalibrate.reweight:Within 10% from targets: 66.67% \n",
      "\n",
      "INFO:microcalibrate.reweight:Epoch  320: Loss = 0.076623, Change = 0.045146 (improving)\n",
      "Reweighting progress:  57%|█████▋    | 302/528 [00:01<00:00, 247.22epoch/s, loss=0.0356, count_observations=121, weights_mean=101, weights_std=240, weights_min=1] INFO:microcalibrate.reweight:Within 10% from targets: 66.67% \n",
      "\n",
      "INFO:microcalibrate.reweight:Epoch  330: Loss = 0.035612, Change = 0.041011 (improving)\n",
      "Reweighting progress:  63%|██████▎   | 333/528 [00:01<00:00, 262.41epoch/s, loss=0.00858, count_observations=121, weights_mean=126, weights_std=300, weights_min=1]INFO:microcalibrate.reweight:Within 10% from targets: 66.67% \n",
      "\n",
      "INFO:microcalibrate.reweight:Epoch  340: Loss = 0.008579, Change = 0.027033 (improving)\n",
      "Reweighting progress:  63%|██████▎   | 333/528 [00:01<00:00, 262.41epoch/s, loss=0.000132, count_observations=121, weights_mean=147, weights_std=350, weights_min=1]INFO:microcalibrate.reweight:Within 10% from targets: 100.00% \n",
      "\n",
      "INFO:microcalibrate.reweight:Epoch  350: Loss = 0.000132, Change = 0.008447 (improving)\n",
      "Reweighting progress:  63%|██████▎   | 333/528 [00:01<00:00, 262.41epoch/s, loss=0.00069, count_observations=121, weights_mean=156, weights_std=373, weights_min=1] INFO:microcalibrate.reweight:Within 10% from targets: 100.00% \n",
      "\n",
      "INFO:microcalibrate.reweight:Epoch  360: Loss = 0.000690, Change = -0.000558 (worsening)\n",
      "Reweighting progress:  69%|██████▉   | 363/528 [00:01<00:00, 272.04epoch/s, loss=0.000519, count_observations=121, weights_mean=156, weights_std=371, weights_min=1]INFO:microcalibrate.reweight:Within 10% from targets: 100.00% \n",
      "\n",
      "INFO:microcalibrate.reweight:Epoch  370: Loss = 0.000519, Change = 0.000171 (improving)\n",
      "Reweighting progress:  69%|██████▉   | 363/528 [00:01<00:00, 272.04epoch/s, loss=4.62e-5, count_observations=121, weights_mean=151, weights_std=361, weights_min=1] INFO:microcalibrate.reweight:Within 10% from targets: 100.00% \n",
      "\n",
      "INFO:microcalibrate.reweight:Epoch  380: Loss = 0.000046, Change = 0.000473 (improving)\n",
      "Reweighting progress:  69%|██████▉   | 363/528 [00:01<00:00, 272.04epoch/s, loss=9.27e-6, count_observations=121, weights_mean=149, weights_std=355, weights_min=1]INFO:microcalibrate.reweight:Within 10% from targets: 100.00% \n",
      "\n",
      "INFO:microcalibrate.reweight:Epoch  390: Loss = 0.000009, Change = 0.000037 (improving)\n",
      "Reweighting progress:  75%|███████▍  | 394/528 [00:01<00:00, 281.40epoch/s, loss=2.11e-5, count_observations=121, weights_mean=149, weights_std=354, weights_min=1]INFO:microcalibrate.reweight:Within 10% from targets: 100.00% \n",
      "\n",
      "INFO:microcalibrate.reweight:Epoch  400: Loss = 0.000021, Change = -0.000012 (worsening)\n",
      "Reweighting progress:  75%|███████▍  | 394/528 [00:01<00:00, 281.40epoch/s, loss=5.03e-6, count_observations=121, weights_mean=149, weights_std=356, weights_min=1]INFO:microcalibrate.reweight:Within 10% from targets: 100.00% \n",
      "\n",
      "INFO:microcalibrate.reweight:Epoch  410: Loss = 0.000005, Change = 0.000016 (improving)\n",
      "Reweighting progress:  75%|███████▍  | 394/528 [00:01<00:00, 281.40epoch/s, loss=1.12e-9, count_observations=121, weights_mean=150, weights_std=357, weights_min=1]INFO:microcalibrate.reweight:Within 10% from targets: 100.00% \n",
      "\n",
      "INFO:microcalibrate.reweight:Epoch  420: Loss = 0.000000, Change = 0.000005 (improving)\n",
      "Reweighting progress:  80%|████████  | 425/528 [00:01<00:00, 288.66epoch/s, loss=6.67e-7, count_observations=121, weights_mean=150, weights_std=358, weights_min=1]INFO:microcalibrate.reweight:Within 10% from targets: 100.00% \n",
      "\n",
      "INFO:microcalibrate.reweight:Epoch  430: Loss = 0.000001, Change = -0.000001 (worsening)\n",
      "Reweighting progress:  80%|████████  | 425/528 [00:01<00:00, 288.66epoch/s, loss=3.02e-7, count_observations=121, weights_mean=150, weights_std=357, weights_min=1]INFO:microcalibrate.reweight:Within 10% from targets: 100.00% \n",
      "\n",
      "INFO:microcalibrate.reweight:Epoch  440: Loss = 0.000000, Change = 0.000000 (improving)\n",
      "Reweighting progress:  80%|████████  | 425/528 [00:01<00:00, 288.66epoch/s, loss=7.26e-9, count_observations=121, weights_mean=150, weights_std=357, weights_min=1]INFO:microcalibrate.reweight:Within 10% from targets: 100.00% \n",
      "\n",
      "INFO:microcalibrate.reweight:Epoch  450: Loss = 0.000000, Change = 0.000000 (improving)\n",
      "Reweighting progress:  86%|████████▌ | 455/528 [00:01<00:00, 288.50epoch/s, loss=1.86e-8, count_observations=121, weights_mean=150, weights_std=357, weights_min=1]INFO:microcalibrate.reweight:Within 10% from targets: 100.00% \n",
      "\n",
      "INFO:microcalibrate.reweight:Epoch  460: Loss = 0.000000, Change = -0.000000 (worsening)\n",
      "Reweighting progress:  86%|████████▌ | 455/528 [00:01<00:00, 288.50epoch/s, loss=1.45e-8, count_observations=121, weights_mean=150, weights_std=357, weights_min=1]INFO:microcalibrate.reweight:Within 10% from targets: 100.00% \n",
      "\n",
      "INFO:microcalibrate.reweight:Epoch  470: Loss = 0.000000, Change = 0.000000 (improving)\n",
      "Reweighting progress:  86%|████████▌ | 455/528 [00:01<00:00, 288.50epoch/s, loss=9.38e-10, count_observations=121, weights_mean=150, weights_std=357, weights_min=1]INFO:microcalibrate.reweight:Within 10% from targets: 100.00% \n",
      "\n",
      "INFO:microcalibrate.reweight:Epoch  480: Loss = 0.000000, Change = 0.000000 (improving)\n",
      "Reweighting progress:  92%|█████████▏| 486/528 [00:01<00:00, 294.12epoch/s, loss=5.16e-10, count_observations=121, weights_mean=150, weights_std=357, weights_min=1]INFO:microcalibrate.reweight:Within 10% from targets: 100.00% \n",
      "\n",
      "INFO:microcalibrate.reweight:Epoch  490: Loss = 0.000000, Change = 0.000000 (improving)\n",
      "Reweighting progress:  92%|█████████▏| 486/528 [00:01<00:00, 294.12epoch/s, loss=6.38e-10, count_observations=121, weights_mean=150, weights_std=357, weights_min=1]INFO:microcalibrate.reweight:Within 10% from targets: 100.00% \n",
      "\n",
      "INFO:microcalibrate.reweight:Epoch  500: Loss = 0.000000, Change = -0.000000 (worsening)\n",
      "Reweighting progress:  92%|█████████▏| 486/528 [00:01<00:00, 294.12epoch/s, loss=5.81e-11, count_observations=121, weights_mean=150, weights_std=357, weights_min=1]INFO:microcalibrate.reweight:Within 10% from targets: 100.00% \n",
      "\n",
      "INFO:microcalibrate.reweight:Epoch  510: Loss = 0.000000, Change = 0.000000 (improving)\n",
      "Reweighting progress:  98%|█████████▊| 517/528 [00:01<00:00, 298.01epoch/s, loss=1.77e-11, count_observations=121, weights_mean=150, weights_std=357, weights_min=1]INFO:microcalibrate.reweight:Within 10% from targets: 100.00% \n",
      "\n",
      "INFO:microcalibrate.reweight:Epoch  520: Loss = 0.000000, Change = 0.000000 (improving)\n",
      "Reweighting progress: 100%|██████████| 528/528 [00:01<00:00, 269.35epoch/s, loss=1.77e-11, count_observations=121, weights_mean=150, weights_std=357, weights_min=1]\n",
      "INFO:microcalibrate.reweight:Reweighting completed. Final sample size: 121\n"
     ]
    },
    {
     "name": "stdout",
     "output_type": "stream",
     "text": [
      "Original dataset size: 121\n",
      "Calibrated dataset size: 121\n",
      "Number of calibrated weights: 121\n"
     ]
    }
   ],
   "source": [
    "# Initialize the Calibration object\n",
    "calibrator = Calibration(\n",
    "    loss_matrix=targets_matrix,\n",
    "    weights=weights, \n",
    "    targets=targets,\n",
    "    noise_level=0.05,\n",
    "    epochs=528,\n",
    "    learning_rate=0.01,\n",
    "    dropout_rate=0,\n",
    "    subsample_every=0,\n",
    ")\n",
    "\n",
    "# Perform the calibration\n",
    "performance_df = calibrator.calibrate()\n",
    "\n",
    "print(f\"Original dataset size: {len(targets_matrix)}\")\n",
    "print(f\"Calibrated dataset size: {len(calibrator.loss_matrix)}\")\n",
    "print(f\"Number of calibrated weights: {len(calibrator.weights)}\")"
   ]
  },
  {
   "cell_type": "code",
   "execution_count": 3,
   "id": "9djvjpfrhxb",
   "metadata": {},
   "outputs": [
    {
     "name": "stdout",
     "output_type": "stream",
     "text": [
      "Target totals: [7.37032429e+08 9.76779350e+05 4.36479914e+04]\n",
      "Final calibrated totals: [7.37025295e+08 9.76778438e+05 4.36469951e+04]\n",
      "Difference: [-7.13359381e+03 -9.11855579e-01 -9.96308503e-01]\n",
      "Relative error: [-9.67880588e-04 -9.33532818e-05 -2.28259874e-03]\n"
     ]
    }
   ],
   "source": [
    "# Calculate final weighted totals\n",
    "final_totals = targets_matrix.mul(calibrator.weights, axis=0).sum().values\n",
    "\n",
    "print(f\"Target totals: {targets}\")\n",
    "print(f\"Final calibrated totals: {final_totals}\")\n",
    "print(f\"Difference: {final_totals - targets}\")\n",
    "print(f\"Relative error: {(final_totals - targets) / targets * 100}\")"
   ]
  },
  {
   "cell_type": "code",
   "execution_count": 4,
   "id": "96cc818b",
   "metadata": {},
   "outputs": [],
   "source": [
    "np.testing.assert_allclose(\n",
    "        final_totals,\n",
    "        targets,\n",
    "        rtol=0.01,  # relative tolerance\n",
    "        err_msg=\"Calibrated totals do not match target values\",\n",
    "    )"
   ]
  },
  {
   "cell_type": "code",
   "execution_count": 5,
   "id": "923d79dd",
   "metadata": {},
   "outputs": [
    {
     "data": {
      "text/html": [
       "<div>\n",
       "<style scoped>\n",
       "    .dataframe tbody tr th:only-of-type {\n",
       "        vertical-align: middle;\n",
       "    }\n",
       "\n",
       "    .dataframe tbody tr th {\n",
       "        vertical-align: top;\n",
       "    }\n",
       "\n",
       "    .dataframe thead th {\n",
       "        text-align: right;\n",
       "    }\n",
       "</style>\n",
       "<table border=\"1\" class=\"dataframe\">\n",
       "  <thead>\n",
       "    <tr style=\"text-align: right;\">\n",
       "      <th></th>\n",
       "      <th>epoch</th>\n",
       "      <th>loss</th>\n",
       "      <th>target_name</th>\n",
       "      <th>target</th>\n",
       "      <th>estimate</th>\n",
       "      <th>error</th>\n",
       "      <th>abs_error</th>\n",
       "      <th>rel_abs_error</th>\n",
       "    </tr>\n",
       "  </thead>\n",
       "  <tbody>\n",
       "    <tr>\n",
       "      <th>0</th>\n",
       "      <td>0</td>\n",
       "      <td>0.340638</td>\n",
       "      <td>income_aged_20_30</td>\n",
       "      <td>7.370324e+08</td>\n",
       "      <td>754982.062500</td>\n",
       "      <td>-7.362775e+08</td>\n",
       "      <td>7.362775e+08</td>\n",
       "      <td>0.998976</td>\n",
       "    </tr>\n",
       "    <tr>\n",
       "      <th>1</th>\n",
       "      <td>0</td>\n",
       "      <td>0.340638</td>\n",
       "      <td>income_aged_40_50</td>\n",
       "      <td>9.767794e+05</td>\n",
       "      <td>872932.500000</td>\n",
       "      <td>-1.038469e+05</td>\n",
       "      <td>1.038469e+05</td>\n",
       "      <td>0.106316</td>\n",
       "    </tr>\n",
       "    <tr>\n",
       "      <th>2</th>\n",
       "      <td>0</td>\n",
       "      <td>0.340638</td>\n",
       "      <td>income_aged_71</td>\n",
       "      <td>4.364799e+04</td>\n",
       "      <td>38735.964844</td>\n",
       "      <td>-4.912027e+03</td>\n",
       "      <td>4.912027e+03</td>\n",
       "      <td>0.112537</td>\n",
       "    </tr>\n",
       "    <tr>\n",
       "      <th>3</th>\n",
       "      <td>10</td>\n",
       "      <td>0.332872</td>\n",
       "      <td>income_aged_20_30</td>\n",
       "      <td>7.370324e+08</td>\n",
       "      <td>834618.625000</td>\n",
       "      <td>-7.361978e+08</td>\n",
       "      <td>7.361978e+08</td>\n",
       "      <td>0.998868</td>\n",
       "    </tr>\n",
       "    <tr>\n",
       "      <th>4</th>\n",
       "      <td>10</td>\n",
       "      <td>0.332872</td>\n",
       "      <td>income_aged_40_50</td>\n",
       "      <td>9.767794e+05</td>\n",
       "      <td>959542.375000</td>\n",
       "      <td>-1.723700e+04</td>\n",
       "      <td>1.723700e+04</td>\n",
       "      <td>0.017647</td>\n",
       "    </tr>\n",
       "  </tbody>\n",
       "</table>\n",
       "</div>"
      ],
      "text/plain": [
       "   epoch      loss        target_name        target       estimate  \\\n",
       "0      0  0.340638  income_aged_20_30  7.370324e+08  754982.062500   \n",
       "1      0  0.340638  income_aged_40_50  9.767794e+05  872932.500000   \n",
       "2      0  0.340638     income_aged_71  4.364799e+04   38735.964844   \n",
       "3     10  0.332872  income_aged_20_30  7.370324e+08  834618.625000   \n",
       "4     10  0.332872  income_aged_40_50  9.767794e+05  959542.375000   \n",
       "\n",
       "          error     abs_error  rel_abs_error  \n",
       "0 -7.362775e+08  7.362775e+08       0.998976  \n",
       "1 -1.038469e+05  1.038469e+05       0.106316  \n",
       "2 -4.912027e+03  4.912027e+03       0.112537  \n",
       "3 -7.361978e+08  7.361978e+08       0.998868  \n",
       "4 -1.723700e+04  1.723700e+04       0.017647  "
      ]
     },
     "execution_count": 5,
     "metadata": {},
     "output_type": "execute_result"
    }
   ],
   "source": [
    "performance_df.head()"
   ]
  },
  {
   "cell_type": "code",
   "execution_count": 6,
   "id": "da828d30",
   "metadata": {},
   "outputs": [
    {
     "data": {
      "application/vnd.plotly.v1+json": {
       "config": {
        "plotlyServerURL": "https://plot.ly"
       },
       "data": [
        {
         "line": {
          "color": "red",
          "dash": "dot"
         },
         "mode": "lines",
         "name": "Target 20-30",
         "type": "scatter",
         "x": [
          0,
          10,
          20,
          30,
          40,
          50,
          60,
          70,
          80,
          90,
          100,
          110,
          120,
          130,
          140,
          150,
          160,
          170,
          180,
          190,
          200,
          210,
          220,
          230,
          240,
          250,
          260,
          270,
          280,
          290,
          300,
          310,
          320,
          330,
          340,
          350,
          360,
          370,
          380,
          390,
          400,
          410,
          420,
          430,
          440,
          450,
          460,
          470,
          480,
          490,
          500,
          510,
          520
         ],
         "xaxis": "x",
         "y": [
          737032448,
          737032448,
          737032448,
          737032448,
          737032448,
          737032448,
          737032448,
          737032448,
          737032448,
          737032448,
          737032448,
          737032448,
          737032448,
          737032448,
          737032448,
          737032448,
          737032448,
          737032448,
          737032448,
          737032448,
          737032448,
          737032448,
          737032448,
          737032448,
          737032448,
          737032448,
          737032448,
          737032448,
          737032448,
          737032448,
          737032448,
          737032448,
          737032448,
          737032448,
          737032448,
          737032448,
          737032448,
          737032448,
          737032448,
          737032448,
          737032448,
          737032448,
          737032448,
          737032448,
          737032448,
          737032448,
          737032448,
          737032448,
          737032448,
          737032448,
          737032448,
          737032448,
          737032448
         ],
         "yaxis": "y"
        },
        {
         "line": {
          "color": "blue"
         },
         "mode": "lines",
         "name": "Estimate 20-30",
         "type": "scatter",
         "x": [
          0,
          10,
          20,
          30,
          40,
          50,
          60,
          70,
          80,
          90,
          100,
          110,
          120,
          130,
          140,
          150,
          160,
          170,
          180,
          190,
          200,
          210,
          220,
          230,
          240,
          250,
          260,
          270,
          280,
          290,
          300,
          310,
          320,
          330,
          340,
          350,
          360,
          370,
          380,
          390,
          400,
          410,
          420,
          430,
          440,
          450,
          460,
          470,
          480,
          490,
          500,
          510,
          520
         ],
         "xaxis": "x",
         "y": [
          754982.0625,
          834618.625,
          924184.875,
          1026416.3125,
          1144486.75,
          1282112.25,
          1443764.75,
          1634959.5,
          1862616.375,
          2135513.5,
          2464877,
          2865158,
          3355070.25,
          3958981,
          4708793.5,
          5646488.5,
          6827589,
          8325871.5,
          10239818,
          12701446,
          15888442,
          20040796,
          25483674,
          32658670,
          42166360,
          54823456,
          71738160,
          94405552,
          124819360,
          165579920,
          219933664,
          291564288,
          383663680,
          496126464,
          618791744,
          722344448,
          770562688,
          766120448,
          745712640,
          733145728,
          731165120,
          734168192,
          737075200,
          738075136,
          737733440,
          737141248,
          736858368,
          736878720,
          736993344,
          737061440,
          737064704,
          737042176,
          737027072
         ],
         "yaxis": "y"
        },
        {
         "line": {
          "color": "red",
          "dash": "dot"
         },
         "mode": "lines",
         "name": "Target 40-50",
         "type": "scatter",
         "x": [
          0,
          10,
          20,
          30,
          40,
          50,
          60,
          70,
          80,
          90,
          100,
          110,
          120,
          130,
          140,
          150,
          160,
          170,
          180,
          190,
          200,
          210,
          220,
          230,
          240,
          250,
          260,
          270,
          280,
          290,
          300,
          310,
          320,
          330,
          340,
          350,
          360,
          370,
          380,
          390,
          400,
          410,
          420,
          430,
          440,
          450,
          460,
          470,
          480,
          490,
          500,
          510,
          520
         ],
         "xaxis": "x2",
         "y": [
          976779.375,
          976779.375,
          976779.375,
          976779.375,
          976779.375,
          976779.375,
          976779.375,
          976779.375,
          976779.375,
          976779.375,
          976779.375,
          976779.375,
          976779.375,
          976779.375,
          976779.375,
          976779.375,
          976779.375,
          976779.375,
          976779.375,
          976779.375,
          976779.375,
          976779.375,
          976779.375,
          976779.375,
          976779.375,
          976779.375,
          976779.375,
          976779.375,
          976779.375,
          976779.375,
          976779.375,
          976779.375,
          976779.375,
          976779.375,
          976779.375,
          976779.375,
          976779.375,
          976779.375,
          976779.375,
          976779.375,
          976779.375,
          976779.375,
          976779.375,
          976779.375,
          976779.375,
          976779.375,
          976779.375,
          976779.375,
          976779.375,
          976779.375,
          976779.375,
          976779.375,
          976779.375
         ],
         "yaxis": "y2"
        },
        {
         "line": {
          "color": "green"
         },
         "mode": "lines",
         "name": "Estimate 40-50",
         "type": "scatter",
         "x": [
          0,
          10,
          20,
          30,
          40,
          50,
          60,
          70,
          80,
          90,
          100,
          110,
          120,
          130,
          140,
          150,
          160,
          170,
          180,
          190,
          200,
          210,
          220,
          230,
          240,
          250,
          260,
          270,
          280,
          290,
          300,
          310,
          320,
          330,
          340,
          350,
          360,
          370,
          380,
          390,
          400,
          410,
          420,
          430,
          440,
          450,
          460,
          470,
          480,
          490,
          500,
          510,
          520
         ],
         "xaxis": "x2",
         "y": [
          872932.5,
          959542.375,
          1003970.875,
          983632.125,
          966627,
          975467.25,
          980708.0625,
          975920.875,
          975752.875,
          977580.375,
          976684,
          976560.125,
          976957.8125,
          976723.3125,
          976759.4375,
          976812.3125,
          976756.125,
          976786.25,
          976778.625,
          976775.4375,
          976781.125,
          976776.6875,
          976779.1875,
          976778.125,
          976778.3125,
          976778.375,
          976778.25,
          976778.375,
          976778.375,
          976778.375,
          976778.375,
          976778.375,
          976778.375,
          976778.375,
          976778.375,
          976778.375,
          976778.375,
          976778.375,
          976778.375,
          976778.375,
          976778.375,
          976778.375,
          976778.375,
          976778.375,
          976778.375,
          976778.375,
          976778.375,
          976778.375,
          976778.375,
          976778.375,
          976778.375,
          976778.375,
          976778.375
         ],
         "yaxis": "y2"
        },
        {
         "line": {
          "color": "blue"
         },
         "mode": "lines",
         "showlegend": false,
         "type": "scatter",
         "x": [
          0,
          10,
          20,
          30,
          40,
          50,
          60,
          70,
          80,
          90,
          100,
          110,
          120,
          130,
          140,
          150,
          160,
          170,
          180,
          190,
          200,
          210,
          220,
          230,
          240,
          250,
          260,
          270,
          280,
          290,
          300,
          310,
          320,
          330,
          340,
          350,
          360,
          370,
          380,
          390,
          400,
          410,
          420,
          430,
          440,
          450,
          460,
          470,
          480,
          490,
          500,
          510,
          520
         ],
         "xaxis": "x3",
         "y": [
          0.998975646100048,
          0.998867595819879,
          0.998746073015499,
          0.9986073661813869,
          0.9984471691129669,
          0.9982604398850022,
          0.998041111006825,
          0.9977816994293309,
          0.9974728163189364,
          0.9971025515826407,
          0.9966556736997283,
          0.9961125754940982,
          0.9954478662925842,
          0.9946284847963709,
          0.9936111449193619,
          0.9923388875003777,
          0.9907363793568014,
          0.9887035210965366,
          0.9861066930936533,
          0.9827667750117834,
          0.9784426831639303,
          0.9728088009498328,
          0.9654239456225406,
          0.9556889658133477,
          0.9427890045893882,
          0.9256159533426674,
          0.902666212058007,
          0.8719112676026985,
          0.8306460450435962,
          0.7753424283431277,
          0.7015956833422888,
          0.6044077994243205,
          0.47944804731310825,
          0.32685940036116296,
          0.16042808470760841,
          0.01992856629291849,
          0.04549357371033955,
          0.039466376384015046,
          0.011777218253489975,
          0.005273472030365751,
          0.00796074584765093,
          0.0038862006791863797,
          0.000058005587292677785,
          0.0014147111200184229,
          0.0009511005952345805,
          0.000147619009577174,
          0.0002361904153234784,
          0.00020857697706139525,
          0.000053056008736266656,
          0.000039336124316741076,
          0.00004376469460405629,
          0.000013198876150429676,
          0.000007294115767342716
         ],
         "yaxis": "y3"
        },
        {
         "line": {
          "color": "green"
         },
         "mode": "lines",
         "showlegend": false,
         "type": "scatter",
         "x": [
          0,
          10,
          20,
          30,
          40,
          50,
          60,
          70,
          80,
          90,
          100,
          110,
          120,
          130,
          140,
          150,
          160,
          170,
          180,
          190,
          200,
          210,
          220,
          230,
          240,
          250,
          260,
          270,
          280,
          290,
          300,
          310,
          320,
          330,
          340,
          350,
          360,
          370,
          380,
          390,
          400,
          410,
          420,
          430,
          440,
          450,
          460,
          470,
          480,
          490,
          500,
          510,
          520
         ],
         "xaxis": "x4",
         "y": [
          0.10631558943389852,
          0.01764676900553925,
          0.027837913756113043,
          0.0070156579626796485,
          0.010393723761826974,
          0.0013433176760105116,
          0.004022082775857138,
          0.0008789088119310463,
          0.0010509026155471393,
          0.0008200418850981574,
          0.00009764231559455277,
          0.000224462151445407,
          0.000182679430552063,
          0.00005739525366206673,
          0.000020411467021403888,
          0.00003372051134883965,
          0.000023802713893298575,
          0.000007038436903932375,
          7.678294804289864e-7,
          0.000004031104772252178,
          0.000001791602121000968,
          0.000002751388971537201,
          1.919573701072466e-7,
          0.0000012797158007149773,
          0.0000010877584306077306,
          0.0000010237726405719818,
          0.0000011517442206434795,
          0.0000010237726405719818,
          0.0000010237726405719818,
          0.0000010237726405719818,
          0.0000010237726405719818,
          0.0000010237726405719818,
          0.0000010237726405719818,
          0.0000010237726405719818,
          0.0000010237726405719818,
          0.0000010237726405719818,
          0.0000010237726405719818,
          0.0000010237726405719818,
          0.0000010237726405719818,
          0.0000010237726405719818,
          0.0000010237726405719818,
          0.0000010237726405719818,
          0.0000010237726405719818,
          0.0000010237726405719818,
          0.0000010237726405719818,
          0.0000010237726405719818,
          0.0000010237726405719818,
          0.0000010237726405719818,
          0.0000010237726405719818,
          0.0000010237726405719818,
          0.0000010237726405719818,
          0.0000010237726405719818,
          0.0000010237726405719818
         ],
         "yaxis": "y4"
        }
       ],
       "layout": {
        "annotations": [
         {
          "font": {
           "size": 16
          },
          "showarrow": false,
          "text": "Estimate vs target: income_aged_20_30",
          "x": 0.225,
          "xanchor": "center",
          "xref": "paper",
          "y": 1,
          "yanchor": "bottom",
          "yref": "paper"
         },
         {
          "font": {
           "size": 16
          },
          "showarrow": false,
          "text": "Estimate vs target: income_aged_40_50",
          "x": 0.775,
          "xanchor": "center",
          "xref": "paper",
          "y": 1,
          "yanchor": "bottom",
          "yref": "paper"
         },
         {
          "font": {
           "size": 16
          },
          "showarrow": false,
          "text": "Relative absolute error: income_aged_20_30",
          "x": 0.225,
          "xanchor": "center",
          "xref": "paper",
          "y": 0.44,
          "yanchor": "bottom",
          "yref": "paper"
         },
         {
          "font": {
           "size": 16
          },
          "showarrow": false,
          "text": "Relative absolute error: income_aged_40_50",
          "x": 0.775,
          "xanchor": "center",
          "xref": "paper",
          "y": 0.44,
          "yanchor": "bottom",
          "yref": "paper"
         }
        ],
        "height": 800,
        "legend": {
         "x": 1.05,
         "xanchor": "left",
         "y": 1,
         "yanchor": "top"
        },
        "margin": {
         "r": 200
        },
        "template": {
         "data": {
          "bar": [
           {
            "error_x": {
             "color": "#2a3f5f"
            },
            "error_y": {
             "color": "#2a3f5f"
            },
            "marker": {
             "line": {
              "color": "#E5ECF6",
              "width": 0.5
             },
             "pattern": {
              "fillmode": "overlay",
              "size": 10,
              "solidity": 0.2
             }
            },
            "type": "bar"
           }
          ],
          "barpolar": [
           {
            "marker": {
             "line": {
              "color": "#E5ECF6",
              "width": 0.5
             },
             "pattern": {
              "fillmode": "overlay",
              "size": 10,
              "solidity": 0.2
             }
            },
            "type": "barpolar"
           }
          ],
          "carpet": [
           {
            "aaxis": {
             "endlinecolor": "#2a3f5f",
             "gridcolor": "white",
             "linecolor": "white",
             "minorgridcolor": "white",
             "startlinecolor": "#2a3f5f"
            },
            "baxis": {
             "endlinecolor": "#2a3f5f",
             "gridcolor": "white",
             "linecolor": "white",
             "minorgridcolor": "white",
             "startlinecolor": "#2a3f5f"
            },
            "type": "carpet"
           }
          ],
          "choropleth": [
           {
            "colorbar": {
             "outlinewidth": 0,
             "ticks": ""
            },
            "type": "choropleth"
           }
          ],
          "contour": [
           {
            "colorbar": {
             "outlinewidth": 0,
             "ticks": ""
            },
            "colorscale": [
             [
              0,
              "#0d0887"
             ],
             [
              0.1111111111111111,
              "#46039f"
             ],
             [
              0.2222222222222222,
              "#7201a8"
             ],
             [
              0.3333333333333333,
              "#9c179e"
             ],
             [
              0.4444444444444444,
              "#bd3786"
             ],
             [
              0.5555555555555556,
              "#d8576b"
             ],
             [
              0.6666666666666666,
              "#ed7953"
             ],
             [
              0.7777777777777778,
              "#fb9f3a"
             ],
             [
              0.8888888888888888,
              "#fdca26"
             ],
             [
              1,
              "#f0f921"
             ]
            ],
            "type": "contour"
           }
          ],
          "contourcarpet": [
           {
            "colorbar": {
             "outlinewidth": 0,
             "ticks": ""
            },
            "type": "contourcarpet"
           }
          ],
          "heatmap": [
           {
            "colorbar": {
             "outlinewidth": 0,
             "ticks": ""
            },
            "colorscale": [
             [
              0,
              "#0d0887"
             ],
             [
              0.1111111111111111,
              "#46039f"
             ],
             [
              0.2222222222222222,
              "#7201a8"
             ],
             [
              0.3333333333333333,
              "#9c179e"
             ],
             [
              0.4444444444444444,
              "#bd3786"
             ],
             [
              0.5555555555555556,
              "#d8576b"
             ],
             [
              0.6666666666666666,
              "#ed7953"
             ],
             [
              0.7777777777777778,
              "#fb9f3a"
             ],
             [
              0.8888888888888888,
              "#fdca26"
             ],
             [
              1,
              "#f0f921"
             ]
            ],
            "type": "heatmap"
           }
          ],
          "heatmapgl": [
           {
            "colorbar": {
             "outlinewidth": 0,
             "ticks": ""
            },
            "colorscale": [
             [
              0,
              "#0d0887"
             ],
             [
              0.1111111111111111,
              "#46039f"
             ],
             [
              0.2222222222222222,
              "#7201a8"
             ],
             [
              0.3333333333333333,
              "#9c179e"
             ],
             [
              0.4444444444444444,
              "#bd3786"
             ],
             [
              0.5555555555555556,
              "#d8576b"
             ],
             [
              0.6666666666666666,
              "#ed7953"
             ],
             [
              0.7777777777777778,
              "#fb9f3a"
             ],
             [
              0.8888888888888888,
              "#fdca26"
             ],
             [
              1,
              "#f0f921"
             ]
            ],
            "type": "heatmapgl"
           }
          ],
          "histogram": [
           {
            "marker": {
             "pattern": {
              "fillmode": "overlay",
              "size": 10,
              "solidity": 0.2
             }
            },
            "type": "histogram"
           }
          ],
          "histogram2d": [
           {
            "colorbar": {
             "outlinewidth": 0,
             "ticks": ""
            },
            "colorscale": [
             [
              0,
              "#0d0887"
             ],
             [
              0.1111111111111111,
              "#46039f"
             ],
             [
              0.2222222222222222,
              "#7201a8"
             ],
             [
              0.3333333333333333,
              "#9c179e"
             ],
             [
              0.4444444444444444,
              "#bd3786"
             ],
             [
              0.5555555555555556,
              "#d8576b"
             ],
             [
              0.6666666666666666,
              "#ed7953"
             ],
             [
              0.7777777777777778,
              "#fb9f3a"
             ],
             [
              0.8888888888888888,
              "#fdca26"
             ],
             [
              1,
              "#f0f921"
             ]
            ],
            "type": "histogram2d"
           }
          ],
          "histogram2dcontour": [
           {
            "colorbar": {
             "outlinewidth": 0,
             "ticks": ""
            },
            "colorscale": [
             [
              0,
              "#0d0887"
             ],
             [
              0.1111111111111111,
              "#46039f"
             ],
             [
              0.2222222222222222,
              "#7201a8"
             ],
             [
              0.3333333333333333,
              "#9c179e"
             ],
             [
              0.4444444444444444,
              "#bd3786"
             ],
             [
              0.5555555555555556,
              "#d8576b"
             ],
             [
              0.6666666666666666,
              "#ed7953"
             ],
             [
              0.7777777777777778,
              "#fb9f3a"
             ],
             [
              0.8888888888888888,
              "#fdca26"
             ],
             [
              1,
              "#f0f921"
             ]
            ],
            "type": "histogram2dcontour"
           }
          ],
          "mesh3d": [
           {
            "colorbar": {
             "outlinewidth": 0,
             "ticks": ""
            },
            "type": "mesh3d"
           }
          ],
          "parcoords": [
           {
            "line": {
             "colorbar": {
              "outlinewidth": 0,
              "ticks": ""
             }
            },
            "type": "parcoords"
           }
          ],
          "pie": [
           {
            "automargin": true,
            "type": "pie"
           }
          ],
          "scatter": [
           {
            "fillpattern": {
             "fillmode": "overlay",
             "size": 10,
             "solidity": 0.2
            },
            "type": "scatter"
           }
          ],
          "scatter3d": [
           {
            "line": {
             "colorbar": {
              "outlinewidth": 0,
              "ticks": ""
             }
            },
            "marker": {
             "colorbar": {
              "outlinewidth": 0,
              "ticks": ""
             }
            },
            "type": "scatter3d"
           }
          ],
          "scattercarpet": [
           {
            "marker": {
             "colorbar": {
              "outlinewidth": 0,
              "ticks": ""
             }
            },
            "type": "scattercarpet"
           }
          ],
          "scattergeo": [
           {
            "marker": {
             "colorbar": {
              "outlinewidth": 0,
              "ticks": ""
             }
            },
            "type": "scattergeo"
           }
          ],
          "scattergl": [
           {
            "marker": {
             "colorbar": {
              "outlinewidth": 0,
              "ticks": ""
             }
            },
            "type": "scattergl"
           }
          ],
          "scattermapbox": [
           {
            "marker": {
             "colorbar": {
              "outlinewidth": 0,
              "ticks": ""
             }
            },
            "type": "scattermapbox"
           }
          ],
          "scatterpolar": [
           {
            "marker": {
             "colorbar": {
              "outlinewidth": 0,
              "ticks": ""
             }
            },
            "type": "scatterpolar"
           }
          ],
          "scatterpolargl": [
           {
            "marker": {
             "colorbar": {
              "outlinewidth": 0,
              "ticks": ""
             }
            },
            "type": "scatterpolargl"
           }
          ],
          "scatterternary": [
           {
            "marker": {
             "colorbar": {
              "outlinewidth": 0,
              "ticks": ""
             }
            },
            "type": "scatterternary"
           }
          ],
          "surface": [
           {
            "colorbar": {
             "outlinewidth": 0,
             "ticks": ""
            },
            "colorscale": [
             [
              0,
              "#0d0887"
             ],
             [
              0.1111111111111111,
              "#46039f"
             ],
             [
              0.2222222222222222,
              "#7201a8"
             ],
             [
              0.3333333333333333,
              "#9c179e"
             ],
             [
              0.4444444444444444,
              "#bd3786"
             ],
             [
              0.5555555555555556,
              "#d8576b"
             ],
             [
              0.6666666666666666,
              "#ed7953"
             ],
             [
              0.7777777777777778,
              "#fb9f3a"
             ],
             [
              0.8888888888888888,
              "#fdca26"
             ],
             [
              1,
              "#f0f921"
             ]
            ],
            "type": "surface"
           }
          ],
          "table": [
           {
            "cells": {
             "fill": {
              "color": "#EBF0F8"
             },
             "line": {
              "color": "white"
             }
            },
            "header": {
             "fill": {
              "color": "#C8D4E3"
             },
             "line": {
              "color": "white"
             }
            },
            "type": "table"
           }
          ]
         },
         "layout": {
          "annotationdefaults": {
           "arrowcolor": "#2a3f5f",
           "arrowhead": 0,
           "arrowwidth": 1
          },
          "autotypenumbers": "strict",
          "coloraxis": {
           "colorbar": {
            "outlinewidth": 0,
            "ticks": ""
           }
          },
          "colorscale": {
           "diverging": [
            [
             0,
             "#8e0152"
            ],
            [
             0.1,
             "#c51b7d"
            ],
            [
             0.2,
             "#de77ae"
            ],
            [
             0.3,
             "#f1b6da"
            ],
            [
             0.4,
             "#fde0ef"
            ],
            [
             0.5,
             "#f7f7f7"
            ],
            [
             0.6,
             "#e6f5d0"
            ],
            [
             0.7,
             "#b8e186"
            ],
            [
             0.8,
             "#7fbc41"
            ],
            [
             0.9,
             "#4d9221"
            ],
            [
             1,
             "#276419"
            ]
           ],
           "sequential": [
            [
             0,
             "#0d0887"
            ],
            [
             0.1111111111111111,
             "#46039f"
            ],
            [
             0.2222222222222222,
             "#7201a8"
            ],
            [
             0.3333333333333333,
             "#9c179e"
            ],
            [
             0.4444444444444444,
             "#bd3786"
            ],
            [
             0.5555555555555556,
             "#d8576b"
            ],
            [
             0.6666666666666666,
             "#ed7953"
            ],
            [
             0.7777777777777778,
             "#fb9f3a"
            ],
            [
             0.8888888888888888,
             "#fdca26"
            ],
            [
             1,
             "#f0f921"
            ]
           ],
           "sequentialminus": [
            [
             0,
             "#0d0887"
            ],
            [
             0.1111111111111111,
             "#46039f"
            ],
            [
             0.2222222222222222,
             "#7201a8"
            ],
            [
             0.3333333333333333,
             "#9c179e"
            ],
            [
             0.4444444444444444,
             "#bd3786"
            ],
            [
             0.5555555555555556,
             "#d8576b"
            ],
            [
             0.6666666666666666,
             "#ed7953"
            ],
            [
             0.7777777777777778,
             "#fb9f3a"
            ],
            [
             0.8888888888888888,
             "#fdca26"
            ],
            [
             1,
             "#f0f921"
            ]
           ]
          },
          "colorway": [
           "#636efa",
           "#EF553B",
           "#00cc96",
           "#ab63fa",
           "#FFA15A",
           "#19d3f3",
           "#FF6692",
           "#B6E880",
           "#FF97FF",
           "#FECB52"
          ],
          "font": {
           "color": "#2a3f5f"
          },
          "geo": {
           "bgcolor": "white",
           "lakecolor": "white",
           "landcolor": "#E5ECF6",
           "showlakes": true,
           "showland": true,
           "subunitcolor": "white"
          },
          "hoverlabel": {
           "align": "left"
          },
          "hovermode": "closest",
          "mapbox": {
           "style": "light"
          },
          "paper_bgcolor": "white",
          "plot_bgcolor": "#E5ECF6",
          "polar": {
           "angularaxis": {
            "gridcolor": "white",
            "linecolor": "white",
            "ticks": ""
           },
           "bgcolor": "#E5ECF6",
           "radialaxis": {
            "gridcolor": "white",
            "linecolor": "white",
            "ticks": ""
           }
          },
          "scene": {
           "xaxis": {
            "backgroundcolor": "#E5ECF6",
            "gridcolor": "white",
            "gridwidth": 2,
            "linecolor": "white",
            "showbackground": true,
            "ticks": "",
            "zerolinecolor": "white"
           },
           "yaxis": {
            "backgroundcolor": "#E5ECF6",
            "gridcolor": "white",
            "gridwidth": 2,
            "linecolor": "white",
            "showbackground": true,
            "ticks": "",
            "zerolinecolor": "white"
           },
           "zaxis": {
            "backgroundcolor": "#E5ECF6",
            "gridcolor": "white",
            "gridwidth": 2,
            "linecolor": "white",
            "showbackground": true,
            "ticks": "",
            "zerolinecolor": "white"
           }
          },
          "shapedefaults": {
           "line": {
            "color": "#2a3f5f"
           }
          },
          "ternary": {
           "aaxis": {
            "gridcolor": "white",
            "linecolor": "white",
            "ticks": ""
           },
           "baxis": {
            "gridcolor": "white",
            "linecolor": "white",
            "ticks": ""
           },
           "bgcolor": "#E5ECF6",
           "caxis": {
            "gridcolor": "white",
            "linecolor": "white",
            "ticks": ""
           }
          },
          "title": {
           "x": 0.05
          },
          "xaxis": {
           "automargin": true,
           "gridcolor": "white",
           "linecolor": "white",
           "ticks": "",
           "title": {
            "standoff": 15
           },
           "zerolinecolor": "white",
           "zerolinewidth": 2
          },
          "yaxis": {
           "automargin": true,
           "gridcolor": "white",
           "linecolor": "white",
           "ticks": "",
           "title": {
            "standoff": 15
           },
           "zerolinecolor": "white",
           "zerolinewidth": 2
          }
         }
        },
        "title": {
         "text": "Calibration performance over epochs"
        },
        "width": 1050,
        "xaxis": {
         "anchor": "y",
         "domain": [
          0,
          0.45
         ],
         "matches": "x3",
         "showticklabels": false
        },
        "xaxis2": {
         "anchor": "y2",
         "domain": [
          0.55,
          1
         ],
         "matches": "x4",
         "showticklabels": false
        },
        "xaxis3": {
         "anchor": "y3",
         "domain": [
          0,
          0.45
         ],
         "title": {
          "text": "Epoch"
         }
        },
        "xaxis4": {
         "anchor": "y4",
         "domain": [
          0.55,
          1
         ],
         "title": {
          "text": "Epoch"
         }
        },
        "yaxis": {
         "anchor": "x",
         "domain": [
          0.56,
          1
         ],
         "title": {
          "text": "Income ($)"
         }
        },
        "yaxis2": {
         "anchor": "x2",
         "domain": [
          0.56,
          1
         ],
         "title": {
          "text": "Income ($)"
         }
        },
        "yaxis3": {
         "anchor": "x3",
         "domain": [
          0,
          0.44
         ],
         "title": {
          "text": "Relative absolute error"
         }
        },
        "yaxis4": {
         "anchor": "x4",
         "domain": [
          0,
          0.44
         ],
         "title": {
          "text": "Relative absolute error"
         }
        }
       }
      }
     },
     "metadata": {},
     "output_type": "display_data"
    }
   ],
   "source": [
    "g20 = performance_df.query(\"target_name == 'income_aged_20_30'\")\n",
    "g40 = performance_df.query(\"target_name == 'income_aged_40_50'\")\n",
    "\n",
    "fig = make_subplots(\n",
    "    rows=2, cols=2,\n",
    "    subplot_titles=[\n",
    "        \"Estimate vs target: income_aged_20_30\",\n",
    "        \"Estimate vs target: income_aged_40_50\",\n",
    "        \"Relative absolute error: income_aged_20_30\",\n",
    "        \"Relative absolute error: income_aged_40_50\",\n",
    "    ],\n",
    "    shared_xaxes=True,\n",
    "    vertical_spacing=0.12,\n",
    "    horizontal_spacing=0.10,\n",
    ")\n",
    "\n",
    "fig.add_trace(\n",
    "    go.Scatter(\n",
    "        x=g20[\"epoch\"], y=g20[\"target\"],\n",
    "        mode=\"lines\", name=\"Target 20-30\",\n",
    "        line=dict(dash=\"dot\", color=\"red\"),\n",
    "    ),\n",
    "    row=1, col=1,\n",
    ")\n",
    "fig.add_trace(\n",
    "    go.Scatter(\n",
    "        x=g20[\"epoch\"], y=g20[\"estimate\"],\n",
    "        mode=\"lines\", name=\"Estimate 20-30\",\n",
    "        line=dict(color=\"blue\"),\n",
    "    ),\n",
    "    row=1, col=1,\n",
    ")\n",
    "\n",
    "fig.add_trace(\n",
    "    go.Scatter(\n",
    "        x=g40[\"epoch\"], y=g40[\"target\"],\n",
    "        mode=\"lines\", name=\"Target 40-50\",\n",
    "        line=dict(dash=\"dot\", color=\"red\"),\n",
    "    ),\n",
    "    row=1, col=2,\n",
    ")\n",
    "fig.add_trace(\n",
    "    go.Scatter(\n",
    "        x=g40[\"epoch\"], y=g40[\"estimate\"],\n",
    "        mode=\"lines\", name=\"Estimate 40-50\",\n",
    "        line=dict(color=\"green\"),\n",
    "    ),\n",
    "    row=1, col=2,\n",
    ")\n",
    "\n",
    "fig.add_trace(\n",
    "    go.Scatter(\n",
    "        x=g20[\"epoch\"], y=g20[\"rel_abs_error\"],\n",
    "        mode=\"lines\", showlegend=False,\n",
    "        line=dict(color=\"blue\"),\n",
    "    ),\n",
    "    row=2, col=1,\n",
    ")\n",
    "\n",
    "fig.add_trace(\n",
    "    go.Scatter(\n",
    "        x=g40[\"epoch\"], y=g40[\"rel_abs_error\"],\n",
    "        mode=\"lines\", showlegend=False,\n",
    "        line=dict(color=\"green\"),\n",
    "    ),\n",
    "    row=2, col=2,\n",
    ")\n",
    "\n",
    "fig.update_layout(\n",
    "    height=800, width=1050,\n",
    "    title_text=\"Calibration performance over epochs\",\n",
    "    legend=dict(x=1.05, y=1, xanchor=\"left\", yanchor=\"top\"),\n",
    "    margin=dict(r=200),\n",
    ")\n",
    "fig.update_xaxes(title_text=\"Epoch\", row=2, col=1)\n",
    "fig.update_xaxes(title_text=\"Epoch\", row=2, col=2)\n",
    "fig.update_yaxes(title_text=\"Income ($)\", row=1, col=1)\n",
    "fig.update_yaxes(title_text=\"Income ($)\", row=1, col=2)\n",
    "fig.update_yaxes(title_text=\"Relative absolute error\", row=2, col=1)\n",
    "fig.update_yaxes(title_text=\"Relative absolute error\", row=2, col=2)\n",
    "\n",
    "fig.show()"
   ]
  },
  {
   "cell_type": "code",
   "execution_count": null,
   "id": "fefaf031",
   "metadata": {},
   "outputs": [
    {
     "name": "stdout",
     "output_type": "stream",
     "text": [
      "--- Comparison of Totals ---\n",
      "Metric                    | Official Target |  Final Estimate |   Relative Error (%)\n",
      "-----------------------------------------------------------------------------------\n",
      "income_aged_20_30         |  737,032,448.00 |  737,027,072.00 |              -0.0007%\n",
      "income_aged_40_50         |      976,779.38 |      976,778.38 |              -0.0001%\n",
      "income_aged_71            |       43,647.99 |       43,646.99 |              -0.0023%\n"
     ]
    }
   ],
   "source": [
    "summary = calibrator.summary()\n",
    "summary"
   ]
  }
 ],
 "metadata": {
  "kernelspec": {
   "display_name": "pe",
   "language": "python",
   "name": "python3"
  },
  "language_info": {
   "codemirror_mode": {
    "name": "ipython",
    "version": 3
   },
   "file_extension": ".py",
   "mimetype": "text/x-python",
   "name": "python",
   "nbconvert_exporter": "python",
   "pygments_lexer": "ipython3",
   "version": "3.11.11"
  }
 },
 "nbformat": 4,
 "nbformat_minor": 5
}
