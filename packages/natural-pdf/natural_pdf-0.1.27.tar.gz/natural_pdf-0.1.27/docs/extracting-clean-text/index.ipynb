{
 "cells": [
  {
   "cell_type": "markdown",
   "id": "7a7b153a",
   "metadata": {},
   "source": [
    "# Extract Clean Text Without Headers and Footers\n",
    "\n",
    "You've got a PDF where you need the main content, but every page has headers, footers, watermarks, or other junk that's messing up your text extraction. Here's how to get just the content you want.\n",
    "\n",
    "## The Problem\n",
    "\n",
    "PDFs often have repeated content on every page that you don't want:\n",
    "\n",
    "- Company headers with logos and contact info\n",
    "- Page numbers and footers  \n",
    "- \"CONFIDENTIAL\" watermarks\n",
    "- Navigation elements from web-to-PDF conversions\n",
    "\n",
    "When you extract text normally, all this noise gets mixed in with your actual content.\n",
    "\n",
    "## Quick Solution: Exclude by Pattern\n",
    "\n",
    "If the unwanted content is consistent across pages, you can exclude it once:"
   ]
  },
  {
   "cell_type": "code",
   "execution_count": 1,
   "id": "4b445e12",
   "metadata": {
    "execution": {
     "iopub.execute_input": "2025-06-18T22:38:58.176399Z",
     "iopub.status.busy": "2025-06-18T22:38:58.176099Z",
     "iopub.status.idle": "2025-06-18T22:38:59.808871Z",
     "shell.execute_reply": "2025-06-18T22:38:59.808518Z"
    }
   },
   "outputs": [
    {
     "name": "stderr",
     "output_type": "stream",
     "text": [
      "CropBox missing from /Page, defaulting to MediaBox\n"
     ]
    }
   ],
   "source": [
    "from natural_pdf import PDF\n",
    "\n",
    "pdf = PDF(\"https://github.com/jsoma/natural-pdf/raw/refs/heads/main/pdfs/01-practice.pdf\")\n",
    "page = pdf.pages[0]\n",
    "\n",
    "# Find and exclude the header (top 10% of page)\n",
    "header_region = page.create_region(0, 0, page.width, page.height * 0.1)\n",
    "page.add_exclusion(header_region)\n",
    "\n",
    "# Find and exclude footer (bottom 10% of page)  \n",
    "footer_region = page.create_region(0, page.height * 0.9, page.width, page.height)\n",
    "page.add_exclusion(footer_region)\n",
    "\n",
    "# Now extract clean text\n",
    "clean_text = page.extract_text()"
   ]
  },
  {
   "cell_type": "markdown",
   "id": "09a3376a",
   "metadata": {},
   "source": [
    "## Exclude Specific Elements\n",
    "\n",
    "For more precision, exclude specific text or elements:"
   ]
  },
  {
   "cell_type": "code",
   "execution_count": 2,
   "id": "8b3dbafe",
   "metadata": {
    "execution": {
     "iopub.execute_input": "2025-06-18T22:38:59.810631Z",
     "iopub.status.busy": "2025-06-18T22:38:59.810426Z",
     "iopub.status.idle": "2025-06-18T22:38:59.815644Z",
     "shell.execute_reply": "2025-06-18T22:38:59.815329Z"
    }
   },
   "outputs": [
    {
     "data": {
      "text/plain": [
       "<Page number=1 index=0>"
      ]
     },
     "execution_count": 2,
     "metadata": {},
     "output_type": "execute_result"
    }
   ],
   "source": [
    "# Exclude anything containing \"CONFIDENTIAL\"\n",
    "confidential = page.find('text:contains(\"CONFIDENTIAL\")')\n",
    "if confidential:\n",
    "    page.add_exclusion(confidential.above())  # Everything above it\n",
    "\n",
    "# Exclude page numbers (usually small text with just numbers)\n",
    "page_nums = page.find_all('text:contains(\"^\\\\d+$\")', regex=True)\n",
    "for num in page_nums:\n",
    "    page.add_exclusion(num)\n",
    "\n",
    "# Exclude elements by position (like top-right logos)\n",
    "top_right = page.create_region(page.width * 0.7, 0, page.width, page.height * 0.15)\n",
    "page.add_exclusion(top_right)"
   ]
  },
  {
   "cell_type": "markdown",
   "id": "8440ad60",
   "metadata": {},
   "source": [
    "## Apply Exclusions to All Pages\n",
    "\n",
    "Set up exclusions that work across your entire document:"
   ]
  },
  {
   "cell_type": "code",
   "execution_count": 3,
   "id": "e8384235",
   "metadata": {
    "execution": {
     "iopub.execute_input": "2025-06-18T22:38:59.817266Z",
     "iopub.status.busy": "2025-06-18T22:38:59.817140Z",
     "iopub.status.idle": "2025-06-18T22:38:59.830625Z",
     "shell.execute_reply": "2025-06-18T22:38:59.830204Z"
    }
   },
   "outputs": [],
   "source": [
    "# Define exclusions that adapt to each page\n",
    "def exclude_header(page):\n",
    "    # Top 50 points of every page\n",
    "    return page.create_region(0, 0, page.width, 50)\n",
    "\n",
    "def exclude_footer(page):\n",
    "    # Bottom 30 points of every page  \n",
    "    return page.create_region(0, page.height - 30, page.width, page.height)\n",
    "\n",
    "def exclude_watermark(page):\n",
    "    # Find \"DRAFT\" watermark if it exists\n",
    "    draft = page.find('text:contains(\"DRAFT\")')\n",
    "    return draft.create_region() if draft else None\n",
    "\n",
    "# Apply to entire PDF\n",
    "pdf.add_exclusion(exclude_header, label=\"Headers\")\n",
    "pdf.add_exclusion(exclude_footer, label=\"Footers\") \n",
    "pdf.add_exclusion(exclude_watermark, label=\"Watermarks\")\n",
    "\n",
    "# Extract clean text from any page\n",
    "clean_text = pdf.pages[0].extract_text()  # Headers/footers automatically excluded"
   ]
  },
  {
   "cell_type": "markdown",
   "id": "954a3a0f",
   "metadata": {},
   "source": [
    "## Remove Noise from Scanned Documents\n",
    "\n",
    "For scanned PDFs, apply OCR first, then filter by confidence:"
   ]
  },
  {
   "cell_type": "code",
   "execution_count": 4,
   "id": "ced60e3b",
   "metadata": {
    "execution": {
     "iopub.execute_input": "2025-06-18T22:38:59.832766Z",
     "iopub.status.busy": "2025-06-18T22:38:59.832638Z",
     "iopub.status.idle": "2025-06-18T22:39:11.855867Z",
     "shell.execute_reply": "2025-06-18T22:39:11.855411Z"
    }
   },
   "outputs": [
    {
     "data": {
      "application/vnd.jupyter.widget-view+json": {
       "model_id": "e9eb0ecfa6f7426689e78d2b231bd275",
       "version_major": 2,
       "version_minor": 0
      },
      "text/plain": [
       "Rendering pages:   0%|          | 0/1 [00:00<?, ?it/s]"
      ]
     },
     "metadata": {},
     "output_type": "display_data"
    },
    {
     "name": "stderr",
     "output_type": "stream",
     "text": [
      "Using CPU. Note: This module is much faster with a GPU.\n"
     ]
    },
    {
     "name": "stderr",
     "output_type": "stream",
     "text": [
      "/Users/soma/Development/natural-pdf/.venv/lib/python3.11/site-packages/torch/utils/data/dataloader.py:683: UserWarning: 'pin_memory' argument is set as true but not supported on MPS now, then device pinned memory won't be used.\n",
      "  warnings.warn(warn_msg)\n"
     ]
    }
   ],
   "source": [
    "# Apply OCR\n",
    "page.apply_ocr(engine='easyocr', languages=['en'])\n",
    "\n",
    "# Only use high-confidence OCR text\n",
    "reliable_text = page.find_all('text[source=ocr][confidence>=0.8]')\n",
    "clean_text = reliable_text.extract_text()\n",
    "\n",
    "# Or exclude low-confidence noise\n",
    "noisy_text = page.find_all('text[source=ocr][confidence<0.5]')\n",
    "for noise in noisy_text:\n",
    "    page.add_exclusion(noise)"
   ]
  },
  {
   "cell_type": "markdown",
   "id": "15703602",
   "metadata": {},
   "source": [
    "## Handle Multi-Column Layouts\n",
    "\n",
    "Extract text from specific columns or sections:"
   ]
  },
  {
   "cell_type": "code",
   "execution_count": 5,
   "id": "86e7d78e",
   "metadata": {
    "execution": {
     "iopub.execute_input": "2025-06-18T22:39:11.857709Z",
     "iopub.status.busy": "2025-06-18T22:39:11.857491Z",
     "iopub.status.idle": "2025-06-18T22:39:11.864896Z",
     "shell.execute_reply": "2025-06-18T22:39:11.864609Z"
    }
   },
   "outputs": [],
   "source": [
    "# Extract just the main content column (avoiding sidebars)\n",
    "main_column = page.create_region(\n",
    "    x0=page.width * 0.1,      # Start 10% from left\n",
    "    top=page.height * 0.15,   # Skip header area\n",
    "    x1=page.width * 0.7,      # End before sidebar\n",
    "    bottom=page.height * 0.9   # Stop before footer\n",
    ")\n",
    "\n",
    "column_text = main_column.extract_text()"
   ]
  },
  {
   "cell_type": "markdown",
   "id": "f8810b4a",
   "metadata": {},
   "source": [
    "## Visual Debugging\n",
    "\n",
    "See what you're excluding before committing:"
   ]
  },
  {
   "cell_type": "code",
   "execution_count": 6,
   "id": "31f5270b",
   "metadata": {
    "execution": {
     "iopub.execute_input": "2025-06-18T22:39:11.866356Z",
     "iopub.status.busy": "2025-06-18T22:39:11.866260Z",
     "iopub.status.idle": "2025-06-18T22:39:11.893575Z",
     "shell.execute_reply": "2025-06-18T22:39:11.893289Z"
    }
   },
   "outputs": [
    {
     "data": {
      "text/plain": [
       "<Page number=1 index=0>"
      ]
     },
     "execution_count": 6,
     "metadata": {},
     "output_type": "execute_result"
    }
   ],
   "source": [
    "# Highlight what you're about to exclude\n",
    "header = page.create_region(0, 0, page.width, 50)\n",
    "footer = page.create_region(0, page.height - 30, page.width, page.height)\n",
    "\n",
    "header.highlight(color=\"red\", label=\"Will exclude\")\n",
    "footer.highlight(color=\"red\", label=\"Will exclude\") \n",
    "\n",
    "# Show the page to verify\n",
    "page.show()\n",
    "\n",
    "# If it looks right, apply the exclusions\n",
    "page.add_exclusion(header)\n",
    "page.add_exclusion(footer)"
   ]
  },
  {
   "cell_type": "markdown",
   "id": "a30c0fbd",
   "metadata": {},
   "source": [
    "## Compare Before and After"
   ]
  },
  {
   "cell_type": "code",
   "execution_count": 7,
   "id": "fda69817",
   "metadata": {
    "execution": {
     "iopub.execute_input": "2025-06-18T22:39:11.894974Z",
     "iopub.status.busy": "2025-06-18T22:39:11.894879Z",
     "iopub.status.idle": "2025-06-18T22:39:11.913465Z",
     "shell.execute_reply": "2025-06-18T22:39:11.913176Z"
    }
   },
   "outputs": [
    {
     "name": "stdout",
     "output_type": "stream",
     "text": [
      "Original: 2247 characters\n",
      "Clean: 2247 characters\n",
      "Removed: 0 characters\n"
     ]
    }
   ],
   "source": [
    "# Extract with and without exclusions to see the difference\n",
    "full_text = page.extract_text(use_exclusions=False)\n",
    "clean_text = page.extract_text(use_exclusions=True)\n",
    "\n",
    "print(f\"Original: {len(full_text)} characters\")\n",
    "print(f\"Clean: {len(clean_text)} characters\")\n",
    "print(f\"Removed: {len(full_text) - len(clean_text)} characters\")"
   ]
  },
  {
   "cell_type": "markdown",
   "id": "ba57b34d",
   "metadata": {
    "lines_to_next_cell": 0
   },
   "source": [
    "## Common Patterns\n",
    "\n",
    "### Corporate Reports"
   ]
  },
  {
   "cell_type": "code",
   "execution_count": 8,
   "id": "022a2bc8",
   "metadata": {
    "execution": {
     "iopub.execute_input": "2025-06-18T22:39:11.914788Z",
     "iopub.status.busy": "2025-06-18T22:39:11.914678Z",
     "iopub.status.idle": "2025-06-18T22:39:11.917338Z",
     "shell.execute_reply": "2025-06-18T22:39:11.917074Z"
    }
   },
   "outputs": [
    {
     "data": {
      "text/plain": [
       "<Page number=1 index=0>"
      ]
     },
     "execution_count": 8,
     "metadata": {},
     "output_type": "execute_result"
    }
   ],
   "source": [
    "# Remove headers with logos and contact info\n",
    "page.add_exclusion(page.create_region(0, 0, page.width, 80))\n",
    "\n",
    "# Remove footers with page numbers and dates\n",
    "page.add_exclusion(page.create_region(0, page.height - 40, page.width, page.height))"
   ]
  },
  {
   "cell_type": "markdown",
   "id": "3ce0e740",
   "metadata": {
    "lines_to_next_cell": 0
   },
   "source": [
    "### Academic Papers  "
   ]
  },
  {
   "cell_type": "code",
   "execution_count": 9,
   "id": "20528827",
   "metadata": {
    "execution": {
     "iopub.execute_input": "2025-06-18T22:39:11.918678Z",
     "iopub.status.busy": "2025-06-18T22:39:11.918574Z",
     "iopub.status.idle": "2025-06-18T22:39:11.922988Z",
     "shell.execute_reply": "2025-06-18T22:39:11.922738Z"
    }
   },
   "outputs": [],
   "source": [
    "# Remove running headers with paper title\n",
    "header = page.find('text[size<=10]').above() if page.find('text[size<=10]') else None\n",
    "if header:\n",
    "    page.add_exclusion(header)\n",
    "\n",
    "# Remove footnotes (small text at bottom)\n",
    "footnotes = page.find_all('text[size<=8]')\n",
    "for note in footnotes:\n",
    "    if note.top > page.height * 0.8:  # Bottom 20% of page\n",
    "        page.add_exclusion(note)"
   ]
  },
  {
   "cell_type": "markdown",
   "id": "17c92d0a",
   "metadata": {
    "lines_to_next_cell": 0
   },
   "source": [
    "### Government Documents"
   ]
  },
  {
   "cell_type": "code",
   "execution_count": 10,
   "id": "fd4a8869",
   "metadata": {
    "execution": {
     "iopub.execute_input": "2025-06-18T22:39:11.924259Z",
     "iopub.status.busy": "2025-06-18T22:39:11.924155Z",
     "iopub.status.idle": "2025-06-18T22:39:11.926603Z",
     "shell.execute_reply": "2025-06-18T22:39:11.926359Z"
    }
   },
   "outputs": [],
   "source": [
    "# Remove classification markings\n",
    "classifications = page.find_all('text:contains(\"CONFIDENTIAL|SECRET|UNCLASSIFIED\")', regex=True)\n",
    "for mark in classifications:\n",
    "    page.add_exclusion(mark)\n",
    "\n",
    "# Remove agency headers\n",
    "agency_header = page.find('text:contains(\"Department of|Agency|Office of\")', regex=True)\n",
    "if agency_header:\n",
    "    page.add_exclusion(agency_header.above())"
   ]
  },
  {
   "cell_type": "markdown",
   "id": "52a7e8d9",
   "metadata": {},
   "source": [
    "## When Things Go Wrong\n",
    "\n",
    "- **Problem**: Headers vary between pages\n",
    "- **Solution**: Use adaptive exclusions\n",
    "\n",
    "```py\n",
    "def smart_header_exclusion(page):\n",
    "    # Look for common header patterns\n",
    "    logo = page.find('image')\n",
    "    company_name = page.find('text:contains(\"ACME Corp\")')\n",
    "    \n",
    "    if logo:\n",
    "        return logo.above()\n",
    "    elif company_name and company_name.top < page.height * 0.2:\n",
    "        return company_name.above()\n",
    "    else:\n",
    "        return page.create_region(0, 0, page.width, 60)  # Fallback\n",
    "\n",
    "pdf.add_exclusion(smart_header_exclusion)\n",
    "```\n",
    "\n",
    "- **Problem**: Need to preserve some header information  \n",
    "- **Solution**: Extract before excluding\n",
    "\n",
    "```py\n",
    "# Get the document title from the header first\n",
    "title = page.find('text[size>=14]:bold')\n",
    "document_title = title.text if title else \"Unknown\"\n",
    "\n",
    "# Then exclude the header for clean body text\n",
    "page.add_exclusion(page.create_region(0, 0, page.width, 100))\n",
    "body_text = page.extract_text()\n",
    "``` "
   ]
  }
 ],
 "metadata": {
  "jupytext": {
   "cell_metadata_filter": "-all",
   "main_language": "python",
   "notebook_metadata_filter": "-all",
   "text_representation": {
    "extension": ".md",
    "format_name": "markdown"
   }
  },
  "language_info": {
   "codemirror_mode": {
    "name": "ipython",
    "version": 3
   },
   "file_extension": ".py",
   "mimetype": "text/x-python",
   "name": "python",
   "nbconvert_exporter": "python",
   "pygments_lexer": "ipython3",
   "version": "3.11.11"
  },
  "widgets": {
   "application/vnd.jupyter.widget-state+json": {
    "state": {
     "1a1f51e5ec284f8290cc1694ca4a7220": {
      "model_module": "@jupyter-widgets/controls",
      "model_module_version": "2.0.0",
      "model_name": "HTMLStyleModel",
      "state": {
       "_model_module": "@jupyter-widgets/controls",
       "_model_module_version": "2.0.0",
       "_model_name": "HTMLStyleModel",
       "_view_count": null,
       "_view_module": "@jupyter-widgets/base",
       "_view_module_version": "2.0.0",
       "_view_name": "StyleView",
       "background": null,
       "description_width": "",
       "font_size": null,
       "text_color": null
      }
     },
     "237bfe37f6fc4c439f2b63da28a550db": {
      "model_module": "@jupyter-widgets/controls",
      "model_module_version": "2.0.0",
      "model_name": "HTMLStyleModel",
      "state": {
       "_model_module": "@jupyter-widgets/controls",
       "_model_module_version": "2.0.0",
       "_model_name": "HTMLStyleModel",
       "_view_count": null,
       "_view_module": "@jupyter-widgets/base",
       "_view_module_version": "2.0.0",
       "_view_name": "StyleView",
       "background": null,
       "description_width": "",
       "font_size": null,
       "text_color": null
      }
     },
     "50582330607a430d865a181181b5007f": {
      "model_module": "@jupyter-widgets/controls",
      "model_module_version": "2.0.0",
      "model_name": "HTMLModel",
      "state": {
       "_dom_classes": [],
       "_model_module": "@jupyter-widgets/controls",
       "_model_module_version": "2.0.0",
       "_model_name": "HTMLModel",
       "_view_count": null,
       "_view_module": "@jupyter-widgets/controls",
       "_view_module_version": "2.0.0",
       "_view_name": "HTMLView",
       "description": "",
       "description_allow_html": false,
       "layout": "IPY_MODEL_b91f16b6bc894b0a8be7a60b44f269e9",
       "placeholder": "​",
       "style": "IPY_MODEL_237bfe37f6fc4c439f2b63da28a550db",
       "tabbable": null,
       "tooltip": null,
       "value": "Rendering pages:   0%"
      }
     },
     "5d305b10ac2a4300afaf36f2d2d943e6": {
      "model_module": "@jupyter-widgets/controls",
      "model_module_version": "2.0.0",
      "model_name": "HTMLModel",
      "state": {
       "_dom_classes": [],
       "_model_module": "@jupyter-widgets/controls",
       "_model_module_version": "2.0.0",
       "_model_name": "HTMLModel",
       "_view_count": null,
       "_view_module": "@jupyter-widgets/controls",
       "_view_module_version": "2.0.0",
       "_view_name": "HTMLView",
       "description": "",
       "description_allow_html": false,
       "layout": "IPY_MODEL_646ab02e08a14a1ea56f7591045a4ca2",
       "placeholder": "​",
       "style": "IPY_MODEL_1a1f51e5ec284f8290cc1694ca4a7220",
       "tabbable": null,
       "tooltip": null,
       "value": " 0/1 [00:00&lt;?, ?it/s]"
      }
     },
     "646ab02e08a14a1ea56f7591045a4ca2": {
      "model_module": "@jupyter-widgets/base",
      "model_module_version": "2.0.0",
      "model_name": "LayoutModel",
      "state": {
       "_model_module": "@jupyter-widgets/base",
       "_model_module_version": "2.0.0",
       "_model_name": "LayoutModel",
       "_view_count": null,
       "_view_module": "@jupyter-widgets/base",
       "_view_module_version": "2.0.0",
       "_view_name": "LayoutView",
       "align_content": null,
       "align_items": null,
       "align_self": null,
       "border_bottom": null,
       "border_left": null,
       "border_right": null,
       "border_top": null,
       "bottom": null,
       "display": null,
       "flex": null,
       "flex_flow": null,
       "grid_area": null,
       "grid_auto_columns": null,
       "grid_auto_flow": null,
       "grid_auto_rows": null,
       "grid_column": null,
       "grid_gap": null,
       "grid_row": null,
       "grid_template_areas": null,
       "grid_template_columns": null,
       "grid_template_rows": null,
       "height": null,
       "justify_content": null,
       "justify_items": null,
       "left": null,
       "margin": null,
       "max_height": null,
       "max_width": null,
       "min_height": null,
       "min_width": null,
       "object_fit": null,
       "object_position": null,
       "order": null,
       "overflow": null,
       "padding": null,
       "right": null,
       "top": null,
       "visibility": null,
       "width": null
      }
     },
     "7229c9c0dc3341fa82b086290967b4f8": {
      "model_module": "@jupyter-widgets/base",
      "model_module_version": "2.0.0",
      "model_name": "LayoutModel",
      "state": {
       "_model_module": "@jupyter-widgets/base",
       "_model_module_version": "2.0.0",
       "_model_name": "LayoutModel",
       "_view_count": null,
       "_view_module": "@jupyter-widgets/base",
       "_view_module_version": "2.0.0",
       "_view_name": "LayoutView",
       "align_content": null,
       "align_items": null,
       "align_self": null,
       "border_bottom": null,
       "border_left": null,
       "border_right": null,
       "border_top": null,
       "bottom": null,
       "display": null,
       "flex": null,
       "flex_flow": null,
       "grid_area": null,
       "grid_auto_columns": null,
       "grid_auto_flow": null,
       "grid_auto_rows": null,
       "grid_column": null,
       "grid_gap": null,
       "grid_row": null,
       "grid_template_areas": null,
       "grid_template_columns": null,
       "grid_template_rows": null,
       "height": null,
       "justify_content": null,
       "justify_items": null,
       "left": null,
       "margin": null,
       "max_height": null,
       "max_width": null,
       "min_height": null,
       "min_width": null,
       "object_fit": null,
       "object_position": null,
       "order": null,
       "overflow": null,
       "padding": null,
       "right": null,
       "top": null,
       "visibility": "hidden",
       "width": null
      }
     },
     "9d86d059f8ed49baaeb1c5a0da5e46d3": {
      "model_module": "@jupyter-widgets/controls",
      "model_module_version": "2.0.0",
      "model_name": "FloatProgressModel",
      "state": {
       "_dom_classes": [],
       "_model_module": "@jupyter-widgets/controls",
       "_model_module_version": "2.0.0",
       "_model_name": "FloatProgressModel",
       "_view_count": null,
       "_view_module": "@jupyter-widgets/controls",
       "_view_module_version": "2.0.0",
       "_view_name": "ProgressView",
       "bar_style": "",
       "description": "",
       "description_allow_html": false,
       "layout": "IPY_MODEL_d2b7f5b8c87e4551999b5f31dcb70e5b",
       "max": 1.0,
       "min": 0.0,
       "orientation": "horizontal",
       "style": "IPY_MODEL_ba7920cb2e7149f7a1f44ce120abe075",
       "tabbable": null,
       "tooltip": null,
       "value": 1.0
      }
     },
     "b91f16b6bc894b0a8be7a60b44f269e9": {
      "model_module": "@jupyter-widgets/base",
      "model_module_version": "2.0.0",
      "model_name": "LayoutModel",
      "state": {
       "_model_module": "@jupyter-widgets/base",
       "_model_module_version": "2.0.0",
       "_model_name": "LayoutModel",
       "_view_count": null,
       "_view_module": "@jupyter-widgets/base",
       "_view_module_version": "2.0.0",
       "_view_name": "LayoutView",
       "align_content": null,
       "align_items": null,
       "align_self": null,
       "border_bottom": null,
       "border_left": null,
       "border_right": null,
       "border_top": null,
       "bottom": null,
       "display": null,
       "flex": null,
       "flex_flow": null,
       "grid_area": null,
       "grid_auto_columns": null,
       "grid_auto_flow": null,
       "grid_auto_rows": null,
       "grid_column": null,
       "grid_gap": null,
       "grid_row": null,
       "grid_template_areas": null,
       "grid_template_columns": null,
       "grid_template_rows": null,
       "height": null,
       "justify_content": null,
       "justify_items": null,
       "left": null,
       "margin": null,
       "max_height": null,
       "max_width": null,
       "min_height": null,
       "min_width": null,
       "object_fit": null,
       "object_position": null,
       "order": null,
       "overflow": null,
       "padding": null,
       "right": null,
       "top": null,
       "visibility": null,
       "width": null
      }
     },
     "ba7920cb2e7149f7a1f44ce120abe075": {
      "model_module": "@jupyter-widgets/controls",
      "model_module_version": "2.0.0",
      "model_name": "ProgressStyleModel",
      "state": {
       "_model_module": "@jupyter-widgets/controls",
       "_model_module_version": "2.0.0",
       "_model_name": "ProgressStyleModel",
       "_view_count": null,
       "_view_module": "@jupyter-widgets/base",
       "_view_module_version": "2.0.0",
       "_view_name": "StyleView",
       "bar_color": null,
       "description_width": ""
      }
     },
     "d2b7f5b8c87e4551999b5f31dcb70e5b": {
      "model_module": "@jupyter-widgets/base",
      "model_module_version": "2.0.0",
      "model_name": "LayoutModel",
      "state": {
       "_model_module": "@jupyter-widgets/base",
       "_model_module_version": "2.0.0",
       "_model_name": "LayoutModel",
       "_view_count": null,
       "_view_module": "@jupyter-widgets/base",
       "_view_module_version": "2.0.0",
       "_view_name": "LayoutView",
       "align_content": null,
       "align_items": null,
       "align_self": null,
       "border_bottom": null,
       "border_left": null,
       "border_right": null,
       "border_top": null,
       "bottom": null,
       "display": null,
       "flex": null,
       "flex_flow": null,
       "grid_area": null,
       "grid_auto_columns": null,
       "grid_auto_flow": null,
       "grid_auto_rows": null,
       "grid_column": null,
       "grid_gap": null,
       "grid_row": null,
       "grid_template_areas": null,
       "grid_template_columns": null,
       "grid_template_rows": null,
       "height": null,
       "justify_content": null,
       "justify_items": null,
       "left": null,
       "margin": null,
       "max_height": null,
       "max_width": null,
       "min_height": null,
       "min_width": null,
       "object_fit": null,
       "object_position": null,
       "order": null,
       "overflow": null,
       "padding": null,
       "right": null,
       "top": null,
       "visibility": null,
       "width": null
      }
     },
     "e9eb0ecfa6f7426689e78d2b231bd275": {
      "model_module": "@jupyter-widgets/controls",
      "model_module_version": "2.0.0",
      "model_name": "HBoxModel",
      "state": {
       "_dom_classes": [],
       "_model_module": "@jupyter-widgets/controls",
       "_model_module_version": "2.0.0",
       "_model_name": "HBoxModel",
       "_view_count": null,
       "_view_module": "@jupyter-widgets/controls",
       "_view_module_version": "2.0.0",
       "_view_name": "HBoxView",
       "box_style": "",
       "children": [
        "IPY_MODEL_50582330607a430d865a181181b5007f",
        "IPY_MODEL_9d86d059f8ed49baaeb1c5a0da5e46d3",
        "IPY_MODEL_5d305b10ac2a4300afaf36f2d2d943e6"
       ],
       "layout": "IPY_MODEL_7229c9c0dc3341fa82b086290967b4f8",
       "tabbable": null,
       "tooltip": null
      }
     }
    },
    "version_major": 2,
    "version_minor": 0
   }
  }
 },
 "nbformat": 4,
 "nbformat_minor": 5
}
