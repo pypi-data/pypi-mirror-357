{
 "cells": [
  {
   "metadata": {},
   "cell_type": "markdown",
   "source": "## Basic gnomAD VCF file reading",
   "id": "cd4350af89118a95"
  },
  {
   "metadata": {},
   "cell_type": "markdown",
   "source": [
    "### 1. How to read gnomAD VCF files from Google Cloud Storage or AWS S3\n",
    "\n",
    "#### Google Cloud Storage"
   ],
   "id": "9edb21ee44b4588d"
  },
  {
   "cell_type": "code",
   "id": "62a7b57c30bf54e2",
   "metadata": {
    "ExecuteTime": {
     "end_time": "2025-06-01T16:24:46.235563Z",
     "start_time": "2025-06-01T16:24:45.744874Z"
    }
   },
   "source": [
    "import polars_bio as pb\n",
    "import polars as pl"
   ],
   "outputs": [
    {
     "name": "stderr",
     "output_type": "stream",
     "text": [
      "INFO:polars_bio:Creating BioSessionContext\n"
     ]
    }
   ],
   "execution_count": 1
  },
  {
   "cell_type": "code",
   "id": "18e876b10c939ec",
   "metadata": {
    "ExecuteTime": {
     "end_time": "2025-06-01T16:24:49.219617Z",
     "start_time": "2025-06-01T16:24:49.217731Z"
    }
   },
   "source": [
    "gcs_vcf_path = (\n",
    "    \"gs://gcp-public-data--gnomad/release/4.1/genome_sv/gnomad.v4.1.sv.sites.vcf.gz\"\n",
    ")"
   ],
   "outputs": [],
   "execution_count": 2
  },
  {
   "cell_type": "code",
   "id": "be837bf8b4fa42c3",
   "metadata": {
    "ExecuteTime": {
     "end_time": "2025-06-01T16:24:59.149004Z",
     "start_time": "2025-06-01T16:24:56.272588Z"
    }
   },
   "source": "pb.read_vcf(gcs_vcf_path, allow_anonymous=True).limit(3).collect()",
   "outputs": [
    {
     "name": "stderr",
     "output_type": "stream",
     "text": [
      "INFO:polars_bio.scan:Registering VCF table gnomad_v4_1_sv_sites_gz with options: VcfReadOptions { info_fields: None, format_fields: None, thread_num: Some(1), object_storage_options: Some(ObjectStorageOptions { chunk_size: Some(8), concurrent_fetches: Some(1), allow_anonymous: true, enable_request_payer: false, max_retries: Some(5), timeout: Some(300) }) }\n",
      "INFO:polars_bio:Table: gnomad_v4_1_sv_sites_gz registered for path: gs://gcp-public-data--gnomad/release/4.1/genome_sv/gnomad.v4.1.sv.sites.vcf.gz\n"
     ]
    },
    {
     "data": {
      "text/plain": [
       "shape: (3, 8)\n",
       "┌───────┬───────┬────────┬─────────────────────────────┬─────┬───────┬───────┬─────────────────────┐\n",
       "│ chrom ┆ start ┆ end    ┆ id                          ┆ ref ┆ alt   ┆ qual  ┆ filter              │\n",
       "│ ---   ┆ ---   ┆ ---    ┆ ---                         ┆ --- ┆ ---   ┆ ---   ┆ ---                 │\n",
       "│ str   ┆ u32   ┆ u32    ┆ str                         ┆ str ┆ str   ┆ f64   ┆ str                 │\n",
       "╞═══════╪═══════╪════════╪═════════════════════════════╪═════╪═══════╪═══════╪═════════════════════╡\n",
       "│ chr1  ┆ 10000 ┆ 295666 ┆ gnomAD-SV_v3_DUP_chr1_01c27 ┆ N   ┆ <DUP> ┆ 134.0 ┆ HIGH_NCR            │\n",
       "│       ┆       ┆        ┆ 81c                         ┆     ┆       ┆       ┆                     │\n",
       "│ chr1  ┆ 10434 ┆ 10434  ┆ gnomAD-SV_v3_BND_chr1_1a45f ┆ N   ┆ <BND> ┆ 260.0 ┆ HIGH_NCR;UNRESOLVED │\n",
       "│       ┆       ┆        ┆ 73a                         ┆     ┆       ┆       ┆                     │\n",
       "│ chr1  ┆ 10440 ┆ 10440  ┆ gnomAD-SV_v3_BND_chr1_3fa36 ┆ N   ┆ <BND> ┆ 198.0 ┆ HIGH_NCR;UNRESOLVED │\n",
       "│       ┆       ┆        ┆ 917                         ┆     ┆       ┆       ┆                     │\n",
       "└───────┴───────┴────────┴─────────────────────────────┴─────┴───────┴───────┴─────────────────────┘"
      ],
      "text/html": [
       "<div><style>\n",
       ".dataframe > thead > tr,\n",
       ".dataframe > tbody > tr {\n",
       "  text-align: right;\n",
       "  white-space: pre-wrap;\n",
       "}\n",
       "</style>\n",
       "<small>shape: (3, 8)</small><table border=\"1\" class=\"dataframe\"><thead><tr><th>chrom</th><th>start</th><th>end</th><th>id</th><th>ref</th><th>alt</th><th>qual</th><th>filter</th></tr><tr><td>str</td><td>u32</td><td>u32</td><td>str</td><td>str</td><td>str</td><td>f64</td><td>str</td></tr></thead><tbody><tr><td>&quot;chr1&quot;</td><td>10000</td><td>295666</td><td>&quot;gnomAD-SV_v3_DUP_chr1_01c2781c&quot;</td><td>&quot;N&quot;</td><td>&quot;&lt;DUP&gt;&quot;</td><td>134.0</td><td>&quot;HIGH_NCR&quot;</td></tr><tr><td>&quot;chr1&quot;</td><td>10434</td><td>10434</td><td>&quot;gnomAD-SV_v3_BND_chr1_1a45f73a&quot;</td><td>&quot;N&quot;</td><td>&quot;&lt;BND&gt;&quot;</td><td>260.0</td><td>&quot;HIGH_NCR;UNRESOLVED&quot;</td></tr><tr><td>&quot;chr1&quot;</td><td>10440</td><td>10440</td><td>&quot;gnomAD-SV_v3_BND_chr1_3fa36917&quot;</td><td>&quot;N&quot;</td><td>&quot;&lt;BND&gt;&quot;</td><td>198.0</td><td>&quot;HIGH_NCR;UNRESOLVED&quot;</td></tr></tbody></table></div>"
      ]
     },
     "execution_count": 4,
     "metadata": {},
     "output_type": "execute_result"
    }
   ],
   "execution_count": 4
  },
  {
   "metadata": {
    "ExecuteTime": {
     "end_time": "2025-06-01T16:25:02.929710Z",
     "start_time": "2025-06-01T16:25:01.095861Z"
    }
   },
   "cell_type": "code",
   "source": "pb.describe_vcf(gcs_vcf_path, allow_anonymous=True).sort(\"name\").limit(5)",
   "id": "26feaf5bfad670b3",
   "outputs": [
    {
     "data": {
      "text/plain": [
       "shape: (5, 3)\n",
       "┌───────────┬─────────┬─────────────────────────────────┐\n",
       "│ name      ┆ type    ┆ description                     │\n",
       "│ ---       ┆ ---     ┆ ---                             │\n",
       "│ str       ┆ str     ┆ str                             │\n",
       "╞═══════════╪═════════╪═════════════════════════════════╡\n",
       "│ AC        ┆ Integer ┆ Number of non-reference allele… │\n",
       "│ AC_XX     ┆ Integer ┆ Number of non-reference XX all… │\n",
       "│ AC_XY     ┆ Integer ┆ Number of non-reference XY all… │\n",
       "│ AC_afr    ┆ Integer ┆ Number of non-reference Africa… │\n",
       "│ AC_afr_XX ┆ Integer ┆ Number of non-reference Africa… │\n",
       "└───────────┴─────────┴─────────────────────────────────┘"
      ],
      "text/html": [
       "<div><style>\n",
       ".dataframe > thead > tr,\n",
       ".dataframe > tbody > tr {\n",
       "  text-align: right;\n",
       "  white-space: pre-wrap;\n",
       "}\n",
       "</style>\n",
       "<small>shape: (5, 3)</small><table border=\"1\" class=\"dataframe\"><thead><tr><th>name</th><th>type</th><th>description</th></tr><tr><td>str</td><td>str</td><td>str</td></tr></thead><tbody><tr><td>&quot;AC&quot;</td><td>&quot;Integer&quot;</td><td>&quot;Number of non-reference allele…</td></tr><tr><td>&quot;AC_XX&quot;</td><td>&quot;Integer&quot;</td><td>&quot;Number of non-reference XX all…</td></tr><tr><td>&quot;AC_XY&quot;</td><td>&quot;Integer&quot;</td><td>&quot;Number of non-reference XY all…</td></tr><tr><td>&quot;AC_afr&quot;</td><td>&quot;Integer&quot;</td><td>&quot;Number of non-reference Africa…</td></tr><tr><td>&quot;AC_afr_XX&quot;</td><td>&quot;Integer&quot;</td><td>&quot;Number of non-reference Africa…</td></tr></tbody></table></div>"
      ]
     },
     "execution_count": 5,
     "metadata": {},
     "output_type": "execute_result"
    }
   ],
   "execution_count": 5
  },
  {
   "cell_type": "markdown",
   "id": "34e7074ab7737e5f",
   "metadata": {},
   "source": "#### AWS S3"
  },
  {
   "cell_type": "code",
   "id": "ed76d621978bdfd4",
   "metadata": {
    "ExecuteTime": {
     "end_time": "2025-06-01T16:25:05.535546Z",
     "start_time": "2025-06-01T16:25:05.533601Z"
    }
   },
   "source": [
    "aws_s3_vcf_path = \"s3://gnomad-public-us-east-1/release/4.1/vcf/exomes/gnomad.exomes.v4.1.sites.chr21.vcf.bgz\""
   ],
   "outputs": [],
   "execution_count": 6
  },
  {
   "cell_type": "code",
   "id": "de7090a7791f700c",
   "metadata": {
    "ExecuteTime": {
     "end_time": "2025-06-01T16:25:34.628348Z",
     "start_time": "2025-06-01T16:25:31.768186Z"
    }
   },
   "source": "pb.read_vcf(aws_s3_vcf_path, allow_anonymous=True, chunk_size=8, concurrent_fetches=1).limit(3).collect()",
   "outputs": [
    {
     "name": "stderr",
     "output_type": "stream",
     "text": [
      "INFO:polars_bio.scan:Registering VCF table gnomad_exomes_v4_1_sites_chr21_bgz with options: VcfReadOptions { info_fields: None, format_fields: None, thread_num: Some(1), object_storage_options: Some(ObjectStorageOptions { chunk_size: Some(8), concurrent_fetches: Some(1), allow_anonymous: true, enable_request_payer: false, max_retries: Some(5), timeout: Some(300) }) }\n",
      "INFO:polars_bio:Table: gnomad_exomes_v4_1_sites_chr21_bgz registered for path: s3://gnomad-public-us-east-1/release/4.1/vcf/exomes/gnomad.exomes.v4.1.sites.chr21.vcf.bgz\n"
     ]
    },
    {
     "data": {
      "text/plain": [
       "shape: (3, 8)\n",
       "┌───────┬─────────┬─────────┬─────┬─────┬─────┬──────┬─────────────┐\n",
       "│ chrom ┆ start   ┆ end     ┆ id  ┆ ref ┆ alt ┆ qual ┆ filter      │\n",
       "│ ---   ┆ ---     ┆ ---     ┆ --- ┆ --- ┆ --- ┆ ---  ┆ ---         │\n",
       "│ str   ┆ u32     ┆ u32     ┆ str ┆ str ┆ str ┆ f64  ┆ str         │\n",
       "╞═══════╪═════════╪═════════╪═════╪═════╪═════╪══════╪═════════════╡\n",
       "│ chr21 ┆ 5031905 ┆ 5031905 ┆     ┆ C   ┆ A   ┆ 0.0  ┆ AC0;AS_VQSR │\n",
       "│ chr21 ┆ 5031905 ┆ 5031905 ┆     ┆ C   ┆ T   ┆ 0.0  ┆ AC0;AS_VQSR │\n",
       "│ chr21 ┆ 5031909 ┆ 5031909 ┆     ┆ T   ┆ C   ┆ 0.0  ┆ AC0;AS_VQSR │\n",
       "└───────┴─────────┴─────────┴─────┴─────┴─────┴──────┴─────────────┘"
      ],
      "text/html": [
       "<div><style>\n",
       ".dataframe > thead > tr,\n",
       ".dataframe > tbody > tr {\n",
       "  text-align: right;\n",
       "  white-space: pre-wrap;\n",
       "}\n",
       "</style>\n",
       "<small>shape: (3, 8)</small><table border=\"1\" class=\"dataframe\"><thead><tr><th>chrom</th><th>start</th><th>end</th><th>id</th><th>ref</th><th>alt</th><th>qual</th><th>filter</th></tr><tr><td>str</td><td>u32</td><td>u32</td><td>str</td><td>str</td><td>str</td><td>f64</td><td>str</td></tr></thead><tbody><tr><td>&quot;chr21&quot;</td><td>5031905</td><td>5031905</td><td>&quot;&quot;</td><td>&quot;C&quot;</td><td>&quot;A&quot;</td><td>0.0</td><td>&quot;AC0;AS_VQSR&quot;</td></tr><tr><td>&quot;chr21&quot;</td><td>5031905</td><td>5031905</td><td>&quot;&quot;</td><td>&quot;C&quot;</td><td>&quot;T&quot;</td><td>0.0</td><td>&quot;AC0;AS_VQSR&quot;</td></tr><tr><td>&quot;chr21&quot;</td><td>5031909</td><td>5031909</td><td>&quot;&quot;</td><td>&quot;T&quot;</td><td>&quot;C&quot;</td><td>0.0</td><td>&quot;AC0;AS_VQSR&quot;</td></tr></tbody></table></div>"
      ]
     },
     "execution_count": 8,
     "metadata": {},
     "output_type": "execute_result"
    }
   ],
   "execution_count": 8
  },
  {
   "cell_type": "markdown",
   "id": "e83ebde2199ac7c2",
   "metadata": {},
   "source": "### 2. How to specify additional VCF INFO fields to be parsed"
  },
  {
   "cell_type": "code",
   "id": "74c6011177d02267",
   "metadata": {
    "ExecuteTime": {
     "end_time": "2025-06-01T16:25:43.860670Z",
     "start_time": "2025-06-01T16:25:40.865287Z"
    }
   },
   "source": [
    "vcf_info_fields = [\"SVTYPE\", \"SVLEN\"]\n",
    "pb.read_vcf(gcs_vcf_path, info_fields=vcf_info_fields, allow_anonymous=True).limit(3).collect()"
   ],
   "outputs": [
    {
     "name": "stderr",
     "output_type": "stream",
     "text": [
      "INFO:polars_bio.scan:Registering VCF table gnomad_v4_1_sv_sites_gz with options: VcfReadOptions { info_fields: Some([\"SVTYPE\", \"SVLEN\"]), format_fields: None, thread_num: Some(1), object_storage_options: Some(ObjectStorageOptions { chunk_size: Some(8), concurrent_fetches: Some(1), allow_anonymous: true, enable_request_payer: false, max_retries: Some(5), timeout: Some(300) }) }\n",
      "INFO:polars_bio:Table: gnomad_v4_1_sv_sites_gz registered for path: gs://gcp-public-data--gnomad/release/4.1/genome_sv/gnomad.v4.1.sv.sites.vcf.gz\n"
     ]
    },
    {
     "data": {
      "text/plain": [
       "shape: (3, 10)\n",
       "┌───────┬───────┬────────┬─────────────────────┬───┬───────┬─────────────────────┬────────┬────────┐\n",
       "│ chrom ┆ start ┆ end    ┆ id                  ┆ … ┆ qual  ┆ filter              ┆ svtype ┆ svlen  │\n",
       "│ ---   ┆ ---   ┆ ---    ┆ ---                 ┆   ┆ ---   ┆ ---                 ┆ ---    ┆ ---    │\n",
       "│ str   ┆ u32   ┆ u32    ┆ str                 ┆   ┆ f64   ┆ str                 ┆ str    ┆ i32    │\n",
       "╞═══════╪═══════╪════════╪═════════════════════╪═══╪═══════╪═════════════════════╪════════╪════════╡\n",
       "│ chr1  ┆ 10000 ┆ 295666 ┆ gnomAD-SV_v3_DUP_ch ┆ … ┆ 134.0 ┆ HIGH_NCR            ┆ DUP    ┆ 285666 │\n",
       "│       ┆       ┆        ┆ r1_01c2781c         ┆   ┆       ┆                     ┆        ┆        │\n",
       "│ chr1  ┆ 10434 ┆ 10434  ┆ gnomAD-SV_v3_BND_ch ┆ … ┆ 260.0 ┆ HIGH_NCR;UNRESOLVED ┆ BND    ┆ -1     │\n",
       "│       ┆       ┆        ┆ r1_1a45f73a         ┆   ┆       ┆                     ┆        ┆        │\n",
       "│ chr1  ┆ 10440 ┆ 10440  ┆ gnomAD-SV_v3_BND_ch ┆ … ┆ 198.0 ┆ HIGH_NCR;UNRESOLVED ┆ BND    ┆ -1     │\n",
       "│       ┆       ┆        ┆ r1_3fa36917         ┆   ┆       ┆                     ┆        ┆        │\n",
       "└───────┴───────┴────────┴─────────────────────┴───┴───────┴─────────────────────┴────────┴────────┘"
      ],
      "text/html": [
       "<div><style>\n",
       ".dataframe > thead > tr,\n",
       ".dataframe > tbody > tr {\n",
       "  text-align: right;\n",
       "  white-space: pre-wrap;\n",
       "}\n",
       "</style>\n",
       "<small>shape: (3, 10)</small><table border=\"1\" class=\"dataframe\"><thead><tr><th>chrom</th><th>start</th><th>end</th><th>id</th><th>ref</th><th>alt</th><th>qual</th><th>filter</th><th>svtype</th><th>svlen</th></tr><tr><td>str</td><td>u32</td><td>u32</td><td>str</td><td>str</td><td>str</td><td>f64</td><td>str</td><td>str</td><td>i32</td></tr></thead><tbody><tr><td>&quot;chr1&quot;</td><td>10000</td><td>295666</td><td>&quot;gnomAD-SV_v3_DUP_chr1_01c2781c&quot;</td><td>&quot;N&quot;</td><td>&quot;&lt;DUP&gt;&quot;</td><td>134.0</td><td>&quot;HIGH_NCR&quot;</td><td>&quot;DUP&quot;</td><td>285666</td></tr><tr><td>&quot;chr1&quot;</td><td>10434</td><td>10434</td><td>&quot;gnomAD-SV_v3_BND_chr1_1a45f73a&quot;</td><td>&quot;N&quot;</td><td>&quot;&lt;BND&gt;&quot;</td><td>260.0</td><td>&quot;HIGH_NCR;UNRESOLVED&quot;</td><td>&quot;BND&quot;</td><td>-1</td></tr><tr><td>&quot;chr1&quot;</td><td>10440</td><td>10440</td><td>&quot;gnomAD-SV_v3_BND_chr1_3fa36917&quot;</td><td>&quot;N&quot;</td><td>&quot;&lt;BND&gt;&quot;</td><td>198.0</td><td>&quot;HIGH_NCR;UNRESOLVED&quot;</td><td>&quot;BND&quot;</td><td>-1</td></tr></tbody></table></div>"
      ]
     },
     "execution_count": 9,
     "metadata": {},
     "output_type": "execute_result"
    }
   ],
   "execution_count": 9
  },
  {
   "cell_type": "markdown",
   "id": "b42ad69ae7bc2c98",
   "metadata": {},
   "source": "### 3. How to spead up reading local VCF files with multiple threads"
  },
  {
   "metadata": {},
   "cell_type": "code",
   "source": "! gsutil -m  cp  $gcs_vcf_path /tmp/gnomad.v4.1.sv.sites.vcf.gz &> /dev/null",
   "id": "7c1c7142557607a9",
   "outputs": [],
   "execution_count": null
  },
  {
   "cell_type": "code",
   "id": "9580e8a1c528326a",
   "metadata": {
    "ExecuteTime": {
     "end_time": "2025-06-01T15:54:11.248072Z",
     "start_time": "2025-06-01T15:53:59.406761Z"
    }
   },
   "source": [
    "%%time\n",
    "pb.read_vcf(\"/tmp/gnomad.v4.1.sv.sites.vcf.gz\", thread_num=1).count().collect()"
   ],
   "outputs": [
    {
     "name": "stderr",
     "output_type": "stream",
     "text": [
      "INFO:polars_bio.scan:Registering VCF table gnomad_v4_1_sv_sites_gz with options: VcfReadOptions { info_fields: None, format_fields: None, thread_num: Some(1), object_storage_options: Some(ObjectStorageOptions { chunk_size: Some(8), concurrent_fetches: Some(1), allow_anonymous: false, enable_request_payer: false, max_retries: Some(5), timeout: Some(300) }) }\n",
      "INFO:polars_bio:Table: gnomad_v4_1_sv_sites_gz registered for path: /tmp/gnomad.v4.1.sv.sites.vcf.gz\n"
     ]
    },
    {
     "data": {
      "text/plain": [
       "0rows [00:00, ?rows/s]"
      ],
      "application/vnd.jupyter.widget-view+json": {
       "version_major": 2,
       "version_minor": 0,
       "model_id": "ce44a3347463419cb2596ca659f6b6c2"
      }
     },
     "metadata": {},
     "output_type": "display_data"
    },
    {
     "name": "stdout",
     "output_type": "stream",
     "text": [
      "CPU times: user 13.4 s, sys: 2.22 s, total: 15.6 s\n",
      "Wall time: 11.8 s\n"
     ]
    },
    {
     "data": {
      "text/plain": [
       "shape: (1, 8)\n",
       "┌─────────┬─────────┬─────────┬─────────┬─────────┬─────────┬─────────┬─────────┐\n",
       "│ chrom   ┆ start   ┆ end     ┆ id      ┆ ref     ┆ alt     ┆ qual    ┆ filter  │\n",
       "│ ---     ┆ ---     ┆ ---     ┆ ---     ┆ ---     ┆ ---     ┆ ---     ┆ ---     │\n",
       "│ u32     ┆ u32     ┆ u32     ┆ u32     ┆ u32     ┆ u32     ┆ u32     ┆ u32     │\n",
       "╞═════════╪═════════╪═════════╪═════════╪═════════╪═════════╪═════════╪═════════╡\n",
       "│ 2154486 ┆ 2154486 ┆ 2154486 ┆ 2154486 ┆ 2154486 ┆ 2154486 ┆ 2154486 ┆ 2154486 │\n",
       "└─────────┴─────────┴─────────┴─────────┴─────────┴─────────┴─────────┴─────────┘"
      ],
      "text/html": [
       "<div><style>\n",
       ".dataframe > thead > tr,\n",
       ".dataframe > tbody > tr {\n",
       "  text-align: right;\n",
       "  white-space: pre-wrap;\n",
       "}\n",
       "</style>\n",
       "<small>shape: (1, 8)</small><table border=\"1\" class=\"dataframe\"><thead><tr><th>chrom</th><th>start</th><th>end</th><th>id</th><th>ref</th><th>alt</th><th>qual</th><th>filter</th></tr><tr><td>u32</td><td>u32</td><td>u32</td><td>u32</td><td>u32</td><td>u32</td><td>u32</td><td>u32</td></tr></thead><tbody><tr><td>2154486</td><td>2154486</td><td>2154486</td><td>2154486</td><td>2154486</td><td>2154486</td><td>2154486</td><td>2154486</td></tr></tbody></table></div>"
      ]
     },
     "execution_count": 10,
     "metadata": {},
     "output_type": "execute_result"
    }
   ],
   "execution_count": 10
  },
  {
   "cell_type": "code",
   "id": "55fe81d89744d85c",
   "metadata": {
    "ExecuteTime": {
     "end_time": "2025-06-01T15:54:18.419118Z",
     "start_time": "2025-06-01T15:54:15.044100Z"
    }
   },
   "source": [
    "%%time\n",
    "pb.read_vcf(\"/tmp/gnomad.v4.1.sv.sites.vcf.gz\", thread_num=4).count().collect()"
   ],
   "outputs": [
    {
     "name": "stderr",
     "output_type": "stream",
     "text": [
      "INFO:polars_bio.scan:Registering VCF table gnomad_v4_1_sv_sites_gz with options: VcfReadOptions { info_fields: None, format_fields: None, thread_num: Some(4), object_storage_options: Some(ObjectStorageOptions { chunk_size: Some(8), concurrent_fetches: Some(1), allow_anonymous: false, enable_request_payer: false, max_retries: Some(5), timeout: Some(300) }) }\n",
      "INFO:polars_bio:Table: gnomad_v4_1_sv_sites_gz registered for path: /tmp/gnomad.v4.1.sv.sites.vcf.gz\n"
     ]
    },
    {
     "data": {
      "text/plain": [
       "0rows [00:00, ?rows/s]"
      ],
      "application/vnd.jupyter.widget-view+json": {
       "version_major": 2,
       "version_minor": 0,
       "model_id": "47cf16b691c5495fa0d727ca3021ff0e"
      }
     },
     "metadata": {},
     "output_type": "display_data"
    },
    {
     "name": "stdout",
     "output_type": "stream",
     "text": [
      "CPU times: user 12.7 s, sys: 1.77 s, total: 14.5 s\n",
      "Wall time: 3.37 s\n"
     ]
    },
    {
     "data": {
      "text/plain": [
       "shape: (1, 8)\n",
       "┌─────────┬─────────┬─────────┬─────────┬─────────┬─────────┬─────────┬─────────┐\n",
       "│ chrom   ┆ start   ┆ end     ┆ id      ┆ ref     ┆ alt     ┆ qual    ┆ filter  │\n",
       "│ ---     ┆ ---     ┆ ---     ┆ ---     ┆ ---     ┆ ---     ┆ ---     ┆ ---     │\n",
       "│ u32     ┆ u32     ┆ u32     ┆ u32     ┆ u32     ┆ u32     ┆ u32     ┆ u32     │\n",
       "╞═════════╪═════════╪═════════╪═════════╪═════════╪═════════╪═════════╪═════════╡\n",
       "│ 2154486 ┆ 2154486 ┆ 2154486 ┆ 2154486 ┆ 2154486 ┆ 2154486 ┆ 2154486 ┆ 2154486 │\n",
       "└─────────┴─────────┴─────────┴─────────┴─────────┴─────────┴─────────┴─────────┘"
      ],
      "text/html": [
       "<div><style>\n",
       ".dataframe > thead > tr,\n",
       ".dataframe > tbody > tr {\n",
       "  text-align: right;\n",
       "  white-space: pre-wrap;\n",
       "}\n",
       "</style>\n",
       "<small>shape: (1, 8)</small><table border=\"1\" class=\"dataframe\"><thead><tr><th>chrom</th><th>start</th><th>end</th><th>id</th><th>ref</th><th>alt</th><th>qual</th><th>filter</th></tr><tr><td>u32</td><td>u32</td><td>u32</td><td>u32</td><td>u32</td><td>u32</td><td>u32</td><td>u32</td></tr></thead><tbody><tr><td>2154486</td><td>2154486</td><td>2154486</td><td>2154486</td><td>2154486</td><td>2154486</td><td>2154486</td><td>2154486</td></tr></tbody></table></div>"
      ]
     },
     "execution_count": 11,
     "metadata": {},
     "output_type": "execute_result"
    }
   ],
   "execution_count": 11
  },
  {
   "cell_type": "markdown",
   "id": "a0653250f02177b5",
   "metadata": {},
   "source": "### 4. How to perform an overlap operation on two remote VCF files in streaming mode"
  },
  {
   "cell_type": "code",
   "id": "d0cfb4eae86480ab",
   "metadata": {
    "ExecuteTime": {
     "end_time": "2025-06-01T16:25:56.029577Z",
     "start_time": "2025-06-01T16:25:56.027719Z"
    }
   },
   "source": [
    "vcf_1 = \"gs://gcp-public-data--gnomad/release/4.1/genome_sv/gnomad.v4.1.sv.sites.vcf.gz\"\n",
    "vcf_2 = \"gs://gcp-public-data--gnomad/release/4.1/vcf/exomes/gnomad.exomes.v4.1.sites.chr21.vcf.bgz\""
   ],
   "outputs": [],
   "execution_count": 10
  },
  {
   "cell_type": "code",
   "id": "42797448fff4b83",
   "metadata": {
    "ExecuteTime": {
     "end_time": "2025-06-01T16:29:29.534847Z",
     "start_time": "2025-06-01T16:29:29.532678Z"
    }
   },
   "source": [
    "object_storage_options = pb.ObjectStorageOptions(\n",
    "    allow_anonymous=True,\n",
    "    enable_request_payer=False,\n",
    "    chunk_size=64,\n",
    "    concurrent_fetches=8,\n",
    "    max_retries=5,\n",
    "    timeout=10,\n",
    ")\n",
    "vcf_read_options_1 = pb.VcfReadOptions(\n",
    "    info_fields=[\"SVTYPE\", \"SVLEN\"],\n",
    "    thread_num=1,\n",
    "    object_storage_options=object_storage_options,\n",
    ")\n",
    "vcf_read_options_2 = pb.VcfReadOptions(\n",
    "    object_storage_options=object_storage_options,\n",
    ")\n",
    "read_options_1 = pb.ReadOptions(vcf_read_options=vcf_read_options_1)\n",
    "read_options_2 = pb.ReadOptions(vcf_read_options=vcf_read_options_2)\n"
   ],
   "outputs": [],
   "execution_count": 12
  },
  {
   "cell_type": "code",
   "id": "45de34901b9a7701",
   "metadata": {
    "ExecuteTime": {
     "end_time": "2025-06-01T16:31:32.405732Z",
     "start_time": "2025-06-01T16:29:44.706805Z"
    }
   },
   "source": [
    "pb.overlap(vcf_1, vcf_2, streaming=True, read_options1=read_options_1, read_options2=read_options_2).sink_csv(\n",
    "    \"/tmp/streaming_run.csv\"\n",
    ")"
   ],
   "outputs": [
    {
     "name": "stderr",
     "output_type": "stream",
     "text": [
      "INFO:polars_bio.scan:Registering VCF table s1 with options: VcfReadOptions { info_fields: Some([\"SVTYPE\", \"SVLEN\"]), format_fields: None, thread_num: Some(1), object_storage_options: Some(ObjectStorageOptions { chunk_size: Some(64), concurrent_fetches: Some(8), allow_anonymous: true, enable_request_payer: false, max_retries: Some(5), timeout: Some(10) }) }\n",
      "INFO:polars_bio.scan:Registering VCF table s2 with options: VcfReadOptions { info_fields: None, format_fields: None, thread_num: None, object_storage_options: Some(ObjectStorageOptions { chunk_size: Some(64), concurrent_fetches: Some(8), allow_anonymous: true, enable_request_payer: false, max_retries: Some(5), timeout: Some(10) }) }\n",
      "INFO:polars_bio.operation:Running in streaming mode...\n",
      "INFO:polars_bio.operation:Running Overlap operation with algorithm Coitrees and 1 thread(s)...\n"
     ]
    }
   ],
   "execution_count": 13
  },
  {
   "metadata": {
    "ExecuteTime": {
     "end_time": "2025-06-01T16:31:46.549230Z",
     "start_time": "2025-06-01T16:31:45.823103Z"
    }
   },
   "cell_type": "code",
   "source": "pl.read_csv(\"/tmp/streaming_run.csv\").limit(3)",
   "id": "f041362566c0ed34",
   "outputs": [
    {
     "data": {
      "text/plain": [
       "shape: (3, 18)\n",
       "┌─────────┬─────────┬─────────┬─────────┬───┬────────┬──────────┬──────────┬─────────┐\n",
       "│ chrom_1 ┆ start_1 ┆ end_1   ┆ chrom_2 ┆ … ┆ qual_2 ┆ filter_2 ┆ svtype_2 ┆ svlen_2 │\n",
       "│ ---     ┆ ---     ┆ ---     ┆ ---     ┆   ┆ ---    ┆ ---      ┆ ---      ┆ ---     │\n",
       "│ str     ┆ i64     ┆ i64     ┆ str     ┆   ┆ f64    ┆ str      ┆ str      ┆ i64     │\n",
       "╞═════════╪═════════╪═════════╪═════════╪═══╪════════╪══════════╪══════════╪═════════╡\n",
       "│ chr21   ┆ 5019150 ┆ 5047500 ┆ chr21   ┆ … ┆ 34.0   ┆ PASS     ┆ DUP      ┆ 28350   │\n",
       "│ chr21   ┆ 5019150 ┆ 5047500 ┆ chr21   ┆ … ┆ 34.0   ┆ PASS     ┆ DUP      ┆ 28350   │\n",
       "│ chr21   ┆ 5019150 ┆ 5047500 ┆ chr21   ┆ … ┆ 34.0   ┆ PASS     ┆ DUP      ┆ 28350   │\n",
       "└─────────┴─────────┴─────────┴─────────┴───┴────────┴──────────┴──────────┴─────────┘"
      ],
      "text/html": [
       "<div><style>\n",
       ".dataframe > thead > tr,\n",
       ".dataframe > tbody > tr {\n",
       "  text-align: right;\n",
       "  white-space: pre-wrap;\n",
       "}\n",
       "</style>\n",
       "<small>shape: (3, 18)</small><table border=\"1\" class=\"dataframe\"><thead><tr><th>chrom_1</th><th>start_1</th><th>end_1</th><th>chrom_2</th><th>start_2</th><th>end_2</th><th>id_1</th><th>ref_1</th><th>alt_1</th><th>qual_1</th><th>filter_1</th><th>id_2</th><th>ref_2</th><th>alt_2</th><th>qual_2</th><th>filter_2</th><th>svtype_2</th><th>svlen_2</th></tr><tr><td>str</td><td>i64</td><td>i64</td><td>str</td><td>i64</td><td>i64</td><td>str</td><td>str</td><td>str</td><td>f64</td><td>str</td><td>str</td><td>str</td><td>str</td><td>f64</td><td>str</td><td>str</td><td>i64</td></tr></thead><tbody><tr><td>&quot;chr21&quot;</td><td>5019150</td><td>5047500</td><td>&quot;chr21&quot;</td><td>5036183</td><td>5036183</td><td>&quot;&quot;</td><td>&quot;A&quot;</td><td>&quot;C&quot;</td><td>0.0</td><td>&quot;AC0;AS_VQSR&quot;</td><td>&quot;gnomAD-SV_v3_DUP_chr21_029eb66…</td><td>&quot;N&quot;</td><td>&quot;&lt;DUP&gt;&quot;</td><td>34.0</td><td>&quot;PASS&quot;</td><td>&quot;DUP&quot;</td><td>28350</td></tr><tr><td>&quot;chr21&quot;</td><td>5019150</td><td>5047500</td><td>&quot;chr21&quot;</td><td>5036184</td><td>5036184</td><td>&quot;&quot;</td><td>&quot;G&quot;</td><td>&quot;A&quot;</td><td>0.0</td><td>&quot;AS_VQSR&quot;</td><td>&quot;gnomAD-SV_v3_DUP_chr21_029eb66…</td><td>&quot;N&quot;</td><td>&quot;&lt;DUP&gt;&quot;</td><td>34.0</td><td>&quot;PASS&quot;</td><td>&quot;DUP&quot;</td><td>28350</td></tr><tr><td>&quot;chr21&quot;</td><td>5019150</td><td>5047500</td><td>&quot;chr21&quot;</td><td>5036185</td><td>5036185</td><td>&quot;&quot;</td><td>&quot;G&quot;</td><td>&quot;A&quot;</td><td>0.0</td><td>&quot;AS_VQSR&quot;</td><td>&quot;gnomAD-SV_v3_DUP_chr21_029eb66…</td><td>&quot;N&quot;</td><td>&quot;&lt;DUP&gt;&quot;</td><td>34.0</td><td>&quot;PASS&quot;</td><td>&quot;DUP&quot;</td><td>28350</td></tr></tbody></table></div>"
      ]
     },
     "execution_count": 14,
     "metadata": {},
     "output_type": "execute_result"
    }
   ],
   "execution_count": 14
  },
  {
   "metadata": {
    "ExecuteTime": {
     "end_time": "2025-06-01T16:33:56.316239Z",
     "start_time": "2025-06-01T16:32:03.117782Z"
    }
   },
   "cell_type": "code",
   "source": "pb.overlap(vcf_1, vcf_2, streaming=False, read_options1=read_options_1, read_options2=read_options_2).collect().count()",
   "id": "9936b20a3e2f0ad2",
   "outputs": [
    {
     "name": "stderr",
     "output_type": "stream",
     "text": [
      "INFO:polars_bio.scan:Registering VCF table gnomad_v4_1_sv_sites_gz with options: VcfReadOptions { info_fields: Some([\"SVTYPE\", \"SVLEN\"]), format_fields: None, thread_num: Some(1), object_storage_options: Some(ObjectStorageOptions { chunk_size: Some(64), concurrent_fetches: Some(8), allow_anonymous: true, enable_request_payer: false, max_retries: Some(5), timeout: Some(10) }) }\n",
      "INFO:polars_bio:Table: gnomad_v4_1_sv_sites_gz registered for path: gs://gcp-public-data--gnomad/release/4.1/genome_sv/gnomad.v4.1.sv.sites.vcf.gz\n",
      "INFO:polars_bio.scan:Registering VCF table gnomad_exomes_v4_1_sites_chr21_bgz with options: VcfReadOptions { info_fields: None, format_fields: None, thread_num: None, object_storage_options: Some(ObjectStorageOptions { chunk_size: Some(64), concurrent_fetches: Some(8), allow_anonymous: true, enable_request_payer: false, max_retries: Some(5), timeout: Some(10) }) }\n",
      "INFO:polars_bio:Table: gnomad_exomes_v4_1_sites_chr21_bgz registered for path: gs://gcp-public-data--gnomad/release/4.1/vcf/exomes/gnomad.exomes.v4.1.sites.chr21.vcf.bgz\n",
      "INFO:polars_bio.scan:Registering VCF table s1 with options: VcfReadOptions { info_fields: Some([\"SVTYPE\", \"SVLEN\"]), format_fields: None, thread_num: Some(1), object_storage_options: Some(ObjectStorageOptions { chunk_size: Some(64), concurrent_fetches: Some(8), allow_anonymous: true, enable_request_payer: false, max_retries: Some(5), timeout: Some(10) }) }\n",
      "INFO:polars_bio.scan:Registering VCF table s2 with options: VcfReadOptions { info_fields: None, format_fields: None, thread_num: None, object_storage_options: Some(ObjectStorageOptions { chunk_size: Some(64), concurrent_fetches: Some(8), allow_anonymous: true, enable_request_payer: false, max_retries: Some(5), timeout: Some(10) }) }\n",
      "INFO:polars_bio.operation:Running Overlap operation with algorithm Coitrees and 1 thread(s)...\n"
     ]
    },
    {
     "data": {
      "text/plain": [
       "0rows [00:00, ?rows/s]"
      ],
      "application/vnd.jupyter.widget-view+json": {
       "version_major": 2,
       "version_minor": 0,
       "model_id": "bb50e84fb1e443d2ae86326900a431a7"
      }
     },
     "metadata": {},
     "output_type": "display_data"
    },
    {
     "data": {
      "text/plain": [
       "shape: (1, 18)\n",
       "┌──────────┬──────────┬──────────┬──────────┬───┬──────────┬──────────┬──────────┬──────────┐\n",
       "│ chrom_1  ┆ start_1  ┆ end_1    ┆ chrom_2  ┆ … ┆ qual_2   ┆ filter_2 ┆ svtype_2 ┆ svlen_2  │\n",
       "│ ---      ┆ ---      ┆ ---      ┆ ---      ┆   ┆ ---      ┆ ---      ┆ ---      ┆ ---      │\n",
       "│ u32      ┆ u32      ┆ u32      ┆ u32      ┆   ┆ u32      ┆ u32      ┆ u32      ┆ u32      │\n",
       "╞══════════╪══════════╪══════════╪══════════╪═══╪══════════╪══════════╪══════════╪══════════╡\n",
       "│ 17875080 ┆ 17875080 ┆ 17875080 ┆ 17875080 ┆ … ┆ 17875080 ┆ 17875080 ┆ 17875080 ┆ 17875080 │\n",
       "└──────────┴──────────┴──────────┴──────────┴───┴──────────┴──────────┴──────────┴──────────┘"
      ],
      "text/html": [
       "<div><style>\n",
       ".dataframe > thead > tr,\n",
       ".dataframe > tbody > tr {\n",
       "  text-align: right;\n",
       "  white-space: pre-wrap;\n",
       "}\n",
       "</style>\n",
       "<small>shape: (1, 18)</small><table border=\"1\" class=\"dataframe\"><thead><tr><th>chrom_1</th><th>start_1</th><th>end_1</th><th>chrom_2</th><th>start_2</th><th>end_2</th><th>id_1</th><th>ref_1</th><th>alt_1</th><th>qual_1</th><th>filter_1</th><th>id_2</th><th>ref_2</th><th>alt_2</th><th>qual_2</th><th>filter_2</th><th>svtype_2</th><th>svlen_2</th></tr><tr><td>u32</td><td>u32</td><td>u32</td><td>u32</td><td>u32</td><td>u32</td><td>u32</td><td>u32</td><td>u32</td><td>u32</td><td>u32</td><td>u32</td><td>u32</td><td>u32</td><td>u32</td><td>u32</td><td>u32</td><td>u32</td></tr></thead><tbody><tr><td>17875080</td><td>17875080</td><td>17875080</td><td>17875080</td><td>17875080</td><td>17875080</td><td>17875080</td><td>17875080</td><td>17875080</td><td>17875080</td><td>17875080</td><td>17875080</td><td>17875080</td><td>17875080</td><td>17875080</td><td>17875080</td><td>17875080</td><td>17875080</td></tr></tbody></table></div>"
      ]
     },
     "execution_count": 15,
     "metadata": {},
     "output_type": "execute_result"
    }
   ],
   "execution_count": 15
  },
  {
   "metadata": {},
   "cell_type": "markdown",
   "source": "### 5. How to read a VCF from Google Life Sciences",
   "id": "261514c908bfdcec"
  },
  {
   "metadata": {
    "ExecuteTime": {
     "end_time": "2025-06-01T16:13:37.442366Z",
     "start_time": "2025-06-01T16:13:37.440523Z"
    }
   },
   "cell_type": "code",
   "source": "gcs_vcf_path = \"gs://genomics-public-data/platinum-genomes/vcf/NA12878_S1.genome.vcf\"",
   "id": "31f0f3d0974245bd",
   "outputs": [],
   "execution_count": 10
  },
  {
   "metadata": {
    "ExecuteTime": {
     "end_time": "2025-06-01T16:13:39.347086Z",
     "start_time": "2025-06-01T16:13:39.345360Z"
    }
   },
   "cell_type": "code",
   "source": "info_fields=[\"AC\", \"AF\"]",
   "id": "816c419b3b45ee44",
   "outputs": [],
   "execution_count": 11
  },
  {
   "metadata": {
    "ExecuteTime": {
     "end_time": "2025-06-01T15:55:25.332401Z",
     "start_time": "2025-06-01T15:55:22.573721Z"
    }
   },
   "cell_type": "code",
   "source": "pb.read_vcf(gcs_vcf_path, info_fields=info_fields, allow_anonymous=True).limit(3).collect()",
   "id": "a6be6d5b8977d8d6",
   "outputs": [
    {
     "name": "stderr",
     "output_type": "stream",
     "text": [
      "INFO:polars_bio.scan:Registering VCF table na12878_s1_genome with options: VcfReadOptions { info_fields: Some([\"AC\", \"AF\"]), format_fields: None, thread_num: Some(1), object_storage_options: Some(ObjectStorageOptions { chunk_size: Some(8), concurrent_fetches: Some(1), allow_anonymous: true, enable_request_payer: false, max_retries: Some(5), timeout: Some(300) }) }\n",
      "INFO:polars_bio:Table: na12878_s1_genome registered for path: gs://genomics-public-data/platinum-genomes/vcf/NA12878_S1.genome.vcf\n"
     ]
    },
    {
     "data": {
      "text/plain": [
       "shape: (3, 10)\n",
       "┌───────┬───────┬─────┬─────┬───┬─────────────┬────────────────────────────┬───────────┬───────────┐\n",
       "│ chrom ┆ start ┆ end ┆ id  ┆ … ┆ qual        ┆ filter                     ┆ ac        ┆ af        │\n",
       "│ ---   ┆ ---   ┆ --- ┆ --- ┆   ┆ ---         ┆ ---                        ┆ ---       ┆ ---       │\n",
       "│ str   ┆ u32   ┆ u32 ┆ str ┆   ┆ f64         ┆ str                        ┆ list[i32] ┆ list[f32] │\n",
       "╞═══════╪═══════╪═════╪═════╪═══╪═════════════╪════════════════════════════╪═══════════╪═══════════╡\n",
       "│ chrM  ┆ 1     ┆ 1   ┆     ┆ … ┆ 0.0         ┆ PASS                       ┆ null      ┆ null      │\n",
       "│ chrM  ┆ 2     ┆ 72  ┆     ┆ … ┆ 0.0         ┆ PASS                       ┆ null      ┆ null      │\n",
       "│ chrM  ┆ 73    ┆ 73  ┆     ┆ … ┆ 8752.780273 ┆ TruthSensitivityTranche99. ┆ [2]       ┆ [1.0]     │\n",
       "│       ┆       ┆     ┆     ┆   ┆             ┆ 90to…                      ┆           ┆           │\n",
       "└───────┴───────┴─────┴─────┴───┴─────────────┴────────────────────────────┴───────────┴───────────┘"
      ],
      "text/html": [
       "<div><style>\n",
       ".dataframe > thead > tr,\n",
       ".dataframe > tbody > tr {\n",
       "  text-align: right;\n",
       "  white-space: pre-wrap;\n",
       "}\n",
       "</style>\n",
       "<small>shape: (3, 10)</small><table border=\"1\" class=\"dataframe\"><thead><tr><th>chrom</th><th>start</th><th>end</th><th>id</th><th>ref</th><th>alt</th><th>qual</th><th>filter</th><th>ac</th><th>af</th></tr><tr><td>str</td><td>u32</td><td>u32</td><td>str</td><td>str</td><td>str</td><td>f64</td><td>str</td><td>list[i32]</td><td>list[f32]</td></tr></thead><tbody><tr><td>&quot;chrM&quot;</td><td>1</td><td>1</td><td>&quot;&quot;</td><td>&quot;G&quot;</td><td>&quot;&quot;</td><td>0.0</td><td>&quot;PASS&quot;</td><td>null</td><td>null</td></tr><tr><td>&quot;chrM&quot;</td><td>2</td><td>72</td><td>&quot;&quot;</td><td>&quot;A&quot;</td><td>&quot;&quot;</td><td>0.0</td><td>&quot;PASS&quot;</td><td>null</td><td>null</td></tr><tr><td>&quot;chrM&quot;</td><td>73</td><td>73</td><td>&quot;&quot;</td><td>&quot;G&quot;</td><td>&quot;A&quot;</td><td>8752.780273</td><td>&quot;TruthSensitivityTranche99.90to…</td><td>[2]</td><td>[1.0]</td></tr></tbody></table></div>"
      ]
     },
     "execution_count": 15,
     "metadata": {},
     "output_type": "execute_result"
    }
   ],
   "execution_count": 15
  },
  {
   "metadata": {},
   "cell_type": "markdown",
   "source": "## SQL data processing",
   "id": "b65cf5ad7b136b6"
  },
  {
   "metadata": {},
   "cell_type": "markdown",
   "source": "Check [SQL reference](https://datafusion.apache.org/user-guide/sql/index.html) for details.",
   "id": "e8febf4d3a4cb981"
  },
  {
   "metadata": {
    "ExecuteTime": {
     "end_time": "2025-06-01T16:34:20.088713Z",
     "start_time": "2025-06-01T16:34:11.524596Z"
    }
   },
   "cell_type": "code",
   "source": "pb.register_vcf(vcf_1, \"gnomad_sv\", thread_num=1, info_fields=[\"SVTYPE\", \"SVLEN\"], allow_anonymous=True)",
   "id": "13a6ae6ace873a4c",
   "outputs": [
    {
     "name": "stderr",
     "output_type": "stream",
     "text": [
      "INFO:polars_bio.scan:Registering VCF table gnomad_sv with options: VcfReadOptions { info_fields: Some([\"SVTYPE\", \"SVLEN\"]), format_fields: None, thread_num: Some(1), object_storage_options: Some(ObjectStorageOptions { chunk_size: Some(64), concurrent_fetches: Some(8), allow_anonymous: true, enable_request_payer: false, max_retries: Some(5), timeout: Some(300) }) }\n",
      "INFO:polars_bio:Table: gnomad_sv registered for path: gs://gcp-public-data--gnomad/release/4.1/genome_sv/gnomad.v4.1.sv.sites.vcf.gz\n"
     ]
    }
   ],
   "execution_count": 16
  },
  {
   "metadata": {
    "ExecuteTime": {
     "end_time": "2025-06-01T15:56:04.012460Z",
     "start_time": "2025-06-01T15:55:54.930285Z"
    }
   },
   "cell_type": "code",
   "source": "pb.sql(\"SELECT chrom, svtype  FROM gnomad_sv\").limit(3).collect()",
   "id": "3846a13b34e55db4",
   "outputs": [
    {
     "data": {
      "text/plain": [
       "shape: (3, 2)\n",
       "┌───────┬────────┐\n",
       "│ chrom ┆ svtype │\n",
       "│ ---   ┆ ---    │\n",
       "│ str   ┆ str    │\n",
       "╞═══════╪════════╡\n",
       "│ chr1  ┆ DUP    │\n",
       "│ chr1  ┆ BND    │\n",
       "│ chr1  ┆ BND    │\n",
       "└───────┴────────┘"
      ],
      "text/html": [
       "<div><style>\n",
       ".dataframe > thead > tr,\n",
       ".dataframe > tbody > tr {\n",
       "  text-align: right;\n",
       "  white-space: pre-wrap;\n",
       "}\n",
       "</style>\n",
       "<small>shape: (3, 2)</small><table border=\"1\" class=\"dataframe\"><thead><tr><th>chrom</th><th>svtype</th></tr><tr><td>str</td><td>str</td></tr></thead><tbody><tr><td>&quot;chr1&quot;</td><td>&quot;DUP&quot;</td></tr><tr><td>&quot;chr1&quot;</td><td>&quot;BND&quot;</td></tr><tr><td>&quot;chr1&quot;</td><td>&quot;BND&quot;</td></tr></tbody></table></div>"
      ]
     },
     "execution_count": 17,
     "metadata": {},
     "output_type": "execute_result"
    }
   ],
   "execution_count": 17
  },
  {
   "metadata": {
    "ExecuteTime": {
     "end_time": "2025-06-01T15:56:16.147013Z",
     "start_time": "2025-06-01T15:56:07.131220Z"
    }
   },
   "cell_type": "code",
   "source": "pb.sql(\"SELECT * FROM gnomad_sv WHERE SVTYPE = 'DEL' AND SVLEN > 1000\").limit(3).collect()",
   "id": "4163e9f3f5fb0a95",
   "outputs": [
    {
     "data": {
      "text/plain": [
       "shape: (3, 10)\n",
       "┌───────┬───────┬───────┬────────────────────────────────┬───┬───────┬────────────┬────────┬───────┐\n",
       "│ chrom ┆ start ┆ end   ┆ id                             ┆ … ┆ qual  ┆ filter     ┆ svtype ┆ svlen │\n",
       "│ ---   ┆ ---   ┆ ---   ┆ ---                            ┆   ┆ ---   ┆ ---        ┆ ---    ┆ ---   │\n",
       "│ str   ┆ u32   ┆ u32   ┆ str                            ┆   ┆ f64   ┆ str        ┆ str    ┆ i32   │\n",
       "╞═══════╪═══════╪═══════╪════════════════════════════════╪═══╪═══════╪════════════╪════════╪═══════╡\n",
       "│ chr1  ┆ 22000 ┆ 30000 ┆ gnomAD-SV_v3_DEL_chr1_fa103016 ┆ … ┆ 999.0 ┆ HIGH_NCR   ┆ DEL    ┆ 8000  │\n",
       "│ chr1  ┆ 40000 ┆ 47000 ┆ gnomAD-SV_v3_DEL_chr1_b26f63f7 ┆ … ┆ 145.0 ┆ PASS       ┆ DEL    ┆ 7000  │\n",
       "│ chr1  ┆ 79086 ┆ 88118 ┆ gnomAD-SV_v3_DEL_chr1_733c4ef0 ┆ … ┆ 344.0 ┆ UNRESOLVED ┆ DEL    ┆ 9032  │\n",
       "└───────┴───────┴───────┴────────────────────────────────┴───┴───────┴────────────┴────────┴───────┘"
      ],
      "text/html": [
       "<div><style>\n",
       ".dataframe > thead > tr,\n",
       ".dataframe > tbody > tr {\n",
       "  text-align: right;\n",
       "  white-space: pre-wrap;\n",
       "}\n",
       "</style>\n",
       "<small>shape: (3, 10)</small><table border=\"1\" class=\"dataframe\"><thead><tr><th>chrom</th><th>start</th><th>end</th><th>id</th><th>ref</th><th>alt</th><th>qual</th><th>filter</th><th>svtype</th><th>svlen</th></tr><tr><td>str</td><td>u32</td><td>u32</td><td>str</td><td>str</td><td>str</td><td>f64</td><td>str</td><td>str</td><td>i32</td></tr></thead><tbody><tr><td>&quot;chr1&quot;</td><td>22000</td><td>30000</td><td>&quot;gnomAD-SV_v3_DEL_chr1_fa103016&quot;</td><td>&quot;N&quot;</td><td>&quot;&lt;DEL&gt;&quot;</td><td>999.0</td><td>&quot;HIGH_NCR&quot;</td><td>&quot;DEL&quot;</td><td>8000</td></tr><tr><td>&quot;chr1&quot;</td><td>40000</td><td>47000</td><td>&quot;gnomAD-SV_v3_DEL_chr1_b26f63f7&quot;</td><td>&quot;N&quot;</td><td>&quot;&lt;DEL&gt;&quot;</td><td>145.0</td><td>&quot;PASS&quot;</td><td>&quot;DEL&quot;</td><td>7000</td></tr><tr><td>&quot;chr1&quot;</td><td>79086</td><td>88118</td><td>&quot;gnomAD-SV_v3_DEL_chr1_733c4ef0&quot;</td><td>&quot;N&quot;</td><td>&quot;&lt;DEL:ME:LINE1&gt;&quot;</td><td>344.0</td><td>&quot;UNRESOLVED&quot;</td><td>&quot;DEL&quot;</td><td>9032</td></tr></tbody></table></div>"
      ]
     },
     "execution_count": 18,
     "metadata": {},
     "output_type": "execute_result"
    }
   ],
   "execution_count": 18
  },
  {
   "metadata": {
    "ExecuteTime": {
     "end_time": "2025-06-01T15:56:23.086477Z",
     "start_time": "2025-06-01T15:56:23.083455Z"
    }
   },
   "cell_type": "code",
   "source": "pb.sql(\"SELECT alt, count(*) as cnt FROM gnomad_sv group by alt\").collect_schema()",
   "id": "8df8d85dd804b115",
   "outputs": [
    {
     "data": {
      "text/plain": [
       "Schema([('alt', String), ('cnt', Int64)])"
      ]
     },
     "execution_count": 19,
     "metadata": {},
     "output_type": "execute_result"
    }
   ],
   "execution_count": 19
  },
  {
   "metadata": {
    "ExecuteTime": {
     "end_time": "2025-06-01T15:56:58.850850Z",
     "start_time": "2025-06-01T15:56:26.351484Z"
    }
   },
   "cell_type": "code",
   "source": "pb.sql(\"SELECT alt, count(*) as cnt FROM gnomad_sv group by alt\").collect()",
   "id": "d57ad3af61d0c562",
   "outputs": [
    {
     "data": {
      "text/plain": [
       "0rows [00:00, ?rows/s]"
      ],
      "application/vnd.jupyter.widget-view+json": {
       "version_major": 2,
       "version_minor": 0,
       "model_id": "a0c01ec8c11a4aa1b5022c7ca57f1b69"
      }
     },
     "metadata": {},
     "output_type": "display_data"
    },
    {
     "data": {
      "text/plain": [
       "shape: (13, 2)\n",
       "┌────────────────┬─────────┐\n",
       "│ alt            ┆ cnt     │\n",
       "│ ---            ┆ ---     │\n",
       "│ str            ┆ i64     │\n",
       "╞════════════════╪═════════╡\n",
       "│ <DUP>          ┆ 269326  │\n",
       "│ <BND>          ┆ 356035  │\n",
       "│ <CNV>          ┆ 721     │\n",
       "│ <DEL>          ┆ 1197080 │\n",
       "│ <INS>          ┆ 83441   │\n",
       "│ …              ┆ …       │\n",
       "│ <INS:ME:SVA>   ┆ 17607   │\n",
       "│ <CPX>          ┆ 15189   │\n",
       "│ <INV>          ┆ 2193    │\n",
       "│ <DEL:ME:HERVK> ┆ 693     │\n",
       "│ <CTX>          ┆ 99      │\n",
       "└────────────────┴─────────┘"
      ],
      "text/html": [
       "<div><style>\n",
       ".dataframe > thead > tr,\n",
       ".dataframe > tbody > tr {\n",
       "  text-align: right;\n",
       "  white-space: pre-wrap;\n",
       "}\n",
       "</style>\n",
       "<small>shape: (13, 2)</small><table border=\"1\" class=\"dataframe\"><thead><tr><th>alt</th><th>cnt</th></tr><tr><td>str</td><td>i64</td></tr></thead><tbody><tr><td>&quot;&lt;DUP&gt;&quot;</td><td>269326</td></tr><tr><td>&quot;&lt;BND&gt;&quot;</td><td>356035</td></tr><tr><td>&quot;&lt;CNV&gt;&quot;</td><td>721</td></tr><tr><td>&quot;&lt;DEL&gt;&quot;</td><td>1197080</td></tr><tr><td>&quot;&lt;INS&gt;&quot;</td><td>83441</td></tr><tr><td>&hellip;</td><td>&hellip;</td></tr><tr><td>&quot;&lt;INS:ME:SVA&gt;&quot;</td><td>17607</td></tr><tr><td>&quot;&lt;CPX&gt;&quot;</td><td>15189</td></tr><tr><td>&quot;&lt;INV&gt;&quot;</td><td>2193</td></tr><tr><td>&quot;&lt;DEL:ME:HERVK&gt;&quot;</td><td>693</td></tr><tr><td>&quot;&lt;CTX&gt;&quot;</td><td>99</td></tr></tbody></table></div>"
      ]
     },
     "execution_count": 20,
     "metadata": {},
     "output_type": "execute_result"
    }
   ],
   "execution_count": 20
  },
  {
   "metadata": {
    "ExecuteTime": {
     "end_time": "2025-06-01T15:57:40.495964Z",
     "start_time": "2025-06-01T15:57:07.944810Z"
    }
   },
   "cell_type": "code",
   "source": "pb.sql(\"SELECT chrom, count(*) as cnt FROM gnomad_sv GROUP BY chrom ORDER BY chrom\").collect()",
   "id": "431002a3ec440f84",
   "outputs": [
    {
     "data": {
      "text/plain": [
       "0rows [00:00, ?rows/s]"
      ],
      "application/vnd.jupyter.widget-view+json": {
       "version_major": 2,
       "version_minor": 0,
       "model_id": "1b70f82643a54fa686517a017b5ab631"
      }
     },
     "metadata": {},
     "output_type": "display_data"
    },
    {
     "data": {
      "text/plain": [
       "shape: (24, 2)\n",
       "┌───────┬────────┐\n",
       "│ chrom ┆ cnt    │\n",
       "│ ---   ┆ ---    │\n",
       "│ str   ┆ i64    │\n",
       "╞═══════╪════════╡\n",
       "│ chr1  ┆ 182804 │\n",
       "│ chr10 ┆ 96755  │\n",
       "│ chr11 ┆ 95690  │\n",
       "│ chr12 ┆ 97655  │\n",
       "│ chr13 ┆ 63839  │\n",
       "│ …     ┆ …      │\n",
       "│ chr7  ┆ 131866 │\n",
       "│ chr8  ┆ 101224 │\n",
       "│ chr9  ┆ 87748  │\n",
       "│ chrX  ┆ 78076  │\n",
       "│ chrY  ┆ 12488  │\n",
       "└───────┴────────┘"
      ],
      "text/html": [
       "<div><style>\n",
       ".dataframe > thead > tr,\n",
       ".dataframe > tbody > tr {\n",
       "  text-align: right;\n",
       "  white-space: pre-wrap;\n",
       "}\n",
       "</style>\n",
       "<small>shape: (24, 2)</small><table border=\"1\" class=\"dataframe\"><thead><tr><th>chrom</th><th>cnt</th></tr><tr><td>str</td><td>i64</td></tr></thead><tbody><tr><td>&quot;chr1&quot;</td><td>182804</td></tr><tr><td>&quot;chr10&quot;</td><td>96755</td></tr><tr><td>&quot;chr11&quot;</td><td>95690</td></tr><tr><td>&quot;chr12&quot;</td><td>97655</td></tr><tr><td>&quot;chr13&quot;</td><td>63839</td></tr><tr><td>&hellip;</td><td>&hellip;</td></tr><tr><td>&quot;chr7&quot;</td><td>131866</td></tr><tr><td>&quot;chr8&quot;</td><td>101224</td></tr><tr><td>&quot;chr9&quot;</td><td>87748</td></tr><tr><td>&quot;chrX&quot;</td><td>78076</td></tr><tr><td>&quot;chrY&quot;</td><td>12488</td></tr></tbody></table></div>"
      ]
     },
     "execution_count": 21,
     "metadata": {},
     "output_type": "execute_result"
    }
   ],
   "execution_count": 21
  },
  {
   "metadata": {
    "ExecuteTime": {
     "end_time": "2025-06-01T16:35:04.845098Z",
     "start_time": "2025-06-01T16:34:32.937216Z"
    }
   },
   "cell_type": "code",
   "source": "pb.sql(\"SELECT * FROM gnomad_sv WHERE chrom='chr1'\", streaming=True).sink_csv(\"/tmp/gnomad_chr1.csv\")",
   "id": "ad276ceaff281479",
   "outputs": [],
   "execution_count": 17
  },
  {
   "metadata": {
    "ExecuteTime": {
     "end_time": "2025-06-01T16:35:09.063971Z",
     "start_time": "2025-06-01T16:35:09.043834Z"
    }
   },
   "cell_type": "code",
   "source": "pl.read_csv(\"/tmp/gnomad_chr1.csv\").count()",
   "id": "666bf70a46f75380",
   "outputs": [
    {
     "data": {
      "text/plain": [
       "shape: (1, 10)\n",
       "┌────────┬────────┬────────┬────────┬───┬────────┬────────┬────────┬────────┐\n",
       "│ chrom  ┆ start  ┆ end    ┆ id     ┆ … ┆ qual   ┆ filter ┆ svtype ┆ svlen  │\n",
       "│ ---    ┆ ---    ┆ ---    ┆ ---    ┆   ┆ ---    ┆ ---    ┆ ---    ┆ ---    │\n",
       "│ u32    ┆ u32    ┆ u32    ┆ u32    ┆   ┆ u32    ┆ u32    ┆ u32    ┆ u32    │\n",
       "╞════════╪════════╪════════╪════════╪═══╪════════╪════════╪════════╪════════╡\n",
       "│ 182804 ┆ 182804 ┆ 182804 ┆ 182804 ┆ … ┆ 182804 ┆ 182804 ┆ 182804 ┆ 182804 │\n",
       "└────────┴────────┴────────┴────────┴───┴────────┴────────┴────────┴────────┘"
      ],
      "text/html": [
       "<div><style>\n",
       ".dataframe > thead > tr,\n",
       ".dataframe > tbody > tr {\n",
       "  text-align: right;\n",
       "  white-space: pre-wrap;\n",
       "}\n",
       "</style>\n",
       "<small>shape: (1, 10)</small><table border=\"1\" class=\"dataframe\"><thead><tr><th>chrom</th><th>start</th><th>end</th><th>id</th><th>ref</th><th>alt</th><th>qual</th><th>filter</th><th>svtype</th><th>svlen</th></tr><tr><td>u32</td><td>u32</td><td>u32</td><td>u32</td><td>u32</td><td>u32</td><td>u32</td><td>u32</td><td>u32</td><td>u32</td></tr></thead><tbody><tr><td>182804</td><td>182804</td><td>182804</td><td>182804</td><td>182804</td><td>182804</td><td>182804</td><td>182804</td><td>182804</td><td>182804</td></tr></tbody></table></div>"
      ]
     },
     "execution_count": 18,
     "metadata": {},
     "output_type": "execute_result"
    }
   ],
   "execution_count": 18
  },
  {
   "metadata": {
    "ExecuteTime": {
     "end_time": "2025-06-01T16:00:48.507352Z",
     "start_time": "2025-06-01T16:00:39.479734Z"
    }
   },
   "cell_type": "code",
   "source": "pb.register_vcf(vcf_2, \"gnomad_exomes\", info_fields=[\"AC\", \"AF\"], allow_anonymous=True)",
   "id": "234c9170e21a7bf4",
   "outputs": [
    {
     "name": "stderr",
     "output_type": "stream",
     "text": [
      "INFO:polars_bio.scan:Registering VCF table gnomad_exomes with options: VcfReadOptions { info_fields: Some([\"AC\", \"AF\"]), format_fields: None, thread_num: Some(1), object_storage_options: Some(ObjectStorageOptions { chunk_size: Some(64), concurrent_fetches: Some(8), allow_anonymous: true, enable_request_payer: false, max_retries: Some(5), timeout: Some(300) }) }\n",
      "INFO:polars_bio:Table: gnomad_exomes registered for path: gs://gcp-public-data--gnomad/release/4.1/vcf/exomes/gnomad.exomes.v4.1.sites.chr21.vcf.bgz\n"
     ]
    }
   ],
   "execution_count": 27
  },
  {
   "metadata": {
    "ExecuteTime": {
     "end_time": "2025-06-01T16:01:02.163512Z",
     "start_time": "2025-06-01T16:00:51.957241Z"
    }
   },
   "cell_type": "code",
   "source": "pb.sql(\"SELECT replace(chrom,'chr','') AS chrom, start, ac,af  FROM gnomad_exomes WHERE array_element(af,1)>0.01\").limit(10).collect()",
   "id": "884bfe80e6bcd678",
   "outputs": [
    {
     "data": {
      "text/plain": [
       "shape: (10, 4)\n",
       "┌───────┬─────────┬───────────┬────────────┐\n",
       "│ chrom ┆ start   ┆ ac        ┆ af         │\n",
       "│ ---   ┆ ---     ┆ ---       ┆ ---        │\n",
       "│ str   ┆ u32     ┆ list[i32] ┆ list[f32]  │\n",
       "╞═══════╪═════════╪═══════════╪════════════╡\n",
       "│ 21    ┆ 5033364 ┆ [372992]  ┆ [0.337086] │\n",
       "│ 21    ┆ 5033539 ┆ [1107064] ┆ [0.996312] │\n",
       "│ 21    ┆ 5034629 ┆ [15145]   ┆ [0.020082] │\n",
       "│ 21    ┆ 5035021 ┆ [1811]    ┆ [0.307888] │\n",
       "│ 21    ┆ 5035108 ┆ [2]       ┆ [0.010989] │\n",
       "│ 21    ┆ 5035658 ┆ [255555]  ┆ [0.336447] │\n",
       "│ 21    ┆ 5035846 ┆ [37233]   ┆ [0.286906] │\n",
       "│ 21    ┆ 5035921 ┆ [1682]    ┆ [0.010757] │\n",
       "│ 21    ┆ 5116593 ┆ [4032]    ┆ [0.018626] │\n",
       "│ 21    ┆ 5116760 ┆ [101]     ┆ [0.014914] │\n",
       "└───────┴─────────┴───────────┴────────────┘"
      ],
      "text/html": [
       "<div><style>\n",
       ".dataframe > thead > tr,\n",
       ".dataframe > tbody > tr {\n",
       "  text-align: right;\n",
       "  white-space: pre-wrap;\n",
       "}\n",
       "</style>\n",
       "<small>shape: (10, 4)</small><table border=\"1\" class=\"dataframe\"><thead><tr><th>chrom</th><th>start</th><th>ac</th><th>af</th></tr><tr><td>str</td><td>u32</td><td>list[i32]</td><td>list[f32]</td></tr></thead><tbody><tr><td>&quot;21&quot;</td><td>5033364</td><td>[372992]</td><td>[0.337086]</td></tr><tr><td>&quot;21&quot;</td><td>5033539</td><td>[1107064]</td><td>[0.996312]</td></tr><tr><td>&quot;21&quot;</td><td>5034629</td><td>[15145]</td><td>[0.020082]</td></tr><tr><td>&quot;21&quot;</td><td>5035021</td><td>[1811]</td><td>[0.307888]</td></tr><tr><td>&quot;21&quot;</td><td>5035108</td><td>[2]</td><td>[0.010989]</td></tr><tr><td>&quot;21&quot;</td><td>5035658</td><td>[255555]</td><td>[0.336447]</td></tr><tr><td>&quot;21&quot;</td><td>5035846</td><td>[37233]</td><td>[0.286906]</td></tr><tr><td>&quot;21&quot;</td><td>5035921</td><td>[1682]</td><td>[0.010757]</td></tr><tr><td>&quot;21&quot;</td><td>5116593</td><td>[4032]</td><td>[0.018626]</td></tr><tr><td>&quot;21&quot;</td><td>5116760</td><td>[101]</td><td>[0.014914]</td></tr></tbody></table></div>"
      ]
     },
     "execution_count": 28,
     "metadata": {},
     "output_type": "execute_result"
    }
   ],
   "execution_count": 28
  },
  {
   "metadata": {
    "ExecuteTime": {
     "end_time": "2025-06-01T16:02:23.546771Z",
     "start_time": "2025-06-01T16:01:02.180168Z"
    }
   },
   "cell_type": "code",
   "source": "pb.overlap(\"gnomad_sv\", \"gnomad_exomes\").collect().count()",
   "id": "760421ed8c73a7a0",
   "outputs": [
    {
     "name": "stderr",
     "output_type": "stream",
     "text": [
      "INFO:polars_bio.operation:Running Overlap operation with algorithm Coitrees and 1 thread(s)...\n"
     ]
    },
    {
     "data": {
      "text/plain": [
       "0rows [00:00, ?rows/s]"
      ],
      "application/vnd.jupyter.widget-view+json": {
       "version_major": 2,
       "version_minor": 0,
       "model_id": "1889bf48423b49df9b23180aa011bd88"
      }
     },
     "metadata": {},
     "output_type": "display_data"
    },
    {
     "data": {
      "text/plain": [
       "shape: (1, 20)\n",
       "┌──────────┬──────────┬──────────┬──────────┬───┬──────────┬──────────┬──────────┬──────────┐\n",
       "│ chrom_1  ┆ start_1  ┆ end_1    ┆ chrom_2  ┆ … ┆ qual_2   ┆ filter_2 ┆ svtype_2 ┆ svlen_2  │\n",
       "│ ---      ┆ ---      ┆ ---      ┆ ---      ┆   ┆ ---      ┆ ---      ┆ ---      ┆ ---      │\n",
       "│ u32      ┆ u32      ┆ u32      ┆ u32      ┆   ┆ u32      ┆ u32      ┆ u32      ┆ u32      │\n",
       "╞══════════╪══════════╪══════════╪══════════╪═══╪══════════╪══════════╪══════════╪══════════╡\n",
       "│ 17875080 ┆ 17875080 ┆ 17875080 ┆ 17875080 ┆ … ┆ 17875080 ┆ 17875080 ┆ 17875080 ┆ 17875080 │\n",
       "└──────────┴──────────┴──────────┴──────────┴───┴──────────┴──────────┴──────────┴──────────┘"
      ],
      "text/html": [
       "<div><style>\n",
       ".dataframe > thead > tr,\n",
       ".dataframe > tbody > tr {\n",
       "  text-align: right;\n",
       "  white-space: pre-wrap;\n",
       "}\n",
       "</style>\n",
       "<small>shape: (1, 20)</small><table border=\"1\" class=\"dataframe\"><thead><tr><th>chrom_1</th><th>start_1</th><th>end_1</th><th>chrom_2</th><th>start_2</th><th>end_2</th><th>id_1</th><th>ref_1</th><th>alt_1</th><th>qual_1</th><th>filter_1</th><th>ac_1</th><th>af_1</th><th>id_2</th><th>ref_2</th><th>alt_2</th><th>qual_2</th><th>filter_2</th><th>svtype_2</th><th>svlen_2</th></tr><tr><td>u32</td><td>u32</td><td>u32</td><td>u32</td><td>u32</td><td>u32</td><td>u32</td><td>u32</td><td>u32</td><td>u32</td><td>u32</td><td>u32</td><td>u32</td><td>u32</td><td>u32</td><td>u32</td><td>u32</td><td>u32</td><td>u32</td><td>u32</td></tr></thead><tbody><tr><td>17875080</td><td>17875080</td><td>17875080</td><td>17875080</td><td>17875080</td><td>17875080</td><td>17875080</td><td>17875080</td><td>17875080</td><td>17875080</td><td>17875080</td><td>17875080</td><td>17580234</td><td>17875080</td><td>17875080</td><td>17875080</td><td>17875080</td><td>17875080</td><td>17875080</td><td>17875080</td></tr></tbody></table></div>"
      ]
     },
     "execution_count": 29,
     "metadata": {},
     "output_type": "execute_result"
    }
   ],
   "execution_count": 29
  },
  {
   "metadata": {
    "ExecuteTime": {
     "end_time": "2025-06-01T16:04:08.094299Z",
     "start_time": "2025-06-01T16:03:58.041830Z"
    }
   },
   "cell_type": "code",
   "source": "pb.register_vcf(vcf_2, \"gnomad_exomes\", allow_anonymous=True)",
   "id": "96414fce28a34496",
   "outputs": [
    {
     "name": "stderr",
     "output_type": "stream",
     "text": [
      "INFO:polars_bio.scan:Registering VCF table gnomad_exomes with options: VcfReadOptions { info_fields: None, format_fields: None, thread_num: Some(1), object_storage_options: Some(ObjectStorageOptions { chunk_size: Some(64), concurrent_fetches: Some(8), allow_anonymous: true, enable_request_payer: false, max_retries: Some(5), timeout: Some(300) }) }\n",
      "INFO:polars_bio:Table: gnomad_exomes registered for path: gs://gcp-public-data--gnomad/release/4.1/vcf/exomes/gnomad.exomes.v4.1.sites.chr21.vcf.bgz\n"
     ]
    }
   ],
   "execution_count": 31
  },
  {
   "metadata": {
    "ExecuteTime": {
     "end_time": "2025-06-01T16:05:34.563009Z",
     "start_time": "2025-06-01T16:04:09.987640Z"
    }
   },
   "cell_type": "code",
   "source": "pb.overlap(\"gnomad_sv\", \"gnomad_exomes\", streaming=True).sink_csv(\"/tmp/overlap.csv\")",
   "id": "141a07216bd78883",
   "outputs": [
    {
     "name": "stderr",
     "output_type": "stream",
     "text": [
      "INFO:polars_bio.operation:Running in streaming mode...\n",
      "INFO:polars_bio.operation:Running Overlap operation with algorithm Coitrees and 1 thread(s)...\n"
     ]
    }
   ],
   "execution_count": 32
  },
  {
   "metadata": {
    "ExecuteTime": {
     "end_time": "2025-06-01T16:06:05.223335Z",
     "start_time": "2025-06-01T16:06:02.246047Z"
    }
   },
   "cell_type": "code",
   "source": "! wc -l /tmp/overlap.csv",
   "id": "e016f5400d3c3b9f",
   "outputs": [
    {
     "name": "stdout",
     "output_type": "stream",
     "text": [
      " 17875081 /tmp/overlap.csv\r\n"
     ]
    }
   ],
   "execution_count": 33
  },
  {
   "metadata": {},
   "cell_type": "markdown",
   "source": "###",
   "id": "f931e1c7aa6e6a7"
  }
 ],
 "metadata": {
  "kernelspec": {
   "display_name": "Python 3",
   "language": "python",
   "name": "python3"
  },
  "language_info": {
   "codemirror_mode": {
    "name": "ipython",
    "version": 2
   },
   "file_extension": ".py",
   "mimetype": "text/x-python",
   "name": "python",
   "nbconvert_exporter": "python",
   "pygments_lexer": "ipython2",
   "version": "2.7.6"
  }
 },
 "nbformat": 4,
 "nbformat_minor": 5
}
