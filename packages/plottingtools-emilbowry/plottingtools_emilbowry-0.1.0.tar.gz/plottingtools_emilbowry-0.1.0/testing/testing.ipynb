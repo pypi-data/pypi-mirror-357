{
 "cells": [
  {
   "cell_type": "code",
   "execution_count": null,
   "id": "441dfc4a",
   "metadata": {},
   "outputs": [],
   "source": [
    "I am access to sync with my macs, I think it's uploading fine, but one of the mac's is just incredibly slow to download. It's been downloading 50MBs for 4 hours, and uploading is impossible. \n",
    "\n",
    "Both macs are on the same network, it currently is 70Mbps download,60 upload  but iCloud has been trying to sync 50MB for 4 hours, what's wrong. my other mac's is fine, this has been happening for months. Ive signed out of iCloud, purged the drive saves and still its slow.\n",
    "\n",
    "\n",
    "It is quicker to just upload to github and download from github which is incredibly frustrating. I've tried killing bird and cloudd but nothing is working"
   ]
  },
  {
   "cell_type": "code",
   "execution_count": null,
   "id": "b8f70ceb",
   "metadata": {},
   "outputs": [],
   "source": [
    "from types import ModuleType\n",
    "\n",
    "\n",
    "def init(mod, *args, **kwargs):\n",
    "\tprint(mod, args, kwargs)\n",
    "\tmod.__class__.__init__ = init2\n",
    "\n",
    "\tprint(\"i\")\n",
    "\n",
    "\n",
    "def init2(mod, *args, **kwargs):\n",
    "\tprint(mod, args, kwargs)\n",
    "\tprint(\"i2\")\n",
    "\n",
    "\t# mod.func = _function\n",
    "\n",
    "\n",
    "def call(mod, *args, **kwargs):\n",
    "\tprint(\"c\")\n",
    "\tprint(mod, args, kwargs)\n",
    "\n",
    "\tmod.positional_dec_args = args\n",
    "\tmod.keyword_dec_args = kwargs\n",
    "\t# mod.__call__=init\n",
    "\n",
    "\treturn mod\n",
    "\n",
    "\n",
    "def call2(mod, *args, **kwargs):\n",
    "\tprint(\"c2\")\n",
    "\tprint(mod, args, kwargs)\n",
    "\n",
    "\tmod.positional_dec_args = args\n",
    "\tmod.keyword_dec_args = kwargs\n",
    "\tmod.__call__ = init\n",
    "\tmod.__class__.__call__ = call\n",
    "\n",
    "\treturn mod\n",
    "\n",
    "\n",
    "def new2(mod, *args, **kwargs):\n",
    "\tprint(mod, args, kwargs)\n",
    "\n",
    "\tprint(\"n2\")\n",
    "\treturn mod\n",
    "\n",
    "\n",
    "def new(mod, *args, **kwargs):\n",
    "\tprint(mod, args, kwargs)\n",
    "\n",
    "\tprint(\"n\")\n",
    "\n",
    "\tmod.positional_dec_args = args\n",
    "\tmod.keyword_dec_args = kwargs\n",
    "\tmod.__init__ = init\n",
    "\n",
    "\tm = ModuleType.__new__(mod)\n",
    "\tmod.__call__ = call2\n",
    "\n",
    "\t# mod.__init__=init2\n",
    "\n",
    "\treturn m\n",
    "\n",
    "\n",
    "def execute(mod, *args, **kwargs):\n",
    "\tpass\n",
    "\n",
    "\n",
    "DD = type(\"delayed_dec\", (ModuleType,), {\"__new__\": new})\n",
    "DD = type(\"delayed_dec\", (ModuleType,), {\"__new__\": new, \"__call__\": call})\n",
    "\n",
    "DD(\"1\")(\"2\")(\"3\")"
   ]
  },
  {
   "cell_type": "code",
   "execution_count": 136,
   "id": "e1e26d6e",
   "metadata": {},
   "outputs": [
    {
     "name": "stdout",
     "output_type": "stream",
     "text": [
      "n\n",
      "<class '__main__.delayed_dec'> () {}\n",
      "i\n",
      "<module '?'> () {}\n",
      "c\n",
      "<module '?'> ('dd', (), {'__module__': '__main__', '__qualname__': 'dd', '__firstlineno__': 90, '__static_attributes__': ()}) {}\n"
     ]
    }
   ],
   "source": [
    "from types import ModuleType\n",
    "\n",
    "\n",
    "def init(mod, *args, **kwargs):\n",
    "\tprint(\"i\")\n",
    "\n",
    "\tmod.positional_dec_args = args\n",
    "\tmod.keyword_dec_args = kwargs\n",
    "\tprint(mod, args, kwargs)\n",
    "\n",
    "\n",
    "def init2(mod, *args, **kwargs):\n",
    "\tprint(\"i2\")\n",
    "\n",
    "\tmod.positional_dec_args = args\n",
    "\tmod.keyword_dec_args = kwargs\n",
    "\tprint(mod, args, kwargs)\n",
    "\n",
    "\n",
    "def call(mod, *args, **kwargs):\n",
    "\tprint(\"c\")\n",
    "\tprint(mod, args, kwargs)\n",
    "\n",
    "\tmod.positional_dec_args = args\n",
    "\tmod.keyword_dec_args = kwargs\n",
    "\tmod.__new__ = new2\n",
    "\n",
    "\tm = ModuleType.__new__(mod.__class__)\n",
    "\tm.__class__.__new__ = new2\n",
    "\n",
    "\t# mod.__call__=init\n",
    "\t# mod.__class__.__call__ = call2\n",
    "\t# mod.__class__.__new__ = init\n",
    "\t# mod.__class__.__init__ = init\n",
    "\t# mod.__call__ = call2\n",
    "\t# mod.__new__ = init\n",
    "\t# mod.__init__ = init\n",
    "\treturn m\n",
    "\n",
    "\n",
    "def call2(mod, *args, **kwargs):\n",
    "\tprint(\"c2\")\n",
    "\tprint(mod, args, kwargs)\n",
    "\n",
    "\tmod.positional_dec_args = args\n",
    "\tmod.keyword_dec_args = kwargs\n",
    "\tmod.__init__ = init\n",
    "\n",
    "\treturn mod\n",
    "\n",
    "\n",
    "def new2(mod, *args, **kwargs):\n",
    "\tprint(\"n2\")\n",
    "\n",
    "\tprint(mod, args, kwargs)\n",
    "\n",
    "\t# mod.__init__ = init\n",
    "\n",
    "\tm = ModuleType.__new__(mod.__class__)\n",
    "\n",
    "\tm.__class__.__call__ = call2\n",
    "\n",
    "\treturn m\n",
    "\n",
    "\n",
    "def new(mod, *args, **kwargs):\n",
    "\tprint(\"n\")\n",
    "\n",
    "\tprint(mod, args, kwargs)\n",
    "\n",
    "\t# mod.__init__ = init\n",
    "\tmod.__new__ = new2\n",
    "\n",
    "\tm = ModuleType.__new__(mod)\n",
    "\n",
    "\tmod.__init__ = init\n",
    "\n",
    "\treturn m\n",
    "\n",
    "\n",
    "def execute(mod, *args, **kwargs):\n",
    "\tpass\n",
    "\n",
    "\n",
    "# DD = type(\"delayed_dec\", (ModuleType,), {\"__new__\": new})()\n",
    "\n",
    "DD = type(\"delayed_dec\", (ModuleType,), {\"__new__\": new, \"__call__\": call})\n",
    "\n",
    "\n",
    "class dd(metaclass=DD()):\n",
    "\tpass\n",
    "\n",
    "\n",
    "# DD = type(\"delayed_dec\", (DD,), {\"__new__\": new, \"__call__\": call})"
   ]
  },
  {
   "cell_type": "code",
   "execution_count": 137,
   "id": "4da0c6ad",
   "metadata": {},
   "outputs": [
    {
     "name": "stdout",
     "output_type": "stream",
     "text": [
      "c\n",
      "<module '?'> ('1',) {}\n",
      "c\n",
      "<module '?'> ('2',) {}\n",
      "c\n",
      "<module '?'> ('3',) {}\n"
     ]
    },
    {
     "data": {
      "text/plain": [
       "<module '?'>"
      ]
     },
     "execution_count": 137,
     "metadata": {},
     "output_type": "execute_result"
    }
   ],
   "source": [
    "dd(\"1\")(\"2\")(\"3\")"
   ]
  },
  {
   "cell_type": "code",
   "execution_count": null,
   "id": "fc3a4712",
   "metadata": {},
   "outputs": [
    {
     "name": "stdout",
     "output_type": "stream",
     "text": [
      "<class '__main__._mod'> ('d',) {}\n",
      "n\n",
      "<module '?'> ('d',) {}\n",
      "i\n",
      "ci\n",
      "<module '?'> () {}\n",
      "ci\n",
      "<module '?'> ('b', (), {'__module__': '__main__', '__qualname__': 'delayed.<locals>.b', '__firstlineno__': 88, '__call__': <function call at 0x10bc06ca0>, '__new__': <function new2 at 0x10bc07100>, '__init__': <function initi at 0x10bc06f20>, '__static_attributes__': ()}) {}\n",
      "ci\n",
      "<module '?'> () {}\n",
      "initialise\n",
      "ci\n",
      "<module '?'> ('2',) {}\n",
      "ci\n",
      "<module '?'> ('3',) {}\n",
      "ci\n",
      "<module '?'> ('4',) {}\n"
     ]
    },
    {
     "data": {
      "text/plain": [
       "<module '?'>"
      ]
     },
     "execution_count": 358,
     "metadata": {},
     "output_type": "execute_result"
    }
   ],
   "source": [
    "from types import ModuleType\n",
    "\n",
    "\n",
    "def init(mod, *args, **kwargs):\n",
    "\tprint(mod, args, kwargs)\n",
    "\tprint(\"i\")\n",
    "\t# return mod\n",
    "\n",
    "\t# mod.func = _function\n",
    "\n",
    "\n",
    "def call(mod, *args, **kwargs):\n",
    "\tprint(\"c\")\n",
    "\tprint(mod, args, kwargs)\n",
    "\tmod.__call__ = init\n",
    "\n",
    "\treturn mod\n",
    "\n",
    "\n",
    "def new2(mod, *args, **kwargs):\n",
    "\tprint(mod, args, kwargs)\n",
    "\n",
    "\tprint(\"n2\")\n",
    "\treturn mod\n",
    "\n",
    "\n",
    "def new(mod, *args, **kwargs):\n",
    "\tprint(mod, args, kwargs)\n",
    "\n",
    "\tprint(\"n\")\n",
    "\n",
    "\tmod.positional_dec_args = args\n",
    "\tmod.keyword_dec_args = kwargs\n",
    "\tm = ModuleType.__new__(mod)\n",
    "\tm.__init__ = init\n",
    "\tm.__call__ = call\n",
    "\n",
    "\treturn m\n",
    "\t# # return  type(\"delayed_dec\",(ModuleType,),{\"__call__\":call,\"__init__\":init})\n",
    "\t# return type(\"delayed_dec\",(ModuleType,),{\"__call__\":call,\"__init__\":init})\n",
    "\n",
    "\n",
    "def initi(mod, *args, **kwargs):\n",
    "\tprint(mod, args, kwargs)\n",
    "\tprint(\"ii\")\n",
    "\treturn mod\n",
    "\n",
    "\t# mod.func = _function\n",
    "\n",
    "\n",
    "def calli(mod, *args, **kwargs):\n",
    "\tprint(\"ci\")\n",
    "\tprint(mod, args, kwargs)\n",
    "\t# mod.__call__=init\n",
    "\n",
    "\treturn mod\n",
    "\n",
    "\n",
    "def new2i(mod, *args, **kwargs):\n",
    "\tprint(mod, args, kwargs)\n",
    "\n",
    "\tprint(\"n2i\")\n",
    "\treturn mod\n",
    "\n",
    "\n",
    "def newi(mod, *args, **kwargs):\n",
    "\tprint(mod, args, kwargs)\n",
    "\n",
    "\tprint(\"ni\")\n",
    "\n",
    "\tmod.positional_dec_args = args\n",
    "\tmod.keyword_dec_args = kwargs\n",
    "\tm = ModuleType.__new__(mod)\n",
    "\tm.__init__ = init\n",
    "\treturn m\n",
    "\n",
    "\n",
    "def execute(mod, *args, **kwargs):\n",
    "\tpass\n",
    "\n",
    "\n",
    "def delayed(name):\n",
    "\n",
    "\ta = type(\"_mod\", (ModuleType,), {\"__new__\": new})\n",
    "\t# a = type(\"_mod\", (ModuleType,), {})\n",
    "\n",
    "\ta.__init__ = init\n",
    "\n",
    "\ta.__call__ = call\n",
    "\n",
    "\tinstance = a(\"d\")\n",
    "\t# del a\n",
    "\n",
    "\ta.__new__ = newi\n",
    "\tdelattr(a, \"__call__\")\n",
    "\tdelattr(a, \"__init__\")\n",
    "\tdelattr(a, \"__new__\")\n",
    "\n",
    "\ta.__new__ = new2\n",
    "\ta.__init__ = initi\n",
    "\ta.__call__ = calli\n",
    "\tinstance.__new__ = new2\n",
    "\tinstance.__init__ = initi\n",
    "\tinstance.__call__ = calli\n",
    "\n",
    "\tclass b(metaclass=instance()):\n",
    "\t\t__call__ = call\n",
    "\t\t__new__ = new2\n",
    "\t\t__init__ = initi\n",
    "\t\tpass\n",
    "\n",
    "\tc = b()\n",
    "\t# print(instance)\n",
    "\tb.__new__ = new2\n",
    "\t# # a.__init__ = call\n",
    "\tb.__init__ = initi\n",
    "\n",
    "\t# # a.__call__ = call\n",
    "\tb.__call__ = calli\n",
    "\n",
    "\t# # setattr(instance,\"__new__\",new)\n",
    "\n",
    "\treturn c\n",
    "\n",
    "\n",
    "d = delayed(\"1\")\n",
    "print(\"initialise\")\n",
    "d(\"2\")(\"3\")(\"4\")\n",
    "# print(d)\n",
    "# print(\"accept func\")\n",
    "# d(\"2\")\n",
    "# print(\"execute\")\n",
    "# d(\"3\")\n",
    "# d(\"4\")"
   ]
  },
  {
   "cell_type": "code",
   "execution_count": null,
   "id": "febce322",
   "metadata": {},
   "outputs": [
    {
     "name": "stdout",
     "output_type": "stream",
     "text": [
      "<module '?'> () {}\n",
      "i\n"
     ]
    }
   ],
   "source": []
  },
  {
   "cell_type": "code",
   "execution_count": null,
   "id": "f2690ca8",
   "metadata": {},
   "outputs": [
    {
     "name": "stdout",
     "output_type": "stream",
     "text": [
      "<class '__main__._mod'> ('2',) {}\n",
      "n\n",
      "<module '?'> ('2',) {}\n",
      "i\n"
     ]
    }
   ],
   "source": []
  },
  {
   "cell_type": "code",
   "execution_count": null,
   "id": "62cf4040",
   "metadata": {},
   "outputs": [
    {
     "name": "stdout",
     "output_type": "stream",
     "text": [
      "c\n",
      "<module '?'> ('3',) {}\n"
     ]
    },
    {
     "data": {
      "text/plain": [
       "<module '?'>"
      ]
     },
     "execution_count": 227,
     "metadata": {},
     "output_type": "execute_result"
    }
   ],
   "source": []
  },
  {
   "cell_type": "code",
   "execution_count": null,
   "id": "8a1521f3",
   "metadata": {},
   "outputs": [
    {
     "name": "stdout",
     "output_type": "stream",
     "text": [
      "<class '__main__.delayed_dec'> ('dd', (), {'__module__': '__main__', '__qualname__': 'dd', '__firstlineno__': 1, '__static_attributes__': ()}) {}\n",
      "n\n"
     ]
    },
    {
     "data": {
      "text/plain": [
       "__main__.delayed_dec"
      ]
     },
     "execution_count": 143,
     "metadata": {},
     "output_type": "execute_result"
    }
   ],
   "source": [
    "class dd(metaclass=DD):\n",
    "\tpass\n",
    "\n",
    "\n",
    "dd"
   ]
  },
  {
   "cell_type": "code",
   "execution_count": null,
   "id": "79ec120c",
   "metadata": {},
   "outputs": [
    {
     "name": "stdout",
     "output_type": "stream",
     "text": [
      "<class '__main__.delayed_dec'> ('h',) {}\n",
      "n\n",
      "<class '__main__.delayed_dec'> () {}\n",
      "n\n"
     ]
    }
   ],
   "source": [
    "dd = dd(\"h\")()"
   ]
  },
  {
   "cell_type": "code",
   "execution_count": null,
   "id": "cca434a0",
   "metadata": {},
   "outputs": [
    {
     "name": "stdout",
     "output_type": "stream",
     "text": [
      "<class '__main__.delayed_dec'> () {}\n",
      "n2\n"
     ]
    },
    {
     "data": {
      "text/plain": [
       "__main__.delayed_dec"
      ]
     },
     "execution_count": 133,
     "metadata": {},
     "output_type": "execute_result"
    }
   ],
   "source": [
    "dd()"
   ]
  },
  {
   "cell_type": "code",
   "execution_count": null,
   "id": "0d40bbd2",
   "metadata": {},
   "outputs": [
    {
     "name": "stdout",
     "output_type": "stream",
     "text": [
      "('delayed_decorator', (), {'__module__': '__main__', '__qualname__': 'delayed_decorator.<locals>.delayed_decorator', '__firstlineno__': 10, 'positional_dec_args': (1,), 'keyword_dec_args': {'_id': 'hello'}, '__new__': <function delayed_decorator.<locals>.delayed_decorator.__new__ at 0x10fd6a480>, '__init__': <function delayed_decorator.<locals>.delayed_decorator.__init__ at 0x10fd69ee0>, '__call__': <function delayed_decorator.<locals>.delayed_decorator.__call__ at 0x10fd6a3e0>, '__static_attributes__': ('func',)}) {}\n",
      "(<function f at 0x10fdc6660>,) {}\n",
      "<__main__.delayed_decorator.<locals>.delayed_decorator object at 0x10b4996a0> <function f at 0x10fdc6660> () {}\n"
     ]
    }
   ],
   "source": [
    "def meta(*args, **kwds):\n",
    "\tprint(args, kwds)\n",
    "\n",
    "\treturn type(*args, **kwds)\n",
    "\n",
    "\n",
    "def delayed_decorator(*args, **kwargs):\n",
    "\t_args = args\n",
    "\t_kwargs = kwargs\n",
    "\n",
    "\tclass delayed_decorator(metaclass=meta):\n",
    "\t\tpositional_dec_args = _args\n",
    "\t\tkeyword_dec_args = _kwargs\n",
    "\n",
    "\t\tdef __new__(cls, *args, **kwds):\n",
    "\t\t\tprint(args, kwds)\n",
    "\n",
    "\t\t\tinstance = object.__new__(cls)\n",
    "\t\t\treturn instance\n",
    "\n",
    "\t\tdef __init__(self, _function, *args, **kwds):\n",
    "\t\t\tself.func = _function\n",
    "\t\t\tprint(self, _function, args, kwds)\n",
    "\n",
    "\t\tdef __call__(self, *args, **kwargs):\n",
    "\t\t\tprint(self, args, kwds)\n",
    "\n",
    "\t\t\tself.func(*args, **kwargs)\n",
    "\n",
    "\treturn delayed_decorator\n",
    "\n",
    "\n",
    "@delayed_decorator(1, _id=\"hello\")\n",
    "def f(*args, **kwargs):\n",
    "\tprint(\"no\")\n",
    "\n",
    "\n",
    "# f()"
   ]
  },
  {
   "cell_type": "code",
   "execution_count": null,
   "id": "a60a9df6",
   "metadata": {},
   "outputs": [
    {
     "name": "stdout",
     "output_type": "stream",
     "text": [
      "<function f at 0x10fdc5da0>\n"
     ]
    }
   ],
   "source": [
    "class DelayedDecorator:\n",
    "\tdef meta(self, *args, **kwds):\n",
    "\t\treturn type(*args, **kwds)\n",
    "\n",
    "\tdef delayed_decorator(*args, **kwargs):\n",
    "\t\tclass delayed_decorator(metaclass=meta):\n",
    "\n",
    "\t\t\tdef __new__(cls, *args, **kwds):\n",
    "\t\t\t\tinstance = object.__new__(cls)\n",
    "\t\t\t\treturn instance\n",
    "\n",
    "\t\t\tdef __init__(self, _function):\n",
    "\t\t\t\tprint(_function)\n",
    "\t\t\t\tself.func = _function\n",
    "\n",
    "\t\t\tdef __call__(self, *args, **kwargs):\n",
    "\t\t\t\tself.func(*args, **kwargs)\n",
    "\n",
    "\t\treturn delayed_decorator\n",
    "\n",
    "\n",
    "@DelayedDecorator.delayed_decorator(\"hello\")\n",
    "def f(*args, **kwargs):\n",
    "\tprint(\"hello\")"
   ]
  },
  {
   "cell_type": "code",
   "execution_count": null,
   "id": "78cf0e56",
   "metadata": {},
   "outputs": [],
   "source": [
    "killall bird; killall cloudd\n",
    "brctl log --wait --shorten &\n"
   ]
  },
  {
   "cell_type": "code",
   "execution_count": null,
   "id": "ebb21ed0",
   "metadata": {},
   "outputs": [],
   "source": [
    "from Plots2 import plotter, PlotsWithCompare\n",
    "\n",
    "\n",
    "@plotter\n",
    "@PlotsWithCompare.variational_compare\n",
    "def _test():\n",
    "\tSIZE = 50\n",
    "\n",
    "\talpha_vals = np.linspace(0.2, 0.8, SIZE)\n",
    "\tbeta_vals = np.linspace(5, 25, SIZE)\n",
    "\tx_time = np.linspace(0, 1, SIZE)\n",
    "\n",
    "\tdata_a_list = []\n",
    "\tfor alpha in alpha_vals:\n",
    "\t\trow = []\n",
    "\t\tfor beta in beta_vals:\n",
    "\t\t\tramp = 1 / (1 + np.exp(-beta * (x_time - alpha)))\n",
    "\t\t\trow.append(ramp)\n",
    "\t\tdata_a_list.append(row)\n",
    "\n",
    "\tdata_a = np.array(data_a_list)\n",
    "\n",
    "\tdata_b_list = []\n",
    "\tfor i in range(SIZE):\n",
    "\t\trow = []\n",
    "\t\tfor j in range(SIZE):\n",
    "\t\t\tmodified_ramp = 0.5 * data_a[i, j] + 0.3\n",
    "\t\t\trow.append(modified_ramp)\n",
    "\t\tdata_b_list.append(row)\n",
    "\tdata_b = np.array(data_b_list)\n",
    "\n",
    "\treturn data_a, data_b"
   ]
  }
 ],
 "metadata": {
  "kernelspec": {
   "display_name": ".venv",
   "language": "python",
   "name": "python3"
  },
  "language_info": {
   "codemirror_mode": {
    "name": "ipython",
    "version": 3
   },
   "file_extension": ".py",
   "mimetype": "text/x-python",
   "name": "python",
   "nbconvert_exporter": "python",
   "pygments_lexer": "ipython3",
   "version": "3.13.3"
  }
 },
 "nbformat": 4,
 "nbformat_minor": 5
}
