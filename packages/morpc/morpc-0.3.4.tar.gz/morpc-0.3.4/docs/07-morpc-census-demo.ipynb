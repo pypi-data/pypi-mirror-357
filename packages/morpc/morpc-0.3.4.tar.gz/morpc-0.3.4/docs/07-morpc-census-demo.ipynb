{
 "cells": [
  {
   "cell_type": "markdown",
   "id": "67dd235a-bfeb-4083-9dbf-c2ea640fd7e9",
   "metadata": {},
   "source": [
    "# Census Data Tools"
   ]
  },
  {
   "cell_type": "code",
   "execution_count": 2,
   "id": "05fed715-960a-4ffe-95da-bf3a79b542dd",
   "metadata": {},
   "outputs": [],
   "source": [
    "import morpc"
   ]
  },
  {
   "cell_type": "markdown",
   "id": "13fa9072-4713-4a57-a147-528879c0d389",
   "metadata": {
    "editable": true,
    "slideshow": {
     "slide_type": ""
    },
    "tags": []
   },
   "source": [
    "# morpc.census"
   ]
  },
  {
   "cell_type": "markdown",
   "id": "7b8b20ce-a5fa-462f-bede-0ef5e2ae6bb5",
   "metadata": {
    "editable": true,
    "slideshow": {
     "slide_type": ""
    },
    "tags": []
   },
   "source": [
    "MORPC works regularly with census data, including but not limited to ACS 5 and 1-year, Decennial Census, PEP, and geographies. The following module is useful for gathering and organizing census data for processes in various workflow. Those workflows are linked when appropriate. "
   ]
  },
  {
   "cell_type": "markdown",
   "id": "b0b85d64-d991-4a4e-ad00-f6658aa82106",
   "metadata": {
    "editable": true,
    "slideshow": {
     "slide_type": ""
    },
    "tags": []
   },
   "source": [
    "### ACS functions and variables"
   ]
  },
  {
   "cell_type": "markdown",
   "id": "f7633fa8-5a34-4a92-b03f-eb6588706ba6",
   "metadata": {
    "editable": true,
    "slideshow": {
     "slide_type": ""
    },
    "tags": []
   },
   "source": [
    "acs_get() is a low-level wrapper for Census API requests that returns the results as a pandas dataframe. If necessary, it splits the request into several smaller requests to bypass the 50-variable limit imposed by the API.  \n",
    "\n",
    "The resulting dataframe is indexed by GEOID (regardless of whether it was requested) and omits other fields that are not requested but which are returned automatically with each API request (e.g. \"state\", \"county\") "
   ]
  },
  {
   "cell_type": "code",
   "execution_count": 3,
   "id": "c4427da4-0688-4df4-869a-2c3c0bd7ac24",
   "metadata": {
    "editable": true,
    "slideshow": {
     "slide_type": ""
    },
    "tags": []
   },
   "outputs": [],
   "source": [
    "url = 'https://api.census.gov/data/2022/acs/acs1'\n",
    "params = {\n",
    "    \"get\": \"GEO_ID,NAME,B01001_001E\",\n",
    "    \"for\": \"county:049,041\",\n",
    "    \"in\": \"state:39\"\n",
    "}"
   ]
  },
  {
   "cell_type": "code",
   "execution_count": 4,
   "id": "6e899568-1d61-48f6-8bf7-40107991ee11",
   "metadata": {
    "editable": true,
    "slideshow": {
     "slide_type": ""
    },
    "tags": []
   },
   "outputs": [
    {
     "name": "stdout",
     "output_type": "stream",
     "text": [
      "Total variables requested: 3\n",
      "Starting request #1. 3 variables remain.\n"
     ]
    }
   ],
   "source": [
    "acs = morpc.census.acs_get(url, params)"
   ]
  },
  {
   "cell_type": "code",
   "execution_count": 5,
   "id": "47d8fe18-7e1b-4637-b5e1-e07536ba5b59",
   "metadata": {
    "editable": true,
    "slideshow": {
     "slide_type": ""
    },
    "tags": []
   },
   "outputs": [
    {
     "data": {
      "text/html": [
       "<div>\n",
       "<style scoped>\n",
       "    .dataframe tbody tr th:only-of-type {\n",
       "        vertical-align: middle;\n",
       "    }\n",
       "\n",
       "    .dataframe tbody tr th {\n",
       "        vertical-align: top;\n",
       "    }\n",
       "\n",
       "    .dataframe thead th {\n",
       "        text-align: right;\n",
       "    }\n",
       "</style>\n",
       "<table border=\"1\" class=\"dataframe\">\n",
       "  <thead>\n",
       "    <tr style=\"text-align: right;\">\n",
       "      <th></th>\n",
       "      <th>NAME</th>\n",
       "      <th>B01001_001E</th>\n",
       "    </tr>\n",
       "    <tr>\n",
       "      <th>GEO_ID</th>\n",
       "      <th></th>\n",
       "      <th></th>\n",
       "    </tr>\n",
       "  </thead>\n",
       "  <tbody>\n",
       "    <tr>\n",
       "      <th>0500000US39041</th>\n",
       "      <td>Delaware County, Ohio</td>\n",
       "      <td>226296</td>\n",
       "    </tr>\n",
       "    <tr>\n",
       "      <th>0500000US39049</th>\n",
       "      <td>Franklin County, Ohio</td>\n",
       "      <td>1321820</td>\n",
       "    </tr>\n",
       "  </tbody>\n",
       "</table>\n",
       "</div>"
      ],
      "text/plain": [
       "                                 NAME B01001_001E\n",
       "GEO_ID                                           \n",
       "0500000US39041  Delaware County, Ohio      226296\n",
       "0500000US39049  Franklin County, Ohio     1321820"
      ]
     },
     "execution_count": 5,
     "metadata": {},
     "output_type": "execute_result"
    }
   ],
   "source": [
    "acs"
   ]
  },
  {
   "cell_type": "markdown",
   "id": "9c6072a9-4769-4119-81e8-3d84fdff2461",
   "metadata": {
    "editable": true,
    "slideshow": {
     "slide_type": ""
    },
    "tags": []
   },
   "source": [
    "### Using morpc-censusacs-fetch as an input"
   ]
  },
  {
   "cell_type": "markdown",
   "id": "5e3446b3-9ab5-47c0-b43d-9037a242318d",
   "metadata": {
    "editable": true,
    "slideshow": {
     "slide_type": ""
    },
    "tags": []
   },
   "source": [
    "When using ACS data, generally we will be digesting data produded using the [morpc-censusacs-fetch](https://github.com/morpc/morpc-censusacs-fetch) workflow. The data that is produced from that script is by default saved in its output_data folders ./morpc-censusacs-fetch/output_data/\n",
    "\n",
    "Run that script according to the documentation and then use acs_generate_dimension_table() downstream. "
   ]
  },
  {
   "cell_type": "markdown",
   "id": "191c40a3-88c8-443b-ad19-d6ac6913f322",
   "metadata": {
    "editable": true,
    "slideshow": {
     "slide_type": ""
    },
    "tags": []
   },
   "source": [
    "#### Load the data using frictionless.load_data()"
   ]
  },
  {
   "cell_type": "code",
   "execution_count": 6,
   "id": "9b337ead-831e-4e03-98c5-62c5e8727136",
   "metadata": {
    "editable": true,
    "slideshow": {
     "slide_type": ""
    },
    "tags": []
   },
   "outputs": [
    {
     "name": "stdout",
     "output_type": "stream",
     "text": [
      "morpc.load_data | INFO | Loading Frictionless Resource file at location ..\\..\\morpc-censusacs-fetch\\output_data\\morpc-acs5-2023-us-B01001.resource.yaml\n",
      "morpc.load_data | INFO | Loading data, resource file, and schema from their source locations\n",
      "morpc.load_data | INFO | --> Data file: ..\\..\\morpc-censusacs-fetch\\output_data\\morpc-acs5-2023-us-B01001.csv\n",
      "morpc.load_data | INFO | --> Resource file: ..\\..\\morpc-censusacs-fetch\\output_data\\morpc-acs5-2023-us-B01001.resource.yaml\n",
      "morpc.load_data | INFO | --> Schema file: ..\\..\\morpc-censusacs-fetch\\output_data\\morpc-acs5-2023-us-B01001.schema.yaml\n",
      "morpc.load_data | INFO | Loading data.\n"
     ]
    }
   ],
   "source": [
    "data, resource, schema = morpc.frictionless.load_data('../../morpc-censusacs-fetch/output_data/morpc-acs5-2023-us-B01001.resource.yaml', verbose=False)"
   ]
  },
  {
   "cell_type": "code",
   "execution_count": 7,
   "id": "980d2155-d06e-4283-81d1-e5a1531c0f08",
   "metadata": {
    "editable": true,
    "slideshow": {
     "slide_type": ""
    },
    "tags": []
   },
   "outputs": [
    {
     "data": {
      "text/html": [
       "<div>\n",
       "<style scoped>\n",
       "    .dataframe tbody tr th:only-of-type {\n",
       "        vertical-align: middle;\n",
       "    }\n",
       "\n",
       "    .dataframe tbody tr th {\n",
       "        vertical-align: top;\n",
       "    }\n",
       "\n",
       "    .dataframe thead th {\n",
       "        text-align: right;\n",
       "    }\n",
       "</style>\n",
       "<table border=\"1\" class=\"dataframe\">\n",
       "  <thead>\n",
       "    <tr style=\"text-align: right;\">\n",
       "      <th></th>\n",
       "      <th>GEO_ID</th>\n",
       "      <th>SUMLEVEL</th>\n",
       "      <th>NAME</th>\n",
       "      <th>B01001_001E</th>\n",
       "      <th>B01001_001M</th>\n",
       "      <th>B01001_002E</th>\n",
       "      <th>B01001_002M</th>\n",
       "      <th>B01001_003E</th>\n",
       "      <th>B01001_003M</th>\n",
       "      <th>B01001_004E</th>\n",
       "      <th>...</th>\n",
       "      <th>B01001_045E</th>\n",
       "      <th>B01001_045M</th>\n",
       "      <th>B01001_046E</th>\n",
       "      <th>B01001_046M</th>\n",
       "      <th>B01001_047E</th>\n",
       "      <th>B01001_047M</th>\n",
       "      <th>B01001_048E</th>\n",
       "      <th>B01001_048M</th>\n",
       "      <th>B01001_049E</th>\n",
       "      <th>B01001_049M</th>\n",
       "    </tr>\n",
       "  </thead>\n",
       "  <tbody>\n",
       "    <tr>\n",
       "      <th>0</th>\n",
       "      <td>0100000US</td>\n",
       "      <td>010</td>\n",
       "      <td>United States</td>\n",
       "      <td>332387540</td>\n",
       "      <td>-555555555</td>\n",
       "      <td>164545087</td>\n",
       "      <td>6966</td>\n",
       "      <td>9688436</td>\n",
       "      <td>4185</td>\n",
       "      <td>10296243</td>\n",
       "      <td>...</td>\n",
       "      <td>5576237</td>\n",
       "      <td>15826</td>\n",
       "      <td>7978348</td>\n",
       "      <td>17513</td>\n",
       "      <td>5461052</td>\n",
       "      <td>16334</td>\n",
       "      <td>3631914</td>\n",
       "      <td>12460</td>\n",
       "      <td>4050652</td>\n",
       "      <td>15097</td>\n",
       "    </tr>\n",
       "  </tbody>\n",
       "</table>\n",
       "<p>1 rows × 101 columns</p>\n",
       "</div>"
      ],
      "text/plain": [
       "      GEO_ID SUMLEVEL           NAME  B01001_001E  B01001_001M  B01001_002E  \\\n",
       "0  0100000US      010  United States    332387540   -555555555    164545087   \n",
       "\n",
       "   B01001_002M  B01001_003E  B01001_003M  B01001_004E  ...  B01001_045E  \\\n",
       "0         6966      9688436         4185     10296243  ...      5576237   \n",
       "\n",
       "   B01001_045M  B01001_046E  B01001_046M  B01001_047E  B01001_047M  \\\n",
       "0        15826      7978348        17513      5461052        16334   \n",
       "\n",
       "   B01001_048E  B01001_048M  B01001_049E  B01001_049M  \n",
       "0      3631914        12460      4050652        15097  \n",
       "\n",
       "[1 rows x 101 columns]"
      ]
     },
     "execution_count": 7,
     "metadata": {},
     "output_type": "execute_result"
    }
   ],
   "source": [
    "data"
   ]
  },
  {
   "cell_type": "markdown",
   "id": "0fe8041e-fe36-4151-92d3-08e0c1a8e4ae",
   "metadata": {
    "editable": true,
    "slideshow": {
     "slide_type": ""
    },
    "tags": []
   },
   "source": [
    "#### Using ACS_ID_FIELDS to get the fields ids"
   ]
  },
  {
   "cell_type": "code",
   "execution_count": 9,
   "id": "36f9e913-af78-41ea-894b-39c442b806f1",
   "metadata": {
    "editable": true,
    "slideshow": {
     "slide_type": ""
    },
    "tags": []
   },
   "outputs": [],
   "source": [
    "idFields = [field[\"name\"] for field in morpc.census.ACS_ID_FIELDS['us']]"
   ]
  },
  {
   "cell_type": "code",
   "execution_count": 10,
   "id": "f82a9578-0a3a-4398-b0fd-b15bb9dbe9f6",
   "metadata": {
    "editable": true,
    "slideshow": {
     "slide_type": ""
    },
    "tags": []
   },
   "outputs": [
    {
     "data": {
      "text/html": [
       "<div>\n",
       "<style scoped>\n",
       "    .dataframe tbody tr th:only-of-type {\n",
       "        vertical-align: middle;\n",
       "    }\n",
       "\n",
       "    .dataframe tbody tr th {\n",
       "        vertical-align: top;\n",
       "    }\n",
       "\n",
       "    .dataframe thead th {\n",
       "        text-align: right;\n",
       "    }\n",
       "</style>\n",
       "<table border=\"1\" class=\"dataframe\">\n",
       "  <thead>\n",
       "    <tr style=\"text-align: right;\">\n",
       "      <th></th>\n",
       "      <th>Universe</th>\n",
       "      <th>Universe MOE</th>\n",
       "    </tr>\n",
       "    <tr>\n",
       "      <th>GEOID</th>\n",
       "      <th></th>\n",
       "      <th></th>\n",
       "    </tr>\n",
       "  </thead>\n",
       "  <tbody>\n",
       "    <tr>\n",
       "      <th></th>\n",
       "      <td>332387540</td>\n",
       "      <td>-555555555</td>\n",
       "    </tr>\n",
       "  </tbody>\n",
       "</table>\n",
       "</div>"
      ],
      "text/plain": [
       "        Universe  Universe MOE\n",
       "GEOID                         \n",
       "       332387540    -555555555"
      ]
     },
     "execution_count": 10,
     "metadata": {},
     "output_type": "execute_result"
    }
   ],
   "source": [
    "morpc.census.acs_generate_universe_table(data.set_index(\"GEO_ID\"), \"B01001_001\")"
   ]
  },
  {
   "cell_type": "markdown",
   "id": "6a74b3d1-2458-4b02-944c-a9ab17257b7c",
   "metadata": {
    "editable": true,
    "slideshow": {
     "slide_type": ""
    },
    "tags": []
   },
   "source": [
    "#### Create a dimension table with the data and the dimension names"
   ]
  },
  {
   "cell_type": "code",
   "execution_count": 11,
   "id": "0522e9a1-7a52-4e72-a0d0-f5ccf1571bcb",
   "metadata": {
    "editable": true,
    "slideshow": {
     "slide_type": ""
    },
    "tags": []
   },
   "outputs": [],
   "source": [
    "dim_table = morpc.census.acs_generate_dimension_table(data.set_index(\"GEO_ID\"), schema, idFields=idFields, dimensionNames=[\"Sex\", \"Age group\"])"
   ]
  },
  {
   "cell_type": "code",
   "execution_count": 12,
   "id": "2703597a-da40-4636-8d24-31832903b911",
   "metadata": {
    "editable": true,
    "slideshow": {
     "slide_type": ""
    },
    "tags": []
   },
   "outputs": [
    {
     "data": {
      "text/html": [
       "<div>\n",
       "<style scoped>\n",
       "    .dataframe tbody tr th:only-of-type {\n",
       "        vertical-align: middle;\n",
       "    }\n",
       "\n",
       "    .dataframe tbody tr th {\n",
       "        vertical-align: top;\n",
       "    }\n",
       "\n",
       "    .dataframe thead th {\n",
       "        text-align: right;\n",
       "    }\n",
       "</style>\n",
       "<table border=\"1\" class=\"dataframe\">\n",
       "  <thead>\n",
       "    <tr style=\"text-align: right;\">\n",
       "      <th></th>\n",
       "      <th>GEOID</th>\n",
       "      <th>Variable</th>\n",
       "      <th>Value</th>\n",
       "      <th>Sex</th>\n",
       "      <th>Age group</th>\n",
       "      <th>Variable type</th>\n",
       "    </tr>\n",
       "  </thead>\n",
       "  <tbody>\n",
       "    <tr>\n",
       "      <th>0</th>\n",
       "      <td></td>\n",
       "      <td>B01001_001E</td>\n",
       "      <td>332387540</td>\n",
       "      <td>NaN</td>\n",
       "      <td>NaN</td>\n",
       "      <td>Estimate</td>\n",
       "    </tr>\n",
       "    <tr>\n",
       "      <th>2</th>\n",
       "      <td></td>\n",
       "      <td>B01001_002E</td>\n",
       "      <td>164545087</td>\n",
       "      <td>Male</td>\n",
       "      <td>NaN</td>\n",
       "      <td>Estimate</td>\n",
       "    </tr>\n",
       "    <tr>\n",
       "      <th>4</th>\n",
       "      <td></td>\n",
       "      <td>B01001_003E</td>\n",
       "      <td>9688436</td>\n",
       "      <td>Male</td>\n",
       "      <td>Under 5 years</td>\n",
       "      <td>Estimate</td>\n",
       "    </tr>\n",
       "    <tr>\n",
       "      <th>6</th>\n",
       "      <td></td>\n",
       "      <td>B01001_004E</td>\n",
       "      <td>10296243</td>\n",
       "      <td>Male</td>\n",
       "      <td>5 to 9 years</td>\n",
       "      <td>Estimate</td>\n",
       "    </tr>\n",
       "    <tr>\n",
       "      <th>8</th>\n",
       "      <td></td>\n",
       "      <td>B01001_005E</td>\n",
       "      <td>11032019</td>\n",
       "      <td>Male</td>\n",
       "      <td>10 to 14 years</td>\n",
       "      <td>Estimate</td>\n",
       "    </tr>\n",
       "  </tbody>\n",
       "</table>\n",
       "</div>"
      ],
      "text/plain": [
       "  GEOID     Variable      Value   Sex       Age group Variable type\n",
       "0        B01001_001E  332387540   NaN             NaN      Estimate\n",
       "2        B01001_002E  164545087  Male             NaN      Estimate\n",
       "4        B01001_003E    9688436  Male   Under 5 years      Estimate\n",
       "6        B01001_004E   10296243  Male    5 to 9 years      Estimate\n",
       "8        B01001_005E   11032019  Male  10 to 14 years      Estimate"
      ]
     },
     "execution_count": 12,
     "metadata": {},
     "output_type": "execute_result"
    }
   ],
   "source": [
    "dim_table.loc[dim_table['Variable type'] == 'Estimate'].head()"
   ]
  }
 ],
 "metadata": {
  "kernelspec": {
   "display_name": "Python 3 (ipykernel)",
   "language": "python",
   "name": "python3"
  },
  "language_info": {
   "codemirror_mode": {
    "name": "ipython",
    "version": 3
   },
   "file_extension": ".py",
   "mimetype": "text/x-python",
   "name": "python",
   "nbconvert_exporter": "python",
   "pygments_lexer": "ipython3",
   "version": "3.12.10"
  }
 },
 "nbformat": 4,
 "nbformat_minor": 5
}
