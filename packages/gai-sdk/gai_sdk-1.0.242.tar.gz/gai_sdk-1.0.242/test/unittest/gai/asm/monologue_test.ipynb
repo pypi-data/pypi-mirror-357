{
 "cells": [
  {
   "cell_type": "markdown",
   "id": "366eb7bc",
   "metadata": {},
   "source": [
    "### a) Normal Monologue"
   ]
  },
  {
   "cell_type": "code",
   "execution_count": 1,
   "id": "c34d1fd7",
   "metadata": {},
   "outputs": [
    {
     "name": "stdout",
     "output_type": "stream",
     "text": [
      "✓ Initial state correct\n",
      "✓ User message added correctly\n",
      "✓ Assistant message added correctly\n"
     ]
    }
   ],
   "source": [
    "from gai.asm.monologue import Monologue\n",
    "\n",
    "# Create monologue\n",
    "mono = Monologue(agent_name=\"TestBot\", dialogue_id=\"test-123\")\n",
    "\n",
    "# Test initial state\n",
    "assert mono.agent_name == \"TestBot\"\n",
    "assert mono.dialogue_id == \"test-123\"\n",
    "assert len(mono.list_messages()) == 0\n",
    "print(\"✓ Initial state correct\")\n",
    "\n",
    "# Add user message\n",
    "from types import SimpleNamespace\n",
    "mock_input = {\n",
    "    \"step\":1\n",
    "}\n",
    "mock_state = SimpleNamespace(state=\"GENERATE\",input=mock_input,title=\"GENERATE\")\n",
    "mono.add_user_message(\"Hello, how are you?\",mock_state)\n",
    "messages = mono.list_messages()\n",
    "assert len(messages) == 1\n",
    "assert messages[0].body.role == \"user\"\n",
    "assert messages[0].body.content == \"Hello, how are you?\"\n",
    "print(\"✓ User message added correctly\")\n",
    "\n",
    "# Add assistant message\n",
    "mock_input = {\"step\": 2}\n",
    "mock_state = SimpleNamespace(state=\"GENERATE\",input=mock_input,title=\"GENERATE\")\n",
    "mono.add_assistant_message(\"I'm doing well, thank you!\",mock_state)\n",
    "messages = mono.list_messages()\n",
    "assert len(messages) == 2\n",
    "assert messages[1].body.role == \"assistant\"\n",
    "assert messages[1].body.content == \"I'm doing well, thank you!\"\n",
    "print(\"✓ Assistant message added correctly\")"
   ]
  },
  {
   "cell_type": "markdown",
   "id": "adaa8cb4",
   "metadata": {},
   "source": [
    "### b) File Monologue"
   ]
  },
  {
   "cell_type": "code",
   "execution_count": 2,
   "id": "47da56d5",
   "metadata": {},
   "outputs": [
    {
     "name": "stdout",
     "output_type": "stream",
     "text": [
      "✓ Initial state correct\n",
      "✓ User message added correctly\n",
      "✓ Assistant message added correctly\n",
      "[\n",
      "    {\n",
      "        \"id\": \"100132ee-b6e8-4aaa-b820-df7d33dd047c\",\n",
      "        \"header\": {\n",
      "            \"sender\": \"User\",\n",
      "            \"recipient\": \"TestBot\",\n",
      "            \"timestamp\": 1749872794.3693068,\n",
      "            \"order\": 0\n",
      "        },\n",
      "        \"body\": {\n",
      "            \"type\": \"state\",\n",
      "            \"state_name\": \"GENERATE\",\n",
      "            \"step_no\": 1,\n",
      "            \"content_type\": \"text\",\n",
      "            \"role\": \"user\",\n",
      "            \"content\": \"Hello, how are you?\"\n",
      "        }\n",
      "    },\n",
      "    {\n",
      "        \"id\": \"80ee6f36-e578-43d3-b7f7-203f3dc33b81\",\n",
      "        \"header\": {\n",
      "            \"sender\": \"TestBot\",\n",
      "            \"recipient\": \"User\",\n",
      "            \"timestamp\": 1749872794.3708863,\n",
      "            \"order\": 0\n",
      "        },\n",
      "        \"body\": {\n",
      "            \"type\": \"state\",\n",
      "            \"state_name\": \"GENERATE\",\n",
      "            \"step_no\": 2,\n",
      "            \"content_type\": \"text\",\n",
      "            \"role\": \"assistant\",\n",
      "            \"content\": \"I'm doing well, thank you!\"\n",
      "        }\n",
      "    }\n",
      "]\n"
     ]
    }
   ],
   "source": [
    "from gai.asm.monologue import FileMonologue\n",
    "\n",
    "# Create monologue\n",
    "mono = FileMonologue(agent_name=\"TestBot\", dialogue_id=\"test-123\")\n",
    "mono.reset()\n",
    "\n",
    "# Test initial state\n",
    "assert mono.agent_name == \"TestBot\"\n",
    "assert mono.dialogue_id == \"test-123\"\n",
    "assert len(mono.list_messages()) == 0\n",
    "print(\"✓ Initial state correct\")\n",
    "\n",
    "# Add user message\n",
    "from types import SimpleNamespace\n",
    "mock_input = {\"step\": 1}\n",
    "mock_state = SimpleNamespace(state=\"GENERATE\", input=mock_input, title=\"GENERATE\")\n",
    "mono.add_user_message(\"Hello, how are you?\", mock_state)\n",
    "messages = mono.list_messages()\n",
    "assert len(messages) == 1\n",
    "assert messages[0].body.role == \"user\"\n",
    "assert messages[0].body.content == \"Hello, how are you?\"\n",
    "print(\"✓ User message added correctly\")\n",
    "\n",
    "# Add assistant message\n",
    "mock_input = {\"step\": 2}\n",
    "mock_state = SimpleNamespace(state=\"GENERATE\", input=mock_input, title=\"GENERATE\")\n",
    "mono.add_assistant_message(\"I'm doing well, thank you!\", mock_state)\n",
    "messages = mono.list_messages()\n",
    "assert len(messages) == 2\n",
    "assert messages[1].body.role == \"assistant\"\n",
    "assert messages[1].body.content == \"I'm doing well, thank you!\"\n",
    "print(\"✓ Assistant message added correctly\")\n",
    "\n",
    "# Check saved\n",
    "file_path=f\"/tmp/TestBot.json\"\n",
    "with open(file_path,\"r\") as f:\n",
    "    s=f.read()\n",
    "    print(s)"
   ]
  },
  {
   "cell_type": "code",
   "execution_count": 2,
   "id": "b37dfe1c",
   "metadata": {},
   "outputs": [
    {
     "name": "stdout",
     "output_type": "stream",
     "text": [
      "[MessagePydantic(id='4323e687-3349-42af-8774-13a2b593401a', header=MessageHeaderPydantic(sender='User', recipient='TestBot', timestamp=1749868033.010978, order=0), body=StateBodyPydantic(type='state', state_name='GENERATE', step_no=1, content_type='text', role='user', content='Hello, how are you?')), MessagePydantic(id='d241930a-8212-4c4d-be70-c4b464be0b8c', header=MessageHeaderPydantic(sender='TestBot', recipient='User', timestamp=1749868033.0118256, order=0), body=StateBodyPydantic(type='state', state_name='GENERATE', step_no=2, content_type='text', role='assistant', content=\"I'm doing well, thank you!\"))]\n",
      "[{'role': 'user', 'content': 'Hello, how are you?'}, {'role': 'assistant', 'content': \"I'm doing well, thank you!\"}]\n"
     ]
    }
   ],
   "source": [
    "from gai.asm.monologue import FileMonologue\n",
    "\n",
    "# Create monologue\n",
    "mono = FileMonologue(agent_name=\"TestBot\", dialogue_id=\"test-123\")\n",
    "\n",
    "print(mono.list_messages())\n",
    "\n",
    "print(mono.list_chat_messages())"
   ]
  }
 ],
 "metadata": {
  "kernelspec": {
   "display_name": ".venv",
   "language": "python",
   "name": "python3"
  },
  "language_info": {
   "codemirror_mode": {
    "name": "ipython",
    "version": 3
   },
   "file_extension": ".py",
   "mimetype": "text/x-python",
   "name": "python",
   "nbconvert_exporter": "python",
   "pygments_lexer": "ipython3",
   "version": "3.10.18"
  }
 },
 "nbformat": 4,
 "nbformat_minor": 5
}
