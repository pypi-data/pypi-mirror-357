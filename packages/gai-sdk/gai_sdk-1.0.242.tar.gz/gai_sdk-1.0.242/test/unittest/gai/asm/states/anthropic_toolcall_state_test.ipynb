{
 "cells": [
  {
   "cell_type": "markdown",
   "id": "6fa8def3",
   "metadata": {},
   "source": [
    "# AnthropicToolCallState\n",
    "\n",
    "## Example: Create TOOL_CALL state using AnthropicToolUseState\n",
    "\n",
    "```lua\n",
    "stateDiagram-v2\n",
    "    INIT --> TOOL_CALL\n",
    "    TOOL_CALL --> FINAL\n",
    "```\n",
    "\n",
    "```mermaid\n",
    "stateDiagram-v2\n",
    "    Direction LR\n",
    "    INIT --> TOOL_CALL\n",
    "    TOOL_CALL --> FINAL\n",
    "```\n"
   ]
  },
  {
   "cell_type": "code",
   "execution_count": 1,
   "id": "851e007b",
   "metadata": {},
   "outputs": [
    {
     "name": "stdout",
     "output_type": "stream",
     "text": [
      "I'll get the current time for you.\n",
      "\n",
      "\n",
      "1750070576.4111097 User > What time is it now?\n",
      "1750070579.2760587 Assistant > [{'citations': None, 'text': \"I'll get the current time for you.\", 'type': 'text'}, {'id': 'toolu_01BKbWGchMW25RMXDkqasYK8', 'input': {'format': 'YYYY-MM-DD HH:mm:ss'}, 'name': 'current_time', 'type': 'tool_use'}]\n"
     ]
    }
   ],
   "source": [
    "from gai.asm import AsyncStateMachine\n",
    "from gai.mcp.client import McpAggregatedClient\n",
    "\n",
    "with AsyncStateMachine.StateMachineBuilder(\n",
    "    \"\"\"\n",
    "    INIT --> TOOL_CALL\n",
    "    TOOL_CALL--> FINAL\n",
    "    \"\"\"\n",
    ") as builder:\n",
    "    fsm = builder.build(\n",
    "        {\n",
    "            \"INIT\": {\n",
    "                \"input_data\": {\n",
    "                    \"user_message\": \"What time is it now?\",\n",
    "                    \"llm_config\": {\"type\": \"getter\", \"dependency\": \"get_llm_config\"},\n",
    "                    \"mcp_client\": {\"type\": \"getter\", \"dependency\": \"get_mcp_client\"},\n",
    "                }\n",
    "            },\n",
    "            \"TOOL_CALL\": {\n",
    "                \"module_path\": \"gai.asm.states\",\n",
    "                \"class_name\": \"AnthropicToolCallState\",\n",
    "                \"title\": \"TOOL_CALL\",\n",
    "                \"input_data\": {\n",
    "                    \"user_message\": {\"type\": \"state_bag\", \"dependency\": \"user_message\"},\n",
    "                    \"llm_config\": {\"type\": \"state_bag\", \"dependency\": \"llm_config\"},\n",
    "                    \"mcp_client\": {\"type\": \"state_bag\",\"dependency\": \"mcp_client\"},\n",
    "                },\n",
    "                \"output_data\": [\"streamer\", \"get_assistant_message\"],\n",
    "            },\n",
    "            \"FINAL\": {\n",
    "                \"output_data\": [\"monologue\"],\n",
    "            },\n",
    "        },\n",
    "        get_llm_config=lambda state: {\n",
    "            \"client_type\": \"anthropic\",\n",
    "            #\"model\": \"claude-opus-4-20250514\",\n",
    "            \"model\": \"claude-sonnet-4-20250514\",\n",
    "            \"max_tokens\": 32000,\n",
    "            \"temperature\": 0.7,\n",
    "            \"top_p\": 0.95,\n",
    "            \"tools\": True,\n",
    "        },\n",
    "        get_mcp_client=lambda state: McpAggregatedClient([\"mcp-time\"])\n",
    "    )\n",
    "\n",
    "## Step 2: INIT --> TOOL_CALL\n",
    "\n",
    "await fsm.run_async()\n",
    "async for chunk in fsm.state_bag[\"streamer\"]:\n",
    "    if (isinstance(chunk,str)):\n",
    "        print(chunk, end='', flush=True)\n",
    "print(\"\\n\\n\")\n",
    "\n",
    "## Step 4: Print the state history\n",
    "for message in fsm.state_history[1][\"output\"][\"monologue\"].list_messages():\n",
    "    print(\n",
    "        f\"{message.header.timestamp} {message.header.sender} > {message.body.content}\"\n",
    "    )"
   ]
  }
 ],
 "metadata": {
  "kernelspec": {
   "display_name": ".venv",
   "language": "python",
   "name": "python3"
  },
  "language_info": {
   "codemirror_mode": {
    "name": "ipython",
    "version": 3
   },
   "file_extension": ".py",
   "mimetype": "text/x-python",
   "name": "python",
   "nbconvert_exporter": "python",
   "pygments_lexer": "ipython3",
   "version": "3.10.18"
  }
 },
 "nbformat": 4,
 "nbformat_minor": 5
}
