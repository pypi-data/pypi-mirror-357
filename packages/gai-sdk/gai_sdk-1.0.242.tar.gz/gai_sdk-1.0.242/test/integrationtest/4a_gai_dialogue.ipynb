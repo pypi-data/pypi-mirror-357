{
 "cells": [
  {
   "cell_type": "markdown",
   "metadata": {},
   "source": [
    "## Gai Dialogue System\n",
    "\n",
    "This system is responsible for managing and storing the dialogue messages between the user and the agents. It also handles the context and history of the conversation. It has a dependency on `Gai Messages System`.\n"
   ]
  },
  {
   "cell_type": "markdown",
   "metadata": {},
   "source": [
    "---\n",
    "\n",
    "## 1. Dialogue Bus\n",
    "\n",
    "### a) Setup"
   ]
  },
  {
   "cell_type": "code",
   "execution_count": null,
   "metadata": {},
   "outputs": [
    {
     "name": "stderr",
     "output_type": "stream",
     "text": [
      "/workspaces/gai-sdk/src/gai/dialogue/nodes/user_node.py:46: RuntimeWarning: coroutine 'handle_reply_cb' was never awaited\n",
      "  self.handle_reply_cb(message)\n",
      "RuntimeWarning: Enable tracemalloc to get the object allocation traceback\n"
     ]
    }
   ],
   "source": [
    "from gai.dialogue import DialogueBus\n",
    "from gai.dialogue.nodes import AgentNode, UserNode\n",
    "from rich import print as rprint\n",
    "\n",
    "class MockAgentNode(AgentNode):\n",
    "    \n",
    "    def __init__(self, name: str, dialogue: DialogueBus):\n",
    "        super().__init__(name=name, dialogue=dialogue, handle_send_cb=self.handle_send_cb)\n",
    "        \n",
    "    def handle_send_cb(self, message):\n",
    "        \n",
    "        # Simulate a response from the agent\n",
    "        \n",
    "        if self.name == \"Sara\":\n",
    "            message = \"This is a story about a brave knight who fought a dragon.\".split()\n",
    "            for word in message:\n",
    "                yield word+\" \"\n",
    "        if self.name == \"Diana\":\n",
    "            message = \"The knight was very brave and fought valiantly.\".split()\n",
    "            for word in message:\n",
    "                yield word+\" \"\n",
    "\n",
    "# 1. Initiate a dialogue session\n",
    "\n",
    "dialogue = DialogueBus()\n",
    "await dialogue.start()\n",
    "\n",
    "# 2. Add 1 User and 2 Agents to the Dialogue\n",
    "    \n",
    "sara = MockAgentNode(name=\"Sara\", dialogue=dialogue)\n",
    "diana = MockAgentNode(name=\"Diana\", dialogue=dialogue)\n",
    "\n",
    "async def handle_reply_cb(message):\n",
    "    rprint(f\"[bold green]{message.header.sender} replied:[/bold green] {message.body.content}\")\n",
    "\n",
    "user = UserNode(dialogue=dialogue, handle_reply_cb=handle_reply_cb)\n"
   ]
  },
  {
   "cell_type": "markdown",
   "metadata": {},
   "source": [
    "### b) Send and Reply"
   ]
  },
  {
   "cell_type": "code",
   "execution_count": 2,
   "metadata": {},
   "outputs": [
    {
     "data": {
      "text/html": [
       "<pre style=\"white-space:pre;overflow-x:auto;line-height:normal;font-family:Menlo,'DejaVu Sans Mono',consolas,'Courier New',monospace\"><span style=\"font-weight: bold\">[</span>User<span style=\"font-weight: bold\">]</span> <span style=\"color: #ffff00; text-decoration-color: #ffff00; font-weight: bold\"> Sent message to Sara </span>\n",
       "</pre>\n"
      ],
      "text/plain": [
       "\u001b[1m[\u001b[0mUser\u001b[1m]\u001b[0m \u001b[1;93m Sent message to Sara \u001b[0m\n"
      ]
     },
     "metadata": {},
     "output_type": "display_data"
    },
    {
     "data": {
      "text/html": [
       "<pre style=\"white-space:pre;overflow-x:auto;line-height:normal;font-family:Menlo,'DejaVu Sans Mono',consolas,'Courier New',monospace\"><span style=\"font-weight: bold\">[</span>User<span style=\"font-weight: bold\">]</span> <span style=\"color: #ffff00; text-decoration-color: #ffff00; font-weight: bold\"> Sent message to Diana </span>\n",
       "</pre>\n"
      ],
      "text/plain": [
       "\u001b[1m[\u001b[0mUser\u001b[1m]\u001b[0m \u001b[1;93m Sent message to Diana \u001b[0m\n"
      ]
     },
     "metadata": {},
     "output_type": "display_data"
    },
    {
     "data": {
      "text/html": [
       "<pre style=\"white-space:pre;overflow-x:auto;line-height:normal;font-family:Menlo,'DejaVu Sans Mono',consolas,'Courier New',monospace\"><span style=\"font-weight: bold\">[</span>Sara<span style=\"font-weight: bold\">]</span> <span style=\"color: #008000; text-decoration-color: #008000\">Handle send message. </span><span style=\"color: #008000; text-decoration-color: #008000\">message</span><span style=\"color: #008000; text-decoration-color: #008000\">=</span><span style=\"color: #008000; text-decoration-color: #008000\">id</span><span style=\"color: #008000; text-decoration-color: #008000\">=</span><span style=\"color: #008000; text-decoration-color: #008000\">'3335df7a-64a5-4eb9-a999-348411e0615d'</span><span style=\"color: #008000; text-decoration-color: #008000\"> </span>\n",
       "<span style=\"color: #008000; text-decoration-color: #008000\">header</span><span style=\"color: #008000; text-decoration-color: #008000\">=</span><span style=\"color: #008000; text-decoration-color: #008000; font-weight: bold\">MessageHeaderPydantic</span><span style=\"color: #008000; text-decoration-color: #008000; font-weight: bold\">(</span><span style=\"color: #008000; text-decoration-color: #008000\">sender</span><span style=\"color: #008000; text-decoration-color: #008000\">=</span><span style=\"color: #008000; text-decoration-color: #008000\">'User'</span><span style=\"color: #008000; text-decoration-color: #008000\">, </span><span style=\"color: #008000; text-decoration-color: #008000\">recipient</span><span style=\"color: #008000; text-decoration-color: #008000\">=</span><span style=\"color: #008000; text-decoration-color: #008000\">'Sara'</span><span style=\"color: #008000; text-decoration-color: #008000\">, </span><span style=\"color: #008000; text-decoration-color: #008000\">timestamp</span><span style=\"color: #008000; text-decoration-color: #008000\">=</span><span style=\"color: #008000; text-decoration-color: #008000; font-weight: bold\">1749748694.139189</span><span style=\"color: #008000; text-decoration-color: #008000\">, </span><span style=\"color: #008000; text-decoration-color: #008000\">order</span><span style=\"color: #008000; text-decoration-color: #008000\">=</span><span style=\"color: #008000; text-decoration-color: #008000; font-weight: bold\">0</span><span style=\"color: #008000; text-decoration-color: #008000; font-weight: bold\">)</span><span style=\"color: #008000; text-decoration-color: #008000\"> </span>\n",
       "<span style=\"color: #008000; text-decoration-color: #008000\">body</span><span style=\"color: #008000; text-decoration-color: #008000\">=</span><span style=\"color: #008000; text-decoration-color: #008000; font-weight: bold\">SendBodyPydantic</span><span style=\"color: #008000; text-decoration-color: #008000; font-weight: bold\">(</span><span style=\"color: #008000; text-decoration-color: #008000\">type</span><span style=\"color: #008000; text-decoration-color: #008000\">=</span><span style=\"color: #008000; text-decoration-color: #008000\">'send'</span><span style=\"color: #008000; text-decoration-color: #008000\">, </span><span style=\"color: #008000; text-decoration-color: #008000\">dialogue_id</span><span style=\"color: #008000; text-decoration-color: #008000\">=</span><span style=\"color: #008000; text-decoration-color: #008000\">'00000000-0000-0000-0000-000000000000'</span><span style=\"color: #008000; text-decoration-color: #008000\">, </span><span style=\"color: #008000; text-decoration-color: #008000\">message_no</span><span style=\"color: #008000; text-decoration-color: #008000\">=</span><span style=\"color: #008000; text-decoration-color: #008000; font-weight: bold\">1</span><span style=\"color: #008000; text-decoration-color: #008000\">, </span>\n",
       "<span style=\"color: #008000; text-decoration-color: #008000\">message_id</span><span style=\"color: #008000; text-decoration-color: #008000\">=</span><span style=\"color: #008000; text-decoration-color: #008000\">'00000000-0000-0000-0000-000000000000.1'</span><span style=\"color: #008000; text-decoration-color: #008000\">, </span><span style=\"color: #008000; text-decoration-color: #008000\">content_type</span><span style=\"color: #008000; text-decoration-color: #008000\">=</span><span style=\"color: #008000; text-decoration-color: #008000\">'text'</span><span style=\"color: #008000; text-decoration-color: #008000\">, </span><span style=\"color: #008000; text-decoration-color: #008000\">content</span><span style=\"color: #008000; text-decoration-color: #008000\">=</span><span style=\"color: #008000; text-decoration-color: #008000\">'Tell me a one paragraph story'</span><span style=\"color: #008000; text-decoration-color: #008000; font-weight: bold\">)</span>\n",
       "</pre>\n"
      ],
      "text/plain": [
       "\u001b[1m[\u001b[0mSara\u001b[1m]\u001b[0m \u001b[32mHandle send message. \u001b[0m\u001b[32mmessage\u001b[0m\u001b[32m=\u001b[0m\u001b[32mid\u001b[0m\u001b[32m=\u001b[0m\u001b[32m'3335df7a-64a5-4eb9-a999-348411e0615d'\u001b[0m\u001b[32m \u001b[0m\n",
       "\u001b[32mheader\u001b[0m\u001b[32m=\u001b[0m\u001b[1;32mMessageHeaderPydantic\u001b[0m\u001b[1;32m(\u001b[0m\u001b[32msender\u001b[0m\u001b[32m=\u001b[0m\u001b[32m'User'\u001b[0m\u001b[32m, \u001b[0m\u001b[32mrecipient\u001b[0m\u001b[32m=\u001b[0m\u001b[32m'Sara'\u001b[0m\u001b[32m, \u001b[0m\u001b[32mtimestamp\u001b[0m\u001b[32m=\u001b[0m\u001b[1;32m1749748694\u001b[0m\u001b[1;32m.139189\u001b[0m\u001b[32m, \u001b[0m\u001b[32morder\u001b[0m\u001b[32m=\u001b[0m\u001b[1;32m0\u001b[0m\u001b[1;32m)\u001b[0m\u001b[32m \u001b[0m\n",
       "\u001b[32mbody\u001b[0m\u001b[32m=\u001b[0m\u001b[1;32mSendBodyPydantic\u001b[0m\u001b[1;32m(\u001b[0m\u001b[32mtype\u001b[0m\u001b[32m=\u001b[0m\u001b[32m'send'\u001b[0m\u001b[32m, \u001b[0m\u001b[32mdialogue_id\u001b[0m\u001b[32m=\u001b[0m\u001b[32m'00000000-0000-0000-0000-000000000000'\u001b[0m\u001b[32m, \u001b[0m\u001b[32mmessage_no\u001b[0m\u001b[32m=\u001b[0m\u001b[1;32m1\u001b[0m\u001b[32m, \u001b[0m\n",
       "\u001b[32mmessage_id\u001b[0m\u001b[32m=\u001b[0m\u001b[32m'00000000-0000-0000-0000-000000000000.1'\u001b[0m\u001b[32m, \u001b[0m\u001b[32mcontent_type\u001b[0m\u001b[32m=\u001b[0m\u001b[32m'text'\u001b[0m\u001b[32m, \u001b[0m\u001b[32mcontent\u001b[0m\u001b[32m=\u001b[0m\u001b[32m'Tell me a one paragraph story'\u001b[0m\u001b[1;32m)\u001b[0m\n"
      ]
     },
     "metadata": {},
     "output_type": "display_data"
    },
    {
     "data": {
      "text/html": [
       "<pre style=\"white-space:pre;overflow-x:auto;line-height:normal;font-family:Menlo,'DejaVu Sans Mono',consolas,'Courier New',monospace\"><span style=\"font-weight: bold\">[</span>Diana<span style=\"font-weight: bold\">]</span> <span style=\"color: #000000; text-decoration-color: #000000\">Message not for me, ignore. </span><span style=\"color: #000000; text-decoration-color: #000000\">message</span><span style=\"color: #000000; text-decoration-color: #000000\">=</span><span style=\"color: #000000; text-decoration-color: #000000\">id</span><span style=\"color: #000000; text-decoration-color: #000000\">=</span><span style=\"color: #000000; text-decoration-color: #000000\">'3335df7a-64a5-4eb9-a999-348411e0615d'</span><span style=\"color: #000000; text-decoration-color: #000000\"> </span>\n",
       "<span style=\"color: #000000; text-decoration-color: #000000\">header</span><span style=\"color: #000000; text-decoration-color: #000000\">=</span><span style=\"color: #000000; text-decoration-color: #000000; font-weight: bold\">MessageHeaderPydantic</span><span style=\"color: #000000; text-decoration-color: #000000; font-weight: bold\">(</span><span style=\"color: #000000; text-decoration-color: #000000\">sender</span><span style=\"color: #000000; text-decoration-color: #000000\">=</span><span style=\"color: #000000; text-decoration-color: #000000\">'User'</span><span style=\"color: #000000; text-decoration-color: #000000\">, </span><span style=\"color: #000000; text-decoration-color: #000000\">recipient</span><span style=\"color: #000000; text-decoration-color: #000000\">=</span><span style=\"color: #000000; text-decoration-color: #000000\">'Sara'</span><span style=\"color: #000000; text-decoration-color: #000000\">, </span><span style=\"color: #000000; text-decoration-color: #000000\">timestamp</span><span style=\"color: #000000; text-decoration-color: #000000\">=</span><span style=\"color: #000000; text-decoration-color: #000000; font-weight: bold\">1749748694.139189</span><span style=\"color: #000000; text-decoration-color: #000000\">, </span><span style=\"color: #000000; text-decoration-color: #000000\">order</span><span style=\"color: #000000; text-decoration-color: #000000\">=</span><span style=\"color: #000000; text-decoration-color: #000000; font-weight: bold\">0</span><span style=\"color: #000000; text-decoration-color: #000000; font-weight: bold\">)</span><span style=\"color: #000000; text-decoration-color: #000000\"> </span>\n",
       "<span style=\"color: #000000; text-decoration-color: #000000\">body</span><span style=\"color: #000000; text-decoration-color: #000000\">=</span><span style=\"color: #000000; text-decoration-color: #000000; font-weight: bold\">SendBodyPydantic</span><span style=\"color: #000000; text-decoration-color: #000000; font-weight: bold\">(</span><span style=\"color: #000000; text-decoration-color: #000000\">type</span><span style=\"color: #000000; text-decoration-color: #000000\">=</span><span style=\"color: #000000; text-decoration-color: #000000\">'send'</span><span style=\"color: #000000; text-decoration-color: #000000\">, </span><span style=\"color: #000000; text-decoration-color: #000000\">dialogue_id</span><span style=\"color: #000000; text-decoration-color: #000000\">=</span><span style=\"color: #000000; text-decoration-color: #000000\">'00000000-0000-0000-0000-000000000000'</span><span style=\"color: #000000; text-decoration-color: #000000\">, </span><span style=\"color: #000000; text-decoration-color: #000000\">message_no</span><span style=\"color: #000000; text-decoration-color: #000000\">=</span><span style=\"color: #000000; text-decoration-color: #000000; font-weight: bold\">1</span><span style=\"color: #000000; text-decoration-color: #000000\">, </span>\n",
       "<span style=\"color: #000000; text-decoration-color: #000000\">message_id</span><span style=\"color: #000000; text-decoration-color: #000000\">=</span><span style=\"color: #000000; text-decoration-color: #000000\">'00000000-0000-0000-0000-000000000000.1'</span><span style=\"color: #000000; text-decoration-color: #000000\">, </span><span style=\"color: #000000; text-decoration-color: #000000\">content_type</span><span style=\"color: #000000; text-decoration-color: #000000\">=</span><span style=\"color: #000000; text-decoration-color: #000000\">'text'</span><span style=\"color: #000000; text-decoration-color: #000000\">, </span><span style=\"color: #000000; text-decoration-color: #000000\">content</span><span style=\"color: #000000; text-decoration-color: #000000\">=</span><span style=\"color: #000000; text-decoration-color: #000000\">'Tell me a one paragraph story'</span><span style=\"color: #000000; text-decoration-color: #000000; font-weight: bold\">)</span>\n",
       "</pre>\n"
      ],
      "text/plain": [
       "\u001b[1m[\u001b[0mDiana\u001b[1m]\u001b[0m \u001b[38;5;16mMessage not for me, ignore. \u001b[0m\u001b[38;5;16mmessage\u001b[0m\u001b[38;5;16m=\u001b[0m\u001b[38;5;16mid\u001b[0m\u001b[38;5;16m=\u001b[0m\u001b[38;5;16m'3335df7a-64a5-4eb9-a999-348411e0615d'\u001b[0m\u001b[38;5;16m \u001b[0m\n",
       "\u001b[38;5;16mheader\u001b[0m\u001b[38;5;16m=\u001b[0m\u001b[1;38;5;16mMessageHeaderPydantic\u001b[0m\u001b[1;38;5;16m(\u001b[0m\u001b[38;5;16msender\u001b[0m\u001b[38;5;16m=\u001b[0m\u001b[38;5;16m'User'\u001b[0m\u001b[38;5;16m, \u001b[0m\u001b[38;5;16mrecipient\u001b[0m\u001b[38;5;16m=\u001b[0m\u001b[38;5;16m'Sara'\u001b[0m\u001b[38;5;16m, \u001b[0m\u001b[38;5;16mtimestamp\u001b[0m\u001b[38;5;16m=\u001b[0m\u001b[1;38;5;16m1749748694\u001b[0m\u001b[1;38;5;16m.139189\u001b[0m\u001b[38;5;16m, \u001b[0m\u001b[38;5;16morder\u001b[0m\u001b[38;5;16m=\u001b[0m\u001b[1;38;5;16m0\u001b[0m\u001b[1;38;5;16m)\u001b[0m\u001b[38;5;16m \u001b[0m\n",
       "\u001b[38;5;16mbody\u001b[0m\u001b[38;5;16m=\u001b[0m\u001b[1;38;5;16mSendBodyPydantic\u001b[0m\u001b[1;38;5;16m(\u001b[0m\u001b[38;5;16mtype\u001b[0m\u001b[38;5;16m=\u001b[0m\u001b[38;5;16m'send'\u001b[0m\u001b[38;5;16m, \u001b[0m\u001b[38;5;16mdialogue_id\u001b[0m\u001b[38;5;16m=\u001b[0m\u001b[38;5;16m'00000000-0000-0000-0000-000000000000'\u001b[0m\u001b[38;5;16m, \u001b[0m\u001b[38;5;16mmessage_no\u001b[0m\u001b[38;5;16m=\u001b[0m\u001b[1;38;5;16m1\u001b[0m\u001b[38;5;16m, \u001b[0m\n",
       "\u001b[38;5;16mmessage_id\u001b[0m\u001b[38;5;16m=\u001b[0m\u001b[38;5;16m'00000000-0000-0000-0000-000000000000.1'\u001b[0m\u001b[38;5;16m, \u001b[0m\u001b[38;5;16mcontent_type\u001b[0m\u001b[38;5;16m=\u001b[0m\u001b[38;5;16m'text'\u001b[0m\u001b[38;5;16m, \u001b[0m\u001b[38;5;16mcontent\u001b[0m\u001b[38;5;16m=\u001b[0m\u001b[38;5;16m'Tell me a one paragraph story'\u001b[0m\u001b[1;38;5;16m)\u001b[0m\n"
      ]
     },
     "metadata": {},
     "output_type": "display_data"
    },
    {
     "data": {
      "text/html": [
       "<pre style=\"white-space:pre;overflow-x:auto;line-height:normal;font-family:Menlo,'DejaVu Sans Mono',consolas,'Courier New',monospace\"><span style=\"font-weight: bold\">[</span>Sara<span style=\"font-weight: bold\">]</span> <span style=\"color: #000000; text-decoration-color: #000000\">Message not for me, ignore. </span><span style=\"color: #000000; text-decoration-color: #000000\">message</span><span style=\"color: #000000; text-decoration-color: #000000\">=</span><span style=\"color: #000000; text-decoration-color: #000000\">id</span><span style=\"color: #000000; text-decoration-color: #000000\">=</span><span style=\"color: #000000; text-decoration-color: #000000\">'43e8ab94-4bcf-47e6-b48b-52864c0f578c'</span><span style=\"color: #000000; text-decoration-color: #000000\"> </span>\n",
       "<span style=\"color: #000000; text-decoration-color: #000000\">header</span><span style=\"color: #000000; text-decoration-color: #000000\">=</span><span style=\"color: #000000; text-decoration-color: #000000; font-weight: bold\">MessageHeaderPydantic</span><span style=\"color: #000000; text-decoration-color: #000000; font-weight: bold\">(</span><span style=\"color: #000000; text-decoration-color: #000000\">sender</span><span style=\"color: #000000; text-decoration-color: #000000\">=</span><span style=\"color: #000000; text-decoration-color: #000000\">'User'</span><span style=\"color: #000000; text-decoration-color: #000000\">, </span><span style=\"color: #000000; text-decoration-color: #000000\">recipient</span><span style=\"color: #000000; text-decoration-color: #000000\">=</span><span style=\"color: #000000; text-decoration-color: #000000\">'Diana'</span><span style=\"color: #000000; text-decoration-color: #000000\">, </span><span style=\"color: #000000; text-decoration-color: #000000\">timestamp</span><span style=\"color: #000000; text-decoration-color: #000000\">=</span><span style=\"color: #000000; text-decoration-color: #000000; font-weight: bold\">1749748694.1496444</span><span style=\"color: #000000; text-decoration-color: #000000\">, </span><span style=\"color: #000000; text-decoration-color: #000000\">order</span><span style=\"color: #000000; text-decoration-color: #000000\">=</span><span style=\"color: #000000; text-decoration-color: #000000; font-weight: bold\">0</span><span style=\"color: #000000; text-decoration-color: #000000; font-weight: bold\">)</span><span style=\"color: #000000; text-decoration-color: #000000\"> </span>\n",
       "<span style=\"color: #000000; text-decoration-color: #000000\">body</span><span style=\"color: #000000; text-decoration-color: #000000\">=</span><span style=\"color: #000000; text-decoration-color: #000000; font-weight: bold\">SendBodyPydantic</span><span style=\"color: #000000; text-decoration-color: #000000; font-weight: bold\">(</span><span style=\"color: #000000; text-decoration-color: #000000\">type</span><span style=\"color: #000000; text-decoration-color: #000000\">=</span><span style=\"color: #000000; text-decoration-color: #000000\">'send'</span><span style=\"color: #000000; text-decoration-color: #000000\">, </span><span style=\"color: #000000; text-decoration-color: #000000\">dialogue_id</span><span style=\"color: #000000; text-decoration-color: #000000\">=</span><span style=\"color: #000000; text-decoration-color: #000000\">'00000000-0000-0000-0000-000000000000'</span><span style=\"color: #000000; text-decoration-color: #000000\">, </span><span style=\"color: #000000; text-decoration-color: #000000\">message_no</span><span style=\"color: #000000; text-decoration-color: #000000\">=</span><span style=\"color: #000000; text-decoration-color: #000000; font-weight: bold\">2</span><span style=\"color: #000000; text-decoration-color: #000000\">, </span>\n",
       "<span style=\"color: #000000; text-decoration-color: #000000\">message_id</span><span style=\"color: #000000; text-decoration-color: #000000\">=</span><span style=\"color: #000000; text-decoration-color: #000000\">'00000000-0000-0000-0000-000000000000.2'</span><span style=\"color: #000000; text-decoration-color: #000000\">, </span><span style=\"color: #000000; text-decoration-color: #000000\">content_type</span><span style=\"color: #000000; text-decoration-color: #000000\">=</span><span style=\"color: #000000; text-decoration-color: #000000\">'text'</span><span style=\"color: #000000; text-decoration-color: #000000\">, </span><span style=\"color: #000000; text-decoration-color: #000000\">content</span><span style=\"color: #000000; text-decoration-color: #000000\">=</span><span style=\"color: #000000; text-decoration-color: #000000\">'Please continue'</span><span style=\"color: #000000; text-decoration-color: #000000; font-weight: bold\">)</span>\n",
       "</pre>\n"
      ],
      "text/plain": [
       "\u001b[1m[\u001b[0mSara\u001b[1m]\u001b[0m \u001b[38;5;16mMessage not for me, ignore. \u001b[0m\u001b[38;5;16mmessage\u001b[0m\u001b[38;5;16m=\u001b[0m\u001b[38;5;16mid\u001b[0m\u001b[38;5;16m=\u001b[0m\u001b[38;5;16m'43e8ab94-4bcf-47e6-b48b-52864c0f578c'\u001b[0m\u001b[38;5;16m \u001b[0m\n",
       "\u001b[38;5;16mheader\u001b[0m\u001b[38;5;16m=\u001b[0m\u001b[1;38;5;16mMessageHeaderPydantic\u001b[0m\u001b[1;38;5;16m(\u001b[0m\u001b[38;5;16msender\u001b[0m\u001b[38;5;16m=\u001b[0m\u001b[38;5;16m'User'\u001b[0m\u001b[38;5;16m, \u001b[0m\u001b[38;5;16mrecipient\u001b[0m\u001b[38;5;16m=\u001b[0m\u001b[38;5;16m'Diana'\u001b[0m\u001b[38;5;16m, \u001b[0m\u001b[38;5;16mtimestamp\u001b[0m\u001b[38;5;16m=\u001b[0m\u001b[1;38;5;16m1749748694\u001b[0m\u001b[1;38;5;16m.1496444\u001b[0m\u001b[38;5;16m, \u001b[0m\u001b[38;5;16morder\u001b[0m\u001b[38;5;16m=\u001b[0m\u001b[1;38;5;16m0\u001b[0m\u001b[1;38;5;16m)\u001b[0m\u001b[38;5;16m \u001b[0m\n",
       "\u001b[38;5;16mbody\u001b[0m\u001b[38;5;16m=\u001b[0m\u001b[1;38;5;16mSendBodyPydantic\u001b[0m\u001b[1;38;5;16m(\u001b[0m\u001b[38;5;16mtype\u001b[0m\u001b[38;5;16m=\u001b[0m\u001b[38;5;16m'send'\u001b[0m\u001b[38;5;16m, \u001b[0m\u001b[38;5;16mdialogue_id\u001b[0m\u001b[38;5;16m=\u001b[0m\u001b[38;5;16m'00000000-0000-0000-0000-000000000000'\u001b[0m\u001b[38;5;16m, \u001b[0m\u001b[38;5;16mmessage_no\u001b[0m\u001b[38;5;16m=\u001b[0m\u001b[1;38;5;16m2\u001b[0m\u001b[38;5;16m, \u001b[0m\n",
       "\u001b[38;5;16mmessage_id\u001b[0m\u001b[38;5;16m=\u001b[0m\u001b[38;5;16m'00000000-0000-0000-0000-000000000000.2'\u001b[0m\u001b[38;5;16m, \u001b[0m\u001b[38;5;16mcontent_type\u001b[0m\u001b[38;5;16m=\u001b[0m\u001b[38;5;16m'text'\u001b[0m\u001b[38;5;16m, \u001b[0m\u001b[38;5;16mcontent\u001b[0m\u001b[38;5;16m=\u001b[0m\u001b[38;5;16m'Please continue'\u001b[0m\u001b[1;38;5;16m)\u001b[0m\n"
      ]
     },
     "metadata": {},
     "output_type": "display_data"
    },
    {
     "data": {
      "text/html": [
       "<pre style=\"white-space:pre;overflow-x:auto;line-height:normal;font-family:Menlo,'DejaVu Sans Mono',consolas,'Courier New',monospace\"><span style=\"font-weight: bold\">[</span>Diana<span style=\"font-weight: bold\">]</span> <span style=\"color: #008000; text-decoration-color: #008000\">Handle send message. </span><span style=\"color: #008000; text-decoration-color: #008000\">message</span><span style=\"color: #008000; text-decoration-color: #008000\">=</span><span style=\"color: #008000; text-decoration-color: #008000\">id</span><span style=\"color: #008000; text-decoration-color: #008000\">=</span><span style=\"color: #008000; text-decoration-color: #008000\">'43e8ab94-4bcf-47e6-b48b-52864c0f578c'</span><span style=\"color: #008000; text-decoration-color: #008000\"> </span>\n",
       "<span style=\"color: #008000; text-decoration-color: #008000\">header</span><span style=\"color: #008000; text-decoration-color: #008000\">=</span><span style=\"color: #008000; text-decoration-color: #008000; font-weight: bold\">MessageHeaderPydantic</span><span style=\"color: #008000; text-decoration-color: #008000; font-weight: bold\">(</span><span style=\"color: #008000; text-decoration-color: #008000\">sender</span><span style=\"color: #008000; text-decoration-color: #008000\">=</span><span style=\"color: #008000; text-decoration-color: #008000\">'User'</span><span style=\"color: #008000; text-decoration-color: #008000\">, </span><span style=\"color: #008000; text-decoration-color: #008000\">recipient</span><span style=\"color: #008000; text-decoration-color: #008000\">=</span><span style=\"color: #008000; text-decoration-color: #008000\">'Diana'</span><span style=\"color: #008000; text-decoration-color: #008000\">, </span><span style=\"color: #008000; text-decoration-color: #008000\">timestamp</span><span style=\"color: #008000; text-decoration-color: #008000\">=</span><span style=\"color: #008000; text-decoration-color: #008000; font-weight: bold\">1749748694.1496444</span><span style=\"color: #008000; text-decoration-color: #008000\">, </span><span style=\"color: #008000; text-decoration-color: #008000\">order</span><span style=\"color: #008000; text-decoration-color: #008000\">=</span><span style=\"color: #008000; text-decoration-color: #008000; font-weight: bold\">0</span><span style=\"color: #008000; text-decoration-color: #008000; font-weight: bold\">)</span><span style=\"color: #008000; text-decoration-color: #008000\"> </span>\n",
       "<span style=\"color: #008000; text-decoration-color: #008000\">body</span><span style=\"color: #008000; text-decoration-color: #008000\">=</span><span style=\"color: #008000; text-decoration-color: #008000; font-weight: bold\">SendBodyPydantic</span><span style=\"color: #008000; text-decoration-color: #008000; font-weight: bold\">(</span><span style=\"color: #008000; text-decoration-color: #008000\">type</span><span style=\"color: #008000; text-decoration-color: #008000\">=</span><span style=\"color: #008000; text-decoration-color: #008000\">'send'</span><span style=\"color: #008000; text-decoration-color: #008000\">, </span><span style=\"color: #008000; text-decoration-color: #008000\">dialogue_id</span><span style=\"color: #008000; text-decoration-color: #008000\">=</span><span style=\"color: #008000; text-decoration-color: #008000\">'00000000-0000-0000-0000-000000000000'</span><span style=\"color: #008000; text-decoration-color: #008000\">, </span><span style=\"color: #008000; text-decoration-color: #008000\">message_no</span><span style=\"color: #008000; text-decoration-color: #008000\">=</span><span style=\"color: #008000; text-decoration-color: #008000; font-weight: bold\">2</span><span style=\"color: #008000; text-decoration-color: #008000\">, </span>\n",
       "<span style=\"color: #008000; text-decoration-color: #008000\">message_id</span><span style=\"color: #008000; text-decoration-color: #008000\">=</span><span style=\"color: #008000; text-decoration-color: #008000\">'00000000-0000-0000-0000-000000000000.2'</span><span style=\"color: #008000; text-decoration-color: #008000\">, </span><span style=\"color: #008000; text-decoration-color: #008000\">content_type</span><span style=\"color: #008000; text-decoration-color: #008000\">=</span><span style=\"color: #008000; text-decoration-color: #008000\">'text'</span><span style=\"color: #008000; text-decoration-color: #008000\">, </span><span style=\"color: #008000; text-decoration-color: #008000\">content</span><span style=\"color: #008000; text-decoration-color: #008000\">=</span><span style=\"color: #008000; text-decoration-color: #008000\">'Please continue'</span><span style=\"color: #008000; text-decoration-color: #008000; font-weight: bold\">)</span>\n",
       "</pre>\n"
      ],
      "text/plain": [
       "\u001b[1m[\u001b[0mDiana\u001b[1m]\u001b[0m \u001b[32mHandle send message. \u001b[0m\u001b[32mmessage\u001b[0m\u001b[32m=\u001b[0m\u001b[32mid\u001b[0m\u001b[32m=\u001b[0m\u001b[32m'43e8ab94-4bcf-47e6-b48b-52864c0f578c'\u001b[0m\u001b[32m \u001b[0m\n",
       "\u001b[32mheader\u001b[0m\u001b[32m=\u001b[0m\u001b[1;32mMessageHeaderPydantic\u001b[0m\u001b[1;32m(\u001b[0m\u001b[32msender\u001b[0m\u001b[32m=\u001b[0m\u001b[32m'User'\u001b[0m\u001b[32m, \u001b[0m\u001b[32mrecipient\u001b[0m\u001b[32m=\u001b[0m\u001b[32m'Diana'\u001b[0m\u001b[32m, \u001b[0m\u001b[32mtimestamp\u001b[0m\u001b[32m=\u001b[0m\u001b[1;32m1749748694\u001b[0m\u001b[1;32m.1496444\u001b[0m\u001b[32m, \u001b[0m\u001b[32morder\u001b[0m\u001b[32m=\u001b[0m\u001b[1;32m0\u001b[0m\u001b[1;32m)\u001b[0m\u001b[32m \u001b[0m\n",
       "\u001b[32mbody\u001b[0m\u001b[32m=\u001b[0m\u001b[1;32mSendBodyPydantic\u001b[0m\u001b[1;32m(\u001b[0m\u001b[32mtype\u001b[0m\u001b[32m=\u001b[0m\u001b[32m'send'\u001b[0m\u001b[32m, \u001b[0m\u001b[32mdialogue_id\u001b[0m\u001b[32m=\u001b[0m\u001b[32m'00000000-0000-0000-0000-000000000000'\u001b[0m\u001b[32m, \u001b[0m\u001b[32mmessage_no\u001b[0m\u001b[32m=\u001b[0m\u001b[1;32m2\u001b[0m\u001b[32m, \u001b[0m\n",
       "\u001b[32mmessage_id\u001b[0m\u001b[32m=\u001b[0m\u001b[32m'00000000-0000-0000-0000-000000000000.2'\u001b[0m\u001b[32m, \u001b[0m\u001b[32mcontent_type\u001b[0m\u001b[32m=\u001b[0m\u001b[32m'text'\u001b[0m\u001b[32m, \u001b[0m\u001b[32mcontent\u001b[0m\u001b[32m=\u001b[0m\u001b[32m'Please continue'\u001b[0m\u001b[1;32m)\u001b[0m\n"
      ]
     },
     "metadata": {},
     "output_type": "display_data"
    }
   ],
   "source": [
    "# 3. Ask Sara to tell a story\n",
    "\n",
    "await user.chat(\"Tell me a one paragraph story\",\"Sara\") \n",
    "rprint(\"[User] [bold bright_yellow] Sent message to Sara [/bold bright_yellow]\")\n",
    "\n",
    "# 4. Ask Diana to continue   \n",
    "\n",
    "await user.chat(\"Please continue\",\"Diana\")\n",
    "rprint(\"[User] [bold bright_yellow] Sent message to Diana [/bold bright_yellow]\")\n",
    "\n"
   ]
  },
  {
   "cell_type": "markdown",
   "metadata": {},
   "source": [
    "### c) Send broadcast messages"
   ]
  },
  {
   "cell_type": "code",
   "execution_count": 3,
   "metadata": {},
   "outputs": [
    {
     "name": "stdout",
     "output_type": "stream",
     "text": [
      "[User] [bold bright_yellow] Sent broadcast message [/bold bright_yellow]\n"
     ]
    },
    {
     "data": {
      "text/html": [
       "<pre style=\"white-space:pre;overflow-x:auto;line-height:normal;font-family:Menlo,'DejaVu Sans Mono',consolas,'Courier New',monospace\"><span style=\"font-weight: bold\">[</span>Sara<span style=\"font-weight: bold\">]</span> <span style=\"color: #008000; text-decoration-color: #008000\">Handle broadcast message. </span><span style=\"color: #008000; text-decoration-color: #008000\">message</span><span style=\"color: #008000; text-decoration-color: #008000\">=</span><span style=\"color: #008000; text-decoration-color: #008000\">id</span><span style=\"color: #008000; text-decoration-color: #008000\">=</span><span style=\"color: #008000; text-decoration-color: #008000\">'305e771e-23ef-4af4-9e5a-8f5f830a2f9a'</span><span style=\"color: #008000; text-decoration-color: #008000\"> </span>\n",
       "<span style=\"color: #008000; text-decoration-color: #008000\">header</span><span style=\"color: #008000; text-decoration-color: #008000\">=</span><span style=\"color: #008000; text-decoration-color: #008000; font-weight: bold\">MessageHeaderPydantic</span><span style=\"color: #008000; text-decoration-color: #008000; font-weight: bold\">(</span><span style=\"color: #008000; text-decoration-color: #008000\">sender</span><span style=\"color: #008000; text-decoration-color: #008000\">=</span><span style=\"color: #008000; text-decoration-color: #008000\">'User'</span><span style=\"color: #008000; text-decoration-color: #008000\">, </span><span style=\"color: #008000; text-decoration-color: #008000\">recipient</span><span style=\"color: #008000; text-decoration-color: #008000\">=</span><span style=\"color: #008000; text-decoration-color: #008000\">'*'</span><span style=\"color: #008000; text-decoration-color: #008000\">, </span><span style=\"color: #008000; text-decoration-color: #008000\">timestamp</span><span style=\"color: #008000; text-decoration-color: #008000\">=</span><span style=\"color: #008000; text-decoration-color: #008000; font-weight: bold\">1749573912.1055892</span><span style=\"color: #008000; text-decoration-color: #008000\">, </span><span style=\"color: #008000; text-decoration-color: #008000\">order</span><span style=\"color: #008000; text-decoration-color: #008000\">=</span><span style=\"color: #008000; text-decoration-color: #008000; font-weight: bold\">0</span><span style=\"color: #008000; text-decoration-color: #008000; font-weight: bold\">)</span><span style=\"color: #008000; text-decoration-color: #008000\"> </span>\n",
       "<span style=\"color: #008000; text-decoration-color: #008000\">body</span><span style=\"color: #008000; text-decoration-color: #008000\">=</span><span style=\"color: #008000; text-decoration-color: #008000; font-weight: bold\">SendBodyPydantic</span><span style=\"color: #008000; text-decoration-color: #008000; font-weight: bold\">(</span><span style=\"color: #008000; text-decoration-color: #008000\">type</span><span style=\"color: #008000; text-decoration-color: #008000\">=</span><span style=\"color: #008000; text-decoration-color: #008000\">'send'</span><span style=\"color: #008000; text-decoration-color: #008000\">, </span><span style=\"color: #008000; text-decoration-color: #008000\">dialogue_id</span><span style=\"color: #008000; text-decoration-color: #008000\">=</span><span style=\"color: #008000; text-decoration-color: #008000\">'00000000-0000-0000-0000-000000000000'</span><span style=\"color: #008000; text-decoration-color: #008000\">, </span><span style=\"color: #008000; text-decoration-color: #008000\">message_no</span><span style=\"color: #008000; text-decoration-color: #008000\">=</span><span style=\"color: #008000; text-decoration-color: #008000; font-weight: bold\">25</span><span style=\"color: #008000; text-decoration-color: #008000\">, </span>\n",
       "<span style=\"color: #008000; text-decoration-color: #008000\">message_id</span><span style=\"color: #008000; text-decoration-color: #008000\">=</span><span style=\"color: #008000; text-decoration-color: #008000\">'00000000-0000-0000-0000-000000000000.25'</span><span style=\"color: #008000; text-decoration-color: #008000\">, </span><span style=\"color: #008000; text-decoration-color: #008000\">content_type</span><span style=\"color: #008000; text-decoration-color: #008000\">=</span><span style=\"color: #008000; text-decoration-color: #008000\">'text'</span><span style=\"color: #008000; text-decoration-color: #008000\">, </span><span style=\"color: #008000; text-decoration-color: #008000\">content</span><span style=\"color: #008000; text-decoration-color: #008000\">=</span><span style=\"color: #008000; text-decoration-color: #008000\">'Introduce yourselves'</span><span style=\"color: #008000; text-decoration-color: #008000; font-weight: bold\">)</span>\n",
       "</pre>\n"
      ],
      "text/plain": [
       "\u001b[1m[\u001b[0mSara\u001b[1m]\u001b[0m \u001b[32mHandle broadcast message. \u001b[0m\u001b[32mmessage\u001b[0m\u001b[32m=\u001b[0m\u001b[32mid\u001b[0m\u001b[32m=\u001b[0m\u001b[32m'305e771e-23ef-4af4-9e5a-8f5f830a2f9a'\u001b[0m\u001b[32m \u001b[0m\n",
       "\u001b[32mheader\u001b[0m\u001b[32m=\u001b[0m\u001b[1;32mMessageHeaderPydantic\u001b[0m\u001b[1;32m(\u001b[0m\u001b[32msender\u001b[0m\u001b[32m=\u001b[0m\u001b[32m'User'\u001b[0m\u001b[32m, \u001b[0m\u001b[32mrecipient\u001b[0m\u001b[32m=\u001b[0m\u001b[32m'*'\u001b[0m\u001b[32m, \u001b[0m\u001b[32mtimestamp\u001b[0m\u001b[32m=\u001b[0m\u001b[1;32m1749573912\u001b[0m\u001b[1;32m.1055892\u001b[0m\u001b[32m, \u001b[0m\u001b[32morder\u001b[0m\u001b[32m=\u001b[0m\u001b[1;32m0\u001b[0m\u001b[1;32m)\u001b[0m\u001b[32m \u001b[0m\n",
       "\u001b[32mbody\u001b[0m\u001b[32m=\u001b[0m\u001b[1;32mSendBodyPydantic\u001b[0m\u001b[1;32m(\u001b[0m\u001b[32mtype\u001b[0m\u001b[32m=\u001b[0m\u001b[32m'send'\u001b[0m\u001b[32m, \u001b[0m\u001b[32mdialogue_id\u001b[0m\u001b[32m=\u001b[0m\u001b[32m'00000000-0000-0000-0000-000000000000'\u001b[0m\u001b[32m, \u001b[0m\u001b[32mmessage_no\u001b[0m\u001b[32m=\u001b[0m\u001b[1;32m25\u001b[0m\u001b[32m, \u001b[0m\n",
       "\u001b[32mmessage_id\u001b[0m\u001b[32m=\u001b[0m\u001b[32m'00000000-0000-0000-0000-000000000000.25'\u001b[0m\u001b[32m, \u001b[0m\u001b[32mcontent_type\u001b[0m\u001b[32m=\u001b[0m\u001b[32m'text'\u001b[0m\u001b[32m, \u001b[0m\u001b[32mcontent\u001b[0m\u001b[32m=\u001b[0m\u001b[32m'Introduce yourselves'\u001b[0m\u001b[1;32m)\u001b[0m\n"
      ]
     },
     "metadata": {},
     "output_type": "display_data"
    },
    {
     "data": {
      "text/html": [
       "<pre style=\"white-space:pre;overflow-x:auto;line-height:normal;font-family:Menlo,'DejaVu Sans Mono',consolas,'Courier New',monospace\"><span style=\"font-weight: bold\">[</span>Diana<span style=\"font-weight: bold\">]</span> <span style=\"color: #008000; text-decoration-color: #008000\">Handle broadcast message. </span><span style=\"color: #008000; text-decoration-color: #008000\">message</span><span style=\"color: #008000; text-decoration-color: #008000\">=</span><span style=\"color: #008000; text-decoration-color: #008000\">id</span><span style=\"color: #008000; text-decoration-color: #008000\">=</span><span style=\"color: #008000; text-decoration-color: #008000\">'305e771e-23ef-4af4-9e5a-8f5f830a2f9a'</span><span style=\"color: #008000; text-decoration-color: #008000\"> </span>\n",
       "<span style=\"color: #008000; text-decoration-color: #008000\">header</span><span style=\"color: #008000; text-decoration-color: #008000\">=</span><span style=\"color: #008000; text-decoration-color: #008000; font-weight: bold\">MessageHeaderPydantic</span><span style=\"color: #008000; text-decoration-color: #008000; font-weight: bold\">(</span><span style=\"color: #008000; text-decoration-color: #008000\">sender</span><span style=\"color: #008000; text-decoration-color: #008000\">=</span><span style=\"color: #008000; text-decoration-color: #008000\">'User'</span><span style=\"color: #008000; text-decoration-color: #008000\">, </span><span style=\"color: #008000; text-decoration-color: #008000\">recipient</span><span style=\"color: #008000; text-decoration-color: #008000\">=</span><span style=\"color: #008000; text-decoration-color: #008000\">'*'</span><span style=\"color: #008000; text-decoration-color: #008000\">, </span><span style=\"color: #008000; text-decoration-color: #008000\">timestamp</span><span style=\"color: #008000; text-decoration-color: #008000\">=</span><span style=\"color: #008000; text-decoration-color: #008000; font-weight: bold\">1749573912.1055892</span><span style=\"color: #008000; text-decoration-color: #008000\">, </span><span style=\"color: #008000; text-decoration-color: #008000\">order</span><span style=\"color: #008000; text-decoration-color: #008000\">=</span><span style=\"color: #008000; text-decoration-color: #008000; font-weight: bold\">0</span><span style=\"color: #008000; text-decoration-color: #008000; font-weight: bold\">)</span><span style=\"color: #008000; text-decoration-color: #008000\"> </span>\n",
       "<span style=\"color: #008000; text-decoration-color: #008000\">body</span><span style=\"color: #008000; text-decoration-color: #008000\">=</span><span style=\"color: #008000; text-decoration-color: #008000; font-weight: bold\">SendBodyPydantic</span><span style=\"color: #008000; text-decoration-color: #008000; font-weight: bold\">(</span><span style=\"color: #008000; text-decoration-color: #008000\">type</span><span style=\"color: #008000; text-decoration-color: #008000\">=</span><span style=\"color: #008000; text-decoration-color: #008000\">'send'</span><span style=\"color: #008000; text-decoration-color: #008000\">, </span><span style=\"color: #008000; text-decoration-color: #008000\">dialogue_id</span><span style=\"color: #008000; text-decoration-color: #008000\">=</span><span style=\"color: #008000; text-decoration-color: #008000\">'00000000-0000-0000-0000-000000000000'</span><span style=\"color: #008000; text-decoration-color: #008000\">, </span><span style=\"color: #008000; text-decoration-color: #008000\">message_no</span><span style=\"color: #008000; text-decoration-color: #008000\">=</span><span style=\"color: #008000; text-decoration-color: #008000; font-weight: bold\">25</span><span style=\"color: #008000; text-decoration-color: #008000\">, </span>\n",
       "<span style=\"color: #008000; text-decoration-color: #008000\">message_id</span><span style=\"color: #008000; text-decoration-color: #008000\">=</span><span style=\"color: #008000; text-decoration-color: #008000\">'00000000-0000-0000-0000-000000000000.25'</span><span style=\"color: #008000; text-decoration-color: #008000\">, </span><span style=\"color: #008000; text-decoration-color: #008000\">content_type</span><span style=\"color: #008000; text-decoration-color: #008000\">=</span><span style=\"color: #008000; text-decoration-color: #008000\">'text'</span><span style=\"color: #008000; text-decoration-color: #008000\">, </span><span style=\"color: #008000; text-decoration-color: #008000\">content</span><span style=\"color: #008000; text-decoration-color: #008000\">=</span><span style=\"color: #008000; text-decoration-color: #008000\">'Introduce yourselves'</span><span style=\"color: #008000; text-decoration-color: #008000; font-weight: bold\">)</span>\n",
       "</pre>\n"
      ],
      "text/plain": [
       "\u001b[1m[\u001b[0mDiana\u001b[1m]\u001b[0m \u001b[32mHandle broadcast message. \u001b[0m\u001b[32mmessage\u001b[0m\u001b[32m=\u001b[0m\u001b[32mid\u001b[0m\u001b[32m=\u001b[0m\u001b[32m'305e771e-23ef-4af4-9e5a-8f5f830a2f9a'\u001b[0m\u001b[32m \u001b[0m\n",
       "\u001b[32mheader\u001b[0m\u001b[32m=\u001b[0m\u001b[1;32mMessageHeaderPydantic\u001b[0m\u001b[1;32m(\u001b[0m\u001b[32msender\u001b[0m\u001b[32m=\u001b[0m\u001b[32m'User'\u001b[0m\u001b[32m, \u001b[0m\u001b[32mrecipient\u001b[0m\u001b[32m=\u001b[0m\u001b[32m'*'\u001b[0m\u001b[32m, \u001b[0m\u001b[32mtimestamp\u001b[0m\u001b[32m=\u001b[0m\u001b[1;32m1749573912\u001b[0m\u001b[1;32m.1055892\u001b[0m\u001b[32m, \u001b[0m\u001b[32morder\u001b[0m\u001b[32m=\u001b[0m\u001b[1;32m0\u001b[0m\u001b[1;32m)\u001b[0m\u001b[32m \u001b[0m\n",
       "\u001b[32mbody\u001b[0m\u001b[32m=\u001b[0m\u001b[1;32mSendBodyPydantic\u001b[0m\u001b[1;32m(\u001b[0m\u001b[32mtype\u001b[0m\u001b[32m=\u001b[0m\u001b[32m'send'\u001b[0m\u001b[32m, \u001b[0m\u001b[32mdialogue_id\u001b[0m\u001b[32m=\u001b[0m\u001b[32m'00000000-0000-0000-0000-000000000000'\u001b[0m\u001b[32m, \u001b[0m\u001b[32mmessage_no\u001b[0m\u001b[32m=\u001b[0m\u001b[1;32m25\u001b[0m\u001b[32m, \u001b[0m\n",
       "\u001b[32mmessage_id\u001b[0m\u001b[32m=\u001b[0m\u001b[32m'00000000-0000-0000-0000-000000000000.25'\u001b[0m\u001b[32m, \u001b[0m\u001b[32mcontent_type\u001b[0m\u001b[32m=\u001b[0m\u001b[32m'text'\u001b[0m\u001b[32m, \u001b[0m\u001b[32mcontent\u001b[0m\u001b[32m=\u001b[0m\u001b[32m'Introduce yourselves'\u001b[0m\u001b[1;32m)\u001b[0m\n"
      ]
     },
     "metadata": {},
     "output_type": "display_data"
    }
   ],
   "source": [
    "# 1. Send a broadcast message to all agents\n",
    "\n",
    "await user.chat(\"Introduce yourselves\",\"*\") \n",
    "print(\"[User] [bold bright_yellow] Sent broadcast message [/bold bright_yellow]\")\n",
    "\n"
   ]
  },
  {
   "cell_type": "code",
   "execution_count": 4,
   "metadata": {},
   "outputs": [
    {
     "name": "stdout",
     "output_type": "stream",
     "text": [
      "[MessagePydantic(id='6434de5f-7823-4308-9c83-c279d3f0d37d', header=MessageHeaderPydantic(sender='User', recipient='Sara', timestamp=1749573909.008059, order=0), body=SendBodyPydantic(type='send', dialogue_id='00000000-0000-0000-0000-000000000000', message_no=1, message_id='00000000-0000-0000-0000-000000000000.1', content_type='text', content='Tell me a one paragraph story')), MessagePydantic(id='72ca8b42-8420-466e-b684-7a22e5f38f25', header=MessageHeaderPydantic(sender='User', recipient='Diana', timestamp=1749573909.0158813, order=0), body=SendBodyPydantic(type='send', dialogue_id='00000000-0000-0000-0000-000000000000', message_no=2, message_id='00000000-0000-0000-0000-000000000000.2', content_type='text', content='Please continue')), MessagePydantic(id='832e8f01-8694-4f54-9293-eb93e1d59eee', header=MessageHeaderPydantic(sender='Sara', recipient='User', timestamp=1749573909.0288253, order=0), body=ReplyBodyPydantic(type='reply', dialogue_id='00000000-0000-0000-0000-000000000000', message_no=15, message_id='00000000-0000-0000-0000-000000000000.15', chunk_no=12, chunk='<eom>', content_type='text', content='This is a story about a brave knight who fought a dragon. ')), MessagePydantic(id='1162fe7a-3845-4289-93c0-a2d4743a62cd', header=MessageHeaderPydantic(sender='Diana', recipient='User', timestamp=1749573909.0415735, order=0), body=ReplyBodyPydantic(type='reply', dialogue_id='00000000-0000-0000-0000-000000000000', message_no=24, message_id='00000000-0000-0000-0000-000000000000.24', chunk_no=8, chunk='<eom>', content_type='text', content='The knight was very brave and fought valiantly. ')), MessagePydantic(id='305e771e-23ef-4af4-9e5a-8f5f830a2f9a', header=MessageHeaderPydantic(sender='User', recipient='*', timestamp=1749573912.1055892, order=0), body=SendBodyPydantic(type='send', dialogue_id='00000000-0000-0000-0000-000000000000', message_no=25, message_id='00000000-0000-0000-0000-000000000000.25', content_type='text', content='Introduce yourselves')), MessagePydantic(id='e877718b-7908-4509-963a-c74bc64913be', header=MessageHeaderPydantic(sender='Sara', recipient='User', timestamp=1749573912.117524, order=0), body=ReplyBodyPydantic(type='reply', dialogue_id='00000000-0000-0000-0000-000000000000', message_no=38, message_id='00000000-0000-0000-0000-000000000000.38', chunk_no=12, chunk='<eom>', content_type='text', content='This is a story about a brave knight who fought a dragon. ')), MessagePydantic(id='7f56e18b-2cd5-42a5-b757-28363feda5bc', header=MessageHeaderPydantic(sender='Diana', recipient='User', timestamp=1749573912.121168, order=0), body=ReplyBodyPydantic(type='reply', dialogue_id='00000000-0000-0000-0000-000000000000', message_no=47, message_id='00000000-0000-0000-0000-000000000000.47', chunk_no=8, chunk='<eom>', content_type='text', content='The knight was very brave and fought valiantly. '))]\n"
     ]
    }
   ],
   "source": [
    "print(dialogue.list_messages())"
   ]
  },
  {
   "cell_type": "markdown",
   "metadata": {},
   "source": [
    "---\n",
    "\n",
    "## 4. File Dialogue Bus"
   ]
  },
  {
   "cell_type": "code",
   "execution_count": null,
   "metadata": {},
   "outputs": [
    {
     "name": "stderr",
     "output_type": "stream",
     "text": [
      "Task was destroyed but it is pending!\n",
      "task: <Task pending name='Task-6' coro=<AsyncMessageBus._dispatch_loop() running at /workspaces/gai-sdk/messages/src/gai/messages/async_message_bus.py:295> wait_for=<Future pending cb=[Task.task_wakeup()]>>\n"
     ]
    }
   ],
   "source": [
    "import asyncio\n",
    "from gai.messages import message_helper\n",
    "from gai.dialogue import FileDialogueBus, DialogueBus\n",
    "from rich import print\n",
    "\n",
    "from gai.dialogue.nodes import AgentNode, UserNode\n",
    "\n",
    "class MockAgentNode(AgentNode):\n",
    "    \n",
    "    def __init__(self, name: str, dialogue: DialogueBus):\n",
    "        super().__init__(name=name, dialogue=dialogue)\n",
    "        \n",
    "    def _stream_completion(self, message):\n",
    "        \n",
    "        # Simulate a response from the agent\n",
    "        \n",
    "        if self.name == \"Sara\":\n",
    "            yield \"This is a story about a brave knight who fought a dragon.\"\n",
    "        if self.name == \"Diana\":\n",
    "            yield \"The knight was very brave and fought valiantly.\"\n",
    "\n",
    "# 1. Initiate a dialogue session\n",
    "from gai.lib.tests import make_local_tmp\n",
    "here = make_local_tmp()\n",
    "dialogue = FileDialogueBus(logger_name=\"User\", app_dir=here,reset=True)\n",
    "await dialogue.start()\n",
    "\n",
    "# 2. Add 1 User and 2 Agents to the Dialogue\n",
    "    \n",
    "sara = MockAgentNode(name=\"Sara\", dialogue=dialogue)\n",
    "diana = MockAgentNode(name=\"Diana\", dialogue=dialogue)\n",
    "user = UserNode(dialogue=dialogue)\n"
   ]
  },
  {
   "cell_type": "markdown",
   "metadata": {},
   "source": [
    "### b) Send and Reply"
   ]
  },
  {
   "cell_type": "code",
   "execution_count": 6,
   "metadata": {},
   "outputs": [
    {
     "data": {
      "text/html": [
       "<pre style=\"white-space:pre;overflow-x:auto;line-height:normal;font-family:Menlo,'DejaVu Sans Mono',consolas,'Courier New',monospace\"><span style=\"font-weight: bold\">[</span>User<span style=\"font-weight: bold\">]</span> <span style=\"color: #ffff00; text-decoration-color: #ffff00; font-weight: bold\"> Sent message to Sara </span>\n",
       "</pre>\n"
      ],
      "text/plain": [
       "\u001b[1m[\u001b[0mUser\u001b[1m]\u001b[0m \u001b[1;93m Sent message to Sara \u001b[0m\n"
      ]
     },
     "metadata": {},
     "output_type": "display_data"
    },
    {
     "data": {
      "text/html": [
       "<pre style=\"white-space:pre;overflow-x:auto;line-height:normal;font-family:Menlo,'DejaVu Sans Mono',consolas,'Courier New',monospace\"><span style=\"font-weight: bold\">[</span>User<span style=\"font-weight: bold\">]</span> <span style=\"color: #ffff00; text-decoration-color: #ffff00; font-weight: bold\"> Sent message to Diana </span>\n",
       "</pre>\n"
      ],
      "text/plain": [
       "\u001b[1m[\u001b[0mUser\u001b[1m]\u001b[0m \u001b[1;93m Sent message to Diana \u001b[0m\n"
      ]
     },
     "metadata": {},
     "output_type": "display_data"
    },
    {
     "data": {
      "text/html": [
       "<pre style=\"white-space:pre;overflow-x:auto;line-height:normal;font-family:Menlo,'DejaVu Sans Mono',consolas,'Courier New',monospace\"><span style=\"font-weight: bold\">[</span>Sara<span style=\"font-weight: bold\">]</span> <span style=\"color: #008000; text-decoration-color: #008000\">Handle send message. </span><span style=\"color: #008000; text-decoration-color: #008000\">message</span><span style=\"color: #008000; text-decoration-color: #008000\">=</span><span style=\"color: #008000; text-decoration-color: #008000\">id</span><span style=\"color: #008000; text-decoration-color: #008000\">=</span><span style=\"color: #008000; text-decoration-color: #008000\">'eaea9bd5-4216-4682-a2d7-9ea808923053'</span><span style=\"color: #008000; text-decoration-color: #008000\"> </span>\n",
       "<span style=\"color: #008000; text-decoration-color: #008000\">header</span><span style=\"color: #008000; text-decoration-color: #008000\">=</span><span style=\"color: #008000; text-decoration-color: #008000; font-weight: bold\">MessageHeaderPydantic</span><span style=\"color: #008000; text-decoration-color: #008000; font-weight: bold\">(</span><span style=\"color: #008000; text-decoration-color: #008000\">sender</span><span style=\"color: #008000; text-decoration-color: #008000\">=</span><span style=\"color: #008000; text-decoration-color: #008000\">'User'</span><span style=\"color: #008000; text-decoration-color: #008000\">, </span><span style=\"color: #008000; text-decoration-color: #008000\">recipient</span><span style=\"color: #008000; text-decoration-color: #008000\">=</span><span style=\"color: #008000; text-decoration-color: #008000\">'Sara'</span><span style=\"color: #008000; text-decoration-color: #008000\">, </span><span style=\"color: #008000; text-decoration-color: #008000\">timestamp</span><span style=\"color: #008000; text-decoration-color: #008000\">=</span><span style=\"color: #008000; text-decoration-color: #008000; font-weight: bold\">1749569449.2860677</span><span style=\"color: #008000; text-decoration-color: #008000\">, </span><span style=\"color: #008000; text-decoration-color: #008000\">order</span><span style=\"color: #008000; text-decoration-color: #008000\">=</span><span style=\"color: #008000; text-decoration-color: #008000; font-weight: bold\">0</span><span style=\"color: #008000; text-decoration-color: #008000; font-weight: bold\">)</span><span style=\"color: #008000; text-decoration-color: #008000\"> </span>\n",
       "<span style=\"color: #008000; text-decoration-color: #008000\">body</span><span style=\"color: #008000; text-decoration-color: #008000\">=</span><span style=\"color: #008000; text-decoration-color: #008000; font-weight: bold\">SendBodyPydantic</span><span style=\"color: #008000; text-decoration-color: #008000; font-weight: bold\">(</span><span style=\"color: #008000; text-decoration-color: #008000\">type</span><span style=\"color: #008000; text-decoration-color: #008000\">=</span><span style=\"color: #008000; text-decoration-color: #008000\">'send'</span><span style=\"color: #008000; text-decoration-color: #008000\">, </span><span style=\"color: #008000; text-decoration-color: #008000\">dialogue_id</span><span style=\"color: #008000; text-decoration-color: #008000\">=</span><span style=\"color: #008000; text-decoration-color: #008000\">'00000000-0000-0000-0000-000000000000'</span><span style=\"color: #008000; text-decoration-color: #008000\">, </span><span style=\"color: #008000; text-decoration-color: #008000\">message_no</span><span style=\"color: #008000; text-decoration-color: #008000\">=</span><span style=\"color: #008000; text-decoration-color: #008000; font-weight: bold\">48</span><span style=\"color: #008000; text-decoration-color: #008000\">, </span>\n",
       "<span style=\"color: #008000; text-decoration-color: #008000\">message_id</span><span style=\"color: #008000; text-decoration-color: #008000\">=</span><span style=\"color: #008000; text-decoration-color: #008000\">'00000000-0000-0000-0000-000000000000.48'</span><span style=\"color: #008000; text-decoration-color: #008000\">, </span><span style=\"color: #008000; text-decoration-color: #008000\">content_type</span><span style=\"color: #008000; text-decoration-color: #008000\">=</span><span style=\"color: #008000; text-decoration-color: #008000\">'text'</span><span style=\"color: #008000; text-decoration-color: #008000\">, </span><span style=\"color: #008000; text-decoration-color: #008000\">content</span><span style=\"color: #008000; text-decoration-color: #008000\">=</span><span style=\"color: #008000; text-decoration-color: #008000\">'Tell me a one paragraph story'</span><span style=\"color: #008000; text-decoration-color: #008000; font-weight: bold\">)</span>\n",
       "</pre>\n"
      ],
      "text/plain": [
       "\u001b[1m[\u001b[0mSara\u001b[1m]\u001b[0m \u001b[32mHandle send message. \u001b[0m\u001b[32mmessage\u001b[0m\u001b[32m=\u001b[0m\u001b[32mid\u001b[0m\u001b[32m=\u001b[0m\u001b[32m'eaea9bd5-4216-4682-a2d7-9ea808923053'\u001b[0m\u001b[32m \u001b[0m\n",
       "\u001b[32mheader\u001b[0m\u001b[32m=\u001b[0m\u001b[1;32mMessageHeaderPydantic\u001b[0m\u001b[1;32m(\u001b[0m\u001b[32msender\u001b[0m\u001b[32m=\u001b[0m\u001b[32m'User'\u001b[0m\u001b[32m, \u001b[0m\u001b[32mrecipient\u001b[0m\u001b[32m=\u001b[0m\u001b[32m'Sara'\u001b[0m\u001b[32m, \u001b[0m\u001b[32mtimestamp\u001b[0m\u001b[32m=\u001b[0m\u001b[1;32m1749569449\u001b[0m\u001b[1;32m.2860677\u001b[0m\u001b[32m, \u001b[0m\u001b[32morder\u001b[0m\u001b[32m=\u001b[0m\u001b[1;32m0\u001b[0m\u001b[1;32m)\u001b[0m\u001b[32m \u001b[0m\n",
       "\u001b[32mbody\u001b[0m\u001b[32m=\u001b[0m\u001b[1;32mSendBodyPydantic\u001b[0m\u001b[1;32m(\u001b[0m\u001b[32mtype\u001b[0m\u001b[32m=\u001b[0m\u001b[32m'send'\u001b[0m\u001b[32m, \u001b[0m\u001b[32mdialogue_id\u001b[0m\u001b[32m=\u001b[0m\u001b[32m'00000000-0000-0000-0000-000000000000'\u001b[0m\u001b[32m, \u001b[0m\u001b[32mmessage_no\u001b[0m\u001b[32m=\u001b[0m\u001b[1;32m48\u001b[0m\u001b[32m, \u001b[0m\n",
       "\u001b[32mmessage_id\u001b[0m\u001b[32m=\u001b[0m\u001b[32m'00000000-0000-0000-0000-000000000000.48'\u001b[0m\u001b[32m, \u001b[0m\u001b[32mcontent_type\u001b[0m\u001b[32m=\u001b[0m\u001b[32m'text'\u001b[0m\u001b[32m, \u001b[0m\u001b[32mcontent\u001b[0m\u001b[32m=\u001b[0m\u001b[32m'Tell me a one paragraph story'\u001b[0m\u001b[1;32m)\u001b[0m\n"
      ]
     },
     "metadata": {},
     "output_type": "display_data"
    },
    {
     "data": {
      "text/html": [
       "<pre style=\"white-space:pre;overflow-x:auto;line-height:normal;font-family:Menlo,'DejaVu Sans Mono',consolas,'Courier New',monospace\"><span style=\"font-weight: bold\">[</span>Diana<span style=\"font-weight: bold\">]</span> <span style=\"color: #000000; text-decoration-color: #000000\">Message not for me, ignore. </span><span style=\"color: #000000; text-decoration-color: #000000\">message</span><span style=\"color: #000000; text-decoration-color: #000000\">=</span><span style=\"color: #000000; text-decoration-color: #000000\">id</span><span style=\"color: #000000; text-decoration-color: #000000\">=</span><span style=\"color: #000000; text-decoration-color: #000000\">'eaea9bd5-4216-4682-a2d7-9ea808923053'</span><span style=\"color: #000000; text-decoration-color: #000000\"> </span>\n",
       "<span style=\"color: #000000; text-decoration-color: #000000\">header</span><span style=\"color: #000000; text-decoration-color: #000000\">=</span><span style=\"color: #000000; text-decoration-color: #000000; font-weight: bold\">MessageHeaderPydantic</span><span style=\"color: #000000; text-decoration-color: #000000; font-weight: bold\">(</span><span style=\"color: #000000; text-decoration-color: #000000\">sender</span><span style=\"color: #000000; text-decoration-color: #000000\">=</span><span style=\"color: #000000; text-decoration-color: #000000\">'User'</span><span style=\"color: #000000; text-decoration-color: #000000\">, </span><span style=\"color: #000000; text-decoration-color: #000000\">recipient</span><span style=\"color: #000000; text-decoration-color: #000000\">=</span><span style=\"color: #000000; text-decoration-color: #000000\">'Sara'</span><span style=\"color: #000000; text-decoration-color: #000000\">, </span><span style=\"color: #000000; text-decoration-color: #000000\">timestamp</span><span style=\"color: #000000; text-decoration-color: #000000\">=</span><span style=\"color: #000000; text-decoration-color: #000000; font-weight: bold\">1749569449.2860677</span><span style=\"color: #000000; text-decoration-color: #000000\">, </span><span style=\"color: #000000; text-decoration-color: #000000\">order</span><span style=\"color: #000000; text-decoration-color: #000000\">=</span><span style=\"color: #000000; text-decoration-color: #000000; font-weight: bold\">0</span><span style=\"color: #000000; text-decoration-color: #000000; font-weight: bold\">)</span><span style=\"color: #000000; text-decoration-color: #000000\"> </span>\n",
       "<span style=\"color: #000000; text-decoration-color: #000000\">body</span><span style=\"color: #000000; text-decoration-color: #000000\">=</span><span style=\"color: #000000; text-decoration-color: #000000; font-weight: bold\">SendBodyPydantic</span><span style=\"color: #000000; text-decoration-color: #000000; font-weight: bold\">(</span><span style=\"color: #000000; text-decoration-color: #000000\">type</span><span style=\"color: #000000; text-decoration-color: #000000\">=</span><span style=\"color: #000000; text-decoration-color: #000000\">'send'</span><span style=\"color: #000000; text-decoration-color: #000000\">, </span><span style=\"color: #000000; text-decoration-color: #000000\">dialogue_id</span><span style=\"color: #000000; text-decoration-color: #000000\">=</span><span style=\"color: #000000; text-decoration-color: #000000\">'00000000-0000-0000-0000-000000000000'</span><span style=\"color: #000000; text-decoration-color: #000000\">, </span><span style=\"color: #000000; text-decoration-color: #000000\">message_no</span><span style=\"color: #000000; text-decoration-color: #000000\">=</span><span style=\"color: #000000; text-decoration-color: #000000; font-weight: bold\">48</span><span style=\"color: #000000; text-decoration-color: #000000\">, </span>\n",
       "<span style=\"color: #000000; text-decoration-color: #000000\">message_id</span><span style=\"color: #000000; text-decoration-color: #000000\">=</span><span style=\"color: #000000; text-decoration-color: #000000\">'00000000-0000-0000-0000-000000000000.48'</span><span style=\"color: #000000; text-decoration-color: #000000\">, </span><span style=\"color: #000000; text-decoration-color: #000000\">content_type</span><span style=\"color: #000000; text-decoration-color: #000000\">=</span><span style=\"color: #000000; text-decoration-color: #000000\">'text'</span><span style=\"color: #000000; text-decoration-color: #000000\">, </span><span style=\"color: #000000; text-decoration-color: #000000\">content</span><span style=\"color: #000000; text-decoration-color: #000000\">=</span><span style=\"color: #000000; text-decoration-color: #000000\">'Tell me a one paragraph story'</span><span style=\"color: #000000; text-decoration-color: #000000; font-weight: bold\">)</span>\n",
       "</pre>\n"
      ],
      "text/plain": [
       "\u001b[1m[\u001b[0mDiana\u001b[1m]\u001b[0m \u001b[38;5;16mMessage not for me, ignore. \u001b[0m\u001b[38;5;16mmessage\u001b[0m\u001b[38;5;16m=\u001b[0m\u001b[38;5;16mid\u001b[0m\u001b[38;5;16m=\u001b[0m\u001b[38;5;16m'eaea9bd5-4216-4682-a2d7-9ea808923053'\u001b[0m\u001b[38;5;16m \u001b[0m\n",
       "\u001b[38;5;16mheader\u001b[0m\u001b[38;5;16m=\u001b[0m\u001b[1;38;5;16mMessageHeaderPydantic\u001b[0m\u001b[1;38;5;16m(\u001b[0m\u001b[38;5;16msender\u001b[0m\u001b[38;5;16m=\u001b[0m\u001b[38;5;16m'User'\u001b[0m\u001b[38;5;16m, \u001b[0m\u001b[38;5;16mrecipient\u001b[0m\u001b[38;5;16m=\u001b[0m\u001b[38;5;16m'Sara'\u001b[0m\u001b[38;5;16m, \u001b[0m\u001b[38;5;16mtimestamp\u001b[0m\u001b[38;5;16m=\u001b[0m\u001b[1;38;5;16m1749569449\u001b[0m\u001b[1;38;5;16m.2860677\u001b[0m\u001b[38;5;16m, \u001b[0m\u001b[38;5;16morder\u001b[0m\u001b[38;5;16m=\u001b[0m\u001b[1;38;5;16m0\u001b[0m\u001b[1;38;5;16m)\u001b[0m\u001b[38;5;16m \u001b[0m\n",
       "\u001b[38;5;16mbody\u001b[0m\u001b[38;5;16m=\u001b[0m\u001b[1;38;5;16mSendBodyPydantic\u001b[0m\u001b[1;38;5;16m(\u001b[0m\u001b[38;5;16mtype\u001b[0m\u001b[38;5;16m=\u001b[0m\u001b[38;5;16m'send'\u001b[0m\u001b[38;5;16m, \u001b[0m\u001b[38;5;16mdialogue_id\u001b[0m\u001b[38;5;16m=\u001b[0m\u001b[38;5;16m'00000000-0000-0000-0000-000000000000'\u001b[0m\u001b[38;5;16m, \u001b[0m\u001b[38;5;16mmessage_no\u001b[0m\u001b[38;5;16m=\u001b[0m\u001b[1;38;5;16m48\u001b[0m\u001b[38;5;16m, \u001b[0m\n",
       "\u001b[38;5;16mmessage_id\u001b[0m\u001b[38;5;16m=\u001b[0m\u001b[38;5;16m'00000000-0000-0000-0000-000000000000.48'\u001b[0m\u001b[38;5;16m, \u001b[0m\u001b[38;5;16mcontent_type\u001b[0m\u001b[38;5;16m=\u001b[0m\u001b[38;5;16m'text'\u001b[0m\u001b[38;5;16m, \u001b[0m\u001b[38;5;16mcontent\u001b[0m\u001b[38;5;16m=\u001b[0m\u001b[38;5;16m'Tell me a one paragraph story'\u001b[0m\u001b[1;38;5;16m)\u001b[0m\n"
      ]
     },
     "metadata": {},
     "output_type": "display_data"
    },
    {
     "data": {
      "text/html": [
       "<pre style=\"white-space:pre;overflow-x:auto;line-height:normal;font-family:Menlo,'DejaVu Sans Mono',consolas,'Courier New',monospace\"><span style=\"font-weight: bold\">[</span>Sara<span style=\"font-weight: bold\">]</span> <span style=\"color: #000000; text-decoration-color: #000000\">Message not for me, ignore. </span><span style=\"color: #000000; text-decoration-color: #000000\">message</span><span style=\"color: #000000; text-decoration-color: #000000\">=</span><span style=\"color: #000000; text-decoration-color: #000000\">id</span><span style=\"color: #000000; text-decoration-color: #000000\">=</span><span style=\"color: #000000; text-decoration-color: #000000\">'34cfa1d7-42f2-4952-9c3d-044c2ed45882'</span><span style=\"color: #000000; text-decoration-color: #000000\"> </span>\n",
       "<span style=\"color: #000000; text-decoration-color: #000000\">header</span><span style=\"color: #000000; text-decoration-color: #000000\">=</span><span style=\"color: #000000; text-decoration-color: #000000; font-weight: bold\">MessageHeaderPydantic</span><span style=\"color: #000000; text-decoration-color: #000000; font-weight: bold\">(</span><span style=\"color: #000000; text-decoration-color: #000000\">sender</span><span style=\"color: #000000; text-decoration-color: #000000\">=</span><span style=\"color: #000000; text-decoration-color: #000000\">'User'</span><span style=\"color: #000000; text-decoration-color: #000000\">, </span><span style=\"color: #000000; text-decoration-color: #000000\">recipient</span><span style=\"color: #000000; text-decoration-color: #000000\">=</span><span style=\"color: #000000; text-decoration-color: #000000\">'Diana'</span><span style=\"color: #000000; text-decoration-color: #000000\">, </span><span style=\"color: #000000; text-decoration-color: #000000\">timestamp</span><span style=\"color: #000000; text-decoration-color: #000000\">=</span><span style=\"color: #000000; text-decoration-color: #000000; font-weight: bold\">1749569449.2906847</span><span style=\"color: #000000; text-decoration-color: #000000\">, </span><span style=\"color: #000000; text-decoration-color: #000000\">order</span><span style=\"color: #000000; text-decoration-color: #000000\">=</span><span style=\"color: #000000; text-decoration-color: #000000; font-weight: bold\">0</span><span style=\"color: #000000; text-decoration-color: #000000; font-weight: bold\">)</span><span style=\"color: #000000; text-decoration-color: #000000\"> </span>\n",
       "<span style=\"color: #000000; text-decoration-color: #000000\">body</span><span style=\"color: #000000; text-decoration-color: #000000\">=</span><span style=\"color: #000000; text-decoration-color: #000000; font-weight: bold\">SendBodyPydantic</span><span style=\"color: #000000; text-decoration-color: #000000; font-weight: bold\">(</span><span style=\"color: #000000; text-decoration-color: #000000\">type</span><span style=\"color: #000000; text-decoration-color: #000000\">=</span><span style=\"color: #000000; text-decoration-color: #000000\">'send'</span><span style=\"color: #000000; text-decoration-color: #000000\">, </span><span style=\"color: #000000; text-decoration-color: #000000\">dialogue_id</span><span style=\"color: #000000; text-decoration-color: #000000\">=</span><span style=\"color: #000000; text-decoration-color: #000000\">'00000000-0000-0000-0000-000000000000'</span><span style=\"color: #000000; text-decoration-color: #000000\">, </span><span style=\"color: #000000; text-decoration-color: #000000\">message_no</span><span style=\"color: #000000; text-decoration-color: #000000\">=</span><span style=\"color: #000000; text-decoration-color: #000000; font-weight: bold\">49</span><span style=\"color: #000000; text-decoration-color: #000000\">, </span>\n",
       "<span style=\"color: #000000; text-decoration-color: #000000\">message_id</span><span style=\"color: #000000; text-decoration-color: #000000\">=</span><span style=\"color: #000000; text-decoration-color: #000000\">'00000000-0000-0000-0000-000000000000.49'</span><span style=\"color: #000000; text-decoration-color: #000000\">, </span><span style=\"color: #000000; text-decoration-color: #000000\">content_type</span><span style=\"color: #000000; text-decoration-color: #000000\">=</span><span style=\"color: #000000; text-decoration-color: #000000\">'text'</span><span style=\"color: #000000; text-decoration-color: #000000\">, </span><span style=\"color: #000000; text-decoration-color: #000000\">content</span><span style=\"color: #000000; text-decoration-color: #000000\">=</span><span style=\"color: #000000; text-decoration-color: #000000\">'Please continue'</span><span style=\"color: #000000; text-decoration-color: #000000; font-weight: bold\">)</span>\n",
       "</pre>\n"
      ],
      "text/plain": [
       "\u001b[1m[\u001b[0mSara\u001b[1m]\u001b[0m \u001b[38;5;16mMessage not for me, ignore. \u001b[0m\u001b[38;5;16mmessage\u001b[0m\u001b[38;5;16m=\u001b[0m\u001b[38;5;16mid\u001b[0m\u001b[38;5;16m=\u001b[0m\u001b[38;5;16m'34cfa1d7-42f2-4952-9c3d-044c2ed45882'\u001b[0m\u001b[38;5;16m \u001b[0m\n",
       "\u001b[38;5;16mheader\u001b[0m\u001b[38;5;16m=\u001b[0m\u001b[1;38;5;16mMessageHeaderPydantic\u001b[0m\u001b[1;38;5;16m(\u001b[0m\u001b[38;5;16msender\u001b[0m\u001b[38;5;16m=\u001b[0m\u001b[38;5;16m'User'\u001b[0m\u001b[38;5;16m, \u001b[0m\u001b[38;5;16mrecipient\u001b[0m\u001b[38;5;16m=\u001b[0m\u001b[38;5;16m'Diana'\u001b[0m\u001b[38;5;16m, \u001b[0m\u001b[38;5;16mtimestamp\u001b[0m\u001b[38;5;16m=\u001b[0m\u001b[1;38;5;16m1749569449\u001b[0m\u001b[1;38;5;16m.2906847\u001b[0m\u001b[38;5;16m, \u001b[0m\u001b[38;5;16morder\u001b[0m\u001b[38;5;16m=\u001b[0m\u001b[1;38;5;16m0\u001b[0m\u001b[1;38;5;16m)\u001b[0m\u001b[38;5;16m \u001b[0m\n",
       "\u001b[38;5;16mbody\u001b[0m\u001b[38;5;16m=\u001b[0m\u001b[1;38;5;16mSendBodyPydantic\u001b[0m\u001b[1;38;5;16m(\u001b[0m\u001b[38;5;16mtype\u001b[0m\u001b[38;5;16m=\u001b[0m\u001b[38;5;16m'send'\u001b[0m\u001b[38;5;16m, \u001b[0m\u001b[38;5;16mdialogue_id\u001b[0m\u001b[38;5;16m=\u001b[0m\u001b[38;5;16m'00000000-0000-0000-0000-000000000000'\u001b[0m\u001b[38;5;16m, \u001b[0m\u001b[38;5;16mmessage_no\u001b[0m\u001b[38;5;16m=\u001b[0m\u001b[1;38;5;16m49\u001b[0m\u001b[38;5;16m, \u001b[0m\n",
       "\u001b[38;5;16mmessage_id\u001b[0m\u001b[38;5;16m=\u001b[0m\u001b[38;5;16m'00000000-0000-0000-0000-000000000000.49'\u001b[0m\u001b[38;5;16m, \u001b[0m\u001b[38;5;16mcontent_type\u001b[0m\u001b[38;5;16m=\u001b[0m\u001b[38;5;16m'text'\u001b[0m\u001b[38;5;16m, \u001b[0m\u001b[38;5;16mcontent\u001b[0m\u001b[38;5;16m=\u001b[0m\u001b[38;5;16m'Please continue'\u001b[0m\u001b[1;38;5;16m)\u001b[0m\n"
      ]
     },
     "metadata": {},
     "output_type": "display_data"
    },
    {
     "data": {
      "text/html": [
       "<pre style=\"white-space:pre;overflow-x:auto;line-height:normal;font-family:Menlo,'DejaVu Sans Mono',consolas,'Courier New',monospace\"><span style=\"font-weight: bold\">[</span>Diana<span style=\"font-weight: bold\">]</span> <span style=\"color: #008000; text-decoration-color: #008000\">Handle send message. </span><span style=\"color: #008000; text-decoration-color: #008000\">message</span><span style=\"color: #008000; text-decoration-color: #008000\">=</span><span style=\"color: #008000; text-decoration-color: #008000\">id</span><span style=\"color: #008000; text-decoration-color: #008000\">=</span><span style=\"color: #008000; text-decoration-color: #008000\">'34cfa1d7-42f2-4952-9c3d-044c2ed45882'</span><span style=\"color: #008000; text-decoration-color: #008000\"> </span>\n",
       "<span style=\"color: #008000; text-decoration-color: #008000\">header</span><span style=\"color: #008000; text-decoration-color: #008000\">=</span><span style=\"color: #008000; text-decoration-color: #008000; font-weight: bold\">MessageHeaderPydantic</span><span style=\"color: #008000; text-decoration-color: #008000; font-weight: bold\">(</span><span style=\"color: #008000; text-decoration-color: #008000\">sender</span><span style=\"color: #008000; text-decoration-color: #008000\">=</span><span style=\"color: #008000; text-decoration-color: #008000\">'User'</span><span style=\"color: #008000; text-decoration-color: #008000\">, </span><span style=\"color: #008000; text-decoration-color: #008000\">recipient</span><span style=\"color: #008000; text-decoration-color: #008000\">=</span><span style=\"color: #008000; text-decoration-color: #008000\">'Diana'</span><span style=\"color: #008000; text-decoration-color: #008000\">, </span><span style=\"color: #008000; text-decoration-color: #008000\">timestamp</span><span style=\"color: #008000; text-decoration-color: #008000\">=</span><span style=\"color: #008000; text-decoration-color: #008000; font-weight: bold\">1749569449.2906847</span><span style=\"color: #008000; text-decoration-color: #008000\">, </span><span style=\"color: #008000; text-decoration-color: #008000\">order</span><span style=\"color: #008000; text-decoration-color: #008000\">=</span><span style=\"color: #008000; text-decoration-color: #008000; font-weight: bold\">0</span><span style=\"color: #008000; text-decoration-color: #008000; font-weight: bold\">)</span><span style=\"color: #008000; text-decoration-color: #008000\"> </span>\n",
       "<span style=\"color: #008000; text-decoration-color: #008000\">body</span><span style=\"color: #008000; text-decoration-color: #008000\">=</span><span style=\"color: #008000; text-decoration-color: #008000; font-weight: bold\">SendBodyPydantic</span><span style=\"color: #008000; text-decoration-color: #008000; font-weight: bold\">(</span><span style=\"color: #008000; text-decoration-color: #008000\">type</span><span style=\"color: #008000; text-decoration-color: #008000\">=</span><span style=\"color: #008000; text-decoration-color: #008000\">'send'</span><span style=\"color: #008000; text-decoration-color: #008000\">, </span><span style=\"color: #008000; text-decoration-color: #008000\">dialogue_id</span><span style=\"color: #008000; text-decoration-color: #008000\">=</span><span style=\"color: #008000; text-decoration-color: #008000\">'00000000-0000-0000-0000-000000000000'</span><span style=\"color: #008000; text-decoration-color: #008000\">, </span><span style=\"color: #008000; text-decoration-color: #008000\">message_no</span><span style=\"color: #008000; text-decoration-color: #008000\">=</span><span style=\"color: #008000; text-decoration-color: #008000; font-weight: bold\">49</span><span style=\"color: #008000; text-decoration-color: #008000\">, </span>\n",
       "<span style=\"color: #008000; text-decoration-color: #008000\">message_id</span><span style=\"color: #008000; text-decoration-color: #008000\">=</span><span style=\"color: #008000; text-decoration-color: #008000\">'00000000-0000-0000-0000-000000000000.49'</span><span style=\"color: #008000; text-decoration-color: #008000\">, </span><span style=\"color: #008000; text-decoration-color: #008000\">content_type</span><span style=\"color: #008000; text-decoration-color: #008000\">=</span><span style=\"color: #008000; text-decoration-color: #008000\">'text'</span><span style=\"color: #008000; text-decoration-color: #008000\">, </span><span style=\"color: #008000; text-decoration-color: #008000\">content</span><span style=\"color: #008000; text-decoration-color: #008000\">=</span><span style=\"color: #008000; text-decoration-color: #008000\">'Please continue'</span><span style=\"color: #008000; text-decoration-color: #008000; font-weight: bold\">)</span>\n",
       "</pre>\n"
      ],
      "text/plain": [
       "\u001b[1m[\u001b[0mDiana\u001b[1m]\u001b[0m \u001b[32mHandle send message. \u001b[0m\u001b[32mmessage\u001b[0m\u001b[32m=\u001b[0m\u001b[32mid\u001b[0m\u001b[32m=\u001b[0m\u001b[32m'34cfa1d7-42f2-4952-9c3d-044c2ed45882'\u001b[0m\u001b[32m \u001b[0m\n",
       "\u001b[32mheader\u001b[0m\u001b[32m=\u001b[0m\u001b[1;32mMessageHeaderPydantic\u001b[0m\u001b[1;32m(\u001b[0m\u001b[32msender\u001b[0m\u001b[32m=\u001b[0m\u001b[32m'User'\u001b[0m\u001b[32m, \u001b[0m\u001b[32mrecipient\u001b[0m\u001b[32m=\u001b[0m\u001b[32m'Diana'\u001b[0m\u001b[32m, \u001b[0m\u001b[32mtimestamp\u001b[0m\u001b[32m=\u001b[0m\u001b[1;32m1749569449\u001b[0m\u001b[1;32m.2906847\u001b[0m\u001b[32m, \u001b[0m\u001b[32morder\u001b[0m\u001b[32m=\u001b[0m\u001b[1;32m0\u001b[0m\u001b[1;32m)\u001b[0m\u001b[32m \u001b[0m\n",
       "\u001b[32mbody\u001b[0m\u001b[32m=\u001b[0m\u001b[1;32mSendBodyPydantic\u001b[0m\u001b[1;32m(\u001b[0m\u001b[32mtype\u001b[0m\u001b[32m=\u001b[0m\u001b[32m'send'\u001b[0m\u001b[32m, \u001b[0m\u001b[32mdialogue_id\u001b[0m\u001b[32m=\u001b[0m\u001b[32m'00000000-0000-0000-0000-000000000000'\u001b[0m\u001b[32m, \u001b[0m\u001b[32mmessage_no\u001b[0m\u001b[32m=\u001b[0m\u001b[1;32m49\u001b[0m\u001b[32m, \u001b[0m\n",
       "\u001b[32mmessage_id\u001b[0m\u001b[32m=\u001b[0m\u001b[32m'00000000-0000-0000-0000-000000000000.49'\u001b[0m\u001b[32m, \u001b[0m\u001b[32mcontent_type\u001b[0m\u001b[32m=\u001b[0m\u001b[32m'text'\u001b[0m\u001b[32m, \u001b[0m\u001b[32mcontent\u001b[0m\u001b[32m=\u001b[0m\u001b[32m'Please continue'\u001b[0m\u001b[1;32m)\u001b[0m\n"
      ]
     },
     "metadata": {},
     "output_type": "display_data"
    }
   ],
   "source": [
    "# 3. Ask Sara to tell a story\n",
    "\n",
    "await user.chat(\"Tell me a one paragraph story\",\"Sara\") \n",
    "print(\"[User] [bold bright_yellow] Sent message to Sara [/bold bright_yellow]\")\n",
    "\n",
    "# # 4. Ask Diana to continue   \n",
    "\n",
    "await user.chat(\"Please continue\",\"Diana\")\n",
    "print(\"[User] [bold bright_yellow] Sent message to Diana [/bold bright_yellow]\")\n",
    "\n"
   ]
  },
  {
   "cell_type": "markdown",
   "metadata": {},
   "source": [
    "### c) Send broadcast messages"
   ]
  },
  {
   "cell_type": "code",
   "execution_count": 7,
   "metadata": {},
   "outputs": [
    {
     "data": {
      "text/html": [
       "<pre style=\"white-space:pre;overflow-x:auto;line-height:normal;font-family:Menlo,'DejaVu Sans Mono',consolas,'Courier New',monospace\"><span style=\"font-weight: bold\">[</span>User<span style=\"font-weight: bold\">]</span> <span style=\"color: #ffff00; text-decoration-color: #ffff00; font-weight: bold\"> Sent broadcast message </span>\n",
       "</pre>\n"
      ],
      "text/plain": [
       "\u001b[1m[\u001b[0mUser\u001b[1m]\u001b[0m \u001b[1;93m Sent broadcast message \u001b[0m\n"
      ]
     },
     "metadata": {},
     "output_type": "display_data"
    },
    {
     "data": {
      "text/html": [
       "<pre style=\"white-space:pre;overflow-x:auto;line-height:normal;font-family:Menlo,'DejaVu Sans Mono',consolas,'Courier New',monospace\"><span style=\"font-weight: bold\">[</span>Sara<span style=\"font-weight: bold\">]</span> <span style=\"color: #008000; text-decoration-color: #008000\">Handle broadcast message. </span><span style=\"color: #008000; text-decoration-color: #008000\">message</span><span style=\"color: #008000; text-decoration-color: #008000\">=</span><span style=\"color: #008000; text-decoration-color: #008000\">id</span><span style=\"color: #008000; text-decoration-color: #008000\">=</span><span style=\"color: #008000; text-decoration-color: #008000\">'b63b1aad-f190-48d2-87de-e3a9a4946b50'</span><span style=\"color: #008000; text-decoration-color: #008000\"> </span>\n",
       "<span style=\"color: #008000; text-decoration-color: #008000\">header</span><span style=\"color: #008000; text-decoration-color: #008000\">=</span><span style=\"color: #008000; text-decoration-color: #008000; font-weight: bold\">MessageHeaderPydantic</span><span style=\"color: #008000; text-decoration-color: #008000; font-weight: bold\">(</span><span style=\"color: #008000; text-decoration-color: #008000\">sender</span><span style=\"color: #008000; text-decoration-color: #008000\">=</span><span style=\"color: #008000; text-decoration-color: #008000\">'User'</span><span style=\"color: #008000; text-decoration-color: #008000\">, </span><span style=\"color: #008000; text-decoration-color: #008000\">recipient</span><span style=\"color: #008000; text-decoration-color: #008000\">=</span><span style=\"color: #008000; text-decoration-color: #008000\">'*'</span><span style=\"color: #008000; text-decoration-color: #008000\">, </span><span style=\"color: #008000; text-decoration-color: #008000\">timestamp</span><span style=\"color: #008000; text-decoration-color: #008000\">=</span><span style=\"color: #008000; text-decoration-color: #008000; font-weight: bold\">1749569451.8893034</span><span style=\"color: #008000; text-decoration-color: #008000\">, </span><span style=\"color: #008000; text-decoration-color: #008000\">order</span><span style=\"color: #008000; text-decoration-color: #008000\">=</span><span style=\"color: #008000; text-decoration-color: #008000; font-weight: bold\">0</span><span style=\"color: #008000; text-decoration-color: #008000; font-weight: bold\">)</span><span style=\"color: #008000; text-decoration-color: #008000\"> </span>\n",
       "<span style=\"color: #008000; text-decoration-color: #008000\">body</span><span style=\"color: #008000; text-decoration-color: #008000\">=</span><span style=\"color: #008000; text-decoration-color: #008000; font-weight: bold\">SendBodyPydantic</span><span style=\"color: #008000; text-decoration-color: #008000; font-weight: bold\">(</span><span style=\"color: #008000; text-decoration-color: #008000\">type</span><span style=\"color: #008000; text-decoration-color: #008000\">=</span><span style=\"color: #008000; text-decoration-color: #008000\">'send'</span><span style=\"color: #008000; text-decoration-color: #008000\">, </span><span style=\"color: #008000; text-decoration-color: #008000\">dialogue_id</span><span style=\"color: #008000; text-decoration-color: #008000\">=</span><span style=\"color: #008000; text-decoration-color: #008000\">'00000000-0000-0000-0000-000000000000'</span><span style=\"color: #008000; text-decoration-color: #008000\">, </span><span style=\"color: #008000; text-decoration-color: #008000\">message_no</span><span style=\"color: #008000; text-decoration-color: #008000\">=</span><span style=\"color: #008000; text-decoration-color: #008000; font-weight: bold\">51</span><span style=\"color: #008000; text-decoration-color: #008000\">, </span>\n",
       "<span style=\"color: #008000; text-decoration-color: #008000\">message_id</span><span style=\"color: #008000; text-decoration-color: #008000\">=</span><span style=\"color: #008000; text-decoration-color: #008000\">'00000000-0000-0000-0000-000000000000.51'</span><span style=\"color: #008000; text-decoration-color: #008000\">, </span><span style=\"color: #008000; text-decoration-color: #008000\">content_type</span><span style=\"color: #008000; text-decoration-color: #008000\">=</span><span style=\"color: #008000; text-decoration-color: #008000\">'text'</span><span style=\"color: #008000; text-decoration-color: #008000\">, </span><span style=\"color: #008000; text-decoration-color: #008000\">content</span><span style=\"color: #008000; text-decoration-color: #008000\">=</span><span style=\"color: #008000; text-decoration-color: #008000\">'Introduce yourselves'</span><span style=\"color: #008000; text-decoration-color: #008000; font-weight: bold\">)</span>\n",
       "</pre>\n"
      ],
      "text/plain": [
       "\u001b[1m[\u001b[0mSara\u001b[1m]\u001b[0m \u001b[32mHandle broadcast message. \u001b[0m\u001b[32mmessage\u001b[0m\u001b[32m=\u001b[0m\u001b[32mid\u001b[0m\u001b[32m=\u001b[0m\u001b[32m'b63b1aad-f190-48d2-87de-e3a9a4946b50'\u001b[0m\u001b[32m \u001b[0m\n",
       "\u001b[32mheader\u001b[0m\u001b[32m=\u001b[0m\u001b[1;32mMessageHeaderPydantic\u001b[0m\u001b[1;32m(\u001b[0m\u001b[32msender\u001b[0m\u001b[32m=\u001b[0m\u001b[32m'User'\u001b[0m\u001b[32m, \u001b[0m\u001b[32mrecipient\u001b[0m\u001b[32m=\u001b[0m\u001b[32m'*'\u001b[0m\u001b[32m, \u001b[0m\u001b[32mtimestamp\u001b[0m\u001b[32m=\u001b[0m\u001b[1;32m1749569451\u001b[0m\u001b[1;32m.8893034\u001b[0m\u001b[32m, \u001b[0m\u001b[32morder\u001b[0m\u001b[32m=\u001b[0m\u001b[1;32m0\u001b[0m\u001b[1;32m)\u001b[0m\u001b[32m \u001b[0m\n",
       "\u001b[32mbody\u001b[0m\u001b[32m=\u001b[0m\u001b[1;32mSendBodyPydantic\u001b[0m\u001b[1;32m(\u001b[0m\u001b[32mtype\u001b[0m\u001b[32m=\u001b[0m\u001b[32m'send'\u001b[0m\u001b[32m, \u001b[0m\u001b[32mdialogue_id\u001b[0m\u001b[32m=\u001b[0m\u001b[32m'00000000-0000-0000-0000-000000000000'\u001b[0m\u001b[32m, \u001b[0m\u001b[32mmessage_no\u001b[0m\u001b[32m=\u001b[0m\u001b[1;32m51\u001b[0m\u001b[32m, \u001b[0m\n",
       "\u001b[32mmessage_id\u001b[0m\u001b[32m=\u001b[0m\u001b[32m'00000000-0000-0000-0000-000000000000.51'\u001b[0m\u001b[32m, \u001b[0m\u001b[32mcontent_type\u001b[0m\u001b[32m=\u001b[0m\u001b[32m'text'\u001b[0m\u001b[32m, \u001b[0m\u001b[32mcontent\u001b[0m\u001b[32m=\u001b[0m\u001b[32m'Introduce yourselves'\u001b[0m\u001b[1;32m)\u001b[0m\n"
      ]
     },
     "metadata": {},
     "output_type": "display_data"
    },
    {
     "data": {
      "text/html": [
       "<pre style=\"white-space:pre;overflow-x:auto;line-height:normal;font-family:Menlo,'DejaVu Sans Mono',consolas,'Courier New',monospace\"><span style=\"font-weight: bold\">[</span>Diana<span style=\"font-weight: bold\">]</span> <span style=\"color: #008000; text-decoration-color: #008000\">Handle broadcast message. </span><span style=\"color: #008000; text-decoration-color: #008000\">message</span><span style=\"color: #008000; text-decoration-color: #008000\">=</span><span style=\"color: #008000; text-decoration-color: #008000\">id</span><span style=\"color: #008000; text-decoration-color: #008000\">=</span><span style=\"color: #008000; text-decoration-color: #008000\">'b63b1aad-f190-48d2-87de-e3a9a4946b50'</span><span style=\"color: #008000; text-decoration-color: #008000\"> </span>\n",
       "<span style=\"color: #008000; text-decoration-color: #008000\">header</span><span style=\"color: #008000; text-decoration-color: #008000\">=</span><span style=\"color: #008000; text-decoration-color: #008000; font-weight: bold\">MessageHeaderPydantic</span><span style=\"color: #008000; text-decoration-color: #008000; font-weight: bold\">(</span><span style=\"color: #008000; text-decoration-color: #008000\">sender</span><span style=\"color: #008000; text-decoration-color: #008000\">=</span><span style=\"color: #008000; text-decoration-color: #008000\">'User'</span><span style=\"color: #008000; text-decoration-color: #008000\">, </span><span style=\"color: #008000; text-decoration-color: #008000\">recipient</span><span style=\"color: #008000; text-decoration-color: #008000\">=</span><span style=\"color: #008000; text-decoration-color: #008000\">'*'</span><span style=\"color: #008000; text-decoration-color: #008000\">, </span><span style=\"color: #008000; text-decoration-color: #008000\">timestamp</span><span style=\"color: #008000; text-decoration-color: #008000\">=</span><span style=\"color: #008000; text-decoration-color: #008000; font-weight: bold\">1749569451.8893034</span><span style=\"color: #008000; text-decoration-color: #008000\">, </span><span style=\"color: #008000; text-decoration-color: #008000\">order</span><span style=\"color: #008000; text-decoration-color: #008000\">=</span><span style=\"color: #008000; text-decoration-color: #008000; font-weight: bold\">0</span><span style=\"color: #008000; text-decoration-color: #008000; font-weight: bold\">)</span><span style=\"color: #008000; text-decoration-color: #008000\"> </span>\n",
       "<span style=\"color: #008000; text-decoration-color: #008000\">body</span><span style=\"color: #008000; text-decoration-color: #008000\">=</span><span style=\"color: #008000; text-decoration-color: #008000; font-weight: bold\">SendBodyPydantic</span><span style=\"color: #008000; text-decoration-color: #008000; font-weight: bold\">(</span><span style=\"color: #008000; text-decoration-color: #008000\">type</span><span style=\"color: #008000; text-decoration-color: #008000\">=</span><span style=\"color: #008000; text-decoration-color: #008000\">'send'</span><span style=\"color: #008000; text-decoration-color: #008000\">, </span><span style=\"color: #008000; text-decoration-color: #008000\">dialogue_id</span><span style=\"color: #008000; text-decoration-color: #008000\">=</span><span style=\"color: #008000; text-decoration-color: #008000\">'00000000-0000-0000-0000-000000000000'</span><span style=\"color: #008000; text-decoration-color: #008000\">, </span><span style=\"color: #008000; text-decoration-color: #008000\">message_no</span><span style=\"color: #008000; text-decoration-color: #008000\">=</span><span style=\"color: #008000; text-decoration-color: #008000; font-weight: bold\">51</span><span style=\"color: #008000; text-decoration-color: #008000\">, </span>\n",
       "<span style=\"color: #008000; text-decoration-color: #008000\">message_id</span><span style=\"color: #008000; text-decoration-color: #008000\">=</span><span style=\"color: #008000; text-decoration-color: #008000\">'00000000-0000-0000-0000-000000000000.51'</span><span style=\"color: #008000; text-decoration-color: #008000\">, </span><span style=\"color: #008000; text-decoration-color: #008000\">content_type</span><span style=\"color: #008000; text-decoration-color: #008000\">=</span><span style=\"color: #008000; text-decoration-color: #008000\">'text'</span><span style=\"color: #008000; text-decoration-color: #008000\">, </span><span style=\"color: #008000; text-decoration-color: #008000\">content</span><span style=\"color: #008000; text-decoration-color: #008000\">=</span><span style=\"color: #008000; text-decoration-color: #008000\">'Introduce yourselves'</span><span style=\"color: #008000; text-decoration-color: #008000; font-weight: bold\">)</span>\n",
       "</pre>\n"
      ],
      "text/plain": [
       "\u001b[1m[\u001b[0mDiana\u001b[1m]\u001b[0m \u001b[32mHandle broadcast message. \u001b[0m\u001b[32mmessage\u001b[0m\u001b[32m=\u001b[0m\u001b[32mid\u001b[0m\u001b[32m=\u001b[0m\u001b[32m'b63b1aad-f190-48d2-87de-e3a9a4946b50'\u001b[0m\u001b[32m \u001b[0m\n",
       "\u001b[32mheader\u001b[0m\u001b[32m=\u001b[0m\u001b[1;32mMessageHeaderPydantic\u001b[0m\u001b[1;32m(\u001b[0m\u001b[32msender\u001b[0m\u001b[32m=\u001b[0m\u001b[32m'User'\u001b[0m\u001b[32m, \u001b[0m\u001b[32mrecipient\u001b[0m\u001b[32m=\u001b[0m\u001b[32m'*'\u001b[0m\u001b[32m, \u001b[0m\u001b[32mtimestamp\u001b[0m\u001b[32m=\u001b[0m\u001b[1;32m1749569451\u001b[0m\u001b[1;32m.8893034\u001b[0m\u001b[32m, \u001b[0m\u001b[32morder\u001b[0m\u001b[32m=\u001b[0m\u001b[1;32m0\u001b[0m\u001b[1;32m)\u001b[0m\u001b[32m \u001b[0m\n",
       "\u001b[32mbody\u001b[0m\u001b[32m=\u001b[0m\u001b[1;32mSendBodyPydantic\u001b[0m\u001b[1;32m(\u001b[0m\u001b[32mtype\u001b[0m\u001b[32m=\u001b[0m\u001b[32m'send'\u001b[0m\u001b[32m, \u001b[0m\u001b[32mdialogue_id\u001b[0m\u001b[32m=\u001b[0m\u001b[32m'00000000-0000-0000-0000-000000000000'\u001b[0m\u001b[32m, \u001b[0m\u001b[32mmessage_no\u001b[0m\u001b[32m=\u001b[0m\u001b[1;32m51\u001b[0m\u001b[32m, \u001b[0m\n",
       "\u001b[32mmessage_id\u001b[0m\u001b[32m=\u001b[0m\u001b[32m'00000000-0000-0000-0000-000000000000.51'\u001b[0m\u001b[32m, \u001b[0m\u001b[32mcontent_type\u001b[0m\u001b[32m=\u001b[0m\u001b[32m'text'\u001b[0m\u001b[32m, \u001b[0m\u001b[32mcontent\u001b[0m\u001b[32m=\u001b[0m\u001b[32m'Introduce yourselves'\u001b[0m\u001b[1;32m)\u001b[0m\n"
      ]
     },
     "metadata": {},
     "output_type": "display_data"
    }
   ],
   "source": [
    "# 1. Send a broadcast message to all agents\n",
    "\n",
    "await user.chat(\"Introduce yourselves\",\"*\") \n",
    "print(\"[User] [bold bright_yellow] Sent broadcast message [/bold bright_yellow]\")\n",
    "\n"
   ]
  }
 ],
 "metadata": {
  "kernelspec": {
   "display_name": ".venv",
   "language": "python",
   "name": "python3"
  },
  "language_info": {
   "codemirror_mode": {
    "name": "ipython",
    "version": 3
   },
   "file_extension": ".py",
   "mimetype": "text/x-python",
   "name": "python",
   "nbconvert_exporter": "python",
   "pygments_lexer": "ipython3",
   "version": "3.10.18"
  }
 },
 "nbformat": 4,
 "nbformat_minor": 2
}
