{
    "cells": [
        {
            "cell_type": "markdown",
            "id": "52737281",
            "metadata": {},
            "source": [
                "## 1. Default Message"
            ]
        },
        {
            "cell_type": "code",
            "execution_count": 1,
            "id": "bc2c0a8f",
            "metadata": {},
            "outputs": [
                {
                    "name": "stdout",
                    "output_type": "stream",
                    "text": [
                        "id='684537eb-39ba-46ed-9dcc-c7f5cc6774b0' header=MessageHeaderPydantic(sender='User', recipient='Assistant', timestamp=1749748673.905353, order=0) body=DefaultBodyPydantic(type='default', content='Hello, how are you?')\n",
                        "id='61a22f24-89a5-42ad-a920-9f1904b045e9' header=MessageHeaderPydantic(sender='User', recipient='Assistant', timestamp=1749748673.9067647, order=0) body=DefaultBodyPydantic(type='default', content='What is the capital of France?')\n",
                        "id='686dcbf6-0507-4c2c-8396-a3fd2bf48251' header=MessageHeaderPydantic(sender='Assistant', recipient='User', timestamp=1749748673.9071078, order=0) body=DefaultBodyPydantic(type='default', content='The capital of France is Paris.')\n"
                    ]
                },
                {
                    "data": {
                        "text/plain": [
                            "[{'role': 'user', 'content': 'What is the capital of France?'},\n",
                            " {'role': 'assistant', 'content': 'The capital of France is Paris.'}]"
                        ]
                    },
                    "execution_count": 1,
                    "metadata": {},
                    "output_type": "execute_result"
                }
            ],
            "source": [
                "# Without helper\n",
                "\n",
                "from gai.messages.typing import MessagePydantic, DefaultBodyPydantic\n",
                "import time\n",
                "message = MessagePydantic(\n",
                "    **{\n",
                "        \"header\": {\n",
                "            \"sender\": \"User\",\n",
                "            \"recipient\": \"Assistant\",\n",
                "            \"timestamp\": time.time(),\n",
                "        },\n",
                "        \"body\": {\n",
                "            \"type\": \"default\",\n",
                "            \"content\": \"Hello, how are you?\",\n",
                "        }\n",
                "    }\n",
                ")\n",
                "print(message)\n",
                "assert isinstance(message.body,DefaultBodyPydantic)\n",
                "\n",
                "# With helper\n",
                "\n",
                "from gai.messages import create_message, convert_to_chat_messages\n",
                "\n",
                "user_message = create_message(role=\"user\", content=\"What is the capital of France?\")\n",
                "print(user_message)\n",
                "assistant_message = create_message(role=\"assistant\", content=\"The capital of France is Paris.\")\n",
                "print(assistant_message)\n",
                "\n",
                "assert user_message.header.sender == \"User\"\n",
                "assert user_message.header.recipient == \"Assistant\"\n",
                "assert user_message.body.content == \"What is the capital of France?\"\n",
                "\n",
                "assert assistant_message.header.sender == \"Assistant\"\n",
                "assert assistant_message.header.recipient == \"User\"\n",
                "assert assistant_message.body.content == \"The capital of France is Paris.\"\n",
                "\n",
                "gai_messages = [user_message, assistant_message]\n",
                "convert_to_chat_messages(gai_messages)\n"
            ]
        },
        {
            "cell_type": "markdown",
            "id": "a40077d9",
            "metadata": {},
            "source": [
                "## 2. SendMessagePydantic vs ReplyMessagePydantic\n"
            ]
        },
        {
            "cell_type": "code",
            "execution_count": 4,
            "id": "b859e6fb",
            "metadata": {},
            "outputs": [
                {
                    "data": {
                        "text/html": [
                            "<pre style=\"white-space:pre;overflow-x:auto;line-height:normal;font-family:Menlo,'DejaVu Sans Mono',consolas,'Courier New',monospace\"><span style=\"color: #800080; text-decoration-color: #800080; font-weight: bold\">MessagePydantic</span><span style=\"font-weight: bold\">(</span>\n",
                            "    <span style=\"color: #808000; text-decoration-color: #808000\">id</span>=<span style=\"color: #008000; text-decoration-color: #008000\">'40aaf412-efee-4eeb-9c54-db0dda702836'</span>,\n",
                            "    <span style=\"color: #808000; text-decoration-color: #808000\">header</span>=<span style=\"color: #800080; text-decoration-color: #800080; font-weight: bold\">MessageHeaderPydantic</span><span style=\"font-weight: bold\">(</span><span style=\"color: #808000; text-decoration-color: #808000\">sender</span>=<span style=\"color: #008000; text-decoration-color: #008000\">'User'</span>, <span style=\"color: #808000; text-decoration-color: #808000\">recipient</span>=<span style=\"color: #008000; text-decoration-color: #008000\">'Sara'</span>, <span style=\"color: #808000; text-decoration-color: #808000\">timestamp</span>=<span style=\"color: #008080; text-decoration-color: #008080; font-weight: bold\">1749179438.0017743</span>, <span style=\"color: #808000; text-decoration-color: #808000\">order</span>=<span style=\"color: #008080; text-decoration-color: #008080; font-weight: bold\">0</span><span style=\"font-weight: bold\">)</span>,\n",
                            "    <span style=\"color: #808000; text-decoration-color: #808000\">body</span>=<span style=\"color: #800080; text-decoration-color: #800080; font-weight: bold\">SendBodyPydantic</span><span style=\"font-weight: bold\">(</span>\n",
                            "        <span style=\"color: #808000; text-decoration-color: #808000\">type</span>=<span style=\"color: #008000; text-decoration-color: #008000\">'send'</span>,\n",
                            "        <span style=\"color: #808000; text-decoration-color: #808000\">dialogue_id</span>=<span style=\"color: #008000; text-decoration-color: #008000\">'00000000-0000-0000-0000-000000000000'</span>,\n",
                            "        <span style=\"color: #808000; text-decoration-color: #808000\">message_no</span>=<span style=\"color: #008080; text-decoration-color: #008080; font-weight: bold\">6</span>,\n",
                            "        <span style=\"color: #808000; text-decoration-color: #808000\">message_id</span>=<span style=\"color: #008000; text-decoration-color: #008000\">'00000000-0000-0000-0000-000000000000.6'</span>,\n",
                            "        <span style=\"color: #808000; text-decoration-color: #808000\">content_type</span>=<span style=\"color: #008000; text-decoration-color: #008000\">'text'</span>,\n",
                            "        <span style=\"color: #808000; text-decoration-color: #808000\">content</span>=<span style=\"color: #008000; text-decoration-color: #008000\">'Tell me a story about a brave knight.'</span>\n",
                            "    <span style=\"font-weight: bold\">)</span>\n",
                            "<span style=\"font-weight: bold\">)</span>\n",
                            "</pre>\n"
                        ],
                        "text/plain": [
                            "\u001b[1;35mMessagePydantic\u001b[0m\u001b[1m(\u001b[0m\n",
                            "    \u001b[33mid\u001b[0m=\u001b[32m'40aaf412-efee-4eeb-9c54-db0dda702836'\u001b[0m,\n",
                            "    \u001b[33mheader\u001b[0m=\u001b[1;35mMessageHeaderPydantic\u001b[0m\u001b[1m(\u001b[0m\u001b[33msender\u001b[0m=\u001b[32m'User'\u001b[0m, \u001b[33mrecipient\u001b[0m=\u001b[32m'Sara'\u001b[0m, \u001b[33mtimestamp\u001b[0m=\u001b[1;36m1749179438\u001b[0m\u001b[1;36m.0017743\u001b[0m, \u001b[33morder\u001b[0m=\u001b[1;36m0\u001b[0m\u001b[1m)\u001b[0m,\n",
                            "    \u001b[33mbody\u001b[0m=\u001b[1;35mSendBodyPydantic\u001b[0m\u001b[1m(\u001b[0m\n",
                            "        \u001b[33mtype\u001b[0m=\u001b[32m'send'\u001b[0m,\n",
                            "        \u001b[33mdialogue_id\u001b[0m=\u001b[32m'00000000-0000-0000-0000-000000000000'\u001b[0m,\n",
                            "        \u001b[33mmessage_no\u001b[0m=\u001b[1;36m6\u001b[0m,\n",
                            "        \u001b[33mmessage_id\u001b[0m=\u001b[32m'00000000-0000-0000-0000-000000000000.6'\u001b[0m,\n",
                            "        \u001b[33mcontent_type\u001b[0m=\u001b[32m'text'\u001b[0m,\n",
                            "        \u001b[33mcontent\u001b[0m=\u001b[32m'Tell me a story about a brave knight.'\u001b[0m\n",
                            "    \u001b[1m)\u001b[0m\n",
                            "\u001b[1m)\u001b[0m\n"
                        ]
                    },
                    "metadata": {},
                    "output_type": "display_data"
                },
                {
                    "data": {
                        "text/html": [
                            "<pre style=\"white-space:pre;overflow-x:auto;line-height:normal;font-family:Menlo,'DejaVu Sans Mono',consolas,'Courier New',monospace\"><span style=\"color: #800080; text-decoration-color: #800080; font-weight: bold\">MessagePydantic</span><span style=\"font-weight: bold\">(</span>\n",
                            "    <span style=\"color: #808000; text-decoration-color: #808000\">id</span>=<span style=\"color: #008000; text-decoration-color: #008000\">'cbefa02b-114e-439d-b4ef-839c1a04876a'</span>,\n",
                            "    <span style=\"color: #808000; text-decoration-color: #808000\">header</span>=<span style=\"color: #800080; text-decoration-color: #800080; font-weight: bold\">MessageHeaderPydantic</span><span style=\"font-weight: bold\">(</span><span style=\"color: #808000; text-decoration-color: #808000\">sender</span>=<span style=\"color: #008000; text-decoration-color: #008000\">'Sara'</span>, <span style=\"color: #808000; text-decoration-color: #808000\">recipient</span>=<span style=\"color: #008000; text-decoration-color: #008000\">'User'</span>, <span style=\"color: #808000; text-decoration-color: #808000\">timestamp</span>=<span style=\"color: #008080; text-decoration-color: #008080; font-weight: bold\">1749179438.0215435</span>, <span style=\"color: #808000; text-decoration-color: #808000\">order</span>=<span style=\"color: #008080; text-decoration-color: #008080; font-weight: bold\">0</span><span style=\"font-weight: bold\">)</span>,\n",
                            "    <span style=\"color: #808000; text-decoration-color: #808000\">body</span>=<span style=\"color: #800080; text-decoration-color: #800080; font-weight: bold\">ReplyBodyPydantic</span><span style=\"font-weight: bold\">(</span>\n",
                            "        <span style=\"color: #808000; text-decoration-color: #808000\">type</span>=<span style=\"color: #008000; text-decoration-color: #008000\">'reply'</span>,\n",
                            "        <span style=\"color: #808000; text-decoration-color: #808000\">dialogue_id</span>=<span style=\"color: #008000; text-decoration-color: #008000\">'00000000-0000-0000-0000-000000000000'</span>,\n",
                            "        <span style=\"color: #808000; text-decoration-color: #808000\">message_no</span>=<span style=\"color: #008080; text-decoration-color: #008080; font-weight: bold\">7</span>,\n",
                            "        <span style=\"color: #808000; text-decoration-color: #808000\">message_id</span>=<span style=\"color: #008000; text-decoration-color: #008000\">'00000000-0000-0000-0000-000000000000.7'</span>,\n",
                            "        <span style=\"color: #808000; text-decoration-color: #808000\">chunk_no</span>=<span style=\"color: #008080; text-decoration-color: #008080; font-weight: bold\">0</span>,\n",
                            "        <span style=\"color: #808000; text-decoration-color: #808000\">chunk</span>=<span style=\"color: #008000; text-decoration-color: #008000\">'&lt;eom&gt;'</span>,\n",
                            "        <span style=\"color: #808000; text-decoration-color: #808000\">content_type</span>=<span style=\"color: #008000; text-decoration-color: #008000\">'text'</span>,\n",
                            "        <span style=\"color: #808000; text-decoration-color: #808000\">content</span>=<span style=\"color: #008000; text-decoration-color: #008000\">'Once upon a time, a brave knight saved a kingdom from a dragon.'</span>\n",
                            "    <span style=\"font-weight: bold\">)</span>\n",
                            "<span style=\"font-weight: bold\">)</span>\n",
                            "</pre>\n"
                        ],
                        "text/plain": [
                            "\u001b[1;35mMessagePydantic\u001b[0m\u001b[1m(\u001b[0m\n",
                            "    \u001b[33mid\u001b[0m=\u001b[32m'cbefa02b-114e-439d-b4ef-839c1a04876a'\u001b[0m,\n",
                            "    \u001b[33mheader\u001b[0m=\u001b[1;35mMessageHeaderPydantic\u001b[0m\u001b[1m(\u001b[0m\u001b[33msender\u001b[0m=\u001b[32m'Sara'\u001b[0m, \u001b[33mrecipient\u001b[0m=\u001b[32m'User'\u001b[0m, \u001b[33mtimestamp\u001b[0m=\u001b[1;36m1749179438\u001b[0m\u001b[1;36m.0215435\u001b[0m, \u001b[33morder\u001b[0m=\u001b[1;36m0\u001b[0m\u001b[1m)\u001b[0m,\n",
                            "    \u001b[33mbody\u001b[0m=\u001b[1;35mReplyBodyPydantic\u001b[0m\u001b[1m(\u001b[0m\n",
                            "        \u001b[33mtype\u001b[0m=\u001b[32m'reply'\u001b[0m,\n",
                            "        \u001b[33mdialogue_id\u001b[0m=\u001b[32m'00000000-0000-0000-0000-000000000000'\u001b[0m,\n",
                            "        \u001b[33mmessage_no\u001b[0m=\u001b[1;36m7\u001b[0m,\n",
                            "        \u001b[33mmessage_id\u001b[0m=\u001b[32m'00000000-0000-0000-0000-000000000000.7'\u001b[0m,\n",
                            "        \u001b[33mchunk_no\u001b[0m=\u001b[1;36m0\u001b[0m,\n",
                            "        \u001b[33mchunk\u001b[0m=\u001b[32m'\u001b[0m\u001b[32m<\u001b[0m\u001b[32meom\u001b[0m\u001b[32m>\u001b[0m\u001b[32m'\u001b[0m,\n",
                            "        \u001b[33mcontent_type\u001b[0m=\u001b[32m'text'\u001b[0m,\n",
                            "        \u001b[33mcontent\u001b[0m=\u001b[32m'Once upon a time, a brave knight saved a kingdom from a dragon.'\u001b[0m\n",
                            "    \u001b[1m)\u001b[0m\n",
                            "\u001b[1m)\u001b[0m\n"
                        ]
                    },
                    "metadata": {},
                    "output_type": "display_data"
                },
                {
                    "data": {
                        "text/plain": [
                            "[{'role': 'user', 'content': 'Tell me a story about a brave knight.'},\n",
                            " {'role': 'assistant',\n",
                            "  'content': 'Once upon a time, a brave knight saved a kingdom from a dragon.'}]"
                        ]
                    },
                    "execution_count": 4,
                    "metadata": {},
                    "output_type": "execute_result"
                }
            ],
            "source": [
                "from gai.messages import create_user_send_message,create_assistant_reply_chunk, convert_to_chat_messages\n",
                "user_message = create_user_send_message(\n",
                "    recipient=\"Sara\",\n",
                "    content=\"Tell me a story about a brave knight.\",\n",
                ")\n",
                "print(user_message)\n",
                "assistant_message = create_assistant_reply_chunk(sender=\"Sara\",recipient=\"User\", chunk_no=0, chunk=\"<eom>\", content=\"Once upon a time, a brave knight saved a kingdom from a dragon.\")\n",
                "print(assistant_message)\n",
                "\n",
                "assert user_message.header.sender == \"User\"\n",
                "assert user_message.header.recipient == \"Sara\"\n",
                "assert user_message.body.content == \"Tell me a story about a brave knight.\"\n",
                "\n",
                "assert assistant_message.header.sender == \"Sara\"\n",
                "assert assistant_message.header.recipient == \"User\"\n",
                "assert assistant_message.body.content == \"Once upon a time, a brave knight saved a kingdom from a dragon.\"\n",
                "\n",
                "gai_messages = [user_message, assistant_message]\n",
                "convert_to_chat_messages(gai_messages)\n",
                "\n"
            ]
        },
        {
            "cell_type": "markdown",
            "id": "3d1f6d3b",
            "metadata": {},
            "source": [
                "## 3. Serialization and Deserialization"
            ]
        },
        {
            "cell_type": "code",
            "execution_count": 5,
            "id": "da1dc82e",
            "metadata": {},
            "outputs": [
                {
                    "data": {
                        "text/html": [
                            "<pre style=\"white-space:pre;overflow-x:auto;line-height:normal;font-family:Menlo,'DejaVu Sans Mono',consolas,'Courier New',monospace\"><span style=\"font-weight: bold\">[</span>\n",
                            "    <span style=\"font-weight: bold\">{</span>\n",
                            "        <span style=\"color: #008000; text-decoration-color: #008000\">\"id\"</span>: <span style=\"color: #008000; text-decoration-color: #008000\">\"48b1e41a-b9fc-4e8f-bb3c-c559ad489a96\"</span>,\n",
                            "        <span style=\"color: #008000; text-decoration-color: #008000\">\"header\"</span>: <span style=\"font-weight: bold\">{</span>\n",
                            "            <span style=\"color: #008000; text-decoration-color: #008000\">\"sender\"</span>: <span style=\"color: #008000; text-decoration-color: #008000\">\"User\"</span>,\n",
                            "            <span style=\"color: #008000; text-decoration-color: #008000\">\"recipient\"</span>: <span style=\"color: #008000; text-decoration-color: #008000\">\"Sara\"</span>,\n",
                            "            <span style=\"color: #008000; text-decoration-color: #008000\">\"timestamp\"</span>: <span style=\"color: #008080; text-decoration-color: #008080; font-weight: bold\">1749179438.0490005</span>,\n",
                            "            <span style=\"color: #008000; text-decoration-color: #008000\">\"order\"</span>: <span style=\"color: #008080; text-decoration-color: #008080; font-weight: bold\">0</span>\n",
                            "        <span style=\"font-weight: bold\">}</span>,\n",
                            "        <span style=\"color: #008000; text-decoration-color: #008000\">\"body\"</span>: <span style=\"font-weight: bold\">{</span>\n",
                            "            <span style=\"color: #008000; text-decoration-color: #008000\">\"type\"</span>: <span style=\"color: #008000; text-decoration-color: #008000\">\"send\"</span>,\n",
                            "            <span style=\"color: #008000; text-decoration-color: #008000\">\"dialogue_id\"</span>: <span style=\"color: #008000; text-decoration-color: #008000\">\"00000000-0000-0000-0000-000000000000\"</span>,\n",
                            "            <span style=\"color: #008000; text-decoration-color: #008000\">\"message_no\"</span>: <span style=\"color: #008080; text-decoration-color: #008080; font-weight: bold\">8</span>,\n",
                            "            <span style=\"color: #008000; text-decoration-color: #008000\">\"message_id\"</span>: <span style=\"color: #008000; text-decoration-color: #008000\">\"00000000-0000-0000-0000-000000000000.8\"</span>,\n",
                            "            <span style=\"color: #008000; text-decoration-color: #008000\">\"content_type\"</span>: <span style=\"color: #008000; text-decoration-color: #008000\">\"text\"</span>,\n",
                            "            <span style=\"color: #008000; text-decoration-color: #008000\">\"content\"</span>: <span style=\"color: #008000; text-decoration-color: #008000\">\"Tell me a story about a brave knight.\"</span>\n",
                            "        <span style=\"font-weight: bold\">}</span>\n",
                            "    <span style=\"font-weight: bold\">}</span>,\n",
                            "    <span style=\"font-weight: bold\">{</span>\n",
                            "        <span style=\"color: #008000; text-decoration-color: #008000\">\"id\"</span>: <span style=\"color: #008000; text-decoration-color: #008000\">\"5db5f27c-9bf6-48bf-bd64-3d82edb4cb6a\"</span>,\n",
                            "        <span style=\"color: #008000; text-decoration-color: #008000\">\"header\"</span>: <span style=\"font-weight: bold\">{</span>\n",
                            "            <span style=\"color: #008000; text-decoration-color: #008000\">\"sender\"</span>: <span style=\"color: #008000; text-decoration-color: #008000\">\"Sara\"</span>,\n",
                            "            <span style=\"color: #008000; text-decoration-color: #008000\">\"recipient\"</span>: <span style=\"color: #008000; text-decoration-color: #008000\">\"User\"</span>,\n",
                            "            <span style=\"color: #008000; text-decoration-color: #008000\">\"timestamp\"</span>: <span style=\"color: #008080; text-decoration-color: #008080; font-weight: bold\">1749179438.049156</span>,\n",
                            "            <span style=\"color: #008000; text-decoration-color: #008000\">\"order\"</span>: <span style=\"color: #008080; text-decoration-color: #008080; font-weight: bold\">0</span>\n",
                            "        <span style=\"font-weight: bold\">}</span>,\n",
                            "        <span style=\"color: #008000; text-decoration-color: #008000\">\"body\"</span>: <span style=\"font-weight: bold\">{</span>\n",
                            "            <span style=\"color: #008000; text-decoration-color: #008000\">\"type\"</span>: <span style=\"color: #008000; text-decoration-color: #008000\">\"reply\"</span>,\n",
                            "            <span style=\"color: #008000; text-decoration-color: #008000\">\"dialogue_id\"</span>: <span style=\"color: #008000; text-decoration-color: #008000\">\"00000000-0000-0000-0000-000000000000\"</span>,\n",
                            "            <span style=\"color: #008000; text-decoration-color: #008000\">\"message_no\"</span>: <span style=\"color: #008080; text-decoration-color: #008080; font-weight: bold\">9</span>,\n",
                            "            <span style=\"color: #008000; text-decoration-color: #008000\">\"message_id\"</span>: <span style=\"color: #008000; text-decoration-color: #008000\">\"00000000-0000-0000-0000-000000000000.9\"</span>,\n",
                            "            <span style=\"color: #008000; text-decoration-color: #008000\">\"chunk_no\"</span>: <span style=\"color: #008080; text-decoration-color: #008080; font-weight: bold\">0</span>,\n",
                            "            <span style=\"color: #008000; text-decoration-color: #008000\">\"chunk\"</span>: <span style=\"color: #008000; text-decoration-color: #008000\">\"&lt;eom&gt;\"</span>,\n",
                            "            <span style=\"color: #008000; text-decoration-color: #008000\">\"content_type\"</span>: <span style=\"color: #008000; text-decoration-color: #008000\">\"text\"</span>,\n",
                            "            <span style=\"color: #008000; text-decoration-color: #008000\">\"content\"</span>: <span style=\"color: #008000; text-decoration-color: #008000\">\"Once upon a time, a brave knight saved a kingdom from a dragon.\"</span>\n",
                            "        <span style=\"font-weight: bold\">}</span>\n",
                            "    <span style=\"font-weight: bold\">}</span>\n",
                            "<span style=\"font-weight: bold\">]</span>\n",
                            "</pre>\n"
                        ],
                        "text/plain": [
                            "\u001b[1m[\u001b[0m\n",
                            "    \u001b[1m{\u001b[0m\n",
                            "        \u001b[32m\"id\"\u001b[0m: \u001b[32m\"48b1e41a-b9fc-4e8f-bb3c-c559ad489a96\"\u001b[0m,\n",
                            "        \u001b[32m\"header\"\u001b[0m: \u001b[1m{\u001b[0m\n",
                            "            \u001b[32m\"sender\"\u001b[0m: \u001b[32m\"User\"\u001b[0m,\n",
                            "            \u001b[32m\"recipient\"\u001b[0m: \u001b[32m\"Sara\"\u001b[0m,\n",
                            "            \u001b[32m\"timestamp\"\u001b[0m: \u001b[1;36m1749179438.0490005\u001b[0m,\n",
                            "            \u001b[32m\"order\"\u001b[0m: \u001b[1;36m0\u001b[0m\n",
                            "        \u001b[1m}\u001b[0m,\n",
                            "        \u001b[32m\"body\"\u001b[0m: \u001b[1m{\u001b[0m\n",
                            "            \u001b[32m\"type\"\u001b[0m: \u001b[32m\"send\"\u001b[0m,\n",
                            "            \u001b[32m\"dialogue_id\"\u001b[0m: \u001b[32m\"00000000-0000-0000-0000-000000000000\"\u001b[0m,\n",
                            "            \u001b[32m\"message_no\"\u001b[0m: \u001b[1;36m8\u001b[0m,\n",
                            "            \u001b[32m\"message_id\"\u001b[0m: \u001b[32m\"00000000-0000-0000-0000-000000000000.8\"\u001b[0m,\n",
                            "            \u001b[32m\"content_type\"\u001b[0m: \u001b[32m\"text\"\u001b[0m,\n",
                            "            \u001b[32m\"content\"\u001b[0m: \u001b[32m\"Tell me a story about a brave knight.\"\u001b[0m\n",
                            "        \u001b[1m}\u001b[0m\n",
                            "    \u001b[1m}\u001b[0m,\n",
                            "    \u001b[1m{\u001b[0m\n",
                            "        \u001b[32m\"id\"\u001b[0m: \u001b[32m\"5db5f27c-9bf6-48bf-bd64-3d82edb4cb6a\"\u001b[0m,\n",
                            "        \u001b[32m\"header\"\u001b[0m: \u001b[1m{\u001b[0m\n",
                            "            \u001b[32m\"sender\"\u001b[0m: \u001b[32m\"Sara\"\u001b[0m,\n",
                            "            \u001b[32m\"recipient\"\u001b[0m: \u001b[32m\"User\"\u001b[0m,\n",
                            "            \u001b[32m\"timestamp\"\u001b[0m: \u001b[1;36m1749179438.049156\u001b[0m,\n",
                            "            \u001b[32m\"order\"\u001b[0m: \u001b[1;36m0\u001b[0m\n",
                            "        \u001b[1m}\u001b[0m,\n",
                            "        \u001b[32m\"body\"\u001b[0m: \u001b[1m{\u001b[0m\n",
                            "            \u001b[32m\"type\"\u001b[0m: \u001b[32m\"reply\"\u001b[0m,\n",
                            "            \u001b[32m\"dialogue_id\"\u001b[0m: \u001b[32m\"00000000-0000-0000-0000-000000000000\"\u001b[0m,\n",
                            "            \u001b[32m\"message_no\"\u001b[0m: \u001b[1;36m9\u001b[0m,\n",
                            "            \u001b[32m\"message_id\"\u001b[0m: \u001b[32m\"00000000-0000-0000-0000-000000000000.9\"\u001b[0m,\n",
                            "            \u001b[32m\"chunk_no\"\u001b[0m: \u001b[1;36m0\u001b[0m,\n",
                            "            \u001b[32m\"chunk\"\u001b[0m: \u001b[32m\"\u001b[0m\u001b[32m<\u001b[0m\u001b[32meom\u001b[0m\u001b[32m>\u001b[0m\u001b[32m\"\u001b[0m,\n",
                            "            \u001b[32m\"content_type\"\u001b[0m: \u001b[32m\"text\"\u001b[0m,\n",
                            "            \u001b[32m\"content\"\u001b[0m: \u001b[32m\"Once upon a time, a brave knight saved a kingdom from a dragon.\"\u001b[0m\n",
                            "        \u001b[1m}\u001b[0m\n",
                            "    \u001b[1m}\u001b[0m\n",
                            "\u001b[1m]\u001b[0m\n"
                        ]
                    },
                    "metadata": {},
                    "output_type": "display_data"
                },
                {
                    "data": {
                        "text/html": [
                            "<pre style=\"white-space:pre;overflow-x:auto;line-height:normal;font-family:Menlo,'DejaVu Sans Mono',consolas,'Courier New',monospace\"><span style=\"font-weight: bold\">[</span>\n",
                            "    <span style=\"color: #800080; text-decoration-color: #800080; font-weight: bold\">MessagePydantic</span><span style=\"font-weight: bold\">(</span>\n",
                            "        <span style=\"color: #808000; text-decoration-color: #808000\">id</span>=<span style=\"color: #008000; text-decoration-color: #008000\">'48b1e41a-b9fc-4e8f-bb3c-c559ad489a96'</span>,\n",
                            "        <span style=\"color: #808000; text-decoration-color: #808000\">header</span>=<span style=\"color: #800080; text-decoration-color: #800080; font-weight: bold\">MessageHeaderPydantic</span><span style=\"font-weight: bold\">(</span><span style=\"color: #808000; text-decoration-color: #808000\">sender</span>=<span style=\"color: #008000; text-decoration-color: #008000\">'User'</span>, <span style=\"color: #808000; text-decoration-color: #808000\">recipient</span>=<span style=\"color: #008000; text-decoration-color: #008000\">'Sara'</span>, <span style=\"color: #808000; text-decoration-color: #808000\">timestamp</span>=<span style=\"color: #008080; text-decoration-color: #008080; font-weight: bold\">1749179438.0490005</span>, <span style=\"color: #808000; text-decoration-color: #808000\">order</span>=<span style=\"color: #008080; text-decoration-color: #008080; font-weight: bold\">0</span><span style=\"font-weight: bold\">)</span>,\n",
                            "        <span style=\"color: #808000; text-decoration-color: #808000\">body</span>=<span style=\"color: #800080; text-decoration-color: #800080; font-weight: bold\">SendBodyPydantic</span><span style=\"font-weight: bold\">(</span>\n",
                            "            <span style=\"color: #808000; text-decoration-color: #808000\">type</span>=<span style=\"color: #008000; text-decoration-color: #008000\">'send'</span>,\n",
                            "            <span style=\"color: #808000; text-decoration-color: #808000\">dialogue_id</span>=<span style=\"color: #008000; text-decoration-color: #008000\">'00000000-0000-0000-0000-000000000000'</span>,\n",
                            "            <span style=\"color: #808000; text-decoration-color: #808000\">message_no</span>=<span style=\"color: #008080; text-decoration-color: #008080; font-weight: bold\">10</span>,\n",
                            "            <span style=\"color: #808000; text-decoration-color: #808000\">message_id</span>=<span style=\"color: #008000; text-decoration-color: #008000\">'00000000-0000-0000-0000-000000000000.10'</span>,\n",
                            "            <span style=\"color: #808000; text-decoration-color: #808000\">content_type</span>=<span style=\"color: #008000; text-decoration-color: #008000\">'text'</span>,\n",
                            "            <span style=\"color: #808000; text-decoration-color: #808000\">content</span>=<span style=\"color: #008000; text-decoration-color: #008000\">'Tell me a story about a brave knight.'</span>\n",
                            "        <span style=\"font-weight: bold\">)</span>\n",
                            "    <span style=\"font-weight: bold\">)</span>,\n",
                            "    <span style=\"color: #800080; text-decoration-color: #800080; font-weight: bold\">MessagePydantic</span><span style=\"font-weight: bold\">(</span>\n",
                            "        <span style=\"color: #808000; text-decoration-color: #808000\">id</span>=<span style=\"color: #008000; text-decoration-color: #008000\">'5db5f27c-9bf6-48bf-bd64-3d82edb4cb6a'</span>,\n",
                            "        <span style=\"color: #808000; text-decoration-color: #808000\">header</span>=<span style=\"color: #800080; text-decoration-color: #800080; font-weight: bold\">MessageHeaderPydantic</span><span style=\"font-weight: bold\">(</span><span style=\"color: #808000; text-decoration-color: #808000\">sender</span>=<span style=\"color: #008000; text-decoration-color: #008000\">'Sara'</span>, <span style=\"color: #808000; text-decoration-color: #808000\">recipient</span>=<span style=\"color: #008000; text-decoration-color: #008000\">'User'</span>, <span style=\"color: #808000; text-decoration-color: #808000\">timestamp</span>=<span style=\"color: #008080; text-decoration-color: #008080; font-weight: bold\">1749179438.049156</span>, <span style=\"color: #808000; text-decoration-color: #808000\">order</span>=<span style=\"color: #008080; text-decoration-color: #008080; font-weight: bold\">0</span><span style=\"font-weight: bold\">)</span>,\n",
                            "        <span style=\"color: #808000; text-decoration-color: #808000\">body</span>=<span style=\"color: #800080; text-decoration-color: #800080; font-weight: bold\">ReplyBodyPydantic</span><span style=\"font-weight: bold\">(</span>\n",
                            "            <span style=\"color: #808000; text-decoration-color: #808000\">type</span>=<span style=\"color: #008000; text-decoration-color: #008000\">'reply'</span>,\n",
                            "            <span style=\"color: #808000; text-decoration-color: #808000\">dialogue_id</span>=<span style=\"color: #008000; text-decoration-color: #008000\">'00000000-0000-0000-0000-000000000000'</span>,\n",
                            "            <span style=\"color: #808000; text-decoration-color: #808000\">message_no</span>=<span style=\"color: #008080; text-decoration-color: #008080; font-weight: bold\">11</span>,\n",
                            "            <span style=\"color: #808000; text-decoration-color: #808000\">message_id</span>=<span style=\"color: #008000; text-decoration-color: #008000\">'00000000-0000-0000-0000-000000000000.11'</span>,\n",
                            "            <span style=\"color: #808000; text-decoration-color: #808000\">chunk_no</span>=<span style=\"color: #008080; text-decoration-color: #008080; font-weight: bold\">0</span>,\n",
                            "            <span style=\"color: #808000; text-decoration-color: #808000\">chunk</span>=<span style=\"color: #008000; text-decoration-color: #008000\">'&lt;eom&gt;'</span>,\n",
                            "            <span style=\"color: #808000; text-decoration-color: #808000\">content_type</span>=<span style=\"color: #008000; text-decoration-color: #008000\">'text'</span>,\n",
                            "            <span style=\"color: #808000; text-decoration-color: #808000\">content</span>=<span style=\"color: #008000; text-decoration-color: #008000\">'Once upon a time, a brave knight saved a kingdom from a dragon.'</span>\n",
                            "        <span style=\"font-weight: bold\">)</span>\n",
                            "    <span style=\"font-weight: bold\">)</span>\n",
                            "<span style=\"font-weight: bold\">]</span>\n",
                            "</pre>\n"
                        ],
                        "text/plain": [
                            "\u001b[1m[\u001b[0m\n",
                            "    \u001b[1;35mMessagePydantic\u001b[0m\u001b[1m(\u001b[0m\n",
                            "        \u001b[33mid\u001b[0m=\u001b[32m'48b1e41a-b9fc-4e8f-bb3c-c559ad489a96'\u001b[0m,\n",
                            "        \u001b[33mheader\u001b[0m=\u001b[1;35mMessageHeaderPydantic\u001b[0m\u001b[1m(\u001b[0m\u001b[33msender\u001b[0m=\u001b[32m'User'\u001b[0m, \u001b[33mrecipient\u001b[0m=\u001b[32m'Sara'\u001b[0m, \u001b[33mtimestamp\u001b[0m=\u001b[1;36m1749179438\u001b[0m\u001b[1;36m.0490005\u001b[0m, \u001b[33morder\u001b[0m=\u001b[1;36m0\u001b[0m\u001b[1m)\u001b[0m,\n",
                            "        \u001b[33mbody\u001b[0m=\u001b[1;35mSendBodyPydantic\u001b[0m\u001b[1m(\u001b[0m\n",
                            "            \u001b[33mtype\u001b[0m=\u001b[32m'send'\u001b[0m,\n",
                            "            \u001b[33mdialogue_id\u001b[0m=\u001b[32m'00000000-0000-0000-0000-000000000000'\u001b[0m,\n",
                            "            \u001b[33mmessage_no\u001b[0m=\u001b[1;36m10\u001b[0m,\n",
                            "            \u001b[33mmessage_id\u001b[0m=\u001b[32m'00000000-0000-0000-0000-000000000000.10'\u001b[0m,\n",
                            "            \u001b[33mcontent_type\u001b[0m=\u001b[32m'text'\u001b[0m,\n",
                            "            \u001b[33mcontent\u001b[0m=\u001b[32m'Tell me a story about a brave knight.'\u001b[0m\n",
                            "        \u001b[1m)\u001b[0m\n",
                            "    \u001b[1m)\u001b[0m,\n",
                            "    \u001b[1;35mMessagePydantic\u001b[0m\u001b[1m(\u001b[0m\n",
                            "        \u001b[33mid\u001b[0m=\u001b[32m'5db5f27c-9bf6-48bf-bd64-3d82edb4cb6a'\u001b[0m,\n",
                            "        \u001b[33mheader\u001b[0m=\u001b[1;35mMessageHeaderPydantic\u001b[0m\u001b[1m(\u001b[0m\u001b[33msender\u001b[0m=\u001b[32m'Sara'\u001b[0m, \u001b[33mrecipient\u001b[0m=\u001b[32m'User'\u001b[0m, \u001b[33mtimestamp\u001b[0m=\u001b[1;36m1749179438\u001b[0m\u001b[1;36m.049156\u001b[0m, \u001b[33morder\u001b[0m=\u001b[1;36m0\u001b[0m\u001b[1m)\u001b[0m,\n",
                            "        \u001b[33mbody\u001b[0m=\u001b[1;35mReplyBodyPydantic\u001b[0m\u001b[1m(\u001b[0m\n",
                            "            \u001b[33mtype\u001b[0m=\u001b[32m'reply'\u001b[0m,\n",
                            "            \u001b[33mdialogue_id\u001b[0m=\u001b[32m'00000000-0000-0000-0000-000000000000'\u001b[0m,\n",
                            "            \u001b[33mmessage_no\u001b[0m=\u001b[1;36m11\u001b[0m,\n",
                            "            \u001b[33mmessage_id\u001b[0m=\u001b[32m'00000000-0000-0000-0000-000000000000.11'\u001b[0m,\n",
                            "            \u001b[33mchunk_no\u001b[0m=\u001b[1;36m0\u001b[0m,\n",
                            "            \u001b[33mchunk\u001b[0m=\u001b[32m'\u001b[0m\u001b[32m<\u001b[0m\u001b[32meom\u001b[0m\u001b[32m>\u001b[0m\u001b[32m'\u001b[0m,\n",
                            "            \u001b[33mcontent_type\u001b[0m=\u001b[32m'text'\u001b[0m,\n",
                            "            \u001b[33mcontent\u001b[0m=\u001b[32m'Once upon a time, a brave knight saved a kingdom from a dragon.'\u001b[0m\n",
                            "        \u001b[1m)\u001b[0m\n",
                            "    \u001b[1m)\u001b[0m\n",
                            "\u001b[1m]\u001b[0m\n"
                        ]
                    },
                    "metadata": {},
                    "output_type": "display_data"
                }
            ],
            "source": [
                "from gai.messages import create_user_send_message,create_assistant_reply_chunk, convert_to_chat_messages,json,unjson\n",
                "from gai.messages.typing import ReplyBodyPydantic, SendBodyPydantic\n",
                "user_message = create_user_send_message(\n",
                "    recipient=\"Sara\",\n",
                "    content=\"Tell me a story about a brave knight.\",\n",
                ")\n",
                "assistant_message = create_assistant_reply_chunk(sender=\"Sara\",recipient=\"User\", chunk_no=0, chunk=\"<eom>\", content=\"Once upon a time, a brave knight saved a kingdom from a dragon.\")\n",
                "gai_messages = [user_message, assistant_message]\n",
                "\n",
                "# Convert array to JSON\n",
                "jsoned = json(gai_messages)\n",
                "print(jsoned)\n",
                "\n",
                "# Convert JSON back as array and should not lose resolution\n",
                "gai_messages_again = unjson(jsoned)\n",
                "print(gai_messages_again)\n",
                "assert gai_messages_again[0].header.sender == \"User\"\n",
                "assert gai_messages_again[0].header.recipient == \"Sara\"\n",
                "assert isinstance(gai_messages_again[0].body, SendBodyPydantic)\n",
                "\n",
                "assert gai_messages_again[1].header.sender == \"Sara\"\n",
                "assert gai_messages_again[1].header.recipient == \"User\"\n",
                "assert isinstance(gai_messages_again[1].body, ReplyBodyPydantic)\n",
                "\n"
            ]
        },
        {
            "cell_type": "markdown",
            "id": "e89bf4df",
            "metadata": {},
            "source": [
                "---\n",
                "\n",
                "## 2. Async Message Bus\n",
                "\n",
                "### a) Quick Start - Publish to LLM"
            ]
        },
        {
            "cell_type": "code",
            "execution_count": 3,
            "id": "b3785394",
            "metadata": {},
            "outputs": [
                {
                    "data": {
                        "text/html": [
                            "<pre style=\"white-space:pre;overflow-x:auto;line-height:normal;font-family:Menlo,'DejaVu Sans Mono',consolas,'Courier New',monospace\">Bus is ready.\n",
                            "</pre>\n"
                        ],
                        "text/plain": [
                            "Bus is ready.\n"
                        ]
                    },
                    "metadata": {},
                    "output_type": "display_data"
                },
                {
                    "data": {
                        "text/html": [
                            "<pre style=\"white-space:pre;overflow-x:auto;line-height:normal;font-family:Menlo,'DejaVu Sans Mono',consolas,'Courier New',monospace\">Reply from Assistant: <span style=\"color: #008000; text-decoration-color: #008000\">Hello! I'm known as Assistant. How can I help you today?</span>\n",
                            "</pre>\n"
                        ],
                        "text/plain": [
                            "Reply from Assistant: \u001b[32mHello! I'm known as Assistant. How can I help you today?\u001b[0m\n"
                        ]
                    },
                    "metadata": {},
                    "output_type": "display_data"
                }
            ],
            "source": [
                "from gai.messages import (\n",
                "    MessagePydantic, \n",
                "    AsyncMessageBus, \n",
                "    create_user_send_message,\n",
                "    create_assistant_reply_chunk\n",
                ")    \n",
                "from rich import print\n",
                "\n",
                "amb = AsyncMessageBus()\n",
                "\n",
                "# 1. Start the background bus loop\n",
                "\n",
                "await amb.start()\n",
                "print(\"Bus is ready.\")\n",
                "\n",
                "# 2. Subscribe and handle send to LLM\n",
                "\n",
                "async def handle_send(msg: MessagePydantic):\n",
                "    \n",
                "    # Forward user message to LLM\n",
                "    \n",
                "    from gai.llm.openai import OpenAI\n",
                "    client = OpenAI(client_config={\"model\":\"gpt-4o-mini\"})\n",
                "    resp = client.chat.completions.create(\n",
                "        model=\"gpt-4o-mini\",\n",
                "        messages=[{\"role\":\"user\",\"content\":msg.body.content}],\n",
                "        max_tokens=100\n",
                "        )\n",
                "    \n",
                "    # Forward LLM response to user\n",
                "    \n",
                "    await amb.publish(\n",
                "        create_assistant_reply_chunk(\n",
                "            sender=msg.header.recipient,  \n",
                "            recipient=msg.header.sender,\n",
                "            chunk_no=0,\n",
                "            chunk=\"<eom>\",\n",
                "            content=resp.choices[0].message.content,\n",
                "        )\n",
                "    )\n",
                "await amb.subscribe(\"send\", {\"Alice\": handle_send})\n",
                "    \n",
                "# 3. Subscribe and handle replies    \n",
                "\n",
                "async def handle_reply(msg: MessagePydantic):\n",
                "    print(f\"Reply from {msg.header.sender}: [green]{msg.body.content}[/]\")\n",
                "await amb.subscribe(\"reply\", {\"User\": handle_reply})\n",
                "\n",
                "# 4. Publish a message to the bus\n",
                "\n",
                "msg = create_user_send_message(content=\"Hello, what is your name?\")\n",
                "await amb.publish(msg)\n"
            ]
        },
        {
            "cell_type": "markdown",
            "id": "a9271291",
            "metadata": {},
            "source": [
                "\n",
                "### b) Same Message Type - Multiple Subscribers"
            ]
        },
        {
            "cell_type": "code",
            "execution_count": 1,
            "id": "1a74ef5a",
            "metadata": {},
            "outputs": [
                {
                    "data": {
                        "text/html": [
                            "<pre style=\"white-space:pre;overflow-x:auto;line-height:normal;font-family:Menlo,'DejaVu Sans Mono',consolas,'Courier New',monospace\">Bus is ready.\n",
                            "</pre>\n"
                        ],
                        "text/plain": [
                            "Bus is ready.\n"
                        ]
                    },
                    "metadata": {},
                    "output_type": "display_data"
                },
                {
                    "data": {
                        "text/html": [
                            "<pre style=\"white-space:pre;overflow-x:auto;line-height:normal;font-family:Menlo,'DejaVu Sans Mono',consolas,'Courier New',monospace\">Subscribed to message type <span style=\"color: #008000; text-decoration-color: #008000\">'alpha'</span>\n",
                            "</pre>\n"
                        ],
                        "text/plain": [
                            "Subscribed to message type \u001b[32m'alpha'\u001b[0m\n"
                        ]
                    },
                    "metadata": {},
                    "output_type": "display_data"
                },
                {
                    "data": {
                        "text/html": [
                            "<pre style=\"white-space:pre;overflow-x:auto;line-height:normal;font-family:Menlo,'DejaVu Sans Mono',consolas,'Courier New',monospace\">Publishing message.\n",
                            "</pre>\n"
                        ],
                        "text/plain": [
                            "Publishing message.\n"
                        ]
                    },
                    "metadata": {},
                    "output_type": "display_data"
                },
                {
                    "data": {
                        "text/html": [
                            "<pre style=\"white-space:pre;overflow-x:auto;line-height:normal;font-family:Menlo,'DejaVu Sans Mono',consolas,'Courier New',monospace\">Message published.\n",
                            "</pre>\n"
                        ],
                        "text/plain": [
                            "Message published.\n"
                        ]
                    },
                    "metadata": {},
                    "output_type": "display_data"
                },
                {
                    "data": {
                        "text/html": [
                            "<pre style=\"white-space:pre;overflow-x:auto;line-height:normal;font-family:Menlo,'DejaVu Sans Mono',consolas,'Courier New',monospace\"><span style=\"color: #ffff00; text-decoration-color: #ffff00\"> handler_1 &gt; </span><span style=\"color: #ffff00; text-decoration-color: #ffff00\">id</span><span style=\"color: #ffff00; text-decoration-color: #ffff00\">=</span><span style=\"color: #ffff00; text-decoration-color: #ffff00\">'3630a374-dda7-4805-b982-f691f0034ac0'</span><span style=\"color: #ffff00; text-decoration-color: #ffff00\"> </span><span style=\"color: #ffff00; text-decoration-color: #ffff00\">header</span><span style=\"color: #ffff00; text-decoration-color: #ffff00\">=</span><span style=\"color: #ffff00; text-decoration-color: #ffff00; font-weight: bold\">MessageHeaderPydantic</span><span style=\"color: #ffff00; text-decoration-color: #ffff00; font-weight: bold\">(</span><span style=\"color: #ffff00; text-decoration-color: #ffff00\">sender</span><span style=\"color: #ffff00; text-decoration-color: #ffff00\">=</span><span style=\"color: #ffff00; text-decoration-color: #ffff00\">'User'</span><span style=\"color: #ffff00; text-decoration-color: #ffff00\">, </span>\n",
                            "<span style=\"color: #ffff00; text-decoration-color: #ffff00\">recipient</span><span style=\"color: #ffff00; text-decoration-color: #ffff00\">=</span><span style=\"color: #ffff00; text-decoration-color: #ffff00\">'Assistant'</span><span style=\"color: #ffff00; text-decoration-color: #ffff00\">, </span><span style=\"color: #ffff00; text-decoration-color: #ffff00\">timestamp</span><span style=\"color: #ffff00; text-decoration-color: #ffff00\">=</span><span style=\"color: #ffff00; text-decoration-color: #ffff00; font-weight: bold\">1749180766.9110599</span><span style=\"color: #ffff00; text-decoration-color: #ffff00\">, </span><span style=\"color: #ffff00; text-decoration-color: #ffff00\">order</span><span style=\"color: #ffff00; text-decoration-color: #ffff00\">=</span><span style=\"color: #ffff00; text-decoration-color: #ffff00; font-weight: bold\">0</span><span style=\"color: #ffff00; text-decoration-color: #ffff00; font-weight: bold\">)</span><span style=\"color: #ffff00; text-decoration-color: #ffff00\"> </span><span style=\"color: #ffff00; text-decoration-color: #ffff00\">body</span><span style=\"color: #ffff00; text-decoration-color: #ffff00\">=</span><span style=\"color: #ffff00; text-decoration-color: #ffff00; font-weight: bold\">SendBodyPydantic</span><span style=\"color: #ffff00; text-decoration-color: #ffff00; font-weight: bold\">(</span><span style=\"color: #ffff00; text-decoration-color: #ffff00\">type</span><span style=\"color: #ffff00; text-decoration-color: #ffff00\">=</span><span style=\"color: #ffff00; text-decoration-color: #ffff00\">'send'</span><span style=\"color: #ffff00; text-decoration-color: #ffff00\">, </span>\n",
                            "<span style=\"color: #ffff00; text-decoration-color: #ffff00\">dialogue_id</span><span style=\"color: #ffff00; text-decoration-color: #ffff00\">=</span><span style=\"color: #ffff00; text-decoration-color: #ffff00\">'00000000-0000-0000-0000-000000000000'</span><span style=\"color: #ffff00; text-decoration-color: #ffff00\">, </span><span style=\"color: #ffff00; text-decoration-color: #ffff00\">message_no</span><span style=\"color: #ffff00; text-decoration-color: #ffff00\">=</span><span style=\"color: #ffff00; text-decoration-color: #ffff00; font-weight: bold\">1</span><span style=\"color: #ffff00; text-decoration-color: #ffff00\">, </span>\n",
                            "<span style=\"color: #ffff00; text-decoration-color: #ffff00\">message_id</span><span style=\"color: #ffff00; text-decoration-color: #ffff00\">=</span><span style=\"color: #ffff00; text-decoration-color: #ffff00\">'00000000-0000-0000-0000-000000000000.1'</span><span style=\"color: #ffff00; text-decoration-color: #ffff00\">, </span><span style=\"color: #ffff00; text-decoration-color: #ffff00\">content_type</span><span style=\"color: #ffff00; text-decoration-color: #ffff00\">=</span><span style=\"color: #ffff00; text-decoration-color: #ffff00\">'text'</span><span style=\"color: #ffff00; text-decoration-color: #ffff00\">, </span><span style=\"color: #ffff00; text-decoration-color: #ffff00\">content</span><span style=\"color: #ffff00; text-decoration-color: #ffff00\">=</span><span style=\"color: #ffff00; text-decoration-color: #ffff00\">'Hello, what is your name?'</span><span style=\"color: #ffff00; text-decoration-color: #ffff00; font-weight: bold\">)</span>\n",
                            "</pre>\n"
                        ],
                        "text/plain": [
                            "\u001b[93m handler_1 > \u001b[0m\u001b[93mid\u001b[0m\u001b[93m=\u001b[0m\u001b[93m'3630a374-dda7-4805-b982-f691f0034ac0'\u001b[0m\u001b[93m \u001b[0m\u001b[93mheader\u001b[0m\u001b[93m=\u001b[0m\u001b[1;93mMessageHeaderPydantic\u001b[0m\u001b[1;93m(\u001b[0m\u001b[93msender\u001b[0m\u001b[93m=\u001b[0m\u001b[93m'User'\u001b[0m\u001b[93m, \u001b[0m\n",
                            "\u001b[93mrecipient\u001b[0m\u001b[93m=\u001b[0m\u001b[93m'Assistant'\u001b[0m\u001b[93m, \u001b[0m\u001b[93mtimestamp\u001b[0m\u001b[93m=\u001b[0m\u001b[1;93m1749180766\u001b[0m\u001b[1;93m.9110599\u001b[0m\u001b[93m, \u001b[0m\u001b[93morder\u001b[0m\u001b[93m=\u001b[0m\u001b[1;93m0\u001b[0m\u001b[1;93m)\u001b[0m\u001b[93m \u001b[0m\u001b[93mbody\u001b[0m\u001b[93m=\u001b[0m\u001b[1;93mSendBodyPydantic\u001b[0m\u001b[1;93m(\u001b[0m\u001b[93mtype\u001b[0m\u001b[93m=\u001b[0m\u001b[93m'send'\u001b[0m\u001b[93m, \u001b[0m\n",
                            "\u001b[93mdialogue_id\u001b[0m\u001b[93m=\u001b[0m\u001b[93m'00000000-0000-0000-0000-000000000000'\u001b[0m\u001b[93m, \u001b[0m\u001b[93mmessage_no\u001b[0m\u001b[93m=\u001b[0m\u001b[1;93m1\u001b[0m\u001b[93m, \u001b[0m\n",
                            "\u001b[93mmessage_id\u001b[0m\u001b[93m=\u001b[0m\u001b[93m'00000000-0000-0000-0000-000000000000.1'\u001b[0m\u001b[93m, \u001b[0m\u001b[93mcontent_type\u001b[0m\u001b[93m=\u001b[0m\u001b[93m'text'\u001b[0m\u001b[93m, \u001b[0m\u001b[93mcontent\u001b[0m\u001b[93m=\u001b[0m\u001b[93m'Hello, what is your name?'\u001b[0m\u001b[1;93m)\u001b[0m\n"
                        ]
                    },
                    "metadata": {},
                    "output_type": "display_data"
                },
                {
                    "data": {
                        "text/html": [
                            "<pre style=\"white-space:pre;overflow-x:auto;line-height:normal;font-family:Menlo,'DejaVu Sans Mono',consolas,'Courier New',monospace\"><span style=\"color: #00ff00; text-decoration-color: #00ff00\"> handler_2 &gt; </span><span style=\"color: #00ff00; text-decoration-color: #00ff00\">id</span><span style=\"color: #00ff00; text-decoration-color: #00ff00\">=</span><span style=\"color: #00ff00; text-decoration-color: #00ff00\">'3630a374-dda7-4805-b982-f691f0034ac0'</span><span style=\"color: #00ff00; text-decoration-color: #00ff00\"> </span><span style=\"color: #00ff00; text-decoration-color: #00ff00\">header</span><span style=\"color: #00ff00; text-decoration-color: #00ff00\">=</span><span style=\"color: #00ff00; text-decoration-color: #00ff00; font-weight: bold\">MessageHeaderPydantic</span><span style=\"color: #00ff00; text-decoration-color: #00ff00; font-weight: bold\">(</span><span style=\"color: #00ff00; text-decoration-color: #00ff00\">sender</span><span style=\"color: #00ff00; text-decoration-color: #00ff00\">=</span><span style=\"color: #00ff00; text-decoration-color: #00ff00\">'User'</span><span style=\"color: #00ff00; text-decoration-color: #00ff00\">, </span>\n",
                            "<span style=\"color: #00ff00; text-decoration-color: #00ff00\">recipient</span><span style=\"color: #00ff00; text-decoration-color: #00ff00\">=</span><span style=\"color: #00ff00; text-decoration-color: #00ff00\">'Assistant'</span><span style=\"color: #00ff00; text-decoration-color: #00ff00\">, </span><span style=\"color: #00ff00; text-decoration-color: #00ff00\">timestamp</span><span style=\"color: #00ff00; text-decoration-color: #00ff00\">=</span><span style=\"color: #00ff00; text-decoration-color: #00ff00; font-weight: bold\">1749180766.9110599</span><span style=\"color: #00ff00; text-decoration-color: #00ff00\">, </span><span style=\"color: #00ff00; text-decoration-color: #00ff00\">order</span><span style=\"color: #00ff00; text-decoration-color: #00ff00\">=</span><span style=\"color: #00ff00; text-decoration-color: #00ff00; font-weight: bold\">0</span><span style=\"color: #00ff00; text-decoration-color: #00ff00; font-weight: bold\">)</span><span style=\"color: #00ff00; text-decoration-color: #00ff00\"> </span><span style=\"color: #00ff00; text-decoration-color: #00ff00\">body</span><span style=\"color: #00ff00; text-decoration-color: #00ff00\">=</span><span style=\"color: #00ff00; text-decoration-color: #00ff00; font-weight: bold\">SendBodyPydantic</span><span style=\"color: #00ff00; text-decoration-color: #00ff00; font-weight: bold\">(</span><span style=\"color: #00ff00; text-decoration-color: #00ff00\">type</span><span style=\"color: #00ff00; text-decoration-color: #00ff00\">=</span><span style=\"color: #00ff00; text-decoration-color: #00ff00\">'send'</span><span style=\"color: #00ff00; text-decoration-color: #00ff00\">, </span>\n",
                            "<span style=\"color: #00ff00; text-decoration-color: #00ff00\">dialogue_id</span><span style=\"color: #00ff00; text-decoration-color: #00ff00\">=</span><span style=\"color: #00ff00; text-decoration-color: #00ff00\">'00000000-0000-0000-0000-000000000000'</span><span style=\"color: #00ff00; text-decoration-color: #00ff00\">, </span><span style=\"color: #00ff00; text-decoration-color: #00ff00\">message_no</span><span style=\"color: #00ff00; text-decoration-color: #00ff00\">=</span><span style=\"color: #00ff00; text-decoration-color: #00ff00; font-weight: bold\">1</span><span style=\"color: #00ff00; text-decoration-color: #00ff00\">, </span>\n",
                            "<span style=\"color: #00ff00; text-decoration-color: #00ff00\">message_id</span><span style=\"color: #00ff00; text-decoration-color: #00ff00\">=</span><span style=\"color: #00ff00; text-decoration-color: #00ff00\">'00000000-0000-0000-0000-000000000000.1'</span><span style=\"color: #00ff00; text-decoration-color: #00ff00\">, </span><span style=\"color: #00ff00; text-decoration-color: #00ff00\">content_type</span><span style=\"color: #00ff00; text-decoration-color: #00ff00\">=</span><span style=\"color: #00ff00; text-decoration-color: #00ff00\">'text'</span><span style=\"color: #00ff00; text-decoration-color: #00ff00\">, </span><span style=\"color: #00ff00; text-decoration-color: #00ff00\">content</span><span style=\"color: #00ff00; text-decoration-color: #00ff00\">=</span><span style=\"color: #00ff00; text-decoration-color: #00ff00\">'Hello, what is your name?'</span><span style=\"color: #00ff00; text-decoration-color: #00ff00; font-weight: bold\">)</span>\n",
                            "</pre>\n"
                        ],
                        "text/plain": [
                            "\u001b[92m handler_2 > \u001b[0m\u001b[92mid\u001b[0m\u001b[92m=\u001b[0m\u001b[92m'3630a374-dda7-4805-b982-f691f0034ac0'\u001b[0m\u001b[92m \u001b[0m\u001b[92mheader\u001b[0m\u001b[92m=\u001b[0m\u001b[1;92mMessageHeaderPydantic\u001b[0m\u001b[1;92m(\u001b[0m\u001b[92msender\u001b[0m\u001b[92m=\u001b[0m\u001b[92m'User'\u001b[0m\u001b[92m, \u001b[0m\n",
                            "\u001b[92mrecipient\u001b[0m\u001b[92m=\u001b[0m\u001b[92m'Assistant'\u001b[0m\u001b[92m, \u001b[0m\u001b[92mtimestamp\u001b[0m\u001b[92m=\u001b[0m\u001b[1;92m1749180766\u001b[0m\u001b[1;92m.9110599\u001b[0m\u001b[92m, \u001b[0m\u001b[92morder\u001b[0m\u001b[92m=\u001b[0m\u001b[1;92m0\u001b[0m\u001b[1;92m)\u001b[0m\u001b[92m \u001b[0m\u001b[92mbody\u001b[0m\u001b[92m=\u001b[0m\u001b[1;92mSendBodyPydantic\u001b[0m\u001b[1;92m(\u001b[0m\u001b[92mtype\u001b[0m\u001b[92m=\u001b[0m\u001b[92m'send'\u001b[0m\u001b[92m, \u001b[0m\n",
                            "\u001b[92mdialogue_id\u001b[0m\u001b[92m=\u001b[0m\u001b[92m'00000000-0000-0000-0000-000000000000'\u001b[0m\u001b[92m, \u001b[0m\u001b[92mmessage_no\u001b[0m\u001b[92m=\u001b[0m\u001b[1;92m1\u001b[0m\u001b[92m, \u001b[0m\n",
                            "\u001b[92mmessage_id\u001b[0m\u001b[92m=\u001b[0m\u001b[92m'00000000-0000-0000-0000-000000000000.1'\u001b[0m\u001b[92m, \u001b[0m\u001b[92mcontent_type\u001b[0m\u001b[92m=\u001b[0m\u001b[92m'text'\u001b[0m\u001b[92m, \u001b[0m\u001b[92mcontent\u001b[0m\u001b[92m=\u001b[0m\u001b[92m'Hello, what is your name?'\u001b[0m\u001b[1;92m)\u001b[0m\n"
                        ]
                    },
                    "metadata": {},
                    "output_type": "display_data"
                },
                {
                    "data": {
                        "text/html": [
                            "<pre style=\"white-space:pre;overflow-x:auto;line-height:normal;font-family:Menlo,'DejaVu Sans Mono',consolas,'Courier New',monospace\">Bus stopped.\n",
                            "</pre>\n"
                        ],
                        "text/plain": [
                            "Bus stopped.\n"
                        ]
                    },
                    "metadata": {},
                    "output_type": "display_data"
                }
            ],
            "source": [
                "\n",
                "import asyncio\n",
                "from gai.messages import MessagePydantic, AsyncMessageBus, create_user_send_message\n",
                "from rich import print\n",
                "\n",
                "amb = AsyncMessageBus()\n",
                "\n",
                "# 1. Start the background bus loop\n",
                "await amb.start()\n",
                "print(\"Bus is ready.\")\n",
                "\n",
                "# 2. Create 2 handlers to show multiple subscriptions to the same message type\n",
                "\n",
                "async def handler_1(msg: MessagePydantic):\n",
                "    print(f\"[bright_yellow] handler_1 > {msg}[/bright_yellow]\")\n",
                "\n",
                "async def handler_2(msg: MessagePydantic):\n",
                "    print(f\"[bright_green] handler_2 > {msg}[/bright_green]\")\n",
                "\n",
                "# 2. Subscribe the callback to the message type=\"send\"\n",
                "\n",
                "await amb.subscribe(\"send\", {\"Alice\": handler_1})\n",
                "await amb.subscribe(\"send\", {\"Bob\":handler_2})\n",
                "print(\"Subscribed to message type 'send'\")\n",
                "\n",
                "# 4. Confirm the bus is started and publish a message\n",
                "\n",
                "if not amb.is_started:\n",
                "    raise RuntimeError(\"Bus is not started, cannot publish message.\")\n",
                "\n",
                "msg = create_user_send_message(\n",
                "    recipient=\"Assistant\",\n",
                "    content=\"Hello, what is your name?\"\n",
                "    )\n",
                "\n",
                "print(\"Publishing message.\")\n",
                "await amb.publish(msg)\n",
                "print(\"Message published.\")\n",
                "await asyncio.sleep(0.1)  # Give time for the message to be processed\n",
                "\n",
                "# 5. Wait a little for message to be received before cancelling task\n",
                "await amb.stop()\n",
                "\n",
                "print(\"Bus stopped.\")\n"
            ]
        },
        {
            "cell_type": "markdown",
            "id": "8412a233",
            "metadata": {},
            "source": [
                "### b) Multiple Message Type - One Subscriber"
            ]
        },
        {
            "cell_type": "code",
            "execution_count": 5,
            "id": "f28877e7",
            "metadata": {},
            "outputs": [
                {
                    "data": {
                        "text/html": [
                            "<pre style=\"white-space:pre;overflow-x:auto;line-height:normal;font-family:Menlo,'DejaVu Sans Mono',consolas,'Courier New',monospace\">Bus is ready.\n",
                            "</pre>\n"
                        ],
                        "text/plain": [
                            "Bus is ready.\n"
                        ]
                    },
                    "metadata": {},
                    "output_type": "display_data"
                },
                {
                    "data": {
                        "text/html": [
                            "<pre style=\"white-space:pre;overflow-x:auto;line-height:normal;font-family:Menlo,'DejaVu Sans Mono',consolas,'Courier New',monospace\">Subscribed to send and reply message types\n",
                            "</pre>\n"
                        ],
                        "text/plain": [
                            "Subscribed to send and reply message types\n"
                        ]
                    },
                    "metadata": {},
                    "output_type": "display_data"
                },
                {
                    "data": {
                        "text/html": [
                            "<pre style=\"white-space:pre;overflow-x:auto;line-height:normal;font-family:Menlo,'DejaVu Sans Mono',consolas,'Courier New',monospace\">Publishing send message.\n",
                            "</pre>\n"
                        ],
                        "text/plain": [
                            "Publishing send message.\n"
                        ]
                    },
                    "metadata": {},
                    "output_type": "display_data"
                },
                {
                    "data": {
                        "text/html": [
                            "<pre style=\"white-space:pre;overflow-x:auto;line-height:normal;font-family:Menlo,'DejaVu Sans Mono',consolas,'Courier New',monospace\">Send message published.\n",
                            "</pre>\n"
                        ],
                        "text/plain": [
                            "Send message published.\n"
                        ]
                    },
                    "metadata": {},
                    "output_type": "display_data"
                },
                {
                    "data": {
                        "text/html": [
                            "<pre style=\"white-space:pre;overflow-x:auto;line-height:normal;font-family:Menlo,'DejaVu Sans Mono',consolas,'Courier New',monospace\">Publishing reply message.\n",
                            "</pre>\n"
                        ],
                        "text/plain": [
                            "Publishing reply message.\n"
                        ]
                    },
                    "metadata": {},
                    "output_type": "display_data"
                },
                {
                    "data": {
                        "text/html": [
                            "<pre style=\"white-space:pre;overflow-x:auto;line-height:normal;font-family:Menlo,'DejaVu Sans Mono',consolas,'Courier New',monospace\">Reply message published.\n",
                            "</pre>\n"
                        ],
                        "text/plain": [
                            "Reply message published.\n"
                        ]
                    },
                    "metadata": {},
                    "output_type": "display_data"
                },
                {
                    "data": {
                        "text/html": [
                            "<pre style=\"white-space:pre;overflow-x:auto;line-height:normal;font-family:Menlo,'DejaVu Sans Mono',consolas,'Courier New',monospace\"><span style=\"color: #ffff00; text-decoration-color: #ffff00; font-weight: bold\">Send Message Received: </span><span style=\"color: #ffff00; text-decoration-color: #ffff00; font-weight: bold\">id</span><span style=\"color: #ffff00; text-decoration-color: #ffff00; font-weight: bold\">=</span><span style=\"color: #ffff00; text-decoration-color: #ffff00; font-weight: bold\">'c590e19b-dea6-4fdb-8271-73368580756a'</span><span style=\"color: #ffff00; text-decoration-color: #ffff00; font-weight: bold\"> </span><span style=\"color: #ffff00; text-decoration-color: #ffff00; font-weight: bold\">header</span><span style=\"color: #ffff00; text-decoration-color: #ffff00; font-weight: bold\">=</span><span style=\"color: #ffff00; text-decoration-color: #ffff00; font-weight: bold\">MessageHeaderPydantic</span><span style=\"color: #ffff00; text-decoration-color: #ffff00; font-weight: bold\">(</span><span style=\"color: #ffff00; text-decoration-color: #ffff00; font-weight: bold\">sender</span><span style=\"color: #ffff00; text-decoration-color: #ffff00; font-weight: bold\">=</span><span style=\"color: #ffff00; text-decoration-color: #ffff00; font-weight: bold\">'User'</span><span style=\"color: #ffff00; text-decoration-color: #ffff00; font-weight: bold\">, </span>\n",
                            "<span style=\"color: #ffff00; text-decoration-color: #ffff00; font-weight: bold\">recipient</span><span style=\"color: #ffff00; text-decoration-color: #ffff00; font-weight: bold\">=</span><span style=\"color: #ffff00; text-decoration-color: #ffff00; font-weight: bold\">'Assistant'</span><span style=\"color: #ffff00; text-decoration-color: #ffff00; font-weight: bold\">, </span><span style=\"color: #ffff00; text-decoration-color: #ffff00; font-weight: bold\">timestamp</span><span style=\"color: #ffff00; text-decoration-color: #ffff00; font-weight: bold\">=</span><span style=\"color: #ffff00; text-decoration-color: #ffff00; font-weight: bold\">1749181012.3732293</span><span style=\"color: #ffff00; text-decoration-color: #ffff00; font-weight: bold\">, </span><span style=\"color: #ffff00; text-decoration-color: #ffff00; font-weight: bold\">order</span><span style=\"color: #ffff00; text-decoration-color: #ffff00; font-weight: bold\">=</span><span style=\"color: #ffff00; text-decoration-color: #ffff00; font-weight: bold\">0</span><span style=\"color: #ffff00; text-decoration-color: #ffff00; font-weight: bold\">) </span><span style=\"color: #ffff00; text-decoration-color: #ffff00; font-weight: bold\">body</span><span style=\"color: #ffff00; text-decoration-color: #ffff00; font-weight: bold\">=</span><span style=\"color: #ffff00; text-decoration-color: #ffff00; font-weight: bold\">SendBodyPydantic</span><span style=\"color: #ffff00; text-decoration-color: #ffff00; font-weight: bold\">(</span><span style=\"color: #ffff00; text-decoration-color: #ffff00; font-weight: bold\">type</span><span style=\"color: #ffff00; text-decoration-color: #ffff00; font-weight: bold\">=</span><span style=\"color: #ffff00; text-decoration-color: #ffff00; font-weight: bold\">'send'</span><span style=\"color: #ffff00; text-decoration-color: #ffff00; font-weight: bold\">, </span>\n",
                            "<span style=\"color: #ffff00; text-decoration-color: #ffff00; font-weight: bold\">dialogue_id</span><span style=\"color: #ffff00; text-decoration-color: #ffff00; font-weight: bold\">=</span><span style=\"color: #ffff00; text-decoration-color: #ffff00; font-weight: bold\">'00000000-0000-0000-0000-000000000000'</span><span style=\"color: #ffff00; text-decoration-color: #ffff00; font-weight: bold\">, </span><span style=\"color: #ffff00; text-decoration-color: #ffff00; font-weight: bold\">message_no</span><span style=\"color: #ffff00; text-decoration-color: #ffff00; font-weight: bold\">=</span><span style=\"color: #ffff00; text-decoration-color: #ffff00; font-weight: bold\">4</span><span style=\"color: #ffff00; text-decoration-color: #ffff00; font-weight: bold\">, </span>\n",
                            "<span style=\"color: #ffff00; text-decoration-color: #ffff00; font-weight: bold\">message_id</span><span style=\"color: #ffff00; text-decoration-color: #ffff00; font-weight: bold\">=</span><span style=\"color: #ffff00; text-decoration-color: #ffff00; font-weight: bold\">'00000000-0000-0000-0000-000000000000.4'</span><span style=\"color: #ffff00; text-decoration-color: #ffff00; font-weight: bold\">, </span><span style=\"color: #ffff00; text-decoration-color: #ffff00; font-weight: bold\">content_type</span><span style=\"color: #ffff00; text-decoration-color: #ffff00; font-weight: bold\">=</span><span style=\"color: #ffff00; text-decoration-color: #ffff00; font-weight: bold\">'text'</span><span style=\"color: #ffff00; text-decoration-color: #ffff00; font-weight: bold\">, </span><span style=\"color: #ffff00; text-decoration-color: #ffff00; font-weight: bold\">content</span><span style=\"color: #ffff00; text-decoration-color: #ffff00; font-weight: bold\">=</span><span style=\"color: #ffff00; text-decoration-color: #ffff00; font-weight: bold\">'Tell me a one sentence story.'</span><span style=\"color: #ffff00; text-decoration-color: #ffff00; font-weight: bold\">)</span>\n",
                            "</pre>\n"
                        ],
                        "text/plain": [
                            "\u001b[1;93mSend Message Received: \u001b[0m\u001b[1;93mid\u001b[0m\u001b[1;93m=\u001b[0m\u001b[1;93m'c590e19b-dea6-4fdb-8271-73368580756a'\u001b[0m\u001b[1;93m \u001b[0m\u001b[1;93mheader\u001b[0m\u001b[1;93m=\u001b[0m\u001b[1;93mMessageHeaderPydantic\u001b[0m\u001b[1;93m(\u001b[0m\u001b[1;93msender\u001b[0m\u001b[1;93m=\u001b[0m\u001b[1;93m'User'\u001b[0m\u001b[1;93m, \u001b[0m\n",
                            "\u001b[1;93mrecipient\u001b[0m\u001b[1;93m=\u001b[0m\u001b[1;93m'Assistant'\u001b[0m\u001b[1;93m, \u001b[0m\u001b[1;93mtimestamp\u001b[0m\u001b[1;93m=\u001b[0m\u001b[1;93m1749181012\u001b[0m\u001b[1;93m.3732293\u001b[0m\u001b[1;93m, \u001b[0m\u001b[1;93morder\u001b[0m\u001b[1;93m=\u001b[0m\u001b[1;93m0\u001b[0m\u001b[1;93m)\u001b[0m\u001b[1;93m \u001b[0m\u001b[1;93mbody\u001b[0m\u001b[1;93m=\u001b[0m\u001b[1;93mSendBodyPydantic\u001b[0m\u001b[1;93m(\u001b[0m\u001b[1;93mtype\u001b[0m\u001b[1;93m=\u001b[0m\u001b[1;93m'send'\u001b[0m\u001b[1;93m, \u001b[0m\n",
                            "\u001b[1;93mdialogue_id\u001b[0m\u001b[1;93m=\u001b[0m\u001b[1;93m'00000000-0000-0000-0000-000000000000'\u001b[0m\u001b[1;93m, \u001b[0m\u001b[1;93mmessage_no\u001b[0m\u001b[1;93m=\u001b[0m\u001b[1;93m4\u001b[0m\u001b[1;93m, \u001b[0m\n",
                            "\u001b[1;93mmessage_id\u001b[0m\u001b[1;93m=\u001b[0m\u001b[1;93m'00000000-0000-0000-0000-000000000000.4'\u001b[0m\u001b[1;93m, \u001b[0m\u001b[1;93mcontent_type\u001b[0m\u001b[1;93m=\u001b[0m\u001b[1;93m'text'\u001b[0m\u001b[1;93m, \u001b[0m\u001b[1;93mcontent\u001b[0m\u001b[1;93m=\u001b[0m\u001b[1;93m'Tell me a one sentence story.'\u001b[0m\u001b[1;93m)\u001b[0m\n"
                        ]
                    },
                    "metadata": {},
                    "output_type": "display_data"
                },
                {
                    "data": {
                        "text/html": [
                            "<pre style=\"white-space:pre;overflow-x:auto;line-height:normal;font-family:Menlo,'DejaVu Sans Mono',consolas,'Courier New',monospace\"><span style=\"color: #00ff00; text-decoration-color: #00ff00; font-weight: bold\">Send Message Received: </span><span style=\"color: #00ff00; text-decoration-color: #00ff00; font-weight: bold\">id</span><span style=\"color: #00ff00; text-decoration-color: #00ff00; font-weight: bold\">=</span><span style=\"color: #00ff00; text-decoration-color: #00ff00; font-weight: bold\">'a84401e7-1ced-4070-a677-551bf10b6910'</span><span style=\"color: #00ff00; text-decoration-color: #00ff00; font-weight: bold\"> </span><span style=\"color: #00ff00; text-decoration-color: #00ff00; font-weight: bold\">header</span><span style=\"color: #00ff00; text-decoration-color: #00ff00; font-weight: bold\">=</span><span style=\"color: #00ff00; text-decoration-color: #00ff00; font-weight: bold\">MessageHeaderPydantic</span><span style=\"color: #00ff00; text-decoration-color: #00ff00; font-weight: bold\">(</span><span style=\"color: #00ff00; text-decoration-color: #00ff00; font-weight: bold\">sender</span><span style=\"color: #00ff00; text-decoration-color: #00ff00; font-weight: bold\">=</span><span style=\"color: #00ff00; text-decoration-color: #00ff00; font-weight: bold\">'Sara'</span><span style=\"color: #00ff00; text-decoration-color: #00ff00; font-weight: bold\">, </span>\n",
                            "<span style=\"color: #00ff00; text-decoration-color: #00ff00; font-weight: bold\">recipient</span><span style=\"color: #00ff00; text-decoration-color: #00ff00; font-weight: bold\">=</span><span style=\"color: #00ff00; text-decoration-color: #00ff00; font-weight: bold\">'User'</span><span style=\"color: #00ff00; text-decoration-color: #00ff00; font-weight: bold\">, </span><span style=\"color: #00ff00; text-decoration-color: #00ff00; font-weight: bold\">timestamp</span><span style=\"color: #00ff00; text-decoration-color: #00ff00; font-weight: bold\">=</span><span style=\"color: #00ff00; text-decoration-color: #00ff00; font-weight: bold\">1749181012.3782616</span><span style=\"color: #00ff00; text-decoration-color: #00ff00; font-weight: bold\">, </span><span style=\"color: #00ff00; text-decoration-color: #00ff00; font-weight: bold\">order</span><span style=\"color: #00ff00; text-decoration-color: #00ff00; font-weight: bold\">=</span><span style=\"color: #00ff00; text-decoration-color: #00ff00; font-weight: bold\">0</span><span style=\"color: #00ff00; text-decoration-color: #00ff00; font-weight: bold\">) </span><span style=\"color: #00ff00; text-decoration-color: #00ff00; font-weight: bold\">body</span><span style=\"color: #00ff00; text-decoration-color: #00ff00; font-weight: bold\">=</span><span style=\"color: #00ff00; text-decoration-color: #00ff00; font-weight: bold\">ReplyBodyPydantic</span><span style=\"color: #00ff00; text-decoration-color: #00ff00; font-weight: bold\">(</span><span style=\"color: #00ff00; text-decoration-color: #00ff00; font-weight: bold\">type</span><span style=\"color: #00ff00; text-decoration-color: #00ff00; font-weight: bold\">=</span><span style=\"color: #00ff00; text-decoration-color: #00ff00; font-weight: bold\">'reply'</span><span style=\"color: #00ff00; text-decoration-color: #00ff00; font-weight: bold\">, </span>\n",
                            "<span style=\"color: #00ff00; text-decoration-color: #00ff00; font-weight: bold\">dialogue_id</span><span style=\"color: #00ff00; text-decoration-color: #00ff00; font-weight: bold\">=</span><span style=\"color: #00ff00; text-decoration-color: #00ff00; font-weight: bold\">'00000000-0000-0000-0000-000000000000'</span><span style=\"color: #00ff00; text-decoration-color: #00ff00; font-weight: bold\">, </span><span style=\"color: #00ff00; text-decoration-color: #00ff00; font-weight: bold\">message_no</span><span style=\"color: #00ff00; text-decoration-color: #00ff00; font-weight: bold\">=</span><span style=\"color: #00ff00; text-decoration-color: #00ff00; font-weight: bold\">5</span><span style=\"color: #00ff00; text-decoration-color: #00ff00; font-weight: bold\">, </span>\n",
                            "<span style=\"color: #00ff00; text-decoration-color: #00ff00; font-weight: bold\">message_id</span><span style=\"color: #00ff00; text-decoration-color: #00ff00; font-weight: bold\">=</span><span style=\"color: #00ff00; text-decoration-color: #00ff00; font-weight: bold\">'00000000-0000-0000-0000-000000000000.5'</span><span style=\"color: #00ff00; text-decoration-color: #00ff00; font-weight: bold\">, </span><span style=\"color: #00ff00; text-decoration-color: #00ff00; font-weight: bold\">chunk_no</span><span style=\"color: #00ff00; text-decoration-color: #00ff00; font-weight: bold\">=</span><span style=\"color: #00ff00; text-decoration-color: #00ff00; font-weight: bold\">0</span><span style=\"color: #00ff00; text-decoration-color: #00ff00; font-weight: bold\">, </span><span style=\"color: #00ff00; text-decoration-color: #00ff00; font-weight: bold\">chunk</span><span style=\"color: #00ff00; text-decoration-color: #00ff00; font-weight: bold\">=</span><span style=\"color: #00ff00; text-decoration-color: #00ff00; font-weight: bold\">'&lt;eom&gt;'</span><span style=\"color: #00ff00; text-decoration-color: #00ff00; font-weight: bold\">, </span><span style=\"color: #00ff00; text-decoration-color: #00ff00; font-weight: bold\">content_type</span><span style=\"color: #00ff00; text-decoration-color: #00ff00; font-weight: bold\">=</span><span style=\"color: #00ff00; text-decoration-color: #00ff00; font-weight: bold\">'text'</span><span style=\"color: #00ff00; text-decoration-color: #00ff00; font-weight: bold\">, </span><span style=\"color: #00ff00; text-decoration-color: #00ff00; font-weight: bold\">content</span><span style=\"color: #00ff00; text-decoration-color: #00ff00; font-weight: bold\">=</span><span style=\"color: #00ff00; text-decoration-color: #00ff00; font-weight: bold\">'Once </span>\n",
                            "<span style=\"color: #00ff00; text-decoration-color: #00ff00; font-weight: bold\">upon a time, a brave knight saved a kingdom from a dragon.'</span><span style=\"color: #00ff00; text-decoration-color: #00ff00; font-weight: bold\">)</span>\n",
                            "</pre>\n"
                        ],
                        "text/plain": [
                            "\u001b[1;92mSend Message Received: \u001b[0m\u001b[1;92mid\u001b[0m\u001b[1;92m=\u001b[0m\u001b[1;92m'a84401e7-1ced-4070-a677-551bf10b6910'\u001b[0m\u001b[1;92m \u001b[0m\u001b[1;92mheader\u001b[0m\u001b[1;92m=\u001b[0m\u001b[1;92mMessageHeaderPydantic\u001b[0m\u001b[1;92m(\u001b[0m\u001b[1;92msender\u001b[0m\u001b[1;92m=\u001b[0m\u001b[1;92m'Sara'\u001b[0m\u001b[1;92m, \u001b[0m\n",
                            "\u001b[1;92mrecipient\u001b[0m\u001b[1;92m=\u001b[0m\u001b[1;92m'User'\u001b[0m\u001b[1;92m, \u001b[0m\u001b[1;92mtimestamp\u001b[0m\u001b[1;92m=\u001b[0m\u001b[1;92m1749181012\u001b[0m\u001b[1;92m.3782616\u001b[0m\u001b[1;92m, \u001b[0m\u001b[1;92morder\u001b[0m\u001b[1;92m=\u001b[0m\u001b[1;92m0\u001b[0m\u001b[1;92m)\u001b[0m\u001b[1;92m \u001b[0m\u001b[1;92mbody\u001b[0m\u001b[1;92m=\u001b[0m\u001b[1;92mReplyBodyPydantic\u001b[0m\u001b[1;92m(\u001b[0m\u001b[1;92mtype\u001b[0m\u001b[1;92m=\u001b[0m\u001b[1;92m'reply'\u001b[0m\u001b[1;92m, \u001b[0m\n",
                            "\u001b[1;92mdialogue_id\u001b[0m\u001b[1;92m=\u001b[0m\u001b[1;92m'00000000-0000-0000-0000-000000000000'\u001b[0m\u001b[1;92m, \u001b[0m\u001b[1;92mmessage_no\u001b[0m\u001b[1;92m=\u001b[0m\u001b[1;92m5\u001b[0m\u001b[1;92m, \u001b[0m\n",
                            "\u001b[1;92mmessage_id\u001b[0m\u001b[1;92m=\u001b[0m\u001b[1;92m'00000000-0000-0000-0000-000000000000.5'\u001b[0m\u001b[1;92m, \u001b[0m\u001b[1;92mchunk_no\u001b[0m\u001b[1;92m=\u001b[0m\u001b[1;92m0\u001b[0m\u001b[1;92m, \u001b[0m\u001b[1;92mchunk\u001b[0m\u001b[1;92m=\u001b[0m\u001b[1;92m'\u001b[0m\u001b[1;92m<\u001b[0m\u001b[1;92meom\u001b[0m\u001b[1;92m>\u001b[0m\u001b[1;92m'\u001b[0m\u001b[1;92m, \u001b[0m\u001b[1;92mcontent_type\u001b[0m\u001b[1;92m=\u001b[0m\u001b[1;92m'text'\u001b[0m\u001b[1;92m, \u001b[0m\u001b[1;92mcontent\u001b[0m\u001b[1;92m=\u001b[0m\u001b[1;92m'Once \u001b[0m\n",
                            "\u001b[1;92mupon a time, a brave knight saved a kingdom from a dragon.'\u001b[0m\u001b[1;92m)\u001b[0m\n"
                        ]
                    },
                    "metadata": {},
                    "output_type": "display_data"
                },
                {
                    "data": {
                        "text/html": [
                            "<pre style=\"white-space:pre;overflow-x:auto;line-height:normal;font-family:Menlo,'DejaVu Sans Mono',consolas,'Courier New',monospace\">Bus stopped.\n",
                            "</pre>\n"
                        ],
                        "text/plain": [
                            "Bus stopped.\n"
                        ]
                    },
                    "metadata": {},
                    "output_type": "display_data"
                }
            ],
            "source": [
                "import asyncio\n",
                "from gai.messages import (\n",
                "    MessagePydantic, \n",
                "    AsyncMessageBus, \n",
                "    create_user_send_message,\n",
                "    create_assistant_reply_chunk\n",
                "    )\n",
                "from rich import print\n",
                "\n",
                "amb = AsyncMessageBus()\n",
                "\n",
                "# 1. Start the background bus loop AND wait for signal to be ready\n",
                "await amb.start()\n",
                "print(\"Bus is ready.\")\n",
                "\n",
                "# 2. Create 2 handlers: one for SendMessagePydantic and one for ReplyMessagePydantic\n",
                "\n",
                "async def send_handler(msg: MessagePydantic):\n",
                "    print(f\"[bold bright_yellow]Send Message Received: {msg}[/bold bright_yellow]\")\n",
                "\n",
                "async def reply_handler(msg: MessagePydantic):\n",
                "    print(f\"[bold bright_green]Send Message Received: {msg}[/bold bright_green]\")\n",
                "\n",
                "# 3. Subscribe the callback to the message type=\"alpha\"\n",
                "\n",
                "await amb.subscribe(\"send\", {\"Alice\":send_handler})\n",
                "await amb.subscribe(\"reply\", {\"Alice\":reply_handler})\n",
                "print(\"Subscribed to send and reply message types\")\n",
                "\n",
                "# 4. Confirm the bus is started and publish a message\n",
                "\n",
                "if not amb.is_started:\n",
                "    raise RuntimeError(\"Bus is not started, cannot publish message.\")\n",
                "\n",
                "send_msg = create_user_send_message(content=\"Tell me a one sentence story.\")\n",
                "\n",
                "print(\"Publishing send message.\")\n",
                "await amb.publish(send_msg)\n",
                "print(\"Send message published.\")\n",
                "\n",
                "reply_msg = create_assistant_reply_chunk(sender=\"Sara\",chunk_no=0, chunk=\"<eom>\", content=\"Once upon a time, a brave knight saved a kingdom from a dragon.\")\n",
                "print(\"Publishing reply message.\")\n",
                "await amb.publish(reply_msg)\n",
                "print(\"Reply message published.\")\n",
                "\n",
                "# 5. Wait a little for message to be received before cancelling task\n",
                "\n",
                "await asyncio.sleep(0.1)\n",
                "\n",
                "# 6. Stop the bus\n",
                "await amb.stop()\n",
                "print(\"Bus stopped.\")\n"
            ]
        },
        {
            "cell_type": "markdown",
            "id": "ff54f4ae",
            "metadata": {},
            "source": [
                "### c) Same Message Type - Same Handler - Different Handler State"
            ]
        },
        {
            "cell_type": "code",
            "execution_count": 1,
            "id": "ac7913ff",
            "metadata": {},
            "outputs": [
                {
                    "data": {
                        "text/html": [
                            "<pre style=\"white-space:pre;overflow-x:auto;line-height:normal;font-family:Menlo,'DejaVu Sans Mono',consolas,'Courier New',monospace\">Bus is ready.\n",
                            "</pre>\n"
                        ],
                        "text/plain": [
                            "Bus is ready.\n"
                        ]
                    },
                    "metadata": {},
                    "output_type": "display_data"
                },
                {
                    "data": {
                        "text/html": [
                            "<pre style=\"white-space:pre;overflow-x:auto;line-height:normal;font-family:Menlo,'DejaVu Sans Mono',consolas,'Courier New',monospace\">Subscribed to message type <span style=\"color: #008000; text-decoration-color: #008000\">'send'</span>\n",
                            "</pre>\n"
                        ],
                        "text/plain": [
                            "Subscribed to message type \u001b[32m'send'\u001b[0m\n"
                        ]
                    },
                    "metadata": {},
                    "output_type": "display_data"
                },
                {
                    "data": {
                        "text/html": [
                            "<pre style=\"white-space:pre;overflow-x:auto;line-height:normal;font-family:Menlo,'DejaVu Sans Mono',consolas,'Courier New',monospace\">Publishing message.\n",
                            "</pre>\n"
                        ],
                        "text/plain": [
                            "Publishing message.\n"
                        ]
                    },
                    "metadata": {},
                    "output_type": "display_data"
                },
                {
                    "data": {
                        "text/html": [
                            "<pre style=\"white-space:pre;overflow-x:auto;line-height:normal;font-family:Menlo,'DejaVu Sans Mono',consolas,'Courier New',monospace\">Message published.\n",
                            "</pre>\n"
                        ],
                        "text/plain": [
                            "Message published.\n"
                        ]
                    },
                    "metadata": {},
                    "output_type": "display_data"
                },
                {
                    "data": {
                        "text/html": [
                            "<pre style=\"white-space:pre;overflow-x:auto;line-height:normal;font-family:Menlo,'DejaVu Sans Mono',consolas,'Courier New',monospace\"><span style=\"color: #ffff00; text-decoration-color: #ffff00; font-weight: bold\">Host </span><span style=\"color: #ffff00; text-decoration-color: #ffff00; font-weight: bold\">1</span><span style=\"color: #ffff00; text-decoration-color: #ffff00; font-weight: bold\"> &gt; </span><span style=\"color: #ffff00; text-decoration-color: #ffff00; font-weight: bold\">id</span><span style=\"color: #ffff00; text-decoration-color: #ffff00; font-weight: bold\">=</span><span style=\"color: #ffff00; text-decoration-color: #ffff00; font-weight: bold\">'5f5fdb1e-eaf9-46f8-876c-19f8279a9e37'</span><span style=\"color: #ffff00; text-decoration-color: #ffff00; font-weight: bold\"> </span><span style=\"color: #ffff00; text-decoration-color: #ffff00; font-weight: bold\">header</span><span style=\"color: #ffff00; text-decoration-color: #ffff00; font-weight: bold\">=</span><span style=\"color: #ffff00; text-decoration-color: #ffff00; font-weight: bold\">MessageHeaderPydantic</span><span style=\"color: #ffff00; text-decoration-color: #ffff00; font-weight: bold\">(</span><span style=\"color: #ffff00; text-decoration-color: #ffff00; font-weight: bold\">sender</span><span style=\"color: #ffff00; text-decoration-color: #ffff00; font-weight: bold\">=</span><span style=\"color: #ffff00; text-decoration-color: #ffff00; font-weight: bold\">'User'</span><span style=\"color: #ffff00; text-decoration-color: #ffff00; font-weight: bold\">, </span><span style=\"color: #ffff00; text-decoration-color: #ffff00; font-weight: bold\">recipient</span><span style=\"color: #ffff00; text-decoration-color: #ffff00; font-weight: bold\">=</span><span style=\"color: #ffff00; text-decoration-color: #ffff00; font-weight: bold\">'*'</span><span style=\"color: #ffff00; text-decoration-color: #ffff00; font-weight: bold\">, </span>\n",
                            "<span style=\"color: #ffff00; text-decoration-color: #ffff00; font-weight: bold\">timestamp</span><span style=\"color: #ffff00; text-decoration-color: #ffff00; font-weight: bold\">=</span><span style=\"color: #ffff00; text-decoration-color: #ffff00; font-weight: bold\">1749181354.8389497</span><span style=\"color: #ffff00; text-decoration-color: #ffff00; font-weight: bold\">, </span><span style=\"color: #ffff00; text-decoration-color: #ffff00; font-weight: bold\">order</span><span style=\"color: #ffff00; text-decoration-color: #ffff00; font-weight: bold\">=</span><span style=\"color: #ffff00; text-decoration-color: #ffff00; font-weight: bold\">0</span><span style=\"color: #ffff00; text-decoration-color: #ffff00; font-weight: bold\">) </span><span style=\"color: #ffff00; text-decoration-color: #ffff00; font-weight: bold\">body</span><span style=\"color: #ffff00; text-decoration-color: #ffff00; font-weight: bold\">=</span><span style=\"color: #ffff00; text-decoration-color: #ffff00; font-weight: bold\">SendBodyPydantic</span><span style=\"color: #ffff00; text-decoration-color: #ffff00; font-weight: bold\">(</span><span style=\"color: #ffff00; text-decoration-color: #ffff00; font-weight: bold\">type</span><span style=\"color: #ffff00; text-decoration-color: #ffff00; font-weight: bold\">=</span><span style=\"color: #ffff00; text-decoration-color: #ffff00; font-weight: bold\">'send'</span><span style=\"color: #ffff00; text-decoration-color: #ffff00; font-weight: bold\">, </span>\n",
                            "<span style=\"color: #ffff00; text-decoration-color: #ffff00; font-weight: bold\">dialogue_id</span><span style=\"color: #ffff00; text-decoration-color: #ffff00; font-weight: bold\">=</span><span style=\"color: #ffff00; text-decoration-color: #ffff00; font-weight: bold\">'00000000-0000-0000-0000-000000000000'</span><span style=\"color: #ffff00; text-decoration-color: #ffff00; font-weight: bold\">, </span><span style=\"color: #ffff00; text-decoration-color: #ffff00; font-weight: bold\">message_no</span><span style=\"color: #ffff00; text-decoration-color: #ffff00; font-weight: bold\">=</span><span style=\"color: #ffff00; text-decoration-color: #ffff00; font-weight: bold\">1</span><span style=\"color: #ffff00; text-decoration-color: #ffff00; font-weight: bold\">, </span>\n",
                            "<span style=\"color: #ffff00; text-decoration-color: #ffff00; font-weight: bold\">message_id</span><span style=\"color: #ffff00; text-decoration-color: #ffff00; font-weight: bold\">=</span><span style=\"color: #ffff00; text-decoration-color: #ffff00; font-weight: bold\">'00000000-0000-0000-0000-000000000000.1'</span><span style=\"color: #ffff00; text-decoration-color: #ffff00; font-weight: bold\">, </span><span style=\"color: #ffff00; text-decoration-color: #ffff00; font-weight: bold\">content_type</span><span style=\"color: #ffff00; text-decoration-color: #ffff00; font-weight: bold\">=</span><span style=\"color: #ffff00; text-decoration-color: #ffff00; font-weight: bold\">'text'</span><span style=\"color: #ffff00; text-decoration-color: #ffff00; font-weight: bold\">, </span><span style=\"color: #ffff00; text-decoration-color: #ffff00; font-weight: bold\">content</span><span style=\"color: #ffff00; text-decoration-color: #ffff00; font-weight: bold\">=</span><span style=\"color: #ffff00; text-decoration-color: #ffff00; font-weight: bold\">'Hello, what is your name?'</span><span style=\"color: #ffff00; text-decoration-color: #ffff00; font-weight: bold\">)</span>\n",
                            "</pre>\n"
                        ],
                        "text/plain": [
                            "\u001b[1;93mHost \u001b[0m\u001b[1;93m1\u001b[0m\u001b[1;93m > \u001b[0m\u001b[1;93mid\u001b[0m\u001b[1;93m=\u001b[0m\u001b[1;93m'5f5fdb1e-eaf9-46f8-876c-19f8279a9e37'\u001b[0m\u001b[1;93m \u001b[0m\u001b[1;93mheader\u001b[0m\u001b[1;93m=\u001b[0m\u001b[1;93mMessageHeaderPydantic\u001b[0m\u001b[1;93m(\u001b[0m\u001b[1;93msender\u001b[0m\u001b[1;93m=\u001b[0m\u001b[1;93m'User'\u001b[0m\u001b[1;93m, \u001b[0m\u001b[1;93mrecipient\u001b[0m\u001b[1;93m=\u001b[0m\u001b[1;93m'*'\u001b[0m\u001b[1;93m, \u001b[0m\n",
                            "\u001b[1;93mtimestamp\u001b[0m\u001b[1;93m=\u001b[0m\u001b[1;93m1749181354\u001b[0m\u001b[1;93m.8389497\u001b[0m\u001b[1;93m, \u001b[0m\u001b[1;93morder\u001b[0m\u001b[1;93m=\u001b[0m\u001b[1;93m0\u001b[0m\u001b[1;93m)\u001b[0m\u001b[1;93m \u001b[0m\u001b[1;93mbody\u001b[0m\u001b[1;93m=\u001b[0m\u001b[1;93mSendBodyPydantic\u001b[0m\u001b[1;93m(\u001b[0m\u001b[1;93mtype\u001b[0m\u001b[1;93m=\u001b[0m\u001b[1;93m'send'\u001b[0m\u001b[1;93m, \u001b[0m\n",
                            "\u001b[1;93mdialogue_id\u001b[0m\u001b[1;93m=\u001b[0m\u001b[1;93m'00000000-0000-0000-0000-000000000000'\u001b[0m\u001b[1;93m, \u001b[0m\u001b[1;93mmessage_no\u001b[0m\u001b[1;93m=\u001b[0m\u001b[1;93m1\u001b[0m\u001b[1;93m, \u001b[0m\n",
                            "\u001b[1;93mmessage_id\u001b[0m\u001b[1;93m=\u001b[0m\u001b[1;93m'00000000-0000-0000-0000-000000000000.1'\u001b[0m\u001b[1;93m, \u001b[0m\u001b[1;93mcontent_type\u001b[0m\u001b[1;93m=\u001b[0m\u001b[1;93m'text'\u001b[0m\u001b[1;93m, \u001b[0m\u001b[1;93mcontent\u001b[0m\u001b[1;93m=\u001b[0m\u001b[1;93m'Hello, what is your name?'\u001b[0m\u001b[1;93m)\u001b[0m\n"
                        ]
                    },
                    "metadata": {},
                    "output_type": "display_data"
                },
                {
                    "data": {
                        "text/html": [
                            "<pre style=\"white-space:pre;overflow-x:auto;line-height:normal;font-family:Menlo,'DejaVu Sans Mono',consolas,'Courier New',monospace\"><span style=\"color: #ffff00; text-decoration-color: #ffff00; font-weight: bold\">Host </span><span style=\"color: #ffff00; text-decoration-color: #ffff00; font-weight: bold\">2</span><span style=\"color: #ffff00; text-decoration-color: #ffff00; font-weight: bold\"> &gt; </span><span style=\"color: #ffff00; text-decoration-color: #ffff00; font-weight: bold\">id</span><span style=\"color: #ffff00; text-decoration-color: #ffff00; font-weight: bold\">=</span><span style=\"color: #ffff00; text-decoration-color: #ffff00; font-weight: bold\">'5f5fdb1e-eaf9-46f8-876c-19f8279a9e37'</span><span style=\"color: #ffff00; text-decoration-color: #ffff00; font-weight: bold\"> </span><span style=\"color: #ffff00; text-decoration-color: #ffff00; font-weight: bold\">header</span><span style=\"color: #ffff00; text-decoration-color: #ffff00; font-weight: bold\">=</span><span style=\"color: #ffff00; text-decoration-color: #ffff00; font-weight: bold\">MessageHeaderPydantic</span><span style=\"color: #ffff00; text-decoration-color: #ffff00; font-weight: bold\">(</span><span style=\"color: #ffff00; text-decoration-color: #ffff00; font-weight: bold\">sender</span><span style=\"color: #ffff00; text-decoration-color: #ffff00; font-weight: bold\">=</span><span style=\"color: #ffff00; text-decoration-color: #ffff00; font-weight: bold\">'User'</span><span style=\"color: #ffff00; text-decoration-color: #ffff00; font-weight: bold\">, </span><span style=\"color: #ffff00; text-decoration-color: #ffff00; font-weight: bold\">recipient</span><span style=\"color: #ffff00; text-decoration-color: #ffff00; font-weight: bold\">=</span><span style=\"color: #ffff00; text-decoration-color: #ffff00; font-weight: bold\">'*'</span><span style=\"color: #ffff00; text-decoration-color: #ffff00; font-weight: bold\">, </span>\n",
                            "<span style=\"color: #ffff00; text-decoration-color: #ffff00; font-weight: bold\">timestamp</span><span style=\"color: #ffff00; text-decoration-color: #ffff00; font-weight: bold\">=</span><span style=\"color: #ffff00; text-decoration-color: #ffff00; font-weight: bold\">1749181354.8389497</span><span style=\"color: #ffff00; text-decoration-color: #ffff00; font-weight: bold\">, </span><span style=\"color: #ffff00; text-decoration-color: #ffff00; font-weight: bold\">order</span><span style=\"color: #ffff00; text-decoration-color: #ffff00; font-weight: bold\">=</span><span style=\"color: #ffff00; text-decoration-color: #ffff00; font-weight: bold\">0</span><span style=\"color: #ffff00; text-decoration-color: #ffff00; font-weight: bold\">) </span><span style=\"color: #ffff00; text-decoration-color: #ffff00; font-weight: bold\">body</span><span style=\"color: #ffff00; text-decoration-color: #ffff00; font-weight: bold\">=</span><span style=\"color: #ffff00; text-decoration-color: #ffff00; font-weight: bold\">SendBodyPydantic</span><span style=\"color: #ffff00; text-decoration-color: #ffff00; font-weight: bold\">(</span><span style=\"color: #ffff00; text-decoration-color: #ffff00; font-weight: bold\">type</span><span style=\"color: #ffff00; text-decoration-color: #ffff00; font-weight: bold\">=</span><span style=\"color: #ffff00; text-decoration-color: #ffff00; font-weight: bold\">'send'</span><span style=\"color: #ffff00; text-decoration-color: #ffff00; font-weight: bold\">, </span>\n",
                            "<span style=\"color: #ffff00; text-decoration-color: #ffff00; font-weight: bold\">dialogue_id</span><span style=\"color: #ffff00; text-decoration-color: #ffff00; font-weight: bold\">=</span><span style=\"color: #ffff00; text-decoration-color: #ffff00; font-weight: bold\">'00000000-0000-0000-0000-000000000000'</span><span style=\"color: #ffff00; text-decoration-color: #ffff00; font-weight: bold\">, </span><span style=\"color: #ffff00; text-decoration-color: #ffff00; font-weight: bold\">message_no</span><span style=\"color: #ffff00; text-decoration-color: #ffff00; font-weight: bold\">=</span><span style=\"color: #ffff00; text-decoration-color: #ffff00; font-weight: bold\">1</span><span style=\"color: #ffff00; text-decoration-color: #ffff00; font-weight: bold\">, </span>\n",
                            "<span style=\"color: #ffff00; text-decoration-color: #ffff00; font-weight: bold\">message_id</span><span style=\"color: #ffff00; text-decoration-color: #ffff00; font-weight: bold\">=</span><span style=\"color: #ffff00; text-decoration-color: #ffff00; font-weight: bold\">'00000000-0000-0000-0000-000000000000.1'</span><span style=\"color: #ffff00; text-decoration-color: #ffff00; font-weight: bold\">, </span><span style=\"color: #ffff00; text-decoration-color: #ffff00; font-weight: bold\">content_type</span><span style=\"color: #ffff00; text-decoration-color: #ffff00; font-weight: bold\">=</span><span style=\"color: #ffff00; text-decoration-color: #ffff00; font-weight: bold\">'text'</span><span style=\"color: #ffff00; text-decoration-color: #ffff00; font-weight: bold\">, </span><span style=\"color: #ffff00; text-decoration-color: #ffff00; font-weight: bold\">content</span><span style=\"color: #ffff00; text-decoration-color: #ffff00; font-weight: bold\">=</span><span style=\"color: #ffff00; text-decoration-color: #ffff00; font-weight: bold\">'Hello, what is your name?'</span><span style=\"color: #ffff00; text-decoration-color: #ffff00; font-weight: bold\">)</span>\n",
                            "</pre>\n"
                        ],
                        "text/plain": [
                            "\u001b[1;93mHost \u001b[0m\u001b[1;93m2\u001b[0m\u001b[1;93m > \u001b[0m\u001b[1;93mid\u001b[0m\u001b[1;93m=\u001b[0m\u001b[1;93m'5f5fdb1e-eaf9-46f8-876c-19f8279a9e37'\u001b[0m\u001b[1;93m \u001b[0m\u001b[1;93mheader\u001b[0m\u001b[1;93m=\u001b[0m\u001b[1;93mMessageHeaderPydantic\u001b[0m\u001b[1;93m(\u001b[0m\u001b[1;93msender\u001b[0m\u001b[1;93m=\u001b[0m\u001b[1;93m'User'\u001b[0m\u001b[1;93m, \u001b[0m\u001b[1;93mrecipient\u001b[0m\u001b[1;93m=\u001b[0m\u001b[1;93m'*'\u001b[0m\u001b[1;93m, \u001b[0m\n",
                            "\u001b[1;93mtimestamp\u001b[0m\u001b[1;93m=\u001b[0m\u001b[1;93m1749181354\u001b[0m\u001b[1;93m.8389497\u001b[0m\u001b[1;93m, \u001b[0m\u001b[1;93morder\u001b[0m\u001b[1;93m=\u001b[0m\u001b[1;93m0\u001b[0m\u001b[1;93m)\u001b[0m\u001b[1;93m \u001b[0m\u001b[1;93mbody\u001b[0m\u001b[1;93m=\u001b[0m\u001b[1;93mSendBodyPydantic\u001b[0m\u001b[1;93m(\u001b[0m\u001b[1;93mtype\u001b[0m\u001b[1;93m=\u001b[0m\u001b[1;93m'send'\u001b[0m\u001b[1;93m, \u001b[0m\n",
                            "\u001b[1;93mdialogue_id\u001b[0m\u001b[1;93m=\u001b[0m\u001b[1;93m'00000000-0000-0000-0000-000000000000'\u001b[0m\u001b[1;93m, \u001b[0m\u001b[1;93mmessage_no\u001b[0m\u001b[1;93m=\u001b[0m\u001b[1;93m1\u001b[0m\u001b[1;93m, \u001b[0m\n",
                            "\u001b[1;93mmessage_id\u001b[0m\u001b[1;93m=\u001b[0m\u001b[1;93m'00000000-0000-0000-0000-000000000000.1'\u001b[0m\u001b[1;93m, \u001b[0m\u001b[1;93mcontent_type\u001b[0m\u001b[1;93m=\u001b[0m\u001b[1;93m'text'\u001b[0m\u001b[1;93m, \u001b[0m\u001b[1;93mcontent\u001b[0m\u001b[1;93m=\u001b[0m\u001b[1;93m'Hello, what is your name?'\u001b[0m\u001b[1;93m)\u001b[0m\n"
                        ]
                    },
                    "metadata": {},
                    "output_type": "display_data"
                },
                {
                    "data": {
                        "text/html": [
                            "<pre style=\"white-space:pre;overflow-x:auto;line-height:normal;font-family:Menlo,'DejaVu Sans Mono',consolas,'Courier New',monospace\"><span style=\"color: #00ff00; text-decoration-color: #00ff00; font-weight: bold\">User &gt; </span><span style=\"color: #00ff00; text-decoration-color: #00ff00; font-weight: bold\">id</span><span style=\"color: #00ff00; text-decoration-color: #00ff00; font-weight: bold\">=</span><span style=\"color: #00ff00; text-decoration-color: #00ff00; font-weight: bold\">'4b57a61a-0eb4-4864-9e2c-3a9a4097fa04'</span><span style=\"color: #00ff00; text-decoration-color: #00ff00; font-weight: bold\"> </span><span style=\"color: #00ff00; text-decoration-color: #00ff00; font-weight: bold\">header</span><span style=\"color: #00ff00; text-decoration-color: #00ff00; font-weight: bold\">=</span><span style=\"color: #00ff00; text-decoration-color: #00ff00; font-weight: bold\">MessageHeaderPydantic</span><span style=\"color: #00ff00; text-decoration-color: #00ff00; font-weight: bold\">(</span><span style=\"color: #00ff00; text-decoration-color: #00ff00; font-weight: bold\">sender</span><span style=\"color: #00ff00; text-decoration-color: #00ff00; font-weight: bold\">=</span><span style=\"color: #00ff00; text-decoration-color: #00ff00; font-weight: bold\">'Host 1'</span><span style=\"color: #00ff00; text-decoration-color: #00ff00; font-weight: bold\">, </span><span style=\"color: #00ff00; text-decoration-color: #00ff00; font-weight: bold\">recipient</span><span style=\"color: #00ff00; text-decoration-color: #00ff00; font-weight: bold\">=</span><span style=\"color: #00ff00; text-decoration-color: #00ff00; font-weight: bold\">'User'</span><span style=\"color: #00ff00; text-decoration-color: #00ff00; font-weight: bold\">, </span>\n",
                            "<span style=\"color: #00ff00; text-decoration-color: #00ff00; font-weight: bold\">timestamp</span><span style=\"color: #00ff00; text-decoration-color: #00ff00; font-weight: bold\">=</span><span style=\"color: #00ff00; text-decoration-color: #00ff00; font-weight: bold\">1749181354.8443098</span><span style=\"color: #00ff00; text-decoration-color: #00ff00; font-weight: bold\">, </span><span style=\"color: #00ff00; text-decoration-color: #00ff00; font-weight: bold\">order</span><span style=\"color: #00ff00; text-decoration-color: #00ff00; font-weight: bold\">=</span><span style=\"color: #00ff00; text-decoration-color: #00ff00; font-weight: bold\">0</span><span style=\"color: #00ff00; text-decoration-color: #00ff00; font-weight: bold\">) </span><span style=\"color: #00ff00; text-decoration-color: #00ff00; font-weight: bold\">body</span><span style=\"color: #00ff00; text-decoration-color: #00ff00; font-weight: bold\">=</span><span style=\"color: #00ff00; text-decoration-color: #00ff00; font-weight: bold\">ReplyBodyPydantic</span><span style=\"color: #00ff00; text-decoration-color: #00ff00; font-weight: bold\">(</span><span style=\"color: #00ff00; text-decoration-color: #00ff00; font-weight: bold\">type</span><span style=\"color: #00ff00; text-decoration-color: #00ff00; font-weight: bold\">=</span><span style=\"color: #00ff00; text-decoration-color: #00ff00; font-weight: bold\">'reply'</span><span style=\"color: #00ff00; text-decoration-color: #00ff00; font-weight: bold\">, </span>\n",
                            "<span style=\"color: #00ff00; text-decoration-color: #00ff00; font-weight: bold\">dialogue_id</span><span style=\"color: #00ff00; text-decoration-color: #00ff00; font-weight: bold\">=</span><span style=\"color: #00ff00; text-decoration-color: #00ff00; font-weight: bold\">'00000000-0000-0000-0000-000000000000'</span><span style=\"color: #00ff00; text-decoration-color: #00ff00; font-weight: bold\">, </span><span style=\"color: #00ff00; text-decoration-color: #00ff00; font-weight: bold\">message_no</span><span style=\"color: #00ff00; text-decoration-color: #00ff00; font-weight: bold\">=</span><span style=\"color: #00ff00; text-decoration-color: #00ff00; font-weight: bold\">2</span><span style=\"color: #00ff00; text-decoration-color: #00ff00; font-weight: bold\">, </span>\n",
                            "<span style=\"color: #00ff00; text-decoration-color: #00ff00; font-weight: bold\">message_id</span><span style=\"color: #00ff00; text-decoration-color: #00ff00; font-weight: bold\">=</span><span style=\"color: #00ff00; text-decoration-color: #00ff00; font-weight: bold\">'00000000-0000-0000-0000-000000000000.2'</span><span style=\"color: #00ff00; text-decoration-color: #00ff00; font-weight: bold\">, </span><span style=\"color: #00ff00; text-decoration-color: #00ff00; font-weight: bold\">chunk_no</span><span style=\"color: #00ff00; text-decoration-color: #00ff00; font-weight: bold\">=</span><span style=\"color: #00ff00; text-decoration-color: #00ff00; font-weight: bold\">0</span><span style=\"color: #00ff00; text-decoration-color: #00ff00; font-weight: bold\">, </span><span style=\"color: #00ff00; text-decoration-color: #00ff00; font-weight: bold\">chunk</span><span style=\"color: #00ff00; text-decoration-color: #00ff00; font-weight: bold\">=</span><span style=\"color: #00ff00; text-decoration-color: #00ff00; font-weight: bold\">'&lt;eom&gt;'</span><span style=\"color: #00ff00; text-decoration-color: #00ff00; font-weight: bold\">, </span><span style=\"color: #00ff00; text-decoration-color: #00ff00; font-weight: bold\">content_type</span><span style=\"color: #00ff00; text-decoration-color: #00ff00; font-weight: bold\">=</span><span style=\"color: #00ff00; text-decoration-color: #00ff00; font-weight: bold\">'text'</span><span style=\"color: #00ff00; text-decoration-color: #00ff00; font-weight: bold\">, </span><span style=\"color: #00ff00; text-decoration-color: #00ff00; font-weight: bold\">content</span><span style=\"color: #00ff00; text-decoration-color: #00ff00; font-weight: bold\">=</span><span style=\"color: #00ff00; text-decoration-color: #00ff00; font-weight: bold\">'My </span>\n",
                            "<span style=\"color: #00ff00; text-decoration-color: #00ff00; font-weight: bold\">name is Host 1.'</span><span style=\"color: #00ff00; text-decoration-color: #00ff00; font-weight: bold\">)</span>\n",
                            "</pre>\n"
                        ],
                        "text/plain": [
                            "\u001b[1;92mUser > \u001b[0m\u001b[1;92mid\u001b[0m\u001b[1;92m=\u001b[0m\u001b[1;92m'4b57a61a-0eb4-4864-9e2c-3a9a4097fa04'\u001b[0m\u001b[1;92m \u001b[0m\u001b[1;92mheader\u001b[0m\u001b[1;92m=\u001b[0m\u001b[1;92mMessageHeaderPydantic\u001b[0m\u001b[1;92m(\u001b[0m\u001b[1;92msender\u001b[0m\u001b[1;92m=\u001b[0m\u001b[1;92m'Host 1'\u001b[0m\u001b[1;92m, \u001b[0m\u001b[1;92mrecipient\u001b[0m\u001b[1;92m=\u001b[0m\u001b[1;92m'User'\u001b[0m\u001b[1;92m, \u001b[0m\n",
                            "\u001b[1;92mtimestamp\u001b[0m\u001b[1;92m=\u001b[0m\u001b[1;92m1749181354\u001b[0m\u001b[1;92m.8443098\u001b[0m\u001b[1;92m, \u001b[0m\u001b[1;92morder\u001b[0m\u001b[1;92m=\u001b[0m\u001b[1;92m0\u001b[0m\u001b[1;92m)\u001b[0m\u001b[1;92m \u001b[0m\u001b[1;92mbody\u001b[0m\u001b[1;92m=\u001b[0m\u001b[1;92mReplyBodyPydantic\u001b[0m\u001b[1;92m(\u001b[0m\u001b[1;92mtype\u001b[0m\u001b[1;92m=\u001b[0m\u001b[1;92m'reply'\u001b[0m\u001b[1;92m, \u001b[0m\n",
                            "\u001b[1;92mdialogue_id\u001b[0m\u001b[1;92m=\u001b[0m\u001b[1;92m'00000000-0000-0000-0000-000000000000'\u001b[0m\u001b[1;92m, \u001b[0m\u001b[1;92mmessage_no\u001b[0m\u001b[1;92m=\u001b[0m\u001b[1;92m2\u001b[0m\u001b[1;92m, \u001b[0m\n",
                            "\u001b[1;92mmessage_id\u001b[0m\u001b[1;92m=\u001b[0m\u001b[1;92m'00000000-0000-0000-0000-000000000000.2'\u001b[0m\u001b[1;92m, \u001b[0m\u001b[1;92mchunk_no\u001b[0m\u001b[1;92m=\u001b[0m\u001b[1;92m0\u001b[0m\u001b[1;92m, \u001b[0m\u001b[1;92mchunk\u001b[0m\u001b[1;92m=\u001b[0m\u001b[1;92m'\u001b[0m\u001b[1;92m<\u001b[0m\u001b[1;92meom\u001b[0m\u001b[1;92m>\u001b[0m\u001b[1;92m'\u001b[0m\u001b[1;92m, \u001b[0m\u001b[1;92mcontent_type\u001b[0m\u001b[1;92m=\u001b[0m\u001b[1;92m'text'\u001b[0m\u001b[1;92m, \u001b[0m\u001b[1;92mcontent\u001b[0m\u001b[1;92m=\u001b[0m\u001b[1;92m'My \u001b[0m\n",
                            "\u001b[1;92mname is Host 1.'\u001b[0m\u001b[1;92m)\u001b[0m\n"
                        ]
                    },
                    "metadata": {},
                    "output_type": "display_data"
                },
                {
                    "data": {
                        "text/html": [
                            "<pre style=\"white-space:pre;overflow-x:auto;line-height:normal;font-family:Menlo,'DejaVu Sans Mono',consolas,'Courier New',monospace\"><span style=\"color: #00ff00; text-decoration-color: #00ff00; font-weight: bold\">User &gt; </span><span style=\"color: #00ff00; text-decoration-color: #00ff00; font-weight: bold\">id</span><span style=\"color: #00ff00; text-decoration-color: #00ff00; font-weight: bold\">=</span><span style=\"color: #00ff00; text-decoration-color: #00ff00; font-weight: bold\">'f12e6700-692a-4433-b59d-387b0178329c'</span><span style=\"color: #00ff00; text-decoration-color: #00ff00; font-weight: bold\"> </span><span style=\"color: #00ff00; text-decoration-color: #00ff00; font-weight: bold\">header</span><span style=\"color: #00ff00; text-decoration-color: #00ff00; font-weight: bold\">=</span><span style=\"color: #00ff00; text-decoration-color: #00ff00; font-weight: bold\">MessageHeaderPydantic</span><span style=\"color: #00ff00; text-decoration-color: #00ff00; font-weight: bold\">(</span><span style=\"color: #00ff00; text-decoration-color: #00ff00; font-weight: bold\">sender</span><span style=\"color: #00ff00; text-decoration-color: #00ff00; font-weight: bold\">=</span><span style=\"color: #00ff00; text-decoration-color: #00ff00; font-weight: bold\">'Host 2'</span><span style=\"color: #00ff00; text-decoration-color: #00ff00; font-weight: bold\">, </span><span style=\"color: #00ff00; text-decoration-color: #00ff00; font-weight: bold\">recipient</span><span style=\"color: #00ff00; text-decoration-color: #00ff00; font-weight: bold\">=</span><span style=\"color: #00ff00; text-decoration-color: #00ff00; font-weight: bold\">'User'</span><span style=\"color: #00ff00; text-decoration-color: #00ff00; font-weight: bold\">, </span>\n",
                            "<span style=\"color: #00ff00; text-decoration-color: #00ff00; font-weight: bold\">timestamp</span><span style=\"color: #00ff00; text-decoration-color: #00ff00; font-weight: bold\">=</span><span style=\"color: #00ff00; text-decoration-color: #00ff00; font-weight: bold\">1749181354.8464136</span><span style=\"color: #00ff00; text-decoration-color: #00ff00; font-weight: bold\">, </span><span style=\"color: #00ff00; text-decoration-color: #00ff00; font-weight: bold\">order</span><span style=\"color: #00ff00; text-decoration-color: #00ff00; font-weight: bold\">=</span><span style=\"color: #00ff00; text-decoration-color: #00ff00; font-weight: bold\">0</span><span style=\"color: #00ff00; text-decoration-color: #00ff00; font-weight: bold\">) </span><span style=\"color: #00ff00; text-decoration-color: #00ff00; font-weight: bold\">body</span><span style=\"color: #00ff00; text-decoration-color: #00ff00; font-weight: bold\">=</span><span style=\"color: #00ff00; text-decoration-color: #00ff00; font-weight: bold\">ReplyBodyPydantic</span><span style=\"color: #00ff00; text-decoration-color: #00ff00; font-weight: bold\">(</span><span style=\"color: #00ff00; text-decoration-color: #00ff00; font-weight: bold\">type</span><span style=\"color: #00ff00; text-decoration-color: #00ff00; font-weight: bold\">=</span><span style=\"color: #00ff00; text-decoration-color: #00ff00; font-weight: bold\">'reply'</span><span style=\"color: #00ff00; text-decoration-color: #00ff00; font-weight: bold\">, </span>\n",
                            "<span style=\"color: #00ff00; text-decoration-color: #00ff00; font-weight: bold\">dialogue_id</span><span style=\"color: #00ff00; text-decoration-color: #00ff00; font-weight: bold\">=</span><span style=\"color: #00ff00; text-decoration-color: #00ff00; font-weight: bold\">'00000000-0000-0000-0000-000000000000'</span><span style=\"color: #00ff00; text-decoration-color: #00ff00; font-weight: bold\">, </span><span style=\"color: #00ff00; text-decoration-color: #00ff00; font-weight: bold\">message_no</span><span style=\"color: #00ff00; text-decoration-color: #00ff00; font-weight: bold\">=</span><span style=\"color: #00ff00; text-decoration-color: #00ff00; font-weight: bold\">3</span><span style=\"color: #00ff00; text-decoration-color: #00ff00; font-weight: bold\">, </span>\n",
                            "<span style=\"color: #00ff00; text-decoration-color: #00ff00; font-weight: bold\">message_id</span><span style=\"color: #00ff00; text-decoration-color: #00ff00; font-weight: bold\">=</span><span style=\"color: #00ff00; text-decoration-color: #00ff00; font-weight: bold\">'00000000-0000-0000-0000-000000000000.3'</span><span style=\"color: #00ff00; text-decoration-color: #00ff00; font-weight: bold\">, </span><span style=\"color: #00ff00; text-decoration-color: #00ff00; font-weight: bold\">chunk_no</span><span style=\"color: #00ff00; text-decoration-color: #00ff00; font-weight: bold\">=</span><span style=\"color: #00ff00; text-decoration-color: #00ff00; font-weight: bold\">0</span><span style=\"color: #00ff00; text-decoration-color: #00ff00; font-weight: bold\">, </span><span style=\"color: #00ff00; text-decoration-color: #00ff00; font-weight: bold\">chunk</span><span style=\"color: #00ff00; text-decoration-color: #00ff00; font-weight: bold\">=</span><span style=\"color: #00ff00; text-decoration-color: #00ff00; font-weight: bold\">'&lt;eom&gt;'</span><span style=\"color: #00ff00; text-decoration-color: #00ff00; font-weight: bold\">, </span><span style=\"color: #00ff00; text-decoration-color: #00ff00; font-weight: bold\">content_type</span><span style=\"color: #00ff00; text-decoration-color: #00ff00; font-weight: bold\">=</span><span style=\"color: #00ff00; text-decoration-color: #00ff00; font-weight: bold\">'text'</span><span style=\"color: #00ff00; text-decoration-color: #00ff00; font-weight: bold\">, </span><span style=\"color: #00ff00; text-decoration-color: #00ff00; font-weight: bold\">content</span><span style=\"color: #00ff00; text-decoration-color: #00ff00; font-weight: bold\">=</span><span style=\"color: #00ff00; text-decoration-color: #00ff00; font-weight: bold\">'My </span>\n",
                            "<span style=\"color: #00ff00; text-decoration-color: #00ff00; font-weight: bold\">name is Host 2.'</span><span style=\"color: #00ff00; text-decoration-color: #00ff00; font-weight: bold\">)</span>\n",
                            "</pre>\n"
                        ],
                        "text/plain": [
                            "\u001b[1;92mUser > \u001b[0m\u001b[1;92mid\u001b[0m\u001b[1;92m=\u001b[0m\u001b[1;92m'f12e6700-692a-4433-b59d-387b0178329c'\u001b[0m\u001b[1;92m \u001b[0m\u001b[1;92mheader\u001b[0m\u001b[1;92m=\u001b[0m\u001b[1;92mMessageHeaderPydantic\u001b[0m\u001b[1;92m(\u001b[0m\u001b[1;92msender\u001b[0m\u001b[1;92m=\u001b[0m\u001b[1;92m'Host 2'\u001b[0m\u001b[1;92m, \u001b[0m\u001b[1;92mrecipient\u001b[0m\u001b[1;92m=\u001b[0m\u001b[1;92m'User'\u001b[0m\u001b[1;92m, \u001b[0m\n",
                            "\u001b[1;92mtimestamp\u001b[0m\u001b[1;92m=\u001b[0m\u001b[1;92m1749181354\u001b[0m\u001b[1;92m.8464136\u001b[0m\u001b[1;92m, \u001b[0m\u001b[1;92morder\u001b[0m\u001b[1;92m=\u001b[0m\u001b[1;92m0\u001b[0m\u001b[1;92m)\u001b[0m\u001b[1;92m \u001b[0m\u001b[1;92mbody\u001b[0m\u001b[1;92m=\u001b[0m\u001b[1;92mReplyBodyPydantic\u001b[0m\u001b[1;92m(\u001b[0m\u001b[1;92mtype\u001b[0m\u001b[1;92m=\u001b[0m\u001b[1;92m'reply'\u001b[0m\u001b[1;92m, \u001b[0m\n",
                            "\u001b[1;92mdialogue_id\u001b[0m\u001b[1;92m=\u001b[0m\u001b[1;92m'00000000-0000-0000-0000-000000000000'\u001b[0m\u001b[1;92m, \u001b[0m\u001b[1;92mmessage_no\u001b[0m\u001b[1;92m=\u001b[0m\u001b[1;92m3\u001b[0m\u001b[1;92m, \u001b[0m\n",
                            "\u001b[1;92mmessage_id\u001b[0m\u001b[1;92m=\u001b[0m\u001b[1;92m'00000000-0000-0000-0000-000000000000.3'\u001b[0m\u001b[1;92m, \u001b[0m\u001b[1;92mchunk_no\u001b[0m\u001b[1;92m=\u001b[0m\u001b[1;92m0\u001b[0m\u001b[1;92m, \u001b[0m\u001b[1;92mchunk\u001b[0m\u001b[1;92m=\u001b[0m\u001b[1;92m'\u001b[0m\u001b[1;92m<\u001b[0m\u001b[1;92meom\u001b[0m\u001b[1;92m>\u001b[0m\u001b[1;92m'\u001b[0m\u001b[1;92m, \u001b[0m\u001b[1;92mcontent_type\u001b[0m\u001b[1;92m=\u001b[0m\u001b[1;92m'text'\u001b[0m\u001b[1;92m, \u001b[0m\u001b[1;92mcontent\u001b[0m\u001b[1;92m=\u001b[0m\u001b[1;92m'My \u001b[0m\n",
                            "\u001b[1;92mname is Host 2.'\u001b[0m\u001b[1;92m)\u001b[0m\n"
                        ]
                    },
                    "metadata": {},
                    "output_type": "display_data"
                },
                {
                    "data": {
                        "text/html": [
                            "<pre style=\"white-space:pre;overflow-x:auto;line-height:normal;font-family:Menlo,'DejaVu Sans Mono',consolas,'Courier New',monospace\">Bus stopped.\n",
                            "</pre>\n"
                        ],
                        "text/plain": [
                            "Bus stopped.\n"
                        ]
                    },
                    "metadata": {},
                    "output_type": "display_data"
                }
            ],
            "source": [
                "import asyncio\n",
                "from gai.messages import (\n",
                "    MessagePydantic,\n",
                "    AsyncMessageBus,\n",
                "    create_assistant_reply_content,\n",
                "    create_user_send_message\n",
                ")\n",
                "    \n",
                "from rich import print\n",
                "\n",
                "# 3. Start the background bus loop AND wait for signal to be ready\n",
                "\n",
                "amb = AsyncMessageBus()\n",
                "await amb.start()\n",
                "print(\"Bus is ready.\")\n",
                "\n",
                "# 1. Create 2 assistant send_handlers to show multiple subscriptions to the same message type\n",
                "\n",
                "class Host:\n",
                "    def __init__(self,name:str):\n",
                "        self.name = name\n",
                "        \n",
                "    async def send_handler(self, msg: MessagePydantic):\n",
                "        print(f\"[bold bright_yellow]{self.name} > {msg}[/bold bright_yellow]\")\n",
                "        await amb.publish(\n",
                "            create_assistant_reply_content(\n",
                "                sender=self.name,\n",
                "                recipient=\"User\",\n",
                "                content=f\"My name is {self.name}.\"                            \n",
                "            )\n",
                "        )\n",
                "        \n",
                "host_1 = Host(\"Host 1\")\n",
                "host_2 = Host(\"Host 2\")\n",
                "\n",
                "# 2. Create 1 user reply_handlers to handle replies\n",
                "\n",
                "async def reply_handler(msg: MessagePydantic):\n",
                "    print(f\"[bold bright_green]User > {msg}[/bold bright_green]\")\n",
                "\n",
                "\n",
                "# 2. Subscribe the callback to the message type=\"alpha\" but same handler belonging to different objects\n",
                "\n",
                "await amb.subscribe(\"send\", {\"Alice\":host_1.send_handler})\n",
                "await amb.subscribe(\"send\", {\"Bob\":host_2.send_handler})\n",
                "await amb.subscribe(\"reply\", {\"User\":reply_handler})\n",
                "\n",
                "print(\"Subscribed to message type 'send'\")\n",
                "\n",
                "# 4. Confirm the bus is started and publish a message\n",
                "\n",
                "if not amb.is_started:\n",
                "    raise RuntimeError(\"Bus is not started, cannot publish message.\")\n",
                "\n",
                "msg = create_user_send_message(\n",
                "    recipient=\"*\",\n",
                "    content=\"Hello, what is your name?\"\n",
                ")\n",
                "print(\"Publishing message.\")\n",
                "await amb.publish(msg)\n",
                "print(\"Message published.\")\n",
                "\n",
                "# 5. Wait a little for message to be received before cancelling task\n",
                "\n",
                "await asyncio.sleep(0.1)\n",
                "status=await amb.stop()\n",
                "print(\"Bus stopped.\")\n"
            ]
        }
    ],
    "metadata": {
        "kernelspec": {
            "display_name": ".venv",
            "language": "python",
            "name": "python3"
        },
        "language_info": {
            "codemirror_mode": {
                "name": "ipython",
                "version": 3
            },
            "file_extension": ".py",
            "mimetype": "text/x-python",
            "name": "python",
            "nbconvert_exporter": "python",
            "pygments_lexer": "ipython3",
            "version": "3.10.18"
        }
    },
    "nbformat": 4,
    "nbformat_minor": 5
}
