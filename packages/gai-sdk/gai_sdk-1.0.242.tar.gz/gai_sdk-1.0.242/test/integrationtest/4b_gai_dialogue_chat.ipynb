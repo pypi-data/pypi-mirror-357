{
 "cells": [
  {
   "cell_type": "markdown",
   "id": "1b4aa4b7",
   "metadata": {},
   "source": [
    "## Quick Start"
   ]
  },
  {
   "cell_type": "code",
   "execution_count": 1,
   "id": "4d4f798a",
   "metadata": {},
   "outputs": [
    {
     "data": {
      "text/html": [
       "<pre style=\"white-space:pre;overflow-x:auto;line-height:normal;font-family:Menlo,'DejaVu Sans Mono',consolas,'Courier New',monospace\"><span style=\"font-weight: bold\">[</span>Assistant<span style=\"font-weight: bold\">]</span> <span style=\"color: #008000; text-decoration-color: #008000\">Handle send message. </span><span style=\"color: #008000; text-decoration-color: #008000\">message</span><span style=\"color: #008000; text-decoration-color: #008000\">=</span><span style=\"color: #008000; text-decoration-color: #008000\">id</span><span style=\"color: #008000; text-decoration-color: #008000\">=</span><span style=\"color: #008000; text-decoration-color: #008000\">'21026b7b-5321-457b-ad0e-3d6d0331584a'</span><span style=\"color: #008000; text-decoration-color: #008000\"> </span>\n",
       "<span style=\"color: #008000; text-decoration-color: #008000\">header</span><span style=\"color: #008000; text-decoration-color: #008000\">=</span><span style=\"color: #008000; text-decoration-color: #008000; font-weight: bold\">MessageHeaderPydantic</span><span style=\"color: #008000; text-decoration-color: #008000; font-weight: bold\">(</span><span style=\"color: #008000; text-decoration-color: #008000\">sender</span><span style=\"color: #008000; text-decoration-color: #008000\">=</span><span style=\"color: #008000; text-decoration-color: #008000\">'User'</span><span style=\"color: #008000; text-decoration-color: #008000\">, </span><span style=\"color: #008000; text-decoration-color: #008000\">recipient</span><span style=\"color: #008000; text-decoration-color: #008000\">=</span><span style=\"color: #008000; text-decoration-color: #008000\">'Assistant'</span><span style=\"color: #008000; text-decoration-color: #008000\">, </span><span style=\"color: #008000; text-decoration-color: #008000\">timestamp</span><span style=\"color: #008000; text-decoration-color: #008000\">=</span><span style=\"color: #008000; text-decoration-color: #008000; font-weight: bold\">1749869916.018638</span><span style=\"color: #008000; text-decoration-color: #008000\">, </span><span style=\"color: #008000; text-decoration-color: #008000\">order</span><span style=\"color: #008000; text-decoration-color: #008000\">=</span><span style=\"color: #008000; text-decoration-color: #008000; font-weight: bold\">0</span><span style=\"color: #008000; text-decoration-color: #008000; font-weight: bold\">)</span><span style=\"color: #008000; text-decoration-color: #008000\"> </span>\n",
       "<span style=\"color: #008000; text-decoration-color: #008000\">body</span><span style=\"color: #008000; text-decoration-color: #008000\">=</span><span style=\"color: #008000; text-decoration-color: #008000; font-weight: bold\">SendBodyPydantic</span><span style=\"color: #008000; text-decoration-color: #008000; font-weight: bold\">(</span><span style=\"color: #008000; text-decoration-color: #008000\">type</span><span style=\"color: #008000; text-decoration-color: #008000\">=</span><span style=\"color: #008000; text-decoration-color: #008000\">'send'</span><span style=\"color: #008000; text-decoration-color: #008000\">, </span><span style=\"color: #008000; text-decoration-color: #008000\">dialogue_id</span><span style=\"color: #008000; text-decoration-color: #008000\">=</span><span style=\"color: #008000; text-decoration-color: #008000\">'00000000-0000-0000-0000-000000000000'</span><span style=\"color: #008000; text-decoration-color: #008000\">, </span><span style=\"color: #008000; text-decoration-color: #008000\">message_no</span><span style=\"color: #008000; text-decoration-color: #008000\">=</span><span style=\"color: #008000; text-decoration-color: #008000; font-weight: bold\">1</span><span style=\"color: #008000; text-decoration-color: #008000\">, </span>\n",
       "<span style=\"color: #008000; text-decoration-color: #008000\">message_id</span><span style=\"color: #008000; text-decoration-color: #008000\">=</span><span style=\"color: #008000; text-decoration-color: #008000\">'00000000-0000-0000-0000-000000000000.1'</span><span style=\"color: #008000; text-decoration-color: #008000\">, </span><span style=\"color: #008000; text-decoration-color: #008000\">content_type</span><span style=\"color: #008000; text-decoration-color: #008000\">=</span><span style=\"color: #008000; text-decoration-color: #008000\">'text'</span><span style=\"color: #008000; text-decoration-color: #008000\">, </span><span style=\"color: #008000; text-decoration-color: #008000\">content</span><span style=\"color: #008000; text-decoration-color: #008000\">=</span><span style=\"color: #008000; text-decoration-color: #008000\">'Tell me a one sentence story'</span><span style=\"color: #008000; text-decoration-color: #008000; font-weight: bold\">)</span>\n",
       "</pre>\n"
      ],
      "text/plain": [
       "\u001b[1m[\u001b[0mAssistant\u001b[1m]\u001b[0m \u001b[32mHandle send message. \u001b[0m\u001b[32mmessage\u001b[0m\u001b[32m=\u001b[0m\u001b[32mid\u001b[0m\u001b[32m=\u001b[0m\u001b[32m'21026b7b-5321-457b-ad0e-3d6d0331584a'\u001b[0m\u001b[32m \u001b[0m\n",
       "\u001b[32mheader\u001b[0m\u001b[32m=\u001b[0m\u001b[1;32mMessageHeaderPydantic\u001b[0m\u001b[1;32m(\u001b[0m\u001b[32msender\u001b[0m\u001b[32m=\u001b[0m\u001b[32m'User'\u001b[0m\u001b[32m, \u001b[0m\u001b[32mrecipient\u001b[0m\u001b[32m=\u001b[0m\u001b[32m'Assistant'\u001b[0m\u001b[32m, \u001b[0m\u001b[32mtimestamp\u001b[0m\u001b[32m=\u001b[0m\u001b[1;32m1749869916\u001b[0m\u001b[1;32m.018638\u001b[0m\u001b[32m, \u001b[0m\u001b[32morder\u001b[0m\u001b[32m=\u001b[0m\u001b[1;32m0\u001b[0m\u001b[1;32m)\u001b[0m\u001b[32m \u001b[0m\n",
       "\u001b[32mbody\u001b[0m\u001b[32m=\u001b[0m\u001b[1;32mSendBodyPydantic\u001b[0m\u001b[1;32m(\u001b[0m\u001b[32mtype\u001b[0m\u001b[32m=\u001b[0m\u001b[32m'send'\u001b[0m\u001b[32m, \u001b[0m\u001b[32mdialogue_id\u001b[0m\u001b[32m=\u001b[0m\u001b[32m'00000000-0000-0000-0000-000000000000'\u001b[0m\u001b[32m, \u001b[0m\u001b[32mmessage_no\u001b[0m\u001b[32m=\u001b[0m\u001b[1;32m1\u001b[0m\u001b[32m, \u001b[0m\n",
       "\u001b[32mmessage_id\u001b[0m\u001b[32m=\u001b[0m\u001b[32m'00000000-0000-0000-0000-000000000000.1'\u001b[0m\u001b[32m, \u001b[0m\u001b[32mcontent_type\u001b[0m\u001b[32m=\u001b[0m\u001b[32m'text'\u001b[0m\u001b[32m, \u001b[0m\u001b[32mcontent\u001b[0m\u001b[32m=\u001b[0m\u001b[32m'Tell me a one sentence story'\u001b[0m\u001b[1;32m)\u001b[0m\n"
      ]
     },
     "metadata": {},
     "output_type": "display_data"
    },
    {
     "name": "stdout",
     "output_type": "stream",
     "text": [
      "In a town where shadows whispered secrets, a lonely lighthouse keeper discovered a message in a bottle that changed his fate forever."
     ]
    }
   ],
   "source": [
    "from gai.dialogue import DialogueBus\n",
    "from gai.dialogue.chat import AsyncOpenAI\n",
    "dialogue = DialogueBus()\n",
    "await dialogue.start()\n",
    "\n",
    "client = AsyncOpenAI(\n",
    "    dialogue=dialogue,\n",
    "    client_config={\n",
    "        \"client_type\":\"openai\",\n",
    "        \"model\":\"gpt-4o-mini\"\n",
    "    })\n",
    "\n",
    "resp=await client.chat.completions.create(model=\"gpt-4o\",messages=[{\n",
    "    \"role\":\"user\",\n",
    "    \"content\":\"Tell me a one sentence story\"\n",
    "}],stream=True)\n",
    "\n",
    "async for chunk in resp:\n",
    "    print(chunk,end=\"\",flush=True)\n"
   ]
  },
  {
   "cell_type": "code",
   "execution_count": 2,
   "id": "4b2e9d88",
   "metadata": {},
   "outputs": [
    {
     "data": {
      "text/plain": [
       "[MessagePydantic(id='21026b7b-5321-457b-ad0e-3d6d0331584a', header=MessageHeaderPydantic(sender='User', recipient='Assistant', timestamp=1749869916.018638, order=0), body=SendBodyPydantic(type='send', dialogue_id='00000000-0000-0000-0000-000000000000', message_no=1, message_id='00000000-0000-0000-0000-000000000000.1', content_type='text', content='Tell me a one sentence story')),\n",
       " MessagePydantic(id='6a730a61-3bdf-41db-91a6-296239788193', header=MessageHeaderPydantic(sender='Assistant', recipient='User', timestamp=1749869917.6510377, order=0), body=ReplyBodyPydantic(type='reply', dialogue_id='00000000-0000-0000-0000-000000000000', message_no=27, message_id='00000000-0000-0000-0000-000000000000.27', chunk_no=26, chunk='<eom>', content_type='text', content='In a town where shadows whispered secrets, a lonely lighthouse keeper discovered a message in a bottle that changed his fate forever.'))]"
      ]
     },
     "execution_count": 2,
     "metadata": {},
     "output_type": "execute_result"
    }
   ],
   "source": [
    "client.user_node.dialogue.list_messages()"
   ]
  }
 ],
 "metadata": {
  "kernelspec": {
   "display_name": ".venv",
   "language": "python",
   "name": "python3"
  },
  "language_info": {
   "codemirror_mode": {
    "name": "ipython",
    "version": 3
   },
   "file_extension": ".py",
   "mimetype": "text/x-python",
   "name": "python",
   "nbconvert_exporter": "python",
   "pygments_lexer": "ipython3",
   "version": "3.10.18"
  }
 },
 "nbformat": 4,
 "nbformat_minor": 5
}
