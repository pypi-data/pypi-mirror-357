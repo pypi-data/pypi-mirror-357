{
 "cells": [
  {
   "cell_type": "markdown",
   "id": "00aa54ae",
   "metadata": {},
   "source": [
    "# Build Simple State Machine with PyTransitions\n",
    "\n",
    "## 1. State Diagram\n",
    "\n",
    "```lua\n",
    "stateDiagram-v2\n",
    "    INIT --> GENERATE\n",
    "    GENERATE --> FINAL\n",
    "```\n",
    "\n",
    "```mermaid\n",
    "stateDiagram-v2\n",
    "    INIT --> GENERATE\n",
    "    GENERATE --> FINAL\n",
    "```\n"
   ]
  },
  {
   "cell_type": "markdown",
   "id": "6ab404b7",
   "metadata": {},
   "source": [
    "---\n",
    "\n",
    "## 2. Use PyTransitions"
   ]
  },
  {
   "cell_type": "code",
   "execution_count": 1,
   "id": "9dffe822",
   "metadata": {},
   "outputs": [
    {
     "name": "stdout",
     "output_type": "stream",
     "text": [
      "Hello, world! 👋 How can I help you today?"
     ]
    }
   ],
   "source": [
    "import asyncio\n",
    "from transitions.extensions.asyncio import AsyncMachine\n",
    "from openai import AsyncOpenAI\n",
    "client = AsyncOpenAI()\n",
    "\n",
    "async def generate(messages, agent_name, user_message):\n",
    "    \n",
    "    # Execute\n",
    "    \n",
    "    messages.append({\"role\": \"system\", \"content\": f\"Your name is {agent_name}. You are a helpful assistant.\"})\n",
    "    messages.append({\"role\": \"user\", \"content\": f\"{agent_name}, {user_message}\"})\n",
    "    response = await client.chat.completions.create(\n",
    "        model=\"gpt-4.1\",\n",
    "        messages=messages,\n",
    "        max_tokens=50,\n",
    "        stream=True\n",
    "    )\n",
    "    \n",
    "    async def streamer():\n",
    "        content = \"\"\n",
    "        async for chunk in response:\n",
    "            chunk = chunk.choices[0].delta.content\n",
    "            if isinstance(chunk,str) and chunk:\n",
    "                content += chunk\n",
    "                yield chunk\n",
    "        messages.append({\n",
    "            \"role\": \"assistant\",\n",
    "            \"content\": content\n",
    "        })\n",
    "\n",
    "    return streamer()\n",
    "\n",
    "class AsyncStateMachine:\n",
    "    \n",
    "    def __init__(self,name):\n",
    "        self.states = [\"INIT\", \"GENERATE\", \"FINAL\"]\n",
    "        self.machine = AsyncMachine(model=self, states=self.states, initial=\"INIT\")\n",
    "        self.machine.add_transition(trigger=\"run_async\",source=\"INIT\",dest=\"GENERATE\", after=\"after_action\")\n",
    "        self.machine.add_transition(trigger=\"run_async\",source=\"GENERATE\",dest=\"FINAL\")\n",
    "        self.monologue_messages = []\n",
    "        self.name = name\n",
    "        self.user_message = \"Hello, world!\"\n",
    "    \n",
    "    async def after_action(self):        \n",
    "        self.streamer = await generate(\n",
    "            messages=self.monologue_messages, \n",
    "            agent_name=self.name,\n",
    "            user_message=self.user_message\n",
    "            )\n",
    "\n",
    "asm = AsyncStateMachine(\"Sara\")\n",
    "await asm.run_async()\n",
    "async for chunk in asm.streamer:\n",
    "    print(chunk, end='', flush=True)"
   ]
  },
  {
   "cell_type": "code",
   "execution_count": 2,
   "id": "5eb495d9",
   "metadata": {},
   "outputs": [
    {
     "name": "stdout",
     "output_type": "stream",
     "text": [
      "[{'role': 'system', 'content': 'Your name is Sara. You are a helpful assistant.'}, {'role': 'user', 'content': 'Sara, Hello, world!'}, {'role': 'assistant', 'content': 'Hello, world! 👋 How can I help you today?'}]\n"
     ]
    }
   ],
   "source": [
    "print(asm.monologue_messages)"
   ]
  }
 ],
 "metadata": {
  "kernelspec": {
   "display_name": ".venv",
   "language": "python",
   "name": "python3"
  },
  "language_info": {
   "codemirror_mode": {
    "name": "ipython",
    "version": 3
   },
   "file_extension": ".py",
   "mimetype": "text/x-python",
   "name": "python",
   "nbconvert_exporter": "python",
   "pygments_lexer": "ipython3",
   "version": "3.10.18"
  }
 },
 "nbformat": 4,
 "nbformat_minor": 5
}
