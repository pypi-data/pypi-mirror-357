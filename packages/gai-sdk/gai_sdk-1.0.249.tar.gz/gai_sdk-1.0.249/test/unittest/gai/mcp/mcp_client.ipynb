{
 "cells": [
  {
   "cell_type": "markdown",
   "id": "2b9bb15b",
   "metadata": {},
   "source": [
    "## MCP - Time"
   ]
  },
  {
   "cell_type": "code",
   "execution_count": null,
   "id": "82c72877",
   "metadata": {},
   "outputs": [
    {
     "name": "stdout",
     "output_type": "stream",
     "text": [
      "Tool: current_time\n",
      "Description: {'name': 'current_time', 'description': 'Get the current date and time.', 'input_schema': {'type': 'object', 'properties': {'format': {'type': 'string', 'description': 'The format of the time, default is empty string', 'enum': ['h:mm A', 'h:mm:ss A', 'YYYY-MM-DD HH:mm:ss', 'YYYY-MM-DD', 'YYYY-MM', 'MM/DD/YYYY', 'MM/DD/YY', 'YYYY/MM/DD', 'YYYY/MM'], 'default': 'YYYY-MM-DD HH:mm:ss'}, 'timezone': {'type': 'string', 'description': 'The timezone of the time, IANA timezone name, e.g. Asia/Shanghai'}}, 'required': ['format']}}\n",
      "\n",
      "Tool: relative_time\n",
      "Description: {'name': 'relative_time', 'description': 'Get the relative time from now.', 'input_schema': {'type': 'object', 'properties': {'time': {'type': 'string', 'description': 'The time to get the relative time from now. Format: YYYY-MM-DD HH:mm:ss'}}, 'required': ['time']}}\n",
      "\n",
      "Tool: days_in_month\n",
      "Description: {'name': 'days_in_month', 'description': 'Get the number of days in a month. If no date is provided, get the number of days in the current month.', 'input_schema': {'type': 'object', 'properties': {'date': {'type': 'string', 'description': 'The date to get the days in month. Format: YYYY-MM-DD'}}}}\n",
      "\n",
      "Tool: get_timestamp\n",
      "Description: {'name': 'get_timestamp', 'description': 'Get the timestamp for the time.', 'input_schema': {'type': 'object', 'properties': {'time': {'type': 'string', 'description': 'The time to get the timestamp. Format: YYYY-MM-DD HH:mm:ss'}}}}\n",
      "\n",
      "Tool: convert_time\n",
      "Description: {'name': 'convert_time', 'description': 'Convert time between timezones.', 'input_schema': {'type': 'object', 'properties': {'sourceTimezone': {'type': 'string', 'description': 'The source timezone. IANA timezone name, e.g. Asia/Shanghai'}, 'targetTimezone': {'type': 'string', 'description': 'The target timezone. IANA timezone name, e.g. Europe/London'}, 'time': {'type': 'string', 'description': 'Date and time in 24-hour format. e.g. 2025-03-23 12:30:00'}}, 'required': ['sourceTimezone', 'targetTimezone', 'time']}}\n",
      "\n",
      "Tool: get_week_year\n",
      "Description: {'name': 'get_week_year', 'description': 'Get the week and isoWeek of the year.', 'input_schema': {'type': 'object', 'properties': {'date': {'type': 'string', 'description': 'The date to get the week and isoWeek of the year. e.g. 2025-03-23'}}}}\n",
      "\n"
     ]
    }
   ],
   "source": [
    "from gai.mcp.client import McpAggregatedClient\n",
    "\n",
    "filesystem_client = McpAggregatedClient([\"mcp-time\"])\n",
    "tools = await filesystem_client.list_tools()\n",
    "\n",
    "# List available tools\n",
    "for tool in tools:\n",
    "    print(f\"Tool: {tool['name']}\\nDescription: {tool}\\n\")\n"
   ]
  },
  {
   "cell_type": "markdown",
   "id": "d574e195",
   "metadata": {},
   "source": [
    "## MCP - FileSystem"
   ]
  },
  {
   "cell_type": "markdown",
   "id": "2a4761c6",
   "metadata": {},
   "source": [
    "### a) List Tools"
   ]
  },
  {
   "cell_type": "code",
   "execution_count": null,
   "id": "b94c18be",
   "metadata": {},
   "outputs": [
    {
     "name": "stdout",
     "output_type": "stream",
     "text": [
      "Tool: read_file\n",
      "Description: {'name': 'read_file', 'description': 'Read the complete contents of a file from the file system. Handles various text encodings and provides detailed error messages if the file cannot be read. Use this tool when you need to examine the contents of a single file. Only works within allowed directories.', 'input_schema': {'type': 'object', 'properties': {'path': {'type': 'string'}}, 'required': ['path'], 'additionalProperties': False, '$schema': 'http://json-schema.org/draft-07/schema#'}}\n",
      "\n",
      "Tool: read_multiple_files\n",
      "Description: {'name': 'read_multiple_files', 'description': \"Read the contents of multiple files simultaneously. This is more efficient than reading files one by one when you need to analyze or compare multiple files. Each file's content is returned with its path as a reference. Failed reads for individual files won't stop the entire operation. Only works within allowed directories.\", 'input_schema': {'type': 'object', 'properties': {'paths': {'type': 'array', 'items': {'type': 'string'}}}, 'required': ['paths'], 'additionalProperties': False, '$schema': 'http://json-schema.org/draft-07/schema#'}}\n",
      "\n",
      "Tool: write_file\n",
      "Description: {'name': 'write_file', 'description': 'Create a new file or completely overwrite an existing file with new content. Use with caution as it will overwrite existing files without warning. Handles text content with proper encoding. Only works within allowed directories.', 'input_schema': {'type': 'object', 'properties': {'path': {'type': 'string'}, 'content': {'type': 'string'}}, 'required': ['path', 'content'], 'additionalProperties': False, '$schema': 'http://json-schema.org/draft-07/schema#'}}\n",
      "\n",
      "Tool: edit_file\n",
      "Description: {'name': 'edit_file', 'description': 'Make line-based edits to a text file. Each edit replaces exact line sequences with new content. Returns a git-style diff showing the changes made. Only works within allowed directories.', 'input_schema': {'type': 'object', 'properties': {'path': {'type': 'string'}, 'edits': {'type': 'array', 'items': {'type': 'object', 'properties': {'oldText': {'type': 'string', 'description': 'Text to search for - must match exactly'}, 'newText': {'type': 'string', 'description': 'Text to replace with'}}, 'required': ['oldText', 'newText'], 'additionalProperties': False}}, 'dryRun': {'type': 'boolean', 'default': False, 'description': 'Preview changes using git-style diff format'}}, 'required': ['path', 'edits'], 'additionalProperties': False, '$schema': 'http://json-schema.org/draft-07/schema#'}}\n",
      "\n",
      "Tool: create_directory\n",
      "Description: {'name': 'create_directory', 'description': 'Create a new directory or ensure a directory exists. Can create multiple nested directories in one operation. If the directory already exists, this operation will succeed silently. Perfect for setting up directory structures for projects or ensuring required paths exist. Only works within allowed directories.', 'input_schema': {'type': 'object', 'properties': {'path': {'type': 'string'}}, 'required': ['path'], 'additionalProperties': False, '$schema': 'http://json-schema.org/draft-07/schema#'}}\n",
      "\n",
      "Tool: list_directory\n",
      "Description: {'name': 'list_directory', 'description': 'Get a detailed listing of all files and directories in a specified path. Results clearly distinguish between files and directories with [FILE] and [DIR] prefixes. This tool is essential for understanding directory structure and finding specific files within a directory. Only works within allowed directories.', 'input_schema': {'type': 'object', 'properties': {'path': {'type': 'string'}}, 'required': ['path'], 'additionalProperties': False, '$schema': 'http://json-schema.org/draft-07/schema#'}}\n",
      "\n",
      "Tool: search_files\n",
      "Description: {'name': 'search_files', 'description': \"Recursively search for files and directories matching a pattern. Searches through all subdirectories from the starting path. The search is case-insensitive and matches partial names. Returns full paths to all matching items. Great for finding files when you don't know their exact location. Only searches within allowed directories.\", 'input_schema': {'type': 'object', 'properties': {'path': {'type': 'string'}, 'pattern': {'type': 'string'}, 'excludePatterns': {'type': 'array', 'items': {'type': 'string'}, 'default': []}}, 'required': ['path', 'pattern'], 'additionalProperties': False, '$schema': 'http://json-schema.org/draft-07/schema#'}}\n",
      "\n",
      "Tool: get_file_info\n",
      "Description: {'name': 'get_file_info', 'description': 'Retrieve detailed metadata about a file or directory. Returns comprehensive information including size, creation time, last modified time, permissions, and type. This tool is perfect for understanding file characteristics without reading the actual content. Only works within allowed directories.', 'input_schema': {'type': 'object', 'properties': {'path': {'type': 'string'}}, 'required': ['path'], 'additionalProperties': False, '$schema': 'http://json-schema.org/draft-07/schema#'}}\n",
      "\n",
      "Tool: list_allowed_directories\n",
      "Description: {'name': 'list_allowed_directories', 'description': 'Returns the list of directories that this server is allowed to access. Use this to understand which directories are available before trying to access files.', 'input_schema': {'type': 'object', 'properties': {}, 'required': []}}\n",
      "\n"
     ]
    }
   ],
   "source": [
    "from gai.mcp.client import McpAggregatedClient\n",
    "    \n",
    "filesystem_client = McpAggregatedClient([\"mcp-filesystem\"])\n",
    "tools = await filesystem_client.list_tools()\n",
    "\n",
    "# List available tools\n",
    "for tool in tools:\n",
    "    print(f\"Tool: {tool['name']}\\nDescription: {tool}\\n\")\n",
    "    \n"
   ]
  },
  {
   "cell_type": "code",
   "execution_count": 9,
   "id": "f74acb79",
   "metadata": {},
   "outputs": [
    {
     "name": "stdout",
     "output_type": "stream",
     "text": [
      "Filesystem Client Tools: ✅ - Done\n"
     ]
    }
   ],
   "source": [
    "import os\n",
    "from gai.mcp.client import McpClient\n",
    "from gai.lib.config import config_helper\n",
    "\n",
    "# Create filesystem client\n",
    "mcp_config = config_helper.get_client_config({\n",
    "        \"type\": \"npx\",\n",
    "        \"client_type\": \"gai\",\n",
    "        \"extra\":{\n",
    "            \"command\": \"npx\",\n",
    "            \"args\": [\"-y\",\"@modelcontextprotocol/server-filesystem\",\"/tmp\"]\n",
    "        }\n",
    "})\n",
    "filesystem_client = McpClient(mcp_config)\n",
    "result = await filesystem_client.call_tool(tool_name=\"list_allowed_directories\",directory=f\"{os.environ['HOME']}/.gai/projects\")\n",
    "assert result, \"❌ Expected tools from filesystem client\"    \n",
    "print(\"Filesystem Client Tools: ✅ - Done\")"
   ]
  },
  {
   "cell_type": "markdown",
   "id": "a1ee0315",
   "metadata": {},
   "source": [
    "#### i. List allowed directories"
   ]
  },
  {
   "cell_type": "code",
   "execution_count": 11,
   "id": "faacd459",
   "metadata": {},
   "outputs": [
    {
     "name": "stdout",
     "output_type": "stream",
     "text": [
      "meta=None content=[TextContent(type='text', text='Allowed directories:\\n/tmp', annotations=None)] isError=False\n"
     ]
    }
   ],
   "source": [
    "import os\n",
    "from gai.mcp.client import McpClient\n",
    "from gai.lib.config import config_helper\n",
    "\n",
    "# Create filesystem client\n",
    "mcp_config = config_helper.get_client_config({\n",
    "        \"type\": \"npx\",\n",
    "        \"client_type\": \"gai\",\n",
    "        \"extra\":{\n",
    "            \"command\": \"npx\",\n",
    "            \"args\": [\"-y\",\"@modelcontextprotocol/server-filesystem\",\"/tmp\"]\n",
    "        }\n",
    "})\n",
    "filesystem_client = McpClient(mcp_config)\n",
    "result = await filesystem_client.call_tool(tool_name=\"list_allowed_directories\")\n",
    "print(result)"
   ]
  },
  {
   "cell_type": "markdown",
   "id": "c0f9c278",
   "metadata": {},
   "source": [
    "#### ii. List directory"
   ]
  },
  {
   "cell_type": "code",
   "execution_count": 12,
   "id": "fbdef0ef",
   "metadata": {},
   "outputs": [
    {
     "name": "stdout",
     "output_type": "stream",
     "text": [
      "meta=None content=[TextContent(type='text', text='[DIR] .X11-unix\\n[DIR] devcontainercli-kakkoii1337\\n[DIR] devcontainers-1686179e-3599-4599-b59c-6768be3ec1cc1749612777360\\n[DIR] devcontainers-1977e3f8-b3f3-4a0e-97fc-00a01cf413081749613340563\\n[DIR] devcontainers-36b4afe3-1ef3-4c07-bc17-6297d7cebb851749613026450\\n[DIR] devcontainers-e960a2d9-20e5-4051-9c68-cd8c9978a7151749613230615\\n[FILE] dockerd.log\\n[DIR] ipykernel_30506\\n[DIR] ipykernel_36009\\n[DIR] ipykernel_40779\\n[DIR] ipykernel_46423\\n[DIR] ipykernel_46677\\n[DIR] ipykernel_48456\\n[DIR] ipykernel_49442\\n[DIR] ipykernel_49844\\n[DIR] kakkoii1337-code-zsh\\n[DIR] node-compile-cache\\n[DIR] pyright-25088-Hs41yOiRozoa\\n[DIR] python-languageserver-cancellation\\n[FILE] remote-wsl-loc.txt\\n[DIR] snap-private-tmp\\n[DIR] ssh-XXXXXXIIGZNm\\n[DIR] systemd-private-d936ba9b290e429aaeaedd09ea6ff704-systemd-logind.service-EPZX7z\\n[DIR] systemd-private-d936ba9b290e429aaeaedd09ea6ff704-systemd-resolved.service-6p3Xdv\\n[DIR] systemd-private-d936ba9b290e429aaeaedd09ea6ff704-systemd-timesyncd.service-kLFePw\\n[DIR] user\\n[FILE] vscode-distro-env.2RNrhh\\n[FILE] vscode-distro-env.AuX4sW\\n[FILE] vscode-distro-env.lWaPAa\\n[FILE] vscode-ipc-16348fd2-5e05-4e92-a79a-9da14af38dbd.sock\\n[FILE] vscode-ipc-1a1fda0d-320a-46c1-8699-5ba83393f67f.sock\\n[FILE] vscode-ipc-1f25b544-91d3-4a7b-ad0c-b140b13f6a48.sock\\n[FILE] vscode-ipc-40c06149-2818-4c70-91bf-fb2907351fe2.sock\\n[FILE] vscode-ipc-61436185-bd40-4911-8165-99dac6b65acc.sock\\n[FILE] vscode-ipc-a0759caf-7557-490a-8f65-6d41b868b0ea.sock\\n[FILE] vscode-remote-containers-5198f8af-7dae-48e6-b022-6a1b9b41b294.js\\n[FILE] vscode-remote-containers-71edfcc2-2d25-47be-ae04-54da4f616cbe.js\\n[FILE] vscode-remote-containers-b42b7944-94a5-4c86-a104-04b7b13d52b0.js\\n[FILE] vscode-remote-containers-d14940db-ee83-43d2-8557-6330c1a4ffb5.js\\n[FILE] vscode-remote-containers-ipc-5198f8af-7dae-48e6-b022-6a1b9b41b294.sock\\n[FILE] vscode-remote-containers-ipc-71edfcc2-2d25-47be-ae04-54da4f616cbe.sock\\n[FILE] vscode-remote-containers-ipc-b42b7944-94a5-4c86-a104-04b7b13d52b0.sock\\n[FILE] vscode-remote-containers-ipc-d14940db-ee83-43d2-8557-6330c1a4ffb5.sock\\n[FILE] vscode-remote-containers-server-5198f8af-7dae-48e6-b022-6a1b9b41b294.js\\n[FILE] vscode-remote-containers-server-71edfcc2-2d25-47be-ae04-54da4f616cbe.js\\n[FILE] vscode-remote-containers-server-b42b7944-94a5-4c86-a104-04b7b13d52b0.js\\n[FILE] vscode-remote-containers-server-d14940db-ee83-43d2-8557-6330c1a4ffb5.js\\n[FILE] vscode-ssh-auth-5198f8af-7dae-48e6-b022-6a1b9b41b294.sock\\n[FILE] vscode-ssh-auth-71edfcc2-2d25-47be-ae04-54da4f616cbe.sock\\n[FILE] vscode-ssh-auth-b42b7944-94a5-4c86-a104-04b7b13d52b0.sock\\n[FILE] vscode-ssh-auth-d14940db-ee83-43d2-8557-6330c1a4ffb5.sock\\n[DIR] vscode-typescript1000\\n[FILE] vscode-wayland-223d6d43-a8b9-4045-8a35-507f7075b9d6.sock\\n[FILE] vscode-wayland-6e87cd96-2412-417e-a864-c11739ff9c9b.sock\\n[FILE] vscode-wayland-b31f9e36-07be-4440-bacd-1c095fb90a30.sock', annotations=None)] isError=False\n"
     ]
    }
   ],
   "source": [
    "from gai.mcp.client import McpClient\n",
    "from gai.lib.config import config_helper\n",
    "\n",
    "# Create filesystem client\n",
    "mcp_config = config_helper.get_client_config({\n",
    "        \"type\": \"npx\",\n",
    "        \"client_type\": \"gai\",\n",
    "        \"extra\":{\n",
    "            \"command\": \"npx\",\n",
    "            \"args\": [\"-y\",\"@modelcontextprotocol/server-filesystem\",\"/tmp\"]\n",
    "        }\n",
    "})\n",
    "filesystem_client = McpClient(mcp_config)\n",
    "result = await filesystem_client.call_tool(tool_name=\"list_directory\",path=\"/tmp\")\n",
    "print(result)\n"
   ]
  }
 ],
 "metadata": {
  "kernelspec": {
   "display_name": ".venv",
   "language": "python",
   "name": "python3"
  },
  "language_info": {
   "codemirror_mode": {
    "name": "ipython",
    "version": 3
   },
   "file_extension": ".py",
   "mimetype": "text/x-python",
   "name": "python",
   "nbconvert_exporter": "python",
   "pygments_lexer": "ipython3",
   "version": "3.10.18"
  }
 },
 "nbformat": 4,
 "nbformat_minor": 5
}
