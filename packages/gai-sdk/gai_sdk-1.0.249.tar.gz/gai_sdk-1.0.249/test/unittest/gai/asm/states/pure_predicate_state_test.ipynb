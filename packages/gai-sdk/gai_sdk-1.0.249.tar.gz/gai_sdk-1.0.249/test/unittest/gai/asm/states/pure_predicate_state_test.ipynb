{
    "cells": [
        {
            "cell_type": "markdown",
            "id": "77fc5d1a",
            "metadata": {},
            "source": [
                "# Agent State Machine - Predicate\n",
                "\n",
                "## Example\n",
                "\n",
                "In this example, we will demonstrate a **Predicate** state whose sole existence is to decide if the output is **true** or **false**\n"
            ]
        },
        {
            "cell_type": "markdown",
            "id": "a9762641",
            "metadata": {},
            "source": [
                "```mermaid\n",
                "stateDiagram-v2\n",
                "INIT --> PREDICATE: next / action\n",
                "PREDICATE --> TRUE(): next / action / condition_true\n",
                "    TRUE() --> FINAL: next / action\n",
                "PREDICATE --> FALSE(): next / action / condition_false\n",
                "    FALSE() --> FINAL: next / action\n",
                "```"
            ]
        },
        {
            "cell_type": "markdown",
            "id": "7e39dfe4",
            "metadata": {},
            "source": [
                "Ask if the sky is blue"
            ]
        },
        {
            "cell_type": "code",
            "execution_count": 1,
            "id": "e1aaf10e",
            "metadata": {},
            "outputs": [],
            "source": [
                "from gai.asm import AsyncStateMachine\n",
                "\n",
                "# Define the predicate: ask the LLM if the sky is blue\n",
                "\n",
                "def sky_is_blue(state) -> bool:\n",
                "    from gai.llm.openai import OpenAI,boolean_schema\n",
                "    client = OpenAI(client_config={\n",
                "        \"type\": \"ttt\",\n",
                "        \"client_type\": \"openai\",\n",
                "    })\n",
                "    response = client.beta.chat.completions.parse(\n",
                "        model=\"gpt-4o\",\n",
                "        messages=[{\"role\": \"user\", \"content\": \"The sky is blue.\"}],\n",
                "        response_format=boolean_schema, \n",
                "        max_tokens=100,\n",
                "        temperature=0.0\n",
                "    )\n",
                "    import json\n",
                "    content = json.loads(response.choices[0].message.content)  # Parse the JSON response\n",
                "    return bool(content[\"result\"])\n",
                "\n",
                "# Define the predicate actions\n",
                "\n",
                "async def run_if_true(state):\n",
                "    print(\"Action: THE ANSWER IS TRUE\")\n",
                "\n",
                "async def run_if_false(state):\n",
                "    print(\"Action: THE ANSWER IS FALSE\")\n",
                "\n",
                "with AsyncStateMachine.StateMachineBuilder(\"\"\"\n",
                "    INIT --> PREDICATE\n",
                "    PREDICATE --> TRUE: condition_true\n",
                "        TRUE --> FINAL \n",
                "    PREDICATE --> FALSE: condition_false\n",
                "        FALSE --> FINAL    \n",
                "    \"\"\") as builder:\n",
                "        fsm = builder.build({\n",
                "                \"PREDICATE\": {\n",
                "                    \"module_path\": \"gai.asm.states\",\n",
                "                    \"class_name\": \"PurePredicateState\",\n",
                "                    \"title\": \"PREDICATE\",\n",
                "                    \"predicate\": \"sky_is_blue\",\n",
                "                    \"output_data\": [\"predicate_result\"],\n",
                "                    \"conditions\": [\"condition_true\", \"condition_false\"]\n",
                "                },\n",
                "                \"TRUE\": {\n",
                "                    \"module_path\": \"gai.asm.states\",\n",
                "                    \"class_name\": \"PureActionState\",\n",
                "                    \"input_data\": {\n",
                "                        \"title\": \"TRUE\"\n",
                "                    },\n",
                "                    \"action\": \"run_if_true\"\n",
                "                },\n",
                "                \"FALSE\": {\n",
                "                    \"module_path\": \"gai.asm.states\",\n",
                "                    \"class_name\": \"PureActionState\",\n",
                "                    \"input_data\": {\n",
                "                        \"title\": \"FALSE\"\n",
                "                    },\n",
                "                    \"action\": \"run_if_false\"\n",
                "                }\n",
                "            },\n",
                "            sky_is_blue=sky_is_blue,\n",
                "            run_if_true=run_if_true,\n",
                "            run_if_false=run_if_false\n",
                "            )"
            ]
        },
        {
            "cell_type": "code",
            "execution_count": 2,
            "id": "68c30bea",
            "metadata": {},
            "outputs": [
                {
                    "name": "stdout",
                    "output_type": "stream",
                    "text": [
                        "Current state is PREDICATE\n",
                        "Result is True\n"
                    ]
                }
            ],
            "source": [
                "fsm.restart()\n",
                "await fsm.run_async()\n",
                "\n",
                "# state output:\n",
                "print(\"Current state is\", fsm.state)\n",
                "print(\"Result is\",fsm.state_bag[\"predicate_result\"])\n"
            ]
        },
        {
            "cell_type": "code",
            "execution_count": 3,
            "id": "27c1e705",
            "metadata": {},
            "outputs": [
                {
                    "name": "stdout",
                    "output_type": "stream",
                    "text": [
                        "Action: THE ANSWER IS TRUE\n",
                        "Current state is TRUE\n"
                    ]
                }
            ],
            "source": [
                "await fsm.run_async()\n",
                "\n",
                "# state output:\n",
                "print(\"Current state is\", fsm.state)\n"
            ]
        }
    ],
    "metadata": {
        "kernelspec": {
            "display_name": ".venv",
            "language": "python",
            "name": "python3"
        },
        "language_info": {
            "codemirror_mode": {
                "name": "ipython",
                "version": 3
            },
            "file_extension": ".py",
            "mimetype": "text/x-python",
            "name": "python",
            "nbconvert_exporter": "python",
            "pygments_lexer": "ipython3",
            "version": "3.10.18"
        }
    },
    "nbformat": 4,
    "nbformat_minor": 5
}
