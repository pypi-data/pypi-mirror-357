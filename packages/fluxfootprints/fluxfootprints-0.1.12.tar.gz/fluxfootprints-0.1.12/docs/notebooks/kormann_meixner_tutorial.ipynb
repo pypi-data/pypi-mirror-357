{
 "cells": [
  {
   "cell_type": "markdown",
   "id": "1b370839",
   "metadata": {},
   "source": [
    "# Kormann–Meixner Footprint Tutorial\n",
    "Using the **kormannmeixner** implementation and a sample half‑hourly micrometeorological record from the AmeriFlux US‑UTE tower (attached CSV), this notebook shows how to\n",
    "1. load the data,\n",
    "2. derive the parameters required by the analytical footprint model, and\n",
    "3. visualise both the cross‑wind‑integrated and full 2‑D flux footprints.\n",
    "\n",
    "Feel free to adapt the code for your own sites and data sets!"
   ]
  },
  {
   "cell_type": "markdown",
   "id": "cbe89f2c",
   "metadata": {},
   "source": [
    "## 1. Imports & Settings"
   ]
  },
  {
   "cell_type": "code",
   "execution_count": 1,
   "id": "6b9764a6",
   "metadata": {},
   "outputs": [],
   "source": [
    "import pandas as pd\n",
    "import numpy as np\n",
    "import matplotlib.pyplot as plt\n",
    "from pathlib import Path\n",
    "import os\n",
    "import sys\n",
    "sys.path.insert(0, os.path.abspath(\"../../src\"))  # adjust path as needed\n",
    "from fluxfootprints import kormannmeixner\n",
    "\n",
    "%matplotlib inline\n",
    "plt.rcParams['figure.dpi']=120"
   ]
  },
  {
   "cell_type": "markdown",
   "id": "b9808ae9",
   "metadata": {},
   "source": [
    "## 2. Load the half‑hourly tower data"
   ]
  },
  {
   "cell_type": "code",
   "execution_count": 5,
   "id": "f554f417",
   "metadata": {},
   "outputs": [
    {
     "data": {
      "application/vnd.microsoft.datawrangler.viewer.v0+json": {
       "columns": [
        {
         "name": "TIMESTAMP_START",
         "rawType": "datetime64[ns]",
         "type": "datetime"
        },
        {
         "name": "datetime_start",
         "rawType": "object",
         "type": "string"
        },
        {
         "name": "TIMESTAMP_END",
         "rawType": "int64",
         "type": "integer"
        },
        {
         "name": "CO2",
         "rawType": "float64",
         "type": "float"
        },
        {
         "name": "CO2_SIGMA",
         "rawType": "float64",
         "type": "float"
        },
        {
         "name": "H2O",
         "rawType": "float64",
         "type": "float"
        },
        {
         "name": "H2O_SIGMA",
         "rawType": "float64",
         "type": "float"
        },
        {
         "name": "FC",
         "rawType": "float64",
         "type": "float"
        },
        {
         "name": "FC_SSITC_TEST",
         "rawType": "float64",
         "type": "float"
        },
        {
         "name": "LE",
         "rawType": "float64",
         "type": "float"
        },
        {
         "name": "LE_SSITC_TEST",
         "rawType": "float64",
         "type": "float"
        },
        {
         "name": "ET",
         "rawType": "float64",
         "type": "float"
        },
        {
         "name": "ET_SSITC_TEST",
         "rawType": "int64",
         "type": "integer"
        },
        {
         "name": "H",
         "rawType": "float64",
         "type": "float"
        },
        {
         "name": "H_SSITC_TEST",
         "rawType": "float64",
         "type": "float"
        },
        {
         "name": "G",
         "rawType": "float64",
         "type": "float"
        },
        {
         "name": "SG",
         "rawType": "float64",
         "type": "float"
        },
        {
         "name": "FETCH_MAX",
         "rawType": "float64",
         "type": "float"
        },
        {
         "name": "FETCH_90",
         "rawType": "float64",
         "type": "float"
        },
        {
         "name": "FETCH_55",
         "rawType": "float64",
         "type": "float"
        },
        {
         "name": "FETCH_40",
         "rawType": "float64",
         "type": "float"
        },
        {
         "name": "WD",
         "rawType": "float64",
         "type": "float"
        },
        {
         "name": "WS",
         "rawType": "float64",
         "type": "float"
        },
        {
         "name": "WS_MAX",
         "rawType": "float64",
         "type": "float"
        },
        {
         "name": "USTAR",
         "rawType": "float64",
         "type": "float"
        },
        {
         "name": "ZL",
         "rawType": "float64",
         "type": "float"
        },
        {
         "name": "TAU",
         "rawType": "float64",
         "type": "float"
        },
        {
         "name": "TAU_SSITC_TEST",
         "rawType": "float64",
         "type": "float"
        },
        {
         "name": "MO_LENGTH",
         "rawType": "float64",
         "type": "float"
        },
        {
         "name": "U",
         "rawType": "float64",
         "type": "float"
        },
        {
         "name": "U_SIGMA",
         "rawType": "float64",
         "type": "float"
        },
        {
         "name": "V",
         "rawType": "float64",
         "type": "float"
        },
        {
         "name": "V_SIGMA",
         "rawType": "float64",
         "type": "float"
        },
        {
         "name": "W",
         "rawType": "float64",
         "type": "float"
        },
        {
         "name": "W_SIGMA",
         "rawType": "float64",
         "type": "float"
        },
        {
         "name": "PA",
         "rawType": "float64",
         "type": "float"
        },
        {
         "name": "TA_1_1_1",
         "rawType": "float64",
         "type": "float"
        },
        {
         "name": "RH_1_1_1",
         "rawType": "float64",
         "type": "float"
        },
        {
         "name": "T_DP_1_1_1",
         "rawType": "float64",
         "type": "float"
        },
        {
         "name": "VPD",
         "rawType": "float64",
         "type": "float"
        },
        {
         "name": "T_SONIC",
         "rawType": "float64",
         "type": "float"
        },
        {
         "name": "T_SONIC_SIGMA",
         "rawType": "float64",
         "type": "float"
        },
        {
         "name": "TS_1_1_1",
         "rawType": "float64",
         "type": "float"
        },
        {
         "name": "SWC_1_1_1",
         "rawType": "float64",
         "type": "float"
        },
        {
         "name": "ALB",
         "rawType": "float64",
         "type": "float"
        },
        {
         "name": "NETRAD",
         "rawType": "float64",
         "type": "float"
        },
        {
         "name": "SW_IN",
         "rawType": "float64",
         "type": "float"
        },
        {
         "name": "SW_OUT",
         "rawType": "float64",
         "type": "float"
        },
        {
         "name": "LW_IN",
         "rawType": "float64",
         "type": "float"
        },
        {
         "name": "LW_OUT",
         "rawType": "float64",
         "type": "float"
        },
        {
         "name": "P",
         "rawType": "float64",
         "type": "float"
        },
        {
         "name": "file_no",
         "rawType": "float64",
         "type": "float"
        },
        {
         "name": "TA_1_2_1",
         "rawType": "float64",
         "type": "float"
        },
        {
         "name": "RH_1_2_1",
         "rawType": "float64",
         "type": "float"
        },
        {
         "name": "T_DP_1_2_1",
         "rawType": "float64",
         "type": "float"
        },
        {
         "name": "TA_1_3_1",
         "rawType": "float64",
         "type": "float"
        },
        {
         "name": "RH_1_3_1",
         "rawType": "float64",
         "type": "float"
        },
        {
         "name": "T_DP_1_3_1",
         "rawType": "float64",
         "type": "float"
        },
        {
         "name": "TA_1_4_1",
         "rawType": "float64",
         "type": "float"
        },
        {
         "name": "PBLH_F",
         "rawType": "float64",
         "type": "float"
        },
        {
         "name": "TS_2_1_1",
         "rawType": "float64",
         "type": "float"
        },
        {
         "name": "SWC_2_1_1",
         "rawType": "float64",
         "type": "float"
        }
       ],
       "ref": "1e6716af-564b-4dd9-9e4e-366f5a39ebd0",
       "rows": [
        [
         "2024-06-24 14:30:00",
         "2024-06-24 14:30:00",
         "202406241500",
         "427.0199",
         "0.6281331",
         "17.26862",
         "1.01929",
         "0.0692101",
         "-9999.0",
         "156.4085",
         "-9999.0",
         "0.2317847",
         "1",
         "68.15252",
         "-9999.0",
         "74.8003",
         "46.48377",
         "20.10258",
         "55.5867",
         "28.58118",
         "21.63193",
         "83.82242",
         "4.118659",
         "11.398",
         "0.2854266",
         "-0.1000675",
         "-0.07743155",
         "-9999.0",
         "-21.72663",
         "3.943613",
         "1.289412",
         "0.0",
         "1.243537",
         "0.0",
         "0.5457488",
         "83.32956",
         "30.37961",
         "32.53116",
         "12.07391",
         "28.36929",
         "31.6011",
         "0.7804169",
         "22.91248",
         "-9999.0",
         "30.47296",
         "535.9557",
         "901.6483",
         "279.5316",
         "404.7657",
         "490.9268",
         "0.0",
         "2.0",
         "29.95141",
         "33.26877",
         "12.0526",
         "30.32464",
         "33.45364",
         "12.46181",
         "30.06976",
         "1665.467",
         "25.72815",
         "22.44161"
        ],
        [
         "2024-06-24 15:00:00",
         "2024-06-24 15:00:00",
         "202406241530",
         "425.9499",
         "1.019297",
         "15.18936",
         "0.7030515",
         "0.2854458",
         "-9999.0",
         "138.3092",
         "-9999.0",
         "0.20497",
         "1",
         "43.44571",
         "-9999.0",
         "-11.26564",
         "-34.50821",
         "19.01147",
         "52.56938",
         "27.02798",
         "20.45655",
         "84.50763",
         "3.128728",
         "8.11528",
         "0.2287946",
         "-0.130162",
         "-0.04976684",
         "-9999.0",
         "-16.70326",
         "2.949647",
         "1.087555",
         "0.0",
         "1.085609",
         "3.72529e-09",
         "0.4690718",
         "83.3021",
         "30.43124",
         "28.59812",
         "10.17519",
         "30.22208",
         "31.47819",
         "0.6128186",
         "22.98583",
         "-9999.0",
         "31.01464",
         "404.8066",
         "711.1035",
         "227.3555",
         "407.2817",
         "486.2231",
         "0.0",
         "2.0",
         "30.02516",
         "29.22197",
         "10.15524",
         "30.35956",
         "29.77183",
         "10.72635",
         "30.13765",
         "1765.935",
         "25.52736",
         "22.41975"
        ],
        [
         "2024-06-24 15:30:00",
         "2024-06-24 15:30:00",
         "202406241600",
         "426.4163",
         "1.965228",
         "14.87533",
         "0.8080265",
         "1.081928",
         "-9999.0",
         "154.1153",
         "-9999.0",
         "0.2284687",
         "2",
         "30.66234",
         "-9999.0",
         "-41.83331",
         "-63.57699",
         "24.54221",
         "67.84465",
         "34.89815",
         "26.41252",
         "98.6839",
         "2.669845",
         "6.715653",
         "0.2784614",
         "-0.05601415",
         "-0.07362495",
         "1.0",
         "-38.81393",
         "2.517204",
         "0.9474617",
         "0.0",
         "0.9015959",
         "3.72529e-09",
         "0.4148929",
         "83.27771",
         "30.85518",
         "27.38244",
         "9.86806",
         "31.03824",
         "31.67058",
         "0.7545337",
         "23.08474",
         "-9999.0",
         "29.70208",
         "292.8351",
         "546.4703",
         "175.4796",
         "408.3091",
         "486.4648",
         "0.0",
         "2.0",
         "30.24634",
         "28.28498",
         "9.838229",
         "30.69433",
         "28.63222",
         "10.41335",
         "30.40344",
         "1495.735",
         "25.12511",
         "22.32785"
        ],
        [
         "2024-06-24 16:00:00",
         "2024-06-24 16:00:00",
         "202406241630",
         "426.0534",
         "2.665907",
         "15.6114",
         "1.002919",
         "0.5196642",
         "-9999.0",
         "135.5618",
         "-9999.0",
         "0.2010524",
         "2",
         "35.2179",
         "-9999.0",
         "-35.91724",
         "-55.3435",
         "25.22658",
         "69.73144",
         "35.87147",
         "27.14916",
         "99.19427",
         "2.552504",
         "7.758736",
         "0.307955",
         "-0.04485384",
         "-0.08986875",
         "-9999.0",
         "-48.47143",
         "2.415924",
         "0.9642583",
         "0.0",
         "0.8306037",
         "7.450581e-09",
         "0.4433303",
         "83.25893",
         "31.35262",
         "27.86196",
         "10.56774",
         "31.70765",
         "32.24849",
         "0.7409122",
         "23.06612",
         "-9999.0",
         "31.21184",
         "331.988",
         "619.2519",
         "209.6434",
         "410.9713",
         "488.5918",
         "0.0",
         "2.0",
         "30.75179",
         "28.75255",
         "10.53822",
         "31.14621",
         "29.16225",
         "11.09066",
         "30.90061",
         "1491.062",
         "24.63557",
         "22.18172"
        ],
        [
         "2024-06-24 16:30:00",
         "2024-06-24 16:30:00",
         "202406241700",
         "427.8476",
         "1.102921",
         "15.21034",
         "0.7030841",
         "1.147608",
         "-9999.0",
         "95.06287",
         "-9999.0",
         "0.1407727",
         "2",
         "-13.31553",
         "-9999.0",
         "-56.61974",
         "-71.7462",
         "26.52178",
         "74.34869",
         "37.88823",
         "28.65891",
         "115.6484",
         "1.786293",
         "6.475121",
         "0.3013755",
         "0.007892104",
         "-0.08651999",
         "-9999.0",
         "275.4816",
         "1.65628",
         "0.8001992",
         "0.0",
         "0.6585423",
         "-9.313226e-10",
         "0.4075378",
         "83.24686",
         "29.68962",
         "29.8947",
         "10.19186",
         "28.14444",
         "30.6135",
         "0.5463738",
         "22.7616",
         "-9999.0",
         "28.93153",
         "79.40314",
         "209.7798",
         "67.09201",
         "404.4651",
         "467.7497",
         "0.0",
         "2.0",
         "29.16274",
         "30.77158",
         "10.16581",
         "29.57434",
         "30.96792",
         "10.63069",
         "29.3051",
         "341.9711",
         "24.14865",
         "22.03216"
        ]
       ],
       "shape": {
        "columns": 61,
        "rows": 5
       }
      },
      "text/html": [
       "<div>\n",
       "<style scoped>\n",
       "    .dataframe tbody tr th:only-of-type {\n",
       "        vertical-align: middle;\n",
       "    }\n",
       "\n",
       "    .dataframe tbody tr th {\n",
       "        vertical-align: top;\n",
       "    }\n",
       "\n",
       "    .dataframe thead th {\n",
       "        text-align: right;\n",
       "    }\n",
       "</style>\n",
       "<table border=\"1\" class=\"dataframe\">\n",
       "  <thead>\n",
       "    <tr style=\"text-align: right;\">\n",
       "      <th></th>\n",
       "      <th>datetime_start</th>\n",
       "      <th>TIMESTAMP_END</th>\n",
       "      <th>CO2</th>\n",
       "      <th>CO2_SIGMA</th>\n",
       "      <th>H2O</th>\n",
       "      <th>H2O_SIGMA</th>\n",
       "      <th>FC</th>\n",
       "      <th>FC_SSITC_TEST</th>\n",
       "      <th>LE</th>\n",
       "      <th>LE_SSITC_TEST</th>\n",
       "      <th>...</th>\n",
       "      <th>TA_1_2_1</th>\n",
       "      <th>RH_1_2_1</th>\n",
       "      <th>T_DP_1_2_1</th>\n",
       "      <th>TA_1_3_1</th>\n",
       "      <th>RH_1_3_1</th>\n",
       "      <th>T_DP_1_3_1</th>\n",
       "      <th>TA_1_4_1</th>\n",
       "      <th>PBLH_F</th>\n",
       "      <th>TS_2_1_1</th>\n",
       "      <th>SWC_2_1_1</th>\n",
       "    </tr>\n",
       "    <tr>\n",
       "      <th>TIMESTAMP_START</th>\n",
       "      <th></th>\n",
       "      <th></th>\n",
       "      <th></th>\n",
       "      <th></th>\n",
       "      <th></th>\n",
       "      <th></th>\n",
       "      <th></th>\n",
       "      <th></th>\n",
       "      <th></th>\n",
       "      <th></th>\n",
       "      <th></th>\n",
       "      <th></th>\n",
       "      <th></th>\n",
       "      <th></th>\n",
       "      <th></th>\n",
       "      <th></th>\n",
       "      <th></th>\n",
       "      <th></th>\n",
       "      <th></th>\n",
       "      <th></th>\n",
       "      <th></th>\n",
       "    </tr>\n",
       "  </thead>\n",
       "  <tbody>\n",
       "    <tr>\n",
       "      <th>2024-06-24 14:30:00</th>\n",
       "      <td>2024-06-24 14:30:00</td>\n",
       "      <td>202406241500</td>\n",
       "      <td>427.0199</td>\n",
       "      <td>0.628133</td>\n",
       "      <td>17.26862</td>\n",
       "      <td>1.019290</td>\n",
       "      <td>0.069210</td>\n",
       "      <td>-9999.0</td>\n",
       "      <td>156.40850</td>\n",
       "      <td>-9999.0</td>\n",
       "      <td>...</td>\n",
       "      <td>29.95141</td>\n",
       "      <td>33.26877</td>\n",
       "      <td>12.052600</td>\n",
       "      <td>30.32464</td>\n",
       "      <td>33.45364</td>\n",
       "      <td>12.46181</td>\n",
       "      <td>30.06976</td>\n",
       "      <td>1665.4670</td>\n",
       "      <td>25.72815</td>\n",
       "      <td>22.44161</td>\n",
       "    </tr>\n",
       "    <tr>\n",
       "      <th>2024-06-24 15:00:00</th>\n",
       "      <td>2024-06-24 15:00:00</td>\n",
       "      <td>202406241530</td>\n",
       "      <td>425.9499</td>\n",
       "      <td>1.019297</td>\n",
       "      <td>15.18936</td>\n",
       "      <td>0.703052</td>\n",
       "      <td>0.285446</td>\n",
       "      <td>-9999.0</td>\n",
       "      <td>138.30920</td>\n",
       "      <td>-9999.0</td>\n",
       "      <td>...</td>\n",
       "      <td>30.02516</td>\n",
       "      <td>29.22197</td>\n",
       "      <td>10.155240</td>\n",
       "      <td>30.35956</td>\n",
       "      <td>29.77183</td>\n",
       "      <td>10.72635</td>\n",
       "      <td>30.13765</td>\n",
       "      <td>1765.9350</td>\n",
       "      <td>25.52736</td>\n",
       "      <td>22.41975</td>\n",
       "    </tr>\n",
       "    <tr>\n",
       "      <th>2024-06-24 15:30:00</th>\n",
       "      <td>2024-06-24 15:30:00</td>\n",
       "      <td>202406241600</td>\n",
       "      <td>426.4163</td>\n",
       "      <td>1.965228</td>\n",
       "      <td>14.87533</td>\n",
       "      <td>0.808026</td>\n",
       "      <td>1.081928</td>\n",
       "      <td>-9999.0</td>\n",
       "      <td>154.11530</td>\n",
       "      <td>-9999.0</td>\n",
       "      <td>...</td>\n",
       "      <td>30.24634</td>\n",
       "      <td>28.28498</td>\n",
       "      <td>9.838229</td>\n",
       "      <td>30.69433</td>\n",
       "      <td>28.63222</td>\n",
       "      <td>10.41335</td>\n",
       "      <td>30.40344</td>\n",
       "      <td>1495.7350</td>\n",
       "      <td>25.12511</td>\n",
       "      <td>22.32785</td>\n",
       "    </tr>\n",
       "    <tr>\n",
       "      <th>2024-06-24 16:00:00</th>\n",
       "      <td>2024-06-24 16:00:00</td>\n",
       "      <td>202406241630</td>\n",
       "      <td>426.0534</td>\n",
       "      <td>2.665907</td>\n",
       "      <td>15.61140</td>\n",
       "      <td>1.002919</td>\n",
       "      <td>0.519664</td>\n",
       "      <td>-9999.0</td>\n",
       "      <td>135.56180</td>\n",
       "      <td>-9999.0</td>\n",
       "      <td>...</td>\n",
       "      <td>30.75179</td>\n",
       "      <td>28.75255</td>\n",
       "      <td>10.538220</td>\n",
       "      <td>31.14621</td>\n",
       "      <td>29.16225</td>\n",
       "      <td>11.09066</td>\n",
       "      <td>30.90061</td>\n",
       "      <td>1491.0620</td>\n",
       "      <td>24.63557</td>\n",
       "      <td>22.18172</td>\n",
       "    </tr>\n",
       "    <tr>\n",
       "      <th>2024-06-24 16:30:00</th>\n",
       "      <td>2024-06-24 16:30:00</td>\n",
       "      <td>202406241700</td>\n",
       "      <td>427.8476</td>\n",
       "      <td>1.102921</td>\n",
       "      <td>15.21034</td>\n",
       "      <td>0.703084</td>\n",
       "      <td>1.147608</td>\n",
       "      <td>-9999.0</td>\n",
       "      <td>95.06287</td>\n",
       "      <td>-9999.0</td>\n",
       "      <td>...</td>\n",
       "      <td>29.16274</td>\n",
       "      <td>30.77158</td>\n",
       "      <td>10.165810</td>\n",
       "      <td>29.57434</td>\n",
       "      <td>30.96792</td>\n",
       "      <td>10.63069</td>\n",
       "      <td>29.30510</td>\n",
       "      <td>341.9711</td>\n",
       "      <td>24.14865</td>\n",
       "      <td>22.03216</td>\n",
       "    </tr>\n",
       "  </tbody>\n",
       "</table>\n",
       "<p>5 rows × 61 columns</p>\n",
       "</div>"
      ],
      "text/plain": [
       "                          datetime_start  TIMESTAMP_END       CO2  CO2_SIGMA  \\\n",
       "TIMESTAMP_START                                                                \n",
       "2024-06-24 14:30:00  2024-06-24 14:30:00   202406241500  427.0199   0.628133   \n",
       "2024-06-24 15:00:00  2024-06-24 15:00:00   202406241530  425.9499   1.019297   \n",
       "2024-06-24 15:30:00  2024-06-24 15:30:00   202406241600  426.4163   1.965228   \n",
       "2024-06-24 16:00:00  2024-06-24 16:00:00   202406241630  426.0534   2.665907   \n",
       "2024-06-24 16:30:00  2024-06-24 16:30:00   202406241700  427.8476   1.102921   \n",
       "\n",
       "                          H2O  H2O_SIGMA        FC  FC_SSITC_TEST         LE  \\\n",
       "TIMESTAMP_START                                                                \n",
       "2024-06-24 14:30:00  17.26862   1.019290  0.069210        -9999.0  156.40850   \n",
       "2024-06-24 15:00:00  15.18936   0.703052  0.285446        -9999.0  138.30920   \n",
       "2024-06-24 15:30:00  14.87533   0.808026  1.081928        -9999.0  154.11530   \n",
       "2024-06-24 16:00:00  15.61140   1.002919  0.519664        -9999.0  135.56180   \n",
       "2024-06-24 16:30:00  15.21034   0.703084  1.147608        -9999.0   95.06287   \n",
       "\n",
       "                     LE_SSITC_TEST  ...  TA_1_2_1  RH_1_2_1  T_DP_1_2_1  \\\n",
       "TIMESTAMP_START                     ...                                   \n",
       "2024-06-24 14:30:00        -9999.0  ...  29.95141  33.26877   12.052600   \n",
       "2024-06-24 15:00:00        -9999.0  ...  30.02516  29.22197   10.155240   \n",
       "2024-06-24 15:30:00        -9999.0  ...  30.24634  28.28498    9.838229   \n",
       "2024-06-24 16:00:00        -9999.0  ...  30.75179  28.75255   10.538220   \n",
       "2024-06-24 16:30:00        -9999.0  ...  29.16274  30.77158   10.165810   \n",
       "\n",
       "                     TA_1_3_1  RH_1_3_1  T_DP_1_3_1  TA_1_4_1     PBLH_F  \\\n",
       "TIMESTAMP_START                                                            \n",
       "2024-06-24 14:30:00  30.32464  33.45364    12.46181  30.06976  1665.4670   \n",
       "2024-06-24 15:00:00  30.35956  29.77183    10.72635  30.13765  1765.9350   \n",
       "2024-06-24 15:30:00  30.69433  28.63222    10.41335  30.40344  1495.7350   \n",
       "2024-06-24 16:00:00  31.14621  29.16225    11.09066  30.90061  1491.0620   \n",
       "2024-06-24 16:30:00  29.57434  30.96792    10.63069  29.30510   341.9711   \n",
       "\n",
       "                     TS_2_1_1  SWC_2_1_1  \n",
       "TIMESTAMP_START                           \n",
       "2024-06-24 14:30:00  25.72815   22.44161  \n",
       "2024-06-24 15:00:00  25.52736   22.41975  \n",
       "2024-06-24 15:30:00  25.12511   22.32785  \n",
       "2024-06-24 16:00:00  24.63557   22.18172  \n",
       "2024-06-24 16:30:00  24.14865   22.03216  \n",
       "\n",
       "[5 rows x 61 columns]"
      ]
     },
     "execution_count": 5,
     "metadata": {},
     "output_type": "execute_result"
    }
   ],
   "source": [
    "data_path = Path('US-UTE_HH_202406241430_202409251400.csv')\n",
    "df = pd.read_csv(data_path, parse_dates=['TIMESTAMP_START'])\n",
    "df = df.set_index('TIMESTAMP_START')\n",
    "df.head()"
   ]
  },
  {
   "cell_type": "markdown",
   "id": "26a1ec28",
   "metadata": {},
   "source": [
    "## 3. Choose a period\n",
    "For demonstration we pick one half‑hour with few missing values and reasonably high turbulence."
   ]
  },
  {
   "cell_type": "code",
   "execution_count": 6,
   "id": "a61a7706",
   "metadata": {},
   "outputs": [
    {
     "data": {
      "text/plain": [
       "Timestamp('2024-06-24 14:30:00')"
      ]
     },
     "execution_count": 6,
     "metadata": {},
     "output_type": "execute_result"
    }
   ],
   "source": [
    "# heuristic filter\n",
    "good = df[(df['USTAR']>0.15) & (df['WS']>1) & df['MO_LENGTH'].notna()]\n",
    "row = good.iloc[0]\n",
    "row.name"
   ]
  },
  {
   "cell_type": "markdown",
   "id": "895216cc",
   "metadata": {},
   "source": [
    "### Extract the required micrometeorological parameters"
   ]
  },
  {
   "cell_type": "code",
   "execution_count": 7,
   "id": "337f5fee",
   "metadata": {},
   "outputs": [
    {
     "data": {
      "application/vnd.microsoft.datawrangler.viewer.v0+json": {
       "columns": [
        {
         "name": "index",
         "rawType": "int64",
         "type": "integer"
        },
        {
         "name": "parameter",
         "rawType": "object",
         "type": "string"
        },
        {
         "name": "value",
         "rawType": "float64",
         "type": "float"
        }
       ],
       "ref": "09e709cd-7bed-4a24-89f2-aa93f55188bd",
       "rows": [
        [
         "0",
         "z_m",
         "20.0"
        ],
        [
         "1",
         "z_0",
         "0.03"
        ],
        [
         "2",
         "L",
         "-21.72663"
        ],
        [
         "3",
         "u_star",
         "0.2854266"
        ],
        [
         "4",
         "u_zm",
         "4.118659"
        ],
        [
         "5",
         "sigma_v",
         "1.243537"
        ]
       ],
       "shape": {
        "columns": 2,
        "rows": 6
       }
      },
      "text/html": [
       "<div>\n",
       "<style scoped>\n",
       "    .dataframe tbody tr th:only-of-type {\n",
       "        vertical-align: middle;\n",
       "    }\n",
       "\n",
       "    .dataframe tbody tr th {\n",
       "        vertical-align: top;\n",
       "    }\n",
       "\n",
       "    .dataframe thead th {\n",
       "        text-align: right;\n",
       "    }\n",
       "</style>\n",
       "<table border=\"1\" class=\"dataframe\">\n",
       "  <thead>\n",
       "    <tr style=\"text-align: right;\">\n",
       "      <th></th>\n",
       "      <th>parameter</th>\n",
       "      <th>value</th>\n",
       "    </tr>\n",
       "  </thead>\n",
       "  <tbody>\n",
       "    <tr>\n",
       "      <th>0</th>\n",
       "      <td>z_m</td>\n",
       "      <td>20.000000</td>\n",
       "    </tr>\n",
       "    <tr>\n",
       "      <th>1</th>\n",
       "      <td>z_0</td>\n",
       "      <td>0.030000</td>\n",
       "    </tr>\n",
       "    <tr>\n",
       "      <th>2</th>\n",
       "      <td>L</td>\n",
       "      <td>-21.726630</td>\n",
       "    </tr>\n",
       "    <tr>\n",
       "      <th>3</th>\n",
       "      <td>u_star</td>\n",
       "      <td>0.285427</td>\n",
       "    </tr>\n",
       "    <tr>\n",
       "      <th>4</th>\n",
       "      <td>u_zm</td>\n",
       "      <td>4.118659</td>\n",
       "    </tr>\n",
       "    <tr>\n",
       "      <th>5</th>\n",
       "      <td>sigma_v</td>\n",
       "      <td>1.243537</td>\n",
       "    </tr>\n",
       "  </tbody>\n",
       "</table>\n",
       "</div>"
      ],
      "text/plain": [
       "  parameter      value\n",
       "0       z_m  20.000000\n",
       "1       z_0   0.030000\n",
       "2         L -21.726630\n",
       "3    u_star   0.285427\n",
       "4      u_zm   4.118659\n",
       "5   sigma_v   1.243537"
      ]
     },
     "execution_count": 7,
     "metadata": {},
     "output_type": "execute_result"
    }
   ],
   "source": [
    "# --- REQUIRED INPUTS ---\n",
    "z_m = 20.0      # measurement height above displacement height [m] (edit!)\n",
    "z_0 = 0.03      # aerodynamic roughness length [m] (edit!)\n",
    "\n",
    "L       = row['MO_LENGTH']    # Obukhov length [m]\n",
    "u_star  = row['USTAR']        # friction velocity [m s‑1]\n",
    "u_zm    = row['WS']           # mean wind speed at z_m [m s‑1]\n",
    "sigma_v = row['V_SIGMA']      # cross‑wind velocity std‑dev [m s‑1]\n",
    "\n",
    "pd.DataFrame({\n",
    "    'parameter':['z_m','z_0','L','u_star','u_zm','sigma_v'],\n",
    "    'value':[z_m,z_0,L,u_star,u_zm,sigma_v]\n",
    "})"
   ]
  },
  {
   "cell_type": "markdown",
   "id": "118c231f",
   "metadata": {},
   "source": [
    "## 4. Run the Kormann–Meixner model"
   ]
  },
  {
   "cell_type": "code",
   "execution_count": 8,
   "id": "bb789e4b",
   "metadata": {},
   "outputs": [
    {
     "name": "stdout",
     "output_type": "stream",
     "text": [
      "m=0.087, n=1.468, ξ=475.12 m\n"
     ]
    }
   ],
   "source": [
    "# Step 1: power‑law exponents for wind speed (m) and eddy diffusivity (n)\n",
    "m, n, U, kappa = kormannmeixner.analytical_power_law_parameters(z_m, z_0, L, u_star, u_zm)\n",
    "xi = kormannmeixner.length_scale_xi(z_m, U, kappa, m, n)\n",
    "print(f'm={m:.3f}, n={n:.3f}, ξ={xi:.2f} m')"
   ]
  },
  {
   "cell_type": "markdown",
   "id": "013467d5",
   "metadata": {},
   "source": [
    "### Cross‑wind‑integrated footprint $f(x)$"
   ]
  },
  {
   "cell_type": "code",
   "execution_count": 9,
   "id": "d40968ae",
   "metadata": {},
   "outputs": [
    {
     "data": {
      "image/png": "[encoded data removed]",
      "text/plain": [
       "<Figure size 768x576 with 1 Axes>"
      ]
     },
     "metadata": {},
     "output_type": "display_data"
    }
   ],
   "source": [
    "x = np.logspace(-1, 3, 400)  # 0.1 … 1000 m\n",
    "f_x = kormannmeixner.crosswind_integrated_footprint(x, xi, m, n)\n",
    "plt.figure()\n",
    "plt.loglog(x, f_x)\n",
    "plt.xlabel('upwind distance $x$ [m]')\n",
    "plt.ylabel('$f(x, z_m)$  [m⁻¹]')\n",
    "plt.title('Cross‑wind‑integrated footprint')\n",
    "plt.show()"
   ]
  },
  {
   "cell_type": "markdown",
   "id": "0148ab27",
   "metadata": {},
   "source": [
    "### 2‑D footprint $\\varphi(x,y)$"
   ]
  },
  {
   "cell_type": "code",
   "execution_count": 10,
   "id": "f2c439de",
   "metadata": {},
   "outputs": [
    {
     "data": {
      "image/png": "[encoded data removed]",
      "text/plain": [
       "<Figure size 600x480 with 2 Axes>"
      ]
     },
     "metadata": {},
     "output_type": "display_data"
    }
   ],
   "source": [
    "X, Y, phi = kormannmeixner.footprint_2d(\n",
    "    x,                           # along‑wind distances\n",
    "    np.linspace(-200, 200, 401), # cross‑wind distances\n",
    "    xi, m, n, u_zm, sigma_v)\n",
    "\n",
    "plt.figure(figsize=(5,4))\n",
    "levels = np.geomspace(phi.max()*1e-4, phi.max(), 20)\n",
    "cs = plt.contourf(X, Y, phi, levels=levels)\n",
    "plt.xlabel('x [m]'); plt.ylabel('y [m]')\n",
    "plt.title('Footprint density $\\phi(x,y,z_m)$')\n",
    "plt.colorbar(cs, label='[m⁻²]')\n",
    "plt.axis('equal');\n",
    "plt.show()"
   ]
  },
  {
   "cell_type": "markdown",
   "id": "50f6d2dc",
   "metadata": {},
   "source": [
    "### Effective fetch\n",
    "The along‑wind distance containing a specified cumulative fraction of the flux (here 80 %)."
   ]
  },
  {
   "cell_type": "code",
   "execution_count": 11,
   "id": "ff1cd4dd",
   "metadata": {},
   "outputs": [
    {
     "name": "stdout",
     "output_type": "stream",
     "text": [
      "Effective fetch for 80% cumulative flux: 715.7 m\n"
     ]
    }
   ],
   "source": [
    "fraction = 0.8\n",
    "fetch80 = kormannmeixner.effective_fetch(fraction, xi, m, n)\n",
    "print(f'Effective fetch for {fraction*100:.0f}% cumulative flux: {fetch80:.1f} m')"
   ]
  },
  {
   "cell_type": "markdown",
   "id": "cd21f9c5",
   "metadata": {},
   "source": [
    "## 5. Vectorising for many timesteps (optional)\n",
    "This section illustrates how to wrap the above steps into a function and apply it across the time‑series to analyse footprint statistics. For brevity it is left as an exercise; see the supplied `compute_footprint_timeseries` function stub in the next cell."
   ]
  },
  {
   "cell_type": "code",
   "execution_count": 12,
   "id": "4ea02dce",
   "metadata": {},
   "outputs": [],
   "source": [
    "def compute_footprint_timeseries(df, z_m, z_0):\n",
    "    \"\"\"Return a Series of effective fetch distances for each row in *df* (half‑hour).\"\"\"\n",
    "    out = []\n",
    "    for ts, row in df.iterrows():\n",
    "        if pd.isna(row['MO_LENGTH']):\n",
    "            out.append(np.nan); continue\n",
    "        m, n, U, k = kormannmeixner.analytical_power_law_parameters(\n",
    "            z_m, z_0, row['MO_LENGTH'], row['USTAR'], row['WS'])\n",
    "        xi = kormannmeixner.length_scale_xi(z_m, U, k, m, n)\n",
    "        fetch = kormannmeixner.effective_fetch(0.8, xi, m, n)\n",
    "        out.append(fetch)\n",
    "    return pd.Series(out, index=df.index, name='fetch80')"
   ]
  },
  {
   "cell_type": "markdown",
   "id": "b7170374",
   "metadata": {},
   "source": [
    "> **Next steps:** compute the time‑series, plot a histogram, or relate fetch to environmental drivers."
   ]
  }
 ],
 "metadata": {
  "kernelspec": {
   "display_name": "py313",
   "language": "python",
   "name": "python3"
  },
  "language_info": {
   "codemirror_mode": {
    "name": "ipython",
    "version": 3
   },
   "file_extension": ".py",
   "mimetype": "text/x-python",
   "name": "python",
   "nbconvert_exporter": "python",
   "pygments_lexer": "ipython3",
   "version": "3.13.1"
  }
 },
 "nbformat": 4,
 "nbformat_minor": 5
}
