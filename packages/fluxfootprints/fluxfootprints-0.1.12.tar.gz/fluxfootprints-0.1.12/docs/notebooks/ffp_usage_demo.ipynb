{
 "cells": [
  {
   "cell_type": "markdown",
   "id": "6a573d98",
   "metadata": {},
   "source": [
    "# Flux Footprint Climatology Tutorial\n",
    "This Jupyter notebook demonstrates how to use the custom `FFPclim` class (defined in `new_ffp.py`) to compute a flux footprint climatology from tower‐based micrometeorological data.\n",
    "\n",
    "You will learn how to:\n",
    "1. Load and inspect the half‐hourly data provided in the CSV file.\n",
    "2. Instantiate the `FFPclim` model with sensible parameters.\n",
    "3. Run the model to generate a 2‑D footprint climatology.\n",
    "4. Visualise and save the results for further analysis.\n",
    "\n",
    "The workflow should run on a standard scientific Python stack with `pandas`, `numpy`, `scipy`, `xarray`, and `matplotlib` installed."
   ]
  },
  {
   "cell_type": "markdown",
   "id": "ade7566b",
   "metadata": {},
   "source": [
    "## 1. Environment setup\n",
    "Make sure you have the necessary libraries. If something is missing, install it (for example with `pip`)."
   ]
  },
  {
   "cell_type": "code",
   "execution_count": null,
   "id": "3a174b98",
   "metadata": {},
   "outputs": [],
   "source": [
    "!pip install -q pandas numpy scipy xarray matplotlib"
   ]
  },
  {
   "cell_type": "markdown",
   "id": "8b72d14d",
   "metadata": {},
   "source": [
    "## 2. Imports"
   ]
  },
  {
   "cell_type": "code",
   "execution_count": null,
   "id": "6f90fbc1",
   "metadata": {},
   "outputs": [],
   "source": [
    "import pandas as pd\n",
    "import numpy as np\n",
    "import matplotlib.pyplot as plt\n",
    "import xarray as xr\n",
    "from pathlib import Path\n",
    "from new_ffp import FFPclim\n",
    "\n",
    "plt.rcParams['figure.figsize'] = (6, 5)"
   ]
  },
  {
   "cell_type": "markdown",
   "id": "36cd8593",
   "metadata": {},
   "source": [
    "## 3. Load the half‑hourly data"
   ]
  },
  {
   "cell_type": "code",
   "execution_count": null,
   "id": "669504ef",
   "metadata": {},
   "outputs": [],
   "source": [
    "DATA_PATH = Path('/mnt/data/US-UTE_HH_202406241430_202409251400.csv')\n",
    "df_raw = pd.read_csv(DATA_PATH, parse_dates=['TIMESTAMP'], index_col='TIMESTAMP')\n",
    "print(f\"Loaded {len(df_raw):,} records\")\n",
    "df_raw.head()"
   ]
  },
  {
   "cell_type": "markdown",
   "id": "2e20225a",
   "metadata": {},
   "source": [
    "### 3.1 Clean and inspect key columns\n",
    "The `FFPclim` class expects certain column names. Below we rename the most common AmeriFlux/ICOS style names if necessary."
   ]
  },
  {
   "cell_type": "code",
   "execution_count": null,
   "id": "ae090976",
   "metadata": {},
   "outputs": [],
   "source": [
    "# Example mapping – adjust if your column names differ\n",
    "col_map = {\n",
    "    'WD': 'wind_dir',          # wind direction (deg)\n",
    "    'USTAR': 'USTAR',          # friction velocity (m s‑1)\n",
    "    'WS': 'ws',                # mean wind speed (m s‑1)\n",
    "    'SIGMA_V': 'V_SIGMA',      # std dev of lateral wind (m s‑1)\n",
    "    'MO_LENGTH': 'MO_LENGTH',  # Obukhov length (m)\n",
    "}\n",
    "df = df_raw.rename(columns={k:v for k,v in col_map.items() if k in df_raw.columns})\n",
    "\n",
    "# Drop rows with obviously bad or missing data in key columns\n",
    "key_cols = ['wind_dir', 'USTAR', 'ws', 'V_SIGMA', 'MO_LENGTH']\n",
    "df = df.dropna(subset=key_cols)\n",
    "df.head()"
   ]
  },
  {
   "cell_type": "markdown",
   "id": "e57a3fc7",
   "metadata": {},
   "source": [
    "## 4. Instantiate `FFPclim`"
   ]
  },
  {
   "cell_type": "code",
   "execution_count": null,
   "id": "5d29b0a0",
   "metadata": {},
   "outputs": [],
   "source": [
    "ffp = FFPclim(\n",
    "    df=df,\n",
    "    domain=[-1000, 1000, -1000, 1000],  # metres from tower\n",
    "    dx=2, dy=2,\n",
    "    smooth_data=True,\n",
    "    verbosity=1,\n",
    ")\n",
    "ffp"
   ]
  },
  {
   "cell_type": "markdown",
   "id": "7b416d20",
   "metadata": {},
   "source": [
    "## 5. Run the footprint calculation"
   ]
  },
  {
   "cell_type": "code",
   "execution_count": null,
   "id": "6d7a681b",
   "metadata": {},
   "outputs": [],
   "source": [
    "results = ffp.run()\n",
    "results.keys()"
   ]
  },
  {
   "cell_type": "markdown",
   "id": "c167e1f7",
   "metadata": {},
   "source": [
    "## 6. Visualise the footprint climatology"
   ]
  },
  {
   "cell_type": "code",
   "execution_count": null,
   "id": "4b84ebb7",
   "metadata": {},
   "outputs": [],
   "source": [
    "fclim = results['fclim_2d']\n",
    "\n",
    "plt.figure()\n",
    "pc = plt.pcolormesh(ffp.x, ffp.y, fclim.T, shading='auto', cmap='viridis')\n",
    "plt.colorbar(pc, label='Footprint weight')\n",
    "plt.contour(ffp.x, ffp.y, fclim.T / fclim.sum(), levels=[0.1,0.2,0.3,0.5,0.8], colors='w')\n",
    "plt.title('Flux footprint climatology')\n",
    "plt.xlabel('x (m)'); plt.ylabel('y (m)')\n",
    "plt.tight_layout()"
   ]
  },
  {
   "cell_type": "markdown",
   "id": "c2e19502",
   "metadata": {},
   "source": [
    "## 7. Save results"
   ]
  },
  {
   "cell_type": "code",
   "execution_count": null,
   "id": "a97b506c",
   "metadata": {},
   "outputs": [],
   "source": [
    "nc_path = Path('footprint_climatology.nc')\n",
    "fclim.to_netcdf(nc_path)\n",
    "print(f'Saved NetCDF to {nc_path.resolve()}')"
   ]
  },
  {
   "cell_type": "markdown",
   "id": "1785dbdb",
   "metadata": {},
   "source": [
    "## 8. Next steps\n",
    "- Compare different months or stability classes.\n",
    "- Overlay the footprint with land‑cover maps or lidar canopy height models.\n",
    "- Couple the footprint to flux partitioning or inverse modelling workflows."
   ]
  }
 ],
 "metadata": {},
 "nbformat": 4,
 "nbformat_minor": 5
}
