{
 "cells": [
  {
   "cell_type": "markdown",
   "metadata": {},
   "source": [
    "# hv-anndata"
   ]
  },
  {
   "cell_type": "code",
   "execution_count": null,
   "metadata": {},
   "outputs": [],
   "source": [
    "import holoviews as hv\n",
    "import scanpy as sc\n",
    "\n",
    "import hv_anndata"
   ]
  },
  {
   "cell_type": "code",
   "execution_count": null,
   "metadata": {},
   "outputs": [],
   "source": [
    "hv_anndata.register()\n",
    "hv.extension(\"bokeh\", \"matplotlib\")"
   ]
  },
  {
   "cell_type": "code",
   "execution_count": null,
   "metadata": {},
   "outputs": [],
   "source": [
    "adata = sc.datasets.paul15()\n",
    "sc.pp.pca(adata)\n",
    "sc.pp.neighbors(adata)\n",
    "sc.tl.umap(adata)\n",
    "adata"
   ]
  },
  {
   "cell_type": "code",
   "execution_count": null,
   "metadata": {},
   "outputs": [],
   "source": [
    "(\n",
    "    hv.Scatter(adata, \"obsm.X_umap.0\", [\"obsm.X_umap.1\", \"obs.paul15_clusters\"])\n",
    "    .opts(color=\"obs.paul15_clusters\", cmap=\"Category20\")\n",
    "    .hist()\n",
    ")"
   ]
  },
  {
   "cell_type": "code",
   "execution_count": null,
   "metadata": {},
   "outputs": [],
   "source": [
    "marker_genes = {\n",
    "    \"Erythroids\": [\"Gata1\", \"Klf1\", \"Epor\", \"Gypa\", \"Hba-a2\"],\n",
    "    \"Neutrophils\": [\"Elane\", \"Cebpe\", \"Ctsg\", \"Mpo\", \"Gfi1\"],\n",
    "    \"Monocytes\": [\"Irf8\", \"Csf1r\", \"Ctsg\", \"Mpo\"],\n",
    "    \"Megakaryocytes\": [\"Itga2b\", \"Pbx1\", \"Sdpr\", \"Vwf\"],\n",
    "    \"Basophils\": [\"Mcpt8\", \"Prss34\"],\n",
    "    \"Mast cells\": [\"Cma1\", \"Gzmb\"],\n",
    "}\n",
    "hv_anndata.Dotmap(adata=adata, marker_genes=marker_genes, groupby=\"paul15_clusters\")"
   ]
  }
 ],
 "metadata": {
  "kernelspec": {
   "display_name": "hv-anndata",
   "language": "python",
   "name": "hv-anndata"
  },
  "language_info": {
   "codemirror_mode": {
    "name": "ipython",
    "version": 3
   },
   "file_extension": ".py",
   "mimetype": "text/x-python",
   "name": "python",
   "nbconvert_exporter": "python",
   "pygments_lexer": "ipython3",
   "version": "3.13.2"
  }
 },
 "nbformat": 4,
 "nbformat_minor": 2
}
