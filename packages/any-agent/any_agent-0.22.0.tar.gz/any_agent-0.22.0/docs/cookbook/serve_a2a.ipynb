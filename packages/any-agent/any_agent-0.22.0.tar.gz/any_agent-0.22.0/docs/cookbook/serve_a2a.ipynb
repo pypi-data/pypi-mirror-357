{
 "cells": [
  {
   "cell_type": "markdown",
   "metadata": {},
   "source": [
    "# Serve an Agent with A2A\n",
    "\n",
    "Once you've built an agent, a common question might be: \"how do I let other developers/applications access it?\". Enter the [A2A](https://github.com/google-a2a/A2A) protocol by Google! A2A is \"An open protocol enabling communication and interoperability between opaque agentic applications\". Any-Agent provides support for serving an agent over A2A, as simple as calling `agent.serve()`. In this tutorial, we'll build and serve an agent using any-agent, and show how you can serve and interact with it via the A2A protocol.\n",
    "\n",
    "<img src=\"/images/serve_a2a.png\" alt=\"\" style=\"max-width: 500px; height: auto;\">\n",
    "\n",
    "This tutorial assumes basic familiarity with any-agent: if you haven't used any-agent before you may also find the [Creating your first agent](./../your_first_agent) cookbook to be useful.\n",
    "\n",
    "Note: because this tutorial relies upon advanced stdio/stderr communication using the MCP Server, it cannot be run on Google Colab.\n"
   ]
  },
  {
   "cell_type": "markdown",
   "metadata": {},
   "source": [
    "## Install Dependencies\n",
    "\n",
    "any-agent uses the python asyncio module to support async functionality. When running in Jupyter notebooks, this means we need to enable the use of nested event loops. We'll install any-agent and enable this below using nest_asyncio."
   ]
  },
  {
   "cell_type": "code",
   "execution_count": null,
   "metadata": {},
   "outputs": [],
   "source": [
    "%pip install 'any-agent[a2a]'\n",
    "\n",
    "import nest_asyncio\n",
    "\n",
    "nest_asyncio.apply()"
   ]
  },
  {
   "cell_type": "code",
   "execution_count": 2,
   "metadata": {},
   "outputs": [
    {
     "name": "stdout",
     "output_type": "stream",
     "text": [
      "OPENAI_API_KEY found in environment.\n"
     ]
    }
   ],
   "source": [
    "import os\n",
    "from getpass import getpass\n",
    "\n",
    "# This notebook communicates with OpenAI GPT models using the OpenAI API.\n",
    "if \"OPENAI_API_KEY\" not in os.environ:\n",
    "    print(\"OPENAI_API_KEY not found in environment!\")\n",
    "    api_key = getpass(\"Please enter your OPENAI_API_KEY: \")\n",
    "    os.environ[\"OPENAI_API_KEY\"] = api_key\n",
    "    print(\"OPENAI_API_KEY set for this session!\")\n",
    "else:\n",
    "    print(\"OPENAI_API_KEY found in environment.\")"
   ]
  },
  {
   "cell_type": "markdown",
   "metadata": {},
   "source": [
    "## Configure and run the server\n",
    "\n",
    "Let's give our agent the very simple capability to access the current time through a Model Context Protocol (MCP) server. For this demo, we'll use the async method `agent.serve_async` so that we can easily run both the server and client from inside the notebook. "
   ]
  },
  {
   "cell_type": "code",
   "execution_count": 3,
   "metadata": {},
   "outputs": [
    {
     "name": "stderr",
     "output_type": "stream",
     "text": [
      "/Users/nbrake/scm/any-agent/.venv/lib/python3.13/site-packages/tqdm/auto.py:21: TqdmWarning: IProgress not found. Please update jupyter and ipywidgets. See https://ipywidgets.readthedocs.io/en/stable/user_install.html\n",
      "  from .autonotebook import tqdm as notebook_tqdm\n"
     ]
    },
    {
     "name": "stdout",
     "output_type": "stream",
     "text": [
      "Server is ready at http://localhost:61416\n"
     ]
    }
   ],
   "source": [
    "import asyncio\n",
    "\n",
    "import httpx\n",
    "\n",
    "from any_agent import AgentConfig, AnyAgent\n",
    "from any_agent.config import MCPStdio\n",
    "from any_agent.serving import A2AServingConfig\n",
    "\n",
    "# This MCP Tool relies upon uvx https://docs.astral.sh/uv/getting-started/installation/\n",
    "time_tool = MCPStdio(\n",
    "    command=\"uvx\",\n",
    "    args=[\"mcp-server-time\", \"--local-timezone=America/New_York\"],\n",
    "    tools=[\n",
    "        \"get_current_time\",\n",
    "    ],\n",
    ")\n",
    "\n",
    "time = await AnyAgent.create_async(\n",
    "    \"tinyagent\",  # See all options in https://mozilla-ai.github.io/any-agent/\n",
    "    AgentConfig(\n",
    "        model_id=\"gpt-4.1-mini\",\n",
    "        description=\"I'm an agent to help with getting the time\",\n",
    "        tools=[time_tool],\n",
    "    ),\n",
    ")\n",
    "(time_task, time_server) = await time.serve_async(A2AServingConfig(port=0))\n",
    "\n",
    "server_port = time_server.servers[0].sockets[0].getsockname()[1]\n",
    "\n",
    "max_attempts = 20\n",
    "poll_interval = 0.5\n",
    "attempts = 0\n",
    "server_url = f\"http://localhost:{server_port}\"\n",
    "async with httpx.AsyncClient() as client:\n",
    "    while True:\n",
    "        try:\n",
    "            # Try to make a basic GET request to check if server is responding\n",
    "            await client.get(server_url, timeout=1.0)\n",
    "            print(f\"Server is ready at {server_url}\")\n",
    "            break\n",
    "        except (httpx.RequestError, httpx.TimeoutException):\n",
    "            # Server not ready yet, continue polling\n",
    "            pass\n",
    "\n",
    "        await asyncio.sleep(poll_interval)\n",
    "        attempts += 1\n",
    "        if attempts >= max_attempts:\n",
    "            msg = f\"Could not connect to {server_url}. Tried {max_attempts} times with {poll_interval} second interval.\"\n",
    "            raise ConnectionError(msg)"
   ]
  },
  {
   "cell_type": "markdown",
   "metadata": {},
   "source": [
    "## Call the agent using A2AClient\n",
    "\n",
    "Now that the agent is listening on localhost, we can communicate with it from any other application that supports A2A. For this tutorial we'll use the a2a python SDK, but any client that implements the [A2A Protocol](https://github.com/google-a2a/A2A) would also work."
   ]
  },
  {
   "cell_type": "markdown",
   "metadata": {},
   "source": [
    "### A2A Agent Card\n",
    "\n",
    "Before giving the agent a task, we first retrieve the agent's model card, which is a description of the agents capabilities. This helps the client understand what the agent can do, and what A2A features are available."
   ]
  },
  {
   "cell_type": "code",
   "execution_count": 4,
   "metadata": {},
   "outputs": [
    {
     "name": "stdout",
     "output_type": "stream",
     "text": [
      "{\n",
      "  \"capabilities\": {\n",
      "    \"extensions\": null,\n",
      "    \"pushNotifications\": false,\n",
      "    \"stateTransitionHistory\": false,\n",
      "    \"streaming\": false\n",
      "  },\n",
      "  \"defaultInputModes\": [\n",
      "    \"text\"\n",
      "  ],\n",
      "  \"defaultOutputModes\": [\n",
      "    \"text\"\n",
      "  ],\n",
      "  \"description\": \"I'm an agent to help with getting the time\",\n",
      "  \"documentationUrl\": null,\n",
      "  \"iconUrl\": null,\n",
      "  \"name\": \"any_agent\",\n",
      "  \"provider\": null,\n",
      "  \"security\": null,\n",
      "  \"securitySchemes\": null,\n",
      "  \"skills\": [\n",
      "    {\n",
      "      \"description\": \"Get current time in a specific timezones\",\n",
      "      \"examples\": null,\n",
      "      \"id\": \"any_agent-get_current_time\",\n",
      "      \"inputModes\": null,\n",
      "      \"name\": \"get_current_time\",\n",
      "      \"outputModes\": null,\n",
      "      \"tags\": []\n",
      "    }\n",
      "  ],\n",
      "  \"supportsAuthenticatedExtendedCard\": null,\n",
      "  \"url\": \"http://localhost:61416/\",\n",
      "  \"version\": \"0.1.0\"\n",
      "}\n"
     ]
    }
   ],
   "source": [
    "import httpx\n",
    "from a2a.client import A2ACardResolver, A2AClient\n",
    "from a2a.types import AgentCard\n",
    "\n",
    "# Create the httpx client\n",
    "httpx_client = httpx.AsyncClient()\n",
    "\n",
    "agent_card: AgentCard = await A2ACardResolver(\n",
    "    httpx_client,\n",
    "    base_url=f\"http://localhost:{server_port}\",\n",
    ").get_agent_card(http_kwargs=None)\n",
    "print(agent_card.model_dump_json(indent=2))\n",
    "\n",
    "client = A2AClient(httpx_client=httpx_client, agent_card=agent_card)"
   ]
  },
  {
   "cell_type": "markdown",
   "metadata": {},
   "source": [
    "### Make a request of the agent\n",
    "\n",
    "Now that we've connected to the agent with the A2AClient, we're ready to make a request of the agent! "
   ]
  },
  {
   "cell_type": "code",
   "execution_count": 5,
   "metadata": {},
   "outputs": [
    {
     "data": {
      "text/html": [
       "<pre style=\"white-space:pre;overflow-x:auto;line-height:normal;font-family:Menlo,'DejaVu Sans Mono',consolas,'Courier New',monospace\"><span style=\"color: #808000; text-decoration-color: #808000\">╭────────────────────────────────────────────</span> CALL_LLM: gpt-4.1-mini <span style=\"color: #808000; text-decoration-color: #808000\">─────────────────────────────────────────────╮</span>\n",
       "<span style=\"color: #808000; text-decoration-color: #808000\">│ </span><span style=\"color: #c0c0c0; text-decoration-color: #c0c0c0\">╭─</span><span style=\"color: #808000; text-decoration-color: #808000\"> INPUT </span><span style=\"color: #c0c0c0; text-decoration-color: #c0c0c0\">─────────────────────────────────────────────────────────────────────────────────────────────────────╮</span><span style=\"color: #808000; text-decoration-color: #808000\"> │</span>\n",
       "<span style=\"color: #808000; text-decoration-color: #808000\">│ </span><span style=\"color: #c0c0c0; text-decoration-color: #c0c0c0\">│ </span><span style=\"color: #c0c0c0; text-decoration-color: #c0c0c0; font-weight: bold\">[</span><span style=\"color: #c0c0c0; text-decoration-color: #c0c0c0\">                                                                                                           │</span><span style=\"color: #808000; text-decoration-color: #808000\"> │</span>\n",
       "<span style=\"color: #808000; text-decoration-color: #808000\">│ </span><span style=\"color: #c0c0c0; text-decoration-color: #c0c0c0\">│   </span><span style=\"color: #c0c0c0; text-decoration-color: #c0c0c0; font-weight: bold\">{</span><span style=\"color: #c0c0c0; text-decoration-color: #c0c0c0\">                                                                                                         │</span><span style=\"color: #808000; text-decoration-color: #808000\"> │</span>\n",
       "<span style=\"color: #808000; text-decoration-color: #808000\">│ </span><span style=\"color: #c0c0c0; text-decoration-color: #c0c0c0\">│     </span><span style=\"color: #000080; text-decoration-color: #000080; font-weight: bold\">\"role\"</span><span style=\"color: #c0c0c0; text-decoration-color: #c0c0c0\">: </span><span style=\"color: #008000; text-decoration-color: #008000\">\"system\"</span><span style=\"color: #c0c0c0; text-decoration-color: #c0c0c0\">,                                                                                       │</span><span style=\"color: #808000; text-decoration-color: #808000\"> │</span>\n",
       "<span style=\"color: #808000; text-decoration-color: #808000\">│ </span><span style=\"color: #c0c0c0; text-decoration-color: #c0c0c0\">│     </span><span style=\"color: #000080; text-decoration-color: #000080; font-weight: bold\">\"content\"</span><span style=\"color: #c0c0c0; text-decoration-color: #c0c0c0\">: </span><span style=\"color: #008000; text-decoration-color: #008000\">\"You are an agent - please keep going until the user's query is completely resolved, before </span><span style=\"color: #c0c0c0; text-decoration-color: #c0c0c0\"> │</span><span style=\"color: #808000; text-decoration-color: #808000\"> │</span>\n",
       "<span style=\"color: #808000; text-decoration-color: #808000\">│ </span><span style=\"color: #c0c0c0; text-decoration-color: #c0c0c0\">│   </span><span style=\"color: #c0c0c0; text-decoration-color: #c0c0c0; font-weight: bold\">}</span><span style=\"color: #c0c0c0; text-decoration-color: #c0c0c0\">,                                                                                                        │</span><span style=\"color: #808000; text-decoration-color: #808000\"> │</span>\n",
       "<span style=\"color: #808000; text-decoration-color: #808000\">│ </span><span style=\"color: #c0c0c0; text-decoration-color: #c0c0c0\">│   </span><span style=\"color: #c0c0c0; text-decoration-color: #c0c0c0; font-weight: bold\">{</span><span style=\"color: #c0c0c0; text-decoration-color: #c0c0c0\">                                                                                                         │</span><span style=\"color: #808000; text-decoration-color: #808000\"> │</span>\n",
       "<span style=\"color: #808000; text-decoration-color: #808000\">│ </span><span style=\"color: #c0c0c0; text-decoration-color: #c0c0c0\">│     </span><span style=\"color: #000080; text-decoration-color: #000080; font-weight: bold\">\"role\"</span><span style=\"color: #c0c0c0; text-decoration-color: #c0c0c0\">: </span><span style=\"color: #008000; text-decoration-color: #008000\">\"user\"</span><span style=\"color: #c0c0c0; text-decoration-color: #c0c0c0\">,                                                                                         │</span><span style=\"color: #808000; text-decoration-color: #808000\"> │</span>\n",
       "<span style=\"color: #808000; text-decoration-color: #808000\">│ </span><span style=\"color: #c0c0c0; text-decoration-color: #c0c0c0\">│     </span><span style=\"color: #000080; text-decoration-color: #000080; font-weight: bold\">\"content\"</span><span style=\"color: #c0c0c0; text-decoration-color: #c0c0c0\">: </span><span style=\"color: #008000; text-decoration-color: #008000\">\"What time is it?\"</span><span style=\"color: #c0c0c0; text-decoration-color: #c0c0c0\">                                                                           │</span><span style=\"color: #808000; text-decoration-color: #808000\"> │</span>\n",
       "<span style=\"color: #808000; text-decoration-color: #808000\">│ </span><span style=\"color: #c0c0c0; text-decoration-color: #c0c0c0\">│   </span><span style=\"color: #c0c0c0; text-decoration-color: #c0c0c0; font-weight: bold\">}</span><span style=\"color: #c0c0c0; text-decoration-color: #c0c0c0\">                                                                                                         │</span><span style=\"color: #808000; text-decoration-color: #808000\"> │</span>\n",
       "<span style=\"color: #808000; text-decoration-color: #808000\">│ </span><span style=\"color: #c0c0c0; text-decoration-color: #c0c0c0\">│ </span><span style=\"color: #c0c0c0; text-decoration-color: #c0c0c0; font-weight: bold\">]</span><span style=\"color: #c0c0c0; text-decoration-color: #c0c0c0\">                                                                                                           │</span><span style=\"color: #808000; text-decoration-color: #808000\"> │</span>\n",
       "<span style=\"color: #808000; text-decoration-color: #808000\">│ </span><span style=\"color: #c0c0c0; text-decoration-color: #c0c0c0\">╰─────────────────────────────────────────────────────────────────────────────────────────────────────────────╯</span><span style=\"color: #808000; text-decoration-color: #808000\"> │</span>\n",
       "<span style=\"color: #808000; text-decoration-color: #808000\">│ </span><span style=\"color: #c0c0c0; text-decoration-color: #c0c0c0\">╭─</span><span style=\"color: #808000; text-decoration-color: #808000\"> OUTPUT </span><span style=\"color: #c0c0c0; text-decoration-color: #c0c0c0\">────────────────────────────────────────────────────────────────────────────────────────────────────╮</span><span style=\"color: #808000; text-decoration-color: #808000\"> │</span>\n",
       "<span style=\"color: #808000; text-decoration-color: #808000\">│ </span><span style=\"color: #c0c0c0; text-decoration-color: #c0c0c0\">│ </span><span style=\"color: #c0c0c0; text-decoration-color: #c0c0c0; font-weight: bold\">[</span><span style=\"color: #c0c0c0; text-decoration-color: #c0c0c0\">                                                                                                           │</span><span style=\"color: #808000; text-decoration-color: #808000\"> │</span>\n",
       "<span style=\"color: #808000; text-decoration-color: #808000\">│ </span><span style=\"color: #c0c0c0; text-decoration-color: #c0c0c0\">│   </span><span style=\"color: #c0c0c0; text-decoration-color: #c0c0c0; font-weight: bold\">{</span><span style=\"color: #c0c0c0; text-decoration-color: #c0c0c0\">                                                                                                         │</span><span style=\"color: #808000; text-decoration-color: #808000\"> │</span>\n",
       "<span style=\"color: #808000; text-decoration-color: #808000\">│ </span><span style=\"color: #c0c0c0; text-decoration-color: #c0c0c0\">│     </span><span style=\"color: #000080; text-decoration-color: #000080; font-weight: bold\">\"tool.name\"</span><span style=\"color: #c0c0c0; text-decoration-color: #c0c0c0\">: </span><span style=\"color: #008000; text-decoration-color: #008000\">\"get_current_time\"</span><span style=\"color: #c0c0c0; text-decoration-color: #c0c0c0\">,                                                                        │</span><span style=\"color: #808000; text-decoration-color: #808000\"> │</span>\n",
       "<span style=\"color: #808000; text-decoration-color: #808000\">│ </span><span style=\"color: #c0c0c0; text-decoration-color: #c0c0c0\">│     </span><span style=\"color: #000080; text-decoration-color: #000080; font-weight: bold\">\"tool.args\"</span><span style=\"color: #c0c0c0; text-decoration-color: #c0c0c0\">: </span><span style=\"color: #008000; text-decoration-color: #008000\">\"{\\\"timezone\\\":\\\"America/New_York\\\"}\"</span><span style=\"color: #c0c0c0; text-decoration-color: #c0c0c0\">                                                      │</span><span style=\"color: #808000; text-decoration-color: #808000\"> │</span>\n",
       "<span style=\"color: #808000; text-decoration-color: #808000\">│ </span><span style=\"color: #c0c0c0; text-decoration-color: #c0c0c0\">│   </span><span style=\"color: #c0c0c0; text-decoration-color: #c0c0c0; font-weight: bold\">}</span><span style=\"color: #c0c0c0; text-decoration-color: #c0c0c0\">                                                                                                         │</span><span style=\"color: #808000; text-decoration-color: #808000\"> │</span>\n",
       "<span style=\"color: #808000; text-decoration-color: #808000\">│ </span><span style=\"color: #c0c0c0; text-decoration-color: #c0c0c0\">│ </span><span style=\"color: #c0c0c0; text-decoration-color: #c0c0c0; font-weight: bold\">]</span><span style=\"color: #c0c0c0; text-decoration-color: #c0c0c0\">                                                                                                           │</span><span style=\"color: #808000; text-decoration-color: #808000\"> │</span>\n",
       "<span style=\"color: #808000; text-decoration-color: #808000\">│ </span><span style=\"color: #c0c0c0; text-decoration-color: #c0c0c0\">╰─────────────────────────────────────────────────────────────────────────────────────────────────────────────╯</span><span style=\"color: #808000; text-decoration-color: #808000\"> │</span>\n",
       "<span style=\"color: #808000; text-decoration-color: #808000\">│ </span><span style=\"color: #c0c0c0; text-decoration-color: #c0c0c0\">╭─</span><span style=\"color: #808000; text-decoration-color: #808000\"> USAGE </span><span style=\"color: #c0c0c0; text-decoration-color: #c0c0c0\">─────────────────────────────────────────────────────────────────────────────────────────────────────╮</span><span style=\"color: #808000; text-decoration-color: #808000\"> │</span>\n",
       "<span style=\"color: #808000; text-decoration-color: #808000\">│ </span><span style=\"color: #c0c0c0; text-decoration-color: #c0c0c0\">│ </span><span style=\"color: #c0c0c0; text-decoration-color: #c0c0c0; font-weight: bold\">{</span><span style=\"color: #c0c0c0; text-decoration-color: #c0c0c0\">                                                                                                           │</span><span style=\"color: #808000; text-decoration-color: #808000\"> │</span>\n",
       "<span style=\"color: #808000; text-decoration-color: #808000\">│ </span><span style=\"color: #c0c0c0; text-decoration-color: #c0c0c0\">│   </span><span style=\"color: #000080; text-decoration-color: #000080; font-weight: bold\">\"input_tokens\"</span><span style=\"color: #c0c0c0; text-decoration-color: #c0c0c0\">: </span><span style=\"color: #008080; text-decoration-color: #008080; font-weight: bold\">227</span><span style=\"color: #c0c0c0; text-decoration-color: #c0c0c0\">,                                                                                      │</span><span style=\"color: #808000; text-decoration-color: #808000\"> │</span>\n",
       "<span style=\"color: #808000; text-decoration-color: #808000\">│ </span><span style=\"color: #c0c0c0; text-decoration-color: #c0c0c0\">│   </span><span style=\"color: #000080; text-decoration-color: #000080; font-weight: bold\">\"output_tokens\"</span><span style=\"color: #c0c0c0; text-decoration-color: #c0c0c0\">: </span><span style=\"color: #008080; text-decoration-color: #008080; font-weight: bold\">18</span><span style=\"color: #c0c0c0; text-decoration-color: #c0c0c0\">                                                                                       │</span><span style=\"color: #808000; text-decoration-color: #808000\"> │</span>\n",
       "<span style=\"color: #808000; text-decoration-color: #808000\">│ </span><span style=\"color: #c0c0c0; text-decoration-color: #c0c0c0\">│ </span><span style=\"color: #c0c0c0; text-decoration-color: #c0c0c0; font-weight: bold\">}</span><span style=\"color: #c0c0c0; text-decoration-color: #c0c0c0\">                                                                                                           │</span><span style=\"color: #808000; text-decoration-color: #808000\"> │</span>\n",
       "<span style=\"color: #808000; text-decoration-color: #808000\">│ </span><span style=\"color: #c0c0c0; text-decoration-color: #c0c0c0\">╰─────────────────────────────────────────────────────────────────────────────────────────────────────────────╯</span><span style=\"color: #808000; text-decoration-color: #808000\"> │</span>\n",
       "<span style=\"color: #808000; text-decoration-color: #808000\">╰─────────────────────────────────────────────────────────────────────────────────────────────────────────────────╯</span>\n",
       "</pre>\n"
      ],
      "text/plain": [
       "\u001b[33m╭─\u001b[0m\u001b[33m───────────────────────────────────────────\u001b[0m CALL_LLM: gpt-4.1-mini \u001b[33m────────────────────────────────────────────\u001b[0m\u001b[33m─╮\u001b[0m\n",
       "\u001b[33m│\u001b[0m\u001b[33m \u001b[0m\u001b[37m╭─\u001b[0m\u001b[33m INPUT \u001b[0m\u001b[37m────────────────────────────────────────────────────────────────────────────────────────────────────\u001b[0m\u001b[37m─╮\u001b[0m\u001b[33m \u001b[0m\u001b[33m│\u001b[0m\n",
       "\u001b[33m│\u001b[0m\u001b[33m \u001b[0m\u001b[37m│\u001b[0m\u001b[37m \u001b[0m\u001b[1;37m[\u001b[0m\u001b[37m                                                                                                          \u001b[0m\u001b[37m \u001b[0m\u001b[37m│\u001b[0m\u001b[33m \u001b[0m\u001b[33m│\u001b[0m\n",
       "\u001b[33m│\u001b[0m\u001b[33m \u001b[0m\u001b[37m│\u001b[0m\u001b[37m \u001b[0m\u001b[37m  \u001b[0m\u001b[1;37m{\u001b[0m\u001b[37m                                                                                                        \u001b[0m\u001b[37m \u001b[0m\u001b[37m│\u001b[0m\u001b[33m \u001b[0m\u001b[33m│\u001b[0m\n",
       "\u001b[33m│\u001b[0m\u001b[33m \u001b[0m\u001b[37m│\u001b[0m\u001b[37m \u001b[0m\u001b[37m    \u001b[0m\u001b[1;34m\"role\"\u001b[0m\u001b[37m: \u001b[0m\u001b[32m\"system\"\u001b[0m\u001b[37m,\u001b[0m\u001b[37m                                                                                      \u001b[0m\u001b[37m \u001b[0m\u001b[37m│\u001b[0m\u001b[33m \u001b[0m\u001b[33m│\u001b[0m\n",
       "\u001b[33m│\u001b[0m\u001b[33m \u001b[0m\u001b[37m│\u001b[0m\u001b[37m \u001b[0m\u001b[37m    \u001b[0m\u001b[1;34m\"content\"\u001b[0m\u001b[37m: \u001b[0m\u001b[32m\"You are an agent - please keep going until the user's query is completely resolved, before \u001b[0m\u001b[37m \u001b[0m\u001b[37m│\u001b[0m\u001b[33m \u001b[0m\u001b[33m│\u001b[0m\n",
       "\u001b[33m│\u001b[0m\u001b[33m \u001b[0m\u001b[37m│\u001b[0m\u001b[37m \u001b[0m\u001b[37m  \u001b[0m\u001b[1;37m}\u001b[0m\u001b[37m,\u001b[0m\u001b[37m                                                                                                       \u001b[0m\u001b[37m \u001b[0m\u001b[37m│\u001b[0m\u001b[33m \u001b[0m\u001b[33m│\u001b[0m\n",
       "\u001b[33m│\u001b[0m\u001b[33m \u001b[0m\u001b[37m│\u001b[0m\u001b[37m \u001b[0m\u001b[37m  \u001b[0m\u001b[1;37m{\u001b[0m\u001b[37m                                                                                                        \u001b[0m\u001b[37m \u001b[0m\u001b[37m│\u001b[0m\u001b[33m \u001b[0m\u001b[33m│\u001b[0m\n",
       "\u001b[33m│\u001b[0m\u001b[33m \u001b[0m\u001b[37m│\u001b[0m\u001b[37m \u001b[0m\u001b[37m    \u001b[0m\u001b[1;34m\"role\"\u001b[0m\u001b[37m: \u001b[0m\u001b[32m\"user\"\u001b[0m\u001b[37m,\u001b[0m\u001b[37m                                                                                        \u001b[0m\u001b[37m \u001b[0m\u001b[37m│\u001b[0m\u001b[33m \u001b[0m\u001b[33m│\u001b[0m\n",
       "\u001b[33m│\u001b[0m\u001b[33m \u001b[0m\u001b[37m│\u001b[0m\u001b[37m \u001b[0m\u001b[37m    \u001b[0m\u001b[1;34m\"content\"\u001b[0m\u001b[37m: \u001b[0m\u001b[32m\"What time is it?\"\u001b[0m\u001b[37m                                                                          \u001b[0m\u001b[37m \u001b[0m\u001b[37m│\u001b[0m\u001b[33m \u001b[0m\u001b[33m│\u001b[0m\n",
       "\u001b[33m│\u001b[0m\u001b[33m \u001b[0m\u001b[37m│\u001b[0m\u001b[37m \u001b[0m\u001b[37m  \u001b[0m\u001b[1;37m}\u001b[0m\u001b[37m                                                                                                        \u001b[0m\u001b[37m \u001b[0m\u001b[37m│\u001b[0m\u001b[33m \u001b[0m\u001b[33m│\u001b[0m\n",
       "\u001b[33m│\u001b[0m\u001b[33m \u001b[0m\u001b[37m│\u001b[0m\u001b[37m \u001b[0m\u001b[1;37m]\u001b[0m\u001b[37m                                                                                                          \u001b[0m\u001b[37m \u001b[0m\u001b[37m│\u001b[0m\u001b[33m \u001b[0m\u001b[33m│\u001b[0m\n",
       "\u001b[33m│\u001b[0m\u001b[33m \u001b[0m\u001b[37m╰─────────────────────────────────────────────────────────────────────────────────────────────────────────────╯\u001b[0m\u001b[33m \u001b[0m\u001b[33m│\u001b[0m\n",
       "\u001b[33m│\u001b[0m\u001b[33m \u001b[0m\u001b[37m╭─\u001b[0m\u001b[33m OUTPUT \u001b[0m\u001b[37m───────────────────────────────────────────────────────────────────────────────────────────────────\u001b[0m\u001b[37m─╮\u001b[0m\u001b[33m \u001b[0m\u001b[33m│\u001b[0m\n",
       "\u001b[33m│\u001b[0m\u001b[33m \u001b[0m\u001b[37m│\u001b[0m\u001b[37m \u001b[0m\u001b[1;37m[\u001b[0m\u001b[37m                                                                                                          \u001b[0m\u001b[37m \u001b[0m\u001b[37m│\u001b[0m\u001b[33m \u001b[0m\u001b[33m│\u001b[0m\n",
       "\u001b[33m│\u001b[0m\u001b[33m \u001b[0m\u001b[37m│\u001b[0m\u001b[37m \u001b[0m\u001b[37m  \u001b[0m\u001b[1;37m{\u001b[0m\u001b[37m                                                                                                        \u001b[0m\u001b[37m \u001b[0m\u001b[37m│\u001b[0m\u001b[33m \u001b[0m\u001b[33m│\u001b[0m\n",
       "\u001b[33m│\u001b[0m\u001b[33m \u001b[0m\u001b[37m│\u001b[0m\u001b[37m \u001b[0m\u001b[37m    \u001b[0m\u001b[1;34m\"tool.name\"\u001b[0m\u001b[37m: \u001b[0m\u001b[32m\"get_current_time\"\u001b[0m\u001b[37m,\u001b[0m\u001b[37m                                                                       \u001b[0m\u001b[37m \u001b[0m\u001b[37m│\u001b[0m\u001b[33m \u001b[0m\u001b[33m│\u001b[0m\n",
       "\u001b[33m│\u001b[0m\u001b[33m \u001b[0m\u001b[37m│\u001b[0m\u001b[37m \u001b[0m\u001b[37m    \u001b[0m\u001b[1;34m\"tool.args\"\u001b[0m\u001b[37m: \u001b[0m\u001b[32m\"{\\\"timezone\\\":\\\"America/New_York\\\"}\"\u001b[0m\u001b[37m                                                     \u001b[0m\u001b[37m \u001b[0m\u001b[37m│\u001b[0m\u001b[33m \u001b[0m\u001b[33m│\u001b[0m\n",
       "\u001b[33m│\u001b[0m\u001b[33m \u001b[0m\u001b[37m│\u001b[0m\u001b[37m \u001b[0m\u001b[37m  \u001b[0m\u001b[1;37m}\u001b[0m\u001b[37m                                                                                                        \u001b[0m\u001b[37m \u001b[0m\u001b[37m│\u001b[0m\u001b[33m \u001b[0m\u001b[33m│\u001b[0m\n",
       "\u001b[33m│\u001b[0m\u001b[33m \u001b[0m\u001b[37m│\u001b[0m\u001b[37m \u001b[0m\u001b[1;37m]\u001b[0m\u001b[37m                                                                                                          \u001b[0m\u001b[37m \u001b[0m\u001b[37m│\u001b[0m\u001b[33m \u001b[0m\u001b[33m│\u001b[0m\n",
       "\u001b[33m│\u001b[0m\u001b[33m \u001b[0m\u001b[37m╰─────────────────────────────────────────────────────────────────────────────────────────────────────────────╯\u001b[0m\u001b[33m \u001b[0m\u001b[33m│\u001b[0m\n",
       "\u001b[33m│\u001b[0m\u001b[33m \u001b[0m\u001b[37m╭─\u001b[0m\u001b[33m USAGE \u001b[0m\u001b[37m────────────────────────────────────────────────────────────────────────────────────────────────────\u001b[0m\u001b[37m─╮\u001b[0m\u001b[33m \u001b[0m\u001b[33m│\u001b[0m\n",
       "\u001b[33m│\u001b[0m\u001b[33m \u001b[0m\u001b[37m│\u001b[0m\u001b[37m \u001b[0m\u001b[1;37m{\u001b[0m\u001b[37m                                                                                                          \u001b[0m\u001b[37m \u001b[0m\u001b[37m│\u001b[0m\u001b[33m \u001b[0m\u001b[33m│\u001b[0m\n",
       "\u001b[33m│\u001b[0m\u001b[33m \u001b[0m\u001b[37m│\u001b[0m\u001b[37m \u001b[0m\u001b[37m  \u001b[0m\u001b[1;34m\"input_tokens\"\u001b[0m\u001b[37m: \u001b[0m\u001b[1;36m227\u001b[0m\u001b[37m,\u001b[0m\u001b[37m                                                                                     \u001b[0m\u001b[37m \u001b[0m\u001b[37m│\u001b[0m\u001b[33m \u001b[0m\u001b[33m│\u001b[0m\n",
       "\u001b[33m│\u001b[0m\u001b[33m \u001b[0m\u001b[37m│\u001b[0m\u001b[37m \u001b[0m\u001b[37m  \u001b[0m\u001b[1;34m\"output_tokens\"\u001b[0m\u001b[37m: \u001b[0m\u001b[1;36m18\u001b[0m\u001b[37m                                                                                      \u001b[0m\u001b[37m \u001b[0m\u001b[37m│\u001b[0m\u001b[33m \u001b[0m\u001b[33m│\u001b[0m\n",
       "\u001b[33m│\u001b[0m\u001b[33m \u001b[0m\u001b[37m│\u001b[0m\u001b[37m \u001b[0m\u001b[1;37m}\u001b[0m\u001b[37m                                                                                                          \u001b[0m\u001b[37m \u001b[0m\u001b[37m│\u001b[0m\u001b[33m \u001b[0m\u001b[33m│\u001b[0m\n",
       "\u001b[33m│\u001b[0m\u001b[33m \u001b[0m\u001b[37m╰─────────────────────────────────────────────────────────────────────────────────────────────────────────────╯\u001b[0m\u001b[33m \u001b[0m\u001b[33m│\u001b[0m\n",
       "\u001b[33m╰─────────────────────────────────────────────────────────────────────────────────────────────────────────────────╯\u001b[0m\n"
      ]
     },
     "metadata": {},
     "output_type": "display_data"
    },
    {
     "data": {
      "text/html": [
       "<pre style=\"white-space:pre;overflow-x:auto;line-height:normal;font-family:Menlo,'DejaVu Sans Mono',consolas,'Courier New',monospace\"><span style=\"color: #000080; text-decoration-color: #000080\">╭────────────────────────────────────────</span> EXECUTE_TOOL: get_current_time <span style=\"color: #000080; text-decoration-color: #000080\">─────────────────────────────────────────╮</span>\n",
       "<span style=\"color: #000080; text-decoration-color: #000080\">│ </span><span style=\"color: #c0c0c0; text-decoration-color: #c0c0c0\">╭─</span><span style=\"color: #000080; text-decoration-color: #000080\"> Input </span><span style=\"color: #c0c0c0; text-decoration-color: #c0c0c0\">─────────────────────────────────────────────────────────────────────────────────────────────────────╮</span><span style=\"color: #000080; text-decoration-color: #000080\"> │</span>\n",
       "<span style=\"color: #000080; text-decoration-color: #000080\">│ </span><span style=\"color: #c0c0c0; text-decoration-color: #c0c0c0\">│ </span><span style=\"color: #c0c0c0; text-decoration-color: #c0c0c0; font-weight: bold\">{</span><span style=\"color: #c0c0c0; text-decoration-color: #c0c0c0\">                                                                                                           │</span><span style=\"color: #000080; text-decoration-color: #000080\"> │</span>\n",
       "<span style=\"color: #000080; text-decoration-color: #000080\">│ </span><span style=\"color: #c0c0c0; text-decoration-color: #c0c0c0\">│   </span><span style=\"color: #000080; text-decoration-color: #000080; font-weight: bold\">\"timezone\"</span><span style=\"color: #c0c0c0; text-decoration-color: #c0c0c0\">: </span><span style=\"color: #008000; text-decoration-color: #008000\">\"America/New_York\"</span><span style=\"color: #c0c0c0; text-decoration-color: #c0c0c0\">                                                                            │</span><span style=\"color: #000080; text-decoration-color: #000080\"> │</span>\n",
       "<span style=\"color: #000080; text-decoration-color: #000080\">│ </span><span style=\"color: #c0c0c0; text-decoration-color: #c0c0c0\">│ </span><span style=\"color: #c0c0c0; text-decoration-color: #c0c0c0; font-weight: bold\">}</span><span style=\"color: #c0c0c0; text-decoration-color: #c0c0c0\">                                                                                                           │</span><span style=\"color: #000080; text-decoration-color: #000080\"> │</span>\n",
       "<span style=\"color: #000080; text-decoration-color: #000080\">│ </span><span style=\"color: #c0c0c0; text-decoration-color: #c0c0c0\">╰─────────────────────────────────────────────────────────────────────────────────────────────────────────────╯</span><span style=\"color: #000080; text-decoration-color: #000080\"> │</span>\n",
       "<span style=\"color: #000080; text-decoration-color: #000080\">│ </span><span style=\"color: #c0c0c0; text-decoration-color: #c0c0c0\">╭─</span><span style=\"color: #000080; text-decoration-color: #000080\"> OUTPUT </span><span style=\"color: #c0c0c0; text-decoration-color: #c0c0c0\">────────────────────────────────────────────────────────────────────────────────────────────────────╮</span><span style=\"color: #000080; text-decoration-color: #000080\"> │</span>\n",
       "<span style=\"color: #000080; text-decoration-color: #000080\">│ </span><span style=\"color: #c0c0c0; text-decoration-color: #c0c0c0\">│ </span><span style=\"color: #c0c0c0; text-decoration-color: #c0c0c0; font-weight: bold\">{</span><span style=\"color: #c0c0c0; text-decoration-color: #c0c0c0\">                                                                                                           │</span><span style=\"color: #000080; text-decoration-color: #000080\"> │</span>\n",
       "<span style=\"color: #000080; text-decoration-color: #000080\">│ </span><span style=\"color: #c0c0c0; text-decoration-color: #c0c0c0\">│   </span><span style=\"color: #000080; text-decoration-color: #000080; font-weight: bold\">\"timezone\"</span><span style=\"color: #c0c0c0; text-decoration-color: #c0c0c0\">: </span><span style=\"color: #008000; text-decoration-color: #008000\">\"America/New_York\"</span><span style=\"color: #c0c0c0; text-decoration-color: #c0c0c0\">,                                                                           │</span><span style=\"color: #000080; text-decoration-color: #000080\"> │</span>\n",
       "<span style=\"color: #000080; text-decoration-color: #000080\">│ </span><span style=\"color: #c0c0c0; text-decoration-color: #c0c0c0\">│   </span><span style=\"color: #000080; text-decoration-color: #000080; font-weight: bold\">\"datetime\"</span><span style=\"color: #c0c0c0; text-decoration-color: #c0c0c0\">: </span><span style=\"color: #008000; text-decoration-color: #008000\">\"2025-06-13T13:28:21-04:00\"</span><span style=\"color: #c0c0c0; text-decoration-color: #c0c0c0\">,                                                                  │</span><span style=\"color: #000080; text-decoration-color: #000080\"> │</span>\n",
       "<span style=\"color: #000080; text-decoration-color: #000080\">│ </span><span style=\"color: #c0c0c0; text-decoration-color: #c0c0c0\">│   </span><span style=\"color: #000080; text-decoration-color: #000080; font-weight: bold\">\"is_dst\"</span><span style=\"color: #c0c0c0; text-decoration-color: #c0c0c0\">: </span><span style=\"color: #00ff00; text-decoration-color: #00ff00; font-style: italic\">true</span><span style=\"color: #c0c0c0; text-decoration-color: #c0c0c0\">                                                                                            │</span><span style=\"color: #000080; text-decoration-color: #000080\"> │</span>\n",
       "<span style=\"color: #000080; text-decoration-color: #000080\">│ </span><span style=\"color: #c0c0c0; text-decoration-color: #c0c0c0\">│ </span><span style=\"color: #c0c0c0; text-decoration-color: #c0c0c0; font-weight: bold\">}</span><span style=\"color: #c0c0c0; text-decoration-color: #c0c0c0\">                                                                                                           │</span><span style=\"color: #000080; text-decoration-color: #000080\"> │</span>\n",
       "<span style=\"color: #000080; text-decoration-color: #000080\">│ </span><span style=\"color: #c0c0c0; text-decoration-color: #c0c0c0\">╰─────────────────────────────────────────────────────────────────────────────────────────────────────────────╯</span><span style=\"color: #000080; text-decoration-color: #000080\"> │</span>\n",
       "<span style=\"color: #000080; text-decoration-color: #000080\">╰─────────────────────────────────────────────────────────────────────────────────────────────────────────────────╯</span>\n",
       "</pre>\n"
      ],
      "text/plain": [
       "\u001b[34m╭─\u001b[0m\u001b[34m───────────────────────────────────────\u001b[0m EXECUTE_TOOL: get_current_time \u001b[34m────────────────────────────────────────\u001b[0m\u001b[34m─╮\u001b[0m\n",
       "\u001b[34m│\u001b[0m\u001b[34m \u001b[0m\u001b[37m╭─\u001b[0m\u001b[34m Input \u001b[0m\u001b[37m────────────────────────────────────────────────────────────────────────────────────────────────────\u001b[0m\u001b[37m─╮\u001b[0m\u001b[34m \u001b[0m\u001b[34m│\u001b[0m\n",
       "\u001b[34m│\u001b[0m\u001b[34m \u001b[0m\u001b[37m│\u001b[0m\u001b[37m \u001b[0m\u001b[1;37m{\u001b[0m\u001b[37m                                                                                                          \u001b[0m\u001b[37m \u001b[0m\u001b[37m│\u001b[0m\u001b[34m \u001b[0m\u001b[34m│\u001b[0m\n",
       "\u001b[34m│\u001b[0m\u001b[34m \u001b[0m\u001b[37m│\u001b[0m\u001b[37m \u001b[0m\u001b[37m  \u001b[0m\u001b[1;34m\"timezone\"\u001b[0m\u001b[37m: \u001b[0m\u001b[32m\"America/New_York\"\u001b[0m\u001b[37m                                                                           \u001b[0m\u001b[37m \u001b[0m\u001b[37m│\u001b[0m\u001b[34m \u001b[0m\u001b[34m│\u001b[0m\n",
       "\u001b[34m│\u001b[0m\u001b[34m \u001b[0m\u001b[37m│\u001b[0m\u001b[37m \u001b[0m\u001b[1;37m}\u001b[0m\u001b[37m                                                                                                          \u001b[0m\u001b[37m \u001b[0m\u001b[37m│\u001b[0m\u001b[34m \u001b[0m\u001b[34m│\u001b[0m\n",
       "\u001b[34m│\u001b[0m\u001b[34m \u001b[0m\u001b[37m╰─────────────────────────────────────────────────────────────────────────────────────────────────────────────╯\u001b[0m\u001b[34m \u001b[0m\u001b[34m│\u001b[0m\n",
       "\u001b[34m│\u001b[0m\u001b[34m \u001b[0m\u001b[37m╭─\u001b[0m\u001b[34m OUTPUT \u001b[0m\u001b[37m───────────────────────────────────────────────────────────────────────────────────────────────────\u001b[0m\u001b[37m─╮\u001b[0m\u001b[34m \u001b[0m\u001b[34m│\u001b[0m\n",
       "\u001b[34m│\u001b[0m\u001b[34m \u001b[0m\u001b[37m│\u001b[0m\u001b[37m \u001b[0m\u001b[1;37m{\u001b[0m\u001b[37m                                                                                                          \u001b[0m\u001b[37m \u001b[0m\u001b[37m│\u001b[0m\u001b[34m \u001b[0m\u001b[34m│\u001b[0m\n",
       "\u001b[34m│\u001b[0m\u001b[34m \u001b[0m\u001b[37m│\u001b[0m\u001b[37m \u001b[0m\u001b[37m  \u001b[0m\u001b[1;34m\"timezone\"\u001b[0m\u001b[37m: \u001b[0m\u001b[32m\"America/New_York\"\u001b[0m\u001b[37m,\u001b[0m\u001b[37m                                                                          \u001b[0m\u001b[37m \u001b[0m\u001b[37m│\u001b[0m\u001b[34m \u001b[0m\u001b[34m│\u001b[0m\n",
       "\u001b[34m│\u001b[0m\u001b[34m \u001b[0m\u001b[37m│\u001b[0m\u001b[37m \u001b[0m\u001b[37m  \u001b[0m\u001b[1;34m\"datetime\"\u001b[0m\u001b[37m: \u001b[0m\u001b[32m\"2025-06-13T13:28:21-04:00\"\u001b[0m\u001b[37m,\u001b[0m\u001b[37m                                                                 \u001b[0m\u001b[37m \u001b[0m\u001b[37m│\u001b[0m\u001b[34m \u001b[0m\u001b[34m│\u001b[0m\n",
       "\u001b[34m│\u001b[0m\u001b[34m \u001b[0m\u001b[37m│\u001b[0m\u001b[37m \u001b[0m\u001b[37m  \u001b[0m\u001b[1;34m\"is_dst\"\u001b[0m\u001b[37m: \u001b[0m\u001b[3;92mtrue\u001b[0m\u001b[37m                                                                                           \u001b[0m\u001b[37m \u001b[0m\u001b[37m│\u001b[0m\u001b[34m \u001b[0m\u001b[34m│\u001b[0m\n",
       "\u001b[34m│\u001b[0m\u001b[34m \u001b[0m\u001b[37m│\u001b[0m\u001b[37m \u001b[0m\u001b[1;37m}\u001b[0m\u001b[37m                                                                                                          \u001b[0m\u001b[37m \u001b[0m\u001b[37m│\u001b[0m\u001b[34m \u001b[0m\u001b[34m│\u001b[0m\n",
       "\u001b[34m│\u001b[0m\u001b[34m \u001b[0m\u001b[37m╰─────────────────────────────────────────────────────────────────────────────────────────────────────────────╯\u001b[0m\u001b[34m \u001b[0m\u001b[34m│\u001b[0m\n",
       "\u001b[34m╰─────────────────────────────────────────────────────────────────────────────────────────────────────────────────╯\u001b[0m\n"
      ]
     },
     "metadata": {},
     "output_type": "display_data"
    },
    {
     "data": {
      "text/html": [
       "<pre style=\"white-space:pre;overflow-x:auto;line-height:normal;font-family:Menlo,'DejaVu Sans Mono',consolas,'Courier New',monospace\"><span style=\"color: #808000; text-decoration-color: #808000\">╭────────────────────────────────────────────</span> CALL_LLM: gpt-4.1-mini <span style=\"color: #808000; text-decoration-color: #808000\">─────────────────────────────────────────────╮</span>\n",
       "<span style=\"color: #808000; text-decoration-color: #808000\">│ </span><span style=\"color: #c0c0c0; text-decoration-color: #c0c0c0\">╭─</span><span style=\"color: #808000; text-decoration-color: #808000\"> OUTPUT </span><span style=\"color: #c0c0c0; text-decoration-color: #c0c0c0\">────────────────────────────────────────────────────────────────────────────────────────────────────╮</span><span style=\"color: #808000; text-decoration-color: #808000\"> │</span>\n",
       "<span style=\"color: #808000; text-decoration-color: #808000\">│ </span><span style=\"color: #c0c0c0; text-decoration-color: #c0c0c0\">│ The current time in New York (America/New_York timezone) is approximately 1:28 PM on June 13, 2025. If you  │</span><span style=\"color: #808000; text-decoration-color: #808000\"> │</span>\n",
       "<span style=\"color: #808000; text-decoration-color: #808000\">│ </span><span style=\"color: #c0c0c0; text-decoration-color: #c0c0c0\">│ want to know the time in a different location or timezone, please let me know!                              │</span><span style=\"color: #808000; text-decoration-color: #808000\"> │</span>\n",
       "<span style=\"color: #808000; text-decoration-color: #808000\">│ </span><span style=\"color: #c0c0c0; text-decoration-color: #c0c0c0\">╰─────────────────────────────────────────────────────────────────────────────────────────────────────────────╯</span><span style=\"color: #808000; text-decoration-color: #808000\"> │</span>\n",
       "<span style=\"color: #808000; text-decoration-color: #808000\">│ </span><span style=\"color: #c0c0c0; text-decoration-color: #c0c0c0\">╭─</span><span style=\"color: #808000; text-decoration-color: #808000\"> USAGE </span><span style=\"color: #c0c0c0; text-decoration-color: #c0c0c0\">─────────────────────────────────────────────────────────────────────────────────────────────────────╮</span><span style=\"color: #808000; text-decoration-color: #808000\"> │</span>\n",
       "<span style=\"color: #808000; text-decoration-color: #808000\">│ </span><span style=\"color: #c0c0c0; text-decoration-color: #c0c0c0\">│ </span><span style=\"color: #c0c0c0; text-decoration-color: #c0c0c0; font-weight: bold\">{</span><span style=\"color: #c0c0c0; text-decoration-color: #c0c0c0\">                                                                                                           │</span><span style=\"color: #808000; text-decoration-color: #808000\"> │</span>\n",
       "<span style=\"color: #808000; text-decoration-color: #808000\">│ </span><span style=\"color: #c0c0c0; text-decoration-color: #c0c0c0\">│   </span><span style=\"color: #000080; text-decoration-color: #000080; font-weight: bold\">\"input_tokens\"</span><span style=\"color: #c0c0c0; text-decoration-color: #c0c0c0\">: </span><span style=\"color: #008080; text-decoration-color: #008080; font-weight: bold\">295</span><span style=\"color: #c0c0c0; text-decoration-color: #c0c0c0\">,                                                                                      │</span><span style=\"color: #808000; text-decoration-color: #808000\"> │</span>\n",
       "<span style=\"color: #808000; text-decoration-color: #808000\">│ </span><span style=\"color: #c0c0c0; text-decoration-color: #c0c0c0\">│   </span><span style=\"color: #000080; text-decoration-color: #000080; font-weight: bold\">\"output_tokens\"</span><span style=\"color: #c0c0c0; text-decoration-color: #c0c0c0\">: </span><span style=\"color: #008080; text-decoration-color: #008080; font-weight: bold\">49</span><span style=\"color: #c0c0c0; text-decoration-color: #c0c0c0\">                                                                                       │</span><span style=\"color: #808000; text-decoration-color: #808000\"> │</span>\n",
       "<span style=\"color: #808000; text-decoration-color: #808000\">│ </span><span style=\"color: #c0c0c0; text-decoration-color: #c0c0c0\">│ </span><span style=\"color: #c0c0c0; text-decoration-color: #c0c0c0; font-weight: bold\">}</span><span style=\"color: #c0c0c0; text-decoration-color: #c0c0c0\">                                                                                                           │</span><span style=\"color: #808000; text-decoration-color: #808000\"> │</span>\n",
       "<span style=\"color: #808000; text-decoration-color: #808000\">│ </span><span style=\"color: #c0c0c0; text-decoration-color: #c0c0c0\">╰─────────────────────────────────────────────────────────────────────────────────────────────────────────────╯</span><span style=\"color: #808000; text-decoration-color: #808000\"> │</span>\n",
       "<span style=\"color: #808000; text-decoration-color: #808000\">╰─────────────────────────────────────────────────────────────────────────────────────────────────────────────────╯</span>\n",
       "</pre>\n"
      ],
      "text/plain": [
       "\u001b[33m╭─\u001b[0m\u001b[33m───────────────────────────────────────────\u001b[0m CALL_LLM: gpt-4.1-mini \u001b[33m────────────────────────────────────────────\u001b[0m\u001b[33m─╮\u001b[0m\n",
       "\u001b[33m│\u001b[0m\u001b[33m \u001b[0m\u001b[37m╭─\u001b[0m\u001b[33m OUTPUT \u001b[0m\u001b[37m───────────────────────────────────────────────────────────────────────────────────────────────────\u001b[0m\u001b[37m─╮\u001b[0m\u001b[33m \u001b[0m\u001b[33m│\u001b[0m\n",
       "\u001b[33m│\u001b[0m\u001b[33m \u001b[0m\u001b[37m│\u001b[0m\u001b[37m \u001b[0m\u001b[37mThe current time in New York (America/New_York timezone) is approximately 1:28 PM on June 13, 2025. If you \u001b[0m\u001b[37m \u001b[0m\u001b[37m│\u001b[0m\u001b[33m \u001b[0m\u001b[33m│\u001b[0m\n",
       "\u001b[33m│\u001b[0m\u001b[33m \u001b[0m\u001b[37m│\u001b[0m\u001b[37m \u001b[0m\u001b[37mwant to know the time in a different location or timezone, please let me know!                             \u001b[0m\u001b[37m \u001b[0m\u001b[37m│\u001b[0m\u001b[33m \u001b[0m\u001b[33m│\u001b[0m\n",
       "\u001b[33m│\u001b[0m\u001b[33m \u001b[0m\u001b[37m╰─────────────────────────────────────────────────────────────────────────────────────────────────────────────╯\u001b[0m\u001b[33m \u001b[0m\u001b[33m│\u001b[0m\n",
       "\u001b[33m│\u001b[0m\u001b[33m \u001b[0m\u001b[37m╭─\u001b[0m\u001b[33m USAGE \u001b[0m\u001b[37m────────────────────────────────────────────────────────────────────────────────────────────────────\u001b[0m\u001b[37m─╮\u001b[0m\u001b[33m \u001b[0m\u001b[33m│\u001b[0m\n",
       "\u001b[33m│\u001b[0m\u001b[33m \u001b[0m\u001b[37m│\u001b[0m\u001b[37m \u001b[0m\u001b[1;37m{\u001b[0m\u001b[37m                                                                                                          \u001b[0m\u001b[37m \u001b[0m\u001b[37m│\u001b[0m\u001b[33m \u001b[0m\u001b[33m│\u001b[0m\n",
       "\u001b[33m│\u001b[0m\u001b[33m \u001b[0m\u001b[37m│\u001b[0m\u001b[37m \u001b[0m\u001b[37m  \u001b[0m\u001b[1;34m\"input_tokens\"\u001b[0m\u001b[37m: \u001b[0m\u001b[1;36m295\u001b[0m\u001b[37m,\u001b[0m\u001b[37m                                                                                     \u001b[0m\u001b[37m \u001b[0m\u001b[37m│\u001b[0m\u001b[33m \u001b[0m\u001b[33m│\u001b[0m\n",
       "\u001b[33m│\u001b[0m\u001b[33m \u001b[0m\u001b[37m│\u001b[0m\u001b[37m \u001b[0m\u001b[37m  \u001b[0m\u001b[1;34m\"output_tokens\"\u001b[0m\u001b[37m: \u001b[0m\u001b[1;36m49\u001b[0m\u001b[37m                                                                                      \u001b[0m\u001b[37m \u001b[0m\u001b[37m│\u001b[0m\u001b[33m \u001b[0m\u001b[33m│\u001b[0m\n",
       "\u001b[33m│\u001b[0m\u001b[33m \u001b[0m\u001b[37m│\u001b[0m\u001b[37m \u001b[0m\u001b[1;37m}\u001b[0m\u001b[37m                                                                                                          \u001b[0m\u001b[37m \u001b[0m\u001b[37m│\u001b[0m\u001b[33m \u001b[0m\u001b[33m│\u001b[0m\n",
       "\u001b[33m│\u001b[0m\u001b[33m \u001b[0m\u001b[37m╰─────────────────────────────────────────────────────────────────────────────────────────────────────────────╯\u001b[0m\u001b[33m \u001b[0m\u001b[33m│\u001b[0m\n",
       "\u001b[33m╰─────────────────────────────────────────────────────────────────────────────────────────────────────────────────╯\u001b[0m\n"
      ]
     },
     "metadata": {},
     "output_type": "display_data"
    }
   ],
   "source": [
    "from uuid import uuid4\n",
    "\n",
    "from a2a.types import MessageSendParams, SendMessageRequest\n",
    "\n",
    "send_message_payload = {\n",
    "    \"message\": {\n",
    "        \"role\": \"user\",\n",
    "        \"parts\": [{\"kind\": \"text\", \"text\": \"What time is it?\"}],\n",
    "        \"messageId\": uuid4().hex,\n",
    "    },\n",
    "}\n",
    "request = SendMessageRequest(\n",
    "    id=str(uuid4()), params=MessageSendParams(**send_message_payload)\n",
    ")\n",
    "response = await client.send_message(request)\n",
    "# Close the httpx client when done\n",
    "await httpx_client.aclose()"
   ]
  },
  {
   "cell_type": "code",
   "execution_count": 6,
   "metadata": {},
   "outputs": [
    {
     "name": "stdout",
     "output_type": "stream",
     "text": [
      "{\n",
      "  \"id\": \"d9357217-38e7-40b5-ab6a-d6a06f83af0c\",\n",
      "  \"jsonrpc\": \"2.0\",\n",
      "  \"result\": {\n",
      "    \"artifacts\": null,\n",
      "    \"contextId\": \"6bde1392-d951-4876-9686-0bc30cd7dbb7\",\n",
      "    \"history\": [\n",
      "      {\n",
      "        \"contextId\": \"6bde1392-d951-4876-9686-0bc30cd7dbb7\",\n",
      "        \"extensions\": null,\n",
      "        \"kind\": \"message\",\n",
      "        \"messageId\": \"56f9f3de356d48dbbd495882860252f9\",\n",
      "        \"metadata\": null,\n",
      "        \"parts\": [\n",
      "          {\n",
      "            \"kind\": \"text\",\n",
      "            \"metadata\": null,\n",
      "            \"text\": \"What time is it?\"\n",
      "          }\n",
      "        ],\n",
      "        \"referenceTaskIds\": null,\n",
      "        \"role\": \"user\",\n",
      "        \"taskId\": \"894a7ed3-b1c7-4578-b8f8-f5845538859b\"\n",
      "      }\n",
      "    ],\n",
      "    \"id\": \"894a7ed3-b1c7-4578-b8f8-f5845538859b\",\n",
      "    \"kind\": \"task\",\n",
      "    \"metadata\": null,\n",
      "    \"status\": {\n",
      "      \"message\": {\n",
      "        \"contextId\": \"6bde1392-d951-4876-9686-0bc30cd7dbb7\",\n",
      "        \"extensions\": null,\n",
      "        \"kind\": \"message\",\n",
      "        \"messageId\": \"5ae21424-4882-4fd7-b386-6b620cd0a5a1\",\n",
      "        \"metadata\": null,\n",
      "        \"parts\": [\n",
      "          {\n",
      "            \"kind\": \"text\",\n",
      "            \"metadata\": null,\n",
      "            \"text\": \"{\\\"result\\\":\\\"The current time in New York (America/New_York timezone) is approximately 1:28 PM on June 13, 2025. If you want to know the time in a different location or timezone, please let me know!\\\"}\"\n",
      "          }\n",
      "        ],\n",
      "        \"referenceTaskIds\": null,\n",
      "        \"role\": \"agent\",\n",
      "        \"taskId\": \"894a7ed3-b1c7-4578-b8f8-f5845538859b\"\n",
      "      },\n",
      "      \"state\": \"completed\",\n",
      "      \"timestamp\": \"2025-06-13T17:28:24.396695+00:00\"\n",
      "    }\n",
      "  }\n",
      "}\n"
     ]
    }
   ],
   "source": [
    "print(response.model_dump_json(indent=2))"
   ]
  },
  {
   "cell_type": "markdown",
   "metadata": {},
   "source": [
    "## Cleanup\n",
    "\n",
    "In order to shut down the A2A server, we can set the `should_exit` property of the server, which will cause the server to shutdown and the asyncio task to complete."
   ]
  },
  {
   "cell_type": "code",
   "execution_count": 7,
   "metadata": {},
   "outputs": [
    {
     "name": "stdout",
     "output_type": "stream",
     "text": [
      "Waiting for server to exit\n",
      "Agent server task has completed!\n"
     ]
    }
   ],
   "source": [
    "import asyncio\n",
    "\n",
    "time_server.should_exit = True\n",
    "time_task.cancel()\n",
    "wait_count = 0\n",
    "max_wait_seconds = 10\n",
    "while True:\n",
    "    if time_task.done():\n",
    "        print(\"Agent server task has completed!\")\n",
    "        break\n",
    "    elif wait_count >= max_wait_seconds:\n",
    "        print(f\"Timed out after {max_wait_seconds} seconds waiting for server to exit\")\n",
    "        break\n",
    "    else:\n",
    "        print(\"Waiting for server to exit\")\n",
    "        await asyncio.sleep(1)\n",
    "        wait_count += 1"
   ]
  }
 ],
 "metadata": {
  "kernelspec": {
   "display_name": ".venv",
   "language": "python",
   "name": "python3"
  },
  "language_info": {
   "codemirror_mode": {
    "name": "ipython",
    "version": 3
   },
   "file_extension": ".py",
   "mimetype": "text/x-python",
   "name": "python",
   "nbconvert_exporter": "python",
   "pygments_lexer": "ipython3",
   "version": "3.13.2"
  }
 },
 "nbformat": 4,
 "nbformat_minor": 2
}
