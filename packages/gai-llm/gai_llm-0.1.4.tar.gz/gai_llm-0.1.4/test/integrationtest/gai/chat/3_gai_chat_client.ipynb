{
    "cells": [
        {
            "cell_type": "markdown",
            "metadata": {},
            "source": [
                "## 4. Client Test\n",
                "\n",
                "**NOTE**: \n",
                "\n",
                "The client test resides in the `client` directory and mounted to the devcontainer.\n",
                "That means you can either run this test either server-side or client-side.\n",
                "There are 3 different ways to run this test:\n",
                "\n",
                "a) **If you are running from gai-llm-svr devcontainer**:  \n",
                "\n",
                "    - Press **F5** to start the chat server.    \n",
                "    - Set base url to **http://localhost:12031** in client_config  \n",
                "    NOTE: You cannot run the server using `docker-compose up` command in this case, as it will conflict with the devcontainer's port mapping.\n",
                "\n",
                "b) **If you are running from gai-llm-svr Client**:  \n",
                "\n",
                "    - Use `docker-compose up` to start the chat server.  \n",
                "    - Set base url to **http://localhost:12031** in client_config  \n",
                "\n",
                "c) **If you are running from gai-sdk devcontainer**:  \n",
                "\n",
                "    - From gai-sdk, open devcontainer.  \n",
                "    - Set base url to **http://gai-llm-svr:12031** in client_config  \n",
                "\n",
                "### b) Load the client"
            ]
        },
        {
            "cell_type": "code",
            "execution_count": 1,
            "metadata": {},
            "outputs": [],
            "source": [
                "import os\n",
                "os.environ[\"LOG_LEVEL\"] = \"INFO\"\n",
                "from gai.llm.client import ChatClient\n",
                "chat_client = ChatClient({\n",
                "        \"client_type\": \"gai\",\n",
                "        #\"url\": \"http://localhost:12031/gen/v1/chat/completions\"\n",
                "        \"url\": \"http://gai-llm-svr:12031/gen/v1/chat/completions\"\n",
                "        })\n",
                "\n",
                "from gai.llm.client import AsyncChatClient\n",
                "async_client = AsyncChatClient({\n",
                "        \"client_type\": \"gai\",\n",
                "        #\"url\": \"http://localhost:12031/gen/v1/chat/completions\"\n",
                "        \"url\": \"http://gai-llm-svr:12031/gen/v1/chat/completions\"\n",
                "        })\n"
            ]
        },
        {
            "cell_type": "markdown",
            "metadata": {},
            "source": [
                "### c) Stream"
            ]
        },
        {
            "cell_type": "code",
            "execution_count": 3,
            "metadata": {},
            "outputs": [
                {
                    "name": "stdout",
                    "output_type": "stream",
                    "text": [
                        "Once upon a time, in a bustling city, there was a small flower shop tucked away on a quiet street. The store was run by an elderly man named Mr. Thompson, who had been selling flowers for over 40 years. One day, a young girl named Lily wandered into the shop, drawn by the sweet scent of the flowers. She was immediately captivated by the colorful blooms and the warmth of the shop owner. Over time, Lily visited the shop often, learning about flowers and forming a special bond with Mr. Thompson. As she grew older, she started helping out at the shop, learning the art of arranging flowers under Mr. Thompson's guidance. Eventually, Lily decided to take over the shop, carrying on its legacy and continuing to spread joy through the beauty of flowers.{'type': 'finish_reason', 'finish_reason': 'stop'}"
                    ]
                }
            ],
            "source": [
                "result = chat_client.chat(model=\"ttt\",messages=\"User:Tell me a one paragraph story\",stream=True)\n",
                "for chunk in result:\n",
                "    print(chunk.extract(),end=\"\",flush=True)"
            ]
        },
        {
            "cell_type": "code",
            "execution_count": 3,
            "metadata": {},
            "outputs": [
                {
                    "name": "stdout",
                    "output_type": "stream",
                    "text": [
                        "Once upon a time, in a land far away, there was a magical forest filled with talking animals and enchanted trees. Among the animals lived a brave little rabbit named Rosie who loved to explore. One day, while wandering through the forest, Rosie stumbled upon a mysterious door hidden behind a waterfall. Intrigued, she opened it and found herself in a secret garden where the flowers glowed brightly and birds sang melodious tunes. Rosie spent hours marveling at the beauty and wonder of this hidden paradise, but as the sun began to set, she remembered her home and friends and decided to venture back. She returned to the magical forest, forever changed by the enchanting wonders she had discovered.{'type': 'finish_reason', 'finish_reason': 'stop'}"
                    ]
                }
            ],
            "source": [
                "result = await async_client.chat(model=\"ttt\",messages=\"User:Tell me a one paragraph story\",stream=True)\n",
                "async for chunk in result:\n",
                "    print(chunk.extract(),end=\"\",flush=True)"
            ]
        },
        {
            "cell_type": "markdown",
            "metadata": {},
            "source": [
                "### d) Generate"
            ]
        },
        {
            "cell_type": "code",
            "execution_count": 4,
            "metadata": {},
            "outputs": [
                {
                    "name": "stdout",
                    "output_type": "stream",
                    "text": [
                        "Once upon a time, in a small village nestled between two great mountains, there lived a young girl named Lila. She was known throughout the village for her extraordinary gift of communicating with animals. One day, a fierce storm swept through the village, causing destruction and chaos. The villagers sought Lila's help to calm the frightened animals and restore peace. With her gentle heart and kind touch, Lila connected with the animals, soothing their fears and calming their nerves. As the storm subsided, the villagers rejoiced, grateful for Lila's extraordinary gift and her unwavering compassion.\n"
                    ]
                }
            ],
            "source": [
                "result = chat_client.chat(model=\"ttt\",messages=\"User:Tell me a one paragraph story\",stream=False)\n",
                "print(result.extract()[\"content\"])"
            ]
        },
        {
            "cell_type": "code",
            "execution_count": 4,
            "metadata": {},
            "outputs": [
                {
                    "name": "stdout",
                    "output_type": "stream",
                    "text": [
                        "Once upon a time, in a small village nestled between two great mountains, there lived a young girl named Akira. She was known throughout the village for her kindness and generosity, always helping those in need without expecting anything in return. One day, a terrible storm swept through the village, destroying homes and uprooting trees. The villagers were in shock, trying to figure out how to rebuild their lives. Akira knew what she had to do; she gathered her friends and together they started working on rebuilding the houses of their neighbors. They worked tirelessly, day and night, until every house was restored. The villagers were overwhelmed with gratitude for Akira and her friends, and soon the village was thriving once again.\n"
                    ]
                }
            ],
            "source": [
                "result = await async_client.chat(model=\"ttt\",messages=\"User:Tell me a one paragraph story\",stream=False)\n",
                "print(result.extract()[\"content\"])"
            ]
        },
        {
            "cell_type": "markdown",
            "metadata": {},
            "source": [
                "### e) Tool Call"
            ]
        },
        {
            "cell_type": "code",
            "execution_count": 4,
            "metadata": {},
            "outputs": [
                {
                    "name": "stdout",
                    "output_type": "stream",
                    "text": [
                        "{'type': 'function', 'name': 'google', 'arguments': '{\"search_query\": \"current time in Singapore\"}'}\n"
                    ]
                }
            ],
            "source": [
                "result = chat_client.chat(\n",
                "        model=\"ttt\",\n",
                "        messages=[\n",
                "            {\"role\":\"user\",\"content\":\"What is the current time in Singapore?\"},\n",
                "            {\"role\":\"assistant\",\"content\":\"\"}\n",
                "        ],\n",
                "        tool_choice=\"required\",\n",
                "        tools=[\n",
                "            {\n",
                "                \"type\": \"function\",\n",
                "                \"function\": {\n",
                "                    \"name\": \"google\",\n",
                "                    \"description\": \"The 'google' function is a powerful tool that allows the AI to gather external information from the internet using Google search. It can be invoked when the AI needs to answer a question or provide information that requires up-to-date, comprehensive, and diverse sources which are not inherently known by the AI. For instance, it can be used to find current date, current news, weather updates, latest sports scores, trending topics, specific facts, or even the current date and time. The usage of this tool should be considered when the user's query implies or explicitly requests recent or wide-ranging data, or when the AI's inherent knowledge base may not have the required or most current information. The 'search_query' parameter should be a concise and accurate representation of the information needed.\",\n",
                "                    \"parameters\": {\n",
                "                        \"type\": \"object\",\n",
                "                        \"properties\": {\n",
                "                            \"search_query\": {\n",
                "                                \"type\": \"string\",\n",
                "                                \"description\": \"The search query to search google with. For example, to find the current date or time, use 'current date' or 'current time' respectively.\"\n",
                "                            }\n",
                "                        },\n",
                "                        \"required\": [\"search_query\"]\n",
                "                    }\n",
                "                }\n",
                "            }\n",
                "        ],\n",
                "        stream=False)\n",
                "print(result.extract())"
            ]
        },
        {
            "cell_type": "code",
            "execution_count": 5,
            "metadata": {},
            "outputs": [
                {
                    "name": "stdout",
                    "output_type": "stream",
                    "text": [
                        "{'type': 'function', 'name': 'google', 'arguments': '{\"search_query\": \"current time in Singapore\"}'}\n"
                    ]
                }
            ],
            "source": [
                "result = await async_client.chat(\n",
                "        model=\"ttt\",\n",
                "        messages=[\n",
                "            {\"role\":\"user\",\"content\":\"What is the current time in Singapore?\"},\n",
                "            {\"role\":\"assistant\",\"content\":\"\"}\n",
                "        ],\n",
                "        tool_choice=\"required\",\n",
                "        tools=[\n",
                "            {\n",
                "                \"type\": \"function\",\n",
                "                \"function\": {\n",
                "                    \"name\": \"google\",\n",
                "                    \"description\": \"The 'google' function is a powerful tool that allows the AI to gather external information from the internet using Google search. It can be invoked when the AI needs to answer a question or provide information that requires up-to-date, comprehensive, and diverse sources which are not inherently known by the AI. For instance, it can be used to find current date, current news, weather updates, latest sports scores, trending topics, specific facts, or even the current date and time. The usage of this tool should be considered when the user's query implies or explicitly requests recent or wide-ranging data, or when the AI's inherent knowledge base may not have the required or most current information. The 'search_query' parameter should be a concise and accurate representation of the information needed.\",\n",
                "                    \"parameters\": {\n",
                "                        \"type\": \"object\",\n",
                "                        \"properties\": {\n",
                "                            \"search_query\": {\n",
                "                                \"type\": \"string\",\n",
                "                                \"description\": \"The search query to search google with. For example, to find the current date or time, use 'current date' or 'current time' respectively.\"\n",
                "                            }\n",
                "                        },\n",
                "                        \"required\": [\"search_query\"]\n",
                "                    }\n",
                "                }\n",
                "            }\n",
                "        ],\n",
                "        stream=False)\n",
                "print(result.extract())"
            ]
        },
        {
            "cell_type": "markdown",
            "metadata": {},
            "source": [
                "### f) Structured Output"
            ]
        },
        {
            "cell_type": "code",
            "execution_count": 5,
            "metadata": {},
            "outputs": [
                {
                    "name": "stderr",
                    "output_type": "stream",
                    "text": [
                        "/tmp/ipykernel_96508/2285534030.py:20: PydanticDeprecatedSince20: The `schema` method is deprecated; use `model_json_schema` instead. Deprecated in Pydantic V2.0 to be removed in V3.0. See Pydantic V2 Migration Guide at https://errors.pydantic.dev/2.11/migration/\n",
                        "  json_schema=Book.schema(),\n"
                    ]
                },
                {
                    "name": "stdout",
                    "output_type": "stream",
                    "text": [
                        "{\n",
                        "  \"title\": \"Foundation\",\n",
                        "  \"summary\": \"Foundation is a science fiction novel by American writer Isaac Asimov. It is the first published in his Foundation Trilogy (later expanded into the Foundation series). Foundation is a cycle of five interrelated short stories, first published as a single book by Gnome Press in 1951. Collectively they tell the early story of the Foundation, an institute founded by psychohistorian Hari Seldon to preserve the best of galactic civilization after the collapse of the Galactic Empire.\",\n",
                        "  \"author\": \"Isaac Asimov\",\n",
                        "  \"published_year\": 1951\n",
                        "}\n"
                    ]
                }
            ],
            "source": [
                "from pydantic import BaseModel\n",
                "class Book(BaseModel):\n",
                "    title: str\n",
                "    summary: str\n",
                "    author: str\n",
                "    published_year: int\n",
                "\n",
                "text = \"\"\"Foundation is a science fiction novel by American writer\n",
                "Isaac Asimov. It is the first published in his Foundation Trilogy (later\n",
                "expanded into the Foundation series). Foundation is a cycle of five\n",
                "interrelated short stories, first published as a single book by Gnome Press\n",
                "in 1951. Collectively they tell the early story of the Foundation,\n",
                "an institute founded by psychohistorian Hari Seldon to preserve the best\n",
                "of galactic civilization after the collapse of the Galactic Empire.\n",
                "\"\"\"\n",
                "\n",
                "result = chat_client.chat(\n",
                "    model=\"ttt\",\n",
                "    messages=[{'role':'user','content':text},{'role':'assistant','content':''}], \n",
                "    json_schema=Book.schema(),\n",
                "    stream=False)\n",
                "print(result.extract()[\"content\"])"
            ]
        },
        {
            "cell_type": "code",
            "execution_count": 7,
            "metadata": {},
            "outputs": [
                {
                    "name": "stderr",
                    "output_type": "stream",
                    "text": [
                        "/tmp/ipykernel_7977/1987867710.py:20: PydanticDeprecatedSince20: The `schema` method is deprecated; use `model_json_schema` instead. Deprecated in Pydantic V2.0 to be removed in V3.0. See Pydantic V2 Migration Guide at https://errors.pydantic.dev/2.11/migration/\n",
                        "  json_schema=Book.schema(),\n"
                    ]
                },
                {
                    "name": "stdout",
                    "output_type": "stream",
                    "text": [
                        "{\n",
                        "  \"title\": \"Foundation\",\n",
                        "  \"summary\": \"Foundation is a science fiction novel by American writer Isaac Asimov. It is the first published in his Foundation Trilogy (later expanded into the Foundation series). Foundation is a cycle of five interrelated short stories, first published as a single book by Gnome Press in 1951. Collectively they tell the early story of the Foundation, an institute founded by psychohistorian Hari Seldon to preserve the best of galactic civilization after the collapse of the Galactic Empire.\",\n",
                        "  \"author\": \"Isaac Asimov\",\n",
                        "  \"published_year\": 1951\n",
                        "}\n"
                    ]
                }
            ],
            "source": [
                "from pydantic import BaseModel\n",
                "class Book(BaseModel):\n",
                "    title: str\n",
                "    summary: str\n",
                "    author: str\n",
                "    published_year: int\n",
                "\n",
                "text = \"\"\"Foundation is a science fiction novel by American writer\n",
                "Isaac Asimov. It is the first published in his Foundation Trilogy (later\n",
                "expanded into the Foundation series). Foundation is a cycle of five\n",
                "interrelated short stories, first published as a single book by Gnome Press\n",
                "in 1951. Collectively they tell the early story of the Foundation,\n",
                "an institute founded by psychohistorian Hari Seldon to preserve the best\n",
                "of galactic civilization after the collapse of the Galactic Empire.\n",
                "\"\"\"\n",
                "\n",
                "result = await async_client.chat(\n",
                "    model=\"ttt\",\n",
                "    messages=[{'role':'user','content':text},{'role':'assistant','content':''}], \n",
                "    json_schema=Book.schema(),\n",
                "    stream=False)\n",
                "print(result.extract()[\"content\"])"
            ]
        }
    ],
    "metadata": {
        "kernelspec": {
            "display_name": ".venv",
            "language": "python",
            "name": "python3"
        },
        "language_info": {
            "codemirror_mode": {
                "name": "ipython",
                "version": 3
            },
            "file_extension": ".py",
            "mimetype": "text/x-python",
            "name": "python",
            "nbconvert_exporter": "python",
            "pygments_lexer": "ipython3",
            "version": "3.10.18"
        }
    },
    "nbformat": 4,
    "nbformat_minor": 2
}
