{
 "cells": [
  {
   "cell_type": "code",
   "execution_count": null,
   "id": "e0256001-1383-416e-8f8a-c62cb0057a3f",
   "metadata": {},
   "outputs": [],
   "source": [
    "import panel as pn\n",
    "import panel_material_ui as pmui\n",
    "from panel_material_ui import Container\n",
    "\n",
    "pn.extension()"
   ]
  },
  {
   "cell_type": "markdown",
   "id": "56285c8a-7c6c-4d1c-9d99-52b05d88a6f2",
   "metadata": {},
   "source": [
    "The `Container` component centers content horizontally with responsive padding.\n",
    "\n",
    "## Parameters:\n",
    "\n",
    "### Core\n",
    "\n",
    "* **`disable_gutters`** (`boolean`): If True, removes the default padding on the left and right.\n",
    "* **`fixed`** (`boolean`): Sets max-width to match min-width of current breakpoint for fixed-width layouts.\n",
    "* **`width_option`** (`Literal[\"xs\", \"sm\", \"md\", \"lg\", \"xl\", False]`): Maximum width breakpoint for the container.\n",
    "\n",
    "---"
   ]
  },
  {
   "cell_type": "markdown",
   "id": "d311d9be-9835-4f67-99e8-f8879aaa0444",
   "metadata": {},
   "source": [
    "A `Container` has two modes, fluid (the default), where the width is bounded by the `width_option`, which corresponds to a breakpoint:\n"
   ]
  },
  {
   "cell_type": "code",
   "execution_count": null,
   "id": "0a698dc1-77d9-4d03-987b-72480637a9a0",
   "metadata": {},
   "outputs": [],
   "source": [
    "sx = {'boxShadow':'var(--mui-shadows-3)'}\n",
    "\n",
    "Container(\n",
    "    pmui.Typography('Container', height=100, variant='h4'),\n",
    "    pmui.Typography('This container centers it contents', height=100),\n",
    "    sx=sx, width_option='sm'\n",
    ")"
   ]
  },
  {
   "cell_type": "markdown",
   "id": "7357572d-976d-4c2a-ab31-e720e5bbe4a4",
   "metadata": {},
   "source": [
    "If you want to design for a fixed set of sizes instead of trying to accommodate a fully fluid viewport, you can set the `fixed` parameter. The max-width matches the min-width of the current breakpoint."
   ]
  },
  {
   "cell_type": "code",
   "execution_count": null,
   "id": "a5c6f13f-2c15-4c4e-980c-b961bb63e792",
   "metadata": {},
   "outputs": [],
   "source": [
    "Container('Container', sx=sx, width_option='sm', fixed=True)"
   ]
  }
 ],
 "metadata": {
  "kernelspec": {
   "display_name": "Python 3 (ipykernel)",
   "language": "python",
   "name": "python3"
  },
  "language_info": {
   "codemirror_mode": {
    "name": "ipython",
    "version": 3
   },
   "file_extension": ".py",
   "mimetype": "text/x-python",
   "name": "python",
   "nbconvert_exporter": "python",
   "pygments_lexer": "ipython3",
   "version": "3.12.2"
  }
 },
 "nbformat": 4,
 "nbformat_minor": 5
}
