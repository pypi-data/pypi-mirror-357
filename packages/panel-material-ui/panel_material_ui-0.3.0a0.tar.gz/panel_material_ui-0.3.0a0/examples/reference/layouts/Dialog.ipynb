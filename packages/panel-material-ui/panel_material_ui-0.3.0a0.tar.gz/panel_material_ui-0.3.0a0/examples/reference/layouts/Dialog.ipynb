{
 "cells": [
  {
   "cell_type": "code",
   "execution_count": null,
   "id": "a5b5692e-c760-4019-a6c7-80b555e94963",
   "metadata": {},
   "outputs": [],
   "source": [
    "import panel as pn\n",
    "from panel_material_ui import Button, Column, Dialog\n",
    "\n",
    "pn.extension()"
   ]
  },
  {
   "cell_type": "markdown",
   "id": "986d6f98-044d-4031-9e7e-3073cd218250",
   "metadata": {},
   "source": [
    "The `Dialog` component creates modal dialogs for important content or actions.\n",
    "\n",
    "## Parameters:\n",
    "\n",
    "### Core\n",
    "\n",
    "* **`close_on_click`** (`boolean`): Whether a click outside the Dialog area should close it.\n",
    "* **`full_screen`** (`boolean`): Whether the dialog takes up the full screen.\n",
    "* **`open`** (`boolean`): Whether the dialog is visible.\n",
    "* **`title`** (`str`): Header text for the dialog.\n",
    "\n",
    "### Display\n",
    "\n",
    "* **`scroll`** (`Literal[\"body\", \"paper\"]`): Whether the dialog should scroll the content or the paper.\n",
    "* **`width_option`** (`Literal[\"xs\", \"sm\", \"md\", \"lg\", \"xl\", False]`): Maximum width breakpoint for the container.\n",
    "\n",
    "---"
   ]
  },
  {
   "cell_type": "markdown",
   "id": "f251256c-d718-44f3-8ea2-cc8c6710c8e1",
   "metadata": {},
   "source": [
    "The `Dialog` can be programmatically opened and closed by setting the `open` parameter:"
   ]
  },
  {
   "cell_type": "code",
   "execution_count": null,
   "id": "c2ac2780-ed7a-4315-b85e-4183d6a38ec2",
   "metadata": {},
   "outputs": [],
   "source": [
    "open = Button(label='Open')\n",
    "close = Button(label='Close')\n",
    "\n",
    "dialog = Dialog('# This is a dialog', close)\n",
    "\n",
    "open.js_on_click(args={'dialog': dialog}, code=\"dialog.data.open = true\")\n",
    "close.js_on_click(args={'dialog': dialog}, code=\"dialog.data.open = false\")\n",
    "\n",
    "Column(open, dialog).preview()"
   ]
  },
  {
   "cell_type": "markdown",
   "id": "1a328814-f434-4597-8e8e-1c4379299c2c",
   "metadata": {},
   "source": [
    "It can also be rendered in full screen:"
   ]
  },
  {
   "cell_type": "code",
   "execution_count": null,
   "id": "faaebba5-5299-42a2-94dd-1eabbecc42bb",
   "metadata": {},
   "outputs": [],
   "source": [
    "open = Button(label='Open')\n",
    "close = Button(label='Close')\n",
    "\n",
    "dialog = Dialog(close, full_screen=True)\n",
    "\n",
    "open.js_on_click(args={'dialog': dialog}, code=\"dialog.data.open = true\")\n",
    "close.js_on_click(args={'dialog': dialog}, code=\"dialog.data.open = false\")\n",
    "\n",
    "Column(open, dialog).preview()"
   ]
  },
  {
   "cell_type": "markdown",
   "id": "ac4d136f-f753-4a7e-8a2d-7db90f311bd9",
   "metadata": {},
   "source": [
    "Lastly, we can control the maximum size of the `Dialog` with the `width_option` and if we want also force it to always take on that size by setting the `sizing_mode`:"
   ]
  },
  {
   "cell_type": "code",
   "execution_count": null,
   "id": "d0875366-6b7a-414f-a268-11ed39d9a322",
   "metadata": {},
   "outputs": [],
   "source": [
    "open = Button(label='Open')\n",
    "close = Button(label='Close')\n",
    "\n",
    "dialog = Dialog(close, sizing_mode='stretch_width', width_option='lg')\n",
    "\n",
    "open.js_on_click(args={'dialog': dialog}, code=\"dialog.data.open = true\")\n",
    "close.js_on_click(args={'dialog': dialog}, code=\"dialog.data.open = false\")\n",
    "\n",
    "Column(open, dialog).preview()"
   ]
  }
 ],
 "metadata": {
  "kernelspec": {
   "display_name": "Python 3 (ipykernel)",
   "language": "python",
   "name": "python3"
  },
  "language_info": {
   "codemirror_mode": {
    "name": "ipython",
    "version": 3
   },
   "file_extension": ".py",
   "mimetype": "text/x-python",
   "name": "python",
   "nbconvert_exporter": "python",
   "pygments_lexer": "ipython3",
   "version": "3.12.2"
  }
 },
 "nbformat": 4,
 "nbformat_minor": 5
}
