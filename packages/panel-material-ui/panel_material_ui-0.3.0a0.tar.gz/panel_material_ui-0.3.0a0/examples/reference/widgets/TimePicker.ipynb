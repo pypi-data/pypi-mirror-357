{
 "cells": [
  {
   "cell_type": "code",
   "execution_count": null,
   "metadata": {},
   "outputs": [],
   "source": [
    "import datetime as dt\n",
    "\n",
    "import panel as pn\n",
    "import panel_material_ui as pmui\n",
    "\n",
    "pn.extension()"
   ]
  },
  {
   "cell_type": "markdown",
   "metadata": {},
   "source": [
    "The `TimePicker` widget allows entering a time value as text or `datetime.time`. \n",
    "\n",
    "Discover more on using widgets to add interactivity to your applications in the [how-to guides on interactivity](https://panel.holoviz.org/how_to/interactivity/index.html). Alternatively, learn [how to set up callbacks and (JS-)links between parameters](https://panel.holoviz.org/how_to/links/index.html) or [how to use them as part of declarative UIs with Param](https://panel.holoviz.org/how_to/param/index.html).\n",
    "\n",
    "#### Parameters:\n",
    "\n",
    "For details on other options for customizing the component see the [customization guides](https://panel-material-ui.holoviz.org/customization/index.html).\n",
    "\n",
    "##### Core\n",
    "\n",
    "* **``disabled``** (boolean): Whether the widget is editable\n",
    "* **`end`** (str | datetime.time): Inclusive upper bound of the allowed time selection\n",
    "* **`start`** (str | datetime.time): Inclusive lower bound of the allowed time selection\n",
    "* **`value`** (str | datetime.time): The current value\n",
    "\n",
    "##### Display\n",
    "\n",
    "* **`clock`** (str): Whether to use 12 hour or 24 hour clock. Default is `'12h'`.\n",
    "* **`format`** (str): Formatting specification for the display of the picked date.\n",
    "\n",
    "    ```\n",
    "    +----+------------------------------------+------------+\n",
    "    | H  | Hours                              | 0 to 23    |\n",
    "    | HH | Hours, 2-digits                    | 00 to 23   |\n",
    "    | h  | Hours, 12-hour clock               | 1 to 12    |\n",
    "    | hh | Hours, 12-hour clock, 2-digits     | 1 to 12    |\n",
    "    | m  | Minutes                            | 0 to 59    |\n",
    "    | mm | Minutes                            | 00 to 59   |\n",
    "    | s  | Seconds                            | 0, 1 to 59 |\n",
    "    | ss | Seconds                            | 00 to 59   |\n",
    "    | a\t | am/pm, lower-case                  | am or pm   |\n",
    "    | A  | AM/PM, upper-cas                   | AM or PM   |\n",
    "    +----+------------------------------------+------------+\n",
    "    ```\n",
    "    See also https://day.js.org/docs/en/parse/string-format.\n",
    "\n",
    "* **`hour_increment`** (int): Defines the granularity of hour value increments in the UI. Default is 1.\n",
    "* **`minute_increment`** (int): Defines the granularity of minute value increments in the UI. Default is 1.\n",
    "* **`label`** (str): The title of the widget\n",
    "* **`second_increment`** (int): Defines the granularity of second value increments in the UI. Default is 1.\n",
    "* **`seconds`** (bool): Allows to select seconds. By default, only hours and minutes are selectable, and AM/PM depending on the `clock` option. Default is False.\n",
    "* \n",
    "##### Styling\n",
    "\n",
    "- **`sx`** (dict): Component level styling API.\n",
    "- **`theme_config`** (dict): Theming API.\n",
    "\n",
    "##### Aliases\n",
    "\n",
    "For compatibility with Panel certain parameters are allowed as aliases:\n",
    "\n",
    "- **`name`**: Alias for `label`\n",
    "\n",
    "___"
   ]
  },
  {
   "cell_type": "markdown",
   "metadata": {},
   "source": [
    "The `TimePicker` widget allows selecting a time of day."
   ]
  },
  {
   "cell_type": "code",
   "execution_count": null,
   "metadata": {},
   "outputs": [],
   "source": [
    "time_picker = pmui.TimePicker(label='Time Picker', value=dt.datetime.now().time(), format='H:i K')\n",
    "time_picker"
   ]
  },
  {
   "cell_type": "markdown",
   "metadata": {},
   "source": [
    "Either `datetime.time` or `str` can be used as input and `TimePicker` can be bounded by a start and end time."
   ]
  },
  {
   "cell_type": "code",
   "execution_count": null,
   "metadata": {},
   "outputs": [],
   "source": [
    "time_picker = pmui.TimePicker(label='Time Picker', value=\"08:28\", start='00:00', end='12:00')\n",
    "\n",
    "pmui.Column(time_picker, height=400)"
   ]
  }
 ],
 "metadata": {
  "kernelspec": {
   "display_name": "Python 3 (ipykernel)",
   "language": "python",
   "name": "python3"
  },
  "language_info": {
   "codemirror_mode": {
    "name": "ipython",
    "version": 3
   },
   "file_extension": ".py",
   "mimetype": "text/x-python",
   "name": "python",
   "nbconvert_exporter": "python",
   "pygments_lexer": "ipython3",
   "version": "3.12.2"
  }
 },
 "nbformat": 4,
 "nbformat_minor": 4
}
