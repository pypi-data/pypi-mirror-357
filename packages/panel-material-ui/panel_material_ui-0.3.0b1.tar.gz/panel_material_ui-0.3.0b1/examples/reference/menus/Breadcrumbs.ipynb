{
 "cells": [
  {
   "cell_type": "code",
   "execution_count": null,
   "id": "55e7b392-14c0-4411-bfcf-a46e7e117368",
   "metadata": {},
   "outputs": [],
   "source": [
    "import panel as pn\n",
    "import panel_material_ui as pmui\n",
    "\n",
    "pn.extension()"
   ]
  },
  {
   "cell_type": "markdown",
   "id": "a1183801-6081-4061-8795-d7fd8e5e8f38",
   "metadata": {},
   "source": [
    "The `Breadcrumbs` component is part of the `Menu` family of components. `Menu` components provide a structured way for users to navigate or choose between a series of defined items. In the case of `Breadcrumbs`, these items represent navigation steps or levels in a hierarchy.\n",
    "\n",
    "Each item in the `Breadcrumbs` list is defined by a dictionary with several supported keys:\n",
    "\n",
    "## Item Structure\n",
    "\n",
    "Each item can include the following keys:\n",
    "\n",
    "- **`label`** (str, required): The text displayed for the breadcrumb item.\n",
    "- **`href`** (str, optional): A URL to link to. If provided, the breadcrumb becomes a link.\n",
    "- **`icon`** (str, optional): An icon to display next to the label.\n",
    "- **`avatar`** (str, optional): An avatar or image to show beside the label.\n",
    "\n",
    "These dictionaries are passed to the component via the items parameter as a list. When one of the `items` is selected it will be available on the `value` parameter.\n",
    "\n",
    "Since only the allowed keys are synced with the frontend, other information can be stored in the item dictionaries.\n",
    "\n",
    "## Parameters:\n",
    "\n",
    "### Core\n",
    "\n",
    "* **`active`** (`boolean`): Whether the dialog is visible.\n",
    "* **`items`** (`list`): List of menu items.\n",
    "* **`value`** (dict): The currently selected item.\n",
    "\n",
    "##### Display\n",
    "\n",
    "* **`color`** (str): The color of the bar, one of 'default', 'primary', 'secondary', 'success', 'info', 'warning', 'danger', 'light' or 'dark'.\n",
    "* **`separator`** (str): The separator displayed between breadcrumb items.\n",
    "\n",
    "##### Styling\n",
    "\n",
    "- **`sx`** (dict): Component level styling API.\n",
    "- **`theme_config`** (dict): Theming API.\n",
    "\n",
    "---"
   ]
  },
  {
   "cell_type": "markdown",
   "id": "6cccba94-b316-4d37-bbce-81b59d19c086",
   "metadata": {},
   "source": [
    "`Breadcrumbs` allow selecting between a number of `items`:"
   ]
  },
  {
   "cell_type": "code",
   "execution_count": null,
   "id": "ddb562b1-17a4-4ecb-91b5-c52f351f9c8e",
   "metadata": {},
   "outputs": [],
   "source": [
    "breadcrumbs = pmui.Breadcrumbs(items=[\n",
    "    {'label': 'Documentation', 'icon': 'article'},\n",
    "    {'label': 'Reference Gallery', 'icon': 'category'},\n",
    "    {'label': 'Menus', 'icon': 'menu'},\n",
    "    {'label': 'Breadcrumbs', 'icon': 'grain'},\n",
    "], active=3)\n",
    "\n",
    "breadcrumbs"
   ]
  },
  {
   "cell_type": "markdown",
   "id": "666ef005-d429-491f-9fcc-3466c2ed6f6b",
   "metadata": {},
   "source": [
    "Clicking on a particular item will highlight it and set both `active` and `value` parameters:"
   ]
  },
  {
   "cell_type": "code",
   "execution_count": null,
   "id": "efca39b8-b9c0-4398-8d75-ed9888617892",
   "metadata": {},
   "outputs": [],
   "source": [
    "breadcrumbs.value"
   ]
  },
  {
   "cell_type": "markdown",
   "id": "5d4c54e6-411a-497a-9eb9-40e38d55f5a9",
   "metadata": {},
   "source": [
    "Like all menus the `items` only sync the allowed keys. This means you can easily store other information in the items, e.g. you can use it to easily select between different views to be displayed:"
   ]
  },
  {
   "cell_type": "code",
   "execution_count": null,
   "id": "0b647ab8-d7e5-4e55-9b24-fab2f1acb37c",
   "metadata": {},
   "outputs": [],
   "source": [
    "breadcrumbs = pmui.Breadcrumbs(\n",
    "    items=[\n",
    "        {'label': '🏰 Kingdom', 'view': pmui.Typography('# 🏰 Welcome to the Kingdom')},\n",
    "        {'label': '🌲 Enchanted Forest', 'view': pmui.Typography('# 🌲 You enter the Enchanted Forest...')},\n",
    "        {'label': '🐉 Dragon\\'s Lair', 'view': pmui.Typography('# 🐉 Beware! You approach the Dragon\\'s Lair.')},\n",
    "        {'label': '💎 Treasure Room', 'view': pmui .Typography('# 💎 Congratulations! You found the Treasure.')},\n",
    "    ],\n",
    "    active=0,  # Start at the beginning of the journey\n",
    "    color='warning'\n",
    ")\n",
    "\n",
    "pn.Column(\n",
    "    breadcrumbs,\n",
    "    breadcrumbs.rx()['view']\n",
    ")"
   ]
  },
  {
   "cell_type": "markdown",
   "id": "689d2cb8-fd8f-4623-aa57-8d2af729184f",
   "metadata": {},
   "source": [
    "In the above example we take advantage of the fact that `Widget.rx()` returns a reactive reference to the `value` parameter and then access the `view` on that item. Rendering this expression allows us to control the current view with the menu."
   ]
  },
  {
   "cell_type": "markdown",
   "id": "91f03c5c-acae-4f30-ac45-818e8dfc471c",
   "metadata": {},
   "source": [
    "### Controls\n",
    "\n",
    "The `Breadcrumbs` menu exposes a number of options which can be changed from both Python and Javascript. Try out the effect of these parameters interactively:"
   ]
  },
  {
   "cell_type": "code",
   "execution_count": null,
   "id": "b7e5d0a7-dbab-4a4f-b6dc-5e3bb921a793",
   "metadata": {},
   "outputs": [],
   "source": [
    "pmui.Row(breadcrumbs.controls(jslink=True), breadcrumbs)"
   ]
  }
 ],
 "metadata": {
  "kernelspec": {
   "display_name": "Python 3 (ipykernel)",
   "language": "python",
   "name": "python3"
  },
  "language_info": {
   "codemirror_mode": {
    "name": "ipython",
    "version": 3
   },
   "file_extension": ".py",
   "mimetype": "text/x-python",
   "name": "python",
   "nbconvert_exporter": "python",
   "pygments_lexer": "ipython3",
   "version": "3.12.2"
  }
 },
 "nbformat": 4,
 "nbformat_minor": 5
}
