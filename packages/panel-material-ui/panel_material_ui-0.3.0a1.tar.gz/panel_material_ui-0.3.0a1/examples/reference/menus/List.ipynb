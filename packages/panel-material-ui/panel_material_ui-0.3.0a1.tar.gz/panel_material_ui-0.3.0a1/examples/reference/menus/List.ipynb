{
 "cells": [
  {
   "cell_type": "code",
   "execution_count": null,
   "id": "55e7b392-14c0-4411-bfcf-a46e7e117368",
   "metadata": {},
   "outputs": [],
   "source": [
    "import panel as pn\n",
    "import panel_material_ui as pmui\n",
    "\n",
    "pn.extension()"
   ]
  },
  {
   "cell_type": "markdown",
   "id": "a1183801-6081-4061-8795-d7fd8e5e8f38",
   "metadata": {},
   "source": [
    "The `List` component is part of the `Menu` family of components. `Menu` components provide a structured way for users to navigate or choose between a series of defined items. In the case of `List`, these items represent a series of menu options, which may also be nested in a tree.\n",
    "\n",
    "Each item in the `List` list is defined by a dictionary with several supported keys:\n",
    "\n",
    "## Item Structure\n",
    "\n",
    "Each item can include the following keys:\n",
    "\n",
    "- **`label`** (`str`, required): The text displayed for the breadcrumb item.\n",
    "- **`href`** (`str`, optional): A URL to link to. If provided, the breadcrumb becomes a link.\n",
    "- **`icon`** (`str`, optional): An icon to display next to the label.\n",
    "- **`avatar`** (`str`, optional): An avatar or image to show beside the label.\n",
    "- **`secondary`** (`str`, optional): The secondary text, e.g. for describing the item.\n",
    "- **`color`** (`str`, optional): The color of the list item (optional)\n",
    "- **`items`** (`list[dict]`, optional): Nested items.\n",
    "- **`actions`** (`list`, optional): Each menu item can have a list of actions associated with it which are accessible via a menu.\n",
    "- **`selectable`** (`boolean`, optional): Whether this item can be selected.\n",
    "\n",
    "These dictionaries are passed to the component via the items parameter as a list. When one of the `items` is selected it will be available on the `value` parameter.\n",
    "\n",
    "Since only the allowed keys are synced with the frontend, other information can be stored in the item dictionaries.\n",
    "\n",
    "## Parameters:\n",
    "\n",
    "### Core\n",
    "\n",
    "* **`active`** (`boolean`): Whether the dialog is visible.\n",
    "* **`disabled`** (`boolean`): Whether the menu is disabled.\n",
    "* **`items`** (`list[dict]`): Menu items to select from.\n",
    "* **`value`** (`dict`): The currently selected item.\n",
    "\n",
    "##### Display\n",
    "\n",
    "* **`color`** (`str`): The color of the selected list item, one of 'default', 'primary', 'secondary', 'success', 'info', 'warning', 'danger', 'light' or 'dark'.\n",
    "* **`dense`** (`boolean`): Whether to show the list items in a dense format, i.e. reduced margins.\n",
    "* **`highlight`** (`boolean`): Whether to highlight the currently selected menu item.\n",
    "* **`level_indent`** (`int`): Number of pixels each nested level is indented by.\n",
    "\n",
    "##### Styling\n",
    "\n",
    "- **`sx`** (`dict`): Component level styling API.\n",
    "- **`theme_config`** (`dict`): Theming API.\n",
    "\n",
    "---"
   ]
  },
  {
   "cell_type": "code",
   "execution_count": null,
   "id": "ddb562b1-17a4-4ecb-91b5-c52f351f9c8e",
   "metadata": {},
   "outputs": [],
   "source": [
    "list_menu = pmui.List(items=[\n",
    "    {'label': 'Home', 'icon': 'home', 'secondary': 'Overview page'},\n",
    "    {'label': 'Gallery', 'icon': 'image', 'secondary': 'Visual overview'},\n",
    "    {'label': 'API', 'icon': 'code', 'secondary': 'API Reference'},\n",
    "    {'label': 'About', 'icon': 'info'},\n",
    "], active=3)\n",
    "\n",
    "list_menu"
   ]
  },
  {
   "cell_type": "markdown",
   "id": "666ef005-d429-491f-9fcc-3466c2ed6f6b",
   "metadata": {},
   "source": [
    "Clicking on a particular item will highlight it and set both `active` and `value` parameters:"
   ]
  },
  {
   "cell_type": "code",
   "execution_count": null,
   "id": "efca39b8-b9c0-4398-8d75-ed9888617892",
   "metadata": {},
   "outputs": [],
   "source": [
    "list_menu.value"
   ]
  },
  {
   "cell_type": "markdown",
   "id": "9d079cc3-b9dc-40c6-b0b2-9e66a2223dca",
   "metadata": {},
   "source": [
    "## Nested Items\n",
    "\n",
    "Items may also contain sub-`items` making it possible to create a tree-like menu. You can also make items non-`selectable`"
   ]
  },
  {
   "cell_type": "code",
   "execution_count": null,
   "id": "03ca8d3f-1b72-49b6-b419-6f36ffe5981c",
   "metadata": {},
   "outputs": [],
   "source": [
    "list_menu = pmui.List(\n",
    "    items=[\n",
    "        {\n",
    "            'label': 'Home',\n",
    "            'icon': 'home',\n",
    "            'secondary': 'Overview page',\n",
    "            'items': [\n",
    "                {'label': 'Welcome', 'icon': 'handshake'},\n",
    "                {'label': 'Getting Started', 'icon': 'rocket'}\n",
    "            ]\n",
    "        },\n",
    "        {\n",
    "            'label': 'Gallery',\n",
    "            'icon': 'image',\n",
    "            'secondary': 'Visual overview',\n",
    "            'selectable': False,\n",
    "            'items': [\n",
    "                {'label': 'Charts', 'icon': 'stacked_line_chart'},\n",
    "                {'label': 'Maps', 'icon': 'map'},\n",
    "                {'label': 'Animations', 'icon': 'animation'}\n",
    "            ]\n",
    "        },\n",
    "        {\n",
    "            'label': 'API',\n",
    "            'icon': 'code',\n",
    "            'secondary': 'API Reference',\n",
    "            'items': [\n",
    "                {'label': 'Endpoints', 'icon': 'terminal'},\n",
    "                {'label': 'Schemas', 'icon': 'schema'}\n",
    "            ]\n",
    "        },\n",
    "        {\n",
    "            'label': 'About',\n",
    "            'icon': 'info',\n",
    "            'items': [\n",
    "                {'label': 'Team', 'icon': 'groups'},\n",
    "                {'label': 'Contact', 'icon': 'mail'}\n",
    "            ]\n",
    "        },\n",
    "    ],\n",
    "    dense=True,\n",
    ")\n",
    "\n",
    "list_menu"
   ]
  },
  {
   "cell_type": "markdown",
   "id": "5ff29a45-f9be-4fc3-a95a-9294dc7893ba",
   "metadata": {},
   "source": [
    "### Actions\n",
    "\n",
    "`List` items may also have a list of actions associated with it, which will be rendered into a menu:"
   ]
  },
  {
   "cell_type": "code",
   "execution_count": null,
   "id": "4303cfb2-c56e-45ce-85db-b8fdc0b5739e",
   "metadata": {},
   "outputs": [],
   "source": [
    "actions = [\n",
    "    {'label': 'Favorite', 'icon': 'star', 'inline': True},\n",
    "    {'label': 'Edit', 'icon': 'edit'},\n",
    "    {'label': 'Delete', 'icon': 'delete'}\n",
    "]\n",
    "\n",
    "list_with_actions = pmui.List(\n",
    "    items=[\n",
    "        {\n",
    "            'label': 'Notebook 1',\n",
    "            'icon': 'book',\n",
    "            'secondary': 'Last edited: Today',\n",
    "            'actions': actions\n",
    "        },\n",
    "        {\n",
    "            'label': 'Notebook 2',\n",
    "            'icon': 'book',\n",
    "            'secondary': 'Last edited: Yesterday',\n",
    "            'actions': actions\n",
    "        },\n",
    "        {\n",
    "            'label': 'Notebook 3',\n",
    "            'icon': 'book',\n",
    "            'secondary': 'Last edited: Last week',\n",
    "            'actions': actions\n",
    "        },\n",
    "    ]\n",
    ")\n",
    "\n",
    "actions = pn.Column()\n",
    "\n",
    "list_with_actions.on_action('Favorite', lambda item: actions.append(f\"Favorited {item['label']}\"))\n",
    "list_with_actions.on_action('Edit', lambda item: actions.append(f\"Edited {item['label']}\"))\n",
    "list_with_actions.on_action('Delete', lambda item: actions.append(f\"Deleted {item['label']}\"))\n",
    "\n",
    "pmui.Row(list_with_actions, actions)"
   ]
  },
  {
   "cell_type": "markdown",
   "id": "cfa0964d-a065-433f-9a74-58986dbfcbc6",
   "metadata": {},
   "source": [
    "### Display Options\n",
    "\n",
    "#### `color`"
   ]
  },
  {
   "cell_type": "code",
   "execution_count": null,
   "id": "f2058915-4b7b-4e25-a3ac-1ac02ea4cbbd",
   "metadata": {},
   "outputs": [],
   "source": [
    "pn.GridBox(*(\n",
    "    list_menu.clone(color=color, label=color, active=0)\n",
    "    for color in pmui.List.param.color.objects\n",
    "), ncols=2)"
   ]
  },
  {
   "cell_type": "markdown",
   "id": "91f03c5c-acae-4f30-ac45-818e8dfc471c",
   "metadata": {},
   "source": [
    "### Controls\n",
    "\n",
    "The `List` menu exposes a number of options which can be changed from both Python and Javascript. Try out the effect of these parameters interactively:"
   ]
  },
  {
   "cell_type": "code",
   "execution_count": null,
   "id": "b7e5d0a7-dbab-4a4f-b6dc-5e3bb921a793",
   "metadata": {},
   "outputs": [],
   "source": [
    "pmui.Row(list_menu.controls(jslink=True), list_menu)"
   ]
  }
 ],
 "metadata": {
  "kernelspec": {
   "display_name": "Python 3 (ipykernel)",
   "language": "python",
   "name": "python3"
  },
  "language_info": {
   "codemirror_mode": {
    "name": "ipython",
    "version": 3
   },
   "file_extension": ".py",
   "mimetype": "text/x-python",
   "name": "python",
   "nbconvert_exporter": "python",
   "pygments_lexer": "ipython3",
   "version": "3.12.2"
  }
 },
 "nbformat": 4,
 "nbformat_minor": 5
}
