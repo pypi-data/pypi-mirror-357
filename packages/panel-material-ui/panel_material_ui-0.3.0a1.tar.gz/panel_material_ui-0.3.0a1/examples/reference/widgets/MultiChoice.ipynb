{
 "cells": [
  {
   "cell_type": "code",
   "execution_count": null,
   "metadata": {},
   "outputs": [],
   "source": [
    "import panel as pn\n",
    "import panel_material_ui as pmui\n",
    "\n",
    "pn.extension()"
   ]
  },
  {
   "cell_type": "markdown",
   "metadata": {},
   "source": [
    "The `MultiChoice` widget allows selecting multiple values from a list of options. It falls into the broad category of multi-value, option-selection widgets that provide a compatible API and include the [`MultiSelect`](MultiSelect.ipynb), [`CrossSelector`](CrossSelector.ipynb), [`CheckBoxGroup`](CheckBoxGroup.ipynb) and [`CheckButtonGroup`](CheckButtonGroup.ipynb) widgets. The `MultiChoice` widget provides a much more compact UI than [`MultiSelect`](MultiSelect.ipynb).\n",
    "\n",
    "Discover more on using widgets to add interactivity to your applications in the [how-to guides on interactivity](https://panel.holoviz.org/how_to/interactivity/index.html). Alternatively, learn [how to set up callbacks and (JS-)links between parameters](https://panel.holoviz.org/how_to/links/index.html) or [how to use them as part of declarative UIs with Param](https://panel.holoviz.org/how_to/param/index.html).\n",
    "\n",
    "#### Parameters:\n",
    "\n",
    "For details on other options for customizing the component see the [customization guides](https://panel-material-ui.holoviz.org/customization/index.html).\n",
    "\n",
    "##### Core\n",
    "\n",
    "* **`disabled`** (boolean): Whether the widget is editable\n",
    "* **`disabled_options`** (list): List of options that are disabled.\n",
    "* **`options`** (list or dict): List or dictionary of options\n",
    "* **`max_items`** (int): Maximum number of options that can be selected\n",
    "* **`searchable`** (boolean): Whether to render a search box.\n",
    "* **`value`** (list): Currently selected option values\n",
    "\n",
    "##### Display\n",
    "\n",
    "* **`bookmarks`** (list): List of bookmarked options that are rendered first.\n",
    "* **`delete_button`** (boolean): Whether to display a button to delete a selected option\n",
    "* **`dropdown_height`** (int | None): Height of the select dropdown.\n",
    "* **`filter_on_search`** (boolean): Whether to filter or highlight the matching options on search.\n",
    "* **`label`** (str): The title of the widget\n",
    "* **`option_limit`** (int): Maximum number of options to display at once.\n",
    "* **`search_option_limit`** (int): Maximum number of options to display at once if search string is entered.\n",
    "* **`placeholder`** (str): String displayed when no selection has been made.\n",
    "* **`solid`** (boolean): Whether to display widget with solid or light style.\n",
    "\n",
    "##### Styling\n",
    "\n",
    "- **`sx`** (dict): Component level styling API.\n",
    "- **`theme_config`** (dict): Theming API.\n",
    "\n",
    "##### Aliases\n",
    "\n",
    "For compatibility with Panel certain parameters are allowed as aliases:\n",
    "\n",
    "- **`button_style`**: Alias for `variant`\n",
    "- **`button_type`**: Alias for `color`\n",
    "- **`name`**: Alias for `label`\n",
    "___"
   ]
  },
  {
   "cell_type": "code",
   "execution_count": null,
   "metadata": {},
   "outputs": [],
   "source": [
    "multi_choice = pmui.MultiChoice(label='MultiSelect', value=['Apple', 'Pear'],\n",
    "    options=['Apple', 'Banana', 'Pear', 'Strawberry'])\n",
    "\n",
    "pmui.Column(multi_choice, height=200)"
   ]
  },
  {
   "cell_type": "markdown",
   "metadata": {},
   "source": [
    "``MultiChoice.value`` returns a list of the currently selected options:"
   ]
  },
  {
   "cell_type": "code",
   "execution_count": null,
   "metadata": {},
   "outputs": [],
   "source": [
    "multi_choice.value"
   ]
  },
  {
   "cell_type": "markdown",
   "metadata": {},
   "source": [
    "The `solid` option controls the style of the widget:"
   ]
  },
  {
   "cell_type": "code",
   "execution_count": null,
   "metadata": {},
   "outputs": [],
   "source": [
    "pmui.Column(multi_choice.clone(solid=False), height=200)"
   ]
  },
  {
   "cell_type": "markdown",
   "metadata": {},
   "source": [
    "### Controls\n",
    "\n",
    "The `MultiChoice` widget exposes a number of options which can be changed from both Python and Javascript. Try out the effect of these parameters interactively:"
   ]
  },
  {
   "cell_type": "code",
   "execution_count": null,
   "metadata": {},
   "outputs": [],
   "source": [
    "pmui.Row(multi_choice.controls(jslink=True), multi_choice)"
   ]
  }
 ],
 "metadata": {
  "kernelspec": {
   "display_name": "Python 3 (ipykernel)",
   "language": "python",
   "name": "python3"
  },
  "language_info": {
   "codemirror_mode": {
    "name": "ipython",
    "version": 3
   },
   "file_extension": ".py",
   "mimetype": "text/x-python",
   "name": "python",
   "nbconvert_exporter": "python",
   "pygments_lexer": "ipython3",
   "version": "3.12.2"
  }
 },
 "nbformat": 4,
 "nbformat_minor": 4
}
