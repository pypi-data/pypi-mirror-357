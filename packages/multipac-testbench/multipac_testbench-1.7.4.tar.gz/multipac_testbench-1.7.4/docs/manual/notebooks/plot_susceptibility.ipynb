{
 "cells": [
  {
   "cell_type": "markdown",
   "id": "e7d80e29-3aec-4498-a73f-e3eb6a77cd7d",
   "metadata": {},
   "source": [
    "# Create susceptibility charts"
   ]
  },
  {
   "cell_type": "markdown",
   "id": "15d4623a-342c-4975-9d6b-c64fea6fd948",
   "metadata": {},
   "source": [
    "In this notebook we showcase how we can compute the multipactor thresholds measured during several tests and represent it on a susceptibility chart."
   ]
  },
  {
   "cell_type": "markdown",
   "id": "9265b847-f8d3-4c26-aa7d-e4bcab4fef31",
   "metadata": {},
   "source": [
    "## Set up"
   ]
  },
  {
   "cell_type": "markdown",
   "id": "a1274fce-7192-46c8-96a2-71e1f59d54cb",
   "metadata": {},
   "source": [
    "Generic libraries:"
   ]
  },
  {
   "cell_type": "code",
   "execution_count": 1,
   "id": "e943830e-0048-4fd4-94d1-dccfab7e3cff",
   "metadata": {},
   "outputs": [],
   "source": [
    "from functools import partial\n",
    "from pathlib import Path\n",
    "import tomllib\n",
    "\n",
    "import numpy as np"
   ]
  },
  {
   "cell_type": "markdown",
   "id": "73a9d252-f543-481e-af76-9e57a196cfd9",
   "metadata": {},
   "source": [
    "Other libraries required for this notebook:"
   ]
  },
  {
   "cell_type": "code",
   "execution_count": 2,
   "id": "cb62186d-14d5-43a0-b1fd-ba37807b0122",
   "metadata": {},
   "outputs": [],
   "source": [
    "from multipac_testbench.test_campaign import TestCampaign\n",
    "import multipac_testbench.instruments as ins\n",
    "from multipac_testbench.util.post_treaters import running_mean\n",
    "from multipac_testbench.util.multipactor_detectors import \\\n",
    "    quantity_is_above_threshold"
   ]
  },
  {
   "cell_type": "markdown",
   "id": "0b00c015-1b57-462e-8b7d-fc4e70339157",
   "metadata": {},
   "source": [
    "Define the project path, load the configuration."
   ]
  },
  {
   "cell_type": "code",
   "execution_count": 3,
   "id": "81ac679b-0590-426b-92ba-d02d03570ee2",
   "metadata": {},
   "outputs": [],
   "source": [
    "project = Path(\"../data/campaign_one_probe/\")\n",
    "config_path = Path(project, \"testbench_configuration.toml\")\n",
    "\n",
    "with open(config_path, \"rb\") as f:\n",
    "    config = tomllib.load(f)"
   ]
  },
  {
   "cell_type": "code",
   "execution_count": 4,
   "id": "7ff799e8-eebe-49e9-bced-90a777724efd",
   "metadata": {},
   "outputs": [
    {
     "ename": "SyntaxError",
     "evalue": "invalid syntax. Perhaps you forgot a comma? (2176949027.py, line 7)",
     "output_type": "error",
     "traceback": [
      "\u001b[0;36m  Cell \u001b[0;32mIn[4], line 7\u001b[0;36m\u001b[0m\n\u001b[0;31m    test_campaign = TestCampaign.from_filepaths(filepaths,a\u001b[0m\n\u001b[0m                                                          ^\u001b[0m\n\u001b[0;31mSyntaxError\u001b[0m\u001b[0;31m:\u001b[0m invalid syntax. Perhaps you forgot a comma?\n"
     ]
    }
   ],
   "source": [
    "frequencies = (120., 160.)\n",
    "swrs = (1., 1.)\n",
    "filepaths = (\n",
    "    Path(project, \"120MHz_travelling.csv\"),\n",
    "    Path(project, \"160MHz_travelling.csv\"),\n",
    ")\n",
    "test_campaign = TestCampaign.from_filepaths(filepaths,a\n",
    "                                            frequencies,\n",
    "                                            swrs,\n",
    "                                            config,\n",
    "                                            sep='\\t')"
   ]
  },
  {
   "cell_type": "markdown",
   "id": "c5cafea5-a847-4aa8-bf6f-695edde2c3d0",
   "metadata": {},
   "source": [
    "Prepare visualisation"
   ]
  },
  {
   "cell_type": "code",
   "execution_count": null,
   "id": "2d948a24-f23d-42e6-adc3-3650ea3fb308",
   "metadata": {},
   "outputs": [],
   "source": [
    "figsize = (8, 8)"
   ]
  },
  {
   "cell_type": "markdown",
   "id": "ebbb87ed-2143-4f46-9f8e-1802313fd35f",
   "metadata": {},
   "source": [
    "## Calculate thresholds"
   ]
  },
  {
   "cell_type": "markdown",
   "id": "4fa88cc5-4086-4556-9f37-b9c401e07b6a",
   "metadata": {},
   "source": [
    "Smooth the current data"
   ]
  },
  {
   "cell_type": "code",
   "execution_count": null,
   "id": "01d6feda-c664-4a91-8d80-ce3deb852b23",
   "metadata": {
    "editable": true,
    "slideshow": {
     "slide_type": ""
    },
    "tags": []
   },
   "outputs": [],
   "source": [
    "current_smoother = partial(\n",
    "    running_mean,\n",
    "    n_mean=10,\n",
    "    mode='same',\n",
    ")\n",
    "\n",
    "test_campaign.add_post_treater(\n",
    "    current_smoother,\n",
    "    ins.CurrentProbe,\n",
    ")"
   ]
  },
  {
   "cell_type": "markdown",
   "id": "98ea3c9d-e301-4173-a945-da4a969f283d",
   "metadata": {
    "editable": true,
    "slideshow": {
     "slide_type": ""
    },
    "tags": []
   },
   "source": [
    "Set a multipactor detection criterion:"
   ]
  },
  {
   "cell_type": "code",
   "execution_count": null,
   "id": "482a61ea-5baf-4511-bd45-848592324201",
   "metadata": {},
   "outputs": [],
   "source": [
    "current_multipactor_criterions = {'threshold': 16.,\n",
    "                                  'consecutive_criterion': 10,\n",
    "                                  'minimum_number_of_points': 5}\n",
    "current_multipac_detector = partial(quantity_is_above_threshold,\n",
    "                                    **current_multipactor_criterions)\n",
    "power_growth_mask_kw = {'n_trailing_points_to_check': 70}\n",
    "current_multipactor_bands = test_campaign.detect_multipactor(\n",
    "    current_multipac_detector,\n",
    "    ins.CurrentProbe,\n",
    "    power_growth_mask_kw=power_growth_mask_kw,\n",
    ")"
   ]
  },
  {
   "cell_type": "markdown",
   "id": "2dd276ed-a9d9-427a-b78a-fc63f2a992ee",
   "metadata": {},
   "source": [
    "<div class=\"alert alert-block alert-info\"><b>Note:</b> Note that for one of the tests, we stopped the experimentation after the start of a new power growth. It messes with the thresholds, as we always take the most conditioned thresholds, *i.e.* the ones that are measured during the last power cycle. Hence we tell the script that the power does not grow again in the last 70 points.</div>"
   ]
  },
  {
   "cell_type": "markdown",
   "id": "500fdecc-0a12-45c9-ac31-b22c4ecc9d6c",
   "metadata": {},
   "source": [
    "Check that detected multipactor zones are consistent:"
   ]
  },
  {
   "cell_type": "markdown",
   "id": "21cae9fc-fe7b-40a5-b1d6-1691c084c0d8",
   "metadata": {},
   "source": [
    "## Create susceptibility chart"
   ]
  },
  {
   "cell_type": "code",
   "execution_count": null,
   "id": "3b6360c2-c8ff-43c7-b5a0-c7747e8d1316",
   "metadata": {
    "editable": true,
    "nbsphinx-toctree": {},
    "slideshow": {
     "slide_type": ""
    },
    "tags": []
   },
   "outputs": [],
   "source": [
    "axe, df_susceptibility = test_campaign.susceptibility(\n",
    "    current_multipactor_bands,\n",
    "    figsize=figsize,\n",
    "    xlim=(80., 700.),\n",
    "    ylim=(1e2, 1e4),\n",
    ")"
   ]
  },
  {
   "cell_type": "markdown",
   "id": "fee2f49f-4541-4b17-98e7-849e1c04b03c",
   "metadata": {},
   "source": [
    "<div class=\"alert alert-block alert-info\"><b>Note:</b> It would also work with a test with several electric field probes.</div>"
   ]
  }
 ],
 "metadata": {
  "kernelspec": {
   "display_name": "Python 3 (ipykernel)",
   "language": "python",
   "name": "python3"
  },
  "language_info": {
   "codemirror_mode": {
    "name": "ipython",
    "version": 3
   },
   "file_extension": ".py",
   "mimetype": "text/x-python",
   "name": "python",
   "nbconvert_exporter": "python",
   "pygments_lexer": "ipython3",
   "version": "3.13.2"
  }
 },
 "nbformat": 4,
 "nbformat_minor": 5
}
