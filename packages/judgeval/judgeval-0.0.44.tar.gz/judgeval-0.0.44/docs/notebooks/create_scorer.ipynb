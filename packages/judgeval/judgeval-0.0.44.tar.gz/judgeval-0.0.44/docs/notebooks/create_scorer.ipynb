{
 "cells": [
  {
   "cell_type": "markdown",
   "metadata": {},
   "source": [
    "**Custom Scorers**\n",
    "\n",
    "If you're finding that Judgment's ready-made scorers aren't the right fit for your task, you can create your own custom scorer. Let's try creating our own custom scorer for checking the exact match of two answers."
   ]
  },
  {
   "cell_type": "code",
   "execution_count": null,
   "metadata": {},
   "outputs": [],
   "source": [
    "from judgeval.scorers import JudgevalScorer\n",
    "\n",
    "class ExactMatchScorer(JudgevalScorer):\n",
    "\n",
    "    def __init__(self, threshold: float=0.5):\n",
    "        self.threshold = threshold\n",
    "        super().__init__(score_type=\"Exact Match\", threshold=threshold)\n",
    "    \n",
    "    def score_example(self, example):\n",
    "        score = float(example.actual_output == example.expected_output)\n",
    "        self.score = score\n",
    "        return score\n",
    "    \n",
    "    # Asynchronous scoring function that matches the functionality of score_example().\n",
    "    # If you can't make it async, then reuse the score_example() function.\n",
    "    async def a_score_example(self, example):\n",
    "        return self.score_example(example)\n",
    "\n",
    "    def success_check(self):\n",
    "        return self.score >= self.threshold"
   ]
  },
  {
   "cell_type": "markdown",
   "metadata": {},
   "source": [
    "This is the most basic way of creating a custom scorer that extends the `CustomScorer` class. \n",
    "\n",
    "The `ExactMatchScorer` is straightforward, but we can create powerful and complex scorers by implementing our own scoring functions and using them to do anything we want! We could combine different `Judgeval` scorers into a single one, or write our own functions that call different APIs."
   ]
  }
 ],
 "metadata": {
  "language_info": {
   "name": "python"
  }
 },
 "nbformat": 4,
 "nbformat_minor": 2
}
