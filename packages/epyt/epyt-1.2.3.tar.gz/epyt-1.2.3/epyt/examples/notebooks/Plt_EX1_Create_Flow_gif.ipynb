{
 "cells": [
  {
   "cell_type": "markdown",
   "id": "9647daf8",
   "metadata": {},
   "source": [
    "### Create a gif with the flows of Net1.\n",
    "\n",
    "Requirements:\n",
    "* pip install imageio\n",
    "* pip install Pillow\n",
    "\n",
    "This example contains:\n",
    "* Load a network.\n",
    "* Run analysis with getComputedTimeSeries.\n",
    "* Set colorbar values based on the min/max of all the Flow values.\n",
    "* Create pngs for every timepoint.\n",
    "* Create gif from all the pngs.\n",
    "* Unload library.\n"
   ]
  },
  {
   "cell_type": "code",
   "execution_count": 5,
   "id": "6c4b2e12",
   "metadata": {},
   "outputs": [
    {
     "name": "stdout",
     "output_type": "stream",
     "text": [
      "EPANET version 20200 loaded (EPyT version 0.0.1).\n",
      "Input File Net1.inp loaded successfully.\n",
      "\n"
     ]
    }
   ],
   "source": [
    "from epyt import epanet\n",
    "# Load network Net1\n",
    "d = epanet('Net1.inp')"
   ]
  },
  {
   "cell_type": "code",
   "execution_count": null,
   "id": "87c16580",
   "metadata": {
    "scrolled": true
   },
   "outputs": [],
   "source": [
    "import matplotlib.pyplot as plt\n",
    "from PIL import Image\n",
    "import imageio\n",
    "import os\n",
    "\n",
    "# Set gif name \n",
    "new_gif_name = f'{d.netName[:-4]}_flows.gif'\n",
    "\n",
    "# Run analysis\n",
    "comp_analysis_vals = d.getComputedTimeSeries()\n",
    "flows = comp_analysis_vals.Flow\n",
    "Time = comp_analysis_vals.Time/3600\n",
    "\n",
    "print(\"\\nCreating flow gif...\")\n",
    "\n",
    "# Set the colorbar values based on the min/max of all the Flow values\n",
    "minFlow = d.min(flows)\n",
    "maxFlow = d.max(flows)\n",
    "\n",
    "# iterate through flow times\n",
    "figToPngNames = []\n",
    "for i, values in enumerate(flows):\n",
    "\n",
    "    hr = str(int(Time[i - 1]))\n",
    "\n",
    "    d.plot(link_values=values, min_colorbar=minFlow, max_colorbar=maxFlow, figure=False, link_text=True,\n",
    "           title=f'Flows at time {hr} hrs')\n",
    "\n",
    "    PngName = f'{i}.png'\n",
    "    figToPngNames.append(PngName)\n",
    "    plt.savefig(PngName)\n",
    "    plt.close()\n",
    "\n",
    "# create gif\n",
    "with imageio.get_writer(new_gif_name, mode='I') as writer:\n",
    "    for fig in figToPngNames:\n",
    "        image = imageio.imread(fig)\n",
    "        writer.append_data(image)\n",
    "\n",
    "# Remove files\n",
    "for fig in set(figToPngNames):\n",
    "    os.remove(fig)\n",
    "\n",
    "flow_gif = Image.open(new_gif_name)\n",
    "\n",
    "print(f\"{new_gif_name} has created.\")\n",
    "\n",
    "# Unload library\n",
    "d.unload()"
   ]
  },
  {
   "cell_type": "markdown",
   "id": "0c4c207d",
   "metadata": {},
   "source": [
    "![SegmentLocal](Net1_flows.gif \"segment\")"
   ]
  }
 ],
 "metadata": {
  "kernelspec": {
   "display_name": "Python 3 (ipykernel)",
   "language": "python",
   "name": "python3"
  },
  "language_info": {
   "codemirror_mode": {
    "name": "ipython",
    "version": 3
   },
   "file_extension": ".py",
   "mimetype": "text/x-python",
   "name": "python",
   "nbconvert_exporter": "python",
   "pygments_lexer": "ipython3",
   "version": "3.9.7"
  }
 },
 "nbformat": 4,
 "nbformat_minor": 5
}
