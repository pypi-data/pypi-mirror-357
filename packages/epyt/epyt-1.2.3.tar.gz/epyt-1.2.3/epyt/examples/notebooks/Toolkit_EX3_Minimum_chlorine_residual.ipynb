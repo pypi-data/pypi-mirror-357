{
 "cells": [
  {
   "cell_type": "markdown",
   "id": "dfab6fd7",
   "metadata": {},
   "source": [
    "### Minimum chlorine residual\n",
    "This example illustrates how the Toolkit could be used to determine the lowest dose of chlorine applied at the entrance to a distribution system needed to ensure that a minimum residual is met throughout the system. We assume that the EPANET input file contains the proper set of kinetic coefficients that describe the rate at which chlorine will decay in the system being studied. In the example code, the ID label of the source node is contained in SourceID, the minimum residual target is given by Ctarget, and the target is only checked after a start-up duration of 5 days (432,000 seconds). To keep the code more readable, no error checking is made on the results returned from the Toolkit function calls.\n",
    "\n",
    "https://github.com/OpenWaterAnalytics/EPANET/wiki/Example-3\n"
   ]
  },
  {
   "cell_type": "code",
   "execution_count": 19,
   "id": "5a87b170",
   "metadata": {},
   "outputs": [
    {
     "name": "stdout",
     "output_type": "stream",
     "text": [
      "EPANET version 20200 loaded (EPyT version 1.0.5).\n",
      "Input File Net1.inp loaded successfully.\n",
      "\n"
     ]
    }
   ],
   "source": [
    "from epyt import epanet\n",
    "\n",
    "# Load a network\n",
    "d = epanet('Net1.inp')"
   ]
  },
  {
   "cell_type": "code",
   "execution_count": 20,
   "id": "51d4f569",
   "metadata": {},
   "outputs": [
    {
     "name": "stdout",
     "output_type": "stream",
     "text": [
      "csourse = 0.1\n"
     ]
    }
   ],
   "source": [
    "# Set Ctarget\n",
    "Ctarget = 0.5\n",
    "\n",
    "# Source node id\n",
    "SourceID = '2'\n",
    "\n",
    "# Set simulation duration 6 days\n",
    "d.setTimeSimulationDuration(6 * 24 * 3600)\n",
    "\n",
    "# Obtain a hydraulic solution \n",
    "d.solveCompleteHydraulics()\n",
    "\n",
    "# Get the number of nodes\n",
    "nnodes = d.getNodeCount()\n",
    "\n",
    "# Get source node's index\n",
    "sourceindex = d.getNodeIndex(SourceID)\n",
    "\n",
    "# Setup system to analyze for chlorine (in case it was not done in the input file.)\n",
    "d.setQualityType('Chlorine', 'mg/L', '')\n",
    "\n",
    "# Open the water quality solver\n",
    "d.openQualityAnalysis()\n",
    "\n",
    "# Begin the search for the source concentration\n",
    "csource = 0.0\n",
    "violation = 0\n",
    "while not violation and (csource <= 4.0):\n",
    "    # Update source concentration to next level\n",
    "    csource += 0.1\n",
    "    d.setNodeSourceQuality(sourceindex, csource)\n",
    "    # Run WQ simulation checking for target violations\n",
    "    d.initializeQualityAnalysis()\n",
    "    tstep = 1\n",
    "    while not violation and (tstep > 0):\n",
    "        t = d.runQualityAnalysis()\n",
    "        if t > 432000:\n",
    "            for i in range(nnodes):\n",
    "                c = d.getNodeActualQuality(i + 1)\n",
    "                if c < Ctarget:\n",
    "                    violation = 1\n",
    "                    break\n",
    "        tstep = d.nextQualityAnalysisStep()\n",
    "\n",
    "print('csourse = ' + str(csource))"
   ]
  },
  {
   "cell_type": "code",
   "execution_count": 21,
   "id": "bad88a46",
   "metadata": {},
   "outputs": [
    {
     "name": "stdout",
     "output_type": "stream",
     "text": [
      "Close toolkit for the input file \"Net1\". EPANET Toolkit is unloaded.\n",
      "\n"
     ]
    }
   ],
   "source": [
    "# Unload library\n",
    "d.unload()"
   ]
  }
 ],
 "metadata": {
  "kernelspec": {
   "display_name": "Python 3.10.6 64-bit (windows store)",
   "language": "python",
   "name": "python3"
  },
  "language_info": {
   "codemirror_mode": {
    "name": "ipython",
    "version": 3
   },
   "file_extension": ".py",
   "mimetype": "text/x-python",
   "name": "python",
   "nbconvert_exporter": "python",
   "pygments_lexer": "ipython3",
   "version": "3.10.6"
  },
  "vscode": {
   "interpreter": {
    "hash": "0df096debc758afc4e07b4a6d7176310e13b87e5b446a84739768769d4d90649"
   }
  }
 },
 "nbformat": 4,
 "nbformat_minor": 5
}
