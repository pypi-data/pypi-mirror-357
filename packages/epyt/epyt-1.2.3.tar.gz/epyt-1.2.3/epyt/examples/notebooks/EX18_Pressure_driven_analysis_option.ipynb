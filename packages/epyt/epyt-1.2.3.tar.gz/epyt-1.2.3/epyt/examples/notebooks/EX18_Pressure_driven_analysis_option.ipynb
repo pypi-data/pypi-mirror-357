{
 "cells": [
  {
   "cell_type": "markdown",
   "id": "d39841a4",
   "metadata": {},
   "source": [
    "### Test the Pressure Driven Analysis option.\n",
    "\n",
    "This example contains:\n",
    "* Set Demand Multiplier to 10 to cause negative pressures.\n",
    "* Run single period analysis.\n",
    "* Solve hydraulics with default DDA option which will return with neg. pressure warning code.\n",
    "* Check that 4 demand nodes have negative pressures.\n",
    "* Switch to PDA with pressure limits of 20 - 100 psi.\n",
    "* Solve hydraulics again.\n",
    "* Check that 6 nodes had demand reductions totaling 32.66.\n",
    "* Check that Junction 12 had full demand.\n",
    "* Check that Junction 21 had a demand deficit of 413.67.\n",
    "* Unload library.\n",
    "\n",
    "https://github.com/OpenWaterAnalytics/EPANET/blob/a184a3a39a7bf3663943c0504c6c1c2f632f44dd/tests/test_pda.cpp\n"
   ]
  },
  {
   "cell_type": "code",
   "execution_count": 6,
   "id": "67d8d601",
   "metadata": {},
   "outputs": [
    {
     "name": "stdout",
     "output_type": "stream",
     "text": [
      "EPANET version 20200 loaded (EPyT version 1.0.5).\n",
      "Input File Net1.inp loaded successfully.\n",
      "\n"
     ]
    }
   ],
   "source": [
    "from epyt import epanet\n",
    "\n",
    "# Load network\n",
    "d = epanet('Net1.inp')"
   ]
  },
  {
   "cell_type": "code",
   "execution_count": 7,
   "outputs": [
    {
     "name": "stdout",
     "output_type": "stream",
     "text": [
      "True\n",
      "False\n",
      "False\n",
      "True\n",
      "False\n"
     ]
    }
   ],
   "source": [
    "# Set Demand Multiplier to 10 to cause negative pressures.\n",
    "d.setOptionsPatternDemandMultiplier(10)\n",
    "\n",
    "# Run single period analysis.\n",
    "d.setTimeSimulationDuration(0)\n",
    "\n",
    "# Solve hydraulics with default DDA option which will return with neg. pressure warning code.\n",
    "d.solveCompleteHydraulics()\n",
    "\n",
    "# Check that 4 demand nodes have negative pressures.\n",
    "deficient_nodes = d.getStatistic().DeficientNodes\n",
    "print(True) if abs(deficient_nodes) == 4 else print(False)\n",
    "\n",
    "# Switch to PDA with pressure limits of 20 - 100 psi.\n",
    "Type = 'PDA'\n",
    "pmin = 0\n",
    "preq = 0.1\n",
    "pexp = 0.5\n",
    "d.setDemandModel(Type, pmin, preq, pexp)\n",
    "\n",
    "# Solve hydraulics again.\n",
    "d.solveCompleteHydraulics()\n",
    "\n",
    "# Check that 6 nodes had demand reductions totaling 32.66.\n",
    "deficient_nodes = d.getStatistic().DeficientNodes\n",
    "demand_reduction = d.getStatistic().DemandReduction\n",
    "print(True) if abs(deficient_nodes) == 6 else print(False)\n",
    "print(True) if abs(demand_reduction - 32.66) < 0.01 else print(False)\n",
    "\n",
    "# Check that Junction 12 had full demand.\n",
    "junctionIndex_12 = d.getNodeIndex('12')\n",
    "demand_deficit_12 = d.getNodeDemandDeficit(junctionIndex_12)\n",
    "print(True) if abs(demand_deficit_12) < 0.01 else print(False)\n",
    "\n",
    "# Check that Junction 21 had a demand deficit of 413.67.\n",
    "junctionIndex_21 = d.getNodeIndex('21')\n",
    "demand_deficit_21 = d.getNodeDemandDeficit(junctionIndex_21)\n",
    "print(True) if abs(demand_deficit_21 - 413.67) < 0.01 else print(False)"
   ],
   "metadata": {
    "collapsed": false
   }
  },
  {
   "cell_type": "code",
   "execution_count": 8,
   "id": "047acd54",
   "metadata": {},
   "outputs": [
    {
     "name": "stdout",
     "output_type": "stream",
     "text": [
      "Close toolkit for the input file \"Net1\". EPANET Toolkit is unloaded.\n",
      "\n"
     ]
    }
   ],
   "source": [
    "# Unload library.\n",
    "d.unload()"
   ]
  }
 ],
 "metadata": {
  "kernelspec": {
   "display_name": "Python 3.10.6 64-bit (windows store)",
   "language": "python",
   "name": "python3"
  },
  "language_info": {
   "codemirror_mode": {
    "name": "ipython",
    "version": 3
   },
   "file_extension": ".py",
   "mimetype": "text/x-python",
   "name": "python",
   "nbconvert_exporter": "python",
   "pygments_lexer": "ipython3",
   "version": "3.10.6"
  },
  "vscode": {
   "interpreter": {
    "hash": "0df096debc758afc4e07b4a6d7176310e13b87e5b446a84739768769d4d90649"
   }
  }
 },
 "nbformat": 4,
 "nbformat_minor": 5
}
