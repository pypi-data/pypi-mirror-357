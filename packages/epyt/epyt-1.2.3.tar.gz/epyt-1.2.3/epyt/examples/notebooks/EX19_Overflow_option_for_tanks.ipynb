{
 "cells": [
  {
   "cell_type": "markdown",
   "id": "dfe94d77",
   "metadata": {},
   "source": [
    "### Tests the overflow option for tanks.\n",
    " \n",
    "This example contains:\n",
    "* Get index of the tank and its inlet/outlet pipe.\n",
    "* Set initial & maximum level to 130.\n",
    "* Set duration to 1 hr.\n",
    "* Solve hydraulics with default of no tank spillage allowed.\n",
    "* Check that tank remains full.\n",
    "* Check that there is no spillage.\n",
    "* Check that inflow link is closed.\n",
    "* Turn tank overflow option on.\n",
    "* Solve hydraulics again.\n",
    "* Check that tank remains full.\n",
    "* Check that there is spillage equal to tank inflow (inflow has neg. sign since tank is start node of inflow pipe).\n",
    "* Save project to file and then close it.\n",
    "* Re-open saved file & run it.\n",
    "* Check that tank spillage has same value as before.\n",
    "* Unload library.\n",
    "\n",
    "https://github.com/OpenWaterAnalytics/EPANET/blob/dev/tests/test_overflow.cpp\n"
   ]
  },
  {
   "cell_type": "code",
   "execution_count": 1,
   "id": "c678b2b5",
   "metadata": {},
   "outputs": [
    {
     "name": "stdout",
     "output_type": "stream",
     "text": [
      "EPANET version 20200 loaded (EPyT version 1.0.5).\n",
      "Input File Net1.inp loaded successfully.\n",
      "\n"
     ]
    }
   ],
   "source": [
    "from epyt import epanet\n",
    "\n",
    "# Load network\n",
    "d = epanet('Net1.inp')"
   ]
  },
  {
   "cell_type": "code",
   "execution_count": 2,
   "id": "ee64b796",
   "metadata": {},
   "outputs": [
    {
     "name": "stdout",
     "output_type": "stream",
     "text": [
      "True\n",
      "True\n",
      "True\n",
      "True\n",
      "True\n",
      "True\n",
      "Close toolkit for the input file \"Net1\". EPANET Toolkit is unloaded.\n",
      "\n",
      "EPANET version 20200 loaded (EPyT version 1.0.5).\n",
      "Input File net1_overflow.inp loaded successfully.\n",
      "\n",
      "True\n"
     ]
    }
   ],
   "source": [
    "# Get index of the tank and its inlet/outlet pipe.\n",
    "Nindex = d.getNodeIndex('2')\n",
    "Lindex = d.getLinkIndex('110')\n",
    "\n",
    "# Set initial & maximum level to 130.\n",
    "d.setNodeTankInitialLevel(Nindex, 130)\n",
    "d.setNodeTankMaximumWaterLevel(Nindex, 130)\n",
    "\n",
    "# Set duration to 1 hr.\n",
    "d.setTimeSimulationDuration(3600)\n",
    "\n",
    "# Solve hydraulics with default of no tank spillage allowed.\n",
    "d.solveCompleteHydraulics()\n",
    "\n",
    "# Check that tank remains full.\n",
    "level = d.getNodeTankInitialLevel(Nindex)\n",
    "print(True) if abs(level - 130.0) < 0.0001 else print(False)\n",
    "\n",
    "# Check that there is no spillage.\n",
    "spillage = d.getNodeActualDemand(Nindex)\n",
    "print(True) if abs(spillage) < 0.0001 else print(False)\n",
    "\n",
    "# Check that inflow link is closed.\n",
    "inflow = d.getLinkFlows(Lindex)\n",
    "print(True) if abs(inflow) < 0.0001 else print(False)\n",
    "\n",
    "# Turn tank overflow option on.\n",
    "d.setNodeTankCanOverFlow(Nindex, 1)\n",
    "\n",
    "# Solve hydraulics again.\n",
    "d.solveCompleteHydraulics()\n",
    "\n",
    "# Check that tank remains full.\n",
    "level = d.getNodeTankInitialLevel(Nindex)\n",
    "print(True) if abs(level - 130.0) < 0.0001 else print(False)\n",
    "\n",
    "# Check that there is spillage equal to tank inflow\n",
    "# (inflow has neg. sign since tank is start node of inflow pipe).\n",
    "spillage = d.getNodeActualDemand(Nindex)\n",
    "print(True) if abs(spillage) > 0.0001 else print(False)\n",
    "\n",
    "inflow = d.getLinkFlows(Lindex)\n",
    "print(True) if abs(-inflow - spillage) < 0.0001 else print(False)\n",
    "\n",
    "# Save project to file and then close it.\n",
    "d.saveInputFile('net1_overflow.inp')\n",
    "d.unload()\n",
    "\n",
    "# Re-open saved file & run it.\n",
    "d = epanet('net1_overflow.inp')\n",
    "d.solveCompleteHydraulics()\n",
    "\n",
    "# Check that tank spillage has same value as before.\n",
    "spillage2 = d.getNodeActualDemand(Nindex)\n",
    "print(True) if (spillage - spillage2) < 0.0001 else print(False)\n"
   ]
  },
  {
   "cell_type": "code",
   "execution_count": 3,
   "id": "933f4ff9",
   "metadata": {},
   "outputs": [
    {
     "name": "stdout",
     "output_type": "stream",
     "text": [
      "Close toolkit for the input file \"net1_overflow\". EPANET Toolkit is unloaded.\n",
      "\n"
     ]
    }
   ],
   "source": [
    "# Unload library.\n",
    "d.unload()"
   ]
  }
 ],
 "metadata": {
  "kernelspec": {
   "display_name": "Python 3.10.6 64-bit (windows store)",
   "language": "python",
   "name": "python3"
  },
  "language_info": {
   "codemirror_mode": {
    "name": "ipython",
    "version": 3
   },
   "file_extension": ".py",
   "mimetype": "text/x-python",
   "name": "python",
   "nbconvert_exporter": "python",
   "pygments_lexer": "ipython3",
   "version": "3.10.6"
  },
  "vscode": {
   "interpreter": {
    "hash": "0df096debc758afc4e07b4a6d7176310e13b87e5b446a84739768769d4d90649"
   }
  }
 },
 "nbformat": 4,
 "nbformat_minor": 5
}
