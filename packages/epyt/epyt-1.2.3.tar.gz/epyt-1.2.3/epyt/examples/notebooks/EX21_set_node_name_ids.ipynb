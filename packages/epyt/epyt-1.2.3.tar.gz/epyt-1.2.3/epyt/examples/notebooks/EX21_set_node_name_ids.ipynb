{
 "cells": [
  {
   "cell_type": "markdown",
   "id": "ed74f34a",
   "metadata": {},
   "source": [
    "### Set node name IDs\n",
    "\n",
    "This example contains:\n",
    "* Load a network.\n",
    "* Get node name ids.\n",
    "* Set new node name ids.\n",
    "* Get new node name ids.\n",
    "* Unload library."
   ]
  },
  {
   "cell_type": "code",
   "execution_count": 1,
   "id": "c0eb3251",
   "metadata": {},
   "outputs": [
    {
     "name": "stdout",
     "output_type": "stream",
     "text": [
      "EPANET version 20200 loaded (EPyT version 1.0.5).\n",
      "Input File Net1.inp loaded successfully.\n",
      "\n"
     ]
    }
   ],
   "source": [
    "from epyt import epanet\n",
    "\n",
    "# Load network\n",
    "d = epanet('Net1.inp')"
   ]
  },
  {
   "cell_type": "code",
   "execution_count": 2,
   "id": "f437a458",
   "metadata": {},
   "outputs": [
    {
     "name": "stdout",
     "output_type": "stream",
     "text": [
      "\n",
      " Node name ids: \n",
      " ['10', '11', '12', '13', '21', '22', '23', '31', '32', '9', '2']\n",
      "\n",
      " New Node name ids: \n",
      " ['J-1', 'J-2', 'J-3', 'J-4', 'J-5', 'J-6', 'J-7', 'J-8', 'J-9', 'R-10', 'T-11'] \n",
      "\n"
     ]
    }
   ],
   "source": [
    "print(f'\\n Node name ids: \\n {d.getNodeNameID()}')\n",
    "\n",
    "# Set your prefix \n",
    "junction_prefix = 'J'\n",
    "reservoir_prefix = 'R'\n",
    "tank_prefix = 'T'\n",
    "\n",
    "# Update node names \n",
    "for i in d.getNodeJunctionIndex():\n",
    "    d.setNodeNameID(i, junction_prefix + '-' + str(i))\n",
    "\n",
    "for i in d.getNodeReservoirIndex():\n",
    "    d.setNodeNameID(i, reservoir_prefix + '-' + str(i))\n",
    "\n",
    "for i in d.getNodeTankIndex():\n",
    "    d.setNodeNameID(i, tank_prefix + '-' + str(i))\n",
    "\n",
    "print(f'\\n New Node name ids: \\n {d.getNodeNameID()} \\n')"
   ]
  },
  {
   "cell_type": "code",
   "execution_count": 3,
   "id": "e44f7a55",
   "metadata": {},
   "outputs": [
    {
     "name": "stdout",
     "output_type": "stream",
     "text": [
      "Close toolkit for the input file \"Net1\". EPANET Toolkit is unloaded.\n",
      "\n"
     ]
    }
   ],
   "source": [
    "# Unload library.\n",
    "d.unload()"
   ]
  }
 ],
 "metadata": {
  "kernelspec": {
   "display_name": "Python 3.10.6 64-bit (windows store)",
   "language": "python",
   "name": "python3"
  },
  "language_info": {
   "codemirror_mode": {
    "name": "ipython",
    "version": 3
   },
   "file_extension": ".py",
   "mimetype": "text/x-python",
   "name": "python",
   "nbconvert_exporter": "python",
   "pygments_lexer": "ipython3",
   "version": "3.10.6"
  },
  "vscode": {
   "interpreter": {
    "hash": "0df096debc758afc4e07b4a6d7176310e13b87e5b446a84739768769d4d90649"
   }
  }
 },
 "nbformat": 4,
 "nbformat_minor": 5
}
