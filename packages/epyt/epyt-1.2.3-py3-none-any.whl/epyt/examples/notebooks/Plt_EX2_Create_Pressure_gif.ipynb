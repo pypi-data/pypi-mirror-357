{
 "cells": [
  {
   "cell_type": "markdown",
   "id": "9647daf8",
   "metadata": {},
   "source": [
    "### Create a gif with the pressure of Net1.\n",
    "\n",
    "Requirements:\n",
    "* pip install imageio\n",
    "* pip install Pillow\n",
    "\n",
    "This example contains:\n",
    "* Load a network.\n",
    "* Run hydraulic analysis with getComputedHydraulicTimeSeries.\n",
    "* Set colorbar values based on the min/max of all the Pressure values.\n",
    "* Create pngs for every timepoint.\n",
    "* Create gif from all the pngs.\n",
    "* Unload library.\n"
   ]
  },
  {
   "cell_type": "code",
   "execution_count": 3,
   "id": "6c4b2e12",
   "metadata": {},
   "outputs": [
    {
     "name": "stdout",
     "output_type": "stream",
     "text": [
      "EPANET version 20200 loaded (EPyT version 1.0.5).\n",
      "Input File Net1.inp loaded successfully.\n",
      "\n"
     ]
    }
   ],
   "source": [
    "from epyt import epanet\n",
    "# Load network Net1\n",
    "d = epanet('Net1.inp')"
   ]
  },
  {
   "cell_type": "code",
   "execution_count": 4,
   "id": "87c16580",
   "metadata": {
    "scrolled": true
   },
   "outputs": [
    {
     "name": "stderr",
     "output_type": "stream",
     "text": [
      "C:\\Users\\mkiri\\AppData\\Local\\Temp\\ipykernel_13412\\3107180357.py:35: DeprecationWarning: Starting with ImageIO v3 the behavior of this function will switch to that of iio.v3.imread. To keep the current behavior (and make this warning disappear) use `import imageio.v2 as imageio` or call `imageio.v2.imread` directly.\n",
      "  image = imageio.imread(fig)\n"
     ]
    },
    {
     "name": "stdout",
     "output_type": "stream",
     "text": [
      "Net1_pressures.gif has created.\n",
      "Close toolkit for the input file \"Net1\". EPANET Toolkit is unloaded.\n",
      "\n"
     ]
    }
   ],
   "source": [
    "import matplotlib.pyplot as plt\n",
    "from PIL import Image\n",
    "import imageio\n",
    "import os\n",
    "\n",
    "# Set gif name \n",
    "new_gif_name = f'{d.netName[:-4]}_pressures.gif'\n",
    "\n",
    "# Run Hyraulic analysis    \n",
    "comp_analysis_vals = d.getComputedTimeSeries()\n",
    "pressures = comp_analysis_vals.Pressure\n",
    "Time = comp_analysis_vals.Time/3600\n",
    "\n",
    "# Set the colorbar values based on the min/max of all the Pressure values\n",
    "minPressure = d.min(pressures)\n",
    "maxPressure = d.max(pressures)\n",
    "\n",
    "# iterate through flow times\n",
    "figToPngNames = []\n",
    "for i, values in enumerate(pressures):\n",
    "\n",
    "    hr = str(int(Time[i - 1]))\n",
    "\n",
    "    d.plot(node_values=values, figure=False, min_colorbar=minPressure, max_colorbar=maxPressure,\n",
    "           title=f'Pressures at time {hr} hrs')\n",
    "\n",
    "    PngName = f'{i}.png'\n",
    "    figToPngNames.append(PngName)\n",
    "    plt.savefig(PngName)\n",
    "    plt.close()\n",
    "\n",
    "# create gif\n",
    "with imageio.get_writer(new_gif_name, mode='I') as writer:\n",
    "    for fig in figToPngNames:\n",
    "        image = imageio.imread(fig)\n",
    "        writer.append_data(image)\n",
    "\n",
    "# Remove files\n",
    "for fig in set(figToPngNames):\n",
    "    os.remove(fig)\n",
    "\n",
    "pressure_gif = Image.open(new_gif_name)\n",
    "\n",
    "print(f\"{new_gif_name} has created.\")\n",
    "\n",
    "# Unload library\n",
    "d.unload()"
   ]
  },
  {
   "cell_type": "markdown",
   "id": "0c4c207d",
   "metadata": {},
   "source": [
    "![SegmentLocal](Net1_flows.gif \"segment\")"
   ]
  }
 ],
 "metadata": {
  "kernelspec": {
   "display_name": "Python 3 (ipykernel)",
   "language": "python",
   "name": "python3"
  },
  "language_info": {
   "codemirror_mode": {
    "name": "ipython",
    "version": 3
   },
   "file_extension": ".py",
   "mimetype": "text/x-python",
   "name": "python",
   "nbconvert_exporter": "python",
   "pygments_lexer": "ipython3",
   "version": "3.9.7"
  }
 },
 "nbformat": 4,
 "nbformat_minor": 5
}
