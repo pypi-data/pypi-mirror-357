{
 "cells": [
  {
   "cell_type": "markdown",
   "id": "cad4a3b0",
   "metadata": {},
   "source": [
    "### Closes pipes during simulation.\n",
    " \n",
    "This example contains:\n",
    "* Load a network.\n",
    "* Link index for change the status.\n",
    "* Run step by step hydraulic analysis.\n",
    "* Get flows for the specific link index.\n",
    "* Unload library.\n"
   ]
  },
  {
   "cell_type": "code",
   "execution_count": 1,
   "id": "06d30e75",
   "metadata": {},
   "outputs": [
    {
     "name": "stdout",
     "output_type": "stream",
     "text": [
      "EPANET version 20200 loaded (EPyT version 1.0.5).\n",
      "Input File Net1.inp loaded successfully.\n",
      "\n"
     ]
    }
   ],
   "source": [
    "from epyt import epanet\n",
    "import pandas as pd\n",
    "\n",
    "# Load a network.\n",
    "d = epanet('Net1.inp')"
   ]
  },
  {
   "cell_type": "code",
   "execution_count": 2,
   "id": "cbbc4211",
   "metadata": {},
   "outputs": [
    {
     "name": "stdout",
     "output_type": "stream",
     "text": [
      "\n",
      "Flows and status for node index 2:\n",
      "           Flows Status\n",
      "1      0.000000      0\n",
      "2      0.000000      0\n",
      "3      0.000000      0\n",
      "4      0.000000      0\n",
      "5      0.000000      0\n",
      "6      0.000390      1\n",
      "7   1093.136502      1\n",
      "8      0.000000      0\n",
      "9      0.000000      0\n",
      "10     0.000393      1\n",
      "11     0.000000      0\n",
      "12     0.000405      1\n",
      "13     0.000000      0\n",
      "14     0.000413      1\n",
      "15     0.000000      0\n",
      "16     0.000417      1\n",
      "17     0.000000      0\n",
      "18     0.000417      1\n",
      "19     0.000000      0\n",
      "20    -0.000018      1\n",
      "21     0.000000      0\n",
      "22     0.000000      0\n",
      "23     0.000000      0\n",
      "24     0.000000      0\n",
      "25    -0.000064      1\n",
      "26  -358.364816      1\n",
      "\n"
     ]
    }
   ],
   "source": [
    "# Link index for change the status.\n",
    "link_index = 2\n",
    "\n",
    "Status = [0, 0, 0, 0, 0, 1, 1, 0, 0, 1, 0, 1, 0, 1, 0, 1, 0, 1, 0, 1, 0, 0, 0, 0, 1, 1, ]\n",
    "\n",
    "# Run step by step hydraulic analysis.\n",
    "d.openHydraulicAnalysis()\n",
    "d.initializeHydraulicAnalysis()\n",
    "i, tstep, F = 0, 1, {}\n",
    "while tstep > 0:\n",
    "    t = d.runHydraulicAnalysis()\n",
    "    d.setLinkStatus(link_index, Status[i])\n",
    "    i += 1\n",
    "    F[i] = d.getLinkFlows()\n",
    "    tstep = d.nextHydraulicAnalysisStep()\n",
    "d.closeHydraulicAnalysis()\n",
    "\n",
    "# Get flows for the specific link index.\n",
    "Flows = pd.DataFrame(F).iloc[link_index - 1]\n",
    "T = pd.DataFrame({\"Flows\": Flows, \"Status\": Status}, dtype=\"category\")\n",
    "\n",
    "print(f'\\nFlows and status for node index 2:\\n {T}\\n')"
   ]
  },
  {
   "cell_type": "code",
   "execution_count": 3,
   "id": "fc9131bf",
   "metadata": {},
   "outputs": [
    {
     "name": "stdout",
     "output_type": "stream",
     "text": [
      "Close toolkit for the input file \"Net1\". EPANET Toolkit is unloaded.\n",
      "\n"
     ]
    }
   ],
   "source": [
    "# Unload library.\n",
    "d.unload()"
   ]
  }
 ],
 "metadata": {
  "kernelspec": {
   "display_name": "Python 3.10.6 64-bit (windows store)",
   "language": "python",
   "name": "python3"
  },
  "language_info": {
   "codemirror_mode": {
    "name": "ipython",
    "version": 3
   },
   "file_extension": ".py",
   "mimetype": "text/x-python",
   "name": "python",
   "nbconvert_exporter": "python",
   "pygments_lexer": "ipython3",
   "version": "3.10.6"
  },
  "vscode": {
   "interpreter": {
    "hash": "0df096debc758afc4e07b4a6d7176310e13b87e5b446a84739768769d4d90649"
   }
  }
 },
 "nbformat": 4,
 "nbformat_minor": 5
}
