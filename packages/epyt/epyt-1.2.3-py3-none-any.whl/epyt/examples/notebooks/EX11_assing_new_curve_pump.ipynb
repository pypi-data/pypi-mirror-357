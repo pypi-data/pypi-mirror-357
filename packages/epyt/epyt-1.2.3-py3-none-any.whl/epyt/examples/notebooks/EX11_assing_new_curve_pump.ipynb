{
 "cells": [
  {
   "cell_type": "markdown",
   "id": "be77c192",
   "metadata": {},
   "source": [
    "### Assings a new curve to a specific pump.\n",
    "\n",
    "This example contains:\n",
    "* Load a network.\n",
    "* Add new curve in the network.\n",
    "* Get pump index.\n",
    "* Get head curve index.\n",
    "* Assing new curve index on the specific pump.\n",
    "* Unload library.\n"
   ]
  },
  {
   "cell_type": "code",
   "execution_count": 1,
   "id": "e24a61ec",
   "metadata": {},
   "outputs": [
    {
     "name": "stdout",
     "output_type": "stream",
     "text": [
      "EPANET version 20200 loaded (EPyT version 1.0.5).\n",
      "Input File Net1.inp loaded successfully.\n",
      "\n"
     ]
    }
   ],
   "source": [
    "from epyt import epanet\n",
    "\n",
    "# Load network\n",
    "d = epanet('Net1.inp')"
   ]
  },
  {
   "cell_type": "code",
   "execution_count": 2,
   "id": "9d5cd3cd",
   "metadata": {},
   "outputs": [
    {
     "name": "stdout",
     "output_type": "stream",
     "text": [
      "Head Curve Index: 1\n",
      "On pump index: 13\n",
      "\n",
      "Assign new curve to pump: 13\n",
      "\n",
      "\n",
      "New Head Curve Index: 2\n",
      "On pump index: 13\n"
     ]
    }
   ],
   "source": [
    "# Add new curve in the network.\n",
    "indexCurve = d.addCurve('NewCurve', [1800, 300], [1500, 500])\n",
    "\n",
    "# Get pump index.\n",
    "pumpIndex = d.getLinkPumpIndex(1)\n",
    "\n",
    "# Get head curve index.\n",
    "[HeadCurveIndex, PumpIndex] = d.getLinkPumpHeadCurveIndex()\n",
    "\n",
    "print('Head Curve Index: ' + str(HeadCurveIndex))\n",
    "print('On pump index: ' + str(PumpIndex))\n",
    "\n",
    "# Assing new curve index on the specific pump.\n",
    "d.setLinkPumpHeadCurveIndex(pumpIndex, indexCurve)\n",
    "print('\\nAssign new curve to pump: ' + str(PumpIndex) + '\\n\\n')\n",
    "[HeadCurveIndex, PumpIndex] = d.getLinkPumpHeadCurveIndex()\n",
    "print('New Head Curve Index: ' + str(HeadCurveIndex))\n",
    "print('On pump index: ' + str(PumpIndex))"
   ]
  },
  {
   "cell_type": "code",
   "execution_count": 3,
   "id": "0837f372",
   "metadata": {},
   "outputs": [
    {
     "name": "stdout",
     "output_type": "stream",
     "text": [
      "Close toolkit for the input file \"Net1\". EPANET Toolkit is unloaded.\n",
      "\n"
     ]
    }
   ],
   "source": [
    "# Unload library.\n",
    "d.unload()"
   ]
  }
 ],
 "metadata": {
  "kernelspec": {
   "display_name": "Python 3.10.6 64-bit (windows store)",
   "language": "python",
   "name": "python3"
  },
  "language_info": {
   "codemirror_mode": {
    "name": "ipython",
    "version": 3
   },
   "file_extension": ".py",
   "mimetype": "text/x-python",
   "name": "python",
   "nbconvert_exporter": "python",
   "pygments_lexer": "ipython3",
   "version": "3.10.6"
  },
  "vscode": {
   "interpreter": {
    "hash": "0df096debc758afc4e07b4a6d7176310e13b87e5b446a84739768769d4d90649"
   }
  }
 },
 "nbformat": 4,
 "nbformat_minor": 5
}
