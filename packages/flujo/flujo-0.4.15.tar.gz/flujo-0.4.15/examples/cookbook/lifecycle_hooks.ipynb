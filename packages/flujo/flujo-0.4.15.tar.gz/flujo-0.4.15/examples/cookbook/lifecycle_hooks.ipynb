{
 "cells": [
  {
   "cell_type": "markdown",
   "id": "9d694e20",
   "metadata": {},
   "source": "# Cookbook: Observing Runs with Lifecycle Hooks"
  },
  {
   "cell_type": "markdown",
   "id": "7ceb3886",
   "metadata": {},
   "source": "## The Problem\n\nYou need to integrate custom logic into the pipeline's execution flow. For example, you might want to log every step's result to a monitoring service, send a Slack notification on failure, or even programmatically stop a run based on some custom condition."
  },
  {
   "cell_type": "markdown",
   "id": "c2d65994",
   "metadata": {},
   "source": "## The Solution\n\nThe `Flujo` runner accepts an optional `hooks` parameter, which is a list of `async` functions. These functions are called at specific points in the pipeline lifecycle. You can also raise the `PipelineAbortSignal` exception from a hook to gracefully stop the run."
  },
  {
   "cell_type": "code",
   "execution_count": null,
   "id": "9c4ced28",
   "metadata": {},
   "outputs": [],
   "source": [
    "from unittest.mock import MagicMock\n",
    "from flujo import Flujo, Step\n",
    "from flujo.exceptions import PipelineAbortSignal\n",
    "\n",
    "# --- Define Hook Functions ---\n",
    "\n",
    "async def simple_logger_hook(**kwargs):\n",
    "    \"\"\"A hook that prints the name of every event.\"\"\"\n",
    "    event_name = kwargs.get('event_name')\n",
    "    print(f\"HOOK FIRED: {event_name}\")\n",
    "\n",
    "async def abort_on_failure_hook(**kwargs):\n",
    "    \"\"\"A hook that gracefully stops the pipeline if any step fails.\"\"\"\n",
    "    if kwargs.get('event_name') == 'on_step_failure':\n",
    "        step_name = kwargs['step_result'].name\n",
    "        print(f\"HOOK: Step '{step_name}' failed. Aborting the run.\")\n",
    "        raise PipelineAbortSignal(f\"Aborted due to failure in '{step_name}'\")\n",
    "\n",
    "# --- Setup and Run ---\n",
    "failing_step = Step(\"failing_step\", agent=MagicMock(side_effect=RuntimeError(\"An error occurred!\")))\n",
    "pipeline = Step(\"successful_step\", agent=MagicMock(return_value=\"ok\")) >> failing_step\n",
    "\n",
    "runner = Flujo(\n",
    "    pipeline,\n",
    "    hooks=[simple_logger_hook, abort_on_failure_hook]\n",
    ")\n",
    "\n",
    "# The run will be stopped by the hook, not crash from the agent's error.\n",
    "result = runner.run(\"start\")\n",
    "\n",
    "print(f\"\\nPipeline finished. It ran {len(result.step_history)} steps before being aborted by the hook.\")\n"
   ]
  },
  {
   "cell_type": "markdown",
   "id": "7ce19ba2",
   "metadata": {},
   "source": "### How It Works\n\n1.  We define two hooks: `simple_logger_hook` and `abort_on_failure_hook`. Both are `async def` functions that accept `**kwargs`.\n2.  We register these hooks by passing them in a list to the `Flujo` constructor.\n3.  As the pipeline runs, the `Flujo` engine calls every registered hook for each event (`pre_run`, `pre_step`, etc.). The `simple_logger_hook` prints the name of each event as it happens.\n4.  The `failing_step`'s agent raises a `RuntimeError`. The engine catches this, marks the step as failed, and then fires the `on_step_failure` event.\n5.  Our `abort_on_failure_hook` receives this event, checks the event name, and raises `PipelineAbortSignal`.\n6.  The engine catches this special signal and gracefully terminates the entire run, returning the partial `PipelineResult`."
  }
 ],
 "metadata": {
  "kernelspec": {
   "display_name": "Python 3",
   "language": "python",
   "name": "python3"
  }
 },
 "nbformat": 4,
 "nbformat_minor": 5
}
