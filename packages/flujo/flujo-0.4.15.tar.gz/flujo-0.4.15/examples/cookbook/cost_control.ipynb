{
 "cells": [
  {
   "cell_type": "markdown",
   "id": "a8ea4b58",
   "metadata": {},
   "source": "# Cookbook: Controlling LLM Costs"
  },
  {
   "cell_type": "markdown",
   "id": "a1c8f201",
   "metadata": {},
   "source": "## The Problem\n\nPipelines, especially those with loops or that call powerful models, can incur unpredictable costs. You need a reliable way to enforce a budget on a pipeline run to prevent unexpected bills."
  },
  {
   "cell_type": "markdown",
   "id": "d27b2fcf",
   "metadata": {},
   "source": "## The Solution\n\nThe `Flujo` engine has a built-in **Usage Governor**. You can enable it by passing a `UsageLimits` object when you create your runner. The engine will then track the cumulative cost and token count after each step and automatically halt the pipeline if a limit is breached."
  },
  {
   "cell_type": "code",
   "execution_count": null,
   "id": "ae03b85f",
   "metadata": {},
   "outputs": [],
   "source": [
    "from pydantic import BaseModel\n",
    "from flujo import Flujo, Step, UsageLimits, UsageLimitExceededError\n",
    "\n",
    "# An agent that reports a fixed cost of $0.05 per call\n",
    "class CostlyAgent:\n",
    "    async def run(self, x: int) -> int:\n",
    "        class Output(BaseModel):\n",
    "            value: int\n",
    "            cost_usd: float = 0.05\n",
    "            token_counts: int = 50\n",
    "        return Output(value=x + 1)\n",
    "\n",
    "# This pipeline runs the same costly step three times\n",
    "pipeline = Step(\"step_1\", CostlyAgent()) >> Step(\"step_2\", CostlyAgent()) >> Step(\"step_3\", CostlyAgent())\n",
    "\n",
    "# Set a hard limit of $0.12\n",
    "limits = UsageLimits(total_cost_usd_limit=0.12)\n",
    "runner = Flujo(pipeline, usage_limits=limits)\n",
    "\n",
    "try:\n",
    "    print(\"Running pipeline... it should be stopped by the governor.\")\n",
    "    runner.run(0)\n",
    "except UsageLimitExceededError as e:\n",
    "    print(\"\\n✅ Pipeline halted as expected!\")\n",
    "    print(f\"   Reason: {e}\")\n",
    "    print(f\"   The pipeline ran for {len(e.result.step_history)} steps before stopping.\")\n",
    "    print(f\"   Final recorded cost was ${e.result.total_cost_usd:.2f}\")\n"
   ]
  },
  {
   "cell_type": "markdown",
   "id": "95a9fab3",
   "metadata": {},
   "source": "### How It Works\n\n1.  We define `UsageLimits` with `total_cost_usd_limit=0.12`.\n2.  The `Flujo` runner receives these limits.\n3.  **Step 1** runs, costing $0.05. The total cost is $0.05, which is less than $0.12. The pipeline continues.\n4.  **Step 2** runs, costing another $0.05. The total cost is now $0.10, which is still less than $0.12. The pipeline continues.\n5.  **Step 3** runs, costing $0.05. The total cost becomes $0.15.\n6.  *After* Step 3 completes, the engine checks the total cost ($0.15), sees it has breached the limit ($0.12), and immediately raises `UsageLimitExceededError`.\n7.  The exception contains the `result` object with the history up to the point of failure, which is useful for debugging."
  }
 ],
 "metadata": {
  "kernelspec": {
   "display_name": "Python 3",
   "language": "python",
   "name": "python3"
  }
 },
 "nbformat": 4,
 "nbformat_minor": 5
}
