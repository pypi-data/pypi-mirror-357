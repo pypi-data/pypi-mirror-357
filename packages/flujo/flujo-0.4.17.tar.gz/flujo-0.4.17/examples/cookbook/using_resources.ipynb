{
  "cells": [
    {
      "cell_type": "markdown",
      "id": "cfc5d9df",
      "metadata": {},
      "source": [
        "# Cookbook: Sharing Resources Like a Database Connection"
      ]
    },
    {
      "cell_type": "markdown",
      "id": "ff9b05be",
      "metadata": {},
      "source": [
        "## The Problem\n",
        "\n",
        "Your pipeline steps need to interact with a shared, long-lived resource like a database connection pool, a secrets manager client, or a reusable API client. Creating a new connection for every single step is inefficient and hard to manage."
      ]
    },
    {
      "cell_type": "markdown",
      "id": "c9e05cac",
      "metadata": {},
      "source": [
        "## The Solution\n",
        "\n",
        "The `Flujo` runner accepts a `resources` object that it will pass to every agent and plugin in the pipeline. You define the shape of this object by inheriting from `AppResources`."
      ]
    },
    {
      "cell_type": "code",
      "execution_count": null,
      "id": "afbae857",
      "metadata": {},
      "outputs": [],
      "source": [
        "from unittest.mock import MagicMock\n",
        "from flujo import Flujo, Step, AppResources\n",
        "\n",
        "# 1. Define the structure of your shared resources\n",
        "class MyWebAppResources(AppResources):\n",
        "    db_conn: MagicMock\n",
        "    secrets_client: MagicMock\n",
        "\n",
        "# 2. Create an agent that declares a 'resources' dependency\n",
        "class UserLookupAgent:\n",
        "    async def run(self, user_id: int, *, resources: MyWebAppResources) -> str:\n",
        "        # The engine will inject the resources object here\n",
        "        print(f\"AGENT: Looking up user {user_id}...\")\n",
        "        user_name = resources.db_conn.get_user_by_id(user_id)\n",
        "        return user_name\n",
        "\n",
        "# 3. Instantiate your resources and the runner\n",
        "# In a real app, you would create real DB connections here.\n",
        "# For this example, we'll use mocks.\n",
        "shared_resources = MyWebAppResources(\n",
        "    db_conn=MagicMock(),\n",
        "    secrets_client=MagicMock()\n",
        ")\n",
        "shared_resources.db_conn.get_user_by_id.return_value = \"Alice\"\n",
        "\n",
        "pipeline = Step(\"lookup_user\", UserLookupAgent())\n",
        "runner = Flujo(pipeline, resources=shared_resources)\n",
        "\n",
        "# 4. Run the pipeline\n",
        "result = runner.run(123)\n",
        "\n",
        "# 5. Verify the resource was used\n",
        "shared_resources.db_conn.get_user_by_id.assert_called_once_with(123)\n",
        "print(f\"\\n✅ Agent successfully used the database connection to find: {result.step_history[0].output}\")\n"
      ]
    },
    {
      "cell_type": "markdown",
      "id": "0b6b0d1e",
      "metadata": {},
      "source": [
        "### How It Works\n",
        "\n",
        "1.  We create our own `MyWebAppResources` class that inherits from `flujo.AppResources`. This provides a clear, type-safe contract for our shared objects.\n",
        "2.  The `UserLookupAgent`'s `run` method declares a **keyword-only argument** named `resources` and type-hints it with our custom class. This is the signal to the `Flujo` engine to inject the object.\n",
        "3.  We instantiate our resources *once* and pass the `shared_resources` object to the `Flujo` constructor.\n",
        "4.  When the engine executes the `lookup_user` step, it inspects the agent's `run` method signature, sees the `resources` parameter, and passes the shared object to it.\n",
        "5.  The agent can then use the methods on the injected object (e.g., `resources.db_conn.get_user_by_id`)."
      ]
    }
  ],
  "metadata": {
    "kernelspec": {
      "display_name": "Python 3",
      "language": "python",
      "name": "python3"
    }
  },
  "nbformat": 4,
  "nbformat_minor": 5
}
