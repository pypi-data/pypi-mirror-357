{
 "cells": [
  {
   "cell_type": "markdown",
   "id": "03bf10eb",
   "metadata": {},
   "source": [
    "# List Demo \n",
    "\n",
    "Run this noteboook to test your widget, and create the initial directory to be able to run `yarn dev`.\n",
    "\n",
    "This example uses audio data. To see [another example that uses image data](https://satishlokkoju.github.io/deepview/examples.html), see the CIFAR-10 example in the main `canvas_ux` examples."
   ]
  },
  {
   "cell_type": "code",
   "execution_count": 1,
   "id": "3d56a912",
   "metadata": {
    "tags": []
   },
   "outputs": [],
   "source": [
    "%load_ext autoreload\n",
    "%autoreload 2"
   ]
  },
  {
   "cell_type": "code",
   "execution_count": null,
   "id": "08f41edf",
   "metadata": {
    "tags": []
   },
   "outputs": [],
   "source": [
    "import git\n"
   ]
  },
  {
   "cell_type": "code",
   "execution_count": 2,
   "id": "b37a02db-e951-4519-82d6-06e39d4fe8c1",
   "metadata": {
    "tags": []
   },
   "outputs": [],
   "source": [
    "from pathlib import Path\n",
    "import os\n",
    "import pandas as pd\n",
    "\n",
    "import canvas_ux\n",
    "from canvas_list import CanvasList"
   ]
  },
  {
   "cell_type": "markdown",
   "id": "8c6f244a",
   "metadata": {},
   "source": [
    "### Create/Import Data \n",
    "\n",
    "Create a Pandas DataFrame with your data or the metadata for a dataset."
   ]
  },
  {
   "cell_type": "code",
   "execution_count": 3,
   "id": "ff4f8387",
   "metadata": {
    "tags": []
   },
   "outputs": [],
   "source": [
    "clone_path = Path(\"./example_data/spoken\")\n",
    "\n",
    "if not os.path.exists(clone_path):\n",
    "    clone_path.mkdir(exist_ok=True, parents=True)\n",
    "    repo = git.Repo.clone_from(\n",
    "        'https://github.com/Jakobovski/free-spoken-digit-dataset.git',\n",
    "        './example_data/spoken/',\n",
    "        branch='master'\n",
    "    )"
   ]
  },
  {
   "cell_type": "code",
   "execution_count": 4,
   "id": "6fe23ee3",
   "metadata": {
    "tags": []
   },
   "outputs": [],
   "source": [
    "root_dir = Path(clone_path, 'recordings')\n",
    "file_set = set()\n",
    "\n",
    "for dir_, _, files in os.walk(root_dir):\n",
    "    for file_name in files:\n",
    "        if (file_name[-3:] == 'wav'):\n",
    "            rel_dir = os.path.relpath(dir_, root_dir)\n",
    "            rel_file = os.path.join(rel_dir, file_name)\n",
    "            file_set.add(rel_file)\n",
    "\n",
    "df = pd.DataFrame({'id': list(file_set),\n",
    "                       'label': [p.split('/')[1].split('_')[-3] for p in file_set], \n",
    "                       'speaker': [p.split('/')[1].split('_')[-2] for p in file_set],\n",
    "                      })"
   ]
  },
  {
   "cell_type": "code",
   "execution_count": null,
   "id": "1797e30f",
   "metadata": {
    "tags": []
   },
   "outputs": [],
   "source": [
    "df.head()"
   ]
  },
  {
   "cell_type": "markdown",
   "id": "691efacd",
   "metadata": {},
   "source": [
    "### Create Canvas Widgets\n",
    "\n",
    "We can now explore the individual widgets!"
   ]
  },
  {
   "cell_type": "code",
   "execution_count": null,
   "id": "61080bf6",
   "metadata": {
    "tags": []
   },
   "outputs": [],
   "source": [
    "symph = canvas_ux.Canvas(df, files_path='./example_data/spoken/recordings/' ,instances_per_page=10)"
   ]
  },
  {
   "cell_type": "code",
   "execution_count": null,
   "id": "0da4ddf3",
   "metadata": {
    "scrolled": true,
    "tags": []
   },
   "outputs": [],
   "source": [
    "symph.widget(CanvasList)"
   ]
  },
  {
   "cell_type": "code",
   "execution_count": null,
   "id": "28f74dc6",
   "metadata": {},
   "outputs": [],
   "source": [
    "symph.export('./standalone_new', symlink_files=True,name=\"Speech\")"
   ]
  },
  {
   "cell_type": "code",
   "execution_count": null,
   "id": "d30c1083",
   "metadata": {},
   "outputs": [],
   "source": []
  }
 ],
 "metadata": {
  "kernelspec": {
   "display_name": "betterwithdata",
   "language": "python",
   "name": "betterwithdata"
  },
  "language_info": {
   "codemirror_mode": {
    "name": "ipython",
    "version": 3
   },
   "file_extension": ".py",
   "mimetype": "text/x-python",
   "name": "python",
   "nbconvert_exporter": "python",
   "pygments_lexer": "ipython3",
   "version": "3.10.15"
  }
 },
 "nbformat": 4,
 "nbformat_minor": 5
}
