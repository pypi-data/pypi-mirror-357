{
 "cells": [
  {
   "cell_type": "code",
   "execution_count": null,
   "id": "induced-warrant",
   "metadata": {},
   "outputs": [],
   "source": [
    "%%HTML\n",
    "<p id = 'heading1_p'> Asymmetric Authentication – ECC204-TFLXAUTH</p>\n",
    "<hr id = 'hline'> </hr> \n",
    "<p id = 'heading1_p' style='font-size: 20px; font-weight: bold;'>Introduction</p>\n",
    "<div id='div_element'>\n",
    "<p>In terms of computer security, Asymmetric Authentication is a process in which two entities exchange information to authenticate the identity of the other.</p>\n",
    "<p>The purpose of authentication is to prevent cloning and counterfeiting and to ensure that an object is genuine and authorized to connect to a product.</p>\n",
    "<p>This use case describes how Microchip TrustFLEX device can be used for asymmetric authentication using device certificates and ECC key pairs.</p>\n",
    "</div>\n",
    "\n",
    "<button class=\"collapsible\" style='font-size: 20px; font-weight: bold;'>Cryptographic Asset list & Use Case implementation</button>\n",
    "<div class=\"content\">\n",
    "<div id='content_element'>\n",
    "<hr id = 'h_content'> </hr> \n",
    "<p style=\"float: left; font-size: 9pt; text-align: center; width: 30%; margin-right: 1%;\">\n",
    "    <img src=\"assets/images/asymm_auth/crypto_assets.png\" alt=\"Cryptographic Assets\" style=\"height: 20em; width: 100%\"><b>Cryptographic Asset list</b></p>\n",
    "<p style=\"float: left; font-size: 9pt; text-align: center; 20em; width: 40%; margin-right: 1%;\">\n",
    "    <img src=\"assets/images/asymm_auth/usecase_steps.png\" alt=\"Use Case Steps\" style=\"height: 30em; width: 100%\"><b>Use Case implementation</b></p>\n",
    "<p style=\"clear: both;\">\n",
    "</div>\n",
    "</div>\n",
    "\n",
    "<p id = 'heading1_p' style='margin-top:40px; font-size: 20px; font-weight: bold;'>Use Case information</p>\n",
    "<hr id = 'hline'> </hr> \n",
    "<div id='div_element'>\n",
    "<p> The Transaction Diagram represent all steps to be performed to successfully implement the given Use Case, during development and after product delivery to the end-user. </p>\n",
    "<p><strong> For the ease of the execution, when steps are executed from transaction diagram, these are emulated in the Host-PC rather than executed in the \n",
    "Host-Microcontroller/Processor from the evaluation kit.</strong> The MPLAB-X project/C Source code includes software code to be executed in your Host-Microcontroller/Processor \n",
    "in your embedded project. </p>\n",
    "\n",
    "<p>Select your Evaluation kit and then click on each step to execute the Use Case. Click on Usecase Help button in transaction diagram for additional details.</p>\n",
    "</div>"
   ]
  },
  {
   "cell_type": "code",
   "execution_count": null,
   "id": "palestinian-palace",
   "metadata": {},
   "outputs": [],
   "source": [
    "import os\n",
    "from tpds.usecase_diagram import ProtoBoard, UsecaseDiagram\n",
    "from tpds.tp_utils.tp_settings import TPSettings\n",
    "from tpds.proto_boards import get_board_path\n",
    "from IPython.display import display\n",
    "\n",
    "curr_path = os.path.abspath('')\n",
    "os.sys.path.extend([os.path.join(curr_path, 'assets', 'python')])\n",
    "import asymm_auth\n",
    "\n",
    "tp_settings = TPSettings()\n",
    "usecase_working_dir = os.path.join(tp_settings.get_base_folder(), 'spg_ecc204_asymm_auth')\n",
    "os.makedirs(usecase_working_dir, exist_ok=True)\n",
    "boards = ProtoBoard(max_width=400)\n",
    "boards.add_board(\n",
    "            'DM320118', \n",
    "            os.path.join(curr_path, 'assets', 'images', 'usecase_hw.png'), \n",
    "            os.path.join(get_board_path(), 'DM320118', 'DM320118.hex'),\n",
    "            os.path.join(curr_path, 'firmware', 'asymm_auth_firmware', 'asymmetric_auth_dm320118.X'))\n",
    "boards.render_boards(0)\n",
    "\n",
    "usecase_steps = asymm_auth.AsymmetricAuthentication(boards)\n",
    "usecase_td = UsecaseDiagram(os.path.join(curr_path, 'assets', 'images', 'asymm_auth', 'usecase_td.png'), working_dir=usecase_working_dir)\n",
    "usecase_td.add_firmware(boards.get_firmware_project, tp_settings.get_mplab_paths().get('ide_path'))\n",
    "usecase_td.add_usecase_video(\"https://www.youtube.com/embed/PO5jIEizoHI?si=pGIZN3IgCtR58NFn\")\n",
    "\n",
    "generate_resources = usecase_td.add_script(237,70,35,30, usecase_steps.generate_resources)\n",
    "read_certs = usecase_td.add_script(288,232,35,30, usecase_steps.read_certs_from_device)\n",
    "verify_cert_chain = usecase_td.add_script(288,278,35,30, usecase_steps.verify_cert_chain, prereq_scripts = [read_certs])\n",
    "send_challenge = usecase_td.add_script(288,333,35,30, usecase_steps.send_random_challenge_to_SE, prereq_scripts = [verify_cert_chain])\n",
    "verify_with_rand_challenge = usecase_td.add_script(288,388,35,30, usecase_steps.verify_SE_response, prereq_scripts = [send_challenge])\n",
    "\n",
    "usecase_td.add_image(825,201,140,25, os.path.join(curr_path, 'assets', 'images', 'asymm_auth', 'c_snippet.png'), 'Code Snippet')\n",
    "usecase_td.add_link(723,239,140,10,\n",
    "    'https://github.com/MicrochipTech/cryptoauthlib/blob/af8187776cd3f3faf8bed412eaf6ff7221862e19/lib/basic/atca_basic_read.c#L116')\n",
    "usecase_td.add_link(736,257,110,10,\n",
    "    'https://github.com/MicrochipTech/cryptoauthlib/blob/af8187776cd3f3faf8bed412eaf6ff7221862e19/lib/basic/atca_basic_nonce.c#L174')\n",
    "usecase_td.add_link(771,287,70,10,\n",
    "    'https://github.com/MicrochipTech/cryptoauthlib/blob/af8187776cd3f3faf8bed412eaf6ff7221862e19/lib/basic/atca_basic_mac.c#L52')\n",
    "usecase_td.add_link(753,339,100,15,\n",
    "    'https://github.com/MicrochipTech/cryptoauthlib/blob/af8187776cd3f3faf8bed412eaf6ff7221862e19/lib/basic/atca_basic_checkmac.c#L49')\n",
    "usecase_td.add_usecase_help(os.path.join(curr_path, 'assets', 'ECC204_AsymmAuth.md'))\n",
    "\n",
    "display(boards.canvas)\n",
    "usecase_td.display_canvas()"
   ]
  },
  {
   "cell_type": "code",
   "execution_count": null,
   "id": "smoking-beverage",
   "metadata": {},
   "outputs": [],
   "source": [
    "%%HTML\n",
    "<button class=\"collapsible\" style='font-size: 20px; font-weight: bold;'>Conclusion</button>\n",
    "<div class=\"content\">\n",
    "<div id='content_element'>\n",
    "<hr id = 'h_content'> </hr> \n",
    "<p>When ready to start the Secure Exchange Process, please fill the Secure Exchange Process questionnaire and start a support ticket (attach the questionnaire output yaml file from your \n",
    "download folder). Microchip will then provide you with a Custom Part Number and a MAN-ID.</p>\n",
    "<p>Navigate to Trust Platorm Design Suite --> Configurators --> ECC204-TFLXAUTH Configurator page, select the Asymmetric Authentication Use Case and populate the requested field.\n",
    "Once done, please attach the .zip file generate from the Production Encrypted Provisioning Package button and attach it to the support case.\n",
    "Microchip will then enable the procurement of Verification Samples before starting mass-production. </p>\n",
    "</div>\n",
    "</div>"
   ]
  }
 ],
 "metadata": {
  "kernelspec": {
   "display_name": "Python 3.10.6 64-bit",
   "language": "python",
   "name": "python3"
  },
  "language_info": {
   "codemirror_mode": {
    "name": "ipython",
    "version": 3
   },
   "file_extension": ".py",
   "mimetype": "text/x-python",
   "name": "python",
   "nbconvert_exporter": "python",
   "pygments_lexer": "ipython3",
   "version": "3.10.6 (tags/v3.10.6:9c7b4bd, Aug  1 2022, 21:53:49) [MSC v.1932 64 bit (AMD64)]"
  },
  "vscode": {
   "interpreter": {
    "hash": "369f2c481f4da34e4445cda3fffd2e751bd1c4d706f27375911949ba6bb62e1c"
   }
  }
 },
 "nbformat": 4,
 "nbformat_minor": 5
}
