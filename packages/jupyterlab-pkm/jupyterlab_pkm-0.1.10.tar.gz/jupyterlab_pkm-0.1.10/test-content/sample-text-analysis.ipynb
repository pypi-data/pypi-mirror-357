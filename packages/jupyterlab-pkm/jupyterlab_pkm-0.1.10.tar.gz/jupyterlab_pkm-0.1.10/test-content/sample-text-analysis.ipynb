{
 "cells": [
  {
   "cell_type": "markdown",
   "metadata": {},
   "source": [
    "# Sample Text Analysis: Word Frequency in Shakespeare\n",
    "\n",
    "This notebook demonstrates basic text analysis techniques using Python. You'll use this for the formative assessment by embedding specific cells in your reflection notes."
   ]
  },
  {
   "cell_type": "markdown",
   "metadata": {},
   "source": [
    "[[start]]"
   ]
  },
  {
   "cell_type": "code",
   "execution_count": 1,
   "metadata": {},
   "outputs": [
    {
     "name": "stdout",
     "output_type": "stream",
     "text": [
      "Libraries imported successfully!\n"
     ]
    }
   ],
   "source": [
    "# Import required libraries\n",
    "import pandas as pd\n",
    "import matplotlib.pyplot as plt\n",
    "from collections import Counter\n",
    "import re\n",
    "\n",
    "print(\"Libraries imported successfully!\")"
   ]
  },
  {
   "cell_type": "code",
   "execution_count": 3,
   "metadata": {},
   "outputs": [
    {
     "name": "stdout",
     "output_type": "stream",
     "text": [
      "Text loaded: 105 words\n"
     ]
    }
   ],
   "source": [
    "# Sample text from Hamlet's \"To be or not to be\" soliloquy\n",
    "hamlet_text = \"\"\"\n",
    "To be, or not to be, that is the question:\n",
    "Whether 'tis nobler in the mind to suffer\n",
    "The slings and arrows of outrageous fortune,\n",
    "Or to take arms against a sea of troubles\n",
    "And by opposing end them. To die—to sleep,\n",
    "No more; and by a sleep to say we end\n",
    "The heartache and the thousand natural shocks\n",
    "That flesh is heir to: 'tis a consummation\n",
    "Devoutly to be wished. To die, to sleep;\n",
    "To sleep, perchance to dream—ay, there's the rub:\n",
    "For in that sleep of death what dreams may come,\n",
    "When we have shuffled off this mortal coil,\n",
    "Must give us pause.\n",
    "\"\"\"\n",
    "\n",
    "print(f\"Text loaded: {len(hamlet_text.split())} words\")"
   ]
  },
  {
   "cell_type": "code",
   "execution_count": 4,
   "metadata": {},
   "outputs": [
    {
     "name": "stdout",
     "output_type": "stream",
     "text": [
      "Cleaned text: 105 words\n",
      "First 10 words: ['to', 'be', 'or', 'not', 'to', 'be', 'that', 'is', 'the', 'question']\n"
     ]
    }
   ],
   "source": [
    "# Clean and tokenize the text\n",
    "def clean_text(text):\n",
    "    # Convert to lowercase and remove punctuation\n",
    "    text = re.sub(r'[^\\w\\s]', '', text.lower())\n",
    "    # Split into words\n",
    "    words = text.split()\n",
    "    return words\n",
    "\n",
    "words = clean_text(hamlet_text)\n",
    "print(f\"Cleaned text: {len(words)} words\")\n",
    "print(f\"First 10 words: {words[:10]}\")"
   ]
  },
  {
   "cell_type": "code",
   "execution_count": 5,
   "metadata": {},
   "outputs": [
    {
     "name": "stdout",
     "output_type": "stream",
     "text": [
      "Most common words:\n",
      "to: 12\n",
      "the: 6\n",
      "sleep: 5\n",
      "and: 4\n",
      "be: 3\n",
      "that: 3\n",
      "of: 3\n",
      "a: 3\n",
      "or: 2\n",
      "is: 2\n"
     ]
    }
   ],
   "source": [
    "# Count word frequencies\n",
    "word_counts = Counter(words)\n",
    "print(\"Most common words:\")\n",
    "for word, count in word_counts.most_common(10):\n",
    "    print(f\"{word}: {count}\")"
   ]
  },
  {
   "cell_type": "code",
   "execution_count": 5,
   "metadata": {},
   "outputs": [
    {
     "name": "stdout",
     "output_type": "stream",
     "text": [
      "Visualization complete!\n"
     ]
    }
   ],
   "source": [
    "# Create a visualization\n",
    "top_words = dict(word_counts.most_common(8))\n",
    "\n",
    "plt.figure(figsize=(10, 6))\n",
    "plt.bar(top_words.keys(), top_words.values())\n",
    "plt.title(\"Most Frequent Words in Hamlet's Soliloquy\")\n",
    "plt.xlabel(\"Words\")\n",
    "plt.ylabel(\"Frequency\")\n",
    "plt.xticks(rotation=45)\n",
    "plt.tight_layout()\n",
    "plt.show()\n",
    "\n",
    "print(\"Visualization complete!\")"
   ]
  },
  {
   "cell_type": "markdown",
   "metadata": {},
   "source": [
    "## Interpretation\n",
    "\n",
    "This simple frequency analysis reveals interesting patterns:\n",
    "\n",
    "1. **\"To\" is dominant** - reflects the infinitive constructions that structure Hamlet's philosophical reasoning\n",
    "2. **\"Sleep\" appears frequently** - central metaphor for death in this passage\n",
    "3. **Function words dominate** - but content words like \"sleep\", \"death\", \"dream\" carry the thematic weight\n",
    "\n",
    "**Digital Humanities Insight**: Even basic computational analysis can reveal linguistic patterns that support close reading interpretations."
   ]
  },
  {
   "cell_type": "code",
   "execution_count": 6,
   "metadata": {},
   "outputs": [
    {
     "name": "stdout",
     "output_type": "stream",
     "text": [
      "Analysis Summary:\n",
      "Total words: 87\n",
      "Unique words: 65\n",
      "Lexical diversity: 0.75\n",
      "Most repeated word: 'to' (9 times)\n"
     ]
    }
   ],
   "source": [
    "# Analysis summary\n",
    "total_words = len(words)\n",
    "unique_words = len(word_counts)\n",
    "lexical_diversity = unique_words / total_words\n",
    "\n",
    "print(f\"Analysis Summary:\")\n",
    "print(f\"Total words: {total_words}\")\n",
    "print(f\"Unique words: {unique_words}\")\n",
    "print(f\"Lexical diversity: {lexical_diversity:.2f}\")\n",
    "print(f\"Most repeated word: '{word_counts.most_common(1)[0][0]}' ({word_counts.most_common(1)[0][1]} times)\")"
   ]
  }
 ],
 "metadata": {
  "kernelspec": {
   "display_name": "Python 3 (ipykernel)",
   "language": "python",
   "name": "python3"
  },
  "language_info": {
   "codemirror_mode": {
    "name": "ipython",
    "version": 3
   },
   "file_extension": ".py",
   "mimetype": "text/x-python",
   "name": "python",
   "nbconvert_exporter": "python",
   "pygments_lexer": "ipython3",
   "version": "3.12.5"
  }
 },
 "nbformat": 4,
 "nbformat_minor": 4
}
