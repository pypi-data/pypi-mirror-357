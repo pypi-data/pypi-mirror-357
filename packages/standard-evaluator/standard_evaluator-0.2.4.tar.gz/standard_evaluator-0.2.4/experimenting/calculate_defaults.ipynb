{
 "cells": [
  {
   "cell_type": "code",
   "execution_count": 1,
   "metadata": {
    "metadata": {}
   },
   "outputs": [],
   "source": [
    "import numpy as np\n",
    "import standard_evaluator as se\n",
    "from pydantic import ValidationError"
   ]
  },
  {
   "cell_type": "code",
   "execution_count": 2,
   "metadata": {
    "metadata": {}
   },
   "outputs": [
    {
     "name": "stdout",
     "output_type": "stream",
     "text": [
      "name='x1' default=None bounds=(2.0, 5.0) shift=0.0 scale=1.0 units=None description='' options={} class_type='float'\n",
      "name='x1' default=3.5 bounds=(2.0, 5.0) shift=0.0 scale=1.0 units=None description='' options={} class_type='float'\n",
      "name='x2' default=4.0 bounds=(2.0, 5.0) shift=0.0 scale=1.0 units=None description='' options={} class_type='float'\n",
      "name='x2' default=3.5 bounds=(2.0, 5.0) shift=0.0 scale=1.0 units=None description='' options={} class_type='float'\n",
      "name='x3' default=4.0 bounds=(2.0, 5.0) shift=0.0 scale=1.0 units=None description='' options={} class_type='float'\n",
      "name='x3' default=4.0 bounds=(2.0, 5.0) shift=0.0 scale=1.0 units=None description='' options={} class_type='float'\n"
     ]
    }
   ],
   "source": [
    "x1 = se.FloatVariable(name='x1', bounds=[2.,5])\n",
    "print(x1)\n",
    "x1.calculate_default()\n",
    "print(x1)\n",
    "x2 = se.FloatVariable(name='x2', bounds=[2.,5], default=4.)\n",
    "print(x2)\n",
    "x2.calculate_default()\n",
    "print(x2)\n",
    "x3 = se.FloatVariable(name='x3', bounds=[2.,5], default=4.)\n",
    "print(x3)\n",
    "x3.calculate_default(overwrite=False)\n",
    "print(x3)\n"
   ]
  },
  {
   "cell_type": "code",
   "execution_count": 3,
   "metadata": {
    "metadata": {}
   },
   "outputs": [
    {
     "name": "stdout",
     "output_type": "stream",
     "text": [
      "name='x1' default=None bounds=(2, 5) shift=0 scale=1 units=None description='' options={} class_type='int'\n",
      "name='x1' default=3 bounds=(2, 5) shift=0 scale=1 units=None description='' options={} class_type='int'\n",
      "name='x2' default=4 bounds=(2, 5) shift=0 scale=1 units=None description='' options={} class_type='int'\n",
      "name='x2' default=3 bounds=(2, 5) shift=0 scale=1 units=None description='' options={} class_type='int'\n",
      "name='x3' default=4 bounds=(2, 5) shift=0 scale=1 units=None description='' options={} class_type='int'\n",
      "name='x3' default=4 bounds=(2, 5) shift=0 scale=1 units=None description='' options={} class_type='int'\n"
     ]
    }
   ],
   "source": [
    "x1 = se.IntVariable(name='x1', bounds=[2,5])\n",
    "print(x1)\n",
    "x1.calculate_default()\n",
    "print(x1)\n",
    "x2 = se.IntVariable(name='x2', bounds=[2,5], default=4)\n",
    "print(x2)\n",
    "x2.calculate_default()\n",
    "print(x2)\n",
    "x3 = se.IntVariable(name='x3', bounds=[2,5], default=4)\n",
    "print(x3)\n",
    "x3.calculate_default(overwrite=False)\n",
    "print(x3)\n"
   ]
  },
  {
   "cell_type": "code",
   "execution_count": 4,
   "metadata": {
    "metadata": {}
   },
   "outputs": [
    {
     "name": "stdout",
     "output_type": "stream",
     "text": [
      "name='array1' default=None bounds=(array([[  1.,   2.],\n",
      "       [-inf,   4.],\n",
      "       [  5.,   4.]]), array([[ 3.,  4.],\n",
      "       [ 6., inf],\n",
      "       [inf,  8.]])) shift=array([[0., 0.],\n",
      "       [0., 0.],\n",
      "       [0., 0.]]) scale=array([[1., 1.],\n",
      "       [1., 1.],\n",
      "       [1., 1.]]) units=None description='' options={} class_type='floatarray' shape=(3, 2)\n",
      "[[2. 3.]\n",
      " [6. 4.]\n",
      " [5. 6.]]\n",
      "name='array2' default=array([[1.3, 2.4],\n",
      "       [2.1, 4.6],\n",
      "       [5.9, 4.3]]) bounds=(array([[  1.,   2.],\n",
      "       [-inf,   4.],\n",
      "       [  5.,   4.]]), array([[ 3.,  4.],\n",
      "       [ 6., inf],\n",
      "       [inf,  8.]])) shift=array([[0., 0.],\n",
      "       [0., 0.],\n",
      "       [0., 0.]]) scale=array([[1., 1.],\n",
      "       [1., 1.],\n",
      "       [1., 1.]]) units=None description='' options={} class_type='floatarray' shape=(3, 2)\n",
      "[[2. 3.]\n",
      " [6. 4.]\n",
      " [5. 6.]]\n",
      "name='array3' default=array([[1.3, 2.4],\n",
      "       [2.1, 4.6],\n",
      "       [5.9, 4.3]]) bounds=(array([[  1.,   2.],\n",
      "       [-inf,   4.],\n",
      "       [  5.,   4.]]), array([[ 3.,  4.],\n",
      "       [ 6., inf],\n",
      "       [inf,  8.]])) shift=array([[0., 0.],\n",
      "       [0., 0.],\n",
      "       [0., 0.]]) scale=array([[1., 1.],\n",
      "       [1., 1.],\n",
      "       [1., 1.]]) units=None description='' options={} class_type='floatarray' shape=(3, 2)\n",
      "[[1.3 2.4]\n",
      " [2.1 4.6]\n",
      " [5.9 4.3]]\n"
     ]
    }
   ],
   "source": [
    "# Example lower and upper bound arrays\n",
    "lower_bound = np.array([[1, 2], [-np.inf, 4], [5, 4]])\n",
    "upper_bound = np.array([[3, 4], [6, np.inf], [np.inf, 8]])\n",
    "array1 = se.ArrayVariable(name=\"array1\", bounds=(lower_bound, upper_bound), shape=lower_bound.shape)\n",
    "print(array1)\n",
    "array1.calculate_default()\n",
    "print(array1.default)\n",
    "# Example lower and upper bound arrays\n",
    "default = np.array([[1.3, 2.4], [2.1, 4.6], [5.9, 4.3]])\n",
    "array2 = se.ArrayVariable(name=\"array2\", bounds=(lower_bound, upper_bound), default=default)\n",
    "print(array2)\n",
    "array2.calculate_default()\n",
    "print(array2.default)\n",
    "\n",
    "array3 = se.ArrayVariable(name=\"array3\", bounds=(lower_bound, upper_bound), default=default)\n",
    "print(array3)\n",
    "array3.calculate_default(overwrite=False)\n",
    "print(array3.default)\n"
   ]
  },
  {
   "cell_type": "code",
   "execution_count": 5,
   "metadata": {
    "metadata": {}
   },
   "outputs": [
    {
     "name": "stdout",
     "output_type": "stream",
     "text": [
      "name='cat1' default=None bounds=['x2', 'f3', 'f1>1'] shift=None scale=None units=None description='' options={} class_type='cat'\n",
      "name='cat1' default='x2' bounds=['x2', 'f3', 'f1>1'] shift=None scale=None units=None description='' options={} class_type='cat'\n",
      "name='cat2' default='f3' bounds=['x2', 'f3', 'f1>1'] shift=None scale=None units=None description='' options={} class_type='cat'\n",
      "name='cat2' default='x2' bounds=['x2', 'f3', 'f1>1'] shift=None scale=None units=None description='' options={} class_type='cat'\n",
      "name='cat3' default='f3' bounds=['x2', 'f3', 'f1>1'] shift=None scale=None units=None description='' options={} class_type='cat'\n",
      "name='cat3' default='f3' bounds=['x2', 'f3', 'f1>1'] shift=None scale=None units=None description='' options={} class_type='cat'\n"
     ]
    }
   ],
   "source": [
    "cat = se.CategoricalVariable(name=\"cat1\", bounds=[\"x2\", \"f3\", \"f1>1\"])\n",
    "print(cat)\n",
    "cat.calculate_default()\n",
    "print(cat)\n",
    "cat2 = se.CategoricalVariable(name=\"cat2\", bounds=[\"x2\", \"f3\", \"f1>1\"], default=\"f3\")\n",
    "print(cat2)\n",
    "cat2.calculate_default()\n",
    "print(cat2)\n",
    "cat3 = se.CategoricalVariable(name=\"cat3\", bounds=[\"x2\", \"f3\", \"f1>1\"], default=\"f3\")\n",
    "print(cat3)\n",
    "cat3.calculate_default(overwrite=False)\n",
    "print(cat3)\n"
   ]
  },
  {
   "cell_type": "code",
   "execution_count": 6,
   "metadata": {
    "metadata": {}
   },
   "outputs": [
    {
     "name": "stdout",
     "output_type": "stream",
     "text": [
      "name='opt' class_type='OptProblem' variables=[FloatVariable(name='x1', default=None, bounds=(2.0, 5.0), shift=0.0, scale=1.0, units=None, description='', options={}, class_type='float'), IntVariable(name='x2', default=None, bounds=(2, 5), shift=0, scale=1, units=None, description='', options={}, class_type='int'), CategoricalVariable(name='cat1', default=None, bounds=['x2', 'f3', 'f1>1'], shift=None, scale=None, units=None, description='', options={}, class_type='cat'), ArrayVariable(name='array1', default=None, bounds=(array([[  1.,   2.],\n",
      "       [-inf,   4.],\n",
      "       [  5.,   4.]]), array([[ 3.,  4.],\n",
      "       [ 6., inf],\n",
      "       [inf,  8.]])), shift=array([[0., 0.],\n",
      "       [0., 0.],\n",
      "       [0., 0.]]), scale=array([[1., 1.],\n",
      "       [1., 1.],\n",
      "       [1., 1.]]), units=None, description='', options={}, class_type='floatarray', shape=(3, 2))] responses=[FloatVariable(name='y1', default=None, bounds=(2.0, 5.0), shift=0.0, scale=1.0, units=None, description='', options={}, class_type='float'), IntVariable(name='y2', default=None, bounds=(2, 5), shift=0, scale=1, units=None, description='', options={}, class_type='int')] objectives=['y1'] constraints=['y2'] description=None cite=None options={}\n",
      "3.5\n",
      "3\n",
      "x2\n",
      "[[2. 3.]\n",
      " [6. 4.]\n",
      " [5. 6.]]\n"
     ]
    }
   ],
   "source": [
    "x1 = se.FloatVariable(name='x1', bounds=[2.,5])\n",
    "x2 = se.IntVariable(name='x2', bounds=[2,5])\n",
    "cat = se.CategoricalVariable(name=\"cat1\", bounds=[\"x2\", \"f3\", \"f1>1\"])\n",
    "array1 = se.ArrayVariable(name=\"array1\", bounds=(lower_bound, upper_bound), shape=lower_bound.shape)\n",
    "y1 = se.FloatVariable(name='y1', bounds=[2.,5])\n",
    "y2 = se.IntVariable(name='y2', bounds=[2,5])\n",
    "my_prob = se.OptProblem(name=\"opt\", variables=[x1, x2, cat, array1], responses=[y1, y2], objectives=['y1'], constraints=['y2'])\n",
    "#my_prob = se.OptProblem(name=\"opt\", variables=[x1, x2, cat], responses=[y1, y2], objectives=['y1'], constraints=['y2'])\n",
    "print(my_prob)\n",
    "my_prob.calculate_default()\n",
    "print(my_prob.variables[0].default)\n",
    "print(my_prob.variables[1].default)\n",
    "print(my_prob.variables[2].default)\n",
    "print(my_prob.variables[3].default)"
   ]
  },
  {
   "cell_type": "code",
   "execution_count": 7,
   "metadata": {
    "metadata": {}
   },
   "outputs": [
    {
     "data": {
      "text/plain": [
       "range(0, 3)"
      ]
     },
     "execution_count": 7,
     "metadata": {},
     "output_type": "execute_result"
    }
   ],
   "source": [
    "range(3)"
   ]
  },
  {
   "cell_type": "code",
   "execution_count": 8,
   "metadata": {
    "metadata": {}
   },
   "outputs": [
    {
     "name": "stdout",
     "output_type": "stream",
     "text": [
      "Validation error: 1 validation error for IntVariable\n",
      "default\n",
      "  Input should be a valid integer, unable to parse string as an integer [type=int_parsing, input_value='sd', input_type=str]\n",
      "    For further information visit https://errors.pydantic.dev/2.11/v/int_parsing\n",
      "name='opt' class_type='OptProblem' variables=[FloatVariable(name='x1', default=4.0, bounds=(2.0, 5.0), shift=0.0, scale=1.0, units=None, description='', options={}, class_type='float'), IntVariable(name='x2', default=3, bounds=(2, 5), shift=0, scale=1, units=None, description='', options={}, class_type='int'), CategoricalVariable(name='cat1', default='x2', bounds=['x2', 'f3', 'f1>1'], shift=None, scale=None, units=None, description='', options={}, class_type='cat'), ArrayVariable(name='array1', default=array([[2., 3.],\n",
      "       [6., 4.],\n",
      "       [5., 6.]]), bounds=(array([[  1.,   2.],\n",
      "       [-inf,   4.],\n",
      "       [  5.,   4.]]), array([[ 3.,  4.],\n",
      "       [ 6., inf],\n",
      "       [inf,  8.]])), shift=array([[0., 0.],\n",
      "       [0., 0.],\n",
      "       [0., 0.]]), scale=array([[1., 1.],\n",
      "       [1., 1.],\n",
      "       [1., 1.]]), units=None, description='', options={}, class_type='floatarray', shape=(3, 2))] responses=[FloatVariable(name='y1', default=None, bounds=(2.0, 5.0), shift=0.0, scale=1.0, units=None, description='', options={}, class_type='float'), IntVariable(name='y2', default=None, bounds=(2, 5), shift=0, scale=1, units=None, description='', options={}, class_type='int')] objectives=['y1'] constraints=['y2'] description=None cite=None options={}\n",
      "Validation error: 1 validation error for IntVariable\n",
      "default\n",
      "  Input should be a valid integer, unable to parse string as an integer [type=int_parsing, input_value='sd', input_type=str]\n",
      "    For further information visit https://errors.pydantic.dev/2.11/v/int_parsing\n",
      "name='opt' class_type='OptProblem' variables=[FloatVariable(name='x1', default=5.0, bounds=(2.0, 5.0), shift=0.0, scale=1.0, units=None, description='', options={}, class_type='float'), IntVariable(name='x2', default=3, bounds=(2, 5), shift=0, scale=1, units=None, description='', options={}, class_type='int'), CategoricalVariable(name='cat1', default='x2', bounds=['x2', 'f3', 'f1>1'], shift=None, scale=None, units=None, description='', options={}, class_type='cat'), ArrayVariable(name='array1', default=array([[2., 3.],\n",
      "       [6., 4.],\n",
      "       [5., 6.]]), bounds=(array([[  1.,   2.],\n",
      "       [-inf,   4.],\n",
      "       [  5.,   4.]]), array([[ 3.,  4.],\n",
      "       [ 6., inf],\n",
      "       [inf,  8.]])), shift=array([[0., 0.],\n",
      "       [0., 0.],\n",
      "       [0., 0.]]), scale=array([[1., 1.],\n",
      "       [1., 1.],\n",
      "       [1., 1.]]), units=None, description='', options={}, class_type='floatarray', shape=(3, 2))] responses=[FloatVariable(name='y1', default=None, bounds=(2.0, 5.0), shift=0.0, scale=1.0, units=None, description='', options={}, class_type='float'), IntVariable(name='y2', default=None, bounds=(2, 5), shift=0, scale=1, units=None, description='', options={}, class_type='int')] objectives=['y1'] constraints=['y2'] description=None cite=None options={}\n",
      "name='opt' class_type='OptProblem' variables=[FloatVariable(name='x1', default=4.0, bounds=(2.0, 5.0), shift=0.0, scale=1.0, units=None, description='', options={}, class_type='float'), IntVariable(name='x2', default=2, bounds=(2, 5), shift=0, scale=1, units=None, description='', options={}, class_type='int'), CategoricalVariable(name='cat1', default='f3', bounds=['x2', 'f3', 'f1>1'], shift=None, scale=None, units=None, description='', options={}, class_type='cat'), ArrayVariable(name='array1', default=array([[2., 3.],\n",
      "       [6., 4.],\n",
      "       [5., 6.]]), bounds=(array([[  1.,   2.],\n",
      "       [-inf,   4.],\n",
      "       [  5.,   4.]]), array([[ 3.,  4.],\n",
      "       [ 6., inf],\n",
      "       [inf,  8.]])), shift=array([[0., 0.],\n",
      "       [0., 0.],\n",
      "       [0., 0.]]), scale=array([[1., 1.],\n",
      "       [1., 1.],\n",
      "       [1., 1.]]), units=None, description='', options={}, class_type='floatarray', shape=(3, 2))] responses=[FloatVariable(name='y1', default=None, bounds=(2.0, 5.0), shift=0.0, scale=1.0, units=None, description='', options={}, class_type='float'), IntVariable(name='y2', default=None, bounds=(2, 5), shift=0, scale=1, units=None, description='', options={}, class_type='int')] objectives=['y1'] constraints=['y2'] description=None cite=None options={}\n"
     ]
    }
   ],
   "source": [
    "try:\n",
    "    my_prob.set_defaults({'x1': 4.0, 'x2': 'sd', 'cat1': 'f3'})\n",
    "except ValidationError as e:\n",
    "    print(\"Validation error:\", e)\n",
    "print(my_prob)\n",
    "try:\n",
    "    my_prob.set_defaults({'x2': 'sd', 'x1': 5.0, })\n",
    "except ValidationError as e:\n",
    "    print(\"Validation error:\", e)\n",
    "print(my_prob)\n",
    "try:\n",
    "    my_prob.set_defaults({'x1': 4.0, 'x2': 2, 'cat1': 'f3'})\n",
    "except ValidationError as e:\n",
    "    print(\"Validation error:\", e)\n",
    "print(my_prob)\n"
   ]
  }
 ],
 "metadata": {
  "kernelspec": {
   "display_name": "venv",
   "language": "python",
   "name": "python3"
  },
  "language_info": {
   "codemirror_mode": {
    "name": "ipython",
    "version": 3
   },
   "file_extension": ".py",
   "mimetype": "text/x-python",
   "name": "python",
   "nbconvert_exporter": "python",
   "pygments_lexer": "ipython3",
   "version": "3.11.9"
  }
 },
 "nbformat": 4,
 "nbformat_minor": 2
}
