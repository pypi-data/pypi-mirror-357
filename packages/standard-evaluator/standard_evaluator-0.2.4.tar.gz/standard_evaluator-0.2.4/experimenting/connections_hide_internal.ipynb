{
 "cells": [
  {
   "cell_type": "code",
   "execution_count": 1,
   "id": "acef51ce-e90f-43a3-9716-ecb16167b371",
   "metadata": {
    "metadata": {}
   },
   "outputs": [],
   "source": [
    "import typing\n",
    "import openmdao.api as om\n",
    "import openmdao.core.system as oms\n",
    "\n",
    "from standard_evaluator import get_interface, show_structure, create_problem, get_state, set_state, load_state, save_state\n",
    "from standard_evaluator import load_assembly, save_assembly, convert_om_var, get_opt_problem, set_opt_problem\n",
    "from standard_evaluator import Variable, FloatVariable, IntVariable, ArrayVariable, OptProblem"
   ]
  },
  {
   "cell_type": "markdown",
   "id": "763bdf4f-e824-456c-898f-1513dcff5e7c",
   "metadata": {},
   "source": [
    "As a first step fo this demonstration we generate an OpenMDAO assembly with wo sub-groups, one of which represents an aero analyses with two components. The first component is a stand-in for a geometry builder, and the second component is a stand-in for a Computational Fluid Dynamics component. There is a link between those two components which can be thought of as a large, multi-dimensional grid. In this example we are just using a 1-D array, but this can be thought of as a large three dimensional grid."
   ]
  },
  {
   "cell_type": "code",
   "execution_count": 2,
   "id": "d9bdb3c0",
   "metadata": {
    "metadata": {}
   },
   "outputs": [
    {
     "name": "stdout",
     "output_type": "stream",
     "text": [
      "14 Input(s) in 'model'\n",
      "\n",
      "varname     val                   shape   prom_name    \n",
      "----------  --------------------  ------  -------------\n",
      "sub1\n",
      "  z1\n",
      "    a       [1.]                  (1,)    a            \n",
      "    b       [1.]                  (1,)    sub1.my_alias\n",
      "    c       [1.]                  (1,)    sub1.z1.c    \n",
      "    d       [1.]                  (1,)    sub1.d       \n",
      "  z2\n",
      "    a       [1.]                  (1,)    sub1.z2.a    \n",
      "    b       [1.]                  (1,)    sub1.z2.b    \n",
      "    c       [4.]                  (1,)    sub1.c       \n",
      "    d       [1.]                  (1,)    sub1.d       \n",
      "aero\n",
      "  geometry\n",
      "    l       [1.]                  (1,)    aero.l       \n",
      "    q       [1.]                  (1,)    aero.q       \n",
      "    z       [1.]                  (1,)    aero.z       \n",
      "  cfd\n",
      "    grid    |28.28427125|         (200,)  aero.cfd.grid\n",
      "    k       [7.]                  (1,)    aero.k       \n",
      "    r       [1.]                  (1,)    aero.r       \n",
      "\n",
      "\n",
      "5 Explicit Output(s) in 'model'\n",
      "\n",
      "varname     val                   shape       prom_name         \n",
      "----------  --------------------  ----------  ------------------\n",
      "sub1\n",
      "  z1\n",
      "    y       [4.]                  (1,)        sub1.z1.y         \n",
      "  z2\n",
      "    v       [7.]                  (1,)        sub1.v            \n",
      "aero\n",
      "  geometry\n",
      "    bla     |200.0|               (200, 200)  aero.geometry.bla \n",
      "    grid    |28.28427125|         (200,)      aero.geometry.grid\n",
      "  cfd\n",
      "    drag    [0.407]               (1,)        aero.drag         \n",
      "\n",
      "\n",
      "0 Implicit Output(s) in 'model'\n",
      "\n",
      "\n"
     ]
    }
   ],
   "source": [
    "grid_size = 200\n",
    "\n",
    "class Sub1(om.Group):\n",
    "    def setup(self):\n",
    "        self.add_subsystem('z1', om.ExecComp(\"y = a + b + c + d\",\n",
    "                                            ),\n",
    "                           promotes_inputs=[\n",
    "                               'a',\n",
    "                               ('b', 'my_alias'),\n",
    "                               'd',\n",
    "                           ])\n",
    "\n",
    "        self.add_subsystem('z2', om.ExecComp(\"v = a + b + c + d\",\n",
    "                                            ),\n",
    "                           promotes_inputs=['c', 'd'],\n",
    "                           promotes_outputs=['*'])\n",
    "        self.connect('z1.y', 'c')\n",
    "\n",
    "class Aero(om.Group):\n",
    "    def setup(self):\n",
    "        self.add_subsystem('geometry', om.ExecComp([f\"grid = (q + z *l)*ones({grid_size})\", f\"bla = outer(ones({grid_size}), ones({grid_size}))\"], \n",
    "                    grid={'tags': 'internal', 'shape': (grid_size)},\n",
    "                    bla ={'tags': 'internal', 'shape': (grid_size, grid_size)}\n",
    "                    ),\n",
    "                    promotes_inputs=['q', 'z', 'l'])\n",
    "        self.add_subsystem('cfd', om.ExecComp(f\"drag = (inner(grid, ones({grid_size})) + r * k)/1000\", \n",
    "                    grid={'tags': 'internal', 'shape_by_conn': True},\n",
    "                    drag={'units': 'N'}),\n",
    "                    promotes_inputs=['r', 'k'],\n",
    "                    promotes_outputs=['drag'])\n",
    "        self.connect('geometry.grid', 'cfd.grid')\n",
    "\n",
    "\n",
    "class Intermediate3(om.Group):\n",
    "    def setup(self):\n",
    "        self.add_subsystem('sub1', Sub1(),\n",
    "            promotes_inputs=['a'])\n",
    "\n",
    "        self.add_subsystem('aero', Aero())\n",
    "        self.connect('sub1.v', 'aero.k')\n",
    "\n",
    "prob4 = om.Problem(model=Intermediate3())\n",
    "\n",
    "# Define an optimization problem\n",
    "prob4.model.add_design_var('a', lower=-50, upper=50, scaler= .1, adder=30.)\n",
    "prob4.model.add_design_var('sub1.my_alias', lower=-50, upper=50)\n",
    "prob4.model.add_objective('aero.drag')\n",
    "prob4.model.add_constraint('sub1.v', lower=0, upper=10.)\n",
    "prob4.model.add_constraint('sub1.z1.y', lower=-32.32, upper=1829.)\n",
    "#prob4.model.add_constraint('aero.geometry.bla', lower=-3., upper=45.)\n",
    "#prob4.model.add_constraint('aero.geometry.grid', lower=0, upper=10.)\n",
    "\n",
    "prob4.setup()\n",
    "prob4.final_setup()\n",
    "\n",
    "prob4.run_model()\n",
    "_ = prob4.model.list_inputs(shape=True)\n",
    "_ = prob4.model.list_outputs(shape=True)"
   ]
  },
  {
   "cell_type": "markdown",
   "id": "942d49a7",
   "metadata": {},
   "source": [
    "We can now take this OpenMDAO assembly and create a Pydantic description of this assembly using the `get_interface` method. This description can be easily saved to a JSON file, and we can also load the information from a JSON file. We also get the state of the OpenMDAO problem which will be saved in a different, binary HDF5 formatted file.\n",
    "\n",
    "In this example we actually create a new OpenMDAO model from the information, which we call `new_prob4`."
   ]
  },
  {
   "cell_type": "code",
   "execution_count": 3,
   "id": "d3bec7b1",
   "metadata": {
    "metadata": {}
   },
   "outputs": [
    {
     "name": "stdout",
     "output_type": "stream",
     "text": [
      "** This is a group, special handling needed for sub1 in group \n",
      "Adding z1 component\n",
      "Building Equation class z1\n",
      "Adding z2 component\n",
      "Building Equation class z2\n",
      "** This is a group, special handling needed for aero in group \n",
      "Adding geometry component\n",
      "Building Equation class geometry\n",
      "Adding cfd component\n",
      "Building Equation class cfd\n",
      "14 Input(s) in 'model'\n",
      "\n",
      "varname     val                   shape   prom_name    \n",
      "----------  --------------------  ------  -------------\n",
      "sub1\n",
      "  z1\n",
      "    a       [1.]                  (1,)    a            \n",
      "    b       [1.]                  (1,)    sub1.my_alias\n",
      "    c       [1.]                  (1,)    sub1.z1.c    \n",
      "    d       [1.]                  (1,)    sub1.d       \n",
      "  z2\n",
      "    a       [1.]                  (1,)    sub1.z2.a    \n",
      "    b       [1.]                  (1,)    sub1.z2.b    \n",
      "    c       [4.]                  (1,)    sub1.c       \n",
      "    d       [1.]                  (1,)    sub1.d       \n",
      "aero\n",
      "  geometry\n",
      "    l       [1.]                  (1,)    aero.l       \n",
      "    q       [1.]                  (1,)    aero.q       \n",
      "    z       [1.]                  (1,)    aero.z       \n",
      "  cfd\n",
      "    grid    |28.28427125|         (200,)  aero.cfd.grid\n",
      "    k       [7.]                  (1,)    aero.k       \n",
      "    r       [1.]                  (1,)    aero.r       \n",
      "\n",
      "\n"
     ]
    }
   ],
   "source": [
    "info = get_interface(prob4.model)\n",
    "state = get_state(prob4, info)\n",
    "new_prob4 = create_problem(info, state)\n",
    "_ = new_prob4.model.list_inputs(shape=True)"
   ]
  },
  {
   "cell_type": "code",
   "execution_count": 4,
   "id": "9a9c4483",
   "metadata": {
    "metadata": {}
   },
   "outputs": [
    {
     "data": {
      "text/plain": [
       "{'aero.cfd.grid': array([2., 2., 2., 2., 2., 2., 2., 2., 2., 2., 2., 2., 2., 2., 2., 2., 2.,\n",
       "        2., 2., 2., 2., 2., 2., 2., 2., 2., 2., 2., 2., 2., 2., 2., 2., 2.,\n",
       "        2., 2., 2., 2., 2., 2., 2., 2., 2., 2., 2., 2., 2., 2., 2., 2., 2.,\n",
       "        2., 2., 2., 2., 2., 2., 2., 2., 2., 2., 2., 2., 2., 2., 2., 2., 2.,\n",
       "        2., 2., 2., 2., 2., 2., 2., 2., 2., 2., 2., 2., 2., 2., 2., 2., 2.,\n",
       "        2., 2., 2., 2., 2., 2., 2., 2., 2., 2., 2., 2., 2., 2., 2., 2., 2.,\n",
       "        2., 2., 2., 2., 2., 2., 2., 2., 2., 2., 2., 2., 2., 2., 2., 2., 2.,\n",
       "        2., 2., 2., 2., 2., 2., 2., 2., 2., 2., 2., 2., 2., 2., 2., 2., 2.,\n",
       "        2., 2., 2., 2., 2., 2., 2., 2., 2., 2., 2., 2., 2., 2., 2., 2., 2.,\n",
       "        2., 2., 2., 2., 2., 2., 2., 2., 2., 2., 2., 2., 2., 2., 2., 2., 2.,\n",
       "        2., 2., 2., 2., 2., 2., 2., 2., 2., 2., 2., 2., 2., 2., 2., 2., 2.,\n",
       "        2., 2., 2., 2., 2., 2., 2., 2., 2., 2., 2., 2., 2.]),\n",
       " 'aero.k': array([7.]),\n",
       " 'aero.r': array([1.]),\n",
       " 'aero.l': array([1.]),\n",
       " 'aero.q': array([1.]),\n",
       " 'aero.z': array([1.]),\n",
       " 'a': array([1.]),\n",
       " 'sub1.my_alias': array([1.]),\n",
       " 'sub1.z1.c': array([1.]),\n",
       " 'sub1.d': array([1.]),\n",
       " 'sub1.z2.a': array([1.]),\n",
       " 'sub1.z2.b': array([1.]),\n",
       " 'sub1.c': array([4.]),\n",
       " 'aero.drag': array([0.407]),\n",
       " 'aero.geometry.bla': array([[1., 1., 1., ..., 1., 1., 1.],\n",
       "        [1., 1., 1., ..., 1., 1., 1.],\n",
       "        [1., 1., 1., ..., 1., 1., 1.],\n",
       "        ...,\n",
       "        [1., 1., 1., ..., 1., 1., 1.],\n",
       "        [1., 1., 1., ..., 1., 1., 1.],\n",
       "        [1., 1., 1., ..., 1., 1., 1.]]),\n",
       " 'aero.geometry.grid': array([2., 2., 2., 2., 2., 2., 2., 2., 2., 2., 2., 2., 2., 2., 2., 2., 2.,\n",
       "        2., 2., 2., 2., 2., 2., 2., 2., 2., 2., 2., 2., 2., 2., 2., 2., 2.,\n",
       "        2., 2., 2., 2., 2., 2., 2., 2., 2., 2., 2., 2., 2., 2., 2., 2., 2.,\n",
       "        2., 2., 2., 2., 2., 2., 2., 2., 2., 2., 2., 2., 2., 2., 2., 2., 2.,\n",
       "        2., 2., 2., 2., 2., 2., 2., 2., 2., 2., 2., 2., 2., 2., 2., 2., 2.,\n",
       "        2., 2., 2., 2., 2., 2., 2., 2., 2., 2., 2., 2., 2., 2., 2., 2., 2.,\n",
       "        2., 2., 2., 2., 2., 2., 2., 2., 2., 2., 2., 2., 2., 2., 2., 2., 2.,\n",
       "        2., 2., 2., 2., 2., 2., 2., 2., 2., 2., 2., 2., 2., 2., 2., 2., 2.,\n",
       "        2., 2., 2., 2., 2., 2., 2., 2., 2., 2., 2., 2., 2., 2., 2., 2., 2.,\n",
       "        2., 2., 2., 2., 2., 2., 2., 2., 2., 2., 2., 2., 2., 2., 2., 2., 2.,\n",
       "        2., 2., 2., 2., 2., 2., 2., 2., 2., 2., 2., 2., 2., 2., 2., 2., 2.,\n",
       "        2., 2., 2., 2., 2., 2., 2., 2., 2., 2., 2., 2., 2.]),\n",
       " 'sub1.z1.y': array([4.]),\n",
       " 'sub1.v': array([7.])}"
      ]
     },
     "execution_count": 4,
     "metadata": {},
     "output_type": "execute_result"
    }
   ],
   "source": [
    "state"
   ]
  },
  {
   "cell_type": "code",
   "execution_count": 5,
   "id": "6a51478b",
   "metadata": {
    "metadata": {}
   },
   "outputs": [
    {
     "name": "stdout",
     "output_type": "stream",
     "text": [
      "** This is a group, special handling needed for sub1 in group \n",
      "Adding z1 component\n",
      "Building Equation class z1\n",
      "Adding z2 component\n",
      "Building Equation class z2\n",
      "** This is a group, special handling needed for aero in group \n",
      "Adding geometry component\n",
      "Building Equation class geometry\n",
      "Translating set\n",
      "Translating set\n",
      "Adding cfd component\n",
      "Building Equation class cfd\n",
      "Translating set\n",
      "14 Input(s) in 'model'\n",
      "\n",
      "varname     val                   units  shape   prom_name    \n",
      "----------  --------------------  -----  ------  -------------\n",
      "sub1\n",
      "  z1\n",
      "    a       [1.]                  None   (1,)    a            \n",
      "    b       [1.]                  None   (1,)    sub1.my_alias\n",
      "    c       [1.]                  None   (1,)    sub1.z1.c    \n",
      "    d       [1.]                  None   (1,)    sub1.d       \n",
      "  z2\n",
      "    a       [1.]                  None   (1,)    sub1.z2.a    \n",
      "    b       [1.]                  None   (1,)    sub1.z2.b    \n",
      "    c       [4.]                  None   (1,)    sub1.c       \n",
      "    d       [1.]                  None   (1,)    sub1.d       \n",
      "aero\n",
      "  geometry\n",
      "    l       [1.]                  None   (1,)    aero.l       \n",
      "    q       [1.]                  None   (1,)    aero.q       \n",
      "    z       [1.]                  None   (1,)    aero.z       \n",
      "  cfd\n",
      "    grid    |28.28427125|         None   (200,)  aero.cfd.grid\n",
      "    k       [7.]                  None   (1,)    aero.k       \n",
      "    r       [1.]                  None   (1,)    aero.r       \n",
      "\n",
      "\n"
     ]
    }
   ],
   "source": [
    "# Saving the structure of the assembly and the state in files\n",
    "save_assembly(prob4, assembly_name='assembly.json', state_name='state.h5')\n",
    "\n",
    "# Now loading the structure and state from these files\n",
    "new_problem = load_assembly(assembly_name='assembly.json', state_name='state.h5')\n",
    "_ = new_problem.model.list_inputs(shape=True, units=True)"
   ]
  },
  {
   "cell_type": "markdown",
   "id": "fa03a0ad",
   "metadata": {},
   "source": [
    "We can now save the N2 diagram for both the original and the newly created OpenMDAO model."
   ]
  },
  {
   "cell_type": "code",
   "execution_count": 6,
   "id": "932ef0c7",
   "metadata": {
    "metadata": {}
   },
   "outputs": [],
   "source": [
    "om.n2(prob4, 'replace.html', display_in_notebook=False)\n",
    "om.n2(new_prob4, 'replace_after.html', display_in_notebook=False)"
   ]
  },
  {
   "cell_type": "markdown",
   "id": "ddcbc3a0",
   "metadata": {},
   "source": [
    "# Replacing a group with a Surrogate or simplified model\n",
    "In the next step we creata a new OpenMDAO component that we will want to use to replace the complex aero group in the original model with. In this example since we have two simple equations we can replace those two equations with a single equation where we substitute the first equation into the second equation. Note that because we used a simple way of creating the one dimensional grid and using the grid in the second formula we can calculate what the inner product of two vectors of length 20 with all ones in them is, which is 20.\n",
    "\n",
    "We then take this component and add it to an OpenMDAO `Problem` and run `setup()` to fully instantiate the problem.\n",
    "\n",
    "Note that this step could easily be replaced with a process where we take the original aero group, instantiate it as an OpenMDAO problem, run a Design of Experiment against it, and build a surrogate model which we can then expose as an OpenMDAO component. This is not part of the contract, but Boeing has some internal tools that demonstrate this process."
   ]
  },
  {
   "cell_type": "code",
   "execution_count": 7,
   "id": "78b6dba2",
   "metadata": {
    "metadata": {}
   },
   "outputs": [
    {
     "data": {
      "text/plain": [
       "<openmdao.core.problem.Problem at 0x2107116ef70>"
      ]
     },
     "execution_count": 7,
     "metadata": {},
     "output_type": "execute_result"
    }
   ],
   "source": [
    "class Surrogate(om.Group):\n",
    "    def setup(self):\n",
    "        self.add_subsystem('new', \n",
    "                om.ExecComp(\"drag = ((q + z *l)*20 + r * k)/1000\",\n",
    "                drag={'units': 'N'}),\n",
    "                promotes_inputs=['q', 'z', 'l', 'r', 'k'],\n",
    "                promotes_outputs=['drag'])\n",
    "\n",
    "\n",
    "\n",
    "prob_replace = om.Problem(model=Surrogate())\n",
    "prob_replace.setup()"
   ]
  },
  {
   "cell_type": "markdown",
   "id": "846bc05e",
   "metadata": {},
   "source": [
    "In the next step we get the Pydantic representation of the new surrogate using the `get_interface` method from the standard evaluator. We give it the same name as the component we are trying to replace."
   ]
  },
  {
   "cell_type": "code",
   "execution_count": 8,
   "id": "1c87cd80",
   "metadata": {
    "metadata": {}
   },
   "outputs": [],
   "source": [
    "surrogate_info = get_interface(prob_replace.model)\n",
    "surrogate_info.name = 'aero'\n",
    "#show_structure(surrogate_info)"
   ]
  },
  {
   "cell_type": "markdown",
   "id": "c674b27f",
   "metadata": {},
   "source": [
    "We can now replace the original group with the surrogate component / group in the Pydantic description."
   ]
  },
  {
   "cell_type": "code",
   "execution_count": 9,
   "id": "443904ed",
   "metadata": {
    "metadata": {}
   },
   "outputs": [],
   "source": [
    "info.components['aero'] = surrogate_info"
   ]
  },
  {
   "cell_type": "markdown",
   "id": "46199a55",
   "metadata": {},
   "source": [
    "Create a new OpenMDAO problem from the assembly information where the original 'aero' group is replaced by a simplified group / component."
   ]
  },
  {
   "cell_type": "code",
   "execution_count": 10,
   "id": "6efc7740",
   "metadata": {
    "metadata": {}
   },
   "outputs": [
    {
     "name": "stdout",
     "output_type": "stream",
     "text": [
      "** This is a group, special handling needed for sub1 in group \n",
      "Adding z1 component\n",
      "Building Equation class z1\n",
      "Adding z2 component\n",
      "Building Equation class z2\n",
      "** This is a group, special handling needed for aero in group \n",
      "Adding new component\n",
      "Building Equation class new\n"
     ]
    }
   ],
   "source": [
    "new_prob5 = create_problem(info)"
   ]
  },
  {
   "cell_type": "markdown",
   "id": "2e2cd721",
   "metadata": {},
   "source": [
    "We can now save the N2 diagram of the new OpenMDAO Problem."
   ]
  },
  {
   "cell_type": "code",
   "execution_count": 11,
   "id": "f72c0321",
   "metadata": {
    "metadata": {}
   },
   "outputs": [],
   "source": [
    "om.n2(new_prob5, 'replace_after_surrogate.html', display_in_notebook=False)"
   ]
  },
  {
   "cell_type": "markdown",
   "id": "7605e669",
   "metadata": {},
   "source": [
    "Finally, we are setting values for all inputs to the two different assemblies, and run both of them. You will notice that the calculated drag is the same for the two calculations."
   ]
  },
  {
   "cell_type": "code",
   "execution_count": 12,
   "id": "3898d275",
   "metadata": {
    "metadata": {}
   },
   "outputs": [
    {
     "name": "stdout",
     "output_type": "stream",
     "text": [
      "5 Explicit Output(s) in 'model'\n",
      "\n",
      "varname     val                  units  shape       prom_name         \n",
      "----------  -------------------  -----  ----------  ------------------\n",
      "sub1\n",
      "  z1\n",
      "    y       [66.]                None   (1,)        sub1.z1.y         \n",
      "  z2\n",
      "    v       [71.]                None   (1,)        sub1.v            \n",
      "aero\n",
      "  geometry\n",
      "    bla     |200.0|              None   (200, 200)  aero.geometry.bla \n",
      "    grid    |39668.69042457|     None   (200,)      aero.geometry.grid\n",
      "  cfd\n",
      "    drag    [561.426]            N      (1,)        aero.drag         \n",
      "\n",
      "\n",
      "0 Implicit Output(s) in 'model'\n",
      "\n",
      "\n"
     ]
    }
   ],
   "source": [
    "prob4.set_val('a', 34.)\n",
    "prob4.set_val('sub1.my_alias', 5)\n",
    "prob4.set_val('sub1.z1.c', 24.)\n",
    "prob4.set_val('sub1.d', 3.)\n",
    "prob4.set_val('sub1.c', 12.)\n",
    "prob4.set_val('aero.l', 400.)\n",
    "prob4.set_val('aero.q', 5.)\n",
    "prob4.set_val('aero.r', 6.)\n",
    "prob4.set_val('aero.z', 7.)\n",
    "prob4.run_model()\n",
    "_ = prob4.model.list_outputs(shape=True, units=True)"
   ]
  },
  {
   "cell_type": "code",
   "execution_count": 13,
   "id": "466cb59d",
   "metadata": {
    "metadata": {}
   },
   "outputs": [],
   "source": [
    "# We can get a Python dictionary with the current state of the problem using the `get_state` method\n",
    "local_dict = get_state(prob4, info)\n",
    "\n",
    "# We can also save the state using the `save_state` method. This saves the state in the industry standard hdf5 file format\n",
    "filename = 'data.h5'\n",
    "\n",
    "save_state(prob4, info, filename)\n",
    "\n",
    "\n",
    "# Load the state from the HDF5 file using the load_state helper method. Note that we need to capture the info from the new \n",
    "# instance so that variables and responses that were part of the old components are not seen anymore.\n",
    "new_info = get_interface(new_prob5.model)\n",
    "load_state(new_prob5, new_info, filename)\n",
    "\n",
    "# Note that we could also set the state using the dictionary that was created by the `get_state` method by using\n",
    "# the `set_state` method.\n"
   ]
  },
  {
   "cell_type": "code",
   "execution_count": 14,
   "id": "41f22fe8",
   "metadata": {
    "metadata": {}
   },
   "outputs": [
    {
     "name": "stdout",
     "output_type": "stream",
     "text": [
      "13 Input(s) in 'model'\n",
      "\n",
      "varname  val     units  shape  prom_name    \n",
      "-------  ------  -----  -----  -------------\n",
      "sub1\n",
      "  z1\n",
      "    a    [34.]   None   (1,)   a            \n",
      "    b    [5.]    None   (1,)   sub1.my_alias\n",
      "    c    [24.]   None   (1,)   sub1.z1.c    \n",
      "    d    [1.]    None   (1,)   sub1.d       \n",
      "  z2\n",
      "    a    [1.]    None   (1,)   sub1.z2.a    \n",
      "    b    [1.]    None   (1,)   sub1.z2.b    \n",
      "    c    [66.]   None   (1,)   sub1.c       \n",
      "    d    [1.]    None   (1,)   sub1.d       \n",
      "aero\n",
      "  new\n",
      "    k    [71.]   None   (1,)   aero.k       \n",
      "    l    [400.]  None   (1,)   aero.l       \n",
      "    q    [5.]    None   (1,)   aero.q       \n",
      "    r    [6.]    None   (1,)   aero.r       \n",
      "    z    [7.]    None   (1,)   aero.z       \n",
      "\n",
      "\n",
      "3 Explicit Output(s) in 'model'\n",
      "\n",
      "varname   val        units  shape  prom_name\n",
      "--------  ---------  -----  -----  ---------\n",
      "sub1\n",
      "  z1\n",
      "    y     [66.]      None   (1,)   sub1.z1.y\n",
      "  z2\n",
      "    v     [71.]      None   (1,)   sub1.v   \n",
      "aero\n",
      "  new\n",
      "    drag  [561.426]  N      (1,)   aero.drag\n",
      "\n",
      "\n",
      "0 Implicit Output(s) in 'model'\n",
      "\n",
      "\n"
     ]
    }
   ],
   "source": [
    "#new_prob5.run_model()\n",
    "_ = new_prob5.model.list_inputs(shape=True, units=True)\n",
    "_ = new_prob5.model.list_outputs(shape=True, units=True)"
   ]
  },
  {
   "cell_type": "code",
   "execution_count": 15,
   "id": "462a7850",
   "metadata": {
    "metadata": {}
   },
   "outputs": [
    {
     "data": {
      "text/plain": [
       "OptProblem(name='opt_problem', class_type='OptProblem', variables=[FloatVariable(name='a', default=None, bounds=(-50.0, 50.0), shift=30.0, scale=0.1, units=None, description='', options={'parallel_deriv_color': None}, class_type='float'), FloatVariable(name='sub1.my_alias', default=None, bounds=(-50.0, 50.0), shift=0.0, scale=1.0, units=None, description='', options={'parallel_deriv_color': None}, class_type='float')], responses=[FloatVariable(name='sub1.v', default=None, bounds=(0.0, 10.0), shift=0.0, scale=1.0, units=None, description='', options={'parallel_deriv_color': None}, class_type='float'), FloatVariable(name='sub1.z1.y', default=None, bounds=(-32.32, 1829.0), shift=0.0, scale=1.0, units=None, description='', options={'parallel_deriv_color': None}, class_type='float'), FloatVariable(name='aero.drag', default=None, bounds=(-inf, inf), shift=0.0, scale=1.0, units=None, description='', options={'parallel_deriv_color': None}, class_type='float')], objectives=['aero.drag'], constraints=['sub1.v', 'sub1.z1.y'], description=None, cite=None, options={})"
      ]
     },
     "execution_count": 15,
     "metadata": {},
     "output_type": "execute_result"
    }
   ],
   "source": [
    "opt_problem = get_opt_problem(prob4)\n",
    "opt_problem"
   ]
  },
  {
   "cell_type": "code",
   "execution_count": 16,
   "id": "76452516",
   "metadata": {
    "metadata": {}
   },
   "outputs": [
    {
     "data": {
      "text/plain": [
       "[FloatVariable(name='a', default=None, bounds=(-50.0, 50.0), shift=30.0, scale=0.1, units=None, description='', options={'parallel_deriv_color': None}, class_type='float'),\n",
       " FloatVariable(name='sub1.my_alias', default=None, bounds=(-50.0, 50.0), shift=0.0, scale=1.0, units=None, description='', options={'parallel_deriv_color': None}, class_type='float')]"
      ]
     },
     "execution_count": 16,
     "metadata": {},
     "output_type": "execute_result"
    }
   ],
   "source": [
    "opt_problem.variables"
   ]
  },
  {
   "cell_type": "code",
   "execution_count": 17,
   "id": "243f2d1a",
   "metadata": {
    "metadata": {}
   },
   "outputs": [
    {
     "name": "stdout",
     "output_type": "stream",
     "text": [
      "** This is a group, special handling needed for sub1 in group \n",
      "Adding z1 component\n",
      "Building Equation class z1\n",
      "Adding z2 component\n",
      "Building Equation class z2\n",
      "** This is a group, special handling needed for aero in group \n",
      "Adding geometry component\n",
      "Building Equation class geometry\n",
      "Adding cfd component\n",
      "Building Equation class cfd\n",
      "----------------\n",
      "Design Variables\n",
      "----------------\n",
      "name           val    size  lower  upper  adder  scaler  \n",
      "-------------  -----  ----  -----  -----  -----  ------ \n",
      "a              [3.1]  1     -2.0   8.0    30.0   0.1     \n",
      "sub1.my_alias  [1.]   1     -50.0  50.0   None   None    \n",
      "\n",
      "-----------\n",
      "Constraints\n",
      "-----------\n",
      "name       val   size  lower   upper   adder  scaler  \n",
      "---------  ----  ----  ------  ------  -----  ------ \n",
      "sub1.v     [1.]  1     0.0     10.0    None   None    \n",
      "sub1.z1.y  [1.]  1     -32.32  1829.0  None   None    \n",
      "\n",
      "----------\n",
      "Objectives\n",
      "----------\n",
      "name       val   size  adder  scaler  \n",
      "---------  ----  ----  -----  ------ \n",
      "aero.drag  [1.]  1     None   None    \n",
      "\n"
     ]
    }
   ],
   "source": [
    "clean_prob = create_problem(get_interface(prob4.model), opt_problem=opt_problem)\n",
    "#set_opt_problem(clean_prob, opt_problem)\n",
    "\n",
    "_ = clean_prob.list_driver_vars(show_promoted_name=True, desvar_opts=['lower', 'upper', 'adder', 'scaler'],\n",
    "                cons_opts=['lower', 'upper', 'adder', 'scaler'],\n",
    "                objs_opts=['adder', 'scaler'])"
   ]
  },
  {
   "cell_type": "code",
   "execution_count": 18,
   "id": "f1af43d6",
   "metadata": {
    "metadata": {}
   },
   "outputs": [],
   "source": [
    "import json\n",
    "optproblem_name = 'optproblem1.json'\n",
    "# Convert and write JSON object to file\n",
    "with open(optproblem_name, \"w\") as outfile:\n",
    "    json.dump(opt_problem.model_dump(exclude_unset=True), outfile, indent=2, skipkeys=True)\n"
   ]
  },
  {
   "cell_type": "code",
   "execution_count": 19,
   "id": "f1944045",
   "metadata": {
    "metadata": {}
   },
   "outputs": [
    {
     "data": {
      "text/plain": [
       "OptProblem(name='opt_problem', class_type='OptProblem', variables=[FloatVariable(name='a', default=None, bounds=(-50.0, 50.0), shift=30.0, scale=0.1, units=None, description='', options={'parallel_deriv_color': None}, class_type='float'), FloatVariable(name='sub1.my_alias', default=None, bounds=(-50.0, 50.0), shift=0.0, scale=1.0, units=None, description='', options={'parallel_deriv_color': None}, class_type='float')], responses=[FloatVariable(name='sub1.v', default=None, bounds=(0.0, 10.0), shift=0.0, scale=1.0, units=None, description='', options={'parallel_deriv_color': None}, class_type='float'), FloatVariable(name='sub1.z1.y', default=None, bounds=(-32.32, 1829.0), shift=0.0, scale=1.0, units=None, description='', options={'parallel_deriv_color': None}, class_type='float'), FloatVariable(name='aero.drag', default=None, bounds=(-inf, inf), shift=0.0, scale=1.0, units=None, description='', options={'parallel_deriv_color': None}, class_type='float')], objectives=['aero.drag'], constraints=['sub1.v', 'sub1.z1.y'], description=None, cite=None, options={})"
      ]
     },
     "execution_count": 19,
     "metadata": {},
     "output_type": "execute_result"
    }
   ],
   "source": [
    "import json_numpy\n",
    "with open(optproblem_name, \"r\") as infile:\n",
    "    info_dict = json_numpy.load(infile)\n",
    "    new_opt = OptProblem.model_validate(info_dict)\n",
    "new_opt"
   ]
  },
  {
   "cell_type": "code",
   "execution_count": 20,
   "id": "e82fe39e",
   "metadata": {
    "metadata": {}
   },
   "outputs": [
    {
     "data": {
      "text/plain": [
       "True"
      ]
     },
     "execution_count": 20,
     "metadata": {},
     "output_type": "execute_result"
    }
   ],
   "source": [
    "new_opt == opt_problem"
   ]
  }
 ],
 "metadata": {
  "kernelspec": {
   "display_name": "venv",
   "language": "python",
   "name": "python3"
  },
  "language_info": {
   "codemirror_mode": {
    "name": "ipython",
    "version": 3
   },
   "file_extension": ".py",
   "mimetype": "text/x-python",
   "name": "python",
   "nbconvert_exporter": "python",
   "pygments_lexer": "ipython3",
   "version": "3.9.7"
  }
 },
 "nbformat": 4,
 "nbformat_minor": 5
}
