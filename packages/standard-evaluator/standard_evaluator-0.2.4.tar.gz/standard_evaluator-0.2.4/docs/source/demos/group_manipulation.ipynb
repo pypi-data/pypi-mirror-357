{
 "cells": [
  {
   "cell_type": "markdown",
   "metadata": {},
   "source": [
    "## Part 2: Editing the OpenMDAO Assembly\n",
    "\n",
    "This is the second of three Jupyter Notebooks that show an example of the workflow pictured below:\n",
    "\n",
    "\n",
    "![Process showing separation of creation, editing, and use of MDAO models](workflow.drawio.svg)\n",
    "\n",
    "\n",
    "In this notebook engineer 2 is editing the assembly to remove the `characteristic_lenghts` component from it. This is done by editing the JSON file and creating a new JSON file that only has the definitions of the components needed to do the calculations.\n",
    "\n",
    "We also re-order the components to move the `nacelles` and `canard` component to the top of the assembly to demonstrate how easy it is to change the order of the components in the assembly.\n",
    "\n",
    "<div class=\"alert alert-block alert-info\">\n",
    "<b>Note:</b> In this example the manipulation of the Python dictionary that was created from the JSON file is very manual and not automated. This was just done to demonstrate the ability to edit the JSON directly. Automation in Python or any other language can be developed to make this easier and less error prone.\n",
    "</div>\n",
    "\n",
    "<div class=\"alert alert-block alert-info\">\n",
    "<b>Note:</b> For example, we could develop a GUI that creates the JSON file, or write a converter that takes the structure assembled in ModelCenter or even Cameo and then instantiate the OpenMDAO model from that. Demonstrating these ideas is not part of this contract.\n",
    "</div>\n",
    "\n",
    "We start by loading the JSON file. Note that we use the `json_numpy` library since we allow saving of NumPy arrays in a compressed format."
   ]
  },
  {
   "cell_type": "code",
   "execution_count": 4,
   "metadata": {
    "metadata": {}
   },
   "outputs": [],
   "source": [
    "import json_numpy\n",
    "import copy\n",
    "file_name = 'demo_group_NASA.json'\n",
    "with open(file_name, \"r\") as infile:\n",
    "    full_info = json_numpy.load(infile)"
   ]
  },
  {
   "cell_type": "markdown",
   "metadata": {},
   "source": [
    "In the next step we copy the dictionary with the information about the assembly, and then manipulate it. As mentioned before, this should be automated, right now this was manually implemented to remove the `characteristic_lengths` component from the assembly, including any references to its inputs or outputs. \n",
    "\n",
    "We also re-order the components in the `prep_geom` group."
   ]
  },
  {
   "cell_type": "code",
   "execution_count": 5,
   "metadata": {
    "metadata": {}
   },
   "outputs": [],
   "source": [
    "new_info = copy.deepcopy(full_info)\n",
    "# Delete the 'characteristic_lengths' component from the order list.\n",
    "del(new_info['components']['prep_geom']['component_order'][-2])\n",
    "# We also want to move the 'nacelles' and 'canard' components to the start of the assembly\n",
    "new_info['components']['prep_geom']['component_order'] =['nacelles', 'canard', 'fuselage_prelim', 'wing_prelim', 'prelim', 'wing', 'tail', 'fuselage', 'total_wetted_area']\n",
    "\n",
    "# We now also delete the 'characteristic_lengths' component completely from the assembly\n",
    "del(new_info['components']['prep_geom']['components']['characteristic_lengths'])\n",
    "# We also need to delete the promotions. Note that we have to do this both for the 'prep_geom' group and the overall model.\n",
    "del(new_info['components']['prep_geom']['promotions']['characteristic_lengths'])\n",
    "del(new_info['promotions']['prep_geom'][3])\n",
    "del(new_info['promotions']['prep_geom'][4])\n",
    "del(new_info['promotions']['prep_geom'][77:89])\n",
    "\n",
    "# Delete the entry in the linkage for a variable from 'characteristic_lenghts'\n",
    "del(new_info['components']['prep_geom']['linkage'][-1])\n",
    "# Delete the input variables for 'characteristic_lenghts'. \n",
    "del(new_info['components']['prep_geom']['inputs'][3])\n",
    "del(new_info['components']['prep_geom']['inputs'][3])\n",
    "del(new_info['inputs'][3])\n",
    "del(new_info['inputs'][3])\n",
    "# Delete the outputs from 'characteristic_lenghts'.\n",
    "del(new_info['outputs'][40])\n",
    "del(new_info['outputs'][1:13])\n",
    "del(new_info['components']['prep_geom']['outputs'][1:13])"
   ]
  },
  {
   "cell_type": "markdown",
   "metadata": {},
   "source": [
    "The final step of this part of the demonstration is to save the information in a new JSON file.\n",
    "\n",
    "<div class=\"alert alert-block alert-info\">\n",
    "<b>Note:</b> We added the `indent=4` option when writing the JSON file to make it more human readable. This will also make it easier to compare different versions of the file, although a comparison tool that understands JSON would be better for comparing the contents of multiple JSON files.\n",
    "</div>"
   ]
  },
  {
   "cell_type": "code",
   "execution_count": 6,
   "metadata": {
    "metadata": {}
   },
   "outputs": [],
   "source": [
    "new_file_name = \"after.json\"\n",
    "with open(new_file_name, \"w\") as outfile:\n",
    "        json_numpy.dump(new_info, outfile, indent=4)\n"
   ]
  }
 ],
 "metadata": {
  "kernelspec": {
   "display_name": "Python 3 (ipykernel)",
   "language": "python",
   "name": "python3"
  },
  "language_info": {
   "codemirror_mode": {
    "name": "ipython",
    "version": 3
   },
   "file_extension": ".py",
   "mimetype": "text/x-python",
   "name": "python",
   "nbconvert_exporter": "python",
   "pygments_lexer": "ipython3",
   "version": "3.11.9"
  }
 },
 "nbformat": 4,
 "nbformat_minor": 4
}
