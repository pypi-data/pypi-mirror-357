{
 "cells": [
  {
   "cell_type": "markdown",
   "metadata": {},
   "source": [
    "# Demonstration on how to use the programmatically defined options\n",
    "In this demonstration we show how to create a component and group that allow a user to programmatically define options. We also show how to access the default options of a component using the `required_options` class method, and the default options of a group using its `full_options` instance method once the group has been initialized.\n",
    "\n",
    "We finish the demo with showing how to get the current values of all the options required to set up a group using the `current_options` instance method."
   ]
  },
  {
   "cell_type": "code",
   "execution_count": 1,
   "metadata": {
    "metadata": {}
   },
   "outputs": [],
   "source": [
    "import numpy as np\n",
    "import pandas as pd\n",
    "import openmdao.api as om\n",
    "\n",
    "from standard_evaluator import StandardBase, StandardGroup, OptionsDictionaryUnit"
   ]
  },
  {
   "cell_type": "markdown",
   "metadata": {},
   "source": [
    "We start by defining the `Paraboloid` class which inherits from both the `StandardBase` class as well as from the `ExplicitComponent` class from OpenMDAO. Note that in the future this dual inheritance would not be required if this functionality is moved into OpenMDAO.\n",
    "\n",
    "We define the `_define_options` class method to define the required options for this class, which in this case is a single integer option with a default value of 40 and a lower bound of 1. In the `setup` method we then use this option to specify the dimension of the `x` input to the calculation. We also tell the system that the `x` input depends on the option `dimension`.\n",
    "\n",
    "Note that the order when defining dual inheritance is important. The `StandardBase` class must come first."
   ]
  },
  {
   "cell_type": "code",
   "execution_count": 6,
   "metadata": {
    "metadata": {}
   },
   "outputs": [],
   "source": [
    "class Paraboloid(StandardBase, om.ExplicitComponent):\n",
    "    \"\"\"\n",
    "    Evaluates the equation f(x,y) = (|x|-3)^2 + |x|y + (y+4)^2 - 3.\n",
    "    \"\"\"\n",
    "\n",
    "    @classmethod\n",
    "    def _define_options(cls) -> OptionsDictionaryUnit:\n",
    "        \"\"\"Abstract method that allows a developer to define information about the parameters this class uses.\n",
    "\n",
    "        This method is called by a class method that is adding options to the `class_options` option.\n",
    "\n",
    "        Returns:\n",
    "            OptionsDictionaryUnit -- The required options for this class, their default values, and, if required, their units.\n",
    "        \"\"\"\n",
    "        options = OptionsDictionaryUnit()\n",
    "        options.declare(\"dimensions\", default=40, lower=1, types=int)\n",
    "        return options\n",
    "\n",
    "    def setup(self):\n",
    "        \n",
    "        self.add_standard_input('x', val=np.ones(self.lookup_option_value(\"dimensions\")), options=[\"dimensions\"],\n",
    "            look_up=False,)\n",
    "        self.add_input('y', val=0.0)\n",
    "\n",
    "        self.add_output('f_xy', val=0.0)\n",
    "\n",
    "    def setup_partials(self):\n",
    "        # Finite difference all partials.\n",
    "        self.declare_partials('*', '*', method='fd')\n",
    "\n",
    "    def compute(self, inputs, outputs):\n",
    "        \"\"\"\n",
    "        f(x,y) = (x-3)^2 + xy + (y+4)^2 - 3\n",
    "\n",
    "        Minimum at: x = 6.6667; y = -7.3333\n",
    "        \"\"\"\n",
    "        x = inputs['x']\n",
    "        y = inputs['y']\n",
    "        print(f\"Dimension of x: {len(x)}\")\n",
    "        outputs['f_xy'] = (np.linalg.norm(x) - 3.0)**2 + np.linalg.norm(x) * y + (y + 4.0)**2 - 3.0"
   ]
  },
  {
   "cell_type": "markdown",
   "metadata": {},
   "source": [
    "Next we create a group which in this case only contains the `Paraboloid` component. Note that we have to inherit from both the `StandardGroup` as well as from the OpenMDAO `Group` class. Note that the order when defining dual inheritance is important. The `StandardGroup` class must come first. We also need to pass the `class_option` to the `Paraboliod` class when we add that as a subsystem."
   ]
  },
  {
   "cell_type": "code",
   "execution_count": 3,
   "metadata": {
    "metadata": {}
   },
   "outputs": [],
   "source": [
    "class MyGroup(StandardGroup, om.Group):\n",
    "    \"\"\"\n",
    "    Prepare derived values of aircraft geometry for aerodynamics analysis.\n",
    "    \"\"\"\n",
    "\n",
    "    def setup(self):\n",
    "        class_options = self.options[\"class_options\"]\n",
    "\n",
    "\n",
    "        self.add_subsystem(\n",
    "            \"parab_comp\",\n",
    "            Paraboloid(class_options=class_options),\n",
    "            promotes_inputs=[\"*\"],\n",
    "        )"
   ]
  },
  {
   "cell_type": "markdown",
   "metadata": {},
   "source": [
    "Afyer defining the component and the group within it we can show how we can leverage the new functionality.\n",
    "\n",
    "First, we will show that we can now programmatically get the required options of the `Paraboloid` class without needing to instantiate it. Calling the same method on the group even after instantiationg it does not return anything since the `setup` method has not been called, which means no components have been added to the group yet."
   ]
  },
  {
   "cell_type": "code",
   "execution_count": 5,
   "metadata": {
    "metadata": {}
   },
   "outputs": [
    {
     "name": "stdout",
     "output_type": "stream",
     "text": [
      "==========  =======  =================  ================  ===========  ========\n",
      "Option      Default  Acceptable Values  Acceptable Types  Description  Units   \n",
      "==========  =======  =================  ================  ===========  ========\n",
      "dimensions       40  N/A                ['int']                        unitless\n",
      "==========  =======  =================  ================  ===========  ========\n",
      "======  =======  =================  ================  ===========  =====\n",
      "Option  Default  Acceptable Values  Acceptable Types  Description  Units\n",
      "======  =======  =================  ================  ===========  =====\n",
      "                                                                        \n",
      "======  =======  =================  ================  ===========  =====\n"
     ]
    }
   ],
   "source": [
    "print(Paraboloid.required_options())\n",
    "model = MyGroup()\n",
    "print(model.required_options())"
   ]
  },
  {
   "cell_type": "markdown",
   "metadata": {},
   "source": [
    "Next we add the group to an OpenMDAO problem and run the `setup` method. Now things have been initalized, and the component has been added to the group. That means the group now knows the options required, and we can get them with the `full_options` method. After getting the options we can set the dimension to a value that is not the default. We can now instantiate the group with the modified options, and create an OpenMDAO problem. After again using the `setup` method we can show the options have been set correctly, and when we run the problem we see the output from the compute step showing the correct dimension of the variable `x`."
   ]
  },
  {
   "cell_type": "code",
   "execution_count": 7,
   "metadata": {
    "metadata": {}
   },
   "outputs": [
    {
     "name": "stdout",
     "output_type": "stream",
     "text": [
      "Looking up value for dimensions from the full options method\n",
      "{'dimensions'}\n",
      "{'dimensions'}\n",
      "==========  =======  =================  ================  ===========  ========\n",
      "Option      Default  Acceptable Values  Acceptable Types  Description  Units   \n",
      "==========  =======  =================  ================  ===========  ========\n",
      "dimensions       40  N/A                ['int']                        unitless\n",
      "==========  =======  =================  ================  ===========  ========\n",
      "==========  =======  =================  ================  ===========  ========\n",
      "Option      Default  Acceptable Values  Acceptable Types  Description  Units   \n",
      "==========  =======  =================  ================  ===========  ========\n",
      "dimensions      100  N/A                ['int']                        unitless\n",
      "==========  =======  =================  ================  ===========  ========\n",
      "Dimension of x: 100\n",
      "[606.]\n",
      "[3. 3. 3. 3. 3. 3. 3. 3. 3. 3. 3. 3. 3. 3. 3. 3. 3. 3. 3. 3. 3. 3. 3. 3.\n",
      " 3. 3. 3. 3. 3. 3. 3. 3. 3. 3. 3. 3. 3. 3. 3. 3. 3. 3. 3. 3. 3. 3. 3. 3.\n",
      " 3. 3. 3. 3. 3. 3. 3. 3. 3. 3. 3. 3. 3. 3. 3. 3. 3. 3. 3. 3. 3. 3. 3. 3.\n",
      " 3. 3. 3. 3. 3. 3. 3. 3. 3. 3. 3. 3. 3. 3. 3. 3. 3. 3. 3. 3. 3. 3. 3. 3.\n",
      " 3. 3. 3. 3.]\n"
     ]
    }
   ],
   "source": [
    "\n",
    "prob = om.Problem(model)\n",
    "prob.setup()\n",
    "\n",
    "my_options = model.full_options()\n",
    "my_options.set(dimensions=100)\n",
    "\n",
    "model = MyGroup(class_options=my_options)\n",
    "prob = om.Problem(model)\n",
    "prob.setup()\n",
    "print(model.full_options())\n",
    "print(model.current_options())\n",
    "\n",
    "\n",
    "prob.set_val('parab_comp.x', 3.0)\n",
    "prob.set_val('parab_comp.y', -4.0)\n",
    "\n",
    "prob.run_model()\n",
    "print(prob.get_val('parab_comp.f_xy'))\n",
    "print(prob.get_val('parab_comp.x'))\n"
   ]
  }
 ],
 "metadata": {
  "kernelspec": {
   "display_name": "venv",
   "language": "python",
   "name": "python3"
  },
  "language_info": {
   "codemirror_mode": {
    "name": "ipython",
    "version": 3
   },
   "file_extension": ".py",
   "mimetype": "text/x-python",
   "name": "python",
   "nbconvert_exporter": "python",
   "pygments_lexer": "ipython3",
   "version": "3.11.9"
  }
 },
 "nbformat": 4,
 "nbformat_minor": 2
}
