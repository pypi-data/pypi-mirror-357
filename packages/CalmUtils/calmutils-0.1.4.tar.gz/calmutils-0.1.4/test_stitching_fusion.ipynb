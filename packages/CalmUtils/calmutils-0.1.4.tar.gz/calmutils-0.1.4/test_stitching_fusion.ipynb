{
 "cells": [
  {
   "cell_type": "markdown",
   "metadata": {},
   "source": [
    "# Test Fusion on BigStitcher Example Data\n",
    "\n",
    "Here, we test the calm-utils image fusion code using the (already aligned) 3D dataset from BigStitcher: https://imagej.net/plugins/bigstitcher/#example-datasets"
   ]
  },
  {
   "cell_type": "code",
   "execution_count": null,
   "metadata": {},
   "outputs": [],
   "source": [
    "from xml.etree import ElementTree as et\n",
    "from pathlib import Path\n",
    "\n",
    "from h5py import File\n",
    "import numpy as np"
   ]
  },
  {
   "cell_type": "markdown",
   "metadata": {},
   "source": [
    "## Parse transforms from XML dataset definition"
   ]
  },
  {
   "cell_type": "code",
   "execution_count": null,
   "metadata": {},
   "outputs": [],
   "source": [
    "# path of XML dataset definition\n",
    "dataset = Path('/Users/david/Desktop/scratch_data/grid-3d-stitched-h5/dataset.xml')\n",
    "\n",
    "# wheter to preserve anisotropy (un-do scaling to isotropic coordinates)\n",
    "preserve_anisotropy = True\n",
    "\n",
    "# parse XML\n",
    "dataset_xml = et.parse(dataset)\n",
    "\n",
    "# get path of H5 data file (NOTE: we assume it is relative to XML)\n",
    "h5file = dataset.parent / dataset_xml.find('SequenceDescription/ImageLoader/hdf5').text\n",
    "\n",
    "transforms = {}\n",
    "\n",
    "for vr in dataset_xml.iterfind('./ViewRegistrations/'):\n",
    "\n",
    "    # (tp, setup) view id tuple\n",
    "    view_id = tuple(map(int, vr.attrib.values()))\n",
    "\n",
    "    # load and accumulate transforms\n",
    "    tr = np.eye(4)\n",
    "    for vt in vr.iterfind('ViewTransform/affine'):\n",
    "        tr_i = np.eye(4)\n",
    "        tr_i[:3] = np.fromstring(vt.text, sep=' ').reshape((3,4))\n",
    "        tr = tr @ tr_i\n",
    "    \n",
    "    # undo calibration scale to relative pixel sizes\n",
    "    # (we pre-concatenate inverse transform of the last transform in list := calibration)\n",
    "    if preserve_anisotropy:\n",
    "        tr = np.linalg.inv(tr_i) @ tr\n",
    "\n",
    "    # shuffle to zyx\n",
    "    tr = tr[:, [2,1,0,3]][[2,1,0,3]]\n",
    "\n",
    "    transforms[view_id] = tr"
   ]
  },
  {
   "cell_type": "markdown",
   "metadata": {},
   "source": [
    "## Load images from H5\n",
    "\n",
    "Here, we load image data (at full resolution) for all view ids we found in the XML dataset before:"
   ]
  },
  {
   "cell_type": "code",
   "execution_count": null,
   "metadata": {},
   "outputs": [],
   "source": [
    "from src.calmutils.misc.string_utils import pad\n",
    "\n",
    "images = {}\n",
    "\n",
    "with File(h5file) as reader:\n",
    "    for (tp, setup) in transforms.keys():\n",
    "        img = reader[f'/t{pad(tp, 5)}/s{pad(setup, 2)}/0/cells'][...]\n",
    "        images[(tp, setup)] = img\n"
   ]
  },
  {
   "cell_type": "markdown",
   "metadata": {},
   "source": [
    "### Visualize one image in napari"
   ]
  },
  {
   "cell_type": "code",
   "execution_count": null,
   "metadata": {},
   "outputs": [],
   "source": [
    "import napari\n",
    "\n",
    "if napari.current_viewer() is not None:\n",
    "    napari.current_viewer().close()\n",
    "\n",
    "napari.view_image(images[(0,0)])"
   ]
  },
  {
   "cell_type": "markdown",
   "metadata": {},
   "source": [
    "## Do Fusion"
   ]
  },
  {
   "cell_type": "code",
   "execution_count": null,
   "metadata": {},
   "outputs": [],
   "source": [
    "from src.calmutils.stitching.fusion import fuse_image_wrapper\n",
    "from src.calmutils.stitching.phase_correlation import get_axes_aligned_bbox\n",
    "\n",
    "# which view ids to fuse\n",
    "# 0-6: 6 tiles of first channel\n",
    "view_ids_to_fuse = [(0,s) for s in range(6)]\n",
    "\n",
    "# estimate bounding box based on transforms\n",
    "bbox = get_axes_aligned_bbox([images[k].shape for k in view_ids_to_fuse], [transforms[k] for k in view_ids_to_fuse])\n",
    "\n",
    "# to int and to list of (min, max) tuples\n",
    "bbox = (b.astype(int) for b in bbox)\n",
    "list(zip(*bbox))\n",
    "\n",
    "# fuse, set block size to something other than None to do multi-threaded\n",
    "fused = fuse_image_wrapper(bbox, [images[k] for k in view_ids_to_fuse], [transforms[k] for k in view_ids_to_fuse], block_size=(128,256,256), interpolation_mode='linear')"
   ]
  },
  {
   "cell_type": "markdown",
   "metadata": {},
   "source": [
    "### Visualize fusion results"
   ]
  },
  {
   "cell_type": "code",
   "execution_count": null,
   "metadata": {},
   "outputs": [],
   "source": [
    "if napari.current_viewer() is not None:\n",
    "    napari.current_viewer().close()\n",
    "\n",
    "napari.view_image(fused)"
   ]
  }
 ],
 "metadata": {
  "kernelspec": {
   "display_name": "anaconda-py39",
   "language": "python",
   "name": "python3"
  },
  "language_info": {
   "codemirror_mode": {
    "name": "ipython",
    "version": 3
   },
   "file_extension": ".py",
   "mimetype": "text/x-python",
   "name": "python",
   "nbconvert_exporter": "python",
   "pygments_lexer": "ipython3",
   "version": "3.9.15"
  }
 },
 "nbformat": 4,
 "nbformat_minor": 2
}
