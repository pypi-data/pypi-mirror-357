{
 "cells": [
  {
   "cell_type": "code",
   "execution_count": null,
   "metadata": {},
   "outputs": [],
   "source": [
    "import numpy as np\n",
    "from skimage.feature import peak_local_max\n",
    "\n",
    "img = np.random.rand(2000, 2000)\n",
    "\n",
    "# peaks = peak_local_max(img, threshold_abs=0, num_peaks=2000)\n",
    "\n",
    "# len(peaks)\n",
    "\n",
    "# ps = [np.ravel_multi_index(p, img.shape) for p in peaks]\n",
    "# img.flat[ps] > 0.5\n",
    "\n",
    "\n",
    "# img[peaks.T[0], peaks.T[1]].shape\n",
    "\n",
    "# img[tuple(map(list, peaks.T))].shape\n",
    "\n",
    "from src.calmutils.localization import detect_dog, refine_point\n",
    "\n",
    "\n",
    "peaks = detect_dog(img, 0, threshold_intensity=0.5, sigma=1, max_num_peaks=100)\n",
    "\n",
    "[refine_point(img, p) - p for p in peaks]\n",
    "# peaks"
   ]
  },
  {
   "cell_type": "code",
   "execution_count": null,
   "metadata": {},
   "outputs": [],
   "source": [
    "[1, 2, 3][slice(None, -1)]"
   ]
  },
  {
   "cell_type": "code",
   "execution_count": null,
   "metadata": {},
   "outputs": [],
   "source": [
    "from calmutils.misc.bounding_boxes import transpose_bboxes, minmax_to_minlen_bboxes\n",
    "\n",
    "mins = [0, 1, 2]\n",
    "maxs = [4, 5, 6]\n",
    "\n",
    "transpose_bboxes(*minmax_to_minlen_bboxes(mins, maxs))"
   ]
  },
  {
   "cell_type": "code",
   "execution_count": null,
   "metadata": {},
   "outputs": [],
   "source": [
    "from calmutils.stitching.tiling import centered_tiles, minmax_tiles\n",
    "\n",
    "centered_tiles([0,0], [1,1], 3, flip_axes=(1,))\n",
    "\n",
    "minmax_tiles([1, 1], [-1, -1], 1, flip_axes=(1,))"
   ]
  },
  {
   "cell_type": "code",
   "execution_count": null,
   "metadata": {},
   "outputs": [],
   "source": [
    "from matplotlib import pyplot as plt\n",
    "from calmutils.stitching.fusion.fadeout import get_sinusoidal_fadeout\n",
    "\n",
    "plt.imshow(get_sinusoidal_fadeout((50,50), 20))"
   ]
  },
  {
   "cell_type": "code",
   "execution_count": null,
   "metadata": {},
   "outputs": [],
   "source": [
    "a = [get_sinusoidal_fadeout((100,1000,1000), 20) for _ in range(10)]"
   ]
  }
 ],
 "metadata": {
  "kernelspec": {
   "display_name": "Python 3 (ipykernel)",
   "language": "python",
   "name": "python3"
  },
  "language_info": {
   "codemirror_mode": {
    "name": "ipython",
    "version": 3
   },
   "file_extension": ".py",
   "mimetype": "text/x-python",
   "name": "python",
   "nbconvert_exporter": "python",
   "pygments_lexer": "ipython3",
   "version": "3.13.4"
  }
 },
 "nbformat": 4,
 "nbformat_minor": 4
}
