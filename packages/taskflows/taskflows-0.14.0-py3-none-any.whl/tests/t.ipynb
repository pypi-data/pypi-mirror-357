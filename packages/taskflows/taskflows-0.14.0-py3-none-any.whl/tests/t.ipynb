{
 "cells": [
  {
   "cell_type": "code",
   "execution_count": 2,
   "metadata": {},
   "outputs": [],
   "source": [
    "from dataclasses import dataclass\n",
    "from typing import NewType\n",
    "\n",
    "@dataclass\n",
    "class A:\n",
    "    a: int\n",
    "    \n",
    "AA = NewType(\"AA\", A)"
   ]
  },
  {
   "cell_type": "code",
   "execution_count": 6,
   "metadata": {},
   "outputs": [
    {
     "ename": "TypeError",
     "evalue": "Cannot subclass an instance of NewType. Perhaps you were looking for: `B = NewType('B', AA)`",
     "output_type": "error",
     "traceback": [
      "\u001b[0;31m---------------------------------------------------------------------------\u001b[0m",
      "\u001b[0;31mTypeError\u001b[0m                                 Traceback (most recent call last)",
      "\u001b[1;32m/home/dan/repos-dev/task-flows/tests/t.ipynb Cell 2\u001b[0m line \u001b[0;36m1\n\u001b[0;32m----> <a href='vscode-notebook-cell://ssh-remote%2B10.0.0.3/home/dan/repos-dev/task-flows/tests/t.ipynb#W1sdnNjb2RlLXJlbW90ZQ%3D%3D?line=0'>1</a>\u001b[0m \u001b[39mclass\u001b[39;49;00m \u001b[39mB\u001b[39;49;00m(AA):\n\u001b[1;32m      <a href='vscode-notebook-cell://ssh-remote%2B10.0.0.3/home/dan/repos-dev/task-flows/tests/t.ipynb#W1sdnNjb2RlLXJlbW90ZQ%3D%3D?line=1'>2</a>\u001b[0m     \u001b[39mpass\u001b[39;49;00m\n",
      "File \u001b[0;32m~/mambaforge/envs/allsomojo/lib/python3.12/typing.py:3034\u001b[0m, in \u001b[0;36mNewType.__mro_entries__.<locals>.Dummy.__init_subclass__\u001b[0;34m(cls)\u001b[0m\n\u001b[1;32m   3032\u001b[0m \u001b[39mdef\u001b[39;00m \u001b[39m__init_subclass__\u001b[39m(\u001b[39mcls\u001b[39m):\n\u001b[1;32m   3033\u001b[0m     subclass_name \u001b[39m=\u001b[39m \u001b[39mcls\u001b[39m\u001b[39m.\u001b[39m\u001b[39m__name__\u001b[39m\n\u001b[0;32m-> 3034\u001b[0m     \u001b[39mraise\u001b[39;00m \u001b[39mTypeError\u001b[39;00m(\n\u001b[1;32m   3035\u001b[0m         \u001b[39mf\u001b[39m\u001b[39m\"\u001b[39m\u001b[39mCannot subclass an instance of NewType. Perhaps you were looking for: \u001b[39m\u001b[39m\"\u001b[39m\n\u001b[1;32m   3036\u001b[0m         \u001b[39mf\u001b[39m\u001b[39m\"\u001b[39m\u001b[39m`\u001b[39m\u001b[39m{\u001b[39;00msubclass_name\u001b[39m}\u001b[39;00m\u001b[39m = NewType(\u001b[39m\u001b[39m{\u001b[39;00msubclass_name\u001b[39m!r}\u001b[39;00m\u001b[39m, \u001b[39m\u001b[39m{\u001b[39;00msuperclass_name\u001b[39m}\u001b[39;00m\u001b[39m)`\u001b[39m\u001b[39m\"\u001b[39m\n\u001b[1;32m   3037\u001b[0m     )\n",
      "\u001b[0;31mTypeError\u001b[0m: Cannot subclass an instance of NewType. Perhaps you were looking for: `B = NewType('B', AA)`"
     ]
    }
   ],
   "source": [
    "class B(AA):\n",
    "    pass"
   ]
  },
  {
   "cell_type": "code",
   "execution_count": null,
   "metadata": {},
   "outputs": [],
   "source": []
  }
 ],
 "metadata": {
  "kernelspec": {
   "display_name": "allsomojo",
   "language": "python",
   "name": "python3"
  },
  "language_info": {
   "codemirror_mode": {
    "name": "ipython",
    "version": 3
   },
   "file_extension": ".py",
   "mimetype": "text/x-python",
   "name": "python",
   "nbconvert_exporter": "python",
   "pygments_lexer": "ipython3",
   "version": "3.12.0"
  }
 },
 "nbformat": 4,
 "nbformat_minor": 2
}
