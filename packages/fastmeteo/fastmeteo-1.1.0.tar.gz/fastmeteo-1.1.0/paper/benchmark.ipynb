{
 "cells": [
  {
   "cell_type": "code",
   "execution_count": 1,
   "metadata": {},
   "outputs": [],
   "source": [
    "import time\n",
    "import numpy as np\n",
    "import pandas as pd\n",
    "from tqdm import tqdm\n",
    "\n",
    "from fastmeteo import Grid\n",
    "\n",
    "from traffic.core import Traffic, Flight\n",
    "\n",
    "import warnings\n",
    "warnings.filterwarnings(\"ignore\")\n"
   ]
  },
  {
   "cell_type": "code",
   "execution_count": 2,
   "metadata": {},
   "outputs": [],
   "source": [
    "t = Traffic.from_file(\"data/eham_flights_benchmark.csv.gz\", parse_dates=True)\n",
    "t = t.assign(timestamp = pd.to_datetime(t.data.timestamp).dt.tz_convert(None))"
   ]
  },
  {
   "cell_type": "code",
   "execution_count": 4,
   "metadata": {},
   "outputs": [],
   "source": [
    "# define the location for local store\n",
    "fmg = Grid(local_store=\"/tmp/era5-zarr\")"
   ]
  },
  {
   "cell_type": "code",
   "execution_count": 4,
   "metadata": {},
   "outputs": [
    {
     "name": "stdout",
     "output_type": "stream",
     "text": [
      "(935765, 13)\n",
      "CPU times: user 19.2 s, sys: 26.4 s, total: 45.6 s\n",
      "Wall time: 6.98 s\n",
      "(468240, 13)\n",
      "CPU times: user 18.8 s, sys: 25.9 s, total: 44.7 s\n",
      "Wall time: 6.06 s\n",
      "(234473, 13)\n",
      "CPU times: user 18 s, sys: 25.2 s, total: 43.2 s\n",
      "Wall time: 5.34 s\n",
      "(156553, 13)\n",
      "CPU times: user 17.6 s, sys: 25 s, total: 42.6 s\n",
      "Wall time: 5.11 s\n",
      "(78628, 13)\n",
      "CPU times: user 17.9 s, sys: 25.3 s, total: 43.1 s\n",
      "Wall time: 5 s\n",
      "(39670, 13)\n",
      "CPU times: user 17.7 s, sys: 25 s, total: 42.8 s\n",
      "Wall time: 5.03 s\n",
      "(26692, 13)\n",
      "CPU times: user 17.9 s, sys: 25.4 s, total: 43.4 s\n",
      "Wall time: 5.03 s\n",
      "(16280, 13)\n",
      "CPU times: user 17.8 s, sys: 24.8 s, total: 42.6 s\n",
      "Wall time: 4.87 s\n",
      "(8505, 13)\n",
      "CPU times: user 17.4 s, sys: 25.2 s, total: 42.6 s\n",
      "Wall time: 4.84 s\n"
     ]
    }
   ],
   "source": [
    "for dt in [5, 10, 20, 30, 60, 120, 180, 300, 600]:\n",
    "    t_ = t.assign_id().filter().resample(f\"{dt}s\").eval(16)\n",
    "    print(t_.data.shape)\n",
    "    %time df_new = fmg.interpolate(t_.data)"
   ]
  },
  {
   "cell_type": "code",
   "execution_count": 5,
   "metadata": {},
   "outputs": [
    {
     "name": "stderr",
     "output_type": "stream",
     "text": [
      "100%|██████████| 715/715 [10:15<00:00,  1.16it/s]\n"
     ]
    }
   ],
   "source": [
    "t_ = t.assign_id().filter_position().resample(f\"15s\").cumulative_distance().eval(16)\n",
    "\n",
    "results=[]\n",
    "for f in tqdm(t_):\n",
    "    d = f.data\n",
    "    start = time.time()\n",
    "    try:\n",
    "        dnew = fmg.interpolate(d)\n",
    "    except:\n",
    "        continue\n",
    "    dt = time.time() - start\n",
    "    results.append({\n",
    "        \"flight_id\": f.flight_id,\n",
    "        \"dist\": f.cumdist_max,\n",
    "        \"runtime\": dt\n",
    "    })\n",
    "\n",
    "res = pd.DataFrame(results).to_csv(\"data/benchmark_results.csv\", index=False)"
   ]
  },
  {
   "cell_type": "code",
   "execution_count": 6,
   "metadata": {},
   "outputs": [],
   "source": [
    "res = pd.read_csv(\"data/benchmark_results.csv\")"
   ]
  },
  {
   "cell_type": "code",
   "execution_count": 7,
   "metadata": {},
   "outputs": [],
   "source": [
    "import matplotlib.pyplot as plt\n",
    "import seaborn as sns\n",
    "import matplotlib\n",
    "matplotlib.rc(\"font\", size=12)\n",
    "matplotlib.rc(\"font\", family=\"Ubuntu\")\n",
    "matplotlib.rc(\"lines\", linewidth=2, markersize=8)\n",
    "matplotlib.rc(\"grid\", color=\"darkgray\", linestyle=\":\")"
   ]
  },
  {
   "cell_type": "code",
   "execution_count": 8,
   "metadata": {},
   "outputs": [
    {
     "data": {
      "image/png": "[encoded data removed]",
      "text/plain": [
       "<Figure size 500x500 with 1 Axes>"
      ]
     },
     "metadata": {},
     "output_type": "display_data"
    }
   ],
   "source": [
    "df = res.query(\"dist<3000\")\n",
    "sns.displot(df, x=\"dist\", y=\"runtime\")\n",
    "plt.xlabel(\"flight distance (nm)\")\n",
    "plt.ylabel(\"computation time (s)\")\n",
    "plt.xlim(0, 2500)\n",
    "plt.ylim(0, 1.75)\n",
    "\n",
    "plt.tight_layout()\n",
    "plt.savefig(\n",
    "    f\"../paper/figures/benchmark_flight.png\",\n",
    "    bbox_inches=\"tight\",\n",
    "    pad_inches=0,\n",
    "    dpi=200,\n",
    ")\n",
    "plt.show()"
   ]
  }
 ],
 "metadata": {
  "kernelspec": {
   "display_name": "fastcontrail",
   "language": "python",
   "name": "python3"
  },
  "language_info": {
   "codemirror_mode": {
    "name": "ipython",
    "version": 3
   },
   "file_extension": ".py",
   "mimetype": "text/x-python",
   "name": "python",
   "nbconvert_exporter": "python",
   "pygments_lexer": "ipython3",
   "version": "3.11.6"
  }
 },
 "nbformat": 4,
 "nbformat_minor": 2
}
