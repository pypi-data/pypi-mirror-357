{
 "cells": [
  {
   "attachments": {},
   "cell_type": "markdown",
   "metadata": {},
   "source": [
    "# Matuszyńska 2016 (NPQ)\n",
    "\n",
    "https://doi.org/10.1016/j.bbabio.2016.09.003"
   ]
  },
  {
   "cell_type": "code",
   "execution_count": null,
   "metadata": {},
   "outputs": [],
   "source": [
    "import numpy as np\n",
    "import pandas as pd\n",
    "from mxlpy import Simulator, plot, unwrap\n",
    "\n",
    "from mxlbricks import get_matuszynska2016npq as get_model\n",
    "\n",
    "EPS = 1e-6\n",
    "\n",
    "model = get_model()\n",
    "res = unwrap(Simulator(model).simulate(100).get_result())\n",
    "\n",
    "fig, ax = plot.lines(res.get_variables(include_derived=False, include_readouts=False))\n",
    "ax.legend(loc=\"upper left\", bbox_to_anchor=(1, 1), ncols=1)\n",
    "\n",
    "if (\n",
    "    diff := np.linalg.norm(\n",
    "        pd.Series(model.variables) - pd.Series(res.get_new_y0()), ord=2\n",
    "    )\n",
    ") > EPS:\n",
    "    msg = f\"Diff between models too large: {diff}\"\n",
    "    raise ValueError(msg)"
   ]
  },
  {
   "cell_type": "code",
   "execution_count": null,
   "metadata": {},
   "outputs": [],
   "source": []
  }
 ],
 "metadata": {
  "kernelspec": {
   "display_name": "default",
   "language": "python",
   "name": "python3"
  },
  "language_info": {
   "codemirror_mode": {
    "name": "ipython",
    "version": 3
   },
   "file_extension": ".py",
   "mimetype": "text/x-python",
   "name": "python",
   "nbconvert_exporter": "python",
   "pygments_lexer": "ipython3",
   "version": "3.12.10"
  }
 },
 "nbformat": 4,
 "nbformat_minor": 2
}
