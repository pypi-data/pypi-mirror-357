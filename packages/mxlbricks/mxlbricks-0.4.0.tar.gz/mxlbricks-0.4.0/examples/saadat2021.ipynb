{
 "cells": [
  {
   "attachments": {},
   "cell_type": "markdown",
   "metadata": {},
   "source": [
    "## Saadat 2021\n",
    "\n",
    "https://doi.org/10.3389/fpls.2021.750580"
   ]
  },
  {
   "cell_type": "code",
   "execution_count": null,
   "metadata": {},
   "outputs": [],
   "source": [
    "import matplotlib.pyplot as plt\n",
    "import numpy as np\n",
    "import pandas as pd\n",
    "from mxlpy import Simulator, plot, scan, unwrap\n",
    "from mxlpy.integrators import Assimulo\n",
    "\n",
    "from mxlbricks import get_saadat2021 as get_model\n",
    "from mxlbricks import names as n\n",
    "\n",
    "EPS = 1e-6\n",
    "\n",
    "model = get_model()\n",
    "res = unwrap(Simulator(model, integrator=Assimulo).simulate(100).get_result())\n",
    "\n",
    "fig, ax = plot.lines(\n",
    "    res.get_variables(include_derived_variables=False, include_readouts=False)\n",
    ")\n",
    "ax.legend(loc=\"upper left\", bbox_to_anchor=(1, 1), ncols=2)\n",
    "plt.show()\n",
    "\n",
    "if (\n",
    "    diff := np.linalg.norm(\n",
    "        pd.Series(model.get_initial_conditions()) - pd.Series(res.get_new_y0()), ord=2\n",
    "    )\n",
    ") > EPS:\n",
    "    msg = f\"Diff between models too large: {diff}\"\n",
    "    raise ValueError(msg)"
   ]
  },
  {
   "cell_type": "markdown",
   "metadata": {},
   "source": [
    "## Light scan"
   ]
  },
  {
   "cell_type": "code",
   "execution_count": null,
   "metadata": {},
   "outputs": [],
   "source": [
    "import matplotlib.pyplot as plt\n",
    "import numpy as np\n",
    "import pandas as pd\n",
    "from mxlpy import Simulator, plot, unwrap\n",
    "from mxlpy.integrators import Assimulo\n",
    "\n",
    "from mxlbricks import get_saadat2021 as get_model\n",
    "\n",
    "res = scan.steady_state(\n",
    "    get_model(),\n",
    "    to_scan=pd.DataFrame({n.pfd(): np.linspace(100, 1500, 10)}),\n",
    ")\n",
    "res.variables[\"3PGA\"].plot()"
   ]
  }
 ],
 "metadata": {
  "kernelspec": {
   "display_name": "default",
   "language": "python",
   "name": "python3"
  },
  "language_info": {
   "codemirror_mode": {
    "name": "ipython",
    "version": 3
   },
   "file_extension": ".py",
   "mimetype": "text/x-python",
   "name": "python",
   "nbconvert_exporter": "python",
   "pygments_lexer": "ipython3",
   "version": "3.12.10"
  }
 },
 "nbformat": 4,
 "nbformat_minor": 2
}
