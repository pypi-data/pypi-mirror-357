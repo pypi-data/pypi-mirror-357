{
 "cells": [
  {
   "cell_type": "code",
   "execution_count": 1,
   "metadata": {},
   "outputs": [
    {
     "name": "stdout",
     "output_type": "stream",
     "text": [
      "(URN) connected to server\n",
      "Login sent with ID: e281ea62, copy this ID into the renderer to connect.\n"
     ]
    },
    {
     "name": "stderr",
     "output_type": "stream",
     "text": [
      "packet queue is empty, aborting\n"
     ]
    },
    {
     "name": "stdout",
     "output_type": "stream",
     "text": [
      "(URN) disconnected from server\n",
      "(URN) connected to server\n",
      "Login sent with ID: e281ea62, copy this ID into the renderer to connect.\n",
      "(URN) disconnected from server\n",
      "(URN) connected to server\n",
      "Login sent with ID: e281ea62, copy this ID into the renderer to connect.\n",
      "(URN) disconnected from server\n",
      "(URN) connected to server\n",
      "Login sent with ID: e281ea62, copy this ID into the renderer to connect.\n",
      "(URN) disconnected from server\n",
      "(URN) connected to server\n",
      "Login sent with ID: e281ea62, copy this ID into the renderer to connect.\n"
     ]
    }
   ],
   "source": [
    "import oursin as urchin\n",
    "urchin.setup()"
   ]
  },
  {
   "cell_type": "code",
   "execution_count": null,
   "metadata": {},
   "outputs": [],
   "source": []
  }
 ],
 "metadata": {
  "kernelspec": {
   "display_name": "oursin",
   "language": "python",
   "name": "python3"
  },
  "language_info": {
   "codemirror_mode": {
    "name": "ipython",
    "version": 3
   },
   "file_extension": ".py",
   "mimetype": "text/x-python",
   "name": "python",
   "nbconvert_exporter": "python",
   "pygments_lexer": "ipython3",
   "version": "3.11.5"
  }
 },
 "nbformat": 4,
 "nbformat_minor": 2
}
