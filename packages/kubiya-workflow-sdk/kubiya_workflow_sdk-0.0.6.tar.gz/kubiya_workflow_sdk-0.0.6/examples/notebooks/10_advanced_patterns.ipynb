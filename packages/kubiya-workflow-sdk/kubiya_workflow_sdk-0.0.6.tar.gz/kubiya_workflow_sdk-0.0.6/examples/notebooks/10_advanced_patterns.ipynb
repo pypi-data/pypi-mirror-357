{
  "cells": [
    {
      "cell_type": "code",
      "execution_count": null,
      "metadata": {
        "vscode": {
          "languageId": "plaintext"
        }
      },
      "outputs": [],
      "source": [
        "# Advanced Workflow Patterns\n",
        "\n",
        "This notebook demonstrates advanced patterns and best practices:\n",
        "- Dynamic workflow generation\n",
        "- Conditional branching and complex control flow\n",
        "- Event-driven workflows\n",
        "- Integration with external systems\n",
        "- Performance optimization techniques\n"
      ]
    },
    {
      "cell_type": "code",
      "execution_count": null,
      "metadata": {},
      "outputs": [],
      "source": [
        "import os\n",
        "from kubiya_workflow_sdk import workflow, step\n",
        "from kubiya_workflow_sdk.dsl import when, retry_policy\n",
        "import json\n",
        "\n",
        "api_key = os.getenv(\"KUBIYA_API_KEY\", \"test-key\")\n",
        "print(\"✅ SDK loaded for advanced patterns\")\n"
      ]
    },
    {
      "cell_type": "code",
      "execution_count": null,
      "metadata": {},
      "outputs": [],
      "source": [
        "# Example 1: Dynamic Workflow Generation\n",
        "def create_deployment_workflow(\n",
        "    app_name: str, \n",
        "    environments: list, \n",
        "    run_tests: bool = True,\n",
        "    notify_slack: bool = True\n",
        "):\n",
        "    \"\"\"Dynamically generate a deployment workflow based on parameters.\"\"\"\n",
        "    \n",
        "    wf = workflow(f\"deploy-{app_name}\")\n",
        "    wf.description(f\"Deploy {app_name} to {len(environments)} environments\")\n",
        "    \n",
        "    # Add build step\n",
        "    wf.step(\"build\", f\"docker build -t {app_name}:latest .\")\n",
        "    \n",
        "    # Conditionally add test step\n",
        "    if run_tests:\n",
        "        test_step = step(\"run-tests\", f\"docker run {app_name}:latest npm test\")\n",
        "        test_step.retry(2, 30)  # Retry tests up to 2 times\n",
        "        wf.data[\"steps\"].append(test_step.to_dict())\n",
        "    \n",
        "    # Deploy to each environment\n",
        "    for env in environments:\n",
        "        deploy_step = step(f\"deploy-{env}\", f\"kubectl apply -f k8s/{env}/\")\n",
        "        \n",
        "        # Add environment-specific configurations\n",
        "        if env == \"production\":\n",
        "            deploy_step.preconditions(\"${TEST_RESULT} == 'passed'\")\n",
        "            deploy_step.timeout(600)  # 10 minute timeout for prod\n",
        "        \n",
        "        wf.data[\"steps\"].append(deploy_step.to_dict())\n",
        "    \n",
        "    # Add notification step if enabled\n",
        "    if notify_slack:\n",
        "        wf.step(\n",
        "            \"notify-slack\",\n",
        "            f\"curl -X POST $SLACK_WEBHOOK -d '{\\\"text\\\":\\\"Deployed {app_name}!\\\"}'\"\n",
        "        )\n",
        "    \n",
        "    return wf\n",
        "\n",
        "# Generate workflows for different scenarios\n",
        "dev_workflow = create_deployment_workflow(\n",
        "    \"myapp\", \n",
        "    [\"dev\"], \n",
        "    run_tests=False,\n",
        "    notify_slack=False\n",
        ")\n",
        "\n",
        "prod_workflow = create_deployment_workflow(\n",
        "    \"myapp\",\n",
        "    [\"staging\", \"production\"],\n",
        "    run_tests=True,\n",
        "    notify_slack=True\n",
        ")\n",
        "\n",
        "print(\"📋 Dynamically generated workflows:\")\n",
        "print(f\"   Dev workflow: {len(dev_workflow.data['steps'])} steps\")\n",
        "print(f\"   Prod workflow: {len(prod_workflow.data['steps'])} steps\")\n"
      ]
    }
  ],
  "metadata": {
    "language_info": {
      "name": "python"
    }
  },
  "nbformat": 4,
  "nbformat_minor": 2
}
