{
 "cells": [
  {
   "cell_type": "markdown",
   "metadata": {},
   "source": [
    "# Full Capabilities Demo\n",
    "\n",
    "End-to-end showcase of workflow creation, validation and execution."
   ]
  },
  {
   "cell_type": "code",
   "metadata": {},
   "execution_count": null,
   "outputs": [],
   "source": [
    "from kubiya_workflow_sdk import workflow\n",
    "\n",
    "wf = (workflow(\"complex\")\n",
    "      .step(\"a\", \"echo a\")\n",
    "      .step(\"b\", \"echo b\"))"
   ]
  },
  {
   "cell_type": "code",
   "metadata": {},
   "execution_count": null,
   "outputs": [],
   "source": [
    "print(wf.to_dict())"
   ]
  }
 ],
 "metadata": {},
 "nbformat": 4,
 "nbformat_minor": 5
}
