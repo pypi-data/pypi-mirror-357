{
 "cells": [
  {
   "cell_type": "markdown",
   "metadata": {},
   "source": [
    "# Workflow Server\n",
    "\n",
    "Serve workflows with SSE streaming."
   ]
  },
  {
   "cell_type": "code",
   "execution_count": null,
   "metadata": {},
   "outputs": [],
   "source": [
    "from kubiya_workflow_sdk.server import WorkflowServer\n",
    "from kubiya_workflow_sdk import workflow\n",
    "\n",
    "# Create a workflow server with SSE streaming support\n",
    "print(\"🚀 Creating Workflow Server with SSE streaming...\")\n",
    "\n",
    "# Register some workflows\n",
    "workflows = {\n",
    "    \"data-pipeline\": (\n",
    "        workflow(\"data-pipeline\")\n",
    "        .description(\"ETL pipeline with streaming updates\")\n",
    "        .step(\"extract\", \"echo 'Extracting data...' && sleep 2\")\n",
    "        .step(\"transform\", \"echo 'Transforming data...' && sleep 2\")\n",
    "        .step(\"load\", \"echo 'Loading data...' && sleep 1\")\n",
    "    ),\n",
    "    \"health-check\": (\n",
    "        workflow(\"health-check\")\n",
    "        .description(\"System health check\")\n",
    "        .step(\"check-disk\", \"df -h\")\n",
    "        .step(\"check-memory\", \"free -m\")\n",
    "        .step(\"check-processes\", \"ps aux | head -10\")\n",
    "    )\n",
    "}\n",
    "\n",
    "try:\n",
    "    server = WorkflowServer(\n",
    "        title=\"Workflow Execution Server\",\n",
    "        description=\"Server with SSE streaming support\",\n",
    "        version=\"1.0.0\"\n",
    "    )\n",
    "    print(\"✅ Server created!\")\n",
    "    print(\"📡 SSE streaming enabled for real-time updates\")\n",
    "except Exception as e:\n",
    "    print(f\"ℹ️  Server in mock mode: {e}\")"
   ]
  },
  {
   "cell_type": "code",
   "execution_count": null,
   "metadata": {},
   "outputs": [],
   "source": [
    "# Example of SSE streaming in action\n",
    "print(\"\\n📡 SSE Streaming Example:\")\n",
    "print(\"\"\"\n",
    "When a client connects to the SSE endpoint, they receive real-time updates:\n",
    "\n",
    "GET /workflows/execute/stream?workflow=data-pipeline\n",
    "\n",
    "data: {\"type\": \"workflow_started\", \"workflow\": \"data-pipeline\"}\n",
    "data: {\"type\": \"step_running\", \"step\": \"extract\"}\n",
    "data: {\"output\": \"Extracting data...\"}\n",
    "data: {\"type\": \"step_finished\", \"step\": \"extract\"}\n",
    "data: {\"type\": \"step_running\", \"step\": \"transform\"}\n",
    "data: {\"output\": \"Transforming data...\"}\n",
    "data: {\"type\": \"step_finished\", \"step\": \"transform\"}\n",
    "data: {\"type\": \"workflow_finished\", \"status\": \"success\"}\n",
    "\"\"\")\n",
    "\n",
    "print(\"\\n🌐 Client-side JavaScript example:\")\n",
    "print(\"\"\"\n",
    "const evtSource = new EventSource('/workflows/execute/stream?workflow=data-pipeline');\n",
    "evtSource.onmessage = (event) => {\n",
    "    const data = JSON.parse(event.data);\n",
    "    console.log('Workflow update:', data);\n",
    "};\n",
    "\"\"\")\n",
    "\n",
    "print(\"\\n✅ SSE workflow server example complete!\")"
   ]
  }
 ],
 "metadata": {
  "language_info": {
   "name": "python"
  }
 },
 "nbformat": 4,
 "nbformat_minor": 5
}
