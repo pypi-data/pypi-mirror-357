{
  "cells": [
    {
      "cell_type": "code",
      "execution_count": null,
      "metadata": {
        "vscode": {
          "languageId": "plaintext"
        }
      },
      "outputs": [],
      "source": [
        "# AI-Powered Workflow Generation with ADK Provider\n",
        "\n",
        "This notebook demonstrates the advanced AI capabilities of the Kubiya Workflow SDK using the ADK (Agent Development Kit) provider.\n",
        "\n",
        "## What You'll Learn\n",
        "\n",
        "- Generate complex workflows from natural language descriptions\n",
        "- Use different generation modes (plan vs act)\n",
        "- Stream generation and execution events\n",
        "- Customize AI behavior with context and constraints\n",
        "- Handle different types of workflows (DevOps, Data, Security, etc.)\n",
        "\n",
        "## Prerequisites\n",
        "\n",
        "```bash\n",
        "pip install kubiya-workflow-sdk[adk]\n",
        "export KUBIYA_API_KEY=\"your-key\"\n",
        "export TOGETHER_API_KEY=\"your-key\"\n",
        "```\n"
      ]
    }
  ],
  "metadata": {
    "language_info": {
      "name": "python"
    }
  },
  "nbformat": 4,
  "nbformat_minor": 2
}
